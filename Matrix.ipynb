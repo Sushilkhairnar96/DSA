{
 "cells": [
  {
   "cell_type": "code",
   "execution_count": 3,
   "metadata": {},
   "outputs": [
    {
     "data": {
      "text/plain": [
       "6"
      ]
     },
     "execution_count": 3,
     "metadata": {},
     "output_type": "execute_result"
    }
   ],
   "source": [
    "#LC1252. Cells with Odd Values in a Matrix\n",
    "'''\n",
    "Given n and m which are the dimensions of a matrix initialized by zeros and given an array indices where \n",
    "indices[i] = [ri, ci]. For each pair of [ri, ci] you have to increment all cells in row ri and column ci by 1.\n",
    "\n",
    "Return the number of cells with odd values in the matrix after applying the increment to all indices.\n",
    "\n",
    "'''\n",
    "'''\n",
    "ans= [[0 for j in range(m)] for i in range(n)]\n",
    "for r,c in indices:\n",
    "    for i in range(m):\n",
    "        ans[r][i]+=1\n",
    "    for j in range(n):\n",
    "        ans[j][c]+=1\n",
    "print(ans)\n",
    "return sum([1 for row in ans for elem in row if elem%2 != 0])\n",
    "'''\n",
    "n = 2; m = 3; indices = [[0,1],[1,1]]\n",
    "row=[0]*n\n",
    "col=[0]*m\n",
    "count=0\n",
    "for i,j in indices:\n",
    "    row[i]= row[i]^1\n",
    "    col[j]=col[j]^1\n",
    "\n",
    "for i in range(n):\n",
    "    for j in range(m):\n",
    "        if row[i]^col[j]==1:\n",
    "            count+=1\n",
    "count\n"
   ]
  },
  {
   "cell_type": "code",
   "execution_count": null,
   "metadata": {},
   "outputs": [],
   "source": []
  }
 ],
 "metadata": {
  "kernelspec": {
   "display_name": "Python 3",
   "language": "python",
   "name": "python3"
  },
  "language_info": {
   "codemirror_mode": {
    "name": "ipython",
    "version": 3
   },
   "file_extension": ".py",
   "mimetype": "text/x-python",
   "name": "python",
   "nbconvert_exporter": "python",
   "pygments_lexer": "ipython3",
   "version": "3.7.3"
  }
 },
 "nbformat": 4,
 "nbformat_minor": 2
}
