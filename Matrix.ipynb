{
 "cells": [
  {
   "cell_type": "code",
   "execution_count": 30,
   "metadata": {},
   "outputs": [
    {
     "name": "stdout",
     "output_type": "stream",
     "text": [
      "[1, 0] [0, 1, 0]\n",
      "[1, 1] [0, 0, 0]\n"
     ]
    },
    {
     "data": {
      "text/plain": [
       "6"
      ]
     },
     "execution_count": 30,
     "metadata": {},
     "output_type": "execute_result"
    }
   ],
   "source": [
    "#LC1252. Cells with Odd Values in a Matrix\n",
    "'''\n",
    "Given n and m which are the dimensions of a matrix initialized by zeros and given an array indices where \n",
    "indices[i] = [ri, ci]. For each pair of [ri, ci] you have to increment all cells in row ri and column ci by 1.\n",
    "\n",
    "Return the number of cells with odd values in the matrix after applying the increment to all indices.\n",
    "\n",
    "Input: n = 2, m = 3, indices = [[0,1],[1,1]]\n",
    "Output: 6\n",
    "Explanation: Initial matrix = [[0,0,0],[0,0,0]].\n",
    "After applying first increment it becomes [[1,2,1],[0,1,0]].\n",
    "The final matrix will be [[1,3,1],[1,3,1]] which contains 6 odd numbers.\n",
    "'''\n",
    "'''\n",
    "ans= [[0 for j in range(m)] for i in range(n)]\n",
    "for r,c in indices:\n",
    "    for row in range(n):\n",
    "        ans[row][c]+=1\n",
    "        \n",
    "    for col in range(m):\n",
    "        ans[r][col]+=1\n",
    "print(ans)\n",
    "return sum([1 for row in ans for elem in row if elem%2 != 0])\n",
    "'''\n",
    "n = 2; m = 3; indices = [[0,1],[1,1]]\n",
    "row=[0]*n\n",
    "col=[0]*m\n",
    "count=0\n",
    "for i,j in indices:\n",
    "    row[i]= row[i]^1\n",
    "    col[j]=col[j]^1\n",
    "    print(row,col)\n",
    "for i in range(n):\n",
    "    for j in range(m):\n",
    "        if row[i]^col[j]==1:\n",
    "            count+=1\n",
    "count\n"
   ]
  },
  {
   "cell_type": "code",
   "execution_count": 31,
   "metadata": {},
   "outputs": [
    {
     "data": {
      "text/plain": [
       "8"
      ]
     },
     "execution_count": 31,
     "metadata": {},
     "output_type": "execute_result"
    }
   ],
   "source": [
    "#LC 1351. Count Negative Numbers in a Sorted Matrix\n",
    "'''\n",
    "Given a m * n matrix grid which is sorted in non-increasing order both row-wise and column-wise. \n",
    "\n",
    "Return the number of negative numbers in grid.\n",
    "\n",
    " \n",
    "\n",
    "Example 1:\n",
    "\n",
    "Input: grid = [[4,3,2,-1],[3,2,1,-1],[1,1,-1,-2],[-1,-1,-2,-3]]\n",
    "Output: 8\n",
    "Explanation: There are 8 negatives number in the matrix.\n",
    "'''\n",
    "def countNegatives(grid) -> int:\n",
    "    '''\n",
    "    count=0\n",
    "    for r in range(len(grid)):\n",
    "        for c in range(len(grid[0])):\n",
    "            if grid[r][c]<0:\n",
    "                count+=1\n",
    "    return count\n",
    "    '''\n",
    "    '''\n",
    "    m=len(grid)\n",
    "    n=len(grid[0])\n",
    "    count=0\n",
    "    for r in range(m):\n",
    "        for c in range(n):\n",
    "            if grid[r][c]<0:\n",
    "                count+=(n-c)\n",
    "                break\n",
    "    return count\n",
    "    '''\n",
    "    def binary(row):\n",
    "        l,r=0,len(row)\n",
    "        while l<r:\n",
    "            mid=l+(r-l)//2\n",
    "            if row[mid]<0:\n",
    "                r=mid\n",
    "            else:\n",
    "                l=mid+1\n",
    "        return len(row)- l\n",
    "    \n",
    "    count = 0\n",
    "    for row in grid:\n",
    "        count += binary(row)\n",
    "    return(count)\n",
    "\n",
    "grid = [[4,3,2,-1],[3,2,1,-1],[1,1,-1,-2],[-1,-1,-2,-3]]\n",
    "countNegatives(grid)"
   ]
  },
  {
   "cell_type": "code",
   "execution_count": 1,
   "metadata": {},
   "outputs": [
    {
     "data": {
      "text/plain": [
       "[[1, 4, 7], [2, 5, 8], [3, 6, 9]]"
      ]
     },
     "execution_count": 1,
     "metadata": {},
     "output_type": "execute_result"
    }
   ],
   "source": [
    "#LC867. Transpose Matrix\n",
    "'''\n",
    "#1.\n",
    "\n",
    "m=len(A)\n",
    "n=len(A[0])\n",
    "mat=[]\n",
    "\n",
    "for c in range(n):\n",
    "    tmp=[]\n",
    "    for r in range(m):\n",
    "        tmp.append(A[c][r])\n",
    "    mat.append(tmp)\n",
    "return mat\n",
    "\n",
    "#2.  return zip(*A)\n",
    "\n",
    "#zip aggregate elements in the parameter list\n",
    "#*M unpack the original input list M into multiple sublists(rows)\n",
    "#so zip(*M) essentially transpose the matrix\n",
    "'''\n",
    "A=[[1,2,3],[4,5,6],[7,8,9]]\n",
    "[[A[i][j] for i in range(len(A))] for j in range(len(A[0]))]"
   ]
  },
  {
   "cell_type": "code",
   "execution_count": 2,
   "metadata": {},
   "outputs": [
    {
     "data": {
      "text/plain": [
       "[15]"
      ]
     },
     "execution_count": 2,
     "metadata": {},
     "output_type": "execute_result"
    }
   ],
   "source": [
    "#LC1380. Lucky Numbers in a Matrix\n",
    "'''\n",
    "Given a m * n matrix of distinct numbers, return all lucky numbers in the matrix in any order.\n",
    "\n",
    "A lucky number is an element of the matrix such that it is the minimum element in its row and maximum in its column.\n",
    "\n",
    "Input: matrix = [[3,7,8],[9,11,13],[15,16,17]]\n",
    "Output: [15]\n",
    "Explanation: 15 is the only lucky number since it is the minimum in its row and the maximum in its column\n",
    "'''\n",
    "\n",
    "'''\n",
    "row_min=[]\n",
    "col_max=[]\n",
    "\n",
    "for i in range(len(matrix)):\n",
    "    smallest=float('inf')\n",
    "    for j in range(len(matrix[0])):\n",
    "        if matrix[i][j]<smallest:\n",
    "            smallest=matrix[i][j]\n",
    "    row_min.append(smallest)       \n",
    "\n",
    "for i in range(len(matrix[0])):\n",
    "    largest=-float('inf')\n",
    "    for j in range(len(matrix)):\n",
    "        if matrix[j][i]>largest:\n",
    "            largest=matrix[j][i]\n",
    "    col_max.append(largest)\n",
    "\n",
    "return list(set(row_min) & set(col_max))\n",
    "#return [matrix[i][j] for i in range(len(matrix)) for j in range(len(matrix[0])) if rmin[i] == cmax[j]]\n",
    "'''\n",
    "matrix = [[3,7,8],[9,11,13],[15,16,17]]\n",
    "rmin = [min(x) for x in matrix]\n",
    "cmax = [max(x) for x in zip(*matrix)]\n",
    "[matrix[i][j] for i in range(len(matrix)) for j in range(len(matrix[0])) if rmin[i] == cmax[j]]"
   ]
  },
  {
   "cell_type": "code",
   "execution_count": 3,
   "metadata": {},
   "outputs": [
    {
     "data": {
      "text/plain": [
       "[[15, 9, 3], [16, 11, 7], [17, 13, 8]]"
      ]
     },
     "execution_count": 3,
     "metadata": {},
     "output_type": "execute_result"
    }
   ],
   "source": [
    "#48. Rotate Image\n",
    "'''\n",
    "You are given an n x n 2D matrix representing an image.\n",
    "\n",
    "Rotate the image by 90 degrees (clockwise).\n",
    "\n",
    "Note:\n",
    "\n",
    "You have to rotate the image in-place, which means you have to modify the input 2D matrix directly.\n",
    "DO NOT allocate another 2D matrix and do the rotation.\n",
    "\n",
    "Example 1:\n",
    "\n",
    "Given input matrix = \n",
    "[\n",
    "  [1,2,3],\n",
    "  [4,5,6],\n",
    "  [7,8,9]\n",
    "],\n",
    "\n",
    "rotate the input matrix in-place such that it becomes:\n",
    "[\n",
    "  [7,4,1],\n",
    "  [8,5,2],\n",
    "  [9,6,3]\n",
    "]\n",
    "'''\n",
    "n=len(matrix)\n",
    "for i in range(n):\n",
    "    for j in range(n):\n",
    "        if i<j:\n",
    "            matrix[i][j],matrix[j][i]= matrix[j][i],matrix[i][j]\n",
    "for i in range(n):\n",
    "    matrix[i] = matrix[i][::-1]\n",
    "matrix"
   ]
  },
  {
   "cell_type": "code",
   "execution_count": 4,
   "metadata": {},
   "outputs": [
    {
     "data": {
      "text/plain": [
       "True"
      ]
     },
     "execution_count": 4,
     "metadata": {},
     "output_type": "execute_result"
    }
   ],
   "source": [
    "#766. Toeplitz Matrix\n",
    "'''\n",
    "A matrix is Toeplitz if every diagonal from top-left to bottom-right has the same element.\n",
    "Input:\n",
    "matrix = [\n",
    "  [1,2,3,4],\n",
    "  [5,1,2,3],\n",
    "  [9,5,1,2]\n",
    "]\n",
    "Output: True\n",
    "Explanation:\n",
    "In the above grid, the diagonals are:\n",
    "\"[9]\", \"[5, 5]\", \"[1, 1, 1]\", \"[2, 2, 2]\", \"[3, 3]\", \"[4]\".\n",
    "In each diagonal all elements are the same, so the answer is True.\n",
    "'''\n",
    "def isToeplitzMatrix(matrix) -> bool:\n",
    "    for i in range(1,len(matrix)):\n",
    "        for j in range(1,len(matrix[0])):\n",
    "            if matrix[i][j]!=matrix[i-1][j-1]:\n",
    "                return False\n",
    "    return True\n",
    "matrix = [\n",
    "  [1,2,3,4],\n",
    "  [5,1,2,3],\n",
    "  [9,5,1,2]\n",
    "]\n",
    "isToeplitzMatrix(matrix)"
   ]
  },
  {
   "cell_type": "code",
   "execution_count": 5,
   "metadata": {},
   "outputs": [
    {
     "data": {
      "text/plain": [
       "[1, 2, 3, 4, 8, 12, 11, 10, 9, 5, 6, 7]"
      ]
     },
     "execution_count": 5,
     "metadata": {},
     "output_type": "execute_result"
    }
   ],
   "source": [
    "#LC54. Spiral Matrix\n",
    "'''\n",
    "Given a matrix of m x n elements (m rows, n columns), return all elements of the matrix in spiral order.\n",
    "Input:\n",
    "[\n",
    " [ 1, 2, 3 ],\n",
    " [ 4, 5, 6 ],\n",
    " [ 7, 8, 9 ]\n",
    "]\n",
    "Output: [1,2,3,6,9,8,7,4,5]\n",
    "'''\n",
    "matrix=[[1, 2, 3, 4],[5, 6, 7, 8],[9,10,11,12]]\n",
    "\n",
    "l,r=0,len(matrix[0])-1\n",
    "t,b=0,len(matrix)-1\n",
    "\n",
    "res=[]\n",
    "while l<=r and t<=b:\n",
    "    for i in range(l,r+1):\n",
    "         res.append(matrix[t][i])\n",
    "    t+=1\n",
    "    \n",
    "    for i in range(t,b+1):\n",
    "        res.append(matrix[i][r])\n",
    "    r-=1\n",
    "    \n",
    "    if t<=b:\n",
    "        for i in range(r,l-1,-1):\n",
    "            res.append(matrix[b][i])\n",
    "        b-=1\n",
    "    \n",
    "    if l<=r:\n",
    "        for i in range(b,t-1,-1):\n",
    "            res.append(matrix[i][l])\n",
    "        l+=1\n",
    "\n",
    "res"
   ]
  },
  {
   "cell_type": "code",
   "execution_count": 6,
   "metadata": {},
   "outputs": [
    {
     "data": {
      "text/plain": [
       "[[1, 2, 3], [8, 9, 4], [7, 6, 5]]"
      ]
     },
     "execution_count": 6,
     "metadata": {},
     "output_type": "execute_result"
    }
   ],
   "source": [
    "l,r=0,n-1\n",
    "t,b=0,n-1\n",
    "count=1\n",
    "res=[[0 for i in range(n)] for i in range(n)]\n",
    "while l<=r and t<=b:\n",
    "    for i in range(l,r+1):\n",
    "        res[t][i]=count\n",
    "        count+=1\n",
    "    t+=1\n",
    "    \n",
    "    for i in range(t,b+1):\n",
    "        res[i][r]=count\n",
    "        count+=1\n",
    "    r-=1\n",
    "    \n",
    "    for i in range(r,l-1,-1):\n",
    "        res[b][i]=count\n",
    "        count+=1\n",
    "    b-=1\n",
    "    \n",
    "    for i in range(b,t-1,-1):\n",
    "        res[i][l]=count\n",
    "        count+=1\n",
    "    l+=1\n",
    "        \n",
    "res"
   ]
  },
  {
   "cell_type": "code",
   "execution_count": null,
   "metadata": {},
   "outputs": [],
   "source": []
  },
  {
   "cell_type": "code",
   "execution_count": null,
   "metadata": {},
   "outputs": [],
   "source": []
  },
  {
   "cell_type": "code",
   "execution_count": 7,
   "metadata": {},
   "outputs": [
    {
     "ename": "NameError",
     "evalue": "name 'c' is not defined",
     "output_type": "error",
     "traceback": [
      "\u001b[1;31m---------------------------------------------------------------------------\u001b[0m",
      "\u001b[1;31mNameError\u001b[0m                                 Traceback (most recent call last)",
      "\u001b[1;32m<ipython-input-7-2b66fd261ee5>\u001b[0m in \u001b[0;36m<module>\u001b[1;34m\u001b[0m\n\u001b[1;32m----> 1\u001b[1;33m \u001b[0mc\u001b[0m\u001b[1;33m\u001b[0m\u001b[1;33m\u001b[0m\u001b[0m\n\u001b[0m",
      "\u001b[1;31mNameError\u001b[0m: name 'c' is not defined"
     ]
    }
   ],
   "source": [
    "c"
   ]
  },
  {
   "cell_type": "code",
   "execution_count": null,
   "metadata": {},
   "outputs": [],
   "source": []
  }
 ],
 "metadata": {
  "kernelspec": {
   "display_name": "Python 3",
   "language": "python",
   "name": "python3"
  },
  "language_info": {
   "codemirror_mode": {
    "name": "ipython",
    "version": 3
   },
   "file_extension": ".py",
   "mimetype": "text/x-python",
   "name": "python",
   "nbconvert_exporter": "python",
   "pygments_lexer": "ipython3",
   "version": "3.7.3"
  }
 },
 "nbformat": 4,
 "nbformat_minor": 2
}
