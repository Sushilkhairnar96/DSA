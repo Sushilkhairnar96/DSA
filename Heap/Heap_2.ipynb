{
 "cells": [
  {
   "cell_type": "code",
   "execution_count": 14,
   "metadata": {},
   "outputs": [
    {
     "data": {
      "text/plain": [
       "1"
      ]
     },
     "execution_count": 14,
     "metadata": {},
     "output_type": "execute_result"
    }
   ],
   "source": [
    "#1. Last Stone Weight\n",
    "\n",
    "'''\n",
    "We have a collection of stones, each stone has a positive integer weight.\n",
    "\n",
    "Each turn, we choose the two heaviest stones and smash them together.  Suppose the stones have weights x and y with x <= y.  The result of this smash is:\n",
    "\n",
    "If x == y, both stones are totally destroyed;\n",
    "If x != y, the stone of weight x is totally destroyed, and the stone of weight y has new weight y-x.\n",
    "At the end, there is at most 1 stone left.  Return the weight of this stone (or 0 if there are no stones left.)\n",
    "\n",
    "Example 1:\n",
    "\n",
    "Input: [2,7,4,1,8,1]\n",
    "Output: 1\n",
    "Explanation: \n",
    "We combine 7 and 8 to get 1 so the array converts to [2,4,1,1,1] then,\n",
    "we combine 2 and 4 to get 2 so the array converts to [2,1,1,1] then,\n",
    "we combine 2 and 1 to get 1 so the array converts to [1,1,1] then,\n",
    "we combine 1 and 1 to get 0 so the array converts to [1] then that's the value of last stone.\n",
    "'''\n",
    "def lastStoneWeight(stones) -> int:\n",
    "    stones = [-val for val in stones]\n",
    "    heapq.heapify(stones)\n",
    "    while len(stones) > 1:\n",
    "        x1 = heapq.heappop(stones)\n",
    "        x2 = heapq.heappop(stones)\n",
    "        if x1 != x2:\n",
    "            heapq.heappush(stones,x1-x2)\n",
    "    if len(stones) == 0:\n",
    "        return 0\n",
    "    return -stones[0]\n",
    "'''\n",
    "import heapq         \n",
    "heapq._heapify_max(stones)\n",
    "if len(stones)==1: return stones[0]\n",
    "if len(stones)==2: return stones[0]-stones[1]\n",
    "while len(stones)>2:\n",
    "    heapq._heapify_max(stones)\n",
    "    a,b=heapq.nlargest(2, stones)\n",
    "    if a==b:\n",
    "        stones.remove(a)\n",
    "        stones.remove(b)\n",
    "    else:\n",
    "        stones[0]=a-b\n",
    "        stones.remove(b)\n",
    "return abs(stones[0]-stones[1]) if len(stones)==2 else stones[0]\n",
    "'''\n",
    "1"
   ]
  },
  {
   "cell_type": "code",
   "execution_count": 23,
   "metadata": {},
   "outputs": [
    {
     "data": {
      "text/plain": [
       "4"
      ]
     },
     "execution_count": 23,
     "metadata": {},
     "output_type": "execute_result"
    }
   ],
   "source": [
    "#2. Kth Largest Element in an Array\n",
    "'''\n",
    "Find the kth largest element in an unsorted array. Note that it is the kth largest element in the \n",
    "sorted order, not the kth distinct element.\n",
    "\n",
    "Example 1:\n",
    "\n",
    "Input: [3,2,1,5,6,4] and k = 2\n",
    "Output: 5\n",
    "Example 2:\n",
    "\n",
    "Input: [3,2,3,1,2,4,5,5,6] and k = 4\n",
    "Output: 4\n",
    "'''\n",
    "import heapq\n",
    "def findKthLargest(nums, k):\n",
    "    #ans = heapq.nlargest(k, nums) # run time O(n+klgn)\n",
    "    #return ans[-1] \n",
    "    '''\n",
    "    #nlogn\n",
    "    arr=[num*-1 for num in nums]\n",
    "    heapq.heapify(arr)\n",
    "    for i in range(k-1):\n",
    "        heapq.heappop(arr)\n",
    "    return arr[0]*-1\n",
    "    '''\n",
    "    \n",
    "    '''\n",
    "    #nlogn\n",
    "    heapq.heapify(nums)\n",
    "    \n",
    "    while len(nums)>k:\n",
    "        heapq.heappop(nums)\n",
    "    return nums[0]\n",
    "    '''\n",
    "    \n",
    "    ans = nums[:k]\n",
    "    heapq.heapify(ans) # run time O(n)\n",
    "    for i in range(k, len(nums)):\n",
    "        heapq.heappush(ans, nums[i]) # if nums[i] > ans[0] => heapq.push, run time O(klgn)\n",
    "        heapq.heappop(ans)\n",
    "    return ans[0]   \n",
    "\n",
    "nums=[3,2,3,1,2,4,5,5,6]; k = 4\n",
    "findKthLargest(nums, k)"
   ]
  },
  {
   "cell_type": "code",
   "execution_count": 24,
   "metadata": {},
   "outputs": [
    {
     "data": {
      "text/plain": [
       "1"
      ]
     },
     "execution_count": 24,
     "metadata": {},
     "output_type": "execute_result"
    }
   ],
   "source": [
    "#Kth Smallest Element in an Array\n",
    "nums=[3,5,1,8,4,2,6,0,-1,-3];k=4\n",
    "nums=[-num for num in nums]\n",
    "heap=nums[:k]\n",
    "heapq.heapify(heap)\n",
    "for i in range(k,len(nums)):\n",
    "    heapq.heappushpop(heap, nums[i]) # if nums[i] > ans[0] => heapq.push, run time O(klgn)\n",
    "-heap[0] "
   ]
  },
  {
   "cell_type": "code",
   "execution_count": 17,
   "metadata": {},
   "outputs": [],
   "source": [
    "#3. Kth Largest Element in a Stream\n",
    "'''\n",
    "Design a class to find the kth largest element in a stream. Note that it is the kth largest element in the sorted order,\n",
    "not the kth distinct element.\n",
    "\n",
    "Your KthLargest class will have a constructor which accepts an integer k and an integer array nums, which contains \n",
    "initial elements from the stream. For each call to the method KthLargest.add, return the element representing the\n",
    "kth largest element in the stream.\n",
    "'''\n",
    "class KthLargest:\n",
    "    def __init__(self, k, nums):\n",
    "        self.heap=nums\n",
    "        heapq.heapify(self.heap) #convert to min heap for\n",
    "        self.k=k\n",
    "\n",
    "    def add(self, val: int) -> int:\n",
    "        heapq.heappush(self.heap,val)                 \n",
    "        while len(self.heap)>self.k: # The idea is to ALWAYS maintain a MIN heap with only K elements\n",
    "            heapq.heappop(self.heap)            \n",
    "        return self.heap[0]    #the K-the largest element will always be at the root position"
   ]
  },
  {
   "cell_type": "code",
   "execution_count": 18,
   "metadata": {},
   "outputs": [
    {
     "data": {
      "text/plain": [
       "[1, 2]"
      ]
     },
     "execution_count": 18,
     "metadata": {},
     "output_type": "execute_result"
    }
   ],
   "source": [
    "#4. Top K Frequent Elements\n",
    "'''\n",
    "Given a non-empty array of integers, return the k most frequent elements.\n",
    "Example 1:\n",
    "\n",
    "Input: nums = [1,1,1,2,2,3], k = 2\n",
    "Output: [1,2]\n",
    "Example 2:\n",
    "\n",
    "Input: nums = [1], k = 1\n",
    "Output: [1]\n",
    "'''\n",
    "from collections import Counter\n",
    "def topKFrequent(nums, k):\n",
    "    '''\n",
    "    if k == len(nums):\n",
    "        return nums\n",
    "    count = Counter(nums)   \n",
    "    return heapq.nlargest(k, count.keys(), key=count.get)\n",
    "    '''\n",
    "    \n",
    "    '''\n",
    "    if k == len(nums):\n",
    "        return nums\n",
    "    d=Counter(nums)  \n",
    "    d = {k: v for k, v in sorted(d.items(), key=lambda item: item[1], reverse=True)}\n",
    "    c=0\n",
    "    x=[]\n",
    "    for i,v in d.items():\n",
    "        if c<k:\n",
    "            x.append(i)\n",
    "            c+=1\n",
    "    return x\n",
    "    '''\n",
    "    dic = Counter(nums)\n",
    "        \n",
    "    h = []\n",
    "    from heapq import heappush, heappop\n",
    "    for key,count in dic.items(): # O(N)\n",
    "        heappush(h,(-count,key))# freq, item - O(log(k))\n",
    "        \n",
    "    res = []\n",
    "    for _ in range(k):\n",
    "        res.append(heapq.heappop(h)[1])\n",
    "    return res\n",
    "\n",
    "#[5,3,1,1,1,3,73,1];2\n",
    "nums = [1,1,1,2,2,3]; k = 2\n",
    "topKFrequent(nums, k)"
   ]
  },
  {
   "cell_type": "code",
   "execution_count": 19,
   "metadata": {},
   "outputs": [
    {
     "data": {
      "text/plain": [
       "'eert'"
      ]
     },
     "execution_count": 19,
     "metadata": {},
     "output_type": "execute_result"
    }
   ],
   "source": [
    "#5. Sort Characters By Frequency\n",
    "'''\n",
    "Given a string, sort it in decreasing order based on the frequency of characters.\n",
    "\n",
    "Example 1:\n",
    "\n",
    "Input:\n",
    "\"tree\"\n",
    "\n",
    "Output:\n",
    "\"eert\"\n",
    "\n",
    "Explanation:\n",
    "'e' appears twice while 'r' and 't' both appear once.\n",
    "So 'e' must appear before both 'r' and 't'. Therefore \"eetr\" is also a valid answer.\n",
    "'''\n",
    "\n",
    "def frequencySort(s: str) -> str:\n",
    "    '''\n",
    "    dic=Counter(s)\n",
    "    dic={k:v for k,v in sorted(dic.items(),key= lambda x: x[1], reverse=True)}\n",
    "    s1=\"\"\n",
    "    for k,v in dic.items():\n",
    "        s1+=k*v\n",
    "    return s1\n",
    "    '''\n",
    "    from heapq import heappush, heappop\n",
    "    dic=Counter(s)\n",
    "    heap=[]\n",
    "    for key,count in dic.items():\n",
    "        heappush(heap,(-count,key))\n",
    "    \n",
    "    res=\"\"\n",
    "    for _ in range(len(heap)):\n",
    "        count,key=heappop(heap)\n",
    "        res+=key*abs(count)\n",
    "    return res\n",
    "s=\"tree\"\n",
    "frequencySort(s)"
   ]
  },
  {
   "cell_type": "code",
   "execution_count": 20,
   "metadata": {},
   "outputs": [
    {
     "name": "stdout",
     "output_type": "stream",
     "text": [
      "[(-3, 'ab'), (-3, 'the'), (-1, 'day'), (-2, 'sunny'), (-2, 'is')]\n"
     ]
    },
    {
     "data": {
      "text/plain": [
       "['ab', 'the', 'is', 'sunny']"
      ]
     },
     "execution_count": 20,
     "metadata": {},
     "output_type": "execute_result"
    }
   ],
   "source": [
    "#6. Top K Frequent Words\n",
    "'''\n",
    "Given a non-empty list of words, return the k most frequent elements.\n",
    "\n",
    "Your answer should be sorted by frequency from highest to lowest. If two words have the same frequency,\n",
    "then the word with the lower alphabetical order comes first.\n",
    "\n",
    "Example 1:\n",
    "Input: [\"i\", \"love\", \"leetcode\", \"i\", \"love\", \"coding\"], k = 2\n",
    "Output: [\"i\", \"love\"]\n",
    "Explanation: \"i\" and \"love\" are the two most frequent words.\n",
    "    Note that \"i\" comes before \"love\" due to a lower alphabetical order.\n",
    "'''     \n",
    "\n",
    "def topKFrequent(words, k: int) :\n",
    "    import collections\n",
    "    dic = collections.Counter(words)\n",
    "    from heapq import heappush,heappop\n",
    "    '''\n",
    "    By default the lower count will be popped first in a heapq implementation - the idea is to create a \n",
    "    heap of length k containing the tuple (count,word). And then we pop out the top k frequent words\n",
    "\n",
    "    However, if count is same in 2 tuples, the alphabetically lower word is popped out since that \n",
    "    is the default ordering in a heapq (minheap) implementation, i.e for (count, word1) and (count, word2), \n",
    "    if word1 < word2, (count, word1) is popped. We can also create a custom class to reverse this ordering\n",
    "    such that if word1 < word2, (count, word2) is popped. Our heap will then have the top k frequent words, \n",
    "    with alphabetically lower words being treated as \"greater\" when the count is same in two tuples.\n",
    "    '''\n",
    "    arr=[]\n",
    "    for key,count in dic.items():\n",
    "        heappush(arr,(-count,key))\n",
    "    print(arr)\n",
    "    ans=[]\n",
    "    for i in range(k):\n",
    "        ans.append(heappop(arr)[1])\n",
    "    return ans\n",
    "\n",
    "words=[\"the\",\"is\",\"day\", \"sunny\", \"the\", \"the\", \"ab\",\"sunny\", \"is\",\"ab\",\"ab\"]; k=4\n",
    "topKFrequent(words, k)"
   ]
  },
  {
   "cell_type": "code",
   "execution_count": 21,
   "metadata": {},
   "outputs": [],
   "source": [
    "class FreqWord(object):\n",
    "    \n",
    "    def __init__(self, freq, word):\n",
    "        self.freq = freq\n",
    "        self.word = word\n",
    "        \n",
    "    def __lt__(self, other):\n",
    "        if self.freq != other.freq:\n",
    "            return self.freq < other.freq\n",
    "        else:\n",
    "            # opposite sort\n",
    "            return other.word < self.word\n",
    "\n",
    "class Solution:\n",
    "    def topKFrequent(self, words, k: int):\n",
    "        import collections\n",
    "        dic = collections.Counter(words)\n",
    "        print(dic)  \n",
    "        h = []\n",
    "        from heapq import heappush, heappop\n",
    "        for key in dic: # O(N)\n",
    "            heappush(h,(FreqWord(dic[key],key),key)) # freq, item - O(log(k))\n",
    "            if len(h) > k:\n",
    "                heappop(h)\n",
    "                \n",
    "        \n",
    "        res = []\n",
    "        for _ in range(k):\n",
    "            res.append(heapq.heappop(h)[1])\n",
    "        return res[::-1]\n",
    "    \n",
    "obj=Solution()\n",
    "words=[\"the\",\"is\",\"day\", \"sunny\", \"the\", \"the\", \"ab\",\"sunny\", \"is\",\"ab\",\"ab\"]; k=4\n",
    "#obj.topKFrequent(words,k)"
   ]
  },
  {
   "cell_type": "code",
   "execution_count": 22,
   "metadata": {},
   "outputs": [
    {
     "data": {
      "text/plain": [
       "[[-2, 4], [3, 3]]"
      ]
     },
     "execution_count": 22,
     "metadata": {},
     "output_type": "execute_result"
    }
   ],
   "source": [
    "#7. K Closest Points to Origin  (vimp)\n",
    "\n",
    "'''\n",
    "Given an array of points where points[i] = [xi, yi] represents a point on the X-Y plane and an integer k, \n",
    "return the k closest points to the origin (0, 0).\n",
    "The distance between two points on the X-Y plane is the Euclidean distance (i.e., √(x1 - x2)2 + (y1 - y2)2).\n",
    "You may return the answer in any order. The answer is guaranteed to be unique (except for the order that it is in).\n",
    "\n",
    "\n",
    "Input: points = [[1,3],[-2,2]], k = 1\n",
    "Output: [[-2,2]]\n",
    "Explanation:\n",
    "The distance between (1, 3) and the origin is sqrt(10).\n",
    "The distance between (-2, 2) and the origin is sqrt(8).\n",
    "Since sqrt(8) < sqrt(10), (-2, 2) is closer to the origin.\n",
    "We only want the closest k = 1 points from the origin, so the answer is just [[-2,2]].\n",
    "\n",
    "Input: points = [[3,3],[5,-1],[-2,4]], k = 2\n",
    "Output: [[3,3],[-2,4]]\n",
    "Explanation: The answer [[-2,4],[3,3]] would also be accepted.\n",
    "'''\n",
    "def kClosest(points, k):\n",
    "    \n",
    "    #return sorted(points,key = lambda P: P[0]**2 + P[1]**2)[:k] -NLOGN\n",
    "    \n",
    "    from heapq import heappush,heappop\n",
    "    \n",
    "    #2. NLOG(N)\n",
    "    '''\n",
    "    arr=[]\n",
    "    for point in points:\n",
    "        distance = point[0]**2 + point[1]**2\n",
    "        heappush(arr,(distance,point))\n",
    "    \n",
    "    ans=[]\n",
    "    for i in range(k):\n",
    "        ans.append(heappop(arr)[1])\n",
    "    return ans\n",
    "    '''\n",
    "    #3.NLOG(K)\n",
    "    '''\n",
    "    When you see in the statement of the problem that you need you find k biggest or k smallest elements, you should\n",
    "    immediately think about heaps or sort. Here we need to find the k smallest elements, and hence we need to keep\n",
    "    max heap. Why max and not min? We always keep in the root of our heap the k-th smallest element.\n",
    "    \n",
    "    Let us go through example: points = [[1,2],[2,3],[0,1]], [3,4], k = 2.\n",
    "\n",
    "    First we put points [1,2] and [2,3] into our heap. In the root of the heap we have maximum element [2,3]\n",
    "    Now, we see new element [0,1], what should we do? We compare it with the root, see, that it is smaller than root,\n",
    "    so we need to remove it from our heap and put new element instead, now we have elements [1,2] and [0,1] in our\n",
    "    heap, root is [1,2]. Next element is [3,4] and it is greater than our root, it means we do not need to do anything.\n",
    "    \n",
    "    \n",
    "    Complexity\n",
    "    We process elements one by one, there are n of them and push it into heap and pop root from our heap, \n",
    "    both have O(log k) complexity, so finally we have O(n log k) complexity, which is faster than O(n log n) \n",
    "    algorithm using sorting and min-heap.\n",
    "        \n",
    "    '''\n",
    "    \n",
    "    heap = []\n",
    "    for point in points:\n",
    "        if len(heap)<k:\n",
    "            heappush(heap,(-point[0]**2 - point[1]**2 ,point))\n",
    "        else:\n",
    "            heappush(heap,(-point[0]**2 - point[1]**2 ,point))\n",
    "            heappop(heap)\n",
    "\n",
    "    return [h[1] for h in heap]\n",
    "\n",
    "points = [[3,3],[5,-1],[-2,4]]; k = 2\n",
    "kClosest(points, k)"
   ]
  },
  {
   "cell_type": "code",
   "execution_count": 26,
   "metadata": {},
   "outputs": [
    {
     "name": "stdout",
     "output_type": "stream",
     "text": [
      "[-13, -13, -12, -10, -11, -9, -1, -5]\n"
     ]
    },
    {
     "data": {
      "text/plain": [
       "13"
      ]
     },
     "execution_count": 26,
     "metadata": {},
     "output_type": "execute_result"
    }
   ],
   "source": [
    "#8. Kth Smallest Element in a Sorted Matrix\n",
    "'''\n",
    "Given an n x n matrix where each of the rows and columns are sorted in ascending order, return the kth smallest element in the matrix.\n",
    "\n",
    "Note that it is the kth smallest element in the sorted order, not the kth distinct element.\n",
    "\n",
    "Input: matrix = [[1,5,9],[10,11,13],[12,13,15]], k = 8\n",
    "Output: 13\n",
    "Explanation: The elements in the matrix are [1,5,9,10,11,12,13,13,15], and the 8th smallest number is 13\n",
    "\n",
    "Input: matrix = [[-5]], k = 1\n",
    "Output: -5\n",
    "'''\n",
    "def kthSmallest(matrix, k) -> int:\n",
    "    import heapq\n",
    "    nums = [-matrix[i][j] for i in range(len(matrix)) for j in range(len(matrix[0]))]\n",
    "    arr=nums[:k]\n",
    "    heapq.heapify(arr)\n",
    "    print(arr)\n",
    "    for i in range(k,len(nums)):\n",
    "        heapq.heappush(arr,nums[i])\n",
    "        heapq.heappop(arr)\n",
    "    return -arr[0]\n",
    "\n",
    "matrix = [[1,5,9],[10,11,13],[12,13,15]]; k = 8\n",
    "kthSmallest(matrix, k) "
   ]
  },
  {
   "cell_type": "code",
   "execution_count": null,
   "metadata": {},
   "outputs": [],
   "source": []
  }
 ],
 "metadata": {
  "kernelspec": {
   "display_name": "Python 3",
   "language": "python",
   "name": "python3"
  },
  "language_info": {
   "codemirror_mode": {
    "name": "ipython",
    "version": 3
   },
   "file_extension": ".py",
   "mimetype": "text/x-python",
   "name": "python",
   "nbconvert_exporter": "python",
   "pygments_lexer": "ipython3",
   "version": "3.8.5"
  }
 },
 "nbformat": 4,
 "nbformat_minor": 2
}
