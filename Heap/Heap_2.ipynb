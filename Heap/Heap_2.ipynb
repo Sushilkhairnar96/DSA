{
 "cells": [
  {
   "cell_type": "code",
   "execution_count": 9,
   "metadata": {},
   "outputs": [
    {
     "data": {
      "text/plain": [
       "1"
      ]
     },
     "execution_count": 9,
     "metadata": {},
     "output_type": "execute_result"
    }
   ],
   "source": [
    "#LC1046. Last Stone Weight\n",
    "\n",
    "'''\n",
    "We have a collection of stones, each stone has a positive integer weight.\n",
    "\n",
    "Each turn, we choose the two heaviest stones and smash them together.  Suppose the stones have weights x and y with x <= y.  The result of this smash is:\n",
    "\n",
    "If x == y, both stones are totally destroyed;\n",
    "If x != y, the stone of weight x is totally destroyed, and the stone of weight y has new weight y-x.\n",
    "At the end, there is at most 1 stone left.  Return the weight of this stone (or 0 if there are no stones left.)\n",
    "\n",
    "Example 1:\n",
    "\n",
    "Input: [2,7,4,1,8,1]\n",
    "Output: 1\n",
    "Explanation: \n",
    "We combine 7 and 8 to get 1 so the array converts to [2,4,1,1,1] then,\n",
    "we combine 2 and 4 to get 2 so the array converts to [2,1,1,1] then,\n",
    "we combine 2 and 1 to get 1 so the array converts to [1,1,1] then,\n",
    "we combine 1 and 1 to get 0 so the array converts to [1] then that's the value of last stone.\n",
    "'''\n",
    "def lastStoneWeight(stones) -> int:\n",
    "    stones = [-val for val in stones]\n",
    "    heapq.heapify(stones)\n",
    "    while len(stones) > 1:\n",
    "        x1 = heapq.heappop(stones)\n",
    "        x2 = heapq.heappop(stones)\n",
    "        if x1 != x2:\n",
    "            heapq.heappush(stones,x1-x2)\n",
    "    if len(stones) == 0:\n",
    "        return 0\n",
    "    return -stones[0]\n",
    "'''\n",
    "import heapq         \n",
    "heapq._heapify_max(stones)\n",
    "if len(stones)==1: return stones[0]\n",
    "if len(stones)==2: return stones[0]-stones[1]\n",
    "while len(stones)>2:\n",
    "    heapq._heapify_max(stones)\n",
    "    a,b=heapq.nlargest(2, stones)\n",
    "    if a==b:\n",
    "        stones.remove(a)\n",
    "        stones.remove(b)\n",
    "    else:\n",
    "        stones[0]=a-b\n",
    "        stones.remove(b)\n",
    "return abs(stones[0]-stones[1]) if len(stones)==2 else stones[0]\n",
    "'''\n",
    "1"
   ]
  },
  {
   "cell_type": "code",
   "execution_count": 8,
   "metadata": {},
   "outputs": [
    {
     "data": {
      "text/plain": [
       "4"
      ]
     },
     "execution_count": 8,
     "metadata": {},
     "output_type": "execute_result"
    }
   ],
   "source": [
    "#LC215. Kth Largest Element in an Array\n",
    "'''\n",
    "Find the kth largest element in an unsorted array. Note that it is the kth largest element in the \n",
    "sorted order, not the kth distinct element.\n",
    "\n",
    "Example 1:\n",
    "\n",
    "Input: [3,2,1,5,6,4] and k = 2\n",
    "Output: 5\n",
    "Example 2:\n",
    "\n",
    "Input: [3,2,3,1,2,4,5,5,6] and k = 4\n",
    "Output: 4\n",
    "'''\n",
    "import heapq\n",
    "def findKthLargest(nums, k):\n",
    "    #ans = heapq.nlargest(k, nums) # run time O(n+klgn)\n",
    "    #return ans[-1] \n",
    "    '''\n",
    "    heapq.heapify(nums)\n",
    "    \n",
    "    while len(nums)>k:\n",
    "        heapq.heappop(nums)\n",
    "    return nums[0]\n",
    "    '''\n",
    "    ans = nums[:k]\n",
    "    heapq.heapify(ans) # run time O(n)\n",
    "    for i in range(k, len(nums)):\n",
    "        heapq.heappushpop(ans, nums[i]) # if nums[i] > ans[0] => heapq.push, run time O(klgn)\n",
    "    return ans[0]   \n",
    "\n",
    "nums=[3,2,3,1,2,4,5,5,6]; k = 4\n",
    "findKthLargest(nums, k)"
   ]
  },
  {
   "cell_type": "code",
   "execution_count": 46,
   "metadata": {},
   "outputs": [
    {
     "data": {
      "text/plain": [
       "1"
      ]
     },
     "execution_count": 46,
     "metadata": {},
     "output_type": "execute_result"
    }
   ],
   "source": [
    "#Kth Smallest Element in an Array\n",
    "nums=[3,5,1,8,4,2,6,0,-1,-3];k=4\n",
    "nums=[-i for i in nums]\n",
    "heap=nums[:k]\n",
    "heapq.heapify(heap)\n",
    "for i in range(k,len(nums)):\n",
    "    heapq.heappushpop(heap, nums[i]) # if nums[i] > ans[0] => heapq.push, run time O(klgn)\n",
    "-heap[0] "
   ]
  },
  {
   "cell_type": "code",
   "execution_count": 3,
   "metadata": {},
   "outputs": [],
   "source": [
    "#LC703. Kth Largest Element in a Stream\n",
    "'''\n",
    "Design a class to find the kth largest element in a stream. Note that it is the kth largest element in the sorted order,\n",
    "not the kth distinct element.\n",
    "\n",
    "Your KthLargest class will have a constructor which accepts an integer k and an integer array nums, which contains \n",
    "initial elements from the stream. For each call to the method KthLargest.add, return the element representing the\n",
    "kth largest element in the stream.\n",
    "'''\n",
    "class KthLargest:\n",
    "    def __init__(self, k, nums):\n",
    "        self.heap=nums\n",
    "        heapq.heapify(self.heap) #convert to min heap for\n",
    "        self.k=k\n",
    "\n",
    "    def add(self, val: int) -> int:\n",
    "        heapq.heappush(self.heap,val)                 \n",
    "        while len(self.heap)>self.k: # The idea is to ALWAYS maintain a MIN heap with only K elements\n",
    "            heapq.heappop(self.heap)            \n",
    "        return self.heap[0]    #the K-the largest element will always be at the root position"
   ]
  },
  {
   "cell_type": "code",
   "execution_count": 26,
   "metadata": {},
   "outputs": [
    {
     "data": {
      "text/plain": [
       "[1, 2]"
      ]
     },
     "execution_count": 26,
     "metadata": {},
     "output_type": "execute_result"
    }
   ],
   "source": [
    "#LC347. Top K Frequent Elements\n",
    "'''\n",
    "Given a non-empty array of integers, return the k most frequent elements.\n",
    "Example 1:\n",
    "\n",
    "Input: nums = [1,1,1,2,2,3], k = 2\n",
    "Output: [1,2]\n",
    "Example 2:\n",
    "\n",
    "Input: nums = [1], k = 1\n",
    "Output: [1]\n",
    "'''\n",
    "from collections import Counter\n",
    "def topKFrequent(nums, k):\n",
    "    '''\n",
    "    if k == len(nums):\n",
    "        return nums\n",
    "    count = Counter(nums)   \n",
    "    return heapq.nlargest(k, count.keys(), key=count.get)\n",
    "    '''\n",
    "    \n",
    "    '''\n",
    "    if k == len(nums):\n",
    "        return nums\n",
    "    d=Counter(nums)  \n",
    "    d = {k: v for k, v in sorted(d.items(), key=lambda item: item[1], reverse=True)}\n",
    "    c=0\n",
    "    x=[]\n",
    "    for i,v in d.items():\n",
    "        if c<k:\n",
    "            x.append(i)\n",
    "            c+=1\n",
    "    return x\n",
    "    '''\n",
    "    dic = Counter(nums)\n",
    "        \n",
    "    h = []\n",
    "    from heapq import heappush, heappop\n",
    "    for key,count in dic.items(): # O(N)\n",
    "        heappush(h,(-count,key))# freq, item - O(log(k))\n",
    "        \n",
    "    res = []\n",
    "    for _ in range(k):\n",
    "        res.append(heapq.heappop(h)[1])\n",
    "    return res\n",
    "\n",
    "nums = [1,1,1,2,2,3]; k = 2\n",
    "topKFrequent(nums, k)"
   ]
  },
  {
   "cell_type": "code",
   "execution_count": 24,
   "metadata": {},
   "outputs": [
    {
     "data": {
      "text/plain": [
       "'eert'"
      ]
     },
     "execution_count": 24,
     "metadata": {},
     "output_type": "execute_result"
    }
   ],
   "source": [
    "#LC451. Sort Characters By Frequency\n",
    "'''\n",
    "Given a string, sort it in decreasing order based on the frequency of characters.\n",
    "\n",
    "Example 1:\n",
    "\n",
    "Input:\n",
    "\"tree\"\n",
    "\n",
    "Output:\n",
    "\"eert\"\n",
    "\n",
    "Explanation:\n",
    "'e' appears twice while 'r' and 't' both appear once.\n",
    "So 'e' must appear before both 'r' and 't'. Therefore \"eetr\" is also a valid answer.\n",
    "'''\n",
    "\n",
    "def frequencySort(s: str) -> str:\n",
    "    '''\n",
    "    dic=Counter(s)\n",
    "    dic={k:v for k,v in sorted(dic.items(),key= lambda x: x[1], reverse=True)}\n",
    "    s1=\"\"\n",
    "    for k,v in dic.items():\n",
    "        s1+=k*v\n",
    "    return s1\n",
    "    '''\n",
    "    from heapq import heappush, heappop\n",
    "    dic=Counter(s)\n",
    "    heap=[]\n",
    "    for key,count in dic.items():\n",
    "        heappush(heap,(-count,key))\n",
    "    \n",
    "    res=\"\"\n",
    "    for _ in range(len(heap)):\n",
    "        count,key=heappop(heap)\n",
    "        res+=key*abs(count)\n",
    "    return res\n",
    "s=\"tree\"\n",
    "frequencySort(s)"
   ]
  },
  {
   "cell_type": "code",
   "execution_count": 68,
   "metadata": {},
   "outputs": [
    {
     "name": "stdout",
     "output_type": "stream",
     "text": [
      "Counter({'the': 3, 'ab': 3, 'is': 2, 'sunny': 2, 'day': 1})\n"
     ]
    },
    {
     "data": {
      "text/plain": [
       "['ab', 'the', 'is', 'sunny']"
      ]
     },
     "execution_count": 68,
     "metadata": {},
     "output_type": "execute_result"
    }
   ],
   "source": [
    "#LC692. Top K Frequent Words\n",
    "'''\n",
    "Given a non-empty list of words, return the k most frequent elements.\n",
    "\n",
    "Your answer should be sorted by frequency from highest to lowest. If two words have the same frequency,\n",
    "then the word with the lower alphabetical order comes first.\n",
    "\n",
    "Example 1:\n",
    "Input: [\"i\", \"love\", \"leetcode\", \"i\", \"love\", \"coding\"], k = 2\n",
    "Output: [\"i\", \"love\"]\n",
    "Explanation: \"i\" and \"love\" are the two most frequent words.\n",
    "    Note that \"i\" comes before \"love\" due to a lower alphabetical order.\n",
    "'''     \n",
    "def topKFrequent(words, k: int) :\n",
    "    from heapq import heappush, heappop\n",
    "\n",
    "    dic = Counter(words)\n",
    "    print(dic)    \n",
    "    h = []\n",
    "    for key,count in dic.items(): # O(N)\n",
    "        heappush(h,(-count,key))# freq, item - O(log(k))\n",
    "    res = []\n",
    "    for _ in range(k):\n",
    "        res.append(heapq.heappop(h)[1])\n",
    "    return res\n",
    "words=[\"the\",\"is\",\"day\", \"sunny\", \"the\", \"the\", \"ab\",\"sunny\", \"is\",\"ab\",\"ab\"]; k=4\n",
    "topKFrequent(words, k)"
   ]
  },
  {
   "cell_type": "code",
   "execution_count": 79,
   "metadata": {},
   "outputs": [
    {
     "name": "stdout",
     "output_type": "stream",
     "text": [
      "Counter({'the': 3, 'ab': 3, 'is': 2, 'sunny': 2, 'day': 1})\n"
     ]
    },
    {
     "data": {
      "text/plain": [
       "['ab', 'the', 'is', 'sunny']"
      ]
     },
     "execution_count": 79,
     "metadata": {},
     "output_type": "execute_result"
    }
   ],
   "source": [
    "class FreqWord(object):\n",
    "    def __init__(self, freq, word):\n",
    "        self.freq = freq\n",
    "        self.word = word\n",
    "        \n",
    "    def __lt__(self, other):\n",
    "        if self.freq != other.freq:\n",
    "            return self.freq < other.freq\n",
    "        else:\n",
    "            # opposite sort\n",
    "            return other.word < self.word\n",
    "\n",
    "class Solution:\n",
    "    def topKFrequent(self, words, k: int):\n",
    "        import collections\n",
    "        dic = collections.Counter(words)\n",
    "        print(dic)  \n",
    "        h = []\n",
    "        from heapq import heappush, heappop\n",
    "        for key in dic: # O(N)\n",
    "            heappush(h,(FreqWord(dic[key],key),key)) # freq, item - O(log(k))\n",
    "            if len(h) > k:\n",
    "                heappop(h)\n",
    "                \n",
    "        \n",
    "        res = []\n",
    "        for _ in range(k):\n",
    "            res.append(heapq.heappop(h)[1])\n",
    "        return res[::-1]\n",
    "    \n",
    "obj=Solution()\n",
    "words=[\"the\",\"is\",\"day\", \"sunny\", \"the\", \"the\", \"ab\",\"sunny\", \"is\",\"ab\",\"ab\"]; k=4\n",
    "obj.topKFrequent(words,k)"
   ]
  },
  {
   "cell_type": "code",
   "execution_count": null,
   "metadata": {},
   "outputs": [],
   "source": []
  },
  {
   "cell_type": "code",
   "execution_count": null,
   "metadata": {},
   "outputs": [],
   "source": []
  }
 ],
 "metadata": {
  "kernelspec": {
   "display_name": "Python 3",
   "language": "python",
   "name": "python3"
  },
  "language_info": {
   "codemirror_mode": {
    "name": "ipython",
    "version": 3
   },
   "file_extension": ".py",
   "mimetype": "text/x-python",
   "name": "python",
   "nbconvert_exporter": "python",
   "pygments_lexer": "ipython3",
   "version": "3.7.3"
  }
 },
 "nbformat": 4,
 "nbformat_minor": 2
}
