{
 "cells": [
  {
   "cell_type": "code",
   "execution_count": 9,
   "metadata": {},
   "outputs": [
    {
     "data": {
      "text/plain": [
       "1"
      ]
     },
     "execution_count": 9,
     "metadata": {},
     "output_type": "execute_result"
    }
   ],
   "source": [
    "#LC1046. Last Stone Weight\n",
    "\n",
    "'''\n",
    "We have a collection of stones, each stone has a positive integer weight.\n",
    "\n",
    "Each turn, we choose the two heaviest stones and smash them together.  Suppose the stones have weights x and y with x <= y.  The result of this smash is:\n",
    "\n",
    "If x == y, both stones are totally destroyed;\n",
    "If x != y, the stone of weight x is totally destroyed, and the stone of weight y has new weight y-x.\n",
    "At the end, there is at most 1 stone left.  Return the weight of this stone (or 0 if there are no stones left.)\n",
    "\n",
    "Example 1:\n",
    "\n",
    "Input: [2,7,4,1,8,1]\n",
    "Output: 1\n",
    "Explanation: \n",
    "We combine 7 and 8 to get 1 so the array converts to [2,4,1,1,1] then,\n",
    "we combine 2 and 4 to get 2 so the array converts to [2,1,1,1] then,\n",
    "we combine 2 and 1 to get 1 so the array converts to [1,1,1] then,\n",
    "we combine 1 and 1 to get 0 so the array converts to [1] then that's the value of last stone.\n",
    "'''\n",
    "def lastStoneWeight(stones) -> int:\n",
    "    stones = [-val for val in stones]\n",
    "    heapq.heapify(stones)\n",
    "    while len(stones) > 1:\n",
    "        x1 = heapq.heappop(stones)\n",
    "        x2 = heapq.heappop(stones)\n",
    "        if x1 != x2:\n",
    "            heapq.heappush(stones,x1-x2)\n",
    "    if len(stones) == 0:\n",
    "        return 0\n",
    "    return -stones[0]\n",
    "'''\n",
    "import heapq         \n",
    "heapq._heapify_max(stones)\n",
    "if len(stones)==1: return stones[0]\n",
    "if len(stones)==2: return stones[0]-stones[1]\n",
    "while len(stones)>2:\n",
    "    heapq._heapify_max(stones)\n",
    "    a,b=heapq.nlargest(2, stones)\n",
    "    if a==b:\n",
    "        stones.remove(a)\n",
    "        stones.remove(b)\n",
    "    else:\n",
    "        stones[0]=a-b\n",
    "        stones.remove(b)\n",
    "return abs(stones[0]-stones[1]) if len(stones)==2 else stones[0]\n",
    "'''\n",
    "1"
   ]
  },
  {
   "cell_type": "code",
   "execution_count": 8,
   "metadata": {},
   "outputs": [
    {
     "data": {
      "text/plain": [
       "4"
      ]
     },
     "execution_count": 8,
     "metadata": {},
     "output_type": "execute_result"
    }
   ],
   "source": [
    "#LC215. Kth Largest Element in an Array\n",
    "'''\n",
    "Find the kth largest element in an unsorted array. Note that it is the kth largest element in the \n",
    "sorted order, not the kth distinct element.\n",
    "\n",
    "Example 1:\n",
    "\n",
    "Input: [3,2,1,5,6,4] and k = 2\n",
    "Output: 5\n",
    "Example 2:\n",
    "\n",
    "Input: [3,2,3,1,2,4,5,5,6] and k = 4\n",
    "Output: 4\n",
    "'''\n",
    "import heapq\n",
    "def findKthLargest(nums, k):\n",
    "    #ans = heapq.nlargest(k, nums) # run time O(n+klgn)\n",
    "    #return ans[-1]\n",
    "    \n",
    "    '''\n",
    "    heapq.heapify(nums)\n",
    "    \n",
    "    while len(nums)>k:\n",
    "        heapq.heappop(nums)\n",
    "    return nums[0]\n",
    "    '''\n",
    "    ans = nums[:k]\n",
    "    heapq.heapify(ans) # run time O(n)\n",
    "    for i in range(k, len(nums)):\n",
    "        heapq.heappushpop(ans, nums[i]) # if nums[i] > ans[0] => heapq.push, run time O(klgn)\n",
    "    return ans[0]   \n",
    "\n",
    "nums=[3,2,3,1,2,4,5,5,6]; k = 4\n",
    "findKthLargest(nums, k)"
   ]
  },
  {
   "cell_type": "code",
   "execution_count": 3,
   "metadata": {},
   "outputs": [],
   "source": [
    "#LC703. Kth Largest Element in a Stream\n",
    "'''\n",
    "Design a class to find the kth largest element in a stream. Note that it is the kth largest element in the sorted order,\n",
    "not the kth distinct element.\n",
    "\n",
    "Your KthLargest class will have a constructor which accepts an integer k and an integer array nums, which contains \n",
    "initial elements from the stream. For each call to the method KthLargest.add, return the element representing the\n",
    "kth largest element in the stream.\n",
    "'''\n",
    "class KthLargest:\n",
    "    def __init__(self, k, nums):\n",
    "        self.heap=nums\n",
    "        heapq.heapify(self.heap) #convert to min heap for\n",
    "        self.k=k\n",
    "\n",
    "    def add(self, val: int) -> int:\n",
    "        heapq.heappush(self.heap,val)                 \n",
    "        while len(self.heap)>self.k: # The idea is to ALWAYS maintain a MIN heap with only K elements\n",
    "            heapq.heappop(self.heap)            \n",
    "        return self.heap[0]    #the K-the largest element will always be at the root position"
   ]
  },
  {
   "cell_type": "code",
   "execution_count": null,
   "metadata": {},
   "outputs": [],
   "source": []
  }
 ],
 "metadata": {
  "kernelspec": {
   "display_name": "Python 3",
   "language": "python",
   "name": "python3"
  },
  "language_info": {
   "codemirror_mode": {
    "name": "ipython",
    "version": 3
   },
   "file_extension": ".py",
   "mimetype": "text/x-python",
   "name": "python",
   "nbconvert_exporter": "python",
   "pygments_lexer": "ipython3",
   "version": "3.7.3"
  }
 },
 "nbformat": 4,
 "nbformat_minor": 2
}
