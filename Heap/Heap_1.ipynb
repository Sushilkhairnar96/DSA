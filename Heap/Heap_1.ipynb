{
 "cells": [
  {
   "cell_type": "markdown",
   "metadata": {},
   "source": [
    "# What is Binary Heap?"
   ]
  },
  {
   "cell_type": "raw",
   "metadata": {},
   "source": [
    "Let us first define a Complete Binary Tree. A complete binary tree is a binary tree in which every level, except possibly the last, is completely filled, and all nodes are as far left as possible (Source Wikipedia)\n",
    "\n",
    "A Binary Heap is a Complete Binary Tree where items are stored in a special order such that value in a parent node is greater(or smaller) than the values in its two children nodes. The former is called as max heap and the latter is called min heap. The heap can be represented by binary tree or array."
   ]
  },
  {
   "cell_type": "raw",
   "metadata": {},
   "source": [
    "Why array based representation for Binary Heap?\n",
    "Since a Binary Heap is a Complete Binary Tree, it can be easily represented as array and array based representation is space efficient. If the parent node is stored at index I, the left child can be calculated by 2 * I + 1 and right child by 2 * I + 2 (assuming the indexing starts at 0)."
   ]
  },
  {
   "cell_type": "raw",
   "metadata": {},
   "source": [
    "How to build the heap?\n",
    "Heapify procedure can be applied to a node only if its children nodes are heapified. So the heapification must be performed in the bottom up order."
   ]
  },
  {
   "cell_type": "markdown",
   "metadata": {},
   "source": [
    "## Heap queue (or heapq) in Python"
   ]
  },
  {
   "cell_type": "markdown",
   "metadata": {},
   "source": [
    "In Python, it is available using “heapq” module. The property of this data structure in python is that each time the smallest of heap element is popped(min heap). Whenever elements are pushed or popped, heap structure in maintained. The heap[0] element also returns the smallest element each time."
   ]
  },
  {
   "cell_type": "raw",
   "metadata": {},
   "source": [
    "Operations on heap :\n",
    "1. heapify(iterable) :- This function is used to convert the iterable into a heap data structure. i.e. in heap order.\n",
    "\n",
    "2. heappush(heap, ele) :- This function is used to insert the element mentioned in its arguments into heap. The order is adjusted, so as heap structure is maintained.\n",
    "\n",
    "3. heappop(heap) :- This function is used to remove and return the smallest element from heap. The order is adjusted, so as heap structure is maintained.    \n",
    "\n",
    "4. heappushpop(heap, ele) :- This function combines the functioning of both push and pop operations in one statement, increasing efficiency. Heap order is maintained after this operation.\n",
    "\n",
    "5. heapreplace(heap, ele) :- This function also inserts and pops element in one statement, but it is different from above function. In this, element is first popped, then the element is pushed.i.e, the value larger than the pushed value can be returned. heapreplace() returns the smallest value originally in heap regardless of the pushed element as opposed to heappushpop().\n",
    "\n",
    "6. nlargest(k, iterable, key = fun) :- This function is used to return the k largest elements from the iterable specified and satisfying the key if mentioned.\n",
    "\n",
    "7. nsmallest(k, iterable, key = fun) :- This function is used to return the k smallest elements from the iterable specified and satisfying the key if mentioned."
   ]
  },
  {
   "cell_type": "code",
   "execution_count": 1,
   "metadata": {},
   "outputs": [
    {
     "name": "stdout",
     "output_type": "stream",
     "text": [
      "The created heap is : [1, 3, 9, 7, 5]\n",
      "The modified heap after push is : [1, 3, 4, 7, 5, 9]\n",
      "The popped and smallest element is : 1\n"
     ]
    }
   ],
   "source": [
    "# importing \"heapq\" to implement heap queue \n",
    "import heapq \n",
    "  \n",
    "# initializing list \n",
    "li = [5, 7, 9, 1, 3] \n",
    "  \n",
    "# using heapify to convert list into heap \n",
    "heapq.heapify(li) \n",
    "  \n",
    "# printing created heap \n",
    "print (\"The created heap is : \",end=\"\") \n",
    "print (list(li)) \n",
    "  \n",
    "# using heappush() to push elements into heap \n",
    "# pushes 4 \n",
    "heapq.heappush(li,4) \n",
    "  \n",
    "# printing modified heap \n",
    "print (\"The modified heap after push is : \",end=\"\") \n",
    "print (list(li)) \n",
    "  \n",
    "# using heappop() to pop smallest element \n",
    "print (\"The popped and smallest element is : \",end=\"\") \n",
    "print (heapq.heappop(li)) "
   ]
  },
  {
   "cell_type": "code",
   "execution_count": 5,
   "metadata": {},
   "outputs": [
    {
     "name": "stdout",
     "output_type": "stream",
     "text": [
      "The popped item using heappushpop() is : 2\n",
      "The popped item using heapreplace() is : 3\n",
      "The 3 largest numbers in list are : [9, 7, 5]\n",
      "The 3 smallest numbers in list are : [3, 4, 5]\n"
     ]
    }
   ],
   "source": [
    "# Python code to demonstrate working of  \n",
    "# heappushpop(), heapreplce(), nlargest() and nsmallest()  \n",
    "  \n",
    "# importing \"heapq\" to implement heap queue \n",
    "import heapq \n",
    "  \n",
    "# initializing list 1 \n",
    "li1 = [5, 7, 9, 4, 3] \n",
    "  \n",
    "# initializing list 2 \n",
    "li2 = [5, 7, 9, 4, 3] \n",
    "  \n",
    "# using heapify() to convert list into heap \n",
    "heapq.heapify(li1) \n",
    "heapq.heapify(li2) \n",
    "  \n",
    "# using heappushpop() to push and pop items simultaneously \n",
    "# pops 2 \n",
    "print (\"The popped item using heappushpop() is : \",end=\"\") \n",
    "print (heapq.heappushpop(li1, 2)) \n",
    "  \n",
    "# using heapreplace() to push and pop items simultaneously \n",
    "# pops 3 \n",
    "print (\"The popped item using heapreplace() is : \",end=\"\") \n",
    "print (heapq.heapreplace(li2, 2)) \n",
    "\n",
    "print(\"The 3 largest numbers in list are : \",end=\"\") \n",
    "print(heapq.nlargest(3, li1)) \n",
    "  \n",
    "print(\"The 3 smallest numbers in list are : \",end=\"\") \n",
    "print(heapq.nsmallest(3, li1)) "
   ]
  },
  {
   "cell_type": "markdown",
   "metadata": {},
   "source": [
    "# Heapify\n",
    "Heapify is the process of converting a binary tree into a Heap data structure. A binary tree being a tree data structure where each node has at most two child nodes. ... A Heap must also satisfy the heap-order property, the value stored at each node is greater than or equal to it's children"
   ]
  },
  {
   "cell_type": "code",
   "execution_count": 14,
   "metadata": {},
   "outputs": [
    {
     "name": "stdout",
     "output_type": "stream",
     "text": [
      "The maxHeap is \n",
      " PARENT : 84 LEFT CHILD : 22 RIGHT CHILD : 19\n",
      " PARENT : 22 LEFT CHILD : 17 RIGHT CHILD : 10\n",
      " PARENT : 19 LEFT CHILD : 5 RIGHT CHILD : 6\n",
      " PARENT : 17 LEFT CHILD : 3 RIGHT CHILD : 9\n",
      "The Max val is 84\n"
     ]
    }
   ],
   "source": [
    "import sys\n",
    "class MaxHeap: \n",
    "  \n",
    "    def __init__(self, maxsize): \n",
    "        self.maxsize = maxsize \n",
    "        self.size = 0\n",
    "        self.Heap = [0]*(self.maxsize + 1) \n",
    "        self.Heap[0] = sys.maxsize \n",
    "        self.FRONT = 1\n",
    "  \n",
    "\n",
    "    def parent(self, i): \n",
    "        return i//2\n",
    "  \n",
    "    def leftChild(self, i): \n",
    "        return 2 * i \n",
    "\n",
    "    def rightChild(self, i): \n",
    "        return (2 * i) + 1\n",
    "    \n",
    "    def isLeaf(self, i): \n",
    "        if i >= (self.size//2) and i <= self.size: \n",
    "            return True\n",
    "        return False\n",
    "  \n",
    "    def swap(self,a,b): \n",
    "        self.Heap[a], self.Heap[b] = self.Heap[b], self.Heap[a] \n",
    "  \n",
    "    # Function to heapify the node at i \n",
    "    def maxHeapify(self, i): \n",
    "  \n",
    "        # If the node is a non-leaf node and smaller than any of its child \n",
    "        if not self.isLeaf(i): \n",
    "            if (self.Heap[i] < self.Heap[self.leftChild(i)] or self.Heap[i] < self.Heap[self.rightChild(i)]): \n",
    "  \n",
    "                # Swap with the left child and heapify the left child \n",
    "                if self.Heap[self.leftChild(i)] > self.Heap[self.rightChild(i)]: \n",
    "                    self.swap(i, self.leftChild(i)) \n",
    "                    self.maxHeapify(self.leftChild(i)) \n",
    "  \n",
    "                # Swap with the right child and heapify the right child \n",
    "                else: \n",
    "                    self.swap(i, self.rightChild(i)) \n",
    "                    self.maxHeapify(self.rightChild(i))\n",
    "                    \n",
    "    # Function to insert a node into the heap \n",
    "    def insert(self, element): \n",
    "        if self.size >= self.maxsize : \n",
    "            return\n",
    "        self.size+= 1\n",
    "        self.Heap[self.size] = element \n",
    "  \n",
    "        current = self.size \n",
    "  \n",
    "        while self.Heap[current] > self.Heap[self.parent(current)]: \n",
    "            self.swap(current, self.parent(current)) \n",
    "            current = self.parent(current) \n",
    "        \n",
    "    # Function to remove and return the maximum element from the heap         \n",
    "    def extractMax(self): \n",
    "  \n",
    "        popped = self.Heap[self.FRONT] \n",
    "        self.Heap[self.FRONT] = self.Heap[self.size] \n",
    "        self.size-= 1\n",
    "        self.maxHeapify(self.FRONT) \n",
    "        return popped \n",
    "    \n",
    "    # Function to print the contents of the heap \n",
    "    def Print(self): \n",
    "        for i in range(1, (self.size//2)+1): \n",
    "            print(\" PARENT : \"+str(self.Heap[i])+\" LEFT CHILD : \"+ \n",
    "                               str(self.Heap[2 * i])+\" RIGHT CHILD : \"+\n",
    "                               str(self.Heap[2 * i + 1])) \n",
    "            \n",
    "# Driver Code \n",
    "if __name__ == \"__main__\": \n",
    "    print('The maxHeap is ') \n",
    "    minHeap = MaxHeap(15) \n",
    "    minHeap.insert(5) \n",
    "    minHeap.insert(3) \n",
    "    minHeap.insert(17) \n",
    "    minHeap.insert(10) \n",
    "    minHeap.insert(84) \n",
    "    minHeap.insert(19) \n",
    "    minHeap.insert(6) \n",
    "    minHeap.insert(22) \n",
    "    minHeap.insert(9) \n",
    "  \n",
    "    minHeap.Print() \n",
    "    print(\"The Max val is \" + str(minHeap.extractMax())) "
   ]
  },
  {
   "cell_type": "markdown",
   "metadata": {},
   "source": [
    "# Heap Sort\n",
    "Heap Sort Algorithm for sorting in increasing order:\n",
    "1. Build a max heap from the input data.\n",
    "2. At this point, the largest item is stored at the root of the heap. Replace it with the last item of the heap followed by reducing the size of heap by 1. Finally, heapify the root of tree.\n",
    "3. Repeat above steps while size of heap is greater than 1."
   ]
  },
  {
   "cell_type": "code",
   "execution_count": 28,
   "metadata": {},
   "outputs": [
    {
     "name": "stdout",
     "output_type": "stream",
     "text": [
      "[80, 70, 50, 10, 30, 20, 90]\n",
      "[70, 50, 30, 10, 20, 80, 90]\n",
      "[50, 30, 20, 10, 70, 80, 90]\n",
      "[30, 20, 10, 50, 70, 80, 90]\n",
      "[20, 10, 30, 50, 70, 80, 90]\n",
      "[10, 20, 30, 50, 70, 80, 90]\n"
     ]
    }
   ],
   "source": [
    "# To heapify subtree rooted at index i. \n",
    "# n is size of heap \n",
    "def heapify(arr, n, i): \n",
    "    largest=i\n",
    "    left=2*i\n",
    "    right=2*i+1\n",
    "    \n",
    "    # See if left child of root exists and is greater than root\n",
    "    if left<n and arr[left]>arr[i]:\n",
    "        largest=left\n",
    "        \n",
    "    # See if right child of root exists and is greater than root\n",
    "    if right<n and arr[right]>arr[i]:\n",
    "        largest=right\n",
    "        \n",
    "    if largest!=i:                #swap\n",
    "        arr[i],arr[largest] = arr[largest],arr[i]\n",
    "        heapify(arr, n, largest) #heapify the root\n",
    "\n",
    "def heap_sort(arr):         \n",
    "    n=len(arr)\n",
    "    \n",
    "    # Build a maxheap. \n",
    "    for i in range(n//2 -1, -1, -1):  #from index n//2 to 1\n",
    "        heapify(arr, n, i) \n",
    "        \n",
    "    for i in range(n-1,0,-1):\n",
    "        arr[i], arr[0] = arr[0], arr[i] # swap last index with the first element \n",
    "        heapify(arr, i, 0) # apply heapify on the first element \n",
    "        print(arr)\n",
    "        \n",
    "arr=[90,80,70,10,30,50,20]\n",
    "heap_sort(arr)"
   ]
  },
  {
   "cell_type": "code",
   "execution_count": null,
   "metadata": {},
   "outputs": [],
   "source": []
  }
 ],
 "metadata": {
  "kernelspec": {
   "display_name": "Python 3",
   "language": "python",
   "name": "python3"
  },
  "language_info": {
   "codemirror_mode": {
    "name": "ipython",
    "version": 3
   },
   "file_extension": ".py",
   "mimetype": "text/x-python",
   "name": "python",
   "nbconvert_exporter": "python",
   "pygments_lexer": "ipython3",
   "version": "3.7.3"
  }
 },
 "nbformat": 4,
 "nbformat_minor": 2
}
