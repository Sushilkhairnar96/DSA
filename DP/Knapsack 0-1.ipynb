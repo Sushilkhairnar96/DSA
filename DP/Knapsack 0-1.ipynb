{
 "cells": [
  {
   "cell_type": "markdown",
   "metadata": {},
   "source": [
    "“given a set of items, each with a weight and a value, determine the number of each item to include in a collection so that the total weight is less than or equal to a given limit and the total value is as large as possible.”\n",
    "From Wikipedia, we see that there are a few variations of the Knapsack Problem: 0–1 knapsack, bounded knapsack, and unbounded knapsack."
   ]
  },
  {
   "cell_type": "markdown",
   "metadata": {},
   "source": [
    "## 1. Knapsack Problem details\n",
    "Suppose we have a knapsack which can hold int w = 10 weight units.\n",
    "\n",
    "We have a total of int n = 4 items to choose from, whose values are represented by an array int[] val = {10, 40, 30, 50} and weights represented by an array int[] wt = {5, 4, 6, 3}.\n",
    "Since this is the 0–1 knapsack problem, we can either include an item in our knapsack or exclude it, but not include a fraction of it, or include it multiple times."
   ]
  },
  {
   "cell_type": "markdown",
   "metadata": {},
   "source": [
    "# 1.a Recursive Approach"
   ]
  },
  {
   "cell_type": "code",
   "execution_count": 48,
   "metadata": {},
   "outputs": [],
   "source": [
    "val = [1,4,5,7]#[4,5,3,7]\n",
    "wt =[1,3,4,5] #[2,3,1,4]\n",
    "n=4\n",
    "W=7 #Capacity"
   ]
  },
  {
   "cell_type": "code",
   "execution_count": 49,
   "metadata": {},
   "outputs": [],
   "source": [
    "def Knapsack_rec(val,wt,W,n):\n",
    "    if n==0 or W==0:\n",
    "        return 0\n",
    "    if(wt[n-1]<=W):\n",
    "        return max(val[n-1]+ Knapsack_rec(val,wt,W-wt[n-1],n-1), Knapsack_rec(val,wt,W,n-1))\n",
    "    else:\n",
    "        return Knapsack_rec(val,wt,W,n-1)"
   ]
  },
  {
   "cell_type": "code",
   "execution_count": 50,
   "metadata": {},
   "outputs": [
    {
     "data": {
      "text/plain": [
       "9"
      ]
     },
     "execution_count": 50,
     "metadata": {},
     "output_type": "execute_result"
    }
   ],
   "source": [
    "Knapsack_rec(val,wt,W,n)"
   ]
  },
  {
   "cell_type": "markdown",
   "metadata": {},
   "source": [
    "# 1.b DP"
   ]
  },
  {
   "cell_type": "code",
   "execution_count": 28,
   "metadata": {},
   "outputs": [],
   "source": [
    "val = [1,4,5,7]\n",
    "wt  = [1,3,4,5]\n",
    "n=4\n",
    "W=7 #Capacity"
   ]
  },
  {
   "cell_type": "code",
   "execution_count": 29,
   "metadata": {},
   "outputs": [
    {
     "name": "stdout",
     "output_type": "stream",
     "text": [
      "val:[0, 1, 4, 5, 7],wt:[0, 1, 3, 4, 5]\n"
     ]
    },
    {
     "data": {
      "text/plain": [
       "[[0, 0, 0, 0, 0, 0, 0, 0],\n",
       " [0, 1, 1, 1, 1, 1, 1, 1],\n",
       " [0, 1, 1, 4, 5, 5, 5, 5],\n",
       " [0, 1, 1, 4, 5, 6, 6, 9],\n",
       " [0, 1, 1, 4, 5, 7, 8, 9]]"
      ]
     },
     "execution_count": 29,
     "metadata": {},
     "output_type": "execute_result"
    }
   ],
   "source": [
    "val= [0]+val\n",
    "wt= [0]+wt\n",
    "print(f\"val:{val},wt:{wt}\")\n",
    "\n",
    "dp = [[0 for w in range(W+1)] for i in range(n+1)]\n",
    "for i in range(n+1):\n",
    "    for w in range(W+1):\n",
    "        if i==0 or w==0:\n",
    "            dp[i][w]=0\n",
    "        elif wt[i]<=w:\n",
    "            dp[i][w]= max(val[i]+ dp[i-1][w-wt[i]], dp[i-1][w])\n",
    "        else:\n",
    "            dp[i][w]= dp[i-1][w]\n",
    "dp         "
   ]
  },
  {
   "cell_type": "code",
   "execution_count": 30,
   "metadata": {},
   "outputs": [
    {
     "data": {
      "text/plain": [
       "9"
      ]
     },
     "execution_count": 30,
     "metadata": {},
     "output_type": "execute_result"
    }
   ],
   "source": [
    "def KnapSack(val,wt,W,n):\n",
    "    dp = [[0 for w in range(W+1)] for i in range(n+1)]\n",
    "    \n",
    "    for i in range(n+1):\n",
    "        for w in range(W+1):\n",
    "            if i==0 or w==0:\n",
    "                dp[i][w]=0\n",
    "            elif wt[i-1]<=w:\n",
    "                dp[i][w]= max(val[i-1]+ dp[i-1][w- wt[i-1]], dp[i-1][w])\n",
    "            else:\n",
    "                dp[i][w]= dp[i-1][w]\n",
    "    return dp[n][w]\n",
    "\n",
    "val = [1,4,5,7]\n",
    "wt  = [1,3,4,5]\n",
    "n=4\n",
    "W=7 #Capacity\n",
    "KnapSack(val,wt,W,n)"
   ]
  },
  {
   "cell_type": "markdown",
   "metadata": {},
   "source": [
    "# 2. Subset Sum"
   ]
  },
  {
   "cell_type": "code",
   "execution_count": 31,
   "metadata": {},
   "outputs": [
    {
     "name": "stdout",
     "output_type": "stream",
     "text": [
      "[[True, False, False, False, False, False, False, False, False, False, False, False], [True, False, True, False, False, False, False, False, False, False, False, False], [True, False, True, True, False, True, False, False, False, False, False, False], [True, False, True, True, False, True, False, True, False, True, True, False], [True, False, True, True, False, True, False, True, True, True, True, True], [True, False, True, True, False, True, False, True, True, True, True, True]]\n"
     ]
    },
    {
     "data": {
      "text/plain": [
       "True"
      ]
     },
     "execution_count": 31,
     "metadata": {},
     "output_type": "execute_result"
    }
   ],
   "source": [
    "arr= [2,3,7,8,10]\n",
    "summ=11\n",
    "n=5\n",
    "\n",
    "def isSubsetSum(arr, n, summ):\n",
    "    dp =[[False for j in range(summ + 1)] for i in range(n + 1)]\n",
    "    for i in range(n+1):\n",
    "        dp[i][0]=True\n",
    "        for j in range(1,summ+1):\n",
    "            dp[0][j]=False\n",
    "                \n",
    "    for i in range(1,n+1):\n",
    "        for j in range(1,summ+1):            \n",
    "            if j<arr[i-1]:\n",
    "                dp[i][j]= dp[i-1][j]\n",
    "            else:\n",
    "                dp[i][j]= dp[i-1][j] or dp[i-1][j- arr[i-1]]\n",
    "\n",
    "    print(dp)\n",
    "    return  dp[n][summ]       \n",
    "\n",
    "isSubsetSum(arr, n, summ)"
   ]
  },
  {
   "cell_type": "markdown",
   "metadata": {},
   "source": [
    "# 3. Equal Sum Partition"
   ]
  },
  {
   "cell_type": "code",
   "execution_count": 32,
   "metadata": {},
   "outputs": [
    {
     "name": "stdout",
     "output_type": "stream",
     "text": [
      "[[True, False, False, False, False, False, False, False, False, False, False, False, False, False, False, False, False], [True, True, False, False, False, False, False, False, False, False, False, False, False, False, False, False, False], [True, True, False, False, False, True, True, False, False, False, False, False, False, False, False, False, False], [True, True, False, False, False, True, True, False, False, False, False, True, True, False, False, False, True], [True, True, False, False, False, True, True, False, False, False, False, True, True, False, False, True, True]]\n"
     ]
    },
    {
     "data": {
      "text/plain": [
       "True"
      ]
     },
     "execution_count": 32,
     "metadata": {},
     "output_type": "execute_result"
    }
   ],
   "source": [
    "def isEqualSum(arr, n, summ):\n",
    "    dp =[[False for j in range(summ + 1)] for i in range(n + 1)]\n",
    "    for i in range(n+1):\n",
    "        dp[i][0]=True\n",
    "        for j in range(1,summ+1):\n",
    "            dp[0][j]=False\n",
    "                \n",
    "    for i in range(1,n+1):\n",
    "        for j in range(1,summ+1):            \n",
    "            if j<arr[i-1]:\n",
    "                dp[i][j]= dp[i-1][j]\n",
    "            else:\n",
    "                dp[i][j]= dp[i-1][j] or dp[i-1][j- arr[i-1]]\n",
    "\n",
    "    print(dp)\n",
    "    return  dp[n][summ]       \n",
    "\n",
    "arr=[1,5,11,15]\n",
    "n=4\n",
    "summ=sum(arr)\n",
    "isEqualSum(arr, n, summ//2)"
   ]
  },
  {
   "cell_type": "markdown",
   "metadata": {},
   "source": [
    "# 4. Count Subset Sum"
   ]
  },
  {
   "cell_type": "code",
   "execution_count": 78,
   "metadata": {},
   "outputs": [
    {
     "name": "stdout",
     "output_type": "stream",
     "text": [
      "[[1, 0, 0, 0, 0, 0, 0, 0], [1, 0, 1, 0, 0, 0, 0, 0], [1, 0, 1, 1, 0, 1, 0, 0], [1, 0, 1, 1, 0, 1, 0, 1], [1, 1, 1, 2, 1, 1, 1, 1], [1, 1, 1, 2, 2, 2, 2, 3], [1, 1, 1, 2, 2, 3, 3, 4]]\n"
     ]
    },
    {
     "data": {
      "text/plain": [
       "4"
      ]
     },
     "execution_count": 78,
     "metadata": {},
     "output_type": "execute_result"
    }
   ],
   "source": [
    "def CountSubsetSum(arr, n, summ):\n",
    "    dp =[[0 for j in range(summ + 1)] for i in range(n + 1)]\n",
    "    for i in range(n+1):\n",
    "        dp[i][0]=1\n",
    "        for j in range(1,summ+1):\n",
    "            dp[0][j]=0\n",
    "                \n",
    "    for i in range(1,n+1):\n",
    "        for j in range(1,summ+1):            \n",
    "            if j<arr[i-1]:\n",
    "                dp[i][j]= dp[i-1][j]\n",
    "            else:\n",
    "                dp[i][j]= dp[i-1][j] + dp[i-1][j-arr[i-1]]\n",
    "\n",
    "    print(dp)\n",
    "    return  dp[n][summ]       \n",
    "\n",
    "arr=[2,3,7,1,4,5]\n",
    "n=len(arr)\n",
    "summ=7\n",
    "CountSubsetSum(arr, n, summ)"
   ]
  },
  {
   "cell_type": "markdown",
   "metadata": {},
   "source": [
    "# 5. Minimum Subset Difference"
   ]
  },
  {
   "cell_type": "code",
   "execution_count": 71,
   "metadata": {},
   "outputs": [
    {
     "data": {
      "text/plain": [
       "1"
      ]
     },
     "execution_count": 71,
     "metadata": {},
     "output_type": "execute_result"
    }
   ],
   "source": [
    "def getLastRowFromSubsetSumm(arr, n, summ):\n",
    "    dp = [[0 for j in range(summ+1)] for i in range(n+1)]\n",
    "    for i in range(n+1):\n",
    "        dp[i][0]=True\n",
    "        for j in range(1,summ+1):\n",
    "            dp[0][j]=False\n",
    "    for i in range(1,n+1):\n",
    "        for j in range(1,summ+1):\n",
    "            if arr[i-1] > j:\n",
    "                dp[i][j] = dp[i-1][j]\n",
    "            else:\n",
    "                dp[i][j]= dp[i-1][j] or dp[i-1][j- arr[i-1]]\n",
    "    #Until this point code is same as subset sum, return the last row of knapsack dp\n",
    "    return [i for i in range(summ+1) if dp[n][i]!= False] #candidates for s1 and s2\n",
    "\n",
    "def MinimumSubsetDifference(arr, n):\n",
    "    summ=sum(arr)       #range=0 to sum(arr)\n",
    "    res = isSubsetSum(arr, n, summ)\n",
    "    min_diff= float('inf')\n",
    "    for i in range(len(res)//2):\n",
    "        min_diff = min(min_diff, summ - 2*res[i] )\n",
    "    return min_diff\n",
    "\n",
    "arr=[1,6,3,4,7]\n",
    "n=len(arr)\n",
    "MinimumSubsetDifference(arr, n)"
   ]
  },
  {
   "cell_type": "markdown",
   "metadata": {},
   "source": [
    "# 6. Count Number of Subsets with a given difference\n",
    "# 7. Target Sum"
   ]
  },
  {
   "cell_type": "code",
   "execution_count": 84,
   "metadata": {},
   "outputs": [
    {
     "name": "stdout",
     "output_type": "stream",
     "text": [
      "[[1, 0, 0, 0, 0], [1, 1, 0, 0, 0], [1, 2, 1, 0, 0], [1, 2, 2, 2, 1], [1, 2, 2, 3, 3]]\n"
     ]
    },
    {
     "data": {
      "text/plain": [
       "3"
      ]
     },
     "execution_count": 84,
     "metadata": {},
     "output_type": "execute_result"
    }
   ],
   "source": [
    "def CountSubsetDifference(arr, n, diff):\n",
    "    summ = sum(arr)\n",
    "    if (summ+diff)%2==0:\n",
    "        return CountSubsetSum(arr, n, (summ+diff)//2)\n",
    "    else:\n",
    "        return 0\n",
    "\n",
    "arr=[1,1,2,3]\n",
    "n=len(arr)\n",
    "diff=1\n",
    "CountSubsetDifference(arr, n, diff)"
   ]
  },
  {
   "cell_type": "code",
   "execution_count": null,
   "metadata": {},
   "outputs": [],
   "source": []
  }
 ],
 "metadata": {
  "kernelspec": {
   "display_name": "Python 3",
   "language": "python",
   "name": "python3"
  },
  "language_info": {
   "codemirror_mode": {
    "name": "ipython",
    "version": 3
   },
   "file_extension": ".py",
   "mimetype": "text/x-python",
   "name": "python",
   "nbconvert_exporter": "python",
   "pygments_lexer": "ipython3",
   "version": "3.7.3"
  }
 },
 "nbformat": 4,
 "nbformat_minor": 2
}
