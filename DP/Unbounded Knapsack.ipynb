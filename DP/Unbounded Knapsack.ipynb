{
 "cells": [
  {
   "cell_type": "markdown",
   "metadata": {},
   "source": [
    "# 1. Rod Cutting Problem"
   ]
  },
  {
   "cell_type": "markdown",
   "metadata": {},
   "source": [
    "https://www.educative.io/edpresso/the-rod-cutting-problem\n",
    "\n",
    "\n",
    "Rod cutting problem is very much related to any real-world problem we face. You have a rod of some size and you want to cut it into parts and sell in such a way that you get the maximum revenue out of it. Now, here is the catch, prices of different size of pieces are different and it is a possibility that a cutting into smaller pieces can fetch more revenue than selling a bigger piece, so a different strategy is needed.\n",
    "\n",
    "\n",
    "Before that, lets state the problem more formally,\n",
    "You are given a rod of size n >0, it can be cut into any number of pieces k (k ≤ n). Price for each piece of size i is represented as p(i) and maximum revenue from a rod of size i is r(i) (could be split into multiple pieces). Find r(n) for the rod of size n."
   ]
  },
  {
   "cell_type": "code",
   "execution_count": 1,
   "metadata": {},
   "outputs": [
    {
     "name": "stdout",
     "output_type": "stream",
     "text": [
      "[[0, 0, 0, 0, 0, 0, 0], [0, 0, 3, 3, 6, 6, 9], [0, 0, 3, 5, 6, 8, 10], [0, 0, 3, 5, 6, 8, 10], [0, 0, 3, 5, 6, 8, 10]]\n"
     ]
    },
    {
     "data": {
      "text/plain": [
       "10"
      ]
     },
     "execution_count": 1,
     "metadata": {},
     "output_type": "execute_result"
    }
   ],
   "source": [
    "# Function to find best way to cut a rod of length n\n",
    "# where rod of length i has a cost price[i-1]\n",
    "'''\n",
    "Similarity with 0/1 Knapsack:\n",
    "price => val\n",
    "length => wt\n",
    "N => W\n",
    "n =>n\n",
    "'''\n",
    "def RodCutting(price,length,W,n):\n",
    "    dp = [[0 for j in range(W+1)] for i in range(n+1)]\n",
    "    \n",
    "    for i in range(n+1):\n",
    "         for j in range(W+1):\n",
    "                if i==0 or j==0:\n",
    "                    dp[i][j]=0\n",
    "                elif length[i-1] > j:\n",
    "                    dp[i][j]= dp[i-1][j]    #exculde\n",
    "                else:\n",
    "                    dp[i][j] = max(dp[i-1][j], price[i-1]+ dp[i][j- length[i-1]]) #include\n",
    "    print(dp)\n",
    "    return dp[n][W]\n",
    "\n",
    "#price = [1, 5, 8, 9, 10, 17, 17, 20]\n",
    "#length= [1,2,3,4,5,6,7,8]\n",
    "length=[2,3,5,6]\n",
    "price = [3,5,4,7]\n",
    "W= max(length)\n",
    "n=len(price)\n",
    "RodCutting(price,length,W,n)"
   ]
  },
  {
   "cell_type": "markdown",
   "metadata": {},
   "source": [
    "# 2. Coin Change Problem - I\n",
    "Find max no. of ways we can find the sum equal to given sum"
   ]
  },
  {
   "cell_type": "code",
   "execution_count": 2,
   "metadata": {},
   "outputs": [
    {
     "name": "stdout",
     "output_type": "stream",
     "text": [
      "[[1, 0, 0, 0, 0, 0, 0, 0], [1, 0, 0, 1, 0, 0, 1, 0], [1, 0, 0, 1, 0, 0, 2, 0], [1, 0, 0, 1, 1, 0, 2, 1], [1, 0, 0, 1, 1, 1, 2, 1], [1, 0, 1, 1, 2, 2, 4, 3]]\n"
     ]
    },
    {
     "data": {
      "text/plain": [
       "3"
      ]
     },
     "execution_count": 2,
     "metadata": {},
     "output_type": "execute_result"
    }
   ],
   "source": [
    "def CoinChange1(coin,summ,n):\n",
    "    dp = [[0 for j in range(summ+1)] for i in range(n+1)]\n",
    "    \n",
    "    for i in range(n+1):\n",
    "        dp[i][0]=1\n",
    "    for j in range(1,summ+1):\n",
    "        dp[0][j]=0\n",
    "    for i in range(1,n+1):\n",
    "        for j in range(1,summ+1):\n",
    "            if coin[i-1]>j:\n",
    "                dp[i][j]= dp[i-1][j]\n",
    "            else:\n",
    "                dp[i][j] = dp[i-1][j] + dp[i][j-coin[i-1]]\n",
    "    print(dp)\n",
    "    return dp[n][summ]\n",
    "    \n",
    "coin = [3,6,4,5,2]#[1,2,3]\n",
    "summ=7\n",
    "n=len(coin)\n",
    "CoinChange1(coin,summ,n)"
   ]
  },
  {
   "cell_type": "markdown",
   "metadata": {},
   "source": [
    "# 3. Coin Change Problem - II\n",
    "Find min no. of ways we can find the sum equal to given sum\n",
    "\n",
    "Input: coins[] = {25, 10, 5}, V = 30\n",
    "Output: Minimum 2 coins required\n",
    "We can use one coin of 25 cents and one of 5 cents \n",
    "\n",
    "Input: coins[] = {9, 6, 5, 1}, V = 11\n",
    "Output: Minimum 2 coins required\n",
    "We can use one coin of 6 cents and 1 coin of 5 cents"
   ]
  },
  {
   "cell_type": "code",
   "execution_count": 3,
   "metadata": {},
   "outputs": [
    {
     "name": "stdout",
     "output_type": "stream",
     "text": [
      "[[0, inf, inf, inf, inf, inf, inf, inf], [0, inf, 1, inf, 2, inf, 3, inf], [0, inf, 1, 1, 2, 2, 2, 3], [0, inf, 1, 1, 2, 1, 2, 2], [0, inf, 1, 1, 1, 1, 2, 2], [0, 1, 1, 1, 1, 1, 2, 2]]\n"
     ]
    },
    {
     "data": {
      "text/plain": [
       "2"
      ]
     },
     "execution_count": 3,
     "metadata": {},
     "output_type": "execute_result"
    }
   ],
   "source": [
    "def CoinChange2(coin,summ,n):\n",
    "    dp = [[0 for j in range(summ+1)] for i in range(n+1)]\n",
    "    \n",
    "    for i in range(n+1):\n",
    "        dp[i][0]=0\n",
    "    for j in range(1,summ+1):\n",
    "        dp[0][j]=float('inf')-1\n",
    "    for i in range(1,n+1):\n",
    "        for j in range(1,summ+1):\n",
    "            if coin[i-1]>j:\n",
    "                dp[i][j]= dp[i-1][j]\n",
    "            else:\n",
    "                dp[i][j] = min(dp[i-1][j],1+ dp[i][j-coin[i-1]])\n",
    "    print(dp)\n",
    "    return dp[n][summ]\n",
    "    \n",
    "coin = [2,3,5,4,1]\n",
    "summ=7\n",
    "n=len(coin)\n",
    "CoinChange2(coin,summ,n)"
   ]
  },
  {
   "cell_type": "code",
   "execution_count": null,
   "metadata": {},
   "outputs": [],
   "source": []
  },
  {
   "cell_type": "code",
   "execution_count": 4,
   "metadata": {},
   "outputs": [],
   "source": [
    "#LC518. Coin Change 2\n",
    "'''\n",
    "You are given coins of different denominations and a total amount of money.\n",
    "Write a function to compute the number of combinations that make up that amount. \n",
    "You may assume that you have infinite number of each kind of coin.\n",
    "\n",
    "Example 1:\n",
    "\n",
    "Input: amount = 5, coins = [1, 2, 5]\n",
    "Output: 4\n",
    "Explanation: there are four ways to make up the amount:\n",
    "5=5\n",
    "5=2+2+1\n",
    "5=2+1+1+1\n",
    "5=1+1+1+1+1\n",
    "'''\n",
    "def coinChange(coins, amount: int) -> int:\n",
    "    dp = [[0 for j in range(amount+1)] for i in range(len(coins)+1)]\n",
    "    \n",
    "    for i in range(len(coins)+1):\n",
    "        dp[i][0]=0\n",
    "    for j in range(1,amount+1):\n",
    "        dp[0][j]=float('inf')-1\n",
    "    \n",
    "    for i in range(1,len(coins)+1):\n",
    "        for j in range(1,amount+1):\n",
    "            if coins[i-1]<=j:\n",
    "                dp[i][j] = min(dp[i-1][j],1+ dp[i][j-coins[i-1]])\n",
    "            else:\n",
    "                dp[i][j] = dp[i-1][j]\n",
    "    \n",
    "    return dp[len(coins)][amount] if dp[len(coins)][amount] != float('inf') else -1 \n",
    "    '''\n",
    "    def coin_change_1(coins,n,amount):\n",
    "        if n==0:\n",
    "            return float('inf')-1\n",
    "        if amount==0:\n",
    "            return 0\n",
    "        if coins[n-1]<=amount:\n",
    "            return min(coin_change_1(coins,n-1,amount),1+coin_change_1(coins,n,amount-coins[n-1]))\n",
    "        else:\n",
    "            return coin_change_1(coins,n-1,amount)\n",
    "    \n",
    "    n=len(coins)\n",
    "    ans = coin_change_1(coins,n,amount)\n",
    "    return ans if ans  != float('inf') else -1\n",
    "    '''"
   ]
  },
  {
   "cell_type": "code",
   "execution_count": 5,
   "metadata": {},
   "outputs": [],
   "source": [
    "#LC322. Coin Change\n",
    "'''\n",
    "You are given coins of different denominations and a total amount of money amount. \n",
    "Write a function to compute the fewest number of coins that you need to make up that amount. \n",
    "If that amount of money cannot be made up by any combination of the coins, return -1.\n",
    "\n",
    "Example 1:\n",
    "\n",
    "Input: coins = [1, 2, 5], amount = 11\n",
    "Output: 3 \n",
    "Explanation: 11 = 5 + 5 + 1\n",
    "Example 2:\n",
    "\n",
    "Input: coins = [2], amount = 3\n",
    "Output: -1\n",
    "'''\n",
    "def change(amount: int, coins) -> int:\n",
    "    dp = [[0 for j in range(amount+1)] for i in range(len(coins)+1)]\n",
    "    \n",
    "    for i in range(len(coins)+1):\n",
    "        dp[i][0]=1\n",
    "        \n",
    "    for i in range(1,len(coins)+1):\n",
    "        for j in range(1,amount+1):\n",
    "            if coins[i-1]<=j:\n",
    "                dp[i][j]= dp[i-1][j] + dp[i][j-coins[i-1]]\n",
    "            else:\n",
    "                dp[i][j]= dp[i-1][j]\n",
    "    return dp[len(coins)][amount]\n",
    "    '''        \n",
    "    def coin_change_2(coins,n,amount):\n",
    "        if n==0:\n",
    "            return 0\n",
    "        if amount==0:\n",
    "            return 1\n",
    "        if coins[n-1]<=amount:\n",
    "            return coin_change_2(coins,n-1,amount) + coin_change_2(coins,n,amount-coins[n-1])\n",
    "        else:\n",
    "            return coin_change_2(coins,n-1,amount)\n",
    "    \n",
    "    n=len(coins)\n",
    "    if amount==0:\n",
    "        return 1\n",
    "    if n==0:\n",
    "        return 0\n",
    "    return coin_change_2(coins,n,amount)\n",
    "    '''"
   ]
  },
  {
   "cell_type": "code",
   "execution_count": 5,
   "metadata": {},
   "outputs": [
    {
     "data": {
      "text/plain": [
       "6"
      ]
     },
     "execution_count": 5,
     "metadata": {},
     "output_type": "execute_result"
    }
   ],
   "source": [
    "#Maximum Product Cutting a Rope\n",
    "'''\n",
    "Given a rope of length n meters, cut the rope in different parts of integer lengths in a way that \n",
    "maximizes product of lengths of all parts. You must make at least one cut. Assume that the length of rope is more\n",
    "than 2 meters.\n",
    "\n",
    "Input: n = 2\n",
    "Output: 1 (Maximum obtainable product is 1*1)\n",
    "\n",
    "Input: n = 3\n",
    "Output: 2 (Maximum obtainable product is 1*2)\n",
    "\n",
    "Input: n = 4  => max( 2*1*1, 1*1*1*1, 2*2, 3*1) => 4\n",
    "Output: 4 (Maximum obtainable product is 2*2)\n",
    "\n",
    "Input: n = 5  => max(41,32,221,11111,1211,113) => 6\n",
    "Output: 6 (Maximum obtainable product is 2*3)\n",
    "'''\n",
    "\n",
    "def rope_cutting(n):\n",
    "    if n==0 or n==1:\n",
    "        return 0\n",
    "    max_val=0\n",
    "    for i in range(1,n-1):\n",
    "        max_val =  max(max_val,max(i*(n-i),rope_cutting(n-i)*i))\n",
    "    return max_val\n",
    "\n",
    "n=5\n",
    "rope_cutting(n)"
   ]
  },
  {
   "cell_type": "code",
   "execution_count": null,
   "metadata": {},
   "outputs": [],
   "source": [
    "\n",
    "\n"
   ]
  }
 ],
 "metadata": {
  "kernelspec": {
   "display_name": "Python 3",
   "language": "python",
   "name": "python3"
  },
  "language_info": {
   "codemirror_mode": {
    "name": "ipython",
    "version": 3
   },
   "file_extension": ".py",
   "mimetype": "text/x-python",
   "name": "python",
   "nbconvert_exporter": "python",
   "pygments_lexer": "ipython3",
   "version": "3.7.3"
  }
 },
 "nbformat": 4,
 "nbformat_minor": 2
}
