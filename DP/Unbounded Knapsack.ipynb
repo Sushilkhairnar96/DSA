{
 "cells": [
  {
   "cell_type": "markdown",
   "metadata": {},
   "source": [
    "# 1. Rod Cutting Problem"
   ]
  },
  {
   "cell_type": "markdown",
   "metadata": {},
   "source": [
    "https://www.educative.io/edpresso/the-rod-cutting-problem\n",
    "\n",
    "\n",
    "Rod cutting problem is very much related to any real-world problem we face. You have a rod of some size and you want to cut it into parts and sell in such a way that you get the maximum revenue out of it. Now, here is the catch, prices of different size of pieces are different and it is a possibility that a cutting into smaller pieces can fetch more revenue than selling a bigger piece, so a different strategy is needed.\n",
    "\n",
    "\n",
    "Before that, lets state the problem more formally,\n",
    "You are given a rod of size n >0, it can be cut into any number of pieces k (k ≤ n). Price for each piece of size i is represented as p(i) and maximum revenue from a rod of size i is r(i) (could be split into multiple pieces). Find r(n) for the rod of size n."
   ]
  },
  {
   "cell_type": "code",
   "execution_count": 23,
   "metadata": {},
   "outputs": [
    {
     "name": "stdout",
     "output_type": "stream",
     "text": [
      "[[0, 0, 0, 0, 0], [0, 2, 4, 6, 8], [0, 2, 5, 7, 10], [0, 2, 5, 7, 10], [0, 2, 5, 7, 10]]\n"
     ]
    },
    {
     "data": {
      "text/plain": [
       "10"
      ]
     },
     "execution_count": 23,
     "metadata": {},
     "output_type": "execute_result"
    }
   ],
   "source": [
    "# Function to find best way to cut a rod of length n\n",
    "# where rod of length i has a cost price[i-1]\n",
    "'''\n",
    "Similarity with 0/1 Knapsack:\n",
    "price => val\n",
    "length => wt\n",
    "N => W\n",
    "n =>n\n",
    "'''\n",
    "def RodCutting(price,length,W,n):\n",
    "    dp = [[0 for j in range(W+1)] for i in range(n+1)]\n",
    "    \n",
    "    for i in range(n+1):\n",
    "         for j in range(W+1):\n",
    "                if i==0 or j==0:\n",
    "                    dp[i][j]=0\n",
    "                elif length[i-1] > j:\n",
    "                    dp[i][j]= dp[i-1][j]    #exculde\n",
    "                else:\n",
    "                    dp[i][j] = max(dp[i-1][j], price[i-1]+ dp[i][j- length[i-1]]) #include\n",
    "    print(dp)\n",
    "    return dp[n][W]\n",
    "#price = [1, 5, 8, 9, 10, 17, 17, 20]\n",
    "price = [2,5,7,8]\n",
    "length= [i for i in range(1,len(price)+1)]\n",
    "W= len(price)\n",
    "n=len(price)\n",
    "RodCutting(price,length,W,n)"
   ]
  },
  {
   "cell_type": "code",
   "execution_count": null,
   "metadata": {},
   "outputs": [],
   "source": [
    "\n"
   ]
  }
 ],
 "metadata": {
  "kernelspec": {
   "display_name": "Python 3",
   "language": "python",
   "name": "python3"
  },
  "language_info": {
   "codemirror_mode": {
    "name": "ipython",
    "version": 3
   },
   "file_extension": ".py",
   "mimetype": "text/x-python",
   "name": "python",
   "nbconvert_exporter": "python",
   "pygments_lexer": "ipython3",
   "version": "3.7.3"
  }
 },
 "nbformat": 4,
 "nbformat_minor": 2
}
