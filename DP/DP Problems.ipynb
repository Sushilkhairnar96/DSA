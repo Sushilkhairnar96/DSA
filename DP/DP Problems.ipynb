{
 "cells": [
  {
   "cell_type": "code",
   "execution_count": 1,
   "metadata": {},
   "outputs": [
    {
     "data": {
      "text/plain": [
       "3"
      ]
     },
     "execution_count": 1,
     "metadata": {},
     "output_type": "execute_result"
    }
   ],
   "source": [
    "#LC72. Edit Distance\n",
    "'''\n",
    "Given two words word1 and word2, find the minimum number of operations required to convert word1 to word2.\n",
    "\n",
    "You have the following 3 operations permitted on a word:\n",
    "\n",
    "Insert a character\n",
    "Delete a character\n",
    "Replace a character\n",
    "Example 1:\n",
    "\n",
    "Input: word1 = \"horse\", word2 = \"ros\"\n",
    "Output: 3\n",
    "Explanation: \n",
    "horse -> rorse (replace 'h' with 'r')\n",
    "rorse -> rose (remove 'r')\n",
    "rose -> ros (remove 'e')\n",
    "Example 2:\n",
    "\n",
    "Input: word1 = \"intention\", word2 = \"execution\"\n",
    "Output: 5\n",
    "Explanation: \n",
    "intention -> inention (remove 't')\n",
    "inention -> enention (replace 'i' with 'e')\n",
    "enention -> exention (replace 'n' with 'x')\n",
    "exention -> exection (replace 'n' with 'c')\n",
    "exection -> execution (insert 'u')\n",
    "'''\n",
    "def minDistance(word1: str, word2: str):\n",
    "    '''\n",
    "    Recursive:\n",
    "    def dp(m, n):\n",
    "        # If first string is empty, the only option is to insert all characters of second string into first \n",
    "        if m == 0:\n",
    "            return n \n",
    "        # If second string is empty, the only option is to remove all characters of first string \n",
    "        if n == 0:\n",
    "            return m \n",
    "        # If last characters of two strings are same, nothing much to do. Ignore last characters and get count for remaining strings. \n",
    "        if word1[m-1]== word2[n-1]:\n",
    "            return dp(m-1, n-1)\n",
    "        else:\n",
    "            return 1 + min(dp(m, n-1), # Insert \n",
    "                        dp(m-1, n),    # Remove \n",
    "                        dp(m-1, n-1)   # Replace \n",
    "                        ) \n",
    "    m,n=len(word1),len(word2)\n",
    "    \n",
    "    return dp(m,n)\n",
    "    '''\n",
    "    m=len(word1)\n",
    "    n=len(word2)\n",
    "    dp =[[0 for j in range(n+1)] for i in range(m+1)]\n",
    "    for i in range(m+1):\n",
    "        dp[i][0]=i\n",
    "    for j in range(n+1):\n",
    "        dp[0][j]=j\n",
    "    \n",
    "    for i in range(1,m+1):\n",
    "        for j in range(1,n+1):\n",
    "            if word1[i-1]==word2[j-1]:\n",
    "                dp[i][j] = dp[i-1][j-1]\n",
    "            else:\n",
    "                dp[i][j] = 1 + min(dp[i-1][j-1],dp[i][j-1],dp[i-1][j])\n",
    "    return dp[m][n]\n",
    "\n",
    "word1 = \"horse\";word2 = \"ros\"\n",
    "minDistance(word1,word2)"
   ]
  },
  {
   "cell_type": "code",
   "execution_count": 9,
   "metadata": {},
   "outputs": [
    {
     "name": "stdout",
     "output_type": "stream",
     "text": [
      "['l', 'e', 'e', 't'] ['l', 'e', 'e', 't', 'c', 'o', 'd', 'e']\n"
     ]
    },
    {
     "data": {
      "text/plain": [
       "False"
      ]
     },
     "execution_count": 9,
     "metadata": {},
     "output_type": "execute_result"
    }
   ],
   "source": [
    "def wordBreak(s,wordDict):\n",
    "    dic = list(map(list,wordDict))\n",
    "    s1 = list(s)\n",
    "    for i in dic:\n",
    "        if i not in s1:\n",
    "            return False\n",
    "    return True\n",
    "s= \"catsandog\"\n",
    "wordDict=[\"cats\",\"dog\",\"sand\",\"and\",\"cat\"]\n",
    "wordBreak(s,wordDict)"
   ]
  },
  {
   "cell_type": "code",
   "execution_count": 13,
   "metadata": {},
   "outputs": [
    {
     "data": {
      "text/plain": [
       "True"
      ]
     },
     "execution_count": 13,
     "metadata": {},
     "output_type": "execute_result"
    }
   ],
   "source": [
    "def wordBreak(s,wordDict):\n",
    "    for i in wordDict:\n",
    "        if i not in s:\n",
    "            print(i,s)\n",
    "            return False\n",
    "    return True\n",
    "s= \"leetcode\"\n",
    "wordDict=[\"leet\",\"code\"]\n",
    "wordBreak(s,wordDict)"
   ]
  },
  {
   "cell_type": "code",
   "execution_count": null,
   "metadata": {},
   "outputs": [],
   "source": []
  }
 ],
 "metadata": {
  "kernelspec": {
   "display_name": "Python 3",
   "language": "python",
   "name": "python3"
  },
  "language_info": {
   "codemirror_mode": {
    "name": "ipython",
    "version": 3
   },
   "file_extension": ".py",
   "mimetype": "text/x-python",
   "name": "python",
   "nbconvert_exporter": "python",
   "pygments_lexer": "ipython3",
   "version": "3.7.3"
  }
 },
 "nbformat": 4,
 "nbformat_minor": 2
}
