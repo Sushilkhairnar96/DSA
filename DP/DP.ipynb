{
 "cells": [
  {
   "cell_type": "code",
   "execution_count": 1,
   "metadata": {},
   "outputs": [
    {
     "data": {
      "text/plain": [
       "5"
      ]
     },
     "execution_count": 1,
     "metadata": {},
     "output_type": "execute_result"
    }
   ],
   "source": [
    "#LC70. Climbing Stairs\n",
    "'''\n",
    "You are climbing a stair case. It takes n steps to reach to the top.\n",
    "\n",
    "Each time you can either climb 1 or 2 steps. In how many distinct ways can you climb to the top?\n",
    "\n",
    "Example 1:\n",
    "\n",
    "Input: 2\n",
    "Output: 2\n",
    "Explanation: There are two ways to climb to the top.\n",
    "1. 1 step + 1 step\n",
    "2. 2 steps\n",
    "Example 2:\n",
    "\n",
    "Input: 3\n",
    "Output: 3\n",
    "Explanation: There are three ways to climb to the top.\n",
    "1. 1 step + 1 step + 1 step\n",
    "2. 1 step + 2 steps\n",
    "3. 2 steps + 1 step\n",
    "'''\n",
    "\n",
    "'''\n",
    "# Top down - TLE\n",
    "def climbStairs(self, n):\n",
    "    if n == 1:\n",
    "        return 1\n",
    "    if n == 2:\n",
    "        return 2\n",
    "    return self.climbStairs(n-1)+self.climbStairs(n-2)\n",
    "'''\n",
    "'''\n",
    "# Bottom up, O(n) space\n",
    "def climbStairs(self, n):\n",
    "    if n == 1:\n",
    "        return 1\n",
    "    dp = [0 for i in range(n)]\n",
    "    dp[0], dp[1] = 1, 2\n",
    "    for i in range(2, n):\n",
    "        dp[i] = dp[i-1] + dp[i-2]\n",
    "    return dp[-1]\n",
    "'''\n",
    "# Bottom up, constant space\n",
    "def climbStairs(n):\n",
    "    if n==1: return 1\n",
    "    a,b=1,2\n",
    "    for _ in range(3,n+1):\n",
    "        a,b=b,a+b\n",
    "    return b\n",
    "\n",
    "climbStairs(4)"
   ]
  },
  {
   "cell_type": "code",
   "execution_count": null,
   "metadata": {},
   "outputs": [],
   "source": []
  }
 ],
 "metadata": {
  "kernelspec": {
   "display_name": "Python 3",
   "language": "python",
   "name": "python3"
  },
  "language_info": {
   "codemirror_mode": {
    "name": "ipython",
    "version": 3
   },
   "file_extension": ".py",
   "mimetype": "text/x-python",
   "name": "python",
   "nbconvert_exporter": "python",
   "pygments_lexer": "ipython3",
   "version": "3.7.3"
  }
 },
 "nbformat": 4,
 "nbformat_minor": 2
}
