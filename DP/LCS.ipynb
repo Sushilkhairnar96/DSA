{
 "cells": [
  {
   "cell_type": "markdown",
   "metadata": {},
   "source": [
    "# 1. Longest Common Subsequence"
   ]
  },
  {
   "cell_type": "code",
   "execution_count": 2,
   "metadata": {},
   "outputs": [
    {
     "name": "stdout",
     "output_type": "stream",
     "text": [
      "[[0, 0], [0, 0]]\n"
     ]
    },
    {
     "data": {
      "text/plain": [
       "0"
      ]
     },
     "execution_count": 2,
     "metadata": {},
     "output_type": "execute_result"
    }
   ],
   "source": [
    "'''\n",
    "LCS for input Sequences “ABCDGH” and “AEDFHR” is “ADH” of length 3.\n",
    "LCS for input Sequences “AGGTAB” and “GXTXAYB” is “GTAB” of length 4.\n",
    "'''\n",
    "def LCSubsequence(x,y,m,n):\n",
    "    dp =[[0 for j in range(n+1)] for i in range(m+1)]\n",
    "    if m==0 or n==0 : return 0\n",
    "    for i in range(1,m+1):\n",
    "        for j in range(1,n+1):\n",
    "            if(x[i-1]==y[j-1]):\n",
    "                dp[i][j]= 1 + dp[i-1][j-1]\n",
    "            else:\n",
    "                dp[i][j] = max(dp[i][j-1],dp[i-1][j])\n",
    "    print(dp)\n",
    "    return dp[m][n]\n",
    "       \n",
    "\n",
    "x=\"a\"\n",
    "y=\"b\"\n",
    "LCSubsequence(x,y,len(x),len(y))"
   ]
  },
  {
   "cell_type": "markdown",
   "metadata": {},
   "source": [
    "# 2. Print the LCS"
   ]
  },
  {
   "cell_type": "code",
   "execution_count": 3,
   "metadata": {},
   "outputs": [
    {
     "data": {
      "text/plain": [
       "'GTAB'"
      ]
     },
     "execution_count": 3,
     "metadata": {},
     "output_type": "execute_result"
    }
   ],
   "source": [
    "def LCS(x,y,m,n):\n",
    "    dp =[[0 for j in range(n+1)] for i in range(m+1)]\n",
    "    if m==0 or n==0 : return 0\n",
    "    for i in range(1,m+1):\n",
    "        for j in range(1,n+1):\n",
    "            if(x[i-1]==y[j-1]):\n",
    "                dp[i][j]= 1 + dp[i-1][j-1]\n",
    "            else:\n",
    "                dp[i][j] = max(dp[i][j-1],dp[i-1][j])\n",
    "    return dp\n",
    "\n",
    "def PrintLCS(dp,x,y):\n",
    "    i,j= len(x),len(y)\n",
    "    ans=\"\"\n",
    "    while(i>0 and j>0):\n",
    "        if(x[i-1]==y[j-1]):\n",
    "            ans+=x[i-1]\n",
    "            i-=1\n",
    "            j-=1\n",
    "        else:\n",
    "            if dp[i][j-1]>dp[i-1][j]:\n",
    "                j-=1\n",
    "            else:\n",
    "                i-=1\n",
    "    return ans[::-1]\n",
    "            \n",
    "x=\"AGGTAB\"\n",
    "y=\"GXTXAYB\"\n",
    "dp =LCS(x,y,len(x),len(y))\n",
    "PrintLCS(dp,x,y)"
   ]
  },
  {
   "cell_type": "markdown",
   "metadata": {},
   "source": [
    "# 3. Longest Common Substring"
   ]
  },
  {
   "cell_type": "code",
   "execution_count": 4,
   "metadata": {},
   "outputs": [
    {
     "name": "stdout",
     "output_type": "stream",
     "text": [
      "[[0, 0, 0, 0, 0, 0, 0, 0], [0, 0, 0, 0, 1, 0, 0, 0], [0, 0, 0, 0, 0, 2, 0, 0], [0, 0, 0, 0, 0, 0, 3, 0], [0, 0, 0, 0, 0, 0, 0, 4], [0, 1, 0, 0, 0, 0, 0, 0], [0, 0, 2, 0, 0, 0, 0, 0], [0, 0, 0, 3, 0, 0, 0, 0]]\n"
     ]
    },
    {
     "data": {
      "text/plain": [
       "4"
      ]
     },
     "execution_count": 4,
     "metadata": {},
     "output_type": "execute_result"
    }
   ],
   "source": [
    "'''\n",
    "Longest Common Substring:\n",
    "Input : X = “abcdxyz”, y = “xyzabcd”\n",
    "Output : 4\n",
    "The longest common substring is “abcd” and is of length 4.\n",
    "'''\n",
    "def LCSubstring(x,y,m,n):\n",
    "    dp =[[0 for j in range(n+1)] for i in range(m+1)]\n",
    "    if m==0 or n==0 : return 0\n",
    "    res=0\n",
    "    for i in range(1,m+1):\n",
    "        for j in range(1,n+1):\n",
    "            if(x[i-1]==y[j-1]):\n",
    "                dp[i][j]= 1 + dp[i-1][j-1]\n",
    "                res=max(res,dp[i][j])\n",
    "            else:\n",
    "                dp[i][j] = 0\n",
    "    print(dp)\n",
    "    return res\n",
    "       \n",
    "x=\"abcdxyz\"\n",
    "y=\"xyzabcd\"\n",
    "LCSubstring(x,y,len(x),len(y))\n"
   ]
  },
  {
   "cell_type": "markdown",
   "metadata": {},
   "source": [
    "# 4. Shortest common Supersequence"
   ]
  },
  {
   "cell_type": "code",
   "execution_count": 6,
   "metadata": {},
   "outputs": [
    {
     "name": "stdout",
     "output_type": "stream",
     "text": [
      "[[0, 0, 0, 0], [0, 0, 0, 0], [0, 1, 1, 1], [0, 1, 1, 2], [0, 1, 2, 2]]\n"
     ]
    },
    {
     "data": {
      "text/plain": [
       "5"
      ]
     },
     "execution_count": 6,
     "metadata": {},
     "output_type": "execute_result"
    }
   ],
   "source": [
    "'''\n",
    "a= \"geek\"\n",
    "b=\"eke\"\n",
    "output = \"geeke\"\n",
    "'''\n",
    "#logic : ans = len(a)+len(b)- lcs(a,b)\n",
    "\n",
    "def ShortestCommonSuperSequence(x,y,m,n):\n",
    "    return len(x) +  len(y) -LCSubsequence(x,y,m,n)\n",
    "\n",
    "\n",
    "x= \"geek\"\n",
    "y=\"eke\"\n",
    "ShortestCommonSuperSequence(x,y,len(x),len(y))"
   ]
  },
  {
   "cell_type": "markdown",
   "metadata": {},
   "source": [
    "# 5. Print Shortest common Supersequence"
   ]
  },
  {
   "cell_type": "code",
   "execution_count": 13,
   "metadata": {},
   "outputs": [
    {
     "data": {
      "text/plain": [
       "'AGXGTXAYB'"
      ]
     },
     "execution_count": 13,
     "metadata": {},
     "output_type": "execute_result"
    }
   ],
   "source": [
    "def LCS(x,y,m,n):\n",
    "    dp =[[0 for j in range(n+1)] for i in range(m+1)]\n",
    "    if m==0 or n==0 : return 0\n",
    "    for i in range(1,m+1):\n",
    "        for j in range(1,n+1):\n",
    "            if(x[i-1]==y[j-1]):\n",
    "                dp[i][j]= 1 + dp[i-1][j-1]\n",
    "            else:\n",
    "                dp[i][j] = max(dp[i][j-1],dp[i-1][j])\n",
    "    return dp\n",
    "\n",
    "def PrintSCS(dp,x,y):\n",
    "    i,j= len(x),len(y)\n",
    "    ans=\"\"\n",
    "    while(i>0 and j>0):\n",
    "        if(x[i-1]==y[j-1]):\n",
    "            ans+=x[i-1]\n",
    "            i-=1\n",
    "            j-=1\n",
    "        else:\n",
    "            if dp[i][j-1]>dp[i-1][j]:\n",
    "                ans+=y[j-1]\n",
    "                j-=1\n",
    "            else:\n",
    "                ans+=x[i-1]\n",
    "                i-=1\n",
    "    while i>0:\n",
    "        ans+=x[i-1]\n",
    "        i-=1\n",
    "    while j>0:\n",
    "        ans+=y[j-1]\n",
    "        j-=1\n",
    "        \n",
    "    return ans[::-1]\n",
    "            \n",
    "x=\"AGGTAB\"\n",
    "y=\"GXTXAYB\"\n",
    "#x= \"geek\"\n",
    "#y=\"eke\"\n",
    "dp =LCS(x,y,len(x),len(y))\n",
    "PrintSCS(dp,x,y)"
   ]
  },
  {
   "cell_type": "markdown",
   "metadata": {},
   "source": [
    "# 6. Largest Palindromic Subsequence"
   ]
  },
  {
   "cell_type": "code",
   "execution_count": 17,
   "metadata": {},
   "outputs": [
    {
     "name": "stdout",
     "output_type": "stream",
     "text": [
      "[[0, 0, 0, 0, 0, 0, 0], [0, 1, 1, 1, 1, 1, 1], [0, 1, 1, 1, 1, 2, 2], [0, 1, 2, 2, 2, 2, 2], [0, 1, 2, 3, 3, 3, 3], [0, 1, 2, 3, 4, 4, 4], [0, 1, 2, 3, 4, 4, 5]]\n"
     ]
    },
    {
     "data": {
      "text/plain": [
       "5"
      ]
     },
     "execution_count": 17,
     "metadata": {},
     "output_type": "execute_result"
    }
   ],
   "source": [
    "'''\n",
    "i/p : s= \"agbcba\"\n",
    "o/p : 5 (abcba)\n",
    "'''\n",
    "def LPS(s):\n",
    "    m=len(s)\n",
    "    return LCSubsequence(s,s[::-1],m,m)\n",
    "\n",
    "s= \"agbcba\"\n",
    "LPS(s)"
   ]
  },
  {
   "cell_type": "markdown",
   "metadata": {},
   "source": [
    "# 7. Minimum number of deletions required to make a string Palindrome"
   ]
  },
  {
   "cell_type": "code",
   "execution_count": 20,
   "metadata": {},
   "outputs": [
    {
     "name": "stdout",
     "output_type": "stream",
     "text": [
      "[[0, 0, 0, 0, 0, 0, 0], [0, 1, 1, 1, 1, 1, 1], [0, 1, 1, 1, 1, 2, 2], [0, 1, 2, 2, 2, 2, 2], [0, 1, 2, 3, 3, 3, 3], [0, 1, 2, 3, 4, 4, 4], [0, 1, 2, 3, 4, 4, 5]]\n"
     ]
    },
    {
     "data": {
      "text/plain": [
       "1"
      ]
     },
     "execution_count": 20,
     "metadata": {},
     "output_type": "execute_result"
    }
   ],
   "source": [
    "'''\n",
    "i/p : s= \"agbcba\"\n",
    "o/p : 1 => after removing 'g' => s becomes palindrome => abcba\n",
    "'''\n",
    "def DelLPS(s):\n",
    "    return len(s)- LPS(s)\n",
    "\n",
    "s= \"agbcba\"\n",
    "DelLPS(s)"
   ]
  },
  {
   "cell_type": "markdown",
   "metadata": {},
   "source": [
    "# 8.Minimum number of Insertions required to make a string Palindrome"
   ]
  },
  {
   "cell_type": "code",
   "execution_count": 23,
   "metadata": {},
   "outputs": [
    {
     "name": "stdout",
     "output_type": "stream",
     "text": [
      "[[0, 0, 0, 0, 0, 0, 0, 0], [0, 1, 1, 1, 1, 1, 1, 1], [0, 1, 1, 1, 1, 1, 2, 2], [0, 1, 1, 2, 2, 2, 2, 2], [0, 1, 1, 2, 3, 3, 3, 3], [0, 1, 1, 2, 3, 4, 4, 4], [0, 1, 2, 2, 3, 4, 4, 4], [0, 1, 2, 2, 3, 4, 4, 5]]\n"
     ]
    },
    {
     "data": {
      "text/plain": [
       "2"
      ]
     },
     "execution_count": 23,
     "metadata": {},
     "output_type": "execute_result"
    }
   ],
   "source": [
    "'''\n",
    "i/p : s= \"aebcbda\"\n",
    "o/p : 2 => after inserting 'd' on left and 'e' on right => s becomes palindrome => aedbcbdea\n",
    "'''\n",
    "def InsLPS(s):\n",
    "    return len(s)- LPS(s)\n",
    "\n",
    "s= \"aebcbda\"\n",
    "InsLPS(s)"
   ]
  },
  {
   "cell_type": "markdown",
   "metadata": {},
   "source": [
    "# 9. Longest Repeating Subsequence"
   ]
  },
  {
   "cell_type": "code",
   "execution_count": 26,
   "metadata": {},
   "outputs": [
    {
     "data": {
      "text/plain": [
       "3"
      ]
     },
     "execution_count": 26,
     "metadata": {},
     "output_type": "execute_result"
    }
   ],
   "source": [
    "'''\n",
    "i/p : s= \"aabebcdd\"\n",
    "o/p : 3 (abd occurs twice)\n",
    "'''\n",
    "\n",
    "def LongestRepeatingSubsequence(s):\n",
    "    m=n=len(s)\n",
    "    x=y=s\n",
    "    dp =[[0 for j in range(n+1)] for i in range(m+1)]\n",
    "    if m==0 or n==0 : return 0\n",
    "    for i in range(1,m+1):\n",
    "        for j in range(1,n+1):\n",
    "            if(x[i-1]==y[j-1] and i!=j):\n",
    "                dp[i][j]= 1 + dp[i-1][j-1]\n",
    "            else:\n",
    "                dp[i][j] = max(dp[i][j-1],dp[i-1][j])\n",
    "    return dp[m][n]\n",
    "\n",
    "s= \"aabebcdd\"\n",
    "LongestRepeatingSubsequence(s)"
   ]
  },
  {
   "cell_type": "markdown",
   "metadata": {},
   "source": [
    "# 10. Sequence Pattern Matching"
   ]
  },
  {
   "cell_type": "code",
   "execution_count": 27,
   "metadata": {},
   "outputs": [
    {
     "name": "stdout",
     "output_type": "stream",
     "text": [
      "[[0, 0, 0, 0, 0, 0, 0], [0, 1, 1, 1, 1, 1, 1], [0, 1, 1, 2, 2, 2, 2], [0, 1, 1, 2, 2, 2, 3]]\n"
     ]
    },
    {
     "data": {
      "text/plain": [
       "True"
      ]
     },
     "execution_count": 27,
     "metadata": {},
     "output_type": "execute_result"
    }
   ],
   "source": [
    "'''\n",
    "Check whether string a is subsequence of string b\n",
    "i/p:    a= 'AXY'\n",
    "        b= 'ADXCPY'\n",
    "o/p : True\n",
    "'''\n",
    "def PatternMatching(x,y,m,n):\n",
    "    return LCSubsequence(x,y,m,n) == m\n",
    "\n",
    "a= 'AXY'\n",
    "b= 'ADXCPY'\n",
    "PatternMatching(a,b,len(a),len(b))"
   ]
  },
  {
   "cell_type": "code",
   "execution_count": null,
   "metadata": {},
   "outputs": [],
   "source": []
  }
 ],
 "metadata": {
  "kernelspec": {
   "display_name": "Python 3",
   "language": "python",
   "name": "python3"
  },
  "language_info": {
   "codemirror_mode": {
    "name": "ipython",
    "version": 3
   },
   "file_extension": ".py",
   "mimetype": "text/x-python",
   "name": "python",
   "nbconvert_exporter": "python",
   "pygments_lexer": "ipython3",
   "version": "3.7.3"
  }
 },
 "nbformat": 4,
 "nbformat_minor": 2
}
