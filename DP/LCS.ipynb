{
 "cells": [
  {
   "cell_type": "markdown",
   "metadata": {},
   "source": [
    "# 1. Longest Common Subsequence"
   ]
  },
  {
   "cell_type": "code",
   "execution_count": 1,
   "metadata": {},
   "outputs": [
    {
     "name": "stdout",
     "output_type": "stream",
     "text": [
      "[[0, 0, 0, 0, 0, 0, 0], [0, 1, 1, 1, 1, 1, 1], [0, 1, 1, 2, 2, 2, 2], [0, 1, 1, 2, 2, 2, 3]]\n"
     ]
    },
    {
     "data": {
      "text/plain": [
       "3"
      ]
     },
     "execution_count": 1,
     "metadata": {},
     "output_type": "execute_result"
    }
   ],
   "source": [
    "'''\n",
    "LCS for input Sequences “ABCDGH” and “AEDFHR” is “ADH” of length 3.\n",
    "LCS for input Sequences “AGGTAB” and “GXTXAYB” is “GTAB” of length 4.\n",
    "'''\n",
    "def LCSubsequence(x,y,m,n):\n",
    "    dp =[[0 for j in range(n+1)] for i in range(m+1)]\n",
    "    if m==0 or n==0 : return 0\n",
    "    for i in range(1,m+1):\n",
    "        for j in range(1,n+1):\n",
    "            if(x[i-1]==y[j-1]):\n",
    "                dp[i][j]= 1 + dp[i-1][j-1]\n",
    "            else:\n",
    "                dp[i][j] = max(dp[i][j-1],dp[i-1][j])\n",
    "    print(dp)\n",
    "    return dp[m][n]\n",
    "       \n",
    "\n",
    "x=\"abc\"\n",
    "y=\"ahbgdc\"\n",
    "LCSubsequence(x,y,len(x),len(y))"
   ]
  },
  {
   "cell_type": "markdown",
   "metadata": {},
   "source": [
    "# 2. Print the LCS"
   ]
  },
  {
   "cell_type": "code",
   "execution_count": 21,
   "metadata": {},
   "outputs": [
    {
     "data": {
      "text/plain": [
       "'GTAB'"
      ]
     },
     "execution_count": 21,
     "metadata": {},
     "output_type": "execute_result"
    }
   ],
   "source": [
    "def LCS(x,y,m,n):\n",
    "    dp =[[0 for j in range(n+1)] for i in range(m+1)]\n",
    "    if m==0 or n==0 : return 0\n",
    "    for i in range(1,m+1):\n",
    "        for j in range(1,n+1):\n",
    "            if(x[i-1]==y[j-1]):\n",
    "                dp[i][j]= 1 + dp[i-1][j-1]\n",
    "            else:\n",
    "                dp[i][j] = max(dp[i][j-1],dp[i-1][j])\n",
    "    return dp\n",
    "\n",
    "def PrintLCS(dp,x,y):\n",
    "    i,j= len(x),len(y)\n",
    "    ans=\"\"\n",
    "    while(i>0 and j>0):\n",
    "        if(x[i-1]==y[j-1]):\n",
    "            ans+=x[i-1]\n",
    "            i-=1\n",
    "            j-=1\n",
    "        else:\n",
    "            if dp[i][j-1]>dp[i-1][j]:\n",
    "                j-=1\n",
    "            else:\n",
    "                i-=1\n",
    "    return ans[::-1]\n",
    "            \n",
    "x=\"AGGTAB\"\n",
    "y=\"GXTXAYB\"\n",
    "dp =LCS(x,y,len(x),len(y))\n",
    "PrintLCS(dp,x,y)"
   ]
  },
  {
   "cell_type": "markdown",
   "metadata": {},
   "source": [
    "# 3. Longest Common Subsequence"
   ]
  },
  {
   "cell_type": "code",
   "execution_count": 18,
   "metadata": {},
   "outputs": [
    {
     "name": "stdout",
     "output_type": "stream",
     "text": [
      "[[0, 0, 0, 0, 0, 0, 0, 0], [0, 0, 0, 0, 1, 0, 0, 0], [0, 0, 0, 0, 0, 2, 0, 0], [0, 0, 0, 0, 0, 0, 3, 0], [0, 0, 0, 0, 0, 0, 0, 4], [0, 1, 0, 0, 0, 0, 0, 0], [0, 0, 2, 0, 0, 0, 0, 0], [0, 0, 0, 3, 0, 0, 0, 0]]\n"
     ]
    },
    {
     "data": {
      "text/plain": [
       "4"
      ]
     },
     "execution_count": 18,
     "metadata": {},
     "output_type": "execute_result"
    }
   ],
   "source": [
    "'''\n",
    "Longest Common Substring:\n",
    "Input : X = “abcdxyz”, y = “xyzabcd”\n",
    "Output : 4\n",
    "The longest common substring is “abcd” and is of length 4.\n",
    "'''\n",
    "def LCSubstring(x,y,m,n):\n",
    "    dp =[[0 for j in range(n+1)] for i in range(m+1)]\n",
    "    if m==0 or n==0 : return 0\n",
    "    res=0\n",
    "    for i in range(1,m+1):\n",
    "        for j in range(1,n+1):\n",
    "            if(x[i-1]==y[j-1]):\n",
    "                dp[i][j]= 1 + dp[i-1][j-1]\n",
    "                res=max(res,dp[i][j])\n",
    "            else:\n",
    "                dp[i][j] = 0\n",
    "    print(dp)\n",
    "    return res\n",
    "       \n",
    "x=\"abcdxyz\"\n",
    "y=\"xyzabcd\"\n",
    "LCSubstring(x,y,len(x),len(y))\n"
   ]
  },
  {
   "cell_type": "code",
   "execution_count": null,
   "metadata": {},
   "outputs": [],
   "source": []
  },
  {
   "cell_type": "code",
   "execution_count": null,
   "metadata": {},
   "outputs": [],
   "source": []
  },
  {
   "cell_type": "code",
   "execution_count": 45,
   "metadata": {},
   "outputs": [
    {
     "name": "stdout",
     "output_type": "stream",
     "text": [
      "['00:01:07', '00:05:01', '00:05:00']\n",
      "0 1 7\n",
      "0 6 8\n",
      "0 11 8\n"
     ]
    },
    {
     "data": {
      "text/plain": [
       "2751"
      ]
     },
     "execution_count": 45,
     "metadata": {},
     "output_type": "execute_result"
    }
   ],
   "source": [
    "S=\"00:01:07,400-234-090\\n00:05:01,701-080-080\\n00:05:00,400-234-090\"\n",
    "arr= S.split('\\n')\n",
    "time=[]\n",
    "for i in arr:\n",
    "    time.append(i.split(',')[0])\n",
    "print(time)\n",
    "h,m,s=0,0,0\n",
    "total_pay=pay=total_time=0\n",
    "for i in time:\n",
    "    t = i.split(\":\")\n",
    "    h+=int(t[0])\n",
    "    m+=int(t[1])\n",
    "    s+=int(t[2])\n",
    "    print(h,m,s)\n",
    "    total_time = h*3600 + m*60 +s\n",
    "    if total_time<300:\n",
    "        pay= total_time*3\n",
    "    else:\n",
    "        pay= int(h)*60*150 +int(m)*150\n",
    "    total_pay+=pay\n",
    "total_pay"
   ]
  },
  {
   "cell_type": "code",
   "execution_count": null,
   "metadata": {},
   "outputs": [],
   "source": []
  },
  {
   "cell_type": "code",
   "execution_count": null,
   "metadata": {},
   "outputs": [],
   "source": []
  }
 ],
 "metadata": {
  "kernelspec": {
   "display_name": "Python 3",
   "language": "python",
   "name": "python3"
  },
  "language_info": {
   "codemirror_mode": {
    "name": "ipython",
    "version": 3
   },
   "file_extension": ".py",
   "mimetype": "text/x-python",
   "name": "python",
   "nbconvert_exporter": "python",
   "pygments_lexer": "ipython3",
   "version": "3.7.3"
  }
 },
 "nbformat": 4,
 "nbformat_minor": 2
}
