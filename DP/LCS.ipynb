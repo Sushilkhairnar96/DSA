{
 "cells": [
  {
   "cell_type": "markdown",
   "metadata": {},
   "source": [
    "# 1. Longest Common Subsequence"
   ]
  },
  {
   "cell_type": "code",
   "execution_count": 1,
   "metadata": {},
   "outputs": [
    {
     "name": "stdout",
     "output_type": "stream",
     "text": [
      "[[0, 0, 0, 0], [0, 0, 0, 0], [0, 1, 1, 1], [0, 1, 2, 2], [0, 1, 2, 2], [0, 1, 2, 3]]\n"
     ]
    },
    {
     "data": {
      "text/plain": [
       "3"
      ]
     },
     "execution_count": 1,
     "metadata": {},
     "output_type": "execute_result"
    }
   ],
   "source": [
    "'''\n",
    "LCS for input Sequences “ABCDGH” and “AEDFHR” is “ADH” of length 3.\n",
    "LCS for input Sequences “AGGTAB” and “GXTXAYB” is “GTAB” of length 4.\n",
    "'''\n",
    "\n",
    "'''\n",
    "def LCS(x,y,m,n):\n",
    "    if m==0 or n==0 :\n",
    "        return 0\n",
    "    if x[m-1]==y[n-1]:\n",
    "        return 1 + LCS(x,y,m-1,n-1)\n",
    "    else:\n",
    "        return max(LCS(x,y,m-1,n),LCS(x,y,m,n-1))\n",
    "'''\n",
    "def LCSubsequence(x,y,m,n):\n",
    "    dp =[[0 for j in range(n+1)] for i in range(m+1)]\n",
    "    if m==0 or n==0 : return 0\n",
    "    for i in range(1,m+1):\n",
    "        for j in range(1,n+1):\n",
    "            if(x[i-1]==y[j-1]):\n",
    "                dp[i][j]= 1 + dp[i-1][j-1]\n",
    "            else:\n",
    "                dp[i][j] = max(dp[i][j-1],dp[i-1][j])\n",
    "    print(dp)\n",
    "    return dp[m][n]\n",
    "       \n",
    "\n",
    "x= \"abcde\" ; y=\"bce\"  \n",
    "LCSubsequence(x,y,len(x),len(y))"
   ]
  },
  {
   "cell_type": "markdown",
   "metadata": {},
   "source": [
    "# 2. Print the LCS"
   ]
  },
  {
   "cell_type": "code",
   "execution_count": 2,
   "metadata": {},
   "outputs": [
    {
     "data": {
      "text/plain": [
       "'GTAB'"
      ]
     },
     "execution_count": 2,
     "metadata": {},
     "output_type": "execute_result"
    }
   ],
   "source": [
    "def LCS(x,y,m,n):\n",
    "    dp =[[0 for j in range(n+1)] for i in range(m+1)]\n",
    "    if m==0 or n==0 : return 0\n",
    "    for i in range(1,m+1):\n",
    "        for j in range(1,n+1):\n",
    "            if(x[i-1]==y[j-1]):\n",
    "                dp[i][j]= 1 + dp[i-1][j-1]\n",
    "            else:\n",
    "                dp[i][j] = max(dp[i][j-1],dp[i-1][j])\n",
    "    return dp\n",
    "\n",
    "def PrintLCS(dp,x,y):\n",
    "    i,j= len(x),len(y)\n",
    "    ans=\"\"\n",
    "    while(i>0 and j>0):\n",
    "        if(x[i-1]==y[j-1]):\n",
    "            ans+=x[i-1]\n",
    "            i-=1\n",
    "            j-=1\n",
    "        else:\n",
    "            if dp[i][j-1]>dp[i-1][j]:\n",
    "                j-=1\n",
    "            else:\n",
    "                i-=1\n",
    "    return ans[::-1]\n",
    "            \n",
    "x=\"AGGTAB\"\n",
    "y=\"GXTXAYB\"\n",
    "dp =LCS(x,y,len(x),len(y))\n",
    "PrintLCS(dp,x,y)"
   ]
  },
  {
   "cell_type": "markdown",
   "metadata": {},
   "source": [
    "# 3. Longest Common Substring"
   ]
  },
  {
   "cell_type": "code",
   "execution_count": 3,
   "metadata": {},
   "outputs": [
    {
     "name": "stdout",
     "output_type": "stream",
     "text": [
      "[[0, 0, 0, 0, 0, 0, 0, 0], [0, 0, 0, 0, 1, 0, 0, 0], [0, 0, 0, 0, 0, 2, 0, 0], [0, 0, 0, 0, 0, 0, 3, 0], [0, 0, 0, 0, 0, 0, 0, 4], [0, 1, 0, 0, 0, 0, 0, 0], [0, 0, 2, 0, 0, 0, 0, 0], [0, 0, 0, 3, 0, 0, 0, 0]]\n"
     ]
    },
    {
     "data": {
      "text/plain": [
       "4"
      ]
     },
     "execution_count": 3,
     "metadata": {},
     "output_type": "execute_result"
    }
   ],
   "source": [
    "'''\n",
    "Longest Common Substring:\n",
    "Input : X = “abcdxyz”, y = “xyzabcd”\n",
    "Output : 4\n",
    "The longest common substring is “abcd” and is of length 4.\n",
    "'''\n",
    "def LCSubstring(x,y,m,n):\n",
    "    dp =[[0 for j in range(n+1)] for i in range(m+1)]\n",
    "    if m==0 or n==0 : return 0\n",
    "    res=0\n",
    "    for i in range(1,m+1):\n",
    "        for j in range(1,n+1):\n",
    "            if(x[i-1]==y[j-1]):\n",
    "                dp[i][j]= 1 + dp[i-1][j-1]\n",
    "                res=max(res,dp[i][j])\n",
    "            else:\n",
    "                dp[i][j] = 0\n",
    "    print(dp)\n",
    "    return res\n",
    "       \n",
    "x=\"abcdxyz\"\n",
    "y=\"xyzabcd\"\n",
    "LCSubstring(x,y,len(x),len(y))\n"
   ]
  },
  {
   "cell_type": "markdown",
   "metadata": {},
   "source": [
    "# Printing Longest common Substring"
   ]
  },
  {
   "cell_type": "code",
   "execution_count": 4,
   "metadata": {},
   "outputs": [
    {
     "data": {
      "text/plain": [
       "'abcd'"
      ]
     },
     "execution_count": 4,
     "metadata": {},
     "output_type": "execute_result"
    }
   ],
   "source": [
    "def printLCSubstring(x,y,m,n): \n",
    "    dp =[[0 for j in range(n+1)] for i in range(m+1)]\n",
    "    if m==0 or n==0 : return 0\n",
    "    length=0\n",
    "    for i in range(1,m+1):\n",
    "        for j in range(1,n+1):\n",
    "            if(x[i-1]==y[j-1]):\n",
    "                dp[i][j]= 1 + dp[i-1][j-1]\n",
    "                if length<dp[i][j]:\n",
    "                    row=i            #for finding the position from where to travese back to find string\n",
    "                    col=j\n",
    "                    length=dp[i][j]\n",
    "            else:\n",
    "                dp[i][j] = 0\n",
    "    if length == 0: return\n",
    "    res=\"\"\n",
    "    while dp[row][col]!=0:\n",
    "        res+=x[row-1]\n",
    "        row-=1\n",
    "        col-=1\n",
    "    return res[::-1]\n",
    "    \n",
    "x=\"abcdxyz\"\n",
    "y=\"xyzabcd\"\n",
    "printLCSubstring(x,y,len(x),len(y))"
   ]
  },
  {
   "cell_type": "markdown",
   "metadata": {},
   "source": [
    "# 4. Shortest common Supersequence"
   ]
  },
  {
   "cell_type": "code",
   "execution_count": 5,
   "metadata": {},
   "outputs": [
    {
     "name": "stdout",
     "output_type": "stream",
     "text": [
      "[[0, 0, 0, 0], [0, 0, 0, 0], [0, 1, 1, 1], [0, 1, 1, 2], [0, 1, 2, 2]]\n"
     ]
    },
    {
     "data": {
      "text/plain": [
       "5"
      ]
     },
     "execution_count": 5,
     "metadata": {},
     "output_type": "execute_result"
    }
   ],
   "source": [
    "'''\n",
    "a= \"geek\"\n",
    "b=\"eke\"\n",
    "output = \"geeke\"\n",
    "'''\n",
    "#logic : ans = len(a)+len(b)- lcs(a,b)\n",
    "\n",
    "def ShortestCommonSuperSequence(x,y,m,n):\n",
    "    return len(x) +  len(y) -LCSubsequence(x,y,m,n)\n",
    "\n",
    "\n",
    "x= \"geek\"\n",
    "y=\"eke\"\n",
    "ShortestCommonSuperSequence(x,y,len(x),len(y))"
   ]
  },
  {
   "cell_type": "markdown",
   "metadata": {},
   "source": [
    "# 5. Print Shortest common Supersequence"
   ]
  },
  {
   "cell_type": "code",
   "execution_count": 6,
   "metadata": {},
   "outputs": [
    {
     "data": {
      "text/plain": [
       "'AGXGTXAYB'"
      ]
     },
     "execution_count": 6,
     "metadata": {},
     "output_type": "execute_result"
    }
   ],
   "source": [
    "def LCS(x,y,m,n):\n",
    "    dp =[[0 for j in range(n+1)] for i in range(m+1)]\n",
    "    if m==0 or n==0 : return 0\n",
    "    for i in range(1,m+1):\n",
    "        for j in range(1,n+1):\n",
    "            if(x[i-1]==y[j-1]):\n",
    "                dp[i][j]= 1 + dp[i-1][j-1]\n",
    "            else:\n",
    "                dp[i][j] = max(dp[i][j-1],dp[i-1][j])\n",
    "    return dp\n",
    "\n",
    "def PrintSCS(dp,x,y):\n",
    "    i,j= len(x),len(y)\n",
    "    ans=\"\"\n",
    "    while(i>0 and j>0):\n",
    "        if(x[i-1]==y[j-1]):\n",
    "            ans+=x[i-1]\n",
    "            i-=1\n",
    "            j-=1\n",
    "        else:\n",
    "            if dp[i][j-1]>dp[i-1][j]:\n",
    "                ans+=y[j-1]\n",
    "                j-=1\n",
    "            else:\n",
    "                ans+=x[i-1]\n",
    "                i-=1\n",
    "    while i>0:\n",
    "        ans+=x[i-1]\n",
    "        i-=1\n",
    "    while j>0:\n",
    "        ans+=y[j-1]\n",
    "        j-=1\n",
    "        \n",
    "    return ans[::-1]\n",
    "            \n",
    "x=\"AGGTAB\"\n",
    "y=\"GXTXAYB\"\n",
    "#x= \"geek\"\n",
    "#y=\"eke\"\n",
    "dp =LCS(x,y,len(x),len(y))\n",
    "PrintSCS(dp,x,y)"
   ]
  },
  {
   "cell_type": "markdown",
   "metadata": {},
   "source": [
    "# 6. Largest Palindromic Subsequence"
   ]
  },
  {
   "cell_type": "code",
   "execution_count": 31,
   "metadata": {},
   "outputs": [
    {
     "name": "stdout",
     "output_type": "stream",
     "text": [
      "[[0, 0, 0, 0, 0, 0, 0], [0, 1, 1, 1, 1, 1, 1], [0, 1, 1, 1, 1, 2, 2], [0, 1, 2, 2, 2, 2, 2], [0, 1, 2, 3, 3, 3, 3], [0, 1, 2, 3, 4, 4, 4], [0, 1, 2, 3, 4, 4, 5]]\n"
     ]
    },
    {
     "data": {
      "text/plain": [
       "5"
      ]
     },
     "execution_count": 31,
     "metadata": {},
     "output_type": "execute_result"
    }
   ],
   "source": [
    "'''\n",
    "i/p : s= \"agbcba\"\n",
    "o/p : 5 (abcba)\n",
    "'''\n",
    "def LPS(s):\n",
    "    m=len(s)\n",
    "    return LCSubsequence(s,s[::-1],m,m)\n",
    "\n",
    "s= \"agbcba\"\n",
    "\n",
    "'''\n",
    "dp = [[0 for i in range(len(s))] for j in range(len(s))]\n",
    "\n",
    "for i in range(len(s)-1, -1, -1):\n",
    "    dp[i][i] = 1\n",
    "    for j in range(i+1, len(dp)):\n",
    "        if s[i] == s[j]:\n",
    "            dp[i][j] = dp[i+1][j-1]+2\n",
    "        else:\n",
    "            dp[i][j] = max(dp[i][j-1], dp[i+1][j])\n",
    "        \n",
    "return dp[0][-1]  \n",
    "'''\n",
    "LPS(s)"
   ]
  },
  {
   "cell_type": "markdown",
   "metadata": {},
   "source": [
    "# 7. Minimum number of deletions required to make a string Palindrome"
   ]
  },
  {
   "cell_type": "code",
   "execution_count": 8,
   "metadata": {},
   "outputs": [
    {
     "name": "stdout",
     "output_type": "stream",
     "text": [
      "[[0, 0, 0, 0, 0, 0, 0], [0, 1, 1, 1, 1, 1, 1], [0, 1, 1, 1, 1, 2, 2], [0, 1, 2, 2, 2, 2, 2], [0, 1, 2, 3, 3, 3, 3], [0, 1, 2, 3, 4, 4, 4], [0, 1, 2, 3, 4, 4, 5]]\n"
     ]
    },
    {
     "data": {
      "text/plain": [
       "1"
      ]
     },
     "execution_count": 8,
     "metadata": {},
     "output_type": "execute_result"
    }
   ],
   "source": [
    "'''\n",
    "i/p : s= \"agbcba\"\n",
    "o/p : 1 => after removing 'g' => s becomes palindrome => abcba\n",
    "'''\n",
    "def DelLPS(s):\n",
    "    return len(s)- LPS(s)\n",
    "\n",
    "s= \"agbcba\"\n",
    "DelLPS(s)"
   ]
  },
  {
   "cell_type": "markdown",
   "metadata": {},
   "source": [
    "# 8.Minimum number of Insertions required to make a string Palindrome"
   ]
  },
  {
   "cell_type": "code",
   "execution_count": 9,
   "metadata": {},
   "outputs": [
    {
     "name": "stdout",
     "output_type": "stream",
     "text": [
      "[[0, 0, 0, 0, 0, 0, 0, 0], [0, 1, 1, 1, 1, 1, 1, 1], [0, 1, 1, 1, 1, 1, 2, 2], [0, 1, 1, 2, 2, 2, 2, 2], [0, 1, 1, 2, 3, 3, 3, 3], [0, 1, 1, 2, 3, 4, 4, 4], [0, 1, 2, 2, 3, 4, 4, 4], [0, 1, 2, 2, 3, 4, 4, 5]]\n"
     ]
    },
    {
     "data": {
      "text/plain": [
       "2"
      ]
     },
     "execution_count": 9,
     "metadata": {},
     "output_type": "execute_result"
    }
   ],
   "source": [
    "'''\n",
    "i/p : s= \"aebcbda\"\n",
    "o/p : 2 => after inserting 'd' on left and 'e' on right => s becomes palindrome => aedbcbdea\n",
    "'''\n",
    "def InsLPS(s):\n",
    "    return len(s)- LPS(s)\n",
    "\n",
    "s= \"aebcbda\"\n",
    "InsLPS(s)"
   ]
  },
  {
   "cell_type": "markdown",
   "metadata": {},
   "source": [
    "# 9. Longest Repeating Subsequence"
   ]
  },
  {
   "cell_type": "code",
   "execution_count": 10,
   "metadata": {},
   "outputs": [
    {
     "data": {
      "text/plain": [
       "3"
      ]
     },
     "execution_count": 10,
     "metadata": {},
     "output_type": "execute_result"
    }
   ],
   "source": [
    "'''\n",
    "i/p : s= \"aabebcdd\"\n",
    "o/p : 3 (abd occurs twice)\n",
    "'''\n",
    "\n",
    "def LongestRepeatingSubsequence(s):\n",
    "    m=n=len(s)\n",
    "    x=y=s\n",
    "    dp =[[0 for j in range(n+1)] for i in range(m+1)]\n",
    "    if m==0 or n==0 : return 0\n",
    "    for i in range(1,m+1):\n",
    "        for j in range(1,n+1):\n",
    "            if(x[i-1]==y[j-1] and i!=j):\n",
    "                dp[i][j]= 1 + dp[i-1][j-1]\n",
    "            else:\n",
    "                dp[i][j] = max(dp[i][j-1],dp[i-1][j])\n",
    "    return dp[m][n]\n",
    "\n",
    "s= \"aabebcdd\"\n",
    "LongestRepeatingSubsequence(s)"
   ]
  },
  {
   "cell_type": "markdown",
   "metadata": {},
   "source": [
    "# 10. Sequence Pattern Matching"
   ]
  },
  {
   "cell_type": "code",
   "execution_count": 11,
   "metadata": {},
   "outputs": [
    {
     "name": "stdout",
     "output_type": "stream",
     "text": [
      "[[0, 0, 0, 0, 0, 0, 0], [0, 1, 1, 1, 1, 1, 1], [0, 1, 1, 2, 2, 2, 2], [0, 1, 1, 2, 2, 2, 3]]\n"
     ]
    },
    {
     "data": {
      "text/plain": [
       "True"
      ]
     },
     "execution_count": 11,
     "metadata": {},
     "output_type": "execute_result"
    }
   ],
   "source": [
    "'''\n",
    "Check whether string a is subsequence of string b\n",
    "i/p:    a= 'AXY'\n",
    "        b= 'ADXCPY'\n",
    "o/p : True\n",
    "'''\n",
    "def PatternMatching(x,y,m,n):\n",
    "    return LCSubsequence(x,y,m,n) == m\n",
    "\n",
    "a= 'AXY'\n",
    "b= 'ADXCPY'\n",
    "PatternMatching(a,b,len(a),len(b))"
   ]
  },
  {
   "cell_type": "markdown",
   "metadata": {},
   "source": [
    "# 11. Longest Palindromic Substring"
   ]
  },
  {
   "cell_type": "code",
   "execution_count": 20,
   "metadata": {},
   "outputs": [
    {
     "name": "stdout",
     "output_type": "stream",
     "text": [
      "aca\n",
      "bacab\n",
      "aca\n",
      "aba\n"
     ]
    },
    {
     "data": {
      "text/plain": [
       "5"
      ]
     },
     "execution_count": 20,
     "metadata": {},
     "output_type": "execute_result"
    }
   ],
   "source": [
    "#Recursive:\n",
    "def longestPalindrome_Recursive(s: str):\n",
    "    def lps(s,start,end):\n",
    "        if start>end:\n",
    "            return 0\n",
    "        if start==end:        #single character left\n",
    "            return 1\n",
    "        if s[start]==s[end]:\n",
    "            middle_str= end-start-1   #middle string\n",
    "            if middle_str == lps(s,start+1,end-1):\n",
    "                print(s[start:end+1])\n",
    "                return 2+ middle_str\n",
    "           \n",
    "        return max(lps(s,start+1,end),lps(s,start,end-1))\n",
    "    return lps(s,0,len(s)-1)\n",
    "s=\"abacab\"\n",
    "longestPalindrome_Recursive(s)"
   ]
  },
  {
   "cell_type": "code",
   "execution_count": 29,
   "metadata": {},
   "outputs": [
    {
     "data": {
      "text/plain": [
       "'bacab'"
      ]
     },
     "execution_count": 29,
     "metadata": {},
     "output_type": "execute_result"
    }
   ],
   "source": [
    "#Expand Around Center:\n",
    "def longestPalindrome(s):\n",
    "    res = \"\"\n",
    "    for i in range(len(s)):\n",
    "        tmp = expandFromMiddle(s, i, i)           # odd case, like \"aba\"\n",
    "        if len(tmp) > len(res):\n",
    "            res = tmp\n",
    "        tmp = expandFromMiddle(s, i, i+1)         # even case, like \"abba\"\n",
    "        if len(tmp) > len(res):\n",
    "            res = tmp\n",
    "    return res\n",
    " \n",
    "# get the longest palindrome, l, r are the middle indexes   \n",
    "# from inner to outer\n",
    "def expandFromMiddle(s, l, r):\n",
    "    while l >= 0 and r < len(s) and s[l] == s[r]:\n",
    "        l -= 1; r += 1\n",
    "    return s[l+1:r]    \n",
    "s=\"abacab\"    \n",
    "longestPalindrome(s)"
   ]
  },
  {
   "cell_type": "code",
   "execution_count": 30,
   "metadata": {},
   "outputs": [
    {
     "name": "stdout",
     "output_type": "stream",
     "text": [
      "[[True, False, True, False, False, False], [False, True, False, False, False, True], [False, False, True, False, True, False], [False, False, False, True, False, False], [False, False, False, False, True, False], [False, False, False, False, False, True]]\n"
     ]
    },
    {
     "data": {
      "text/plain": [
       "'bacab'"
      ]
     },
     "execution_count": 30,
     "metadata": {},
     "output_type": "execute_result"
    }
   ],
   "source": [
    "#DP\n",
    "def longestPalindrome_BottomUp(s) -> str:\n",
    "    n=len(s)\n",
    "    dp = [[False] * n  for _ in range(n)]\n",
    "    ans = \"\"\n",
    "    \n",
    "    for i in range(len(s)):\n",
    "        dp[i][i]=True            #set diagonal element to True\n",
    "        ans=s[i]\n",
    "    for start in range(n-1,-1,-1):\n",
    "        for end in range(start+1,n):\n",
    "            if s[start]==s[end]:\n",
    "                if dp[start+1][end-1] or end-start==1 : \n",
    "                    #c1: middle string, c2: (if adjacent strings of len=2 are equal)\n",
    "                    dp[start][end]=True\n",
    "                    if len(ans)< end-start+1:\n",
    "                        ans=s[start:end+1]\n",
    "    print(dp)\n",
    "    return ans\n",
    "s=\"abacab\"\n",
    "longestPalindrome_BottomUp(s) "
   ]
  },
  {
   "cell_type": "code",
   "execution_count": 33,
   "metadata": {},
   "outputs": [
    {
     "data": {
      "text/plain": [
       "6"
      ]
     },
     "execution_count": 33,
     "metadata": {},
     "output_type": "execute_result"
    }
   ],
   "source": [
    "#LCS647. Palindromic Substrings\n",
    "'''\n",
    "Given a string, your task is to count how many palindromic substrings in this string.\n",
    "\n",
    "The substrings with different start indexes or end indexes are counted as different substrings \n",
    "even they consist of same characters.\n",
    "\n",
    "\n",
    "Input: \"abc\"\n",
    "Output: 3\n",
    "Explanation: Three palindromic strings: \"a\", \"b\", \"c\".\n",
    "\n",
    "Input: \"aaa\"\n",
    "Output: 6\n",
    "Explanation: Six palindromic strings: \"a\", \"a\", \"a\", \"aa\", \"aa\", \"aaa\".\n",
    "'''\n",
    "def countSubstrings(s) -> int:\n",
    "    def expandFromMiddle(s, l, r,count):\n",
    "        while l >= 0 and r < len(s) and s[l] == s[r]:\n",
    "            l -= 1; r += 1\n",
    "            count+=1\n",
    "        return count\n",
    "    len1=len2=0\n",
    "    for i in range(len(s)):\n",
    "        len1 = expandFromMiddle(s, i, i,len1)           # odd case, like \"aba\"\n",
    "        len2 = expandFromMiddle(s, i, i+1,len2)         # even case, like \"abba\"\n",
    "    return len1+len2\n",
    "s=\"aaa\"\n",
    "countSubstrings(s)"
   ]
  },
  {
   "cell_type": "markdown",
   "metadata": {},
   "source": [
    "# 12. Longest Increasing Subsequence\n"
   ]
  },
  {
   "cell_type": "code",
   "execution_count": 17,
   "metadata": {},
   "outputs": [
    {
     "name": "stdout",
     "output_type": "stream",
     "text": [
      "[1, 1, 1, 1, 1, 1, 1, 1]\n",
      "[1, 1, 1, 1, 1, 1, 1, 1]\n",
      "[1, 1, 1, 2, 1, 1, 1, 1]\n",
      "[1, 1, 1, 2, 2, 1, 1, 1]\n",
      "[1, 1, 1, 2, 2, 3, 1, 1]\n",
      "[1, 1, 1, 2, 2, 3, 4, 1]\n",
      "[1, 1, 1, 2, 2, 3, 4, 4]\n"
     ]
    },
    {
     "data": {
      "text/plain": [
       "4"
      ]
     },
     "execution_count": 17,
     "metadata": {},
     "output_type": "execute_result"
    }
   ],
   "source": [
    "'''\n",
    "Given an unsorted array of integers, find the length of longest increasing subsequence.\n",
    "\n",
    "Example:\n",
    "\n",
    "Input: [10,9,2,5,3,7,101,18]\n",
    "Output: 4 \n",
    "Explanation: The longest increasing subsequence is [2,3,7,101], therefore the length is 4. \n",
    "'''\n",
    "def lengthOfLIS(nums):\n",
    "    if len(nums)==0 : return 0\n",
    "    dp = [1]*len(nums)\n",
    "    \n",
    "    for i in range(1,len(nums)):\n",
    "        for j in range(i):\n",
    "            if nums[j]<nums[i]:\n",
    "                dp[i] = max(dp[i], 1+ dp[j])\n",
    "        print(dp)\n",
    "    return max(dp)\n",
    "\n",
    "nums= [10,9,2,5,3,7,101,18]\n",
    "lengthOfLIS(nums)"
   ]
  },
  {
   "cell_type": "markdown",
   "metadata": {},
   "source": [
    "# 13. Maximum Sum Subsequence"
   ]
  },
  {
   "cell_type": "code",
   "execution_count": 15,
   "metadata": {},
   "outputs": [
    {
     "name": "stdout",
     "output_type": "stream",
     "text": [
      "[1, 102, 2, 3, 100, 4, 5]\n",
      "[1, 102, 3, 3, 100, 4, 5]\n",
      "[1, 102, 3, 6, 100, 4, 5]\n",
      "[1, 102, 3, 6, 106, 4, 5]\n",
      "[1, 102, 3, 6, 106, 10, 5]\n",
      "[1, 102, 3, 6, 106, 10, 15]\n"
     ]
    },
    {
     "data": {
      "text/plain": [
       "106"
      ]
     },
     "execution_count": 15,
     "metadata": {},
     "output_type": "execute_result"
    }
   ],
   "source": [
    "'''\n",
    "Given an array of n positive integers. Write a program to find the sum of maximum sum subsequence of the given array \n",
    "such that the integers in the subsequence are sorted in increasing order. For example, if input is \n",
    "{1, 101, 2, 3, 100, 4, 5}, then output should be 106 (1 + 2 + 3 + 100), if the input array is {3, 4, 5, 10},\n",
    "then output should be 22 (3 + 4 + 5 + 10) and if the input array is {10, 5, 4, 3}, then output should be 10\n",
    "'''\n",
    "def MaxSumLIS(nums):\n",
    "    if len(nums)==0 : return 0\n",
    "    dp =[0]*len(nums)\n",
    "    for i in range(len(nums)):\n",
    "        dp[i]= nums[i]\n",
    "    \n",
    "    for i in range(1,len(nums)):\n",
    "        for j in range(i):\n",
    "            if nums[j]<nums[i]:\n",
    "                dp[i] = max(dp[i], nums[i]+ dp[j])\n",
    "        print(dp)\n",
    "    return max(dp)\n",
    "\n",
    "\n",
    "\n",
    "nums= [1, 101, 2, 3, 100, 4, 5]\n",
    "MaxSumLIS(nums)"
   ]
  },
  {
   "cell_type": "markdown",
   "metadata": {},
   "source": [
    "# 14. Maximum Sum Subarray (Kadanes)"
   ]
  },
  {
   "cell_type": "code",
   "execution_count": 18,
   "metadata": {},
   "outputs": [
    {
     "data": {
      "text/plain": [
       "6"
      ]
     },
     "execution_count": 18,
     "metadata": {},
     "output_type": "execute_result"
    }
   ],
   "source": [
    "'''\n",
    "Given an integer array nums, find the contiguous subarray (containing at least one number) which has the \n",
    "largest sum and return its sum.\n",
    "\n",
    "Input: nums = [-2,1,-3,4,-1,2,1,-5,4]\n",
    "Output: 6\n",
    "Explanation: [4,-1,2,1] has the largest sum = 6.\n",
    "'''\n",
    "def maxSubArray(nums) -> int:\n",
    "\n",
    "    for i in range(1,len(nums)):\n",
    "        if nums[i-1]>0:\n",
    "            nums[i]+=nums[i-1]\n",
    "    return max(nums)\n",
    "\n",
    "nums = [-2,1,-3,4,-1,2,1,-5,4]\n",
    "maxSubArray(nums)"
   ]
  },
  {
   "cell_type": "markdown",
   "metadata": {},
   "source": [
    "# 15. Maximum Sum in Circular Subarray (Kadanes)"
   ]
  },
  {
   "cell_type": "code",
   "execution_count": null,
   "metadata": {},
   "outputs": [],
   "source": []
  }
 ],
 "metadata": {
  "kernelspec": {
   "display_name": "Python 3",
   "language": "python",
   "name": "python3"
  },
  "language_info": {
   "codemirror_mode": {
    "name": "ipython",
    "version": 3
   },
   "file_extension": ".py",
   "mimetype": "text/x-python",
   "name": "python",
   "nbconvert_exporter": "python",
   "pygments_lexer": "ipython3",
   "version": "3.7.3"
  }
 },
 "nbformat": 4,
 "nbformat_minor": 2
}
