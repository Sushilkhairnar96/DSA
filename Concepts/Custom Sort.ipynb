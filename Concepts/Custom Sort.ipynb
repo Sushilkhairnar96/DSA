{
 "cells": [
  {
   "cell_type": "code",
   "execution_count": 7,
   "metadata": {},
   "outputs": [],
   "source": [
    "#My custom function to sort array/dictionary in ascending/descending order"
   ]
  },
  {
   "cell_type": "code",
   "execution_count": 8,
   "metadata": {},
   "outputs": [],
   "source": [
    "def bubble_sort(arr):   #You can use any sort - for the sake of simplicity I have used bubble sort\n",
    "    for i in range(len(arr)-1):\n",
    "        for j in range(len(arr)-1-i):\n",
    "            if arr[j] > arr[j + 1]: \n",
    "                arr[j], arr[j + 1] = arr[j + 1], arr[j]\n",
    "    return arr\n",
    "\n",
    "def my_custom_sort(obj,key=None,reverse=False):  \n",
    "    if type(obj)==dict:\n",
    "        if key==0:\n",
    "            arr = list(map(lambda x:x[0], obj.items())) #fetch the list of keys\n",
    "        else:\n",
    "            dic = {y:x for x,y in obj.items()}  #reverse the key value pairs, so that it is easy to match key/values\n",
    "            arr = list(map(lambda x:x[0], dic.items()))  \n",
    "    else:\n",
    "        arr=obj\n",
    "    \n",
    "    sorted_arr = bubble_sort(arr)\n",
    "    if reverse: sorted_arr =sorted_arr[::-1]\n",
    "           \n",
    "    if type(obj)==dict:\n",
    "        if key==0:\n",
    "            return [(key,obj[key]) for key in sorted_arr] \n",
    "        else:\n",
    "            return [(dic[key],key) for key in sorted_arr] \n",
    "    else:\n",
    "        return sorted_arr\n",
    "    "
   ]
  },
  {
   "cell_type": "code",
   "execution_count": 10,
   "metadata": {},
   "outputs": [
    {
     "name": "stdout",
     "output_type": "stream",
     "text": [
      "[1, 2, 4, 6, 7]\n",
      "[7, 6, 4, 2, 1]\n",
      "[(0, 8), (1, 0), (2, 4), (3, 1)]\n",
      "[(1, 0), (3, 1), (2, 4), (0, 8)]\n",
      "[(3, 1), (2, 4), (1, 0), (0, 8)]\n",
      "[(0, 8), (2, 4), (3, 1), (1, 0)]\n"
     ]
    }
   ],
   "source": [
    "arr=[4,2,6,7,1]\n",
    "dic={3:1,2:4,1:0,0:8}\n",
    "print(my_custom_sort(arr))    #sort array in increasing order\n",
    "print(my_custom_sort(arr,reverse=True))   #sort array in decreasing order\n",
    "print(my_custom_sort(dic,key=0))  #sort dictionary by key in inreasing order\n",
    "print(my_custom_sort(dic,key=1))  #sort dictionary by values in increasing order\n",
    "print(my_custom_sort(dic,key=0,reverse=True))  #sort dictionary by key in  decreasing order\n",
    "print(my_custom_sort(dic,key=1,reverse=True))  #sort dictionary by values in  decreasing order"
   ]
  }
 ],
 "metadata": {
  "kernelspec": {
   "display_name": "Python 3",
   "language": "python",
   "name": "python3"
  },
  "language_info": {
   "codemirror_mode": {
    "name": "ipython",
    "version": 3
   },
   "file_extension": ".py",
   "mimetype": "text/x-python",
   "name": "python",
   "nbconvert_exporter": "python",
   "pygments_lexer": "ipython3",
   "version": "3.8.5"
  }
 },
 "nbformat": 4,
 "nbformat_minor": 4
}
