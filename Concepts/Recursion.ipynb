{
 "cells": [
  {
   "cell_type": "code",
   "execution_count": 1,
   "metadata": {},
   "outputs": [
    {
     "name": "stdout",
     "output_type": "stream",
     "text": [
      "n is negative\n",
      "1\n",
      "2\n",
      "3\n",
      "4\n"
     ]
    }
   ],
   "source": [
    "def recursion(n):\n",
    "    if n<1:\n",
    "        print(\"n is negative\")\n",
    "    else:\n",
    "        recursion(n-1)\n",
    "        print(n)\n",
    "recursion(4)"
   ]
  },
  {
   "cell_type": "code",
   "execution_count": 147,
   "metadata": {},
   "outputs": [
    {
     "data": {
      "text/plain": [
       "16"
      ]
     },
     "execution_count": 147,
     "metadata": {},
     "output_type": "execute_result"
    }
   ],
   "source": [
    "def powerof2(n):\n",
    "    if n==0:\n",
    "        return 1\n",
    "    else:\n",
    "        return powerof2(n-1) * 2\n",
    "powerof2(5)  #2^5=32\n",
    "\n",
    "#iterative:\n",
    "def power(n):\n",
    "    power=1\n",
    "    while n>0:\n",
    "        power*=2\n",
    "        n-=1\n",
    "    return power\n",
    "power(4) "
   ]
  },
  {
   "cell_type": "code",
   "execution_count": 2,
   "metadata": {},
   "outputs": [
    {
     "name": "stdout",
     "output_type": "stream",
     "text": [
      "16\n",
      "0.0625\n"
     ]
    }
   ],
   "source": [
    "def power(base,exp):\n",
    "    if base==0: return 0\n",
    "    if exp==0: return 1\n",
    "    return base*power(base,exp-1)\n",
    "\n",
    "print(power(2,4))\n",
    "\n",
    "def powerneg(base,exp):\n",
    "    exp=abs(exp)\n",
    "    if base==0: return 0\n",
    "    if exp==0: return 1\n",
    "    return (1/base)*powerneg(base,exp-1)\n",
    "\n",
    "print(powerneg(-2,-4))"
   ]
  },
  {
   "cell_type": "code",
   "execution_count": 5,
   "metadata": {},
   "outputs": [
    {
     "data": {
      "text/plain": [
       "2"
      ]
     },
     "execution_count": 5,
     "metadata": {},
     "output_type": "execute_result"
    }
   ],
   "source": [
    "def bin_search(nums,l,r,target):    \n",
    "    if l<=r:\n",
    "        mid=l+(r-l)//2\n",
    "        if nums[mid]==target:\n",
    "            return mid\n",
    "        elif nums[mid]<target:\n",
    "            return bin_search(nums,mid+1,r,target)\n",
    "        else:\n",
    "            return bin_search(nums,l,mid-1,target)\n",
    "    return -1\n",
    "\n",
    "nums=[0,2,5,7,8,10]; target= 5\n",
    "l,r=0,len(nums)-1\n",
    "bin_search(nums,l,r,target)"
   ]
  },
  {
   "cell_type": "code",
   "execution_count": 2,
   "metadata": {},
   "outputs": [
    {
     "name": "stdout",
     "output_type": "stream",
     "text": [
      "4\n",
      "6\n",
      "8\n",
      "9\n",
      "10\n"
     ]
    }
   ],
   "source": [
    "#Print elements of array using recursion:\n",
    "\n",
    "def display(nums,i):\n",
    "    if i>=len(nums):\n",
    "        return \n",
    "    print(nums[i])\n",
    "    return display(nums,i+1)\n",
    "\n",
    "nums=[4,6,8,9,10]\n",
    "display(nums,0)"
   ]
  },
  {
   "cell_type": "code",
   "execution_count": 112,
   "metadata": {},
   "outputs": [
    {
     "name": "stdout",
     "output_type": "stream",
     "text": [
      "21\n",
      "15\n"
     ]
    }
   ],
   "source": [
    "#Sum of  elements of array using recursion:\n",
    "\n",
    "def add(nums,i,sum):\n",
    "    if i>=len(nums):\n",
    "        return sum\n",
    "    return add(nums,i+1,sum+nums[i])        \n",
    "\n",
    "nums=[1,2,3,10,5]\n",
    "print(add(nums,0,0))\n",
    "\n",
    "\n",
    "x=[1,2,3,4,5]\n",
    "\n",
    "def rec(n):\n",
    "    if n<0:\n",
    "        return 0\n",
    "    else:\n",
    "        return x[n]+ rec(n-1)\n",
    "print(rec(len(x)-1))"
   ]
  },
  {
   "cell_type": "code",
   "execution_count": 45,
   "metadata": {},
   "outputs": [
    {
     "data": {
      "text/plain": [
       "60"
      ]
     },
     "execution_count": 45,
     "metadata": {},
     "output_type": "execute_result"
    }
   ],
   "source": [
    "#prod of array elements:\n",
    "\n",
    "def productOfArray(arr):\n",
    "    if len(arr)==0:\n",
    "        return 1\n",
    "    else:\n",
    "        return arr[-1]*productOfArray(arr[:-1])\n",
    "\n",
    "arr=[3,10,2]\n",
    "productOfArray(arr)"
   ]
  },
  {
   "cell_type": "code",
   "execution_count": 47,
   "metadata": {},
   "outputs": [
    {
     "data": {
      "text/plain": [
       "55"
      ]
     },
     "execution_count": 47,
     "metadata": {},
     "output_type": "execute_result"
    }
   ],
   "source": [
    "#sum of first n numbers \n",
    "def recursiveRange(num):\n",
    "    if num==0:\n",
    "        return 0\n",
    "    else:\n",
    "        return num + recursiveRange(num-1)\n",
    "\n",
    "recursiveRange(10)"
   ]
  },
  {
   "cell_type": "code",
   "execution_count": 121,
   "metadata": {},
   "outputs": [
    {
     "data": {
      "text/plain": [
       "6"
      ]
     },
     "execution_count": 121,
     "metadata": {},
     "output_type": "execute_result"
    }
   ],
   "source": [
    "#sum of digits of a +ve number => i/p= 363, o/p=12\n",
    "\n",
    "def digsum(n):\n",
    "    assert n>=0 and int(n)==n, \"Number cannot be negative or decimal\"\n",
    "    if n==0:\n",
    "        return 0\n",
    "    return n%10 + digsum(n//10)\n",
    "digsum(123)"
   ]
  },
  {
   "cell_type": "code",
   "execution_count": 4,
   "metadata": {},
   "outputs": [
    {
     "data": {
      "text/plain": [
       "True"
      ]
     },
     "execution_count": 4,
     "metadata": {},
     "output_type": "execute_result"
    }
   ],
   "source": [
    "#Palindrome\n",
    "def is_palindrome(l,r,s):\n",
    "    if l<=r:\n",
    "        if s[l]==s[r]:\n",
    "            return is_palindrome(l+1,r-1,s)\n",
    "        else:\n",
    "            return False\n",
    "    return True\n",
    "\n",
    "s=\"gsuuusg\"\n",
    "s=list(s)\n",
    "l,r=0,len(s)-1\n",
    "is_palindrome(l,r,s)"
   ]
  },
  {
   "cell_type": "code",
   "execution_count": 60,
   "metadata": {},
   "outputs": [
    {
     "data": {
      "text/plain": [
       "True"
      ]
     },
     "execution_count": 60,
     "metadata": {},
     "output_type": "execute_result"
    }
   ],
   "source": [
    "def isPalindrome(strng):\n",
    "    if strng=='': return True\n",
    "    if strng[0]==strng[-1]:\n",
    "        return isPalindrome(strng[1:-1])\n",
    "    else:\n",
    "        return False\n",
    "isPalindrome(\"maam\")"
   ]
  },
  {
   "cell_type": "code",
   "execution_count": 113,
   "metadata": {},
   "outputs": [
    {
     "data": {
      "text/plain": [
       "55"
      ]
     },
     "execution_count": 113,
     "metadata": {},
     "output_type": "execute_result"
    }
   ],
   "source": [
    "#Fibonacci - 0,1,1,2,3,5,8,13,21,34,55\n",
    "def fib(n):\n",
    "    assert n>=0 and int(n)==n, 'Number cannot be negative or decimal'\n",
    "    if n==0:\n",
    "        return 0\n",
    "    elif n==1:\n",
    "        return 1\n",
    "    else:\n",
    "        return fib(n-1)+fib(n-2)\n",
    "fib(10)"
   ]
  },
  {
   "cell_type": "code",
   "execution_count": 10,
   "metadata": {},
   "outputs": [
    {
     "data": {
      "text/plain": [
       "24"
      ]
     },
     "execution_count": 10,
     "metadata": {},
     "output_type": "execute_result"
    }
   ],
   "source": [
    "#N-th Tribonacci Number\n",
    "'''\n",
    "1137. N-th Tribonacci Number\n",
    "\n",
    "The Tribonacci sequence Tn is defined as follows: \n",
    "\n",
    "T0 = 0, T1 = 1, T2 = 1, and Tn+3 = Tn + Tn+1 + Tn+2 for n >= 0.\n",
    "\n",
    "Given n, return the value of Tn.\n",
    "\n",
    "\n",
    "#0,1,1,2,4,7,13,24\n",
    "Input: n = 4\n",
    "Output: 4\n",
    "Explanation:\n",
    "T_3 = 0 + 1 + 1 = 2\n",
    "T_4 = 1 + 1 + 2 = 4\n",
    "'''\n",
    "def tribonacci(n: int) -> int:\n",
    "    '''\n",
    "    #Iterative:\n",
    "    \n",
    "    if n==0: return 0\n",
    "    if n<=2: return 1\n",
    "    a,b,c=0,1,1\n",
    "    for i in range(n-2):\n",
    "        a,b,c=b,c,a+b+c\n",
    "    return c\n",
    "    '''\n",
    "    \n",
    "    '''\n",
    "    #TLE - Simple Recurssion:\n",
    "    if n==0: return 0\n",
    "    if n==1 or n==2: return 1\n",
    "    return self.tribonacci(n-3) + self.tribonacci(n-2) + self.tribonacci(n-1)\n",
    "    \n",
    "    '''\n",
    "    # Recurssion with memoization\n",
    "    import collections\n",
    "    memo = collections.defaultdict(int)\n",
    "    memo[0], memo[1], memo[2] = 0,1,1\n",
    "    def rec(n):\n",
    "        if n in memo:  return memo[n]\n",
    "        memo[n] = rec(n-1) + rec(n-2) + rec(n-3)       \n",
    "        return memo[n]\n",
    "    return rec(n)\n",
    "\n",
    "tribonacci(7)"
   ]
  },
  {
   "cell_type": "code",
   "execution_count": 11,
   "metadata": {},
   "outputs": [
    {
     "data": {
      "text/plain": [
       "8"
      ]
     },
     "execution_count": 11,
     "metadata": {},
     "output_type": "execute_result"
    }
   ],
   "source": [
    "#Climbing Stairs\n",
    "'''\n",
    "You are climbing a staircase. It takes n steps to reach the top.\n",
    "\n",
    "Each time you can either climb 1 or 2 steps. In how many distinct ways can you climb to the top?\n",
    "\n",
    "Input: n = 2\n",
    "Output: 2\n",
    "Explanation: There are two ways to climb to the top.\n",
    "1. 1 step + 1 step\n",
    "2. 2 steps\n",
    "\n",
    "Input: n = 3\n",
    "Output: 3\n",
    "Explanation: There are three ways to climb to the top.\n",
    "1. 1 step + 1 step + 1 step\n",
    "2. 1 step + 2 steps\n",
    "3. 2 steps + 1 step\n",
    "'''\n",
    "def climbStairs(n) -> int:\n",
    "    '''\n",
    "    #1. Iterative\n",
    "    if n<2: return n\n",
    "    a,b=0,1\n",
    "    for _ in range(n):\n",
    "        a,b=b,a+b\n",
    "    return b\n",
    "    '''\n",
    "    \n",
    "    '''\n",
    "    #2. Recursive: TLE\n",
    "    def rec(n):\n",
    "        if n<2: return n\n",
    "        return rec(n-1)+rec(n-2)\n",
    "    return rec(n+1)\n",
    "    '''\n",
    "    \n",
    "    #3. Recursion with Memoization\n",
    "    import collections\n",
    "    memo = collections.defaultdict(int)\n",
    "    \n",
    "    memo[0],memo[1]=0,1\n",
    "    \n",
    "    def rec(n):\n",
    "        if n in memo : return memo[n]\n",
    "        memo[n] = rec(n-1)+rec(n-2)\n",
    "        return memo[n]\n",
    "    return rec(n+1)\n",
    "\n",
    "climbStairs(5)"
   ]
  },
  {
   "cell_type": "code",
   "execution_count": 77,
   "metadata": {},
   "outputs": [
    {
     "data": {
      "text/plain": [
       "120"
      ]
     },
     "execution_count": 77,
     "metadata": {},
     "output_type": "execute_result"
    }
   ],
   "source": [
    "#Factorial:\n",
    "def fact(n):\n",
    "    assert n>=0 and int(n)==n, 'Number cannot be negative or decimal'\n",
    "    if n<=0:\n",
    "        return 1\n",
    "    else:\n",
    "        return n*fact(n-1)\n",
    "fact(5)"
   ]
  },
  {
   "cell_type": "code",
   "execution_count": 6,
   "metadata": {},
   "outputs": [
    {
     "data": {
      "text/plain": [
       "'lihsus'"
      ]
     },
     "execution_count": 6,
     "metadata": {},
     "output_type": "execute_result"
    }
   ],
   "source": [
    "#Reverse:\n",
    "'''\n",
    "def reverse(s,l,r):\n",
    "    if l>r: return ''.join(s)\n",
    "    s[l],s[r]=s[r],s[l]\n",
    "    return reverse(s,l+1,r-1)\n",
    "\n",
    "s=\"abcde\"\n",
    "reverse(list(s),0,len(s)-1)\n",
    "'''\n",
    "def reverse(strng):\n",
    "    if  len(strng)==0:\n",
    "        return ''\n",
    "    else:\n",
    "        return strng[-1]+reverse(strng[:-1])\n",
    "\n",
    "reverse(\"sushil\")"
   ]
  },
  {
   "cell_type": "code",
   "execution_count": 78,
   "metadata": {},
   "outputs": [
    {
     "data": {
      "text/plain": [
       "15"
      ]
     },
     "execution_count": 78,
     "metadata": {},
     "output_type": "execute_result"
    }
   ],
   "source": [
    "'''\n",
    "def gcd(x,y):\n",
    "    while(y): \n",
    "        x, y = y, x % y \n",
    "    return x \n",
    "'''\n",
    "def gcd(x,y):\n",
    "    if y<1:\n",
    "        return x\n",
    "    return gcd(y,x%y)\n",
    "gcd(45,15)"
   ]
  },
  {
   "cell_type": "code",
   "execution_count": 79,
   "metadata": {},
   "outputs": [
    {
     "data": {
      "text/plain": [
       "39"
      ]
     },
     "execution_count": 79,
     "metadata": {},
     "output_type": "execute_result"
    }
   ],
   "source": [
    "#LCM :\n",
    "#1. Iterative:\n",
    "def lcm(a,b):\n",
    "    if a>b:\n",
    "        max_num=a\n",
    "    else:\n",
    "        max_num=b\n",
    "    while(True):\n",
    "        if max_num%a==0 and max_num%b==0:\n",
    "            return max_num\n",
    "        max_num+=1\n",
    "lcm(13,3)  "
   ]
  },
  {
   "cell_type": "code",
   "execution_count": 80,
   "metadata": {},
   "outputs": [
    {
     "data": {
      "text/plain": [
       "39"
      ]
     },
     "execution_count": 80,
     "metadata": {},
     "output_type": "execute_result"
    }
   ],
   "source": [
    "#2.Recursive:\n",
    "def lcm1(a,b):\n",
    "    return a*b//gcd(a,b)\n",
    "lcm1(13,3) "
   ]
  },
  {
   "cell_type": "code",
   "execution_count": 12,
   "metadata": {},
   "outputs": [
    {
     "data": {
      "text/plain": [
       "'100000'"
      ]
     },
     "execution_count": 12,
     "metadata": {},
     "output_type": "execute_result"
    }
   ],
   "source": [
    "#decimal to binary conversion:\n",
    "def dec2bin1(n,x):\n",
    "    if n==0:\n",
    "        return x[::-1]\n",
    "    return dec2bin(n//2,x+str(n%2))\n",
    "dec2bin(32,\"\")"
   ]
  },
  {
   "cell_type": "code",
   "execution_count": 19,
   "metadata": {},
   "outputs": [
    {
     "data": {
      "text/plain": [
       "100000"
      ]
     },
     "execution_count": 19,
     "metadata": {},
     "output_type": "execute_result"
    }
   ],
   "source": [
    "def dec2bin2(n):\n",
    "    if n==0:\n",
    "        return 0\n",
    "    return n%2 + 10 * dec2bin2(n//2)\n",
    "dec2bin2(32)"
   ]
  },
  {
   "cell_type": "code",
   "execution_count": 62,
   "metadata": {},
   "outputs": [
    {
     "data": {
      "text/plain": [
       "[1, 2, 3, 4, 5, 6]"
      ]
     },
     "execution_count": 62,
     "metadata": {},
     "output_type": "execute_result"
    }
   ],
   "source": [
    "#Flatten\n",
    "def flatten(arr):\n",
    "    resultArr = []\n",
    "    for item in arr:\n",
    "        if type(item) is list:\n",
    "            resultArr.extend(flatten(item))\n",
    "        else: \n",
    "            resultArr.append(item)\n",
    "    return resultArr \n",
    "flatten([1,2,[3,4,5],[[[[6]]]]])"
   ]
  },
  {
   "cell_type": "code",
   "execution_count": 63,
   "metadata": {},
   "outputs": [
    {
     "data": {
      "text/plain": [
       "['Abc', 'Cde', 'Fgh']"
      ]
     },
     "execution_count": 63,
     "metadata": {},
     "output_type": "execute_result"
    }
   ],
   "source": [
    "def capitalizeFirst(arr):\n",
    "    result = []\n",
    "    if len(arr) == 0:\n",
    "        return result\n",
    "    result.append(arr[0][0].upper() + arr[0][1:])\n",
    "    return result + capitalizeFirst(arr[1:]) \n",
    "\n",
    "capitalizeFirst(['abc','cde','fgh'])"
   ]
  },
  {
   "cell_type": "code",
   "execution_count": null,
   "metadata": {},
   "outputs": [],
   "source": []
  }
 ],
 "metadata": {
  "kernelspec": {
   "display_name": "Python 3",
   "language": "python",
   "name": "python3"
  },
  "language_info": {
   "codemirror_mode": {
    "name": "ipython",
    "version": 3
   },
   "file_extension": ".py",
   "mimetype": "text/x-python",
   "name": "python",
   "nbconvert_exporter": "python",
   "pygments_lexer": "ipython3",
   "version": "3.8.5"
  }
 },
 "nbformat": 4,
 "nbformat_minor": 2
}
