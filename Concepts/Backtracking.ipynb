{
 "cells": [
  {
   "cell_type": "code",
   "execution_count": 11,
   "metadata": {},
   "outputs": [
    {
     "data": {
      "text/plain": [
       "[[1, 2, 3], [1, 3, 2], [2, 1, 3], [2, 3, 1], [3, 1, 2], [3, 2, 1]]"
      ]
     },
     "execution_count": 11,
     "metadata": {},
     "output_type": "execute_result"
    }
   ],
   "source": [
    "#1. Permutations\n",
    "'''\n",
    "Given an array nums of distinct integers, return all the possible permutations. You can return the answer in any order.\n",
    "\n",
    "Input: nums = [1,2,3]\n",
    "Output: [[1,2,3],[1,3,2],[2,1,3],[2,3,1],[3,1,2],[3,2,1]]\n",
    "\n",
    "Input: nums = [0,1]\n",
    "Output: [[0,1],[1,0]]\n",
    "'''\n",
    "\n",
    "def permute(nums):\n",
    "    \n",
    "    def backtrack(nums,path):\n",
    "        if len(nums)==0:\n",
    "            res.append(path)\n",
    "            return #backtrack\n",
    "        for i in range(len(nums)):\n",
    "            backtrack(nums[:i]+nums[i+1:], path+[nums[i]])\n",
    "    \n",
    "    res=[]\n",
    "    backtrack(nums,[])\n",
    "    return res\n",
    "\n",
    "nums = [1,2,3]\n",
    "permute(nums)"
   ]
  },
  {
   "cell_type": "code",
   "execution_count": 12,
   "metadata": {},
   "outputs": [
    {
     "data": {
      "text/plain": [
       "[[1, 1, 2], [1, 2, 1], [2, 1, 1]]"
      ]
     },
     "execution_count": 12,
     "metadata": {},
     "output_type": "execute_result"
    }
   ],
   "source": [
    "#2.Permutations II\n",
    "'''\n",
    "Given a collection of numbers, nums, that might contain duplicates, return all possible unique permutations in any order.\n",
    "\n",
    "Input: nums = [1,1,2]\n",
    "Output:\n",
    "[[1,1,2],\n",
    " [1,2,1],\n",
    " [2,1,1]]\n",
    "'''\n",
    "def permuteUnique(nums):\n",
    "    \n",
    "    def backtrack(nums,path):\n",
    "        if len(nums)==0:\n",
    "            res.append(path)\n",
    "            return \n",
    "        for i in range(len(nums)):\n",
    "            if i>0 and nums[i]==nums[i-1]:  #ensure that array is sorted for this condition to hold true\n",
    "                continue\n",
    "            backtrack(nums[:i]+nums[i+1:], path+[nums[i]])\n",
    "    \n",
    "    nums.sort()\n",
    "    res=[]\n",
    "    backtrack(nums,[])\n",
    "    return res\n",
    "\n",
    "nums = [1,1,2]\n",
    "permuteUnique(nums)"
   ]
  },
  {
   "cell_type": "code",
   "execution_count": 13,
   "metadata": {},
   "outputs": [
    {
     "data": {
      "text/plain": [
       "[1, 3, 2, 4]"
      ]
     },
     "execution_count": 13,
     "metadata": {},
     "output_type": "execute_result"
    }
   ],
   "source": [
    "#3. Next Permutation - Not a backtracking problem. \n",
    "\n",
    "'''\n",
    "Implement next permutation, which rearranges numbers into the lexicographically next greater permutation of numbers.\n",
    "\n",
    "If such an arrangement is not possible, it must rearrange it as the lowest possible order (i.e., sorted in ascending order).\n",
    "\n",
    "The replacement must be in place and use only constant extra memory.\n",
    "\n",
    "Input: nums = [1,2,3]\n",
    "Output: [1,3,2]\n",
    "\n",
    "Input: nums = [3,2,1]\n",
    "Output: [1,2,3]\n",
    "\n",
    "Input: nums = [1,1,5]\n",
    "Output: [1,5,1]\n",
    "'''\n",
    "\n",
    "'''\n",
    "Intuition:\n",
    "\n",
    "ip : [5,4,3,2,1]  #elements arranged in descending order - it is the last possible permutaion - return the smallest permutation (sorted order) \n",
    "op: [1,2,3,4,5]\n",
    "\n",
    "ip: [1,2,4,3]\n",
    "    - desc. element foound at i=2 (4)\n",
    "    - swap nums[i-1] with immediately greater number than it- in this case 3 is next greater number than 2=> [1,3,4,2]\n",
    "    - return the permutation in ascending order => [1,3,2,4]\n",
    "    \n",
    "ip: [1,2,5,9,7,3,0]\n",
    "op: [1,2,7,9,5,3,0] (swap 5,7) => [1,2,7,0,3,5,9]\n",
    "\n",
    "\n",
    "ip: [1,2,7,9,6,4,1]\n",
    "op: [1,2,9,7,6,4,1] (swap 7,9) => [1,2,9,1,4,6,7]\n",
    "\n",
    "ip: [1,7,9,9,8,3]\n",
    "op: [1,8,3,7,9,9]\n",
    "\n",
    "https://www.youtube.com/watch?v=9xT2Xzlo4i4\n",
    "'''\n",
    "def nextPermutation(nums):\n",
    "    \"\"\"\n",
    "    Do not return anything, modify nums in-place instead.\n",
    "    \"\"\"\n",
    "    #find the position of first decreasing element\n",
    "    for i in range(len(nums)-1,-1,-1):        \n",
    "        if nums[i] > nums[i-1]:\n",
    "            break\n",
    "            \n",
    "    #if i==0: the array is reversed sorted i.e it is the last permutaion - thus we need to return the smallest permutation \n",
    "    if i==0: \n",
    "        nums.reverse()\n",
    "        return nums\n",
    "    \n",
    "    #Swap the element at position which we found earlier with the next greater number\n",
    "    for j in range(len(nums)-1,-1,-1):\n",
    "        if nums[j]>nums[i-1]:\n",
    "            nums[j],nums[i-1] = nums[i-1],nums[j]\n",
    "            break\n",
    "    \n",
    "    '''\n",
    "    After swapping, nums is still a descending list, while we want a ascending one.\n",
    "    ex: [1,2,4,3]\n",
    "    after swapping : [1,3,4,2] => this is still not the next permutation since the last numbers after ith position are still in desc order, thus we make the rest of the elements in ascending order after ith position to get the immedietly next greater permutation\n",
    "    '''\n",
    "    \n",
    "    nums[i:] = reversed(nums[i:])\n",
    "    return nums\n",
    "    \n",
    "nextPermutation([1,2,4,3])"
   ]
  },
  {
   "cell_type": "code",
   "execution_count": 16,
   "metadata": {},
   "outputs": [
    {
     "data": {
      "text/plain": [
       "[[1, 2], [1, 3], [1, 4], [2, 3], [2, 4], [3, 4]]"
      ]
     },
     "execution_count": 16,
     "metadata": {},
     "output_type": "execute_result"
    }
   ],
   "source": [
    "#4. Combinations\n",
    "\n",
    "'''\n",
    "Given two integers n and k, return all possible combinations of k numbers out of the range [1, n].\n",
    "\n",
    "You may return the answer in any order.\n",
    "\n",
    "Input: n = 4, k = 2\n",
    "Output:\n",
    "[\n",
    "  [2,4],\n",
    "  [3,4],\n",
    "  [2,3],\n",
    "  [1,2],\n",
    "  [1,3],\n",
    "  [1,4],\n",
    "]\n",
    "'''\n",
    "def combine(n,k):\n",
    "    \n",
    "    def backtrack(nums,path):\n",
    "        if len(path)==k:\n",
    "            res.append(path)\n",
    "            return #backtrack\n",
    "        for i in range(len(nums)):\n",
    "            backtrack(nums[i+1:], path + [nums[i]])\n",
    "    \n",
    "    res=[]\n",
    "    nums=list(range(1,n+1))\n",
    "    backtrack(nums,[])\n",
    "    return res\n",
    "n,k=4,2\n",
    "combine(n,k)"
   ]
  },
  {
   "cell_type": "code",
   "execution_count": 17,
   "metadata": {},
   "outputs": [
    {
     "data": {
      "text/plain": [
       "[[], [1], [1, 2], [1, 2, 3], [1, 3], [2], [2, 3], [3]]"
      ]
     },
     "execution_count": 17,
     "metadata": {},
     "output_type": "execute_result"
    }
   ],
   "source": [
    "#5. Subsets\n",
    "\n",
    "'''\n",
    "Given an integer array nums of unique elements, return all possible subsets (the power set).\n",
    "\n",
    "The solution set must not contain duplicate subsets. Return the solution in any order.\n",
    "\n",
    "Input: nums = [1,2,3]\n",
    "Output: [[],[1],[2],[1,2],[3],[1,3],[2,3],[1,2,3]]\n",
    "'''\n",
    "def subsets(nums):\n",
    "    \n",
    "    def backtrack(nums,path):\n",
    "        res.append(path)\n",
    "        for i in range(len(nums)):\n",
    "            backtrack(nums[i+1:],path+[nums[i]])\n",
    "    \n",
    "    res=[]\n",
    "    backtrack(nums,[])\n",
    "    return res\n",
    "nums = [1,2,3]\n",
    "subsets(nums)"
   ]
  },
  {
   "cell_type": "code",
   "execution_count": 20,
   "metadata": {},
   "outputs": [
    {
     "data": {
      "text/plain": [
       "[[], [1], [1, 2], [1, 2, 2], [2], [2, 2]]"
      ]
     },
     "execution_count": 20,
     "metadata": {},
     "output_type": "execute_result"
    }
   ],
   "source": [
    "#6. Subsets II\n",
    "\n",
    "'''\n",
    "Given an integer array nums that may contain duplicates, return all possible subsets (the power set).\n",
    "\n",
    "The solution set must not contain duplicate subsets. Return the solution in any order.\n",
    "\n",
    "Input: nums = [1,2,2]\n",
    "Output: [[],[1],[1,2],[1,2,2],[2],[2,2]]\n",
    "'''\n",
    "def subsetsWithDup(nums):\n",
    "\n",
    "    def backtrack(nums,path):\n",
    "        res.append(path)\n",
    "        for i in range(len(nums)):\n",
    "            if i>0 and nums[i]==nums[i-1]:\n",
    "                continue\n",
    "            backtrack(nums[i+1:],path+[nums[i]])\n",
    "    \n",
    "    res=[]\n",
    "    nums.sort()\n",
    "    backtrack(nums,[])\n",
    "    return res\n",
    "\n",
    "nums = [1,2,2]\n",
    "subsetsWithDup(nums)"
   ]
  },
  {
   "cell_type": "code",
   "execution_count": null,
   "metadata": {},
   "outputs": [],
   "source": []
  }
 ],
 "metadata": {
  "kernelspec": {
   "display_name": "Python 3",
   "language": "python",
   "name": "python3"
  },
  "language_info": {
   "codemirror_mode": {
    "name": "ipython",
    "version": 3
   },
   "file_extension": ".py",
   "mimetype": "text/x-python",
   "name": "python",
   "nbconvert_exporter": "python",
   "pygments_lexer": "ipython3",
   "version": "3.8.5"
  }
 },
 "nbformat": 4,
 "nbformat_minor": 4
}
