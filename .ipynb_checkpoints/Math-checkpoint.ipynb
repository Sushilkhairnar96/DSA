{
 "cells": [
  {
   "cell_type": "code",
   "execution_count": 1,
   "metadata": {},
   "outputs": [
    {
     "data": {
      "text/plain": [
       "True"
      ]
     },
     "execution_count": 1,
     "metadata": {},
     "output_type": "execute_result"
    }
   ],
   "source": [
    "#231. Power of Two\n",
    "'''\n",
    "Given an integer n, return true if it is a power of two. Otherwise, return false.\n",
    "\n",
    "An integer n is a power of two, if there exists an integer x such that n == 2x.\n",
    "'''\n",
    "def isPowerOfTwo(n: int) -> bool:\n",
    "    '''\n",
    "    import math\n",
    "    if n<=0 : return False\n",
    "    a = float(str(math.log(n)/math.log(2))[:-1])\n",
    "    return a.is_integer()\n",
    "    '''\n",
    "    if n<=0 : return False\n",
    "    return  (n & (n-1))== 0\n",
    "isPowerOfTwo(32)"
   ]
  },
  {
   "cell_type": "code",
   "execution_count": 3,
   "metadata": {},
   "outputs": [
    {
     "data": {
      "text/plain": [
       "True"
      ]
     },
     "execution_count": 3,
     "metadata": {},
     "output_type": "execute_result"
    }
   ],
   "source": [
    "#LC326. Power of Three\n",
    "def isPowerOfThree(n: int) -> bool:\n",
    "    if n<1 : return False\n",
    "    while n%3==0:\n",
    "        n=n//3\n",
    "    return n==1\n",
    "\n",
    "n=27\n",
    "isPowerOfThree(n)"
   ]
  },
  {
   "cell_type": "code",
   "execution_count": 63,
   "metadata": {},
   "outputs": [
    {
     "name": "stdout",
     "output_type": "stream",
     "text": [
      "6\n",
      "1\n",
      "0\n"
     ]
    },
    {
     "data": {
      "text/plain": [
       "7"
      ]
     },
     "execution_count": 63,
     "metadata": {},
     "output_type": "execute_result"
    }
   ],
   "source": [
    "#172. Factorial Trailing Zeroes\n",
    "'''\n",
    "Given an integer n, return the number of trailing zeroes in n!.\n",
    "\n",
    "Input: 5\n",
    "Output: 1\n",
    "Explanation: 5! = 120, one trailing zero.\n",
    "'''\n",
    "#Solution\n",
    "'''\n",
    "Because all trailing 0 is from factors 5 * 2.\n",
    "\n",
    "But sometimes one number may have several 5 factors, for example, 25 have two 5 factors, 125 have three 5 factors. \n",
    "In the n! operation, factors 2 is always ample. So we just count how many 5 factors in all number from 1 to n.\n",
    "'''\n",
    "n=30\n",
    "c=0\n",
    "while(n):\n",
    "    n=n//5\n",
    "    c+=n\n",
    "    print(n)\n",
    "c"
   ]
  },
  {
   "cell_type": "code",
   "execution_count": 112,
   "metadata": {},
   "outputs": [
    {
     "data": {
      "text/plain": [
       "6402373705728"
      ]
     },
     "execution_count": 112,
     "metadata": {},
     "output_type": "execute_result"
    }
   ],
   "source": [
    "'''\n",
    "def solution(i):\n",
    "  string_of_primes=\"\"\n",
    "  for num in range(2,22000):  #loop to get first 10000 prime numbers\n",
    "    flag=0                       \n",
    "    for j in range(2,num//2+1):  #loop to check whether the number is prime or not\n",
    "      if num%j==0:\n",
    "        flag=1            #set flag if number is composite       \n",
    "    if not flag:          #if flag is not set, then the number is prime                  \n",
    "      string_of_primes+=str(num)  #append prime number to the string\n",
    "      if len(string_of_primes)>i+5:   #if length of string exceeds the i+5, come out of the loop\n",
    "          break\n",
    "  return string_of_primes[i:i+5]  #return 5 numbers starting from the index position\n",
    "\n",
    "'''\n",
    "'''\n",
    "def solution(i):\n",
    "  import math \n",
    "  def is_prime(n):    \n",
    "    max_div = math.floor(math.sqrt(n)) \n",
    "    for i in range(2, 1 + int(max_div)): \n",
    "        if n % i == 0: \n",
    "            return False\n",
    "    return True\n",
    "\n",
    "  s=\"\" \n",
    "  for n in range(2,22000): \n",
    "    if is_prime(n):\n",
    "        s+=str(n)\n",
    "  \n",
    "  return s[i:i+5]\n",
    "'''\n",
    "x"
   ]
  },
  {
   "cell_type": "code",
   "execution_count": 116,
   "metadata": {},
   "outputs": [
    {
     "data": {
      "text/plain": [
       "'02192'"
      ]
     },
     "execution_count": 116,
     "metadata": {},
     "output_type": "execute_result"
    }
   ],
   "source": [
    "n=22000\n",
    "prime = [True for i in range(n+1)] \n",
    "p = 2\n",
    "while(p * p <= n):\n",
    "    if (prime[p] == True): \n",
    "        for i in range(p * p, n + 1, p): \n",
    "            prime[i] = False\n",
    "    p += 1\n",
    "\n",
    "string_of_primes=\"\"\n",
    "for p in range(2,n): \n",
    "    if prime[p]:\n",
    "        string_of_primes+=str(p)\n",
    "i=10000\n",
    "string_of_primes[i:i+5]"
   ]
  },
  {
   "cell_type": "code",
   "execution_count": 119,
   "metadata": {},
   "outputs": [],
   "source": [
    "def solution(i):\n",
    "    n=22000\n",
    "    prime = [True for num in range(n+1)] \n",
    "    p = 2\n",
    "    while(p * p <= n):\n",
    "        if (prime[p] == True): \n",
    "            for num in range(p * p, n + 1, p): \n",
    "                prime[num] = False\n",
    "        p += 1\n",
    " \n",
    "    string_of_primes=\"\"\n",
    "    for p in range(2,n): \n",
    "        if prime[p]:\n",
    "            string_of_primes+=str(p)\n",
    "        if len(string_of_primes)>i+5:\n",
    "            break\n",
    "    return string_of_primes[i:i+5]"
   ]
  },
  {
   "cell_type": "code",
   "execution_count": null,
   "metadata": {},
   "outputs": [],
   "source": [
    "x=\"\""
   ]
  }
 ],
 "metadata": {
  "kernelspec": {
   "display_name": "Python 3",
   "language": "python",
   "name": "python3"
  },
  "language_info": {
   "codemirror_mode": {
    "name": "ipython",
    "version": 3
   },
   "file_extension": ".py",
   "mimetype": "text/x-python",
   "name": "python",
   "nbconvert_exporter": "python",
   "pygments_lexer": "ipython3",
   "version": "3.7.3"
  }
 },
 "nbformat": 4,
 "nbformat_minor": 2
}
