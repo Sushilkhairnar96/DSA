{
 "cells": [
  {
   "cell_type": "code",
   "execution_count": 10,
   "metadata": {},
   "outputs": [
    {
     "data": {
      "text/plain": [
       "25"
      ]
     },
     "execution_count": 10,
     "metadata": {},
     "output_type": "execute_result"
    }
   ],
   "source": [
    "#1. Matrix Diagonal Sum\n",
    "'''\n",
    "Given a square matrix mat, return the sum of the matrix diagonals.\n",
    "\n",
    "Only include the sum of all the elements on the primary diagonal and all the elements \n",
    "on the secondary diagonal that are not part of the primary diagonal.\n",
    "\n",
    "Input: mat = [[1,2,3],\n",
    "              [4,5,6],\n",
    "              [7,8,9]]\n",
    "Output: 25\n",
    "Explanation: Diagonals sum: 1 + 5 + 9 + 3 + 7 = 25. Notice that element mat[1][1] = 5 is counted only once.\n",
    "\n",
    "Input: mat = [[1,1,1,1],\n",
    "              [1,1,1,1],\n",
    "              [1,1,1,1],\n",
    "              [1,1,1,1]]\n",
    "Output: 8\n",
    "'''\n",
    "def diagonalSum(mat) -> int:\n",
    "    '''\n",
    "    ans=0\n",
    "    m=len(mat)\n",
    "\n",
    "    for r in range(m):\n",
    "        ans+=mat[r][r]\n",
    "\n",
    "    r,c=0,m-1\n",
    "    while r<=m-1:\n",
    "        while c>=0:\n",
    "            if r!=c:\n",
    "                ans+=mat[r][c]\n",
    "            c-=1\n",
    "            break\n",
    "        r+=1\n",
    "                \n",
    "    return ans\n",
    "    '''\n",
    "    summ=0\n",
    "    n=len(mat)-1\n",
    "    \n",
    "    for i in range(n+1):\n",
    "        # Add primary diagonal.\n",
    "        summ+=mat[i][i]\n",
    "        \n",
    "        # Add the secondary but avoid the middle point that overlaps the primary.\n",
    "        if i!=n-i:\n",
    "            summ+=mat[i][n-i]\n",
    "    return summ\n",
    "\n",
    "mat = [[1,2,3],[4,5,6],[7,8,9]]\n",
    "diagonalSum(mat)"
   ]
  },
  {
   "cell_type": "code",
   "execution_count": 11,
   "metadata": {},
   "outputs": [
    {
     "data": {
      "text/plain": [
       "[2, 0, 3]"
      ]
     },
     "execution_count": 11,
     "metadata": {},
     "output_type": "execute_result"
    }
   ],
   "source": [
    "#2. The K Weakest Rows in a Matrix\n",
    "\n",
    "'''\n",
    "You are given an m x n binary matrix mat of 1's (representing soldiers) and 0's (representing civilians). The soldiers are positioned in front of the civilians. That is, all the 1's will appear to the left of all the 0's in each row.\n",
    "\n",
    "A row i is weaker than a row j if one of the following is true:\n",
    "\n",
    "The number of soldiers in row i is less than the number of soldiers in row j.\n",
    "Both rows have the same number of soldiers and i < j.\n",
    "Return the indices of the k weakest rows in the matrix ordered from weakest to strongest.\n",
    "\n",
    "Input: mat = \n",
    "[[1,1,0,0,0],\n",
    " [1,1,1,1,0],\n",
    " [1,0,0,0,0],\n",
    " [1,1,0,0,0],\n",
    " [1,1,1,1,1]], \n",
    "k = 3\n",
    "Output: [2,0,3]\n",
    "\n",
    "Explanation: \n",
    "The number of soldiers in each row is: \n",
    "- Row 0: 2 \n",
    "- Row 1: 4 \n",
    "- Row 2: 1 \n",
    "- Row 3: 2 \n",
    "- Row 4: 5 \n",
    "The rows ordered from weakest to strongest are [2,0,3,1,4].\n",
    "'''\n",
    "def kWeakestRows(mat,k):\n",
    "    dic={}\n",
    "    for i in range(len(mat)):\n",
    "        summ = sum([num for num in mat[i] if num==1])\n",
    "        dic[i]=summ\n",
    "    sorted_dic=sorted(dic.items(),key=lambda x: x[1])\n",
    "    return [i[0] for i in sorted_dic[:k]]\n",
    "\n",
    "mat = [[1,1,0,0,0],[1,1,1,1,0],[1,0,0,0,0],[1,1,0,0,0],[1,1,1,1,1]];  k = 3\n",
    "kWeakestRows(mat,k)"
   ]
  },
  {
   "cell_type": "code",
   "execution_count": 23,
   "metadata": {},
   "outputs": [
    {
     "name": "stdout",
     "output_type": "stream",
     "text": [
      "[1, 0] [0, 1, 0]\n",
      "[1, 1] [0, 0, 0]\n"
     ]
    },
    {
     "data": {
      "text/plain": [
       "6"
      ]
     },
     "execution_count": 23,
     "metadata": {},
     "output_type": "execute_result"
    }
   ],
   "source": [
    "#3. Cells with Odd Values in a Matrix\n",
    "'''\n",
    "Given n and m which are the dimensions of a matrix initialized by zeros and given an array indices where \n",
    "indices[i] = [ri, ci]. For each pair of [ri, ci] you have to increment all cells in row ri and column ci by 1.\n",
    "\n",
    "Return the number of cells with odd values in the matrix after applying the increment to all indices.\n",
    "\n",
    "Input: n = 2, m = 3, indices = [[0,1],[1,1]]\n",
    "Output: 6\n",
    "Explanation: Initial matrix = [[0,0,0],[0,0,0]].\n",
    "After applying first increment it becomes [[1,2,1],[0,1,0]].\n",
    "The final matrix will be [[1,3,1],[1,3,1]] which contains 6 odd numbers.\n",
    "'''\n",
    "'''\n",
    "ans= [[0 for j in range(m)] for i in range(n)]\n",
    "for r,c in indices:\n",
    "    for row in range(n):\n",
    "        ans[row][c]+=1\n",
    "        \n",
    "    for col in range(m):\n",
    "        ans[r][col]+=1\n",
    "print(ans)\n",
    "return sum([1 for row in ans for elem in row if elem%2 != 0])\n",
    "'''\n",
    "n = 2; m = 3; indices = [[0,1],[1,1]]\n",
    "row=[0]*n\n",
    "col=[0]*m\n",
    "count=0\n",
    "for i,j in indices:\n",
    "    row[i]= row[i]^1\n",
    "    col[j]=col[j]^1\n",
    "    print(row,col)\n",
    "for i in range(n):\n",
    "    for j in range(m):\n",
    "        if row[i]^col[j]==1:\n",
    "            count+=1\n",
    "count\n"
   ]
  },
  {
   "cell_type": "code",
   "execution_count": 24,
   "metadata": {},
   "outputs": [
    {
     "data": {
      "text/plain": [
       "[[1, 2, 3, 4]]"
      ]
     },
     "execution_count": 24,
     "metadata": {},
     "output_type": "execute_result"
    }
   ],
   "source": [
    "#4. Reshape the Matrix\n",
    "'''\n",
    "In MATLAB, there is a very useful function called 'reshape', which can reshape a matrix into a new one with different size but\n",
    "keep its original data.\n",
    "\n",
    "You're given a matrix represented by a two-dimensional array, and two positive integers r and c representing\n",
    "the row number and column number of the wanted reshaped matrix, respectively.\n",
    "\n",
    "The reshaped matrix need to be filled with all the elements of the original matrix in the same \n",
    "row-traversing order as they were.\n",
    "\n",
    "If the 'reshape' operation with given parameters is possible and legal, output the new reshaped matrix; \n",
    "Otherwise, output the original matrix.\n",
    "\n",
    "Input: \n",
    "nums = \n",
    "[[1,2],\n",
    " [3,4]]\n",
    "r = 1, c = 4\n",
    "Output: \n",
    "[[1,2,3,4]]\n",
    "Explanation:\n",
    "The row-traversing of nums is [1,2,3,4]. The new reshaped matrix is a 1 * 4 matrix, fill it row by row by\n",
    "using the previous list.\n",
    "'''    \n",
    "def matrixReshape(nums, r: int, c: int):\n",
    "    '''\n",
    "    #1. \n",
    "    \n",
    "    if len(nums) * len(nums[0]) != r * c:  return nums\n",
    "    \n",
    "    res = [[0 for j in range(c)] for i in range(r)]\n",
    "    nums= [item for row in nums for item in row]  #flatten the list and treat it like a queue\n",
    "    \n",
    "    k=0\n",
    "    for i in range(r):\n",
    "        for j in range(c):\n",
    "            res[i][j]=nums[k]\n",
    "            k+=1\n",
    "    return res\n",
    "    '''\n",
    "    \n",
    "    '''\n",
    "    #2. using generator:\n",
    "    \n",
    "    if len(nums) * len(nums[0]) != r * c:\n",
    "        return nums\n",
    "        \n",
    "    vals = (val for row in nums for val in row)  #generator\n",
    "    \n",
    "    return [[vals.__next__() for j in range(c)] for i in range(r)]    \n",
    "    '''\n",
    "    #3. Using queue\n",
    "    \n",
    "    from collections import deque\n",
    "    \n",
    "    if len(nums) * len(nums[0]) != r * c:  return nums\n",
    "    \n",
    "    x=[item for row in nums for item in row]\n",
    "    queue = deque(x)\n",
    "    ans = [[0 for j in range(c)] for r in range(r)]\n",
    "    \n",
    "    for i in range(r):\n",
    "        for j in range(c):\n",
    "            ans[i][j]= queue.popleft()\n",
    "    return ans  \n",
    "nums = [[1,2],[3,4]];r = 1;c = 4\n",
    "matrixReshape(nums,r,c)"
   ]
  },
  {
   "cell_type": "code",
   "execution_count": 25,
   "metadata": {},
   "outputs": [
    {
     "name": "stdout",
     "output_type": "stream",
     "text": [
      "3 2\n",
      "3 2\n",
      "2 1\n",
      "0 -1\n"
     ]
    },
    {
     "data": {
      "text/plain": [
       "8"
      ]
     },
     "execution_count": 25,
     "metadata": {},
     "output_type": "execute_result"
    }
   ],
   "source": [
    "#5. Count Negative Numbers in a Sorted Matrix\n",
    "'''\n",
    "Given a m * n matrix grid which is sorted in non-increasing order both row-wise and column-wise. \n",
    "\n",
    "Return the number of negative numbers in grid.\n",
    "\n",
    " \n",
    "\n",
    "Example 1:\n",
    "\n",
    "Input: grid = [[4,3,2,-1],[3,2,1,-1],[1,1,-1,-2],[-1,-1,-2,-3]]\n",
    "Output: 8\n",
    "Explanation: There are 8 negatives number in the matrix.\n",
    "'''\n",
    "def countNegatives(grid) -> int:\n",
    "    '''\n",
    "    count=0\n",
    "    for r in range(len(grid)):\n",
    "        for c in range(len(grid[0])):\n",
    "            if grid[r][c]<0:\n",
    "                count+=1\n",
    "    return count\n",
    "    '''\n",
    "    '''\n",
    "    m=len(grid)\n",
    "    n=len(grid[0])\n",
    "    count=0\n",
    "    for r in range(m):\n",
    "        for c in range(n):\n",
    "            if grid[r][c]<0:\n",
    "                count+=(n-c)\n",
    "                break\n",
    "    return count\n",
    "    '''\n",
    "    ans=0\n",
    "    for arr in grid:\n",
    "        if arr[-1]>=0:\n",
    "            continue\n",
    "            \n",
    "        l,r=0,len(arr)-1\n",
    "        while l<=r:\n",
    "            mid=(l+r)//2\n",
    "            if arr[mid]<0:\n",
    "                r=mid-1\n",
    "            else:\n",
    "                l=mid+1\n",
    "        print(l,r)       \n",
    "        ans+=len(arr)-l\n",
    "    return ans\n",
    "\n",
    "grid = [[4,3,2,-1],[3,2,1,-1],[1,1,-1,-2],[-1,-1,-2,-3]]\n",
    "countNegatives(grid)"
   ]
  },
  {
   "cell_type": "code",
   "execution_count": 26,
   "metadata": {},
   "outputs": [
    {
     "data": {
      "text/plain": [
       "[[1, 2, 3], [4, 5, 6], [7, 8, 9]]"
      ]
     },
     "execution_count": 26,
     "metadata": {},
     "output_type": "execute_result"
    }
   ],
   "source": [
    "#6. Transpose Matrix\n",
    "'''\n",
    "\n",
    "#1.  return zip(*A)\n",
    "\n",
    "#zip aggregate elements in the parameter list\n",
    "#*M unpack the original input list M into multiple sublists(rows)\n",
    "#so zip(*M) essentially transpose the matrix\n",
    "'''\n",
    "def transpose(matrix):\n",
    "    '''\n",
    "    res=[[0 for j in range(len(matrix))] for i in range(len(matrix[0]))]\n",
    "    print(res)\n",
    "    for i in range(len(matrix)):\n",
    "        for j in range(len(matrix[0])):\n",
    "            res[j][i]=matrix[i][j]\n",
    "    return res\n",
    "    '''\n",
    "    return [[matrix[j][i] for j in range(len(matrix))] for i in range(len(matrix[0]))]\n",
    "\n",
    "matrix=[[1, 4, 7], [2, 5, 8], [3, 6, 9]]\n",
    "transpose(matrix)"
   ]
  },
  {
   "cell_type": "code",
   "execution_count": 27,
   "metadata": {},
   "outputs": [
    {
     "data": {
      "text/plain": [
       "[15]"
      ]
     },
     "execution_count": 27,
     "metadata": {},
     "output_type": "execute_result"
    }
   ],
   "source": [
    "#7. Lucky Numbers in a Matrix\n",
    "'''\n",
    "Given a m * n matrix of distinct numbers, return all lucky numbers in the matrix in any order.\n",
    "\n",
    "A lucky number is an element of the matrix such that it is the minimum element in its row and maximum in its column.\n",
    "\n",
    "Input: matrix = [[3,7,8],[9,11,13],[15,16,17]]\n",
    "Output: [15]\n",
    "Explanation: 15 is the only lucky number since it is the minimum in its row and the maximum in its column\n",
    "'''\n",
    "\n",
    "matrix = [[3,7,8],[9,11,13],[15,16,17]]\n",
    "'''\n",
    "rmin = [min(x) for x in matrix]\n",
    "cmax = [max(x) for x in zip(*matrix)]\n",
    "[matrix[i][j] for i in range(len(matrix)) for j in range(len(matrix[0])) if rmin[i] == cmax[j]]\n",
    "'''\n",
    "row=[]\n",
    "for i in range(len(matrix)):\n",
    "    min_row = min(matrix[i]) \n",
    "    row.append(min_row)\n",
    "\n",
    "col=[]\n",
    "for j in range(len(matrix[0])):\n",
    "    c = [r[j] for r in matrix]\n",
    "    col.append(max(c))\n",
    "list(set(row).intersection(set(col))) "
   ]
  },
  {
   "cell_type": "code",
   "execution_count": 28,
   "metadata": {},
   "outputs": [
    {
     "data": {
      "text/plain": [
       "[[7, 4, 1], [8, 5, 2], [9, 6, 3]]"
      ]
     },
     "execution_count": 28,
     "metadata": {},
     "output_type": "execute_result"
    }
   ],
   "source": [
    "#8. Rotate Image\n",
    "'''\n",
    "You are given an n x n 2D matrix representing an image.\n",
    "\n",
    "Rotate the image by 90 degrees (clockwise).\n",
    "\n",
    "Note:\n",
    "\n",
    "You have to rotate the image in-place, which means you have to modify the input 2D matrix directly.\n",
    "DO NOT allocate another 2D matrix and do the rotation.\n",
    "\n",
    "Example 1:\n",
    "\n",
    "Given input matrix = \n",
    "[\n",
    "  [1,2,3],\n",
    "  [4,5,6],\n",
    "  [7,8,9]\n",
    "],\n",
    "\n",
    "rotate the input matrix in-place such that it becomes:\n",
    "[\n",
    "  [7,4,1],\n",
    "  [8,5,2],\n",
    "  [9,6,3]\n",
    "]\n",
    "'''\n",
    "matrix = [[1,2,3],[4,5,6],[7,8,9]]\n",
    "\n",
    "#step1. reverse the matrix: [[1,2,3],[4,5,6],[7,8,9]] => [[7,8,9],[4,5,6],[1,2,3]]\n",
    "matrix.reverse()\n",
    "\n",
    "#step2. Take transpose of the reversed matrix\n",
    "n = len(matrix)\n",
    "for i in range(n):\n",
    "    for j in range(i):\n",
    "        matrix[i][j],matrix[j][i] = matrix[j][i],matrix[i][j]\n",
    "matrix"
   ]
  },
  {
   "cell_type": "code",
   "execution_count": 29,
   "metadata": {},
   "outputs": [
    {
     "data": {
      "text/plain": [
       "True"
      ]
     },
     "execution_count": 29,
     "metadata": {},
     "output_type": "execute_result"
    }
   ],
   "source": [
    "#9. Toeplitz Matrix\n",
    "'''\n",
    "A matrix is Toeplitz if every diagonal from top-left to bottom-right has the same element.\n",
    "Input:\n",
    "matrix = [\n",
    "  [1,2,3,4],\n",
    "  [5,1,2,3],\n",
    "  [9,5,1,2]\n",
    "]\n",
    "Output: True\n",
    "Explanation:\n",
    "In the above grid, the diagonals are:\n",
    "\"[9]\", \"[5, 5]\", \"[1, 1, 1]\", \"[2, 2, 2]\", \"[3, 3]\", \"[4]\".\n",
    "In each diagonal all elements are the same, so the answer is True.\n",
    "'''\n",
    "def isToeplitzMatrix(matrix) -> bool:\n",
    "    for i in range(1,len(matrix)):\n",
    "        for j in range(1,len(matrix[0])):\n",
    "            if matrix[i][j]!=matrix[i-1][j-1]:\n",
    "                return False\n",
    "    return True\n",
    "matrix = [\n",
    "  [1,2,3,4],\n",
    "  [5,1,2,3],\n",
    "  [9,5,1,2]\n",
    "]\n",
    "isToeplitzMatrix(matrix)"
   ]
  },
  {
   "cell_type": "code",
   "execution_count": 36,
   "metadata": {},
   "outputs": [
    {
     "name": "stdout",
     "output_type": "stream",
     "text": [
      "1 2 1 1\n",
      "2 1 2 1\n"
     ]
    },
    {
     "data": {
      "text/plain": [
       "[1, 2, 3, 4, 8, 12, 11, 10, 9, 5, 6, 7]"
      ]
     },
     "execution_count": 36,
     "metadata": {},
     "output_type": "execute_result"
    }
   ],
   "source": [
    "#10. Spiral Matrix\n",
    "'''\n",
    "Given a matrix of m x n elements (m rows, n columns), return all elements of the matrix in spiral order.\n",
    "Input:\n",
    "[\n",
    " [ 1, 2, 3 ],\n",
    " [ 4, 5, 6 ],\n",
    " [ 7, 8, 9 ]\n",
    "]\n",
    "Output: [1,2,3,6,9,8,7,4,5]\n",
    "'''\n",
    "matrix=[[1, 2, 3, 4],\n",
    "        [5, 6, 7, 8],\n",
    "        [9,10,11,12]]\n",
    "\n",
    "left,right = 0,len(matrix[0])-1\n",
    "top,bottom = 0,len(matrix)-1\n",
    "res=[]\n",
    "while left <= right and top <= bottom:\n",
    "    \n",
    "    # move right\n",
    "    for i in range(left,right+1):\n",
    "        res.append(matrix[top][i])\n",
    "    top+=1\n",
    "    \n",
    "    # move down\n",
    "    for i in range(top,bottom+1):\n",
    "        res.append(matrix[i][right])\n",
    "    right-=1\n",
    "    \n",
    "    # move left\n",
    "    if top<=bottom:  #will return False if there is only 1 row, so no need to scan right-to-left.\n",
    "        for i in range(right,left-1,-1):\n",
    "            res.append(matrix[bottom][i])\n",
    "        bottom-=1\n",
    "    \n",
    "    # move up\n",
    "    if left<=right: #will return False if there is only 1 column, so no need to scan bottom-to-top\n",
    "        for i in range(bottom,top-1,-1):\n",
    "            res.append(matrix[i][left])     \n",
    "        left+=1\n",
    "        \n",
    "    print(left,right,top,bottom)\n",
    "res"
   ]
  },
  {
   "cell_type": "code",
   "execution_count": 37,
   "metadata": {},
   "outputs": [
    {
     "data": {
      "text/plain": [
       "[[1, 2, 3, 4], [12, 13, 14, 5], [11, 16, 15, 6], [10, 9, 8, 7]]"
      ]
     },
     "execution_count": 37,
     "metadata": {},
     "output_type": "execute_result"
    }
   ],
   "source": [
    "'''\n",
    "#11.  Spiral Matrix II\n",
    "\n",
    "Given a positive integer n, generate an n x n matrix filled with elements from 1 to n**2 in spiral order.\n",
    "\n",
    "Input: n = 3\n",
    "Output: [[1,2,3],[8,9,4],[7,6,5]]\n",
    "'''\n",
    "\n",
    "def generateMatrix(n):\n",
    "    res = [[0 for j in range(n)] for i in range(n)]\n",
    "    count=1\n",
    "    left,right = 0,n-1\n",
    "    top,bottom = 0,n-1\n",
    "    \n",
    "    while left<=right and top<=bottom:\n",
    "        \n",
    "        for i in range(left,right+1):\n",
    "            res[top][i]=count\n",
    "            count+=1\n",
    "        top+=1\n",
    "        \n",
    "        for i in range(top,bottom+1):\n",
    "            res[i][right]=count\n",
    "            count+=1\n",
    "        right-=1\n",
    "        \n",
    "        for i in range(right,left-1,-1):\n",
    "            res[bottom][i]=count\n",
    "            count+=1\n",
    "        bottom-=1\n",
    "        \n",
    "        for i in range(bottom,top-1,-1):\n",
    "            res[i][left]=count\n",
    "            count+=1\n",
    "        left+=1\n",
    "    return res\n",
    "\n",
    "generateMatrix(4)"
   ]
  },
  {
   "cell_type": "code",
   "execution_count": 31,
   "metadata": {},
   "outputs": [
    {
     "data": {
      "text/plain": [
       "[[1, 0, 1], [0, 0, 0], [1, 0, 1]]"
      ]
     },
     "execution_count": 31,
     "metadata": {},
     "output_type": "execute_result"
    }
   ],
   "source": [
    "#12. Set Matrix Zeroes\n",
    "'''\n",
    "Given an m x n matrix. If an element is 0, set its entire row and column to 0. Do it in-place.\n",
    "\n",
    "Input: matrix = [[1,1,1],[1,0,1],[1,1,1]]\n",
    "Output: [[1,0,1],[0,0,0],[1,0,1]]\n",
    "\n",
    "Follow up:\n",
    "A simple improvement uses O(m + n) space, but still not the best solution.\n",
    "Could you devise a constant space solution?\n",
    "'''\n",
    "def setZeroes(matrix):\n",
    "    \"\"\"\n",
    "    Do not return anything, modify matrix in-place instead.\n",
    "    \"\"\"\n",
    "    row=set()\n",
    "    col=set()\n",
    "    for i in range(len(matrix)):\n",
    "        for j in range(len(matrix[0])):\n",
    "            if matrix[i][j]==0:\n",
    "                row.add(i)\n",
    "                col.add(j)\n",
    "\n",
    "    for i in range(len(matrix)):\n",
    "        for j in range(len(matrix[0])):\n",
    "            if i in row or j in col:\n",
    "                matrix[i][j]=0\n",
    "    return matrix\n",
    "\n",
    "matrix = [[1,1,1],[1,0,1],[1,1,1]]\n",
    "setZeroes(matrix)        "
   ]
  },
  {
   "cell_type": "code",
   "execution_count": 32,
   "metadata": {},
   "outputs": [
    {
     "data": {
      "text/plain": [
       "[[1, 0, 1], [0, 0, 0], [1, 0, 1]]"
      ]
     },
     "execution_count": 32,
     "metadata": {},
     "output_type": "execute_result"
    }
   ],
   "source": [
    "#O(1)\n",
    "matrix = [[1,1,1],[1,0,1],[1,1,1]]\n",
    "m = len(matrix)\n",
    "n = len(matrix[0])\n",
    "\n",
    "first_row_has_zero = False\n",
    "first_col_has_zero = False\n",
    "\n",
    "# iterate through matrix to mark the zero row and cols\n",
    "for row in range(m):\n",
    "    for col in range(n):\n",
    "        if matrix[row][col] == 0:\n",
    "            if row == 0:\n",
    "                first_row_has_zero = True\n",
    "            if col == 0:\n",
    "                first_col_has_zero = True\n",
    "            matrix[row][0] = matrix[0][col] = 0\n",
    "\n",
    "# iterate through matrix to update the cell to be zero if it's in a zero row or col\n",
    "for row in range(1, m):\n",
    "    for col in range(1, n):\n",
    "        matrix[row][col] = 0 if matrix[0][col] == 0 or matrix[row][0] == 0 else matrix[row][col]\n",
    "\n",
    "# update the first row and col if they're zero\n",
    "if first_row_has_zero:\n",
    "    for col in range(n):\n",
    "        matrix[0][col] = 0\n",
    "\n",
    "if first_col_has_zero:\n",
    "    for row in range(m):\n",
    "        matrix[row][0] = 0\n",
    "matrix"
   ]
  },
  {
   "cell_type": "code",
   "execution_count": 1,
   "metadata": {},
   "outputs": [
    {
     "name": "stdout",
     "output_type": "stream",
     "text": [
      "0 11 5 11\n",
      "0 4 2 5\n",
      "0 1 0 1\n",
      "1 1 1 3\n"
     ]
    },
    {
     "data": {
      "text/plain": [
       "True"
      ]
     },
     "execution_count": 1,
     "metadata": {},
     "output_type": "execute_result"
    }
   ],
   "source": [
    "#13. Search a 2D Matrix\n",
    "'''\n",
    "Write an efficient algorithm that searches for a value in an m x n matrix. This matrix has the following properties:\n",
    "\n",
    "Integers in each row are sorted from left to right.\n",
    "The first integer of each row is greater than the last integer of the previous row.\n",
    "\n",
    "Input: matrix = [[1,3,5,7],[10,11,16,20],[23,30,34,60]], target = 3\n",
    "Output: true\n",
    "'''\n",
    "def searchMatrix(matrix,target) -> bool:\n",
    "    '''\n",
    "    for arr in matrix:\n",
    "        if target <= arr[-1]:\n",
    "            l,r=0,len(arr)-1\n",
    "            while l<=r:\n",
    "                mid =(l+r)//2\n",
    "                if arr[mid]==target:\n",
    "                    return True\n",
    "                if arr[mid]>target:\n",
    "                    r=mid-1\n",
    "                else:\n",
    "                    l=mid+1\n",
    "            return False\n",
    "        \n",
    "        else:\n",
    "            continue\n",
    "    return False\n",
    "    '''\n",
    "    #formula to convert 2D matrix to 1D (m*n) array => a[x] =>matrix[x // n][x % n];\n",
    "    if not matrix or target is None:\n",
    "        return False\n",
    "    m=len(matrix)\n",
    "    n=len(matrix[0])\n",
    "    l=0;r=m*n-1\n",
    "    while l<=r:\n",
    "        mid=(l+r)//2\n",
    "        num = matrix[mid//n][mid%n]\n",
    "        if num==target:\n",
    "            return True\n",
    "        elif num < target:\n",
    "            l = mid+1\n",
    "        else:\n",
    "            r=mid -1\n",
    "    return False\n",
    "\n",
    "matrix = [[1,3,5,7],[10,11,16,20],[23,30,34,60]]; target = 3\n",
    "searchMatrix(matrix,target)"
   ]
  },
  {
   "cell_type": "code",
   "execution_count": 2,
   "metadata": {
    "scrolled": true
   },
   "outputs": [
    {
     "name": "stdout",
     "output_type": "stream",
     "text": [
      "1 0 0 0\n",
      "3 1 0 1\n",
      "5 2 0 2\n",
      "7 3 0 3\n",
      "10 4 1 0\n",
      "11 5 1 1\n",
      "16 6 1 2\n",
      "20 7 1 3\n",
      "23 8 2 0\n",
      "30 9 2 1\n",
      "34 10 2 2\n",
      "60 11 2 3\n"
     ]
    }
   ],
   "source": [
    "m=len(matrix)\n",
    "n=len(matrix[0])\n",
    "l=0;r=m*n-1\n",
    "for mid in range(m*n):\n",
    "    print(matrix[mid//n][mid%n], mid, mid//n, mid%n)"
   ]
  },
  {
   "cell_type": "code",
   "execution_count": 5,
   "metadata": {},
   "outputs": [
    {
     "data": {
      "text/plain": [
       "True"
      ]
     },
     "execution_count": 5,
     "metadata": {},
     "output_type": "execute_result"
    }
   ],
   "source": [
    "#14. Search a 2D Matrix II\n",
    "'''\n",
    "Write an efficient algorithm that searches for a target value in an m x n integer matrix. The matrix has the following properties:\n",
    "\n",
    "Integers in each row are sorted in ascending from left to right.\n",
    "Integers in each column are sorted in ascending from top to bottom.\n",
    "\n",
    "matrix = [[1, 4, 7, 11,15],\n",
    "          [2, 5, 8, 12,19],\n",
    "          [3, 6, 9, 16,22],\n",
    "          [10,13,14,17,24],\n",
    "          [18,21,23,26,30]], target = 5\n",
    "Output: true\n",
    "'''\n",
    "def searchMatrix(matrix,target) -> bool:\n",
    "    '''\n",
    "    Starting from Top-Right corner:\n",
    "    If current grid M[r][c] is smaller than target x, there is no need to consider M[r][:c] since all the\n",
    "    grids on the left must be smaller as well. So, x must be in the rows below and we can safely make r += 1.\n",
    "    We keep moving M[r][c] downwards until it's larger x, then we can safely move leftwards and make c -= 1 \n",
    "    since all the grids in M[ :r][c ] would be larger than x.\n",
    "    During the search, if x is found, we return True. Otherwise, we can either move downwards or leftwards safely.\n",
    "    If we reach left-bottom corner without hitting x, then target is not in the matrix.\n",
    "    '''\n",
    "    m=len(matrix)\n",
    "    n=len(matrix[0])\n",
    "    r,c = 0, n-1\n",
    "    while r<=m-1 and c>=0:\n",
    "        if target==matrix[r][c]:\n",
    "            return True\n",
    "        elif target > matrix[r][c] :\n",
    "            r+=1\n",
    "        else:\n",
    "            c-=1\n",
    "    return False\n",
    "\n",
    "matrix = [[1,4,7,11,15],[2,5,8,12,19],[3,6,9,16,22],[10,13,14,17,24],[18,21,23,26,30]]\n",
    "target = 5\n",
    "searchMatrix(matrix,target)"
   ]
  },
  {
   "cell_type": "code",
   "execution_count": null,
   "metadata": {},
   "outputs": [],
   "source": []
  }
 ],
 "metadata": {
  "kernelspec": {
   "display_name": "Python 3",
   "language": "python",
   "name": "python3"
  },
  "language_info": {
   "codemirror_mode": {
    "name": "ipython",
    "version": 3
   },
   "file_extension": ".py",
   "mimetype": "text/x-python",
   "name": "python",
   "nbconvert_exporter": "python",
   "pygments_lexer": "ipython3",
   "version": "3.8.5"
  }
 },
 "nbformat": 4,
 "nbformat_minor": 2
}
