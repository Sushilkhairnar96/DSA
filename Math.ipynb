{
 "cells": [
  {
   "cell_type": "code",
   "execution_count": 3,
   "metadata": {},
   "outputs": [
    {
     "data": {
      "text/plain": [
       "True"
      ]
     },
     "execution_count": 3,
     "metadata": {},
     "output_type": "execute_result"
    }
   ],
   "source": [
    "#LC326. Power of Three\n",
    "def isPowerOfThree(n: int) -> bool:\n",
    "    if n<1 : return False\n",
    "    while n%3==0:\n",
    "        n=n//3\n",
    "    return n==1\n",
    "\n",
    "n=27\n",
    "isPowerOfThree(n)"
   ]
  },
  {
   "cell_type": "code",
   "execution_count": 63,
   "metadata": {},
   "outputs": [
    {
     "name": "stdout",
     "output_type": "stream",
     "text": [
      "6\n",
      "1\n",
      "0\n"
     ]
    },
    {
     "data": {
      "text/plain": [
       "7"
      ]
     },
     "execution_count": 63,
     "metadata": {},
     "output_type": "execute_result"
    }
   ],
   "source": [
    "#172. Factorial Trailing Zeroes\n",
    "'''\n",
    "Given an integer n, return the number of trailing zeroes in n!.\n",
    "\n",
    "Input: 5\n",
    "Output: 1\n",
    "Explanation: 5! = 120, one trailing zero.\n",
    "'''\n",
    "#Solution\n",
    "'''\n",
    "Because all trailing 0 is from factors 5 * 2.\n",
    "\n",
    "But sometimes one number may have several 5 factors, for example, 25 have two 5 factors, 125 have three 5 factors. \n",
    "In the n! operation, factors 2 is always ample. So we just count how many 5 factors in all number from 1 to n.\n",
    "'''\n",
    "n=30\n",
    "c=0\n",
    "while(n):\n",
    "    n=n//5\n",
    "    c+=n\n",
    "    print(n)\n",
    "c"
   ]
  },
  {
   "cell_type": "code",
   "execution_count": null,
   "metadata": {},
   "outputs": [],
   "source": []
  }
 ],
 "metadata": {
  "kernelspec": {
   "display_name": "Python 3",
   "language": "python",
   "name": "python3"
  },
  "language_info": {
   "codemirror_mode": {
    "name": "ipython",
    "version": 3
   },
   "file_extension": ".py",
   "mimetype": "text/x-python",
   "name": "python",
   "nbconvert_exporter": "python",
   "pygments_lexer": "ipython3",
   "version": "3.7.3"
  }
 },
 "nbformat": 4,
 "nbformat_minor": 2
}
