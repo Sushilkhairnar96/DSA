{
 "cells": [
  {
   "cell_type": "code",
   "execution_count": 3,
   "metadata": {},
   "outputs": [],
   "source": [
    "class Node:\n",
    "    def __init__(self,data=None):\n",
    "        self.data=data\n",
    "        self.next=None\n"
   ]
  },
  {
   "cell_type": "code",
   "execution_count": 39,
   "metadata": {},
   "outputs": [],
   "source": [
    "class LinkedList:\n",
    "    def __init__(self):\n",
    "        self.head=None\n",
    "        \n",
    "    def append(self,data):\n",
    "        cur=self.head\n",
    "        new_node=Node(data)\n",
    "        if not self.head:\n",
    "            self.head=new_node\n",
    "            return\n",
    "        while cur.next:\n",
    "            cur=cur.next\n",
    "        cur.next=new_node\n",
    "    \n",
    "    def display(self,head):\n",
    "        x=[]\n",
    "        cur=head\n",
    "        while cur:\n",
    "            x.append(cur.data)\n",
    "            cur=cur.next\n",
    "        print(x)\n",
    "        \n",
    "    def getIntersectionNode(self, headA, headB):  #when u nodes meet at same address (not value)\n",
    "        '''\n",
    "        #Compensate the length difference =>  O(m+n) time, o(1) space\n",
    "        \n",
    "        curA,curB = headA,headB \n",
    "        lenA,lenB = 0,0\n",
    "        \n",
    "        while curA is not None:  #calculating lenA\n",
    "            lenA += 1\n",
    "            curA = curA.next\n",
    "            \n",
    "        while curB is not None:  #calculating lenB\n",
    "            lenB += 1\n",
    "            curB = curB.next\n",
    "            \n",
    "        curA,curB = headA,headB\n",
    "        \n",
    "        if lenA > lenB:\n",
    "            for i in range(lenA-lenB):  #taking the longer list(A)  to the intersection point\n",
    "                curA = curA.next\n",
    "                \n",
    "        elif lenB > lenA:\n",
    "            for i in range(lenB-lenA):\n",
    "                curB = curB.next       #taking the longer list(B)  to the intersection point\n",
    "                \n",
    "        while curB != curA:\n",
    "            curB = curB.next\n",
    "            curA = curA.next\n",
    "        return curA\n",
    "        \n",
    "        '''\n",
    "        '''\n",
    "        #2. Using Hashset: O(n)-time and space\n",
    "        \n",
    "        x=set()\n",
    "        cur1=headA\n",
    "        cur2=headB\n",
    "        while cur1:\n",
    "            x.add(cur1)\n",
    "            cur1=cur1.next\n",
    "        while cur2:\n",
    "            if cur2 in x:\n",
    "                return cur2\n",
    "            cur2=cur2.next\n",
    "        return None             \n",
    "        '''\n",
    "        #3. Two pinters:  O(n) time, o(1) space\n",
    "        \n",
    "        if not headA or not headB : return None\n",
    "\n",
    "        p, q = headA, headB;\n",
    "        while p != q:\n",
    "            p = p.next if p else headB\n",
    "            q = q.next if q else headA\n",
    "                \n",
    "        return p         # only 2 ways to get out of the loop, they meet or the both hit the end=None\n",
    "    \n",
    "    def removeElements(self, head, val):\n",
    "        dummy_head = Node(-1)\n",
    "        dummy_head.next = head                    \n",
    "        \n",
    "        cur = dummy_head           #cur=>  -1->1->2->3\n",
    "        while cur.next:\n",
    "            if cur.next.data == val:\n",
    "                cur.next = cur.next.next\n",
    "            else:\n",
    "                cur = cur.next\n",
    "                \n",
    "        self.display(dummy_head.next)\n",
    "                   "
   ]
  },
  {
   "cell_type": "code",
   "execution_count": 40,
   "metadata": {},
   "outputs": [
    {
     "name": "stdout",
     "output_type": "stream",
     "text": [
      "[2, 3]\n"
     ]
    }
   ],
   "source": [
    "obj=LinkedList()\n",
    "obj.append(1)\n",
    "obj.append(2)\n",
    "obj.append(3)\n",
    "obj.removeElements(obj.head,1)"
   ]
  },
  {
   "cell_type": "code",
   "execution_count": null,
   "metadata": {},
   "outputs": [],
   "source": []
  }
 ],
 "metadata": {
  "kernelspec": {
   "display_name": "Python 3",
   "language": "python",
   "name": "python3"
  },
  "language_info": {
   "codemirror_mode": {
    "name": "ipython",
    "version": 3
   },
   "file_extension": ".py",
   "mimetype": "text/x-python",
   "name": "python",
   "nbconvert_exporter": "python",
   "pygments_lexer": "ipython3",
   "version": "3.7.3"
  }
 },
 "nbformat": 4,
 "nbformat_minor": 2
}
