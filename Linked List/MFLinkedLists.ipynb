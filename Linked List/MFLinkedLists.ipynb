{
 "cells": [
  {
   "cell_type": "code",
   "execution_count": 1,
   "metadata": {},
   "outputs": [],
   "source": [
    "class Node:\n",
    "    def __init__(self,val,next=None):\n",
    "        self.val=val\n",
    "        self.next=next"
   ]
  },
  {
   "cell_type": "code",
   "execution_count": 19,
   "metadata": {},
   "outputs": [],
   "source": [
    "class LL1:\n",
    "    def __init__(self):\n",
    "        self.head=None\n",
    "    \n",
    "    def display(self):\n",
    "        cur = self.head\n",
    "        x=[]\n",
    "        while cur:\n",
    "            x.append(cur.val)\n",
    "            cur=cur.next\n",
    "        print(x)\n",
    "    \n",
    "    def append(self,val):\n",
    "        if not self.head:\n",
    "            self.head = Node(val)\n",
    "        else:\n",
    "            cur = self.head\n",
    "            while cur and cur.next:\n",
    "                cur=cur.next\n",
    "            cur.next = Node(val)\n",
    "    \n",
    "    '''\n",
    "    #1. Middle of the Linked List\n",
    "    Input: [1,2,3,4,5]\n",
    "    Output: Node 3 \n",
    "    \n",
    "    Input: [1,2,3,4,5,6]\n",
    "    Output = Node 4\n",
    "    '''\n",
    "    def middleNode(self):\n",
    "        slow = fast = self.head\n",
    "        while fast and fast.next:\n",
    "            slow=slow.next\n",
    "            fast=fast.next.next\n",
    "        return slow\n",
    "    \n",
    "    '''\n",
    "    #2. Merge Two Sorted Lists\n",
    "    \n",
    "    Input: l1 = [1,2,4], l2 = [1,3,4]\n",
    "    Output: [1,1,2,3,4,4]\n",
    "    '''\n",
    "    def mergeTwoLists(self, l1, l2):\n",
    "        res=dummy=ListNode(0)   # a dummy node\n",
    "        while l1 and l2:\n",
    "            if l1.val < l2.val:\n",
    "                res.next = l1\n",
    "                l1 = l1.next\n",
    "            else:\n",
    "                res.next = l2\n",
    "                l2 = l2.next\n",
    "            res=res.next\n",
    "        \n",
    "        # when one of them is None, cur should point at the remainder since the linked lists are sorted\n",
    "        res.next = l1 if l1 else l2\n",
    "        return dummy.next\n",
    "    \n",
    "    '''\n",
    "    #3. Remove Duplicates from Sorted List\n",
    "    Input: head = [1,1,2,3,3]\n",
    "    Output: [1,2,3]\n",
    "    '''\n",
    "    def deleteDuplicates(self, head):\n",
    "        cur = head\n",
    "        while cur and cur.next :\n",
    "            if cur.val == cur.next.val:\n",
    "                cur.next = cur.next.next\n",
    "            else:\n",
    "                cur=cur.next\n",
    "        return head"
   ]
  },
  {
   "cell_type": "code",
   "execution_count": 20,
   "metadata": {},
   "outputs": [
    {
     "name": "stdout",
     "output_type": "stream",
     "text": [
      "[1, 2, 3, 4, 5]\n",
      "Middle Node: 3\n"
     ]
    }
   ],
   "source": [
    "obj1 = LL1()\n",
    "for i in range(1,6):\n",
    "    obj1.append(i)\n",
    "obj1.display()\n",
    "print(\"Middle Node:\", obj1.middleNode().val)"
   ]
  },
  {
   "cell_type": "code",
   "execution_count": null,
   "metadata": {},
   "outputs": [],
   "source": []
  }
 ],
 "metadata": {
  "kernelspec": {
   "display_name": "Python 3",
   "language": "python",
   "name": "python3"
  },
  "language_info": {
   "codemirror_mode": {
    "name": "ipython",
    "version": 3
   },
   "file_extension": ".py",
   "mimetype": "text/x-python",
   "name": "python",
   "nbconvert_exporter": "python",
   "pygments_lexer": "ipython3",
   "version": "3.8.5"
  }
 },
 "nbformat": 4,
 "nbformat_minor": 4
}
