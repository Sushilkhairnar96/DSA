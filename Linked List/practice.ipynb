{
 "cells": [
  {
   "cell_type": "code",
   "execution_count": 1,
   "metadata": {},
   "outputs": [],
   "source": [
    "class Node:\n",
    "    def __init__(self,val,next=None):\n",
    "        self.val= val\n",
    "        self.next=next"
   ]
  },
  {
   "cell_type": "code",
   "execution_count": 39,
   "metadata": {},
   "outputs": [],
   "source": [
    "class LL:\n",
    "    def __init__(self):\n",
    "        self.head=None\n",
    "        self.size=0\n",
    "        \n",
    "    def append(self,val):\n",
    "        if not self.head:\n",
    "            self.head=Node(val)\n",
    "        else:\n",
    "            cur = self.head\n",
    "            while cur.next:\n",
    "                cur = cur.next\n",
    "            cur.next=Node(val)\n",
    "            self.size+=1\n",
    "    \n",
    "    def display(self):\n",
    "        res=[]\n",
    "        if not self.head: return\n",
    "        cur = self.head\n",
    "        while cur:\n",
    "            res.append(cur.val)\n",
    "            cur = cur.next\n",
    "        return res\n",
    "\n",
    "    def get(self,index):\n",
    "        if index<0 or index>self.size: return -1\n",
    "        i=0\n",
    "        cur = self.head\n",
    "        while i!= index:\n",
    "            i+=1\n",
    "            cur = cur.next\n",
    "        return cur.val\n",
    "    \n",
    "    def prepend(self,val):\n",
    "        if not self.head: \n",
    "            self.head =Node(val)\n",
    "            return\n",
    "        new_node = Node(val)\n",
    "        new_node.next = self.head\n",
    "        self.head = new_node\n",
    "        self.size+=1\n",
    "   \n",
    "    def insertAtIndex(self,index,val):\n",
    "        if index<0 or index>self.size: \n",
    "            return -1\n",
    "        if index==0: \n",
    "            self.prepend(val)\n",
    "        elif index==self.size : \n",
    "            self.append(val)\n",
    "        else:\n",
    "            new_node=Node(val)\n",
    "            cur=self.head\n",
    "            i=0\n",
    "            while i<index-1:\n",
    "                cur=cur.next\n",
    "                i+=1\n",
    "            tmp = cur.next\n",
    "            cur.next= new_node\n",
    "            new_node.next=tmp\n",
    "            self.size+=1\n",
    "            \n",
    "    def deleteAtHead(self):\n",
    "        if not self.head: return\n",
    "        tmp = self.head\n",
    "        self.head = tmp.next\n",
    "        tmp =None\n",
    "        self.size-=1"
   ]
  },
  {
   "cell_type": "code",
   "execution_count": 42,
   "metadata": {},
   "outputs": [
    {
     "name": "stdout",
     "output_type": "stream",
     "text": [
      "[1, 2, 3, 4]\n",
      "[5, 6, 1, 2, 3, 4]\n",
      "[5, 6, 1, 7, 2, 3, 4]\n",
      "[6, 1, 7, 2, 3, 4]\n"
     ]
    }
   ],
   "source": [
    "obj = LL()\n",
    "obj.append(1)\n",
    "obj.append(2)\n",
    "obj.append(3)\n",
    "obj.append(4)\n",
    "print(obj.display())\n",
    "obj.get(3)\n",
    "obj.prepend(6)\n",
    "obj.prepend(5)\n",
    "print(obj.display())\n",
    "obj.insertAtIndex(3,7)\n",
    "print(obj.display())\n",
    "obj.deleteAtHead()\n",
    "print(obj.display())"
   ]
  },
  {
   "cell_type": "code",
   "execution_count": null,
   "metadata": {},
   "outputs": [],
   "source": []
  }
 ],
 "metadata": {
  "kernelspec": {
   "display_name": "Python 3",
   "language": "python",
   "name": "python3"
  },
  "language_info": {
   "codemirror_mode": {
    "name": "ipython",
    "version": 3
   },
   "file_extension": ".py",
   "mimetype": "text/x-python",
   "name": "python",
   "nbconvert_exporter": "python",
   "pygments_lexer": "ipython3",
   "version": "3.8.5"
  }
 },
 "nbformat": 4,
 "nbformat_minor": 4
}
