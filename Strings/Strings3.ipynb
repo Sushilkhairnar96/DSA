{
 "cells": [
  {
   "cell_type": "markdown",
   "metadata": {},
   "source": [
    "## KMP"
   ]
  },
  {
   "cell_type": "code",
   "execution_count": 25,
   "metadata": {},
   "outputs": [],
   "source": [
    "def KMPSearch(pat,txt):\n",
    "    N= len(txt)\n",
    "    M= len(pat)\n",
    "    lps=[0]*M\n",
    "    lps= ComputeLPSArray(pat,M,lps)\n",
    "    print(lps)\n",
    "    i,j=0,0\n",
    "    while i<N:\n",
    "        if txt[i]==pat[j]:\n",
    "            i+=1\n",
    "            j+=1\n",
    "        else:\n",
    "            if j!=0:\n",
    "                j=lps[j-1]\n",
    "            else:\n",
    "                i+=1\n",
    "        if j==M:\n",
    "            print(i-j)\n",
    "            j=lps[j-1]"
   ]
  },
  {
   "cell_type": "code",
   "execution_count": 26,
   "metadata": {},
   "outputs": [],
   "source": [
    "def ComputeLPSArray(pat,M,lps):\n",
    "    length= 0\n",
    "    i=1\n",
    "    while i<M:\n",
    "        if pat[i]==pat[length]:\n",
    "            lps[i]=length+1\n",
    "            i+=1\n",
    "            length+=1\n",
    "        else:\n",
    "            if length==0:\n",
    "                lps[i]=0\n",
    "                i+=1\n",
    "            else:\n",
    "                length=lps[length-1]\n",
    "    return lps"
   ]
  },
  {
   "cell_type": "code",
   "execution_count": 27,
   "metadata": {},
   "outputs": [
    {
     "name": "stdout",
     "output_type": "stream",
     "text": [
      "[0, 0, 0, 1, 2, 0]\n",
      "3\n"
     ]
    }
   ],
   "source": [
    "txt=\"onionionspl\"\n",
    "pat=\"onions\"\n",
    "M=len(pat)\n",
    "#ComputeLPSArray(pat,M,[0]*M)\n",
    "KMPSearch(pat,txt)\n",
    "\n",
    "\n",
    "\n"
   ]
  },
  {
   "cell_type": "code",
   "execution_count": 30,
   "metadata": {},
   "outputs": [],
   "source": [
    "def find_lps(pat,M,lps):\n",
    "    i=1\n",
    "    length=0\n",
    "    lps[0]=0\n",
    "    while i< M:\n",
    "        if pat[i]==pat[length]:\n",
    "            lps[i]=length+1\n",
    "            length+=1\n",
    "            i+=1\n",
    "        else:\n",
    "            if length==0:\n",
    "                lps[i]=0\n",
    "                i+=1\n",
    "            else:\n",
    "                length=lps[length-1]\n",
    "    return lps"
   ]
  },
  {
   "cell_type": "code",
   "execution_count": 44,
   "metadata": {},
   "outputs": [
    {
     "data": {
      "text/plain": [
       "[0, 0, 1, 1, 1, 1, 2, 0, 1, 0, 1, 0]"
      ]
     },
     "execution_count": 44,
     "metadata": {},
     "output_type": "execute_result"
    }
   ],
   "source": [
    "pattern=\"abaaaabcadae\"\n",
    "M=len(pattern)\n",
    "find_lps(pattern,M,[0]*M)"
   ]
  },
  {
   "cell_type": "code",
   "execution_count": 29,
   "metadata": {},
   "outputs": [
    {
     "name": "stdout",
     "output_type": "stream",
     "text": [
      "3 7\n",
      "['CONTEST', 'IS     ', 'COMING ']\n"
     ]
    },
    {
     "data": {
      "text/plain": [
       "['CIC', 'OSO', 'N M', 'T I', 'E N', 'S G', 'T']"
      ]
     },
     "execution_count": 29,
     "metadata": {},
     "output_type": "execute_result"
    }
   ],
   "source": [
    "'''\n",
    "Input: s = \"CONTEST IS COMING\"\n",
    "Output: [\"CIC\",\"OSO\",\"N M\",\"T I\",\"E N\",\"S G\",\"T\"]\n",
    "'''\n",
    "s = \"CONTEST IS COMING\"\n",
    "res =s.split(\" \")\n",
    "row_len= len(res)\n",
    "col_len=0\n",
    "for i in res:\n",
    "    col_len =max(col_len,len(i))\n",
    "print(row_len,col_len)\n",
    "for i in range(row_len):\n",
    "    if len(res[i])<col_len:\n",
    "        res[i]+=\" \"*(col_len -len(res[i]))\n",
    "print(res)\n",
    "\n",
    "#list(zip(*res))\n",
    "mat=[]\n",
    "for col in range(col_len):\n",
    "    tmp=[]\n",
    "    for row in range(row_len):\n",
    "        tmp.append(res[row][col])\n",
    "    mat.append(tmp)\n",
    "ans=[]\n",
    "for arr in mat:\n",
    "    #ans.append(\"\".join(arr))\n",
    "    st=\"\".join(arr)\n",
    "    ans.append(st.rstrip())\n",
    "ans"
   ]
  },
  {
   "cell_type": "code",
   "execution_count": 21,
   "metadata": {},
   "outputs": [
    {
     "data": {
      "text/plain": [
       "'abc'"
      ]
     },
     "execution_count": 21,
     "metadata": {},
     "output_type": "execute_result"
    }
   ],
   "source": [
    "\"abc    \".rstrip()\n"
   ]
  },
  {
   "cell_type": "code",
   "execution_count": null,
   "metadata": {},
   "outputs": [],
   "source": []
  }
 ],
 "metadata": {
  "kernelspec": {
   "display_name": "Python 3",
   "language": "python",
   "name": "python3"
  },
  "language_info": {
   "codemirror_mode": {
    "name": "ipython",
    "version": 3
   },
   "file_extension": ".py",
   "mimetype": "text/x-python",
   "name": "python",
   "nbconvert_exporter": "python",
   "pygments_lexer": "ipython3",
   "version": "3.7.3"
  }
 },
 "nbformat": 4,
 "nbformat_minor": 2
}
