{
 "cells": [
  {
   "cell_type": "code",
   "execution_count": 1,
   "metadata": {},
   "outputs": [],
   "source": [
    "#LC125. Valid Palindrome\n",
    "'''\n",
    "Given a string, determine if it is a palindrome, considering only alphanumeric characters and ignoring cases.\n",
    "\n",
    "Input: \"A man, a plan, a canal: Panama\"\n",
    "Output: true\n",
    "'''\n",
    "s= \"A man, a plan, a canal: Panama\"\n",
    "\n",
    "s=s.lower()\n",
    "l,r=0,len(s)-1\n",
    "'''\n",
    "s=s.lower()\n",
    "s1=\"\"\n",
    "for i in s:\n",
    "    if i.isalnum():\n",
    "        s1+=i\n",
    "return s1==s1[::-1]\n",
    "'''\n",
    "while l<r:\n",
    "    if s[l].isalnum() and s[r].isalnum():\n",
    "        if s[l]==s[r]:\n",
    "            l+=1\n",
    "            r-=1\n",
    "        else:\n",
    "            print(False)\n",
    "            break\n",
    "    if not s[l].isalnum():\n",
    "        l+=1\n",
    "    if not s[r].isalnum():\n",
    "        r-=1"
   ]
  },
  {
   "cell_type": "code",
   "execution_count": 3,
   "metadata": {},
   "outputs": [
    {
     "data": {
      "text/plain": [
       "True"
      ]
     },
     "execution_count": 3,
     "metadata": {},
     "output_type": "execute_result"
    }
   ],
   "source": [
    "#LC680. Valid Palindrome II\n",
    "'''\n",
    "Given a non-empty string s, you may delete at most one character. Judge whether you can make it a palindrome.\n",
    "Input: \"abca\"\n",
    "Output: True\n",
    "Explanation: You could delete the character 'c'.\n",
    "'''\n",
    "def validPalindrome(s: str) -> bool:\n",
    "    l, r = 0, len(s)-1\n",
    "    while l < r:\n",
    "        if s[l] == s[r]:\n",
    "            l += 1\n",
    "            r -= 1\n",
    "        else:\n",
    "            tmp1 = s[:l]+s[l+1:]\n",
    "            tmp2 = s[:r]+s[r+1:]\n",
    "            return tmp1 == tmp1[::-1] or tmp2 == tmp2[::-1]\n",
    "    return True\n",
    "s=\"cbbcc\"\n",
    "validPalindrome(s)"
   ]
  },
  {
   "cell_type": "code",
   "execution_count": null,
   "metadata": {},
   "outputs": [],
   "source": []
  }
 ],
 "metadata": {
  "kernelspec": {
   "display_name": "Python 3",
   "language": "python",
   "name": "python3"
  },
  "language_info": {
   "codemirror_mode": {
    "name": "ipython",
    "version": 3
   },
   "file_extension": ".py",
   "mimetype": "text/x-python",
   "name": "python",
   "nbconvert_exporter": "python",
   "pygments_lexer": "ipython3",
   "version": "3.7.3"
  }
 },
 "nbformat": 4,
 "nbformat_minor": 2
}
