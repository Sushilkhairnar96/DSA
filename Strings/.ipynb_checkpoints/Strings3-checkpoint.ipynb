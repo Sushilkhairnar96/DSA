{
 "cells": [
  {
   "cell_type": "markdown",
   "metadata": {},
   "source": [
    "## KMP"
   ]
  },
  {
   "cell_type": "code",
   "execution_count": 22,
   "metadata": {},
   "outputs": [],
   "source": [
    "def KMPSearch(pat,txt):\n",
    "    N= len(txt)\n",
    "    M= len(pat)\n",
    "    lps=[0]*M\n",
    "    lps= ComputeLPSArray(pat,M,lps)\n",
    "    print(lps)\n",
    "    i,j=0,0\n",
    "    while i<N:\n",
    "        if txt[i]==pat[j]:\n",
    "            i+=1\n",
    "            j+=1\n",
    "        else:\n",
    "            if j!=0:\n",
    "                j=lps[j-1]\n",
    "            else:\n",
    "                i+=1\n",
    "        if j==M:\n",
    "            print(i-j)\n",
    "            j=lps[j-1]"
   ]
  },
  {
   "cell_type": "code",
   "execution_count": 23,
   "metadata": {},
   "outputs": [],
   "source": [
    "def ComputeLPSArray(pat,M,lps):\n",
    "    length= 0\n",
    "    i=1\n",
    "    lps[0]=0\n",
    "    while i<M:\n",
    "        if pat[i]==pat[length]:\n",
    "            lps[i]=length+1\n",
    "            i+=1\n",
    "            length+=1\n",
    "        else:\n",
    "            if length==0:\n",
    "                lps[i]=0\n",
    "                i+=1\n",
    "            else:\n",
    "                length=lps[length-1]\n",
    "    return lps"
   ]
  },
  {
   "cell_type": "code",
   "execution_count": 24,
   "metadata": {},
   "outputs": [
    {
     "name": "stdout",
     "output_type": "stream",
     "text": [
      "[0, 0, 0, 1, 2, 0]\n",
      "3\n"
     ]
    }
   ],
   "source": [
    "txt=\"onionionspl\"\n",
    "pat=\"onions\"\n",
    "M=len(pat)\n",
    "#ComputeLPSArray(pat,M,[0]*M)\n",
    "KMPSearch(pat,txt)"
   ]
  },
  {
   "cell_type": "code",
   "execution_count": null,
   "metadata": {},
   "outputs": [],
   "source": []
  },
  {
   "cell_type": "code",
   "execution_count": null,
   "metadata": {},
   "outputs": [],
   "source": []
  }
 ],
 "metadata": {
  "kernelspec": {
   "display_name": "Python 3",
   "language": "python",
   "name": "python3"
  },
  "language_info": {
   "codemirror_mode": {
    "name": "ipython",
    "version": 3
   },
   "file_extension": ".py",
   "mimetype": "text/x-python",
   "name": "python",
   "nbconvert_exporter": "python",
   "pygments_lexer": "ipython3",
   "version": "3.7.3"
  }
 },
 "nbformat": 4,
 "nbformat_minor": 2
}
