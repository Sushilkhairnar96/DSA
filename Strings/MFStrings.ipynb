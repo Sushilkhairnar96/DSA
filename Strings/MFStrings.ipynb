{
 "cells": [
  {
   "cell_type": "code",
   "execution_count": 4,
   "metadata": {},
   "outputs": [
    {
     "data": {
      "text/plain": [
       "True"
      ]
     },
     "execution_count": 4,
     "metadata": {},
     "output_type": "execute_result"
    }
   ],
   "source": [
    "#1. Valid Anagram\n",
    "'''\n",
    "Given two strings s and t , write a function to determine if t is an anagram of s.\n",
    "\n",
    "Example 1:\n",
    "\n",
    "Input: s = \"anagram\", t = \"nagaram\"\n",
    "Output: true\n",
    "Example 2:\n",
    "\n",
    "Input: s = \"rat\", t = \"car\"\n",
    "Output: false\n",
    "'''\n",
    "\n",
    "def isAnagram(s: str, t: str) -> bool:\n",
    "    #return sorted(s)==sorted(t)\n",
    "    \n",
    "    '''\n",
    "    arr1,arr2=[0]*26,[0]*26\n",
    "    for ch in s:\n",
    "        arr1[ord(ch)-ord('a')]+=1\n",
    "    for ch in t:\n",
    "        arr2[ord(ch)-ord('a')]+=1\n",
    "    return arr1==arr2\n",
    "    '''\n",
    "    import collections\n",
    "    if len(s)!=len(t): return False\n",
    "    dic1=collections.Counter(s)\n",
    "    dic2=collections.Counter(t)\n",
    "    for i in dic2:\n",
    "        if dic2[i]!=dic1[i]:\n",
    "            return False\n",
    "    return True\n",
    "s = \"anagRam\";t = \"nagaaRm\"\n",
    "isAnagram(s,t) "
   ]
  },
  {
   "cell_type": "code",
   "execution_count": 37,
   "metadata": {},
   "outputs": [
    {
     "data": {
      "text/plain": [
       "[['eat', 'tea', 'ate'], ['tan', 'nat'], ['bat']]"
      ]
     },
     "execution_count": 37,
     "metadata": {},
     "output_type": "execute_result"
    }
   ],
   "source": [
    "#2. Group Anagrams\n",
    "'''\n",
    "Given an array of strings strs, group the anagrams together. You can return the answer in any order.\n",
    "\n",
    "An Anagram is a word or phrase formed by rearranging the letters of a different word or phrase,\n",
    "typically using all the original letters exactly once.\n",
    "\n",
    "\n",
    "Input: strs = [\"eat\",\"tea\",\"tan\",\"ate\",\"nat\",\"bat\"]\n",
    "Output: [[\"bat\"],[\"nat\",\"tan\"],[\"ate\",\"eat\",\"tea\"]]\n",
    "'''\n",
    "def groupAnagrams(strs):\n",
    "    '''\n",
    "    res=[]\n",
    "    for st in strs:\n",
    "        res.append(''.join(sorted(st)))\n",
    "        \n",
    "    dic={}\n",
    "    for i in range(len(strs)):\n",
    "        if res[i] not in dic:\n",
    "            dic[res[i]]=[strs[i]]\n",
    "        else:\n",
    "            dic[res[i]].append(strs[i])\n",
    "    print(dic)\n",
    "    \n",
    "    return list(dic.values())\n",
    "    '''\n",
    "    import collections\n",
    "    ans = collections.defaultdict(list)\n",
    "    for s in strs:\n",
    "        count = [0] * 26\n",
    "        for c in s:\n",
    "            count[ord(c) - ord('a')] += 1\n",
    "        ans[tuple(count)].append(s)\n",
    "    return list(ans.values())\n",
    "\n",
    "        \n",
    "strs = [\"eat\",\"tea\",\"tan\",\"ate\",\"nat\",\"bat\"]\n",
    "groupAnagrams(strs)\n"
   ]
  },
  {
   "cell_type": "code",
   "execution_count": null,
   "metadata": {},
   "outputs": [],
   "source": []
  }
 ],
 "metadata": {
  "kernelspec": {
   "display_name": "Python 3",
   "language": "python",
   "name": "python3"
  },
  "language_info": {
   "codemirror_mode": {
    "name": "ipython",
    "version": 3
   },
   "file_extension": ".py",
   "mimetype": "text/x-python",
   "name": "python",
   "nbconvert_exporter": "python",
   "pygments_lexer": "ipython3",
   "version": "3.8.5"
  }
 },
 "nbformat": 4,
 "nbformat_minor": 4
}
