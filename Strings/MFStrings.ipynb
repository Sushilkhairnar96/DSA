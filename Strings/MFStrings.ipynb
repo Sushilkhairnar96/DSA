{
 "cells": [
  {
   "cell_type": "code",
   "execution_count": 4,
   "metadata": {},
   "outputs": [
    {
     "data": {
      "text/plain": [
       "True"
      ]
     },
     "execution_count": 4,
     "metadata": {},
     "output_type": "execute_result"
    }
   ],
   "source": [
    "#1. Valid Anagram\n",
    "'''\n",
    "Given two strings s and t , write a function to determine if t is an anagram of s.\n",
    "\n",
    "Example 1:\n",
    "\n",
    "Input: s = \"anagram\", t = \"nagaram\"\n",
    "Output: true\n",
    "Example 2:\n",
    "\n",
    "Input: s = \"rat\", t = \"car\"\n",
    "Output: false\n",
    "'''\n",
    "\n",
    "def isAnagram(s: str, t: str) -> bool:\n",
    "    #return sorted(s)==sorted(t)\n",
    "    \n",
    "    '''\n",
    "    arr1,arr2=[0]*26,[0]*26\n",
    "    for ch in s:\n",
    "        arr1[ord(ch)-ord('a')]+=1\n",
    "    for ch in t:\n",
    "        arr2[ord(ch)-ord('a')]+=1\n",
    "    return arr1==arr2\n",
    "    '''\n",
    "    import collections\n",
    "    if len(s)!=len(t): return False\n",
    "    dic1=collections.Counter(s)\n",
    "    dic2=collections.Counter(t)\n",
    "    for i in dic2:\n",
    "        if dic2[i]!=dic1[i]:\n",
    "            return False\n",
    "    return True\n",
    "s = \"anagRam\";t = \"nagaaRm\"\n",
    "isAnagram(s,t) "
   ]
  },
  {
   "cell_type": "code",
   "execution_count": 37,
   "metadata": {},
   "outputs": [
    {
     "data": {
      "text/plain": [
       "[['eat', 'tea', 'ate'], ['tan', 'nat'], ['bat']]"
      ]
     },
     "execution_count": 37,
     "metadata": {},
     "output_type": "execute_result"
    }
   ],
   "source": [
    "#2. Group Anagrams\n",
    "'''\n",
    "Given an array of strings strs, group the anagrams together. You can return the answer in any order.\n",
    "\n",
    "An Anagram is a word or phrase formed by rearranging the letters of a different word or phrase,\n",
    "typically using all the original letters exactly once.\n",
    "\n",
    "\n",
    "Input: strs = [\"eat\",\"tea\",\"tan\",\"ate\",\"nat\",\"bat\"]\n",
    "Output: [[\"bat\"],[\"nat\",\"tan\"],[\"ate\",\"eat\",\"tea\"]]\n",
    "'''\n",
    "def groupAnagrams(strs):\n",
    "    '''\n",
    "    res=[]\n",
    "    for st in strs:\n",
    "        res.append(''.join(sorted(st)))\n",
    "        \n",
    "    dic={}\n",
    "    for i in range(len(strs)):\n",
    "        if res[i] not in dic:\n",
    "            dic[res[i]]=[strs[i]]\n",
    "        else:\n",
    "            dic[res[i]].append(strs[i])\n",
    "    print(dic)\n",
    "    \n",
    "    return list(dic.values())\n",
    "    '''\n",
    "    import collections\n",
    "    ans = collections.defaultdict(list)\n",
    "    for s in strs:\n",
    "        count = [0] * 26\n",
    "        for c in s:\n",
    "            count[ord(c) - ord('a')] += 1\n",
    "        ans[tuple(count)].append(s)\n",
    "    return list(ans.values())\n",
    "\n",
    "        \n",
    "strs = [\"eat\",\"tea\",\"tan\",\"ate\",\"nat\",\"bat\"]\n",
    "groupAnagrams(strs)\n"
   ]
  },
  {
   "cell_type": "code",
   "execution_count": 38,
   "metadata": {},
   "outputs": [
    {
     "data": {
      "text/plain": [
       "True"
      ]
     },
     "execution_count": 38,
     "metadata": {},
     "output_type": "execute_result"
    }
   ],
   "source": [
    "#3. Valid Palindrome:\n",
    "'''\n",
    "Given a string, determine if it is a palindrome, considering only alphanumeric characters and ignoring cases.\n",
    "\n",
    "Note: For the purpose of this problem, we define empty string as valid palindrome.\n",
    "\n",
    "Input: \"A man, a plan, a canal: Panama\"\n",
    "Output: true\n",
    "\n",
    "Input: \"race a car\"\n",
    "Output: false\n",
    "'''\n",
    "\n",
    "def isPalindrome(s) -> bool:\n",
    "    '''\n",
    "    s1=\"\"\n",
    "    for i in s.lower():\n",
    "        if i.isalnum():\n",
    "            s1+=i\n",
    "    return s1==s1[::-1]\n",
    "    '''\n",
    "    l,r=0,len(s)-1\n",
    "    s=s.lower()\n",
    "    while l<r:\n",
    "        if s[l].isalnum() and s[r].isalnum():\n",
    "            if s[l]==s[r]:\n",
    "                l+=1\n",
    "                r-=1\n",
    "            else:\n",
    "                return False\n",
    "        elif not s[l].isalnum():\n",
    "            l+=1\n",
    "        elif not s[r].isalnum():\n",
    "            r-=1\n",
    "    return True\n",
    "\n",
    "s=\"A man, a plan, a canal: Panama\"\n",
    "isPalindrome(s)"
   ]
  },
  {
   "cell_type": "code",
   "execution_count": 39,
   "metadata": {},
   "outputs": [
    {
     "data": {
      "text/plain": [
       "2"
      ]
     },
     "execution_count": 39,
     "metadata": {},
     "output_type": "execute_result"
    }
   ],
   "source": [
    "#4. First Unique Character in a String\n",
    "'''\n",
    "Given a string, find the first non-repeating character in it and return its index. If it doesn't exist, return -1.\n",
    "\n",
    "s = \"leetcode\"\n",
    "return 0.\n",
    "\n",
    "s = \"loveleetcode\"\n",
    "return 2.\n",
    "'''\n",
    "def firstUniqChar(s) -> int:\n",
    "    '''\n",
    "    dic=collections.Counter(s)\n",
    "    for i,v in enumerate(s):\n",
    "        if dic[v]==1:\n",
    "            return i\n",
    "    return -1\n",
    "    '''\n",
    "    letters='abcdefghijklmnopqrstuvwxyz'\n",
    "    index=[s.index(l) for l in letters if s.count(l) == 1]\n",
    "    return min(index) if len(index) > 0 else -1\n",
    "\n",
    "s = \"loveleetcode\"\n",
    "firstUniqChar(s)"
   ]
  },
  {
   "cell_type": "code",
   "execution_count": 42,
   "metadata": {},
   "outputs": [
    {
     "data": {
      "text/plain": [
       "'1211'"
      ]
     },
     "execution_count": 42,
     "metadata": {},
     "output_type": "execute_result"
    }
   ],
   "source": [
    "#5. Count and Say\n",
    "'''\n",
    "The count-and-say sequence is a sequence of digit strings defined by the recursive formula:\n",
    "\n",
    "countAndSay(1) = \"1\"\n",
    "countAndSay(n) is the way you would \"say\" the digit string from countAndSay(n-1). \n",
    "\n",
    "Given a positive integer n, return the nth term of the count-and-say sequence.\n",
    "\n",
    "Input: n = 1\n",
    "Output: \"1\"\n",
    "Explanation: This is the base case.\n",
    "\n",
    "Input: n = 4\n",
    "Output: \"1211\"\n",
    "Explanation:\n",
    "countAndSay(1) = \"1\"\n",
    "countAndSay(2) = say \"1\" = one 1 = \"11\"\n",
    "countAndSay(3) = say \"11\" = two 1's = \"21\"\n",
    "countAndSay(4) = say \"21\" = one 2 + one 1 = \"12\" + \"11\" = \"1211\"\n",
    "'''\n",
    "def get_sequence(s):\n",
    "    count=1\n",
    "    res=\"\"\n",
    "    for i in range(len(s)-1):\n",
    "        if s[i]==s[i+1]:\n",
    "            count+=1\n",
    "        else:\n",
    "            res+=str(count)+s[i] \n",
    "            count=1\n",
    "    return res+str(count)+s[-1]\n",
    "\n",
    "def countAndSay(n):\n",
    "    s=\"1\"\n",
    "    for _ in range(n-1):\n",
    "        s = get_sequence(s)\n",
    "    return s\n",
    "\n",
    "countAndSay(4)"
   ]
  },
  {
   "cell_type": "code",
   "execution_count": 45,
   "metadata": {},
   "outputs": [
    {
     "data": {
      "text/plain": [
       "True"
      ]
     },
     "execution_count": 45,
     "metadata": {},
     "output_type": "execute_result"
    }
   ],
   "source": [
    "#6. Valid Parentheses\n",
    "'''\n",
    "Given a string s containing just the characters '(', ')', '{', '}', '[' and ']', determine if the input string \n",
    "is valid.\n",
    "\n",
    "An input string is valid if:\n",
    "\n",
    "Open brackets must be closed by the same type of brackets.\n",
    "Open brackets must be closed in the correct order.\n",
    "\n",
    "\n",
    "Input: s = \"()\"\n",
    "Output: true\n",
    "\n",
    "Input: s = \"()[]{}\"\n",
    "Output: true\n",
    "\n",
    "Input: s = \"(]\"\n",
    "Output: false\n",
    "\n",
    "Input: s = \"([)]\"\n",
    "Output: false\n",
    "'''\n",
    "\n",
    "def isValid(s):\n",
    "    stack=[]\n",
    "    dic={')':'(',']':'[','}':'{'}\n",
    "    for ch in s:\n",
    "        if ch in dic:\n",
    "            if stack and stack[-1]==dic[ch]:\n",
    "                stack.pop()\n",
    "            else:\n",
    "                return False\n",
    "        else:\n",
    "            stack.append(ch)\n",
    "    return not stack\n",
    "\n",
    "s = \"[()]\"\n",
    "isValid(s)"
   ]
  },
  {
   "cell_type": "code",
   "execution_count": null,
   "metadata": {},
   "outputs": [],
   "source": []
  }
 ],
 "metadata": {
  "kernelspec": {
   "display_name": "Python 3",
   "language": "python",
   "name": "python3"
  },
  "language_info": {
   "codemirror_mode": {
    "name": "ipython",
    "version": 3
   },
   "file_extension": ".py",
   "mimetype": "text/x-python",
   "name": "python",
   "nbconvert_exporter": "python",
   "pygments_lexer": "ipython3",
   "version": "3.8.5"
  }
 },
 "nbformat": 4,
 "nbformat_minor": 4
}
