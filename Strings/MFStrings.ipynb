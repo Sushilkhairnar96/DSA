{
 "cells": [
  {
   "cell_type": "code",
   "execution_count": 4,
   "metadata": {},
   "outputs": [
    {
     "data": {
      "text/plain": [
       "True"
      ]
     },
     "execution_count": 4,
     "metadata": {},
     "output_type": "execute_result"
    }
   ],
   "source": [
    "#1. Valid Anagram\n",
    "'''\n",
    "Given two strings s and t , write a function to determine if t is an anagram of s.\n",
    "\n",
    "Example 1:\n",
    "\n",
    "Input: s = \"anagram\", t = \"nagaram\"\n",
    "Output: true\n",
    "Example 2:\n",
    "\n",
    "Input: s = \"rat\", t = \"car\"\n",
    "Output: false\n",
    "'''\n",
    "\n",
    "def isAnagram(s: str, t: str) -> bool:\n",
    "    #return sorted(s)==sorted(t)\n",
    "    \n",
    "    '''\n",
    "    arr1,arr2=[0]*26,[0]*26\n",
    "    for ch in s:\n",
    "        arr1[ord(ch)-ord('a')]+=1\n",
    "    for ch in t:\n",
    "        arr2[ord(ch)-ord('a')]+=1\n",
    "    return arr1==arr2\n",
    "    '''\n",
    "    import collections\n",
    "    if len(s)!=len(t): return False\n",
    "    dic1=collections.Counter(s)\n",
    "    dic2=collections.Counter(t)\n",
    "    for i in dic2:\n",
    "        if dic2[i]!=dic1[i]:\n",
    "            return False\n",
    "    return True\n",
    "s = \"anagRam\";t = \"nagaaRm\"\n",
    "isAnagram(s,t) "
   ]
  },
  {
   "cell_type": "code",
   "execution_count": 37,
   "metadata": {},
   "outputs": [
    {
     "data": {
      "text/plain": [
       "[['eat', 'tea', 'ate'], ['tan', 'nat'], ['bat']]"
      ]
     },
     "execution_count": 37,
     "metadata": {},
     "output_type": "execute_result"
    }
   ],
   "source": [
    "#2. Group Anagrams\n",
    "'''\n",
    "Given an array of strings strs, group the anagrams together. You can return the answer in any order.\n",
    "\n",
    "An Anagram is a word or phrase formed by rearranging the letters of a different word or phrase,\n",
    "typically using all the original letters exactly once.\n",
    "\n",
    "\n",
    "Input: strs = [\"eat\",\"tea\",\"tan\",\"ate\",\"nat\",\"bat\"]\n",
    "Output: [[\"bat\"],[\"nat\",\"tan\"],[\"ate\",\"eat\",\"tea\"]]\n",
    "'''\n",
    "def groupAnagrams(strs):\n",
    "    '''\n",
    "    res=[]\n",
    "    for st in strs:\n",
    "        res.append(''.join(sorted(st)))\n",
    "        \n",
    "    dic={}\n",
    "    for i in range(len(strs)):\n",
    "        if res[i] not in dic:\n",
    "            dic[res[i]]=[strs[i]]\n",
    "        else:\n",
    "            dic[res[i]].append(strs[i])\n",
    "    print(dic)\n",
    "    \n",
    "    return list(dic.values())\n",
    "    '''\n",
    "    import collections\n",
    "    ans = collections.defaultdict(list)\n",
    "    for s in strs:\n",
    "        count = [0] * 26\n",
    "        for c in s:\n",
    "            count[ord(c) - ord('a')] += 1\n",
    "        ans[tuple(count)].append(s)\n",
    "    return list(ans.values())\n",
    "\n",
    "        \n",
    "strs = [\"eat\",\"tea\",\"tan\",\"ate\",\"nat\",\"bat\"]\n",
    "groupAnagrams(strs)\n"
   ]
  },
  {
   "cell_type": "code",
   "execution_count": 38,
   "metadata": {},
   "outputs": [
    {
     "data": {
      "text/plain": [
       "True"
      ]
     },
     "execution_count": 38,
     "metadata": {},
     "output_type": "execute_result"
    }
   ],
   "source": [
    "#3. Valid Palindrome:\n",
    "'''\n",
    "Given a string, determine if it is a palindrome, considering only alphanumeric characters and ignoring cases.\n",
    "\n",
    "Note: For the purpose of this problem, we define empty string as valid palindrome.\n",
    "\n",
    "Input: \"A man, a plan, a canal: Panama\"\n",
    "Output: true\n",
    "\n",
    "Input: \"race a car\"\n",
    "Output: false\n",
    "'''\n",
    "\n",
    "def isPalindrome(s) -> bool:\n",
    "    '''\n",
    "    s1=\"\"\n",
    "    for i in s.lower():\n",
    "        if i.isalnum():\n",
    "            s1+=i\n",
    "    return s1==s1[::-1]\n",
    "    '''\n",
    "    l,r=0,len(s)-1\n",
    "    s=s.lower()\n",
    "    while l<r:\n",
    "        if s[l].isalnum() and s[r].isalnum():\n",
    "            if s[l]==s[r]:\n",
    "                l+=1\n",
    "                r-=1\n",
    "            else:\n",
    "                return False\n",
    "        elif not s[l].isalnum():\n",
    "            l+=1\n",
    "        elif not s[r].isalnum():\n",
    "            r-=1\n",
    "    return True\n",
    "\n",
    "s=\"A man, a plan, a canal: Panama\"\n",
    "isPalindrome(s)"
   ]
  },
  {
   "cell_type": "code",
   "execution_count": 39,
   "metadata": {},
   "outputs": [
    {
     "data": {
      "text/plain": [
       "2"
      ]
     },
     "execution_count": 39,
     "metadata": {},
     "output_type": "execute_result"
    }
   ],
   "source": [
    "#4. First Unique Character in a String\n",
    "'''\n",
    "Given a string, find the first non-repeating character in it and return its index. If it doesn't exist, return -1.\n",
    "\n",
    "s = \"leetcode\"\n",
    "return 0.\n",
    "\n",
    "s = \"loveleetcode\"\n",
    "return 2.\n",
    "'''\n",
    "def firstUniqChar(s) -> int:\n",
    "    '''\n",
    "    dic=collections.Counter(s)\n",
    "    for i,v in enumerate(s):\n",
    "        if dic[v]==1:\n",
    "            return i\n",
    "    return -1\n",
    "    '''\n",
    "    letters='abcdefghijklmnopqrstuvwxyz'\n",
    "    index=[s.index(l) for l in letters if s.count(l) == 1]\n",
    "    return min(index) if len(index) > 0 else -1\n",
    "\n",
    "s = \"loveleetcode\"\n",
    "firstUniqChar(s)"
   ]
  },
  {
   "cell_type": "code",
   "execution_count": 42,
   "metadata": {},
   "outputs": [
    {
     "data": {
      "text/plain": [
       "'1211'"
      ]
     },
     "execution_count": 42,
     "metadata": {},
     "output_type": "execute_result"
    }
   ],
   "source": [
    "#5. Count and Say\n",
    "'''\n",
    "The count-and-say sequence is a sequence of digit strings defined by the recursive formula:\n",
    "\n",
    "countAndSay(1) = \"1\"\n",
    "countAndSay(n) is the way you would \"say\" the digit string from countAndSay(n-1). \n",
    "\n",
    "Given a positive integer n, return the nth term of the count-and-say sequence.\n",
    "\n",
    "Input: n = 1\n",
    "Output: \"1\"\n",
    "Explanation: This is the base case.\n",
    "\n",
    "Input: n = 4\n",
    "Output: \"1211\"\n",
    "Explanation:\n",
    "countAndSay(1) = \"1\"\n",
    "countAndSay(2) = say \"1\" = one 1 = \"11\"\n",
    "countAndSay(3) = say \"11\" = two 1's = \"21\"\n",
    "countAndSay(4) = say \"21\" = one 2 + one 1 = \"12\" + \"11\" = \"1211\"\n",
    "'''\n",
    "def get_sequence(s):\n",
    "    count=1\n",
    "    res=\"\"\n",
    "    for i in range(len(s)-1):\n",
    "        if s[i]==s[i+1]:\n",
    "            count+=1\n",
    "        else:\n",
    "            res+=str(count)+s[i] \n",
    "            count=1\n",
    "    return res+str(count)+s[-1]\n",
    "\n",
    "def countAndSay(n):\n",
    "    s=\"1\"\n",
    "    for _ in range(n-1):\n",
    "        s = get_sequence(s)\n",
    "    return s\n",
    "\n",
    "countAndSay(4)"
   ]
  },
  {
   "cell_type": "code",
   "execution_count": 45,
   "metadata": {},
   "outputs": [
    {
     "data": {
      "text/plain": [
       "True"
      ]
     },
     "execution_count": 45,
     "metadata": {},
     "output_type": "execute_result"
    }
   ],
   "source": [
    "#6. Valid Parentheses\n",
    "'''\n",
    "Given a string s containing just the characters '(', ')', '{', '}', '[' and ']', determine if the input string \n",
    "is valid.\n",
    "\n",
    "An input string is valid if:\n",
    "\n",
    "Open brackets must be closed by the same type of brackets.\n",
    "Open brackets must be closed in the correct order.\n",
    "\n",
    "\n",
    "Input: s = \"()\"\n",
    "Output: true\n",
    "\n",
    "Input: s = \"()[]{}\"\n",
    "Output: true\n",
    "\n",
    "Input: s = \"(]\"\n",
    "Output: false\n",
    "\n",
    "Input: s = \"([)]\"\n",
    "Output: false\n",
    "'''\n",
    "\n",
    "def isValid(s):\n",
    "    stack=[]\n",
    "    dic={')':'(',']':'[','}':'{'}\n",
    "    for ch in s:\n",
    "        if ch in dic:\n",
    "            if stack and stack[-1]==dic[ch]:\n",
    "                stack.pop()\n",
    "            else:\n",
    "                return False\n",
    "        else:\n",
    "            stack.append(ch)\n",
    "    return not stack\n",
    "\n",
    "s = \"[()]\"\n",
    "isValid(s)"
   ]
  },
  {
   "cell_type": "code",
   "execution_count": 47,
   "metadata": {},
   "outputs": [
    {
     "data": {
      "text/plain": [
       "5"
      ]
     },
     "execution_count": 47,
     "metadata": {},
     "output_type": "execute_result"
    }
   ],
   "source": [
    "#7.Minimum Number of Steps to Make Two Strings Anagram\n",
    "'''\n",
    "Given two equal-size strings s and t. In one step you can choose any character of t and replace it with another character.\n",
    "\n",
    "Return the minimum number of steps to make t an anagram of s.\n",
    "\n",
    "An Anagram of a string is a string that contains the same characters with a different (or the same) ordering.\n",
    "\n",
    "Input: s = \"bab\", t = \"aba\"\n",
    "Output: 1\n",
    "Explanation: Replace the first 'a' in t with b, t = \"bba\" which is anagram of s.\n",
    "\n",
    "Input: s = \"leetcode\", t = \"practice\"\n",
    "Output: 5\n",
    "Explanation: Replace 'p', 'r', 'a', 'i' and 'c' from t with proper characters to make t anagram of s.\n",
    "'''\n",
    "def minSteps(s: str, t: str) -> int:\n",
    "    '''\n",
    "    dic= collections.Counter(t)\n",
    "    count=0\n",
    "    for ch in s:\n",
    "        if ch in dic and dic[ch]>=1:\n",
    "            count+=1\n",
    "            dic[ch]-=1\n",
    "    return len(s)-count\n",
    "    '''\n",
    "    \n",
    "    '''\n",
    "    import string\n",
    "    res = 0\n",
    "    s = collections.Counter(s)\n",
    "    t = collections.Counter(t)\n",
    "    for c in string.ascii_lowercase:\n",
    "        res += s[c] - t[c] if s[c] > t[c] else 0\n",
    "    return res\n",
    "    '''\n",
    "    \n",
    "    import collections\n",
    "    dic= collections.Counter(t)\n",
    "    count=0\n",
    "    for ch in s:\n",
    "        if dic[ch]>=1:\n",
    "            dic[ch]-=1\n",
    "        else:\n",
    "            count+=1\n",
    "    return count\n",
    "\n",
    "s = \"leetcode\"; t = \"practice\"\n",
    "minSteps(s,t)"
   ]
  },
  {
   "cell_type": "code",
   "execution_count": 57,
   "metadata": {},
   "outputs": [
    {
     "data": {
      "text/plain": [
       "[0, 6]"
      ]
     },
     "execution_count": 57,
     "metadata": {},
     "output_type": "execute_result"
    }
   ],
   "source": [
    "#8.  Find All Anagrams in a String\n",
    "'''\n",
    "Given a string s and a non-empty string p, find all the start indices of p's anagrams in s.\n",
    "\n",
    "Strings consists of lowercase English letters only and the length of both strings s and p will \n",
    "not be larger than 20,100.\n",
    "\n",
    "Input:\n",
    "s: \"cbaebabacd\" p: \"abc\"\n",
    "\n",
    "Output:\n",
    "[0, 6]\n",
    "\n",
    "Explanation:\n",
    "The substring with start index = 0 is \"cba\", which is an anagram of \"abc\".\n",
    "The substring with start index = 6 is \"bac\", which is an anagram of \"abc\".\n",
    "\n",
    "Input:\n",
    "s: \"abab\" p: \"ab\"\n",
    "\n",
    "Output:\n",
    "[0, 1, 2]\n",
    "\n",
    "Explanation:\n",
    "The substring with start index = 0 is \"ab\", which is an anagram of \"ab\".\n",
    "The substring with start index = 1 is \"ba\", which is an anagram of \"ab\".\n",
    "The substring with start index = 2 is \"ab\", which is an anagram of \"ab\".\n",
    "'''\n",
    "\n",
    "def findAnagrams(s,p):\n",
    "    '''\n",
    "    k=len(p)\n",
    "    res=[]\n",
    "    for i in range(k,len(s)+1):\n",
    "        if sorted(p)==sorted(s[i-k:i]):\n",
    "            res.append(i-k)\n",
    "    return res\n",
    "    '''\n",
    "    \n",
    "    '''\n",
    "    import collections\n",
    "    k=len(p)\n",
    "    res=[]\n",
    "    dic_s = collections.Counter(s[:k-1])   #window of size k-1\n",
    "    dic_p = collections.Counter(p)\n",
    "    for i in range(k-1,len(s)):\n",
    "        dic_s[s[i]]+=1        #increment window size\n",
    "        if dic_s==dic_p:\n",
    "            res.append(i-k+1)\n",
    "        dic_s[s[i-k+1]]-=1  #decrement value of 1st element of the window\n",
    "        if dic_s[s[i-k+1]]==0: #if freq is 0, then remove it\n",
    "            del dic_s[s[i-k+1]]   \n",
    "    return res\n",
    "    '''\n",
    "    k=len(p)\n",
    "    dic_s = [0]*26\n",
    "    dic_p = [0]*26\n",
    "    res=[]\n",
    "    for ch in p:\n",
    "        dic_p[ord(ch)-ord('a')]+=1\n",
    "    \n",
    "    for ch in s[:k-1]:\n",
    "        dic_s[ord(ch)-ord('a')]+=1  \n",
    "        \n",
    "    for i,ch in enumerate(s[k-1:]):\n",
    "        dic_s[ord(ch)-ord('a')]+=1     #add count of the next element \n",
    "        if dic_s==dic_p:\n",
    "            res.append(i)\n",
    "        dic_s[ord(s[i])-ord('a')]-=1   #remove count of 1st element of window\n",
    "    \n",
    "    return res\n",
    "\n",
    "s =\"cbaebabacd\"; p= \"abc\"\n",
    "findAnagrams(s,p)"
   ]
  },
  {
   "cell_type": "code",
   "execution_count": 65,
   "metadata": {},
   "outputs": [
    {
     "data": {
      "text/plain": [
       "['e', 'l', 'l']"
      ]
     },
     "execution_count": 65,
     "metadata": {},
     "output_type": "execute_result"
    }
   ],
   "source": [
    "#9. Find Common Characters\n",
    "'''\n",
    "Given an array A of strings made only from lowercase letters, return a list of all characters that show \n",
    "up in all strings within the list (including duplicates).  For example, if a character occurs 3 times in\n",
    "all strings but not 4 times, you need to include that character three times in the final answer.\n",
    "\n",
    "Input: [\"bella\",\"label\",\"roller\"]\n",
    "Output: [\"e\",\"l\",\"l\"]\n",
    "\n",
    "Input: [\"cool\",\"lock\",\"cook\"]\n",
    "Output: [\"c\",\"o\"]\n",
    "'''\n",
    "def commonChars(A):\n",
    "    res=[]\n",
    "    key_set= set(A[0])\n",
    "    for ch in key_set:\n",
    "        n = min([word.count(ch) for word in A])\n",
    "        if n:\n",
    "            res.extend(n*ch)\n",
    "    return res\n",
    "    \n",
    "A=[\"bella\",\"label\",\"roller\"]\n",
    "commonChars(A)"
   ]
  },
  {
   "cell_type": "code",
   "execution_count": 115,
   "metadata": {},
   "outputs": [
    {
     "data": {
      "text/plain": [
       "True"
      ]
     },
     "execution_count": 115,
     "metadata": {},
     "output_type": "execute_result"
    }
   ],
   "source": [
    "#10.  Backspace String Compare:\n",
    "'''\n",
    "Given two strings S and T, return if they are equal when both are typed into empty text editors. \n",
    "# means a backspace character.\n",
    "\n",
    "Input: S = \"ab#c\", T = \"ad#c\"\n",
    "Output: true\n",
    "Explanation: Both S and T become \"ac\".\n",
    "\n",
    "Input: S = \"ab##\", T = \"c#d#\"\n",
    "Output: true\n",
    "\n",
    "Input: S = \"a##c\", T = \"#a#c\"\n",
    "Output: true\n",
    "'''\n",
    "def backspaceCompare(S,T):\n",
    "    def helper(s):\n",
    "        stack=[]\n",
    "        res=\"\"\n",
    "        for ch in s:\n",
    "            if ch.isalpha():\n",
    "                stack.append(ch)\n",
    "            elif stack:\n",
    "                stack.pop()\n",
    "        return ''.join(stack)\n",
    "    return helper(S)==helper(T)\n",
    "\n",
    "S = \"ab#c\"; T = \"ad#c\"\n",
    "backspaceCompare(S,T)"
   ]
  },
  {
   "cell_type": "code",
   "execution_count": 114,
   "metadata": {},
   "outputs": [
    {
     "data": {
      "text/plain": [
       "'accaccacc'"
      ]
     },
     "execution_count": 114,
     "metadata": {},
     "output_type": "execute_result"
    }
   ],
   "source": [
    "#11. Decode String\n",
    "'''\n",
    "Input: s = \"3[a]2[bc]\"\n",
    "Output: \"aaabcbc\"\n",
    "\n",
    "Input: s = \"3[a2[c]]\"\n",
    "Output: \"accaccacc\"\n",
    "\n",
    "Input: s = \"2[abc]3[cd]ef\"\n",
    "Output: \"abcabccdcdcdef\"\n",
    "\n",
    "Input: s = \"abc3[cd]xyz\"\n",
    "Output: \"abccdcdcdxyz\"\n",
    "'''\n",
    "def decodeString(s):\n",
    "    stack=[[\"\",1]]\n",
    "    num=\"\"\n",
    "    for ch in s:\n",
    "        if ch.isdigit():\n",
    "            num+=ch\n",
    "        elif ch=='[':\n",
    "            stack.append([\"\",int(num)])\n",
    "            num=\"\"\n",
    "        elif ch==']':\n",
    "            string,number=stack.pop()\n",
    "            stack[-1][0]+=int(number)*string\n",
    "        else:\n",
    "            stack[-1][0]+=ch\n",
    "    return stack[0][0]\n",
    "            \n",
    "s = \"3[a2[c]]\"\n",
    "decodeString(s)"
   ]
  },
  {
   "cell_type": "code",
   "execution_count": 1,
   "metadata": {},
   "outputs": [
    {
     "data": {
      "text/plain": [
       "True"
      ]
     },
     "execution_count": 1,
     "metadata": {},
     "output_type": "execute_result"
    }
   ],
   "source": [
    "#12. Repeated Substring Pattern\n",
    "'''\n",
    "Given a non-empty string check if it can be constructed by taking a substring of it and \n",
    "appending multiple copies of the substring together. \n",
    "\n",
    "Input: \"abab\"\n",
    "Output: True\n",
    "Explanation: It's the substring \"ab\" twice.\n",
    "\n",
    "Input: \"aba\"\n",
    "Output: False\n",
    "'''\n",
    "def repeatedSubstringPattern(s):\n",
    "    res=''\n",
    "    for i in range(len(s)//2):\n",
    "        res+=s[i]\n",
    "        q,r = divmod(len(s),len(res))\n",
    "        if r==0:\n",
    "            if q*res==s:\n",
    "                return True\n",
    "    return False\n",
    "\n",
    "s=\"abcabcabcabc\"\n",
    "repeatedSubstringPattern(s)"
   ]
  },
  {
   "cell_type": "code",
   "execution_count": 5,
   "metadata": {},
   "outputs": [
    {
     "name": "stdout",
     "output_type": "stream",
     "text": [
      "{'e', 'b'}\n"
     ]
    },
    {
     "data": {
      "text/plain": [
       "5"
      ]
     },
     "execution_count": 5,
     "metadata": {},
     "output_type": "execute_result"
    }
   ],
   "source": [
    "#13. Longest Palindrome\n",
    "'''\n",
    "Given a string s which consists of lowercase or uppercase letters, return the length of the\n",
    "longest palindrome that can be built with those letters.\n",
    "\n",
    "Input: s = \"abccccdd\"\n",
    "Output: 7\n",
    "Explanation:\n",
    "One longest palindrome that can be built is \"dccaccd\", whose length is 7.\n",
    "\n",
    "Input: s = \"a\"\n",
    "Output: 1\n",
    "\n",
    "Input: s = \"bb\"\n",
    "Output: 2\n",
    "'''\n",
    "def longestPalindrome(s):\n",
    "    \"\"\"\n",
    "    #Intuition: \n",
    "    Chars with even count will always be palindrome. Maintain a set which contains odd count of characters\n",
    "    i) The set 'hash' defined below stores the count of unique letters that have odd counts. \n",
    "    So, for an array [b, e, d, d, b, b] it would store b and e as they have odd counts.\n",
    "    Follow up question: What's the use of doing that?\n",
    "    Explanation: Well, the main intention is to count one for all odd count letters after accounting for the \n",
    "    even pairs in them if any. For example in [b, e, d, d, b, b] we know that for b and e only one count \n",
    "    should be taken after accounting for the pair 'bb' for 'b'. This is because it doesn't make any difference \n",
    "    in the final answer whether you have b or e in the middle('bdedb' or 'bdbdb' returns 5). Hope this clears some confusion.\n",
    "    ii) Finally, if there are no odd count letters present we want to count all even values for \n",
    "    the counts(which is basically the length of the given array) as the final answer. \n",
    "    Otherwise, we would need to adjust for the extra odd counts that we are doing when we are counting \n",
    "    all the values by removing the count of all distinct odd letters and then counting 1 for them.\n",
    "    \"\"\"\n",
    "    hash = set()\n",
    "    for c in s:\n",
    "        if c not in hash:\n",
    "            hash.add(c)\n",
    "        else:\n",
    "            hash.remove(c)\n",
    "    print(hash)\n",
    "    # len(hash) is the number of the odd letters\n",
    "    return len(s) - len(hash) + 1 if len(hash) > 0 else len(s)\n",
    "\n",
    "s = \"beddbb\"\n",
    "longestPalindrome(s)"
   ]
  },
  {
   "cell_type": "code",
   "execution_count": 6,
   "metadata": {},
   "outputs": [
    {
     "data": {
      "text/plain": [
       "True"
      ]
     },
     "execution_count": 6,
     "metadata": {},
     "output_type": "execute_result"
    }
   ],
   "source": [
    "#14. Buddy Strings\n",
    "'''\n",
    "Given two strings A and B of lowercase letters, return true if you can swap two letters in A so the \n",
    "result is equal to B, otherwise, return false.\n",
    "\n",
    "Swapping letters is defined as taking two indices i and j (0-indexed) such that i != j and swapping \n",
    "the characters at A[i] and A[j]. For example, swapping at indices 0 and 2 in \"abcd\" results in \"cbad\".\n",
    "\n",
    "\n",
    "Input: A = \"ab\", B = \"ba\"\n",
    "Output: true\n",
    "Explanation: You can swap A[0] = 'a' and A[1] = 'b' to get \"ba\", which is equal to B.\n",
    "\n",
    "Input: A = \"ab\", B = \"ab\"\n",
    "Output: false\n",
    "Explanation: The only letters you can swap are A[0] = 'a' and A[1] = 'b', which results in \"ba\" != B.\n",
    "\n",
    "Input: A = \"aaaaaaabc\", B = \"aaaaaaacb\"\n",
    "Output: true\n",
    "'''\n",
    "def buddyStrings(A,B) -> bool:\n",
    "    \n",
    "    # check same length\n",
    "    if len(A)!=len(B):return False\n",
    "    \n",
    "    # if strings are equal - check if there is a double to swap\n",
    "    if A==B: return len(A)-len(set(A))>=1 \n",
    "    \n",
    "    # count differences between strings\n",
    "    diff =[]\n",
    "    for i in range(len(A)):\n",
    "        if A[i]!=B[i]:\n",
    "            diff.append(i)\n",
    "            if len(diff)>2 : return False\n",
    "            \n",
    "    # not exactly two differences\n",
    "    if len(diff)!=2: return False\n",
    "    \n",
    "    # check if can be swapped\n",
    "    return A[diff[0]] == B[diff[1]] and A[diff[1]] == B[diff[0]]\n",
    "\n",
    "A = \"aaaaaaabc\"; B = \"aaaaaaacb\"\n",
    "buddyStrings(A,B)"
   ]
  },
  {
   "cell_type": "code",
   "execution_count": null,
   "metadata": {},
   "outputs": [],
   "source": []
  }
 ],
 "metadata": {
  "kernelspec": {
   "display_name": "Python 3",
   "language": "python",
   "name": "python3"
  },
  "language_info": {
   "codemirror_mode": {
    "name": "ipython",
    "version": 3
   },
   "file_extension": ".py",
   "mimetype": "text/x-python",
   "name": "python",
   "nbconvert_exporter": "python",
   "pygments_lexer": "ipython3",
   "version": "3.8.5"
  }
 },
 "nbformat": 4,
 "nbformat_minor": 4
}
