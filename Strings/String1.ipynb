{
 "cells": [
  {
   "cell_type": "code",
   "execution_count": 1,
   "metadata": {},
   "outputs": [
    {
     "data": {
      "text/plain": [
       "4"
      ]
     },
     "execution_count": 1,
     "metadata": {},
     "output_type": "execute_result"
    }
   ],
   "source": [
    "#LC1221 : Split a String in Balanced Strings i/p: \"RLRRLLRLRL\" o/p: 4\n",
    "s = \"RLRRLLRLRL\"\n",
    "r,l,c=0,0,0\n",
    "for i in s:\n",
    "    if i==\"R\":\n",
    "        r+=1\n",
    "    else:\n",
    "        l+=1\n",
    "    if l==r:\n",
    "        c+=1\n",
    "        r,l=0,0\n",
    "c"
   ]
  },
  {
   "cell_type": "code",
   "execution_count": 2,
   "metadata": {},
   "outputs": [
    {
     "data": {
      "text/plain": [
       "['o', 'l', 'l', 'e', 'h']"
      ]
     },
     "execution_count": 2,
     "metadata": {},
     "output_type": "execute_result"
    }
   ],
   "source": [
    "#LC344. Reverse String\n",
    "'''\n",
    "Input: [\"h\",\"e\",\"l\",\"l\",\"o\"]\n",
    "Output: [\"o\",\"l\",\"l\",\"e\",\"h\"]\n",
    "'''\n",
    "s=[\"h\",\"e\",\"l\",\"l\",\"o\"]\n",
    "l,r=0,len(s)-1\n",
    "while(l<=r):\n",
    "    s[l],s[r]=s[r],s[l]\n",
    "    l+=1\n",
    "    r-=1\n",
    "s"
   ]
  },
  {
   "cell_type": "code",
   "execution_count": 4,
   "metadata": {},
   "outputs": [
    {
     "data": {
      "text/plain": [
       "'bacdfeg'"
      ]
     },
     "execution_count": 4,
     "metadata": {},
     "output_type": "execute_result"
    }
   ],
   "source": [
    "#LC541. Reverse String II\n",
    "'''\n",
    "Given a string and an integer k, you need to reverse the first k characters for every 2k characters counting from the start\n",
    "of the string. If there are less than k characters left, reverse all of them. If there are less than 2k but greater than or\n",
    "equal to k characters, then reverse the first k characters and left the other as original.\n",
    "\n",
    "Input: s = \"abcdefg\", k = 2\n",
    "Output: \"bacdfeg\"\n",
    "'''\n",
    "s = \"abcdefg\";k = 2\n",
    "\n",
    "s2=\"\"\n",
    "for i in range(0,len(s),2*k):\n",
    "    s1=s[i:i+2*k]\n",
    "    if len(s1)<k:\n",
    "        s2+=s1[::-1]\n",
    "    else:\n",
    "        s2+=s1[:k][::-1] + s1[k:2*k]\n",
    "s2          "
   ]
  },
  {
   "cell_type": "code",
   "execution_count": 7,
   "metadata": {},
   "outputs": [
    {
     "data": {
      "text/plain": [
       "\"s'teL ekat edoCteeL tsetnoc\""
      ]
     },
     "execution_count": 7,
     "metadata": {},
     "output_type": "execute_result"
    }
   ],
   "source": [
    "#557. Reverse Words in a String III\n",
    "\n",
    "'''\n",
    "Input: \"Let's take LeetCode contest\"\n",
    "Output: \"s'teL ekat edoCteeL tsetnoc\"\n",
    "'''\n",
    "s=\"Let's take LeetCode contest\"\n",
    "\n",
    "s=s.split()\n",
    "x=[]\n",
    "for i in s:\n",
    "    x.append(i[::-1])\n",
    "    x.append(' ')\n",
    "''.join(x[:-1])"
   ]
  },
  {
   "cell_type": "code",
   "execution_count": 8,
   "metadata": {},
   "outputs": [
    {
     "data": {
      "text/plain": [
       "'c9o1v0i2d'"
      ]
     },
     "execution_count": 8,
     "metadata": {},
     "output_type": "execute_result"
    }
   ],
   "source": [
    "#LC1417. Reformat The String\n",
    "'''\n",
    "Find a permutation of the string where no letter is followedby another letter and no digit is \n",
    "followed by another digit. That is, no two adjacent characters have the same type.\n",
    "\n",
    "Input: \"covid2019\"\n",
    "Output: \"c2o0v1i9d\"\n",
    "\n",
    "'''\n",
    "s = \"covid2019\"\n",
    "def reformat(s: str) -> str:\n",
    "        s1=[]\n",
    "        s2=[]\n",
    "        for i in s:\n",
    "            if i.isalpha():\n",
    "                s1.append(i)\n",
    "            else:\n",
    "                s2.append(i)\n",
    "        if len(s)<=1: return s\n",
    "        if not s1 or not s2: return \"\"        \n",
    "        \n",
    "        if len(s2)>len(s1):\n",
    "            s1,s2=s2,s1\n",
    "        \n",
    "        x=[]\n",
    "        for i in range(len(s1)):\n",
    "            try:\n",
    "                x.append(s1[i])\n",
    "                x.append(s2.pop())\n",
    "            except:\n",
    "                pass\n",
    "        return \"\".join(x)  \n",
    "reformat(s)"
   ]
  },
  {
   "cell_type": "code",
   "execution_count": 9,
   "metadata": {},
   "outputs": [
    {
     "data": {
      "text/plain": [
       "'Sao Paulo'"
      ]
     },
     "execution_count": 9,
     "metadata": {},
     "output_type": "execute_result"
    }
   ],
   "source": [
    "#1436. Destination City\n",
    "'''\n",
    "Input: paths = [[\"London\",\"New York\"],[\"New York\",\"Lima\"],[\"Lima\",\"Sao Paulo\"]]\n",
    "Output: \"Sao Paulo\" \n",
    "Explanation: Starting at \"London\" city you will reach \"Sao Paulo\" city which is the destination city. \n",
    "Your trip consist of: \"London\" -> \"New York\" -> \"Lima\" -> \"Sao Paulo\".\n",
    "'''\n",
    "paths = [[\"London\",\"New York\"],[\"New York\",\"Lima\"],[\"Lima\",\"Sao Paulo\"]]\n",
    "\n",
    "def destCity(paths):\n",
    "        dic={}\n",
    "        for i in paths:\n",
    "            dic[i[0]]=i[1]\n",
    "        for i in dic.values():\n",
    "            if i not in dic.keys():\n",
    "                return i  \n",
    "destCity(paths)"
   ]
  },
  {
   "cell_type": "code",
   "execution_count": 16,
   "metadata": {},
   "outputs": [
    {
     "data": {
      "text/plain": [
       "'fl'"
      ]
     },
     "execution_count": 16,
     "metadata": {},
     "output_type": "execute_result"
    }
   ],
   "source": [
    "#LC14. Longest Common Prefix\n",
    "'''\n",
    "Input: [\"flower\",\"flow\",\"flight\"]\n",
    "Output: \"fl\"\n",
    "'''\n",
    "strs=[\"flower\",\"flow\",\"flight\"]\n",
    "s=\"\"\n",
    "for i in zip(*strs):        #   * is the unpacking operator\n",
    "    if len(set(i))==1:\n",
    "        s+=i[0]\n",
    "    else:\n",
    "        break\n",
    "\n",
    "\"\"\"\n",
    "prefix=\"\"\n",
    "if len(strs)==0: return prefix\n",
    "\n",
    "for i in range(len(min(strs))):\n",
    "    c=strs[0][i]\n",
    "    if all(a[i]==c for a in strs):\n",
    "        prefix+=c\n",
    "    else:\n",
    "        break\n",
    "return prefix\n",
    "\"\"\"\n",
    "\"\"\"\n",
    "if len(strs)<=1:\n",
    "    return strs[0] if strs else ''\n",
    "sorted_list=sorted(strs, key=len)\n",
    "short=sorted_list[0]\n",
    "for i in range(len(short),-1,-1):\n",
    "    common=short[:i]\n",
    "    check=0 # use \"check\" to determine how many words can match\n",
    "    for item in (sorted_list[1:]):\n",
    "        if item[:i]==short[:i]:\n",
    "            check+=1\n",
    "        else:\n",
    "            break # if the word does not match, no need to continue the \"item\" list\n",
    "    if check==len(sorted_list[1:]):\n",
    "        break # if every word can be matched, no need to continue the \"i\" list\n",
    "return common         \n",
    "\"\"\"\n",
    "s"
   ]
  },
  {
   "cell_type": "code",
   "execution_count": null,
   "metadata": {},
   "outputs": [],
   "source": []
  }
 ],
 "metadata": {
  "kernelspec": {
   "display_name": "Python 3",
   "language": "python",
   "name": "python3"
  },
  "language_info": {
   "codemirror_mode": {
    "name": "ipython",
    "version": 3
   },
   "file_extension": ".py",
   "mimetype": "text/x-python",
   "name": "python",
   "nbconvert_exporter": "python",
   "pygments_lexer": "ipython3",
   "version": "3.7.3"
  }
 },
 "nbformat": 4,
 "nbformat_minor": 2
}
