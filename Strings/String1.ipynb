{
 "cells": [
  {
   "cell_type": "code",
   "execution_count": 1,
   "metadata": {},
   "outputs": [
    {
     "data": {
      "text/plain": [
       "4"
      ]
     },
     "execution_count": 1,
     "metadata": {},
     "output_type": "execute_result"
    }
   ],
   "source": [
    "#LC1221 : Split a String in Balanced Strings i/p: \"RLRRLLRLRL\" o/p: 4\n",
    "s = \"RLRRLLRLRL\"\n",
    "r,l,c=0,0,0\n",
    "for i in s:\n",
    "    if i==\"R\":\n",
    "        r+=1\n",
    "    else:\n",
    "        l+=1\n",
    "    if l==r:\n",
    "        c+=1\n",
    "        r,l=0,0\n",
    "c"
   ]
  },
  {
   "cell_type": "code",
   "execution_count": 4,
   "metadata": {},
   "outputs": [
    {
     "data": {
      "text/plain": [
       "'lovely#'"
      ]
     },
     "execution_count": 4,
     "metadata": {},
     "output_type": "execute_result"
    }
   ],
   "source": [
    "#709. To Lower Case\n",
    "'''\n",
    "Implement function ToLowerCase() that has a string parameter str, and returns the same string in lowercase.\n",
    "Input: \"Hello\"\n",
    "Output: \"hello\"\n",
    "'''\n",
    "s=\"LOveLY#\"\n",
    "ans=\"\"\n",
    "for i in s:\n",
    "    if 65<=ord(i)<=90:\n",
    "        ans+=chr(ord(i)+32)\n",
    "    else:\n",
    "        ans+=i\n",
    "ans"
   ]
  },
  {
   "cell_type": "code",
   "execution_count": null,
   "metadata": {},
   "outputs": [],
   "source": [
    "#LC344. Reverse String\n",
    "'''\n",
    "Input: [\"h\",\"e\",\"l\",\"l\",\"o\"]\n",
    "Output: [\"o\",\"l\",\"l\",\"e\",\"h\"]\n",
    "'''\n",
    "s=[\"h\",\"e\",\"l\",\"l\",\"o\"]\n",
    "l,r=0,len(s)-1\n",
    "while(l<=r):\n",
    "    s[l],s[r]=s[r],s[l]\n",
    "    l+=1\n",
    "    r-=1\n",
    "s"
   ]
  },
  {
   "cell_type": "code",
   "execution_count": null,
   "metadata": {},
   "outputs": [],
   "source": [
    "#LC541. Reverse String II\n",
    "'''\n",
    "Given a string and an integer k, you need to reverse the first k characters for every 2k characters counting from the start\n",
    "of the string. If there are less than k characters left, reverse all of them. If there are less than 2k but greater than or\n",
    "equal to k characters, then reverse the first k characters and left the other as original.\n",
    "\n",
    "Input: s = \"abcdefg\", k = 2\n",
    "Output: \"bacdfeg\"\n",
    "'''\n",
    "s = \"abcdefg\";k = 2\n",
    "\n",
    "s2=\"\"\n",
    "for i in range(0,len(s),2*k):\n",
    "    s1=s[i:i+2*k]\n",
    "    if len(s1)<k:\n",
    "        s2+=s1[::-1]\n",
    "    else:\n",
    "        s2+=s1[:k][::-1] + s1[k:2*k]\n",
    "s2          "
   ]
  },
  {
   "cell_type": "code",
   "execution_count": null,
   "metadata": {},
   "outputs": [],
   "source": [
    "#557. Reverse Words in a String III\n",
    "\n",
    "'''\n",
    "Input: \"Let's take LeetCode contest\"\n",
    "Output: \"s'teL ekat edoCteeL tsetnoc\"\n",
    "'''\n",
    "s=\"Let's take LeetCode contest\"\n",
    "\n",
    "s=s.split()\n",
    "x=[]\n",
    "for i in s:\n",
    "    x.append(i[::-1])\n",
    "    x.append(' ')\n",
    "''.join(x[:-1])"
   ]
  },
  {
   "cell_type": "code",
   "execution_count": null,
   "metadata": {},
   "outputs": [],
   "source": [
    "#LC1417. Reformat The String\n",
    "'''\n",
    "Find a permutation of the string where no letter is followedby another letter and no digit is \n",
    "followed by another digit. That is, no two adjacent characters have the same type.\n",
    "\n",
    "Input: \"covid2019\"\n",
    "Output: \"c2o0v1i9d\"\n",
    "\n",
    "'''\n",
    "s = \"covid2019\"\n",
    "def reformat(s: str) -> str:\n",
    "        s1=[]\n",
    "        s2=[]\n",
    "        for i in s:\n",
    "            if i.isalpha():\n",
    "                s1.append(i)\n",
    "            else:\n",
    "                s2.append(i)\n",
    "        if len(s)<=1: return s\n",
    "        if not s1 or not s2: return \"\"        \n",
    "        \n",
    "        if len(s2)>len(s1):\n",
    "            s1,s2=s2,s1\n",
    "        \n",
    "        x=[]\n",
    "        for i in range(len(s1)):\n",
    "            try:\n",
    "                x.append(s1[i])\n",
    "                x.append(s2.pop())\n",
    "            except:\n",
    "                pass\n",
    "        return \"\".join(x)  \n",
    "reformat(s)"
   ]
  },
  {
   "cell_type": "code",
   "execution_count": 3,
   "metadata": {},
   "outputs": [
    {
     "data": {
      "text/plain": [
       "['e', 'l', 'l']"
      ]
     },
     "execution_count": 3,
     "metadata": {},
     "output_type": "execute_result"
    }
   ],
   "source": [
    "#1002. Find Common Characters\n",
    "'''\n",
    "Given an array A of strings made only from lowercase letters, return a list of all characters that show \n",
    "up in all strings within the list (including duplicates).  For example, if a character occurs 3 times in\n",
    "all strings but not 4 times, you need to include that character three times in the final answer.\n",
    "\n",
    "Input: [\"bella\",\"label\",\"roller\"]\n",
    "Output: [\"e\",\"l\",\"l\"]\n",
    "\n",
    "Input: [\"cool\",\"lock\",\"cook\"]\n",
    "Output: [\"c\",\"o\"]\n",
    "'''\n",
    "def commonChars(A):\n",
    "    '''\n",
    "    B = [list(i) for i in A[1:]]\n",
    "    ans=[]\n",
    "    st= list(A[0])\n",
    "    for j in range(len(st)):\n",
    "        cnt=0\n",
    "        for string in B:\n",
    "            if st[j] in string:\n",
    "                string.remove(st[j])\n",
    "                cnt+=1\n",
    "                if cnt==len(B):\n",
    "                    ans.append(st[j])\n",
    "    return ans\n",
    "    '''\n",
    "    ans=[]\n",
    "    key_set = set(A[0])\n",
    "    for ch in key_set:\n",
    "        n = min([word.count(ch) for word in A])\n",
    "        if n:\n",
    "            ans.extend(n*ch)        \n",
    "    return ans\n",
    "\n",
    "A=   [\"bella\",\"label\",\"roller\"]\n",
    "commonChars(A)"
   ]
  },
  {
   "cell_type": "code",
   "execution_count": 3,
   "metadata": {},
   "outputs": [
    {
     "data": {
      "text/plain": [
       "['as', 'hero']"
      ]
     },
     "execution_count": 3,
     "metadata": {},
     "output_type": "execute_result"
    }
   ],
   "source": [
    "#LC1408. String Matching in an Array\n",
    "'''\n",
    "Given an array of string words. Return all strings in words which is substring of another word in any order. \n",
    "\n",
    "String words[i] is substring of words[j], if can be obtained removing some characters to left and/or right side of words[j].\n",
    "\n",
    "Input: words = [\"mass\",\"as\",\"hero\",\"superhero\"]\n",
    "Output: [\"as\",\"hero\"]\n",
    "Explanation: \"as\" is substring of \"mass\" and \"hero\" is substring of \"superhero\".\n",
    "[\"hero\",\"as\"] is also a valid answer.\n",
    "'''\n",
    "def stringMatching(words):\n",
    "    '''\n",
    "    res=set()\n",
    "    for i in range(len(words)):\n",
    "        for j in range(len(words)):\n",
    "            if words[i] in words[j] and i!=j:\n",
    "                res.add(words[i])            \n",
    "    return list(res)\n",
    "    '''\n",
    "    string= ' '.join(words)\n",
    "    res= [i for i in words if string.count(i)>1]\n",
    "    return res\n",
    "words = [\"mass\",\"as\",\"hero\",\"superhero\"]\n",
    "stringMatching(words)"
   ]
  },
  {
   "cell_type": "code",
   "execution_count": null,
   "metadata": {},
   "outputs": [],
   "source": [
    "#1436. Destination City\n",
    "\n",
    "'''\n",
    "Input: paths = [[\"London\",\"New York\"],[\"New York\",\"Lima\"],[\"Lima\",\"Sao Paulo\"]]\n",
    "Output: \"Sao Paulo\" \n",
    "Explanation: Starting at \"London\" city you will reach \"Sao Paulo\" city which is t\n",
    "he destination city. \n",
    "Your trip consist of: \"London\" -> \"New York\" -> \"Lima\" -> \"Sao Paulo\".\n",
    "'''\n",
    "paths = [[\"London\",\"New York\"],[\"New York\",\"Lima\"],[\"Lima\",\"Sao Paulo\"]]\n",
    "\n",
    "def destCity(paths):\n",
    "        dic={}\n",
    "        for i in paths:\n",
    "            dic[i[0]]=i[1]\n",
    "        for i in dic.values():\n",
    "            if i not in dic.keys():\n",
    "                return i  \n",
    "destCity(paths)"
   ]
  },
  {
   "cell_type": "code",
   "execution_count": 2,
   "metadata": {},
   "outputs": [
    {
     "data": {
      "text/plain": [
       "'ca'"
      ]
     },
     "execution_count": 2,
     "metadata": {},
     "output_type": "execute_result"
    }
   ],
   "source": [
    "#1047. Remove All Adjacent Duplicates In String\n",
    "'''\n",
    "Given a string S of lowercase letters, a duplicate removal consists of choosing two adjacent and equal letters,\n",
    "and removing them.We repeatedly make duplicate removals on S until we no longer can.\n",
    "\n",
    "Return the final string after all such duplicate removals have been made.  It is guaranteed the answer is unique.\n",
    "\n",
    "Input: \"abbaca\"\n",
    "Output: \"ca\"\n",
    "'''\n",
    "S=\"abbaca\"\n",
    "stack=[]\n",
    "for i in range(len(S)):\n",
    "    if stack and S[i]==stack[-1]:\n",
    "        stack.pop()\n",
    "    else:\n",
    "        stack.append(S[i])\n",
    "''.join(stack)\n",
    "                "
   ]
  },
  {
   "cell_type": "code",
   "execution_count": 86,
   "metadata": {},
   "outputs": [
    {
     "data": {
      "text/plain": [
       "'ps'"
      ]
     },
     "execution_count": 86,
     "metadata": {},
     "output_type": "execute_result"
    }
   ],
   "source": [
    "#1209. Remove All Adjacent Duplicates in String II\n",
    "'''\n",
    "Input: s = \"deeedbbcccbdaa\", k = 3\n",
    "Output: \"aa\"\n",
    "Explanation: First delete \"eee\" and \"ccc\", get \"ddbbbdaa\", Then delete \"bbb\", get \"dddaa\". Finally delete \"ddd\", get \"aa\"\n",
    "\n",
    "Input: s = \"pbbcggttciiippooaais\", k = 2\n",
    "Output: \"ps\"\n",
    "'''\n",
    "def removeDuplicates(s: str, k: int) -> str:\n",
    "    stack=\"\"\n",
    "    for i in range(len(s)):\n",
    "        if stack and stack[-k+1:]==s[i]*(k-1):\n",
    "            stack = stack[:-k+1] \n",
    "        else:\n",
    "            stack+=s[i]\n",
    "            \n",
    "    return stack\n",
    "\n",
    "s = \"pbbcggttciiippooaais\"; k = 2\n",
    "removeDuplicates(s,k)"
   ]
  },
  {
   "cell_type": "code",
   "execution_count": null,
   "metadata": {},
   "outputs": [],
   "source": [
    "#LC14. Longest Common Prefix\n",
    "'''\n",
    "Input: [\"flower\",\"flow\",\"flight\"]\n",
    "Output: \"fl\"\n",
    "'''\n",
    "strs=[\"flower\",\"flow\",\"flight\"]\n",
    "s=\"\"\n",
    "for i in zip(*strs):        #   * is the unpacking operator\n",
    "    if len(set(i))==1:\n",
    "        s+=i[0]\n",
    "    else:\n",
    "        break\n",
    "\n",
    "\"\"\"\n",
    "prefix=\"\"\n",
    "if len(strs)==0: return prefix\n",
    "\n",
    "for i in range(len(min(strs))):\n",
    "    c=strs[0][i]\n",
    "    if all(a[i]==c for a in strs):\n",
    "        prefix+=c\n",
    "    else:\n",
    "        break\n",
    "return prefix\n",
    "\"\"\"\n",
    "'''\n",
    "if len(strs)<=1:\n",
    "    return strs[0] if strs else ''\n",
    "sorted_list=sorted(strs, key=len)\n",
    "short=sorted_list[0]\n",
    "for i in range(len(short),-1,-1):\n",
    "    common=short[:i]\n",
    "    check=0 # use \"check\" to determine how many words can match\n",
    "    for item in (sorted_list[1:]):\n",
    "        if item[:i]==short[:i]:\n",
    "            check+=1\n",
    "        else:\n",
    "            break # if the word does not match, no need to continue the \"item\" list\n",
    "    if check==len(sorted_list[1:]):\n",
    "        break # if every word can be matched, no need to continue the \"i\" list\n",
    "return common         \n",
    "'''\n",
    "s"
   ]
  },
  {
   "cell_type": "code",
   "execution_count": null,
   "metadata": {},
   "outputs": [],
   "source": [
    "#3. Longest Substring Without Repeating Characters\n",
    "'''\n",
    "Input: \"abcabcbb\"\n",
    "Output: 3 \n",
    "'''\n",
    "'''\n",
    "d=0\n",
    "for i in range(len(s)):\n",
    "    c=0\n",
    "    for j in range(i,len(s)):        \n",
    "        if s[j] not in s[i:j]:\n",
    "            c+=1\n",
    "        else:\n",
    "            break\n",
    "    d=max(c,d)\n",
    "return d\n",
    "'''\n",
    "'''\n",
    "c,d=0,0\n",
    "for k in range(1,len(s)+1):\n",
    "    for end in range(k,len(s)+1):\n",
    "        x=s[end-k:end]\n",
    "        if(len(x)==len(set(x))):\n",
    "            c=len(x)\n",
    "    d=max(c,d)\n",
    "return d\n",
    "'''\n",
    "##########################################\n",
    "#Sliding window\n",
    "string= \"abccba\"\n",
    "longest = 0\n",
    "left, right = 0, 0\n",
    "chars =set()\n",
    "while left < len(string) and right < len(string):\n",
    "    if string[right] not in chars:\n",
    "        chars.add(string[right])\n",
    "        right += 1\n",
    "        longest = max(longest, right - left)\n",
    "    else:\n",
    "        chars.remove(string[left])\n",
    "        left += 1\n",
    "    print(left,right,chars)\n",
    "longest"
   ]
  },
  {
   "cell_type": "markdown",
   "metadata": {},
   "source": [
    "# "
   ]
  },
  {
   "cell_type": "code",
   "execution_count": null,
   "metadata": {},
   "outputs": [],
   "source": [
    "#LC49. Group Anagrams\n",
    "'''\n",
    "Input: [\"eat\", \"tea\", \"tan\", \"ate\", \"nat\", \"bat\"],\n",
    "Output:\n",
    "[\n",
    "  [\"ate\",\"eat\",\"tea\"],\n",
    "  [\"nat\",\"tan\"],\n",
    "  [\"bat\"]\n",
    "]\n",
    "'''\n",
    "strs=[\"eat\", \"tea\", \"tan\", \"ate\", \"nat\", \"bat\"]\n",
    "dic={}\n",
    "for i in strs:\n",
    "    s= ''.join(sorted(i))\n",
    "    if s not in dic:\n",
    "        dic[s]=[i]\n",
    "    else:\n",
    "        dic[s]+=[i]\n",
    "\n",
    "ans =list(dic.values())\n",
    "ans   \n"
   ]
  },
  {
   "cell_type": "code",
   "execution_count": null,
   "metadata": {},
   "outputs": [],
   "source": [
    "'''\n",
    "Approach 2: Categorize by Count\n",
    "Intuition\n",
    "\n",
    "Two strings are anagrams if and only if their character counts (respective number of occurrences of each character) are \n",
    "the same.\n",
    "\n",
    "Algorithm:\n",
    "\n",
    "We can transform each string \\text{s}s into a character count, \\text{count}count, consisting of 26 non-negative integers \n",
    "representing the number of \\text{a}a's, \\text{b}b's, \\text{c}c's, etc. We use these counts as the basis for our hash map.\n",
    "\n",
    "n python, the representation will be a tuple of the counts.\n",
    "For example, abbccc will be (1, 2, 3, 0, 0, ..., 0), where again there are 26 entries total.\n",
    "\n",
    "'''        \n",
    "import collections\n",
    "dic = collections.defaultdict(list)\n",
    "for s in strs:\n",
    "    count = [0] * 26\n",
    "    for c in s:\n",
    "        count[ord(c) - ord('a')] += 1\n",
    "    dic[tuple(count)].append(s)\n",
    "    print(count)\n",
    "\n",
    "dic.values()"
   ]
  },
  {
   "cell_type": "code",
   "execution_count": null,
   "metadata": {},
   "outputs": [],
   "source": [
    "#28. Implement strStr()\n",
    "'''\n",
    "Return the index of the first occurrence of needle in haystack, or -1 if needle is not part of haystack.\n",
    "\n",
    "Example 1:\n",
    "\n",
    "Input: haystack = \"hello\", needle = \"ll\"\n",
    "Output: 2\n",
    "'''\n",
    "'''\n",
    "#1\n",
    "haystack = \"hello\"; needle = \"cc\"\n",
    "import re\n",
    "match =re.search(needle,haystack)\n",
    "if match:\n",
    "    print(match.span()[0])\n",
    "else:\n",
    "    print(-1)\n",
    "'''\n",
    "#2. haystack.find(needle)\n",
    "#3:sliding window:\n",
    "haystack =\"mississippi\"; needle = \"pi\"\n",
    "k=len(needle)\n",
    "for end in range(k,len(haystack)+1):\n",
    "    if haystack[end-k:end]==needle:\n",
    "        print(end-k)\n"
   ]
  },
  {
   "cell_type": "code",
   "execution_count": null,
   "metadata": {},
   "outputs": [],
   "source": []
  },
  {
   "cell_type": "code",
   "execution_count": null,
   "metadata": {},
   "outputs": [],
   "source": [
    "#LC459. Repeated Substring Pattern\n",
    "'''\n",
    "Given a non-empty string check if it can be constructed by taking a substring of it \n",
    "and appending multiple copies of the substring together. \n",
    "\n",
    "Input: \"abab\"\n",
    "Output: True\n",
    "Explanation: It's the substring \"ab\" twice.\n",
    "'''\n",
    "s=\"abab\"\n",
    "\n",
    "def repeatedSubstringPattern(s: str) -> bool:\n",
    "    \n",
    "    #1.  return True if re.match(r'(\\w+)\\1+$', s) else False\n",
    "    \n",
    "    #2.\n",
    "    x=''\n",
    "    for i in range(len(s) // 2):\n",
    "        x += s[i]\n",
    "        multiplier = len(s) // len(x)\n",
    "        if x * multiplier == s: return True\n",
    "        \n",
    "    return False\n",
    "\n",
    "repeatedSubstringPattern(s)"
   ]
  },
  {
   "cell_type": "code",
   "execution_count": null,
   "metadata": {},
   "outputs": [],
   "source": [
    "#LC7. Reverse Integer\n",
    "'''\n",
    "Given a 32-bit signed integer, reverse digits of an integer.\n",
    "'''\n",
    "def reverse( x: int) -> int:\n",
    "    '''\n",
    "    s=str(x)\n",
    "    if s[0]== '-':\n",
    "        res = int(s[0]+s[1:][::-1])\n",
    "        return res if res >= -2**(31) else 0\n",
    "    else:\n",
    "        res = int(s[::-1])\n",
    "        return res if res< 2**(31) else 0\n",
    "    '''\n",
    "    res = 0\n",
    "    if x < 0:\n",
    "        sign = -1\n",
    "        x = -x\n",
    "    else: \n",
    "        sign = 1\n",
    "\n",
    "    while x:\n",
    "        res = res * 10 + x % 10\n",
    "        x //= 10\n",
    "\n",
    "    return 0 if res > 2**31 else res * sign            \n",
    "\n",
    "x=15342364\n",
    "reverse(x)"
   ]
  },
  {
   "cell_type": "code",
   "execution_count": 2,
   "metadata": {},
   "outputs": [
    {
     "data": {
      "text/plain": [
       "2"
      ]
     },
     "execution_count": 2,
     "metadata": {},
     "output_type": "execute_result"
    }
   ],
   "source": [
    "#1332. Remove Palindromic Subsequences\n",
    "'''\n",
    "Given a string s consisting only of letters 'a' and 'b'. In a single step you can remove one palindromic subsequence from s.\n",
    "\n",
    "Input: s = \"abb\"\n",
    "Output: 2\n",
    "Explanation: \"abb\" -> \"bb\" -> \"\". \n",
    "Remove palindromic subsequence \"a\" then \"bb\".\n",
    "\n",
    "Input: s = \"baabb\"\n",
    "Output: 2\n",
    "Explanation: \"baabb\" -> \"b\" -> \"\". \n",
    "Remove palindromic subsequence \"baab\" then \"b\".\n",
    "'''\n",
    "s =\"ababb\"\n",
    "def removePalindromeSub(s: str) -> int:\n",
    "    if not s:\n",
    "        return 0\n",
    "    if s == s[::-1]:\n",
    "        return 1\n",
    "    return 2       \n",
    "removePalindromeSub(s)  \n",
    "   "
   ]
  },
  {
   "cell_type": "code",
   "execution_count": 23,
   "metadata": {},
   "outputs": [
    {
     "name": "stdout",
     "output_type": "stream",
     "text": [
      "['I', 'speak', 'Goat', 'Latin']\n"
     ]
    },
    {
     "data": {
      "text/plain": [
       "'Imaa peaksmaaa oatGmaaaa atinLmaaaaa'"
      ]
     },
     "execution_count": 23,
     "metadata": {},
     "output_type": "execute_result"
    }
   ],
   "source": [
    "#LC824. Goat Latin\n",
    "'''\n",
    "Input: \"I speak Goat Latin\"\n",
    "Output: \"Imaa peaksmaaa oatGmaaaa atinLmaaaaa\"\n",
    "'''\n",
    "s= \"I speak Goat Latin\"\n",
    "cnt=1\n",
    "arr=s.split(\" \")\n",
    "vowels=\"a e i o u A E I O U\".split(\" \")\n",
    "print(arr)\n",
    "for i in range(len(arr)):\n",
    "    if arr[i][0] in vowels:\n",
    "        arr[i]=arr[i]+\"ma\"+(\"a\")*cnt\n",
    "    else:\n",
    "        arr[i]=arr[i][1:]+arr[i][0]+ \"ma\" + (\"a\"*cnt)\n",
    "    cnt+=1\n",
    "' '.join(arr)\n",
    "        "
   ]
  },
  {
   "cell_type": "code",
   "execution_count": 1,
   "metadata": {},
   "outputs": [
    {
     "data": {
      "text/plain": [
       "'40'"
      ]
     },
     "execution_count": 1,
     "metadata": {},
     "output_type": "execute_result"
    }
   ],
   "source": [
    "#415. Add Strings\n",
    "'''\n",
    "Given two non-negative integers num1 and num2 represented as string, return the sum of num1 and num2.\n",
    "\n",
    "Note:\n",
    "\n",
    "The length of both num1 and num2 is < 5100.\n",
    "Both num1 and num2 contains only digits 0-9.\n",
    "Both num1 and num2 does not contain any leading zero.\n",
    "You must not use any built-in BigInteger library or convert the inputs to integer directly.\n",
    "'''\n",
    "\n",
    "def addStrings(num1: str, num2: str) -> str:\n",
    "    n1,n2=0,0\n",
    "    for num in num1:\n",
    "        n1= 10*n1 + ord(num)-48\n",
    "    for num in num2:\n",
    "        n2= 10*n2 + ord(num)-48\n",
    "    return str(n1+n2)\n",
    "\n",
    "num1,num2=\"31\",\"9\"\n",
    "addStrings(num1,num2)"
   ]
  },
  {
   "cell_type": "code",
   "execution_count": null,
   "metadata": {},
   "outputs": [],
   "source": []
  }
 ],
 "metadata": {
  "kernelspec": {
   "display_name": "Python 3",
   "language": "python",
   "name": "python3"
  },
  "language_info": {
   "codemirror_mode": {
    "name": "ipython",
    "version": 3
   },
   "file_extension": ".py",
   "mimetype": "text/x-python",
   "name": "python",
   "nbconvert_exporter": "python",
   "pygments_lexer": "ipython3",
   "version": "3.8.5"
  }
 },
 "nbformat": 4,
 "nbformat_minor": 2
}
