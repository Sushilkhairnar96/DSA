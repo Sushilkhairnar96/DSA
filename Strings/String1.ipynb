{
 "cells": [
  {
   "cell_type": "code",
   "execution_count": 1,
   "metadata": {},
   "outputs": [
    {
     "data": {
      "text/plain": [
       "4"
      ]
     },
     "execution_count": 1,
     "metadata": {},
     "output_type": "execute_result"
    }
   ],
   "source": [
    "#LC1221 : Split a String in Balanced Strings i/p: \"RLRRLLRLRL\" o/p: 4\n",
    "s = \"RLRRLLRLRL\"\n",
    "r,l,c=0,0,0\n",
    "for i in s:\n",
    "    if i==\"R\":\n",
    "        r+=1\n",
    "    else:\n",
    "        l+=1\n",
    "    if l==r:\n",
    "        c+=1\n",
    "        r,l=0,0\n",
    "c"
   ]
  },
  {
   "cell_type": "code",
   "execution_count": 2,
   "metadata": {},
   "outputs": [
    {
     "data": {
      "text/plain": [
       "['o', 'l', 'l', 'e', 'h']"
      ]
     },
     "execution_count": 2,
     "metadata": {},
     "output_type": "execute_result"
    }
   ],
   "source": [
    "#LC344. Reverse String\n",
    "'''\n",
    "Input: [\"h\",\"e\",\"l\",\"l\",\"o\"]\n",
    "Output: [\"o\",\"l\",\"l\",\"e\",\"h\"]\n",
    "'''\n",
    "s=[\"h\",\"e\",\"l\",\"l\",\"o\"]\n",
    "l,r=0,len(s)-1\n",
    "while(l<=r):\n",
    "    s[l],s[r]=s[r],s[l]\n",
    "    l+=1\n",
    "    r-=1\n",
    "s"
   ]
  },
  {
   "cell_type": "code",
   "execution_count": 4,
   "metadata": {},
   "outputs": [
    {
     "data": {
      "text/plain": [
       "'bacdfeg'"
      ]
     },
     "execution_count": 4,
     "metadata": {},
     "output_type": "execute_result"
    }
   ],
   "source": [
    "#LC541. Reverse String II\n",
    "'''\n",
    "Given a string and an integer k, you need to reverse the first k characters for every 2k characters counting from the start\n",
    "of the string. If there are less than k characters left, reverse all of them. If there are less than 2k but greater than or\n",
    "equal to k characters, then reverse the first k characters and left the other as original.\n",
    "\n",
    "Input: s = \"abcdefg\", k = 2\n",
    "Output: \"bacdfeg\"\n",
    "'''\n",
    "s = \"abcdefg\";k = 2\n",
    "\n",
    "s2=\"\"\n",
    "for i in range(0,len(s),2*k):\n",
    "    s1=s[i:i+2*k]\n",
    "    if len(s1)<k:\n",
    "        s2+=s1[::-1]\n",
    "    else:\n",
    "        s2+=s1[:k][::-1] + s1[k:2*k]\n",
    "s2          "
   ]
  },
  {
   "cell_type": "code",
   "execution_count": 7,
   "metadata": {},
   "outputs": [
    {
     "data": {
      "text/plain": [
       "\"s'teL ekat edoCteeL tsetnoc\""
      ]
     },
     "execution_count": 7,
     "metadata": {},
     "output_type": "execute_result"
    }
   ],
   "source": [
    "#557. Reverse Words in a String III\n",
    "\n",
    "'''\n",
    "Input: \"Let's take LeetCode contest\"\n",
    "Output: \"s'teL ekat edoCteeL tsetnoc\"\n",
    "'''\n",
    "s=\"Let's take LeetCode contest\"\n",
    "\n",
    "s=s.split()\n",
    "x=[]\n",
    "for i in s:\n",
    "    x.append(i[::-1])\n",
    "    x.append(' ')\n",
    "''.join(x[:-1])"
   ]
  },
  {
   "cell_type": "code",
   "execution_count": 8,
   "metadata": {},
   "outputs": [
    {
     "data": {
      "text/plain": [
       "'c9o1v0i2d'"
      ]
     },
     "execution_count": 8,
     "metadata": {},
     "output_type": "execute_result"
    }
   ],
   "source": [
    "#LC1417. Reformat The String\n",
    "'''\n",
    "Find a permutation of the string where no letter is followedby another letter and no digit is \n",
    "followed by another digit. That is, no two adjacent characters have the same type.\n",
    "\n",
    "Input: \"covid2019\"\n",
    "Output: \"c2o0v1i9d\"\n",
    "\n",
    "'''\n",
    "s = \"covid2019\"\n",
    "def reformat(s: str) -> str:\n",
    "        s1=[]\n",
    "        s2=[]\n",
    "        for i in s:\n",
    "            if i.isalpha():\n",
    "                s1.append(i)\n",
    "            else:\n",
    "                s2.append(i)\n",
    "        if len(s)<=1: return s\n",
    "        if not s1 or not s2: return \"\"        \n",
    "        \n",
    "        if len(s2)>len(s1):\n",
    "            s1,s2=s2,s1\n",
    "        \n",
    "        x=[]\n",
    "        for i in range(len(s1)):\n",
    "            try:\n",
    "                x.append(s1[i])\n",
    "                x.append(s2.pop())\n",
    "            except:\n",
    "                pass\n",
    "        return \"\".join(x)  \n",
    "reformat(s)"
   ]
  },
  {
   "cell_type": "code",
   "execution_count": 9,
   "metadata": {},
   "outputs": [
    {
     "data": {
      "text/plain": [
       "'Sao Paulo'"
      ]
     },
     "execution_count": 9,
     "metadata": {},
     "output_type": "execute_result"
    }
   ],
   "source": [
    "#1436. Destination City\n",
    "'''\n",
    "Input: paths = [[\"London\",\"New York\"],[\"New York\",\"Lima\"],[\"Lima\",\"Sao Paulo\"]]\n",
    "Output: \"Sao Paulo\" \n",
    "Explanation: Starting at \"London\" city you will reach \"Sao Paulo\" city which is the destination city. \n",
    "Your trip consist of: \"London\" -> \"New York\" -> \"Lima\" -> \"Sao Paulo\".\n",
    "'''\n",
    "paths = [[\"London\",\"New York\"],[\"New York\",\"Lima\"],[\"Lima\",\"Sao Paulo\"]]\n",
    "\n",
    "def destCity(paths):\n",
    "        dic={}\n",
    "        for i in paths:\n",
    "            dic[i[0]]=i[1]\n",
    "        for i in dic.values():\n",
    "            if i not in dic.keys():\n",
    "                return i  \n",
    "destCity(paths)"
   ]
  },
  {
   "cell_type": "code",
   "execution_count": 18,
   "metadata": {},
   "outputs": [
    {
     "data": {
      "text/plain": [
       "'fl'"
      ]
     },
     "execution_count": 18,
     "metadata": {},
     "output_type": "execute_result"
    }
   ],
   "source": [
    "#LC14. Longest Common Prefix\n",
    "'''\n",
    "Input: [\"flower\",\"flow\",\"flight\"]\n",
    "Output: \"fl\"\n",
    "'''\n",
    "strs=[\"flower\",\"flow\",\"flight\"]\n",
    "s=\"\"\n",
    "for i in zip(*strs):        #   * is the unpacking operator\n",
    "    if len(set(i))==1:\n",
    "        s+=i[0]\n",
    "    else:\n",
    "        break\n",
    "\n",
    "\"\"\"\n",
    "prefix=\"\"\n",
    "if len(strs)==0: return prefix\n",
    "\n",
    "for i in range(len(min(strs))):\n",
    "    c=strs[0][i]\n",
    "    if all(a[i]==c for a in strs):\n",
    "        prefix+=c\n",
    "    else:\n",
    "        break\n",
    "return prefix\n",
    "\"\"\"\n",
    "'''\n",
    "if len(strs)<=1:\n",
    "    return strs[0] if strs else ''\n",
    "sorted_list=sorted(strs, key=len)\n",
    "short=sorted_list[0]\n",
    "for i in range(len(short),-1,-1):\n",
    "    common=short[:i]\n",
    "    check=0 # use \"check\" to determine how many words can match\n",
    "    for item in (sorted_list[1:]):\n",
    "        if item[:i]==short[:i]:\n",
    "            check+=1\n",
    "        else:\n",
    "            break # if the word does not match, no need to continue the \"item\" list\n",
    "    if check==len(sorted_list[1:]):\n",
    "        break # if every word can be matched, no need to continue the \"i\" list\n",
    "return common         \n",
    "'''\n",
    "s"
   ]
  },
  {
   "cell_type": "code",
   "execution_count": 68,
   "metadata": {},
   "outputs": [
    {
     "name": "stdout",
     "output_type": "stream",
     "text": [
      "0 1 {'a'}\n",
      "0 2 {'a', 'b'}\n",
      "0 3 {'a', 'b', 'c'}\n",
      "1 3 {'b', 'c'}\n",
      "2 3 {'c'}\n",
      "3 3 set()\n",
      "3 4 {'c'}\n",
      "3 5 {'b', 'c'}\n",
      "3 6 {'a', 'b', 'c'}\n"
     ]
    },
    {
     "data": {
      "text/plain": [
       "3"
      ]
     },
     "execution_count": 68,
     "metadata": {},
     "output_type": "execute_result"
    }
   ],
   "source": [
    "#3. Longest Substring Without Repeating Characters\n",
    "'''\n",
    "Input: \"abcabcbb\"\n",
    "Output: 3 \n",
    "'''\n",
    "'''\n",
    "d=0\n",
    "for i in range(len(s)):\n",
    "    c=0\n",
    "    for j in range(i,len(s)):        \n",
    "        if s[j] not in s[i:j]:\n",
    "            c+=1\n",
    "        else:\n",
    "            break\n",
    "    d=max(c,d)\n",
    "return d\n",
    "'''\n",
    "'''\n",
    "c,d=0,0\n",
    "for k in range(1,len(s)+1):\n",
    "    for end in range(k,len(s)+1):\n",
    "        x=s[end-k:end]\n",
    "        if(len(x)==len(set(x))):\n",
    "            c=len(x)\n",
    "    d=max(c,d)\n",
    "return d\n",
    "'''\n",
    "##########################################\n",
    "#Sliding window\n",
    "string= \"abccba\"\n",
    "longest = 0\n",
    "left, right = 0, 0\n",
    "chars =set()\n",
    "while left < len(string) and right < len(string):\n",
    "    if string[right] not in chars:\n",
    "        chars.add(string[right])\n",
    "        right += 1\n",
    "        longest = max(longest, right - left)\n",
    "    else:\n",
    "        chars.remove(string[left])\n",
    "        left += 1\n",
    "    print(left,right,chars)\n",
    "longest"
   ]
  },
  {
   "cell_type": "markdown",
   "metadata": {},
   "source": [
    "# "
   ]
  },
  {
   "cell_type": "code",
   "execution_count": 10,
   "metadata": {},
   "outputs": [
    {
     "data": {
      "text/plain": [
       "[['eat', 'tea', 'ate'], ['tan', 'nat'], ['bat']]"
      ]
     },
     "execution_count": 10,
     "metadata": {},
     "output_type": "execute_result"
    }
   ],
   "source": [
    "#LC49. Group Anagrams\n",
    "'''\n",
    "Input: [\"eat\", \"tea\", \"tan\", \"ate\", \"nat\", \"bat\"],\n",
    "Output:\n",
    "[\n",
    "  [\"ate\",\"eat\",\"tea\"],\n",
    "  [\"nat\",\"tan\"],\n",
    "  [\"bat\"]\n",
    "]\n",
    "'''\n",
    "strs=[\"eat\", \"tea\", \"tan\", \"ate\", \"nat\", \"bat\"]\n",
    "dic={}\n",
    "for i in strs:\n",
    "    s= ''.join(sorted(i))\n",
    "    if s not in dic:\n",
    "        dic[s]=[i]\n",
    "    else:\n",
    "        dic[s]+=[i]\n",
    "\n",
    "ans =list(dic.values())\n",
    "ans   \n"
   ]
  },
  {
   "cell_type": "code",
   "execution_count": 12,
   "metadata": {},
   "outputs": [
    {
     "name": "stdout",
     "output_type": "stream",
     "text": [
      "[1, 0, 0, 0, 1, 0, 0, 0, 0, 0, 0, 0, 0, 0, 0, 0, 0, 0, 0, 1, 0, 0, 0, 0, 0, 0]\n",
      "[1, 0, 0, 0, 1, 0, 0, 0, 0, 0, 0, 0, 0, 0, 0, 0, 0, 0, 0, 1, 0, 0, 0, 0, 0, 0]\n",
      "[1, 0, 0, 0, 0, 0, 0, 0, 0, 0, 0, 0, 0, 1, 0, 0, 0, 0, 0, 1, 0, 0, 0, 0, 0, 0]\n",
      "[1, 0, 0, 0, 1, 0, 0, 0, 0, 0, 0, 0, 0, 0, 0, 0, 0, 0, 0, 1, 0, 0, 0, 0, 0, 0]\n",
      "[1, 0, 0, 0, 0, 0, 0, 0, 0, 0, 0, 0, 0, 1, 0, 0, 0, 0, 0, 1, 0, 0, 0, 0, 0, 0]\n",
      "[1, 1, 0, 0, 0, 0, 0, 0, 0, 0, 0, 0, 0, 0, 0, 0, 0, 0, 0, 1, 0, 0, 0, 0, 0, 0]\n"
     ]
    },
    {
     "data": {
      "text/plain": [
       "dict_values([['eat', 'tea', 'ate'], ['tan', 'nat'], ['bat']])"
      ]
     },
     "execution_count": 12,
     "metadata": {},
     "output_type": "execute_result"
    }
   ],
   "source": [
    "'''\n",
    "Approach 2: Categorize by Count\n",
    "Intuition\n",
    "\n",
    "Two strings are anagrams if and only if their character counts (respective number of occurrences of each character) are \n",
    "the same.\n",
    "\n",
    "Algorithm:\n",
    "\n",
    "We can transform each string \\text{s}s into a character count, \\text{count}count, consisting of 26 non-negative integers \n",
    "representing the number of \\text{a}a's, \\text{b}b's, \\text{c}c's, etc. We use these counts as the basis for our hash map.\n",
    "\n",
    "n python, the representation will be a tuple of the counts.\n",
    "For example, abbccc will be (1, 2, 3, 0, 0, ..., 0), where again there are 26 entries total.\n",
    "\n",
    "'''        \n",
    "import collections\n",
    "dic = collections.defaultdict(list)\n",
    "for s in strs:\n",
    "    count = [0] * 26\n",
    "    for c in s:\n",
    "        count[ord(c) - ord('a')] += 1\n",
    "    dic[tuple(count)].append(s)\n",
    "    print(count)\n",
    "\n",
    "dic.values()"
   ]
  },
  {
   "cell_type": "code",
   "execution_count": 66,
   "metadata": {},
   "outputs": [
    {
     "name": "stdout",
     "output_type": "stream",
     "text": [
      "9\n"
     ]
    }
   ],
   "source": [
    "#28. Implement strStr()\n",
    "'''\n",
    "Return the index of the first occurrence of needle in haystack, or -1 if needle is not part of haystack.\n",
    "\n",
    "Example 1:\n",
    "\n",
    "Input: haystack = \"hello\", needle = \"ll\"\n",
    "Output: 2\n",
    "'''\n",
    "'''\n",
    "#1\n",
    "haystack = \"hello\"; needle = \"cc\"\n",
    "import re\n",
    "match =re.search(needle,haystack)\n",
    "if match:\n",
    "    print(match.span()[0])\n",
    "else:\n",
    "    print(-1)\n",
    "'''\n",
    "#2. haystack.find(needle)\n",
    "#3:sliding window:\n",
    "haystack =\"mississippi\"; needle = \"pi\"\n",
    "k=len(needle)\n",
    "for end in range(k,len(haystack)+1):\n",
    "    if haystack[end-k:end]==needle:\n",
    "        print(end-k)\n"
   ]
  },
  {
   "cell_type": "code",
   "execution_count": 102,
   "metadata": {},
   "outputs": [
    {
     "data": {
      "text/plain": [
       "True"
      ]
     },
     "execution_count": 102,
     "metadata": {},
     "output_type": "execute_result"
    }
   ],
   "source": [
    "#LC459. Repeated Substring Pattern\n",
    "'''\n",
    "Given a non-empty string check if it can be constructed by taking a substring of it \n",
    "and appending multiple copies of the substring together. \n",
    "\n",
    "Input: \"abab\"\n",
    "Output: True\n",
    "Explanation: It's the substring \"ab\" twice.\n",
    "'''\n",
    "s=\"abab\"\n",
    "\n",
    "def repeatedSubstringPattern(s: str) -> bool:\n",
    "    \n",
    "    #1.  return True if re.match(r'(\\w+)\\1+$', s) else False\n",
    "    \n",
    "    #2.\n",
    "    x=''\n",
    "    for i in range(len(s) // 2):\n",
    "        x += s[i]\n",
    "        multiplier = len(s) // len(x)\n",
    "        if x * multiplier == s: return True\n",
    "        \n",
    "    return False\n",
    "\n",
    "repeatedSubstringPattern(s)"
   ]
  },
  {
   "cell_type": "code",
   "execution_count": null,
   "metadata": {},
   "outputs": [],
   "source": []
  }
 ],
 "metadata": {
  "kernelspec": {
   "display_name": "Python 3",
   "language": "python",
   "name": "python3"
  },
  "language_info": {
   "codemirror_mode": {
    "name": "ipython",
    "version": 3
   },
   "file_extension": ".py",
   "mimetype": "text/x-python",
   "name": "python",
   "nbconvert_exporter": "python",
   "pygments_lexer": "ipython3",
   "version": "3.7.3"
  }
 },
 "nbformat": 4,
 "nbformat_minor": 2
}
