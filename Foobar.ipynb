{
 "cells": [
  {
   "cell_type": "code",
   "execution_count": 25,
   "metadata": {},
   "outputs": [],
   "source": [
    "def solution1(i):\n",
    "    import math \n",
    "    def is_prime(n):    \n",
    "        max_div = math.floor(math.sqrt(n)) \n",
    "        for i in range(2, 1 + int(max_div)): \n",
    "            if n % i == 0: \n",
    "                return False\n",
    "        return True\n",
    "    \n",
    "    s=\"\" \n",
    "    for n in range(2,22000): \n",
    "        if is_prime(n):\n",
    "            s+=str(n)\n",
    "      \n",
    "    return s[i:i+5]"
   ]
  },
  {
   "cell_type": "code",
   "execution_count": 26,
   "metadata": {},
   "outputs": [
    {
     "data": {
      "text/plain": [
       "'11317'"
      ]
     },
     "execution_count": 26,
     "metadata": {},
     "output_type": "execute_result"
    }
   ],
   "source": [
    "solution1(5)"
   ]
  },
  {
   "cell_type": "markdown",
   "metadata": {},
   "source": [
    "Elevator Maintenance\n",
    "====================\n",
    "\n",
    "You've been assigned the onerous task of elevator maintenance - ugh! It wouldn't be so bad, except that all the elevator documentation has been lying in a disorganized pile at the bottom of a filing cabinet for years, and you don't even know what elevator version numbers you'll be working on. \n",
    "\n",
    "Elevator versions are represented by a series of numbers, divided up into major, minor and revision integers. New versions of an elevator increase the major number, e.g. 1, 2, 3, and so on. When new features are added to an elevator without being a complete new version, a second number named \"minor\" can be used to represent those new additions, e.g. 1.0, 1.1, 1.2, etc. Small fixes or maintenance work can be represented by a third number named \"revision\", e.g. 1.1.1, 1.1.2, 1.2.0, and so on. The number zero can be used as a major for pre-release versions of elevators, e.g. 0.1, 0.5, 0.9.2, etc (Commander Lambda is careful to always beta test her new technology, with her loyal henchmen as subjects!).\n",
    "\n",
    "Given a list of elevator versions represented as strings, write a function solution(l) that returns the same list sorted in ascending order by major, minor, and revision number so that you can identify the current elevator version. The versions in list l will always contain major numbers, but minor and revision numbers are optional. If the version contains a revision number, then it will also have a minor number.\n",
    "\n",
    "For example, given the list l as [\"1.1.2\", \"1.0\", \"1.3.3\", \"1.0.12\", \"1.0.2\"], the function solution(l) would return the list [\"1.0\", \"1.0.2\", \"1.0.12\", \"1.1.2\", \"1.3.3\"]. If two or more versions are equivalent but one version contains more numbers than the others, then these versions must be sorted ascending based on how many numbers they have, e.g [\"1\", \"1.0\", \"1.0.0\"]. The number of elements in the list l will be at least 1 and will not exceed 100.\n"
   ]
  },
  {
   "cell_type": "code",
   "execution_count": 27,
   "metadata": {},
   "outputs": [],
   "source": [
    "def solution(l):\n",
    "    def compare(version1,version2):  #Function to compare whether version 1 is greater then version2\n",
    "        version1= list(map(int,version1.split('.')))\n",
    "        version2= list(map(int,version2.split('.')))\n",
    "        for i in range(max(len(version1),len(version2))):\n",
    "            v1 = version1[i] if i < len(version1) else 0\n",
    "            v2 = version2[i] if i < len(version2) else 0\n",
    "            if v1>v2:       #If any of the versions/sub-versions of version1 is greater than version2, then return 1 \n",
    "                return 1\n",
    "            elif v2>v1:\n",
    "                return 0\n",
    "        if v1==v2:\n",
    "            return 1 if len(version1)>len(version2) else 0  #Case where both versions are same after appending zeros (2,2.0 => 2.0,2.0), return the one which has the least length.\n",
    "\n",
    "\n",
    "    def mergeSort(nlist):#Merge sort algorithm to sortthe list  \n",
    "        if len(nlist)>1:\n",
    "            mid = len(nlist)//2\n",
    "            lefthalf = nlist[:mid]\n",
    "            righthalf = nlist[mid:]\n",
    "\n",
    "            mergeSort(lefthalf)\n",
    "            mergeSort(righthalf)\n",
    "            i=j=k=0       \n",
    "            while i < len(lefthalf) and j < len(righthalf):\n",
    "                if  compare(righthalf[j],lefthalf[i]):   #if righthalf[j] > lefthalf[i]\n",
    "                    nlist[k]=lefthalf[i]\n",
    "                    i=i+1\n",
    "                else:\n",
    "                    nlist[k]=righthalf[j]\n",
    "                    j=j+1\n",
    "                k=k+1\n",
    "\n",
    "            while i < len(lefthalf):\n",
    "                nlist[k]=lefthalf[i]\n",
    "                i=i+1\n",
    "                k=k+1\n",
    "\n",
    "            while j < len(righthalf):\n",
    "                nlist[k]=righthalf[j]\n",
    "                j=j+1\n",
    "                k=k+1\n",
    "\n",
    "    mergeSort(l)\n",
    "    return l"
   ]
  },
  {
   "cell_type": "code",
   "execution_count": 28,
   "metadata": {},
   "outputs": [
    {
     "data": {
      "text/plain": [
       "['0.1', '1.1.1', '1.2', '1.2.1', '1.11', '2', '2.0', '2.0.0']"
      ]
     },
     "execution_count": 28,
     "metadata": {},
     "output_type": "execute_result"
    }
   ],
   "source": [
    "solution([\"1.11\", \"2.0.0\", \"1.2\", \"2\", \"0.1\", \"1.2.1\", \"1.1.1\", \"2.0\"])"
   ]
  },
  {
   "cell_type": "code",
   "execution_count": null,
   "metadata": {},
   "outputs": [],
   "source": []
  }
 ],
 "metadata": {
  "kernelspec": {
   "display_name": "Python 3",
   "language": "python",
   "name": "python3"
  },
  "language_info": {
   "codemirror_mode": {
    "name": "ipython",
    "version": 3
   },
   "file_extension": ".py",
   "mimetype": "text/x-python",
   "name": "python",
   "nbconvert_exporter": "python",
   "pygments_lexer": "ipython3",
   "version": "3.7.3"
  }
 },
 "nbformat": 4,
 "nbformat_minor": 2
}
