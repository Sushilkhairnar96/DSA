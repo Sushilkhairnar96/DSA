{
 "cells": [
  {
   "cell_type": "code",
   "execution_count": 1,
   "metadata": {},
   "outputs": [
    {
     "data": {
      "text/plain": [
       "True"
      ]
     },
     "execution_count": 1,
     "metadata": {},
     "output_type": "execute_result"
    }
   ],
   "source": [
    "#1. Valid Anagram\n",
    "'''\n",
    "Given two strings s and t , write a function to determine if t is an anagram of s.\n",
    "\n",
    "Example 1:\n",
    "\n",
    "Input: s = \"anagram\", t = \"nagaram\"\n",
    "Output: true\n",
    "Example 2:\n",
    "\n",
    "Input: s = \"rat\", t = \"car\"\n",
    "Output: false\n",
    "'''\n",
    "\n",
    "def isAnagram(s: str, t: str) -> bool:\n",
    "    #return sorted(s)==sorted(t)\n",
    "    \n",
    "    '''\n",
    "    arr1,arr2=[0]*26,[0]*26\n",
    "    for ch in s:\n",
    "        arr1[ord(ch)-ord('a')]+=1\n",
    "    for ch in t:\n",
    "        arr2[ord(ch)-ord('a')]+=1\n",
    "    return arr1==arr2\n",
    "    '''\n",
    "    import collections\n",
    "    if len(s)!=len(t): return False\n",
    "    dic1=collections.Counter(s)\n",
    "    dic2=collections.Counter(t)\n",
    "    for i in dic2:\n",
    "        if dic2[i]!=dic1[i]:\n",
    "            return False\n",
    "    return True\n",
    "s = \"anagRam\";t = \"nagaaRm\"\n",
    "isAnagram(s,t) "
   ]
  },
  {
   "cell_type": "code",
   "execution_count": 2,
   "metadata": {},
   "outputs": [
    {
     "data": {
      "text/plain": [
       "[['eat', 'tea', 'ate'], ['tan', 'nat'], ['bat']]"
      ]
     },
     "execution_count": 2,
     "metadata": {},
     "output_type": "execute_result"
    }
   ],
   "source": [
    "#2. Group Anagrams\n",
    "'''\n",
    "Given an array of strings strs, group the anagrams together. You can return the answer in any order.\n",
    "\n",
    "An Anagram is a word or phrase formed by rearranging the letters of a different word or phrase,\n",
    "typically using all the original letters exactly once.\n",
    "\n",
    "\n",
    "Input: strs = [\"eat\",\"tea\",\"tan\",\"ate\",\"nat\",\"bat\"]\n",
    "Output: [[\"bat\"],[\"nat\",\"tan\"],[\"ate\",\"eat\",\"tea\"]]\n",
    "'''\n",
    "def groupAnagrams(strs):\n",
    "    '''\n",
    "    res=[]\n",
    "    for st in strs:\n",
    "        res.append(''.join(sorted(st)))\n",
    "        \n",
    "    dic={}\n",
    "    for i in range(len(strs)):\n",
    "        if res[i] not in dic:\n",
    "            dic[res[i]]=[strs[i]]\n",
    "        else:\n",
    "            dic[res[i]].append(strs[i])\n",
    "    print(dic)\n",
    "    \n",
    "    return list(dic.values())\n",
    "    '''\n",
    "    import collections\n",
    "    ans = collections.defaultdict(list)\n",
    "    for s in strs:\n",
    "        count = [0] * 26\n",
    "        for c in s:\n",
    "            count[ord(c) - ord('a')] += 1\n",
    "        ans[tuple(count)].append(s)\n",
    "    return list(ans.values())\n",
    "\n",
    "strs = [\"eat\",\"tea\",\"tan\",\"ate\",\"nat\",\"bat\"]\n",
    "groupAnagrams(strs)\n"
   ]
  },
  {
   "cell_type": "code",
   "execution_count": 3,
   "metadata": {},
   "outputs": [
    {
     "data": {
      "text/plain": [
       "True"
      ]
     },
     "execution_count": 3,
     "metadata": {},
     "output_type": "execute_result"
    }
   ],
   "source": [
    "#3. Valid Palindrome:\n",
    "'''\n",
    "Given a string, determine if it is a palindrome, considering only alphanumeric characters and ignoring cases.\n",
    "\n",
    "Note: For the purpose of this problem, we define empty string as valid palindrome.\n",
    "\n",
    "Input: \"A man, a plan, a canal: Panama\"\n",
    "Output: true\n",
    "\n",
    "Input: \"race a car\"\n",
    "Output: false\n",
    "'''\n",
    "\n",
    "def isPalindrome(s) -> bool:\n",
    "    '''\n",
    "    s1=\"\"\n",
    "    for i in s.lower():\n",
    "        if i.isalnum():\n",
    "            s1+=i\n",
    "    return s1==s1[::-1]\n",
    "    '''\n",
    "    l,r=0,len(s)-1\n",
    "    s=s.lower()\n",
    "    while l<r:\n",
    "        if s[l].isalnum() and s[r].isalnum():\n",
    "            if s[l]==s[r]:\n",
    "                l+=1\n",
    "                r-=1\n",
    "            else:\n",
    "                return False\n",
    "        elif not s[l].isalnum():\n",
    "            l+=1\n",
    "        elif not s[r].isalnum():\n",
    "            r-=1\n",
    "    return True\n",
    "\n",
    "s=\"A man, a plan, a canal: Panama\"\n",
    "isPalindrome(s)"
   ]
  },
  {
   "cell_type": "code",
   "execution_count": 4,
   "metadata": {},
   "outputs": [
    {
     "data": {
      "text/plain": [
       "2"
      ]
     },
     "execution_count": 4,
     "metadata": {},
     "output_type": "execute_result"
    }
   ],
   "source": [
    "#4. First Unique Character in a String\n",
    "'''\n",
    "Given a string, find the first non-repeating character in it and return its index. If it doesn't exist, return -1.\n",
    "\n",
    "s = \"leetcode\"\n",
    "return 0.\n",
    "\n",
    "s = \"loveleetcode\"\n",
    "return 2.\n",
    "'''\n",
    "def firstUniqChar(s) -> int:\n",
    "    '''\n",
    "    dic=collections.Counter(s)\n",
    "    for i,v in enumerate(s):\n",
    "        if dic[v]==1:\n",
    "            return i\n",
    "    return -1\n",
    "    '''\n",
    "    letters='abcdefghijklmnopqrstuvwxyz'\n",
    "    index=[s.index(l) for l in letters if s.count(l) == 1]\n",
    "    return min(index) if len(index) > 0 else -1\n",
    "\n",
    "s = \"loveleetcode\"\n",
    "firstUniqChar(s)"
   ]
  },
  {
   "cell_type": "code",
   "execution_count": 22,
   "metadata": {},
   "outputs": [
    {
     "data": {
      "text/plain": [
       "True"
      ]
     },
     "execution_count": 22,
     "metadata": {},
     "output_type": "execute_result"
    }
   ],
   "source": [
    "#Rotate String\n",
    "'''\n",
    "We are given two strings, s and goal.\n",
    "\n",
    "A shift on s consists of taking string s and moving the leftmost character to the rightmost position. For example, if s = 'abcde', then it will be 'bcdea' after one shift on s. Return true if and only if s can become goal after some number of shifts on s.\n",
    "\n",
    "Example 1:\n",
    "Input: s = 'abcde', goal = 'cdeab'\n",
    "Output: true\n",
    "\n",
    "Example 2:\n",
    "Input: s = 'abcde', goal = 'abced'\n",
    "Output: false\n",
    "'''\n",
    "def rotateString(s,goal) -> bool:\n",
    "    '''\n",
    "    if len(s)!=len(goal): return False\n",
    "    if s==goal: return True\n",
    "    for i in range(1,len(s)+1):\n",
    "        if s[i:] + s[:i] == goal:\n",
    "            return True\n",
    "    return False\n",
    "    '''\n",
    "    return len(s)==len(goal) and goal in s+s\n",
    "\n",
    "s = 'abcde'; goal = 'cdeab'\n",
    "rotateString(s,goal)"
   ]
  },
  {
   "cell_type": "code",
   "execution_count": 5,
   "metadata": {},
   "outputs": [
    {
     "data": {
      "text/plain": [
       "'1211'"
      ]
     },
     "execution_count": 5,
     "metadata": {},
     "output_type": "execute_result"
    }
   ],
   "source": [
    "#5. Count and Say\n",
    "'''\n",
    "The count-and-say sequence is a sequence of digit strings defined by the recursive formula:\n",
    "\n",
    "countAndSay(1) = \"1\"\n",
    "countAndSay(n) is the way you would \"say\" the digit string from countAndSay(n-1). \n",
    "\n",
    "Given a positive integer n, return the nth term of the count-and-say sequence.\n",
    "\n",
    "Input: n = 1\n",
    "Output: \"1\"\n",
    "Explanation: This is the base case.\n",
    "\n",
    "Input: n = 4\n",
    "Output: \"1211\"\n",
    "Explanation:\n",
    "countAndSay(1) = \"1\"\n",
    "countAndSay(2) = say \"1\" = one 1 = \"11\"\n",
    "countAndSay(3) = say \"11\" = two 1's = \"21\"\n",
    "countAndSay(4) = say \"21\" = one 2 + one 1 = \"12\" + \"11\" = \"1211\"\n",
    "'''\n",
    "def get_sequence(s):\n",
    "    count=1\n",
    "    res=\"\"\n",
    "    for i in range(len(s)-1):\n",
    "        if s[i]==s[i+1]:\n",
    "            count+=1\n",
    "        else:\n",
    "            res+=str(count)+s[i] \n",
    "            count=1\n",
    "    return res+str(count)+s[-1]\n",
    "\n",
    "def countAndSay(n):\n",
    "    s=\"1\"\n",
    "    for _ in range(n-1):\n",
    "        s = get_sequence(s)\n",
    "    return s\n",
    "\n",
    "countAndSay(4)"
   ]
  },
  {
   "cell_type": "code",
   "execution_count": 6,
   "metadata": {},
   "outputs": [
    {
     "data": {
      "text/plain": [
       "True"
      ]
     },
     "execution_count": 6,
     "metadata": {},
     "output_type": "execute_result"
    }
   ],
   "source": [
    "#6. Valid Parentheses\n",
    "'''\n",
    "Given a string s containing just the characters '(', ')', '{', '}', '[' and ']', determine if the input string \n",
    "is valid.\n",
    "\n",
    "An input string is valid if:\n",
    "\n",
    "Open brackets must be closed by the same type of brackets.\n",
    "Open brackets must be closed in the correct order.\n",
    "\n",
    "\n",
    "Input: s = \"()\"\n",
    "Output: true\n",
    "\n",
    "Input: s = \"()[]{}\"\n",
    "Output: true\n",
    "\n",
    "Input: s = \"(]\"\n",
    "Output: false\n",
    "\n",
    "Input: s = \"([)]\"\n",
    "Output: false\n",
    "'''\n",
    "\n",
    "def isValid(s):\n",
    "    stack=[]\n",
    "    dic={')':'(',']':'[','}':'{'}\n",
    "    for ch in s:\n",
    "        if ch in dic:\n",
    "            if stack and stack[-1]==dic[ch]:\n",
    "                stack.pop()\n",
    "            else:\n",
    "                return False\n",
    "        else:\n",
    "            stack.append(ch)\n",
    "    return not stack\n",
    "\n",
    "s = \"[()]\"\n",
    "isValid(s)"
   ]
  },
  {
   "cell_type": "code",
   "execution_count": 7,
   "metadata": {},
   "outputs": [
    {
     "data": {
      "text/plain": [
       "5"
      ]
     },
     "execution_count": 7,
     "metadata": {},
     "output_type": "execute_result"
    }
   ],
   "source": [
    "#7.Minimum Number of Steps to Make Two Strings Anagram\n",
    "'''\n",
    "Given two equal-size strings s and t. In one step you can choose any character of t and replace it with another character.\n",
    "\n",
    "Return the minimum number of steps to make t an anagram of s.\n",
    "\n",
    "An Anagram of a string is a string that contains the same characters with a different (or the same) ordering.\n",
    "\n",
    "Input: s = \"bab\", t = \"aba\"\n",
    "Output: 1\n",
    "Explanation: Replace the first 'a' in t with b, t = \"bba\" which is anagram of s.\n",
    "\n",
    "Input: s = \"leetcode\", t = \"practice\"\n",
    "Output: 5\n",
    "Explanation: Replace 'p', 'r', 'a', 'i' and 'c' from t with proper characters to make t anagram of s.\n",
    "'''\n",
    "def minSteps(s: str, t: str) -> int:\n",
    "    '''\n",
    "    dic= collections.Counter(t)\n",
    "    count=0\n",
    "    for ch in s:\n",
    "        if ch in dic and dic[ch]>=1:\n",
    "            count+=1\n",
    "            dic[ch]-=1\n",
    "    return len(s)-count\n",
    "    '''\n",
    "    \n",
    "    '''\n",
    "    import string\n",
    "    res = 0\n",
    "    s = collections.Counter(s)\n",
    "    t = collections.Counter(t)\n",
    "    for c in string.ascii_lowercase:\n",
    "        res += s[c] - t[c] if s[c] > t[c] else 0\n",
    "    return res\n",
    "    '''\n",
    "    \n",
    "    import collections\n",
    "    dic= collections.Counter(t)\n",
    "    count=0\n",
    "    for ch in s:\n",
    "        if dic[ch]>=1:\n",
    "            dic[ch]-=1\n",
    "        else:\n",
    "            count+=1\n",
    "    return count\n",
    "\n",
    "s = \"leetcode\"; t = \"practice\"\n",
    "minSteps(s,t)"
   ]
  },
  {
   "cell_type": "code",
   "execution_count": 8,
   "metadata": {},
   "outputs": [
    {
     "data": {
      "text/plain": [
       "[0, 6]"
      ]
     },
     "execution_count": 8,
     "metadata": {},
     "output_type": "execute_result"
    }
   ],
   "source": [
    "#8.  Find All Anagrams in a String\n",
    "'''\n",
    "Given a string s and a non-empty string p, find all the start indices of p's anagrams in s.\n",
    "\n",
    "Strings consists of lowercase English letters only and the length of both strings s and p will \n",
    "not be larger than 20,100.\n",
    "\n",
    "Input:\n",
    "s: \"cbaebabacd\" p: \"abc\"\n",
    "\n",
    "Output:\n",
    "[0, 6]\n",
    "\n",
    "Explanation:\n",
    "The substring with start index = 0 is \"cba\", which is an anagram of \"abc\".\n",
    "The substring with start index = 6 is \"bac\", which is an anagram of \"abc\".\n",
    "\n",
    "Input:\n",
    "s: \"abab\" p: \"ab\"\n",
    "\n",
    "Output:\n",
    "[0, 1, 2]\n",
    "\n",
    "Explanation:\n",
    "The substring with start index = 0 is \"ab\", which is an anagram of \"ab\".\n",
    "The substring with start index = 1 is \"ba\", which is an anagram of \"ab\".\n",
    "The substring with start index = 2 is \"ab\", which is an anagram of \"ab\".\n",
    "'''\n",
    "\n",
    "def findAnagrams(s,p):\n",
    "    '''\n",
    "    k=len(p)\n",
    "    res=[]\n",
    "    for i in range(k,len(s)+1):\n",
    "        if sorted(p)==sorted(s[i-k:i]):\n",
    "            res.append(i-k)\n",
    "    return res\n",
    "    '''\n",
    "    \n",
    "    '''\n",
    "    import collections\n",
    "    k=len(p)\n",
    "    res=[]\n",
    "    dic_s = collections.Counter(s[:k-1])   #window of size k-1\n",
    "    dic_p = collections.Counter(p)\n",
    "    for i in range(k-1,len(s)):\n",
    "        dic_s[s[i]]+=1        #increment window size\n",
    "        if dic_s==dic_p:\n",
    "            res.append(i-k+1)\n",
    "        dic_s[s[i-k+1]]-=1  #decrement value of 1st element of the window\n",
    "        if dic_s[s[i-k+1]]==0: #if freq is 0, then remove it\n",
    "            del dic_s[s[i-k+1]]   \n",
    "    return res\n",
    "    '''\n",
    "    k=len(p)\n",
    "    dic_s = [0]*26\n",
    "    dic_p = [0]*26\n",
    "    res=[]\n",
    "    for ch in p:\n",
    "        dic_p[ord(ch)-ord('a')]+=1\n",
    "    \n",
    "    for ch in s[:k-1]:\n",
    "        dic_s[ord(ch)-ord('a')]+=1  \n",
    "        \n",
    "    for i,ch in enumerate(s[k-1:]):\n",
    "        dic_s[ord(ch)-ord('a')]+=1     #add count of the next element \n",
    "        if dic_s==dic_p:\n",
    "            res.append(i)\n",
    "        dic_s[ord(s[i])-ord('a')]-=1   #remove count of 1st element of window\n",
    "    \n",
    "    return res\n",
    "\n",
    "s =\"cbaebabacd\"; p= \"abc\"\n",
    "findAnagrams(s,p)"
   ]
  },
  {
   "cell_type": "code",
   "execution_count": 25,
   "metadata": {},
   "outputs": [
    {
     "data": {
      "text/plain": [
       "['e', 'l', 'l']"
      ]
     },
     "execution_count": 25,
     "metadata": {},
     "output_type": "execute_result"
    }
   ],
   "source": [
    "#9. Find Common Characters\n",
    "'''\n",
    "Given an array A of strings made only from lowercase letters, return a list of all characters that show \n",
    "up in all strings within the list (including duplicates).  For example, if a character occurs 3 times in\n",
    "all strings but not 4 times, you need to include that character three times in the final answer.\n",
    "\n",
    "Input: [\"bella\",\"label\",\"roller\"]\n",
    "Output: [\"e\",\"l\",\"l\"]\n",
    "\n",
    "Input: [\"cool\",\"lock\",\"cook\"]\n",
    "Output: [\"c\",\"o\"]\n",
    "'''\n",
    "def commonChars(words):\n",
    "    '''\n",
    "    arr = list(words[0])\n",
    "    \n",
    "    for word in words[1:]:\n",
    "        new = []\n",
    "        for ch in word:\n",
    "            if ch in arr:\n",
    "                new.append(ch)\n",
    "                arr.remove(ch)\n",
    "        arr = new\n",
    "    return arr\n",
    "    '''\n",
    "    '''\n",
    "    res=\"\"\n",
    "    char_set=set(words[0])\n",
    "    for ch in char_set :\n",
    "        cnt = min([word.count(ch) for word in words])\n",
    "        if cnt:\n",
    "            res+=ch*cnt\n",
    "    return list(res)\n",
    "    '''\n",
    "    dic = collections.Counter(words[0])\n",
    "    \n",
    "    for word in words[1:]:\n",
    "        dic1 = collections.Counter(word)\n",
    "        for k in dic:\n",
    "            dic[k] = min(dic[k],dic1[k])\n",
    "    return list(dic.elements())\n",
    "\n",
    "words=[\"bella\",\"label\",\"roller\"]\n",
    "commonChars(words)"
   ]
  },
  {
   "cell_type": "code",
   "execution_count": 10,
   "metadata": {},
   "outputs": [
    {
     "data": {
      "text/plain": [
       "True"
      ]
     },
     "execution_count": 10,
     "metadata": {},
     "output_type": "execute_result"
    }
   ],
   "source": [
    "#10.  Backspace String Compare:\n",
    "'''\n",
    "Given two strings S and T, return if they are equal when both are typed into empty text editors. \n",
    "# means a backspace character.\n",
    "\n",
    "Input: S = \"ab#c\", T = \"ad#c\"\n",
    "Output: true\n",
    "Explanation: Both S and T become \"ac\".\n",
    "\n",
    "Input: S = \"ab##\", T = \"c#d#\"\n",
    "Output: true\n",
    "\n",
    "Input: S = \"a##c\", T = \"#a#c\"\n",
    "Output: true\n",
    "'''\n",
    "def backspaceCompare(S,T):\n",
    "    def helper(s):\n",
    "        stack=[]\n",
    "        res=\"\"\n",
    "        for ch in s:\n",
    "            if ch.isalpha():\n",
    "                stack.append(ch)\n",
    "            elif stack:\n",
    "                stack.pop()\n",
    "        return ''.join(stack)\n",
    "    return helper(S)==helper(T)\n",
    "\n",
    "S = \"ab#c\"; T = \"ad#c\"\n",
    "backspaceCompare(S,T)"
   ]
  },
  {
   "cell_type": "code",
   "execution_count": 11,
   "metadata": {},
   "outputs": [
    {
     "name": "stdout",
     "output_type": "stream",
     "text": [
      "[['a', 1]]\n",
      "[['ab', 1]]\n",
      "[['abc', 1]]\n",
      "[['abc', 1]]\n",
      "[['abc', 1], ['', 3]]\n",
      "[['abc', 1], ['c', 3]]\n",
      "[['abc', 1], ['cd', 3]]\n",
      "[['abccdcdcd', 1]]\n",
      "[['abccdcdcdx', 1]]\n",
      "[['abccdcdcdxy', 1]]\n",
      "[['abccdcdcdxyz', 1]]\n"
     ]
    },
    {
     "data": {
      "text/plain": [
       "'abccdcdcdxyz'"
      ]
     },
     "execution_count": 11,
     "metadata": {},
     "output_type": "execute_result"
    }
   ],
   "source": [
    "#11. Decode String\n",
    "'''\n",
    "Input: s = \"3[a]2[bc]\"\n",
    "Output: \"aaabcbc\"\n",
    "\n",
    "Input: s = \"3[a2[c]]\"\n",
    "Output: \"accaccacc\"\n",
    "\n",
    "Input: s = \"2[abc]3[cd]ef\"\n",
    "Output: \"abcabccdcdcdef\"\n",
    "\n",
    "Input: s = \"abc3[cd]xyz\"\n",
    "Output: \"abccdcdcdxyz\"\n",
    "'''\n",
    "def decodeString(s):\n",
    "    stack=[[\"\",1]]\n",
    "    num=\"\"\n",
    "    for ch in s:\n",
    "        if ch.isdigit():\n",
    "            num+=ch\n",
    "        elif ch=='[':\n",
    "            stack.append([\"\",int(num)])\n",
    "            num=\"\"\n",
    "        elif ch==']':\n",
    "            string,number=stack.pop()\n",
    "            stack[-1][0]+=int(number)*string\n",
    "        else:\n",
    "            stack[-1][0]+=ch\n",
    "        print(stack)\n",
    "    return stack[0][0]\n",
    "            \n",
    "s = \"abc3[cd]xyz\"\n",
    "decodeString(s)"
   ]
  },
  {
   "cell_type": "code",
   "execution_count": 16,
   "metadata": {},
   "outputs": [
    {
     "data": {
      "text/plain": [
       "True"
      ]
     },
     "execution_count": 16,
     "metadata": {},
     "output_type": "execute_result"
    }
   ],
   "source": [
    "#12. Repeated Substring Pattern\n",
    "'''\n",
    "Given a non-empty string check if it can be constructed by taking a substring of it and \n",
    "appending multiple copies of the substring together. \n",
    "\n",
    "Input: \"abab\"\n",
    "Output: True\n",
    "Explanation: It's the substring \"ab\" twice.\n",
    "\n",
    "Input: \"aba\"\n",
    "Output: False\n",
    "'''\n",
    "def repeatedSubstringPattern(s):\n",
    "    res=''\n",
    "    for i in range(len(s)//2):\n",
    "        res+=s[i]\n",
    "        q,r = divmod(len(s),len(res))\n",
    "        if r==0:\n",
    "            if q*res==s:\n",
    "                return True\n",
    "    return False\n",
    "\n",
    "s=\"abcabcabcabc\"\n",
    "repeatedSubstringPattern(s)"
   ]
  },
  {
   "cell_type": "code",
   "execution_count": 18,
   "metadata": {},
   "outputs": [
    {
     "data": {
      "text/plain": [
       "5"
      ]
     },
     "execution_count": 18,
     "metadata": {},
     "output_type": "execute_result"
    }
   ],
   "source": [
    "#13. Longest Palindrome\n",
    "'''\n",
    "Given a string s which consists of lowercase or uppercase letters, return the length of the\n",
    "longest palindrome that can be built with those letters.\n",
    "\n",
    "Input: s = \"abccccdd\"\n",
    "Output: 7\n",
    "Explanation:\n",
    "One longest palindrome that can be built is \"dccaccd\", whose length is 7.\n",
    "\n",
    "Input: s = \"a\"\n",
    "Output: 1\n",
    "\n",
    "Input: s = \"bb\"\n",
    "Output: 2\n",
    "'''\n",
    "def longestPalindrome(s):\n",
    "    \"\"\"\n",
    "    #Intuition: \n",
    "    Chars with even count will always be palindrome. Maintain a set which contains odd count of characters\n",
    "    i) The set 'hash' defined below stores the count of unique letters that have odd counts. \n",
    "    So, for an array [b, e, d, d, b, b] it would store b and e as they have odd counts.\n",
    "    Follow up question: What's the use of doing that?\n",
    "    Explanation: Well, the main intention is to count one for all odd count letters after accounting for the \n",
    "    even pairs in them if any. For example in [b, e, d, d, b, b] we know that for b and e only one count \n",
    "    should be taken after accounting for the pair 'bb' for 'b'. This is because it doesn't make any difference \n",
    "    in the final answer whether you have b or e in the middle('bdedb' or 'bdbdb' returns 5). Hope this clears some confusion.\n",
    "    ii) Finally, if there are no odd count letters present we want to count all even values for \n",
    "    the counts(which is basically the length of the given array) as the final answer. \n",
    "    Otherwise, we would need to adjust for the extra odd counts that we are doing when we are counting \n",
    "    all the values by removing the count of all distinct odd letters and then counting 1 for them.\n",
    "\n",
    "    hash = set()\n",
    "    for c in s:\n",
    "        if c not in hash:\n",
    "            hash.add(c)\n",
    "        else:\n",
    "            hash.remove(c)\n",
    "    print(hash)\n",
    "    # len(hash) is the number of the odd letters\n",
    "    return len(s) - len(hash) + 1 if len(hash) > 0 else len(s)\n",
    "    \"\"\"\n",
    "    import collections\n",
    "    dic = collections.Counter(s)\n",
    "    res=0\n",
    "    f=0\n",
    "    for val in dic.values():\n",
    "        if val%2==0:\n",
    "            res+=val\n",
    "        else:\n",
    "            f=1\n",
    "            q,r = divmod(val,2)\n",
    "            res+=q*2\n",
    "    return res+1 if f else res\n",
    "s = \"beddbb\"\n",
    "longestPalindrome(s)"
   ]
  },
  {
   "cell_type": "code",
   "execution_count": 14,
   "metadata": {},
   "outputs": [
    {
     "data": {
      "text/plain": [
       "True"
      ]
     },
     "execution_count": 14,
     "metadata": {},
     "output_type": "execute_result"
    }
   ],
   "source": [
    "#14. Buddy Strings\n",
    "'''\n",
    "Given two strings A and B of lowercase letters, return true if you can swap two letters in A so the \n",
    "result is equal to B, otherwise, return false.\n",
    "\n",
    "Swapping letters is defined as taking two indices i and j (0-indexed) such that i != j and swapping \n",
    "the characters at A[i] and A[j]. For example, swapping at indices 0 and 2 in \"abcd\" results in \"cbad\".\n",
    "\n",
    "\n",
    "Input: A = \"ab\", B = \"ba\"\n",
    "Output: true\n",
    "Explanation: You can swap A[0] = 'a' and A[1] = 'b' to get \"ba\", which is equal to B.\n",
    "\n",
    "Input: A = \"ab\", B = \"ab\"\n",
    "Output: false\n",
    "Explanation: The only letters you can swap are A[0] = 'a' and A[1] = 'b', which results in \"ba\" != B.\n",
    "\n",
    "Input: A = \"aaaaaaabc\", B = \"aaaaaaacb\"\n",
    "Output: true\n",
    "'''\n",
    "def buddyStrings(A,B) -> bool:\n",
    "    \n",
    "    # check same length\n",
    "    if len(A)!=len(B):return False\n",
    "    \n",
    "    # if strings are equal - check if there is a double to swap\n",
    "    if A==B: return len(A)-len(set(A))>=1 \n",
    "    \n",
    "    # count differences between strings\n",
    "    diff =[]\n",
    "    for i in range(len(A)):\n",
    "        if A[i]!=B[i]:\n",
    "            diff.append(i)\n",
    "            if len(diff)>2 : return False\n",
    "            \n",
    "    # not exactly two differences\n",
    "    if len(diff)!=2: return False\n",
    "    \n",
    "    # check if can be swapped\n",
    "    return A[diff[0]] == B[diff[1]] and A[diff[1]] == B[diff[0]]\n",
    "\n",
    "A = \"aaaaaaabc\"; B = \"aaaaaaacb\"\n",
    "buddyStrings(A,B)"
   ]
  },
  {
   "cell_type": "code",
   "execution_count": 15,
   "metadata": {},
   "outputs": [
    {
     "data": {
      "text/plain": [
       "True"
      ]
     },
     "execution_count": 15,
     "metadata": {},
     "output_type": "execute_result"
    }
   ],
   "source": [
    "#15. Word Pattern\n",
    "'''\n",
    "Given a pattern and a string s, find if s follows the same pattern.\n",
    "\n",
    "Here follow means a full match, such that there is a bijection between a letter in pattern and a non-empty word in s.\n",
    "\n",
    "Input: pattern = \"abba\", s = \"dog cat cat dog\"\n",
    "Output: true\n",
    "\n",
    "Input: pattern = \"abba\", s = \"dog cat cat fish\"\n",
    "Output: false\n",
    "\n",
    "Input: pattern = \"aaaa\", s = \"dog cat cat dog\"\n",
    "Output: false\n",
    "'''\n",
    "def wordPattern(pattern,s) -> bool:\n",
    "    '''\n",
    "    s=s.split(\" \")\n",
    "    if len(s)!=len(pattern) or len(set(s))!=len(set(pattern)): return False\n",
    "    dic = {}\n",
    "    for i in range(len(pattern)):\n",
    "        dic[s[i]] = pattern[i]\n",
    "    res = \"\"\n",
    "    for ch in s:\n",
    "        res+=dic[ch]\n",
    "    return res==pattern\n",
    "    '''\n",
    "    dic={}\n",
    "    words=s.split()\n",
    "    if len(words)!=len(pattern): return False\n",
    "    for i in range(len(words)):\n",
    "        pattern_key = f'pattern_{pattern[i]}'\n",
    "        word_key = f'word_{words[i]}'\n",
    "        if pattern_key not in dic:\n",
    "            dic[pattern_key]=i\n",
    "        if word_key not in dic:\n",
    "            dic[word_key]=i\n",
    "        \n",
    "        if dic[pattern_key]!= dic[word_key]:return False\n",
    "    return True\n",
    "\n",
    "pattern = \"abba\";s = \"dog cat cat dog\"\n",
    "wordPattern(pattern,s)"
   ]
  },
  {
   "cell_type": "code",
   "execution_count": 16,
   "metadata": {},
   "outputs": [
    {
     "name": "stdout",
     "output_type": "stream",
     "text": [
      "cbcc cbbc 1 3\n"
     ]
    },
    {
     "data": {
      "text/plain": [
       "True"
      ]
     },
     "execution_count": 16,
     "metadata": {},
     "output_type": "execute_result"
    }
   ],
   "source": [
    "#16.  Valid Palindrome II\n",
    "'''\n",
    "Given a non-empty string s, you may delete at most one character. Judge whether you can make it a palindrome.\n",
    "\n",
    "Input: \"aba\"  Output: True\n",
    "Input: \"abca\"  Output: True   Explanation: You could delete the character 'c'.\n",
    "'''\n",
    "def validPalindrome(s: str) -> bool:\n",
    "    '''\n",
    "    if s==s[::-1] : return True\n",
    "    for i in range(len(s)):\n",
    "        new_string = s[:i]+s[i+1:]\n",
    "        if new_string==new_string[::-1]: return True\n",
    "    return False\n",
    "    '''\n",
    "    if s==s[::-1] : return True\n",
    "    l,r=0,len(s)-1\n",
    "    while l<=r:\n",
    "        if s[l]==s[r]:\n",
    "            l+=1\n",
    "            r-=1\n",
    "        else:\n",
    "            s1 = s[:l]+s[l+1:]\n",
    "            s2 = s[:r]+s[r+1:]\n",
    "            print(s1,s2,l,r)\n",
    "            return s1==s1[::-1] or s2==s2[::-1]\n",
    "    return True\n",
    "\n",
    "validPalindrome(\"cbbcc\")"
   ]
  },
  {
   "cell_type": "code",
   "execution_count": 17,
   "metadata": {},
   "outputs": [
    {
     "data": {
      "text/plain": [
       "'fl'"
      ]
     },
     "execution_count": 17,
     "metadata": {},
     "output_type": "execute_result"
    }
   ],
   "source": [
    "#17. Longest Common Prefix\n",
    "'''\n",
    "Write a function to find the longest common prefix string amongst an array of strings.\n",
    "If there is no common prefix, return an empty string \"\".\n",
    "\n",
    "Input: strs = [\"flower\",\"flow\",\"flight\"]\n",
    "Output: \"fl\"\n",
    "'''\n",
    "def longestCommonPrefix(strs) -> str:\n",
    "    '''\n",
    "    if len(strs)==0 : return \"\"\n",
    "    min_len=float('inf')\n",
    "    for word in strs:\n",
    "        min_len = min(len(word),min_len)\n",
    "    arrays = [[word[i] for word in strs] for i in range(min_len)]\n",
    "    \n",
    "    res=\"\"\n",
    "    for arr in arrays:\n",
    "        if len(set(arr))==1 : res+=arr[0]\n",
    "        else: break\n",
    "    return res\n",
    "    '''\n",
    "    res=\"\"\n",
    "    if len(strs)==0 : return res\n",
    "    min_len=float('inf')\n",
    "    for word in strs:\n",
    "        min_len = min(len(word),min_len)\n",
    "        \n",
    "    for i in range(min_len):\n",
    "        ch = strs[0][i]\n",
    "        if all (ch==word[i] for word in strs):\n",
    "            res+=ch\n",
    "        else:\n",
    "            break\n",
    "    return res\n",
    "\n",
    "strs = [\"flower\",\"flow\",\"flight\"]\n",
    "longestCommonPrefix(strs) "
   ]
  },
  {
   "cell_type": "code",
   "execution_count": 18,
   "metadata": {},
   "outputs": [
    {
     "data": {
      "text/plain": [
       "''"
      ]
     },
     "execution_count": 18,
     "metadata": {},
     "output_type": "execute_result"
    }
   ],
   "source": [
    "#18. Make The String Great\n",
    "'''\n",
    "Given a string s of lower and upper case English letters.\n",
    "A good string is a string which doesn't have two adjacent characters s[i] and s[i + 1] where: 0 <= i <= s.length - 2\n",
    "s[i] is a lower-case letter and s[i + 1] is the same letter but in upper-case or vice-versa.\n",
    "To make the string good, you can choose two adjacent characters that make the string bad and remove them. \n",
    "You can keep doing this until the string becomes good.\n",
    "\n",
    "Input: s = \"leEeetcode\"\n",
    "Output: \"leetcode\"\n",
    "Explanation: In the first step, either you choose i = 1 or i = 2, both will result \"leEeetcode\"\n",
    "to be reduced to \"leetcode\".\n",
    "\n",
    "Input: s = \"abBAcC\"\n",
    "Output: \"\"\n",
    "Explanation: We have many possible scenarios, and all lead to the same answer. For example:\n",
    "\"abBAcC\" --> \"aAcC\" --> \"cC\" --> \"\"\n",
    "\"abBAcC\" --> \"abBA\" --> \"aA\" --> \"\"\n",
    "'''\n",
    "def makeGood(s) -> str:\n",
    "    '''\n",
    "    stack=[]\n",
    "    for ch in s:\n",
    "        if stack and stack[-1].islower() and stack[-1].upper()==ch:\n",
    "            stack.pop()\n",
    "        elif stack and stack[-1].isupper() and stack[-1].lower()==ch:\n",
    "            stack.pop()\n",
    "        else:\n",
    "            stack.append(ch)\n",
    "    return \"\".join(stack)\n",
    "            \n",
    "    '''\n",
    "    stack=[]\n",
    "    for ch in s:\n",
    "        if stack and abs(ord(ch)-ord(stack[-1]))==32:\n",
    "            stack.pop()\n",
    "        else:\n",
    "            stack.append(ch)\n",
    "    return \"\".join(stack)\n",
    "\n",
    "s = \"abBAcC\"\n",
    "makeGood(s) "
   ]
  },
  {
   "cell_type": "code",
   "execution_count": 19,
   "metadata": {},
   "outputs": [
    {
     "data": {
      "text/plain": [
       "True"
      ]
     },
     "execution_count": 19,
     "metadata": {},
     "output_type": "execute_result"
    }
   ],
   "source": [
    "#19. Long Pressed Name\n",
    "'''\n",
    "Your friend is typing his name into a keyboard. Sometimes, when typing a character c, the key might get long pressed,\n",
    "and the character will be typed 1 or more times.\n",
    "\n",
    "You examine the typed characters of the keyboard. Return True if it is possible that it was your friends name, \n",
    "with some characters (possibly none) being long pressed.\n",
    "\n",
    "Input: name = \"alex\", typed = \"aaleex\"\n",
    "Output: true\n",
    "Explanation: 'a' and 'e' in 'alex' were long pressed.\n",
    "\n",
    "Input: name = \"saeed\", typed = \"ssaaedd\"\n",
    "Output: false\n",
    "Explanation: 'e' must have been pressed twice, but it wasn't in the typed output.\n",
    "\n",
    "Input: name = \"leelee\", typed = \"lleeelee\"\n",
    "Output: true\n",
    "'''\n",
    "def isLongPressedName(name, typed) -> bool:\n",
    "\n",
    "        # two pointers to the \"name\" and \"typed\" string respectively\n",
    "        np, tp = 0, 0\n",
    "\n",
    "        # advance two pointers, until we exhaust one of the strings\n",
    "        while np < len(name) and tp < len(typed):\n",
    "            if name[np] == typed[tp]:\n",
    "                np += 1\n",
    "                tp += 1\n",
    "            elif tp >= 1 and typed[tp] == typed[tp-1]:\n",
    "                tp += 1\n",
    "            else:\n",
    "                return False\n",
    "\n",
    "        # if there is still some characters left *unmatched* in the origin string, then we don't have a match.\n",
    "        # e.g.  name = \"abc\"  typed = \"aabb\"\n",
    "        if np != len(name):\n",
    "            return False\n",
    "        \n",
    "        # In the case that there are some redundant characters left in typed we could still have a match.\n",
    "        # e.g.  name = \"abc\"  typed = \"abccccc\"\n",
    "        while tp < len(typed):\n",
    "            if typed[tp] != typed[tp-1]:\n",
    "                return False\n",
    "            tp += 1\n",
    "\n",
    "        # both strings have been consumed\n",
    "        return True  \n",
    "\n",
    "name = \"leelee\";typed = \"lleeelee\"\n",
    "isLongPressedName(name, typed)"
   ]
  },
  {
   "cell_type": "code",
   "execution_count": 20,
   "metadata": {},
   "outputs": [
    {
     "data": {
      "text/plain": [
       "'25'"
      ]
     },
     "execution_count": 20,
     "metadata": {},
     "output_type": "execute_result"
    }
   ],
   "source": [
    "#20 Add Strings\n",
    "'''\n",
    "Given two non-negative integers num1 and num2 represented as string, return the sum of num1 and num2.\n",
    "\n",
    "Note:\n",
    "\n",
    "The length of both num1 and num2 is < 5100.\n",
    "Both num1 and num2 contains only digits 0-9.\n",
    "Both num1 and num2 does not contain any leading zero.\n",
    "You must not use any built-in BigInteger library or convert the inputs to integer directly.\n",
    "'''\n",
    "def addStrings(num1,num2) -> str:\n",
    "    n1,n2=0,0\n",
    "    for num in num1:\n",
    "        n1 = 10*n1 + (ord(num) - ord('0'))\n",
    "    for num in num2:\n",
    "        n2 = 10*n2 + (ord(num) - ord('0'))\n",
    "    \n",
    "    return str(n1+n2)\n",
    "addStrings(\"10\",\"15\")"
   ]
  },
  {
   "cell_type": "code",
   "execution_count": 21,
   "metadata": {},
   "outputs": [
    {
     "data": {
      "text/plain": [
       "'600'"
      ]
     },
     "execution_count": 21,
     "metadata": {},
     "output_type": "execute_result"
    }
   ],
   "source": [
    "#21 Multiply Strings\n",
    "'''\n",
    "Given two non-negative integers num1 and num2 represented as strings, return the product of num1 and num2,\n",
    "also represented as a string.\n",
    "\n",
    "Note: You must not use any built-in BigInteger library or convert the inputs to integer directly.\n",
    "\n",
    "Example 1:\n",
    "\n",
    "Input: num1 = \"2\", num2 = \"3\"\n",
    "Output: \"6\"\n",
    "Example 2:\n",
    "\n",
    "Input: num1 = \"123\", num2 = \"456\"\n",
    "Output: \"56088\"\n",
    "'''\n",
    "def multiply(num1,num2) -> str:\n",
    "    \n",
    "    #String to Integer Conversion :\n",
    "    n1,n2=0,0\n",
    "    for num in num1:\n",
    "        n1 = 10*n1 + (ord(num) - ord('0'))\n",
    "    for num in num2:\n",
    "        n2 = 10*n2 + (ord(num) - ord('0'))\n",
    "    \n",
    "    num = num1 = n1*n2\n",
    "    \n",
    "    #Integer to String Conversion:\n",
    "    ans=\"\"\n",
    "    while num:\n",
    "        ans=chr(num%10 + ord('0')) + ans\n",
    "        num=num//10\n",
    "    return ans if num1 else \"0\" \n",
    "\n",
    "multiply(\"30\",\"20\")"
   ]
  },
  {
   "cell_type": "code",
   "execution_count": 22,
   "metadata": {},
   "outputs": [
    {
     "name": "stdout",
     "output_type": "stream",
     "text": [
      "['', 'AB']\n"
     ]
    },
    {
     "data": {
      "text/plain": [
       "'AB'"
      ]
     },
     "execution_count": 22,
     "metadata": {},
     "output_type": "execute_result"
    }
   ],
   "source": [
    "#22. Greatest Common Divisor of Strings\n",
    "'''\n",
    "For two strings s and t, we say \"t divides s\" if and only if s = t + ... + t  (t concatenated with itself \n",
    "1 or more times)\n",
    "\n",
    "Given two strings str1 and str2, return the largest string x such that x divides both str1 and str2.\n",
    "\n",
    "Input: str1 = \"ABCABC\", str2 = \"ABC\"\n",
    "Output: \"ABC\"\n",
    "\n",
    "Input: str1 = \"ABABAB\", str2 = \"ABAB\"\n",
    "Output: \"AB\"\n",
    "'''\n",
    "def gcdOfStrings(str1: str, str2: str) -> str:\n",
    "    '''\n",
    "    from math import gcd\n",
    "    \n",
    "    if ( str1 + str2 ) != ( str2 + str1 ):\n",
    "        return ''   #if str1 and str2 has no common factor, then reject\n",
    "    \n",
    "    elif str1 == str2:\n",
    "        return str1  # if str1 and str2 are perfect match, then we find greatest common divisor of strings\n",
    "    \n",
    "    else:\n",
    "        # if str1 =\\= str2, then solve it by recursive with length_by_gcd\n",
    "        length_by_gcd = gcd( len(str1), len(str2) )\n",
    "        return gcdOfStrings( str1[:length_by_gcd], str2[:length_by_gcd] )\n",
    "    '''\n",
    "    res=\"\"\n",
    "    ans=[\"\"]\n",
    "    for ch in str2:\n",
    "        res+=ch\n",
    "        quo1,rem1 = divmod(len(str1),len(res))\n",
    "        quo2,rem2 = divmod(len(str2),len(res))\n",
    "        if rem1==rem2==0 and res*quo1 ==str1 and res*quo2==str2:\n",
    "            ans.append(res)\n",
    "    print(ans)\n",
    "    return max(ans,key=len)\n",
    "\n",
    "str1 = \"ABABAB\"; str2 = \"ABAB\"\n",
    "gcdOfStrings(str1,str2)"
   ]
  },
  {
   "cell_type": "code",
   "execution_count": 23,
   "metadata": {},
   "outputs": [
    {
     "data": {
      "text/plain": [
       "9"
      ]
     },
     "execution_count": 23,
     "metadata": {},
     "output_type": "execute_result"
    }
   ],
   "source": [
    "#23  Roman to Integer\n",
    "'''\n",
    "Input: s = \"III\"\n",
    "Output: 3\n",
    "\n",
    "Input: s = \"IV\"\n",
    "Output: 4\n",
    "\n",
    "Input: s = \"IX\"\n",
    "Output: 9\n",
    "\n",
    "Input: s = \"LVIII\"\n",
    "Output: 58\n",
    "'''\n",
    "def romanToInt(s: str) -> int:\n",
    "    dic={'I':1,'V':5,'X':10,'L':50,'C':100,'D':500,'M':1000}\n",
    "    prev,res=0,0 \n",
    "    for ch in s[::-1]:\n",
    "        if dic[ch]>=prev:\n",
    "            res+=dic[ch]\n",
    "        else:\n",
    "            res-=dic[ch]\n",
    "        prev=dic[ch]\n",
    "    return res\n",
    "\n",
    "romanToInt('IX')"
   ]
  },
  {
   "cell_type": "code",
   "execution_count": 24,
   "metadata": {},
   "outputs": [
    {
     "name": "stdout",
     "output_type": "stream",
     "text": [
      "[0, 240, 1320]\n",
      "240\n"
     ]
    },
    {
     "data": {
      "text/plain": [
       "120"
      ]
     },
     "execution_count": 24,
     "metadata": {},
     "output_type": "execute_result"
    }
   ],
   "source": [
    "#24. Minimum Time Difference\n",
    "'''\n",
    "Given a list of 24-hour clock time points in \"HH:MM\" format, return the minimum minutes difference between \n",
    "any two time-points in the list.\n",
    " \n",
    "Input: timePoints = [\"23:59\",\"00:00\"]\n",
    "Output: 1\n",
    "\n",
    "Input: timePoints = [\"00:00\",\"23:59\",\"00:00\"]\n",
    "Output: 0\n",
    "'''\n",
    "def findMinDifference(timePoints) -> int:\n",
    "    time_in_sec=[]\n",
    "    for t in timePoints:\n",
    "        x = t.split(\":\")\n",
    "        mins = int(x[0])*60\n",
    "        secs = int(x[1])\n",
    "        time_in_sec.append(mins+secs)\n",
    "        \n",
    "    min_diff = 1440    #24*60\n",
    "    time_in_sec.sort()\n",
    "    print(time_in_sec)\n",
    "    for i in range(1,len(time_in_sec)):\n",
    "        diff = time_in_sec[i]-time_in_sec[i-1]\n",
    "        min_diff = min(diff,min_diff)\n",
    "    '''\n",
    "    Calculate the distance of the final point to it's first element, which will cross 0.\n",
    "    This is the point in which there would be a revolution loop. \n",
    "    '''\n",
    "    print(min_diff)\n",
    "    min_diff = min(min_diff, 1440 - time_in_sec[-1] + time_in_sec[0])  \n",
    "    return min_diff \n",
    "\n",
    "timePoints = [\"00:00\",\"04:00\",\"22:00\"]\n",
    "findMinDifference(timePoints)"
   ]
  },
  {
   "cell_type": "code",
   "execution_count": 1,
   "metadata": {},
   "outputs": [
    {
     "data": {
      "text/plain": [
       "True"
      ]
     },
     "execution_count": 1,
     "metadata": {},
     "output_type": "execute_result"
    }
   ],
   "source": [
    "#25 Valid Parenthesis String\n",
    "'''\n",
    "Given a string containing only three types of characters: '(', ')' and '*', write a function to check\n",
    "whether this string is valid. We define the validity of a string by these rules:\n",
    "\n",
    "Any left parenthesis '(' must have a corresponding right parenthesis ')'.\n",
    "Any right parenthesis ')' must have a corresponding left parenthesis '('.\n",
    "Left parenthesis '(' must go before the corresponding right parenthesis ')'.\n",
    "'*' could be treated as a single right parenthesis ')' or a single left parenthesis '(' or an empty string.\n",
    "An empty string is also valid.\n",
    "Input: \"()\"   Output: True\n",
    "Input: \"(*)\"  Output: True\n",
    "Input: \"(*))\" Output: True\n",
    "'''\n",
    "def checkValidString(s) -> bool:\n",
    "    #1. create two stacks- stack1 and stack2\n",
    "    #Intuition:\n",
    "    '''\n",
    "    stack1 stores index of '(' stack2 stores index of '*'.\n",
    "    whenever we encounter ')' , index is popped from stack1 ,at the end when whole string is traversed, \n",
    "    and if stack1 and stack2 are still not empty, then compare top of both , if stack1[-1] < stack2[-1], \n",
    "    then pop from both, then check len(stack1) if it is 0 then return True else False( this is because \n",
    "    the question says '(' must always come before ')' , it means index of '(' will be less than index of ')'    \n",
    "    '''\n",
    "    \n",
    "    '''\n",
    "    stack, star_stack=[],[]\n",
    "    for index,char in enumerate(s):\n",
    "        if char=='(':\n",
    "            stack.append(index)\n",
    "        elif char=='*':\n",
    "            star_stack.append(index)\n",
    "        elif char==')':\n",
    "            if len(stack)>0:\n",
    "                stack.pop()\n",
    "            elif len(star_stack)>0:\n",
    "                star_stack.pop()\n",
    "            else:\n",
    "                return False\n",
    "            \n",
    "    while stack and star_stack:\n",
    "        if stack[-1] < star_stack[-1]:\n",
    "            stack.pop()\n",
    "            star_stack.pop()\n",
    "        else:\n",
    "            break\n",
    "    return not stack     \n",
    "    '''\n",
    "    #2. Based on count of parenthesis\n",
    "    '''\n",
    "    Intuition:\n",
    "    We need to check if the string is properly balanced with left parenthesis (chars \"(\" and \"\") and properly right \n",
    "    balanced - (chars \")\" and \"\") . We check open parenthesis from the left and closed parenthesis from the right. \n",
    "    So, use two vars to determine left and right balance. We should follow these rules:\n",
    "    \n",
    "    If we met \"(\" or \"*\" - increment left; else decrement it\n",
    "    If we met \")\" or \"*\" - increment right; else decrement it\n",
    "    If we got negative values for left or right, we have unvaild string - wrong order of parenthesis or unequal number\n",
    "    of open/closed parenthesis.\n",
    "    Repeat steps 1-3 until we reach the end of the string. Return True then, because string is properly balanced.\n",
    "    '''\n",
    "    left=right=0\n",
    "    #2 pass\n",
    "    for ch in s:\n",
    "        if ch==\"*\" or ch=='(':\n",
    "            left+=1\n",
    "        else:\n",
    "            left-=1\n",
    "            if left<0 : return False #If number of ) brackets is more than the sum of ( and *, string is unbalanced\n",
    "            \n",
    "    for ch in s[::-1]:\n",
    "        if ch==\"*\" or ch==')':\n",
    "            right+=1\n",
    "        else:\n",
    "            right-=1  \n",
    "            if right<0: return False  #If number of ( brackets is more than the sum of ) and *, string is unbalanced\n",
    "            \n",
    "    return True\n",
    "\n",
    "    #1 pass:\n",
    "    '''\n",
    "    left=right=0\n",
    "    \n",
    "    for i in range(len(s)):\n",
    "        if s[i]==\"*\" or s[i]=='(':\n",
    "            left+=1\n",
    "        else:\n",
    "            left-=1\n",
    "            if left<0 : return False \n",
    "            \n",
    "        if s[len(s)-1-i]==\"*\" or s[len(s)-1-i]==')':\n",
    "            right+=1\n",
    "        else:\n",
    "            right-=1  \n",
    "            if right<0: return False  \n",
    "            \n",
    "    return True     \n",
    "    '''\n",
    "\n",
    "checkValidString(\"((((***))))\")"
   ]
  },
  {
   "cell_type": "code",
   "execution_count": 26,
   "metadata": {},
   "outputs": [
    {
     "data": {
      "text/plain": [
       "'ca'"
      ]
     },
     "execution_count": 26,
     "metadata": {},
     "output_type": "execute_result"
    }
   ],
   "source": [
    "#26.  Remove All Adjacent Duplicates In String I\n",
    "'''\n",
    "Given a string S of lowercase letters, a duplicate removal consists of choosing two adjacent and equal letters, \n",
    "and removing them.\n",
    "\n",
    "We repeatedly make duplicate removals on S until we no longer can.\n",
    "\n",
    "Input: \"abbaca\"\n",
    "Output: \"ca\"\n",
    "'''\n",
    "def removeDuplicates(S: str) -> str:\n",
    "    stack=[]\n",
    "    for ch in S:\n",
    "        if stack and ch==stack[-1]:\n",
    "            stack.pop()\n",
    "        else:\n",
    "            stack.append(ch)\n",
    "    return ''.join(stack)\n",
    "\n",
    "removeDuplicates(\"abbaca\")"
   ]
  },
  {
   "cell_type": "code",
   "execution_count": 27,
   "metadata": {},
   "outputs": [
    {
     "data": {
      "text/plain": [
       "'ps'"
      ]
     },
     "execution_count": 27,
     "metadata": {},
     "output_type": "execute_result"
    }
   ],
   "source": [
    "#27. Remove All Adjacent Duplicates In String II\n",
    "'''\n",
    "Given a string s, a k duplicate removal consists of choosing k adjacent and equal letters from s and removing \n",
    "them causing the left and the right side of the deleted substring to concatenate together.\n",
    "\n",
    "We repeatedly make k duplicate removals on s until we no longer can.\n",
    "'''\n",
    "def removeDuplicates(s: str, k: int) -> str:\n",
    "    stack=[]\n",
    "    count=1\n",
    "    for ch in s:\n",
    "        if stack and ch==stack[-1][0]:\n",
    "            if stack[-1][1]==k-1:\n",
    "                stack.pop()\n",
    "            else:\n",
    "                stack[-1][1]+=1\n",
    "        else:\n",
    "            stack.append([ch,count])    \n",
    "    res=\"\"\n",
    "    for k,v in stack:\n",
    "        res+=k*vs\n",
    "    return res\n",
    "\n",
    "s = \"pbbcggttciiippooaais\"; k = 2\n",
    "removeDuplicates(s,k)"
   ]
  },
  {
   "cell_type": "code",
   "execution_count": 1,
   "metadata": {},
   "outputs": [
    {
     "data": {
      "text/plain": [
       "\"s'teL ekat edoCteeL tsetnoc\""
      ]
     },
     "execution_count": 1,
     "metadata": {},
     "output_type": "execute_result"
    }
   ],
   "source": [
    "#28. Reverse Words in a String III\n",
    "'''\n",
    "Given a string, you need to reverse the order of characters in each word within a sentence while still \n",
    "preserving whitespace and initial word order.\n",
    "\n",
    "Example 1:\n",
    "Input: \"Let's take LeetCode contest\"\n",
    "Output: \"s'teL ekat edoCteeL tsetnoc\"\n",
    "'''\n",
    "def reverseWords(s: str) -> str:\n",
    "    '''\n",
    "    s=s.split(\" \")\n",
    "    ans=[]\n",
    "    for st in s:\n",
    "        ans.append(st[::-1])\n",
    "    return ' '.join(ans)\n",
    "    '''\n",
    "    \n",
    "    res = ''\n",
    "    l, r = 0, 0\n",
    "    while r < len(s):\n",
    "        if s[r] != ' ':\n",
    "            r += 1\n",
    "        elif s[r]==' ':\n",
    "            res+=s[l:r+1][::-1]\n",
    "            r+=1\n",
    "            l=r\n",
    "    res+=' '\n",
    "    res+=s[l:r+1][::-1]\n",
    "    return res[1:]\n",
    "\n",
    "s=\"Let's take LeetCode contest\"\n",
    "reverseWords(s)"
   ]
  },
  {
   "cell_type": "code",
   "execution_count": 1,
   "metadata": {},
   "outputs": [
    {
     "data": {
      "text/plain": [
       "33"
      ]
     },
     "execution_count": 1,
     "metadata": {},
     "output_type": "execute_result"
    }
   ],
   "source": [
    "#29. String to Integer (atoi)\n",
    "\n",
    "'''\n",
    "Implement the myAtoi(string s) function, which converts a string to a 32-bit signed integer.\n",
    "\n",
    "The algorithm for myAtoi(string s) is as follows:\n",
    "\n",
    "1. Read in and ignore any leading whitespace.\n",
    "2. Check if the next character (if not already at the end of the string) is '-' or '+'. Read this character in if \n",
    "it is either. This determines if the final result is negative or positive respectively.\n",
    "3. Assume the result is positive if neither is present.\n",
    "4. Read in next the characters until the next non-digit charcter or the end of the input is reached. \n",
    "The rest of the string is ignored.\n",
    "5. Convert these digits into an integer (i.e. \"123\" -> 123, \"0032\" -> 32). If no digits were read, then\n",
    "the integer is 0. Change the sign as necessary (from step 2).\n",
    "6. If the integer is out of the 32-bit signed integer range [-2**31, 2**31 - 1], then clamp the integer so that \n",
    "it remains in the range. Specifically, integers less than -2**31 should be clamped to -2**31, and integers greater \n",
    "than 2**31 - 1 should be clamped to 2**31 - 1.\n",
    "Return the integer as the final result.\n",
    "\n",
    "edge cases:\n",
    "1. \"     \": 0\n",
    "2. \"     -31\": -31\n",
    "3. \"     yo31\":0\n",
    "4. \"sushil 30\":0\n",
    "5. \"35 sushil\":35\n",
    "6. \" +-12\": 0\n",
    "7. \"-91283472332\" : -2**31\n",
    "8. \"3.14159\" : 3\n",
    "'''\n",
    "def myAtoi(s: str) -> int:\n",
    "    '''\n",
    "    #To remove leading white spaces / substitute to strip :\n",
    "    i=0\n",
    "        for ch in s:\n",
    "            if ch==\" \":\n",
    "                i+=1\n",
    "            else:\n",
    "                break\n",
    "    s=s[i:]\n",
    "    '''\n",
    "    s=s.strip(\" \")\n",
    "    if not s: return 0 \n",
    "    sign = -1 if s[0] == '-' else 1\n",
    "    if s[0] in ['-','+'] : s=s[1:]\n",
    "        \n",
    "    ans=0\n",
    "    for ch in s:\n",
    "        if ch.isdigit():\n",
    "            ans=10*ans + ord(ch)-ord('0')\n",
    "        else:\n",
    "            break\n",
    "    \n",
    "    if sign==1:\n",
    "        return ans if ans<2**31 else 2**31-1\n",
    "    else:\n",
    "        ans=ans*-1\n",
    "        return ans if ans>-2**31 else -2**31\n",
    "\n",
    "s=\"0033-42a1234\"\n",
    "myAtoi(s)"
   ]
  },
  {
   "cell_type": "code",
   "execution_count": 19,
   "metadata": {},
   "outputs": [
    {
     "name": "stdout",
     "output_type": "stream",
     "text": [
      "{'root/a': ['1.txt(abcd)', '2.txt(efgh)'], 'root/c': ['3.txt(abcd)'], 'root/c/d': ['4.txt(efgh)'], 'root': ['4.txt(efgh)']}\n",
      "defaultdict(<class 'list'>, {'abcd': ['root/a/1.txt', 'root/c/3.txt'], 'efgh': ['root/a/2.txt', 'root/c/d/4.txt', 'root/4.txt']})\n"
     ]
    },
    {
     "data": {
      "text/plain": [
       "[['root/a/1.txt', 'root/c/3.txt'],\n",
       " ['root/a/2.txt', 'root/c/d/4.txt', 'root/4.txt']]"
      ]
     },
     "execution_count": 19,
     "metadata": {},
     "output_type": "execute_result"
    }
   ],
   "source": [
    "#30. Find Duplicate File in System\n",
    "'''\n",
    "Given a list paths of directory info, including the directory path, and all the files with contents in this directory, return all the duplicate files in the file system in terms of their paths. You may return the answer in any order.\n",
    "\n",
    "A group of duplicate files consists of at least two files that have the same content.\n",
    "\n",
    "A single directory info string in the input list has the following format:\n",
    "\n",
    "\"root/d1/d2/.../dm f1.txt(f1_content) f2.txt(f2_content) ... fn.txt(fn_content)\"\n",
    "It means there are n files (f1.txt, f2.txt ... fn.txt) with content (f1_content, f2_content ... fn_content) \n",
    "respectively in the directory \"root/d1/d2/.../dm\". Note that n >= 1 and m >= 0. If m = 0, it means the directory\n",
    "is just the root directory.\n",
    "\n",
    "The output is a list of groups of duplicate file paths. For each group, it contains all the file paths of the files \n",
    "that have the same content. A file path is a string that has the following format:\n",
    "\n",
    "\"directory_path/file_name.txt\"\n",
    " \n",
    "\n",
    "Example 1:\n",
    "\n",
    "Input: paths = [\"root/a 1.txt(abcd) 2.txt(efgh)\",\"root/c 3.txt(abcd)\",\"root/c/d 4.txt(efgh)\",\"root 4.txt(efgh)\"]\n",
    "Output: [[\"root/a/2.txt\",\"root/c/d/4.txt\",\"root/4.txt\"],[\"root/a/1.txt\",\"root/c/3.txt\"]]\n",
    "'''\n",
    "import collections\n",
    "def findDuplicate(paths):\n",
    "    root_to_files ={}\n",
    "    for path in paths:\n",
    "        s = path.split(\" \")\n",
    "        root_to_files[s[0]]=s[1:]\n",
    "    print(root_to_files)\n",
    "    \n",
    "    content_to_file=defaultdict(list)\n",
    "    for root,files in root_to_files.items():\n",
    "        for file in files:\n",
    "            f,content = file.split(\"(\")\n",
    "            content_to_file[content[:-1]].append(root+\"/\"+f)\n",
    "    print(content_to_file)\n",
    "    \n",
    "    ans=[]\n",
    "    for item in content_to_file.values():\n",
    "            if len(item)>1:\n",
    "                ans.append(item)\n",
    "    return ans\n",
    "paths = [\"root/a 1.txt(abcd) 2.txt(efgh)\",\"root/c 3.txt(abcd)\",\"root/c/d 4.txt(efgh)\",\"root 4.txt(efgh)\"]\n",
    "findDuplicate(paths)"
   ]
  },
  {
   "cell_type": "code",
   "execution_count": 8,
   "metadata": {},
   "outputs": [
    {
     "data": {
      "text/plain": [
       "['TBONTB', 'OEROOE', '   T']"
      ]
     },
     "execution_count": 8,
     "metadata": {},
     "output_type": "execute_result"
    }
   ],
   "source": [
    "#30.  Print Words Vertically\n",
    "'''\n",
    "Given a string s. Return all the words vertically in the same order in which they appear in s.\n",
    "Words are returned as a list of strings, complete with spaces when is necessary. (Trailing spaces are not allowed).\n",
    "Each word would be put on only one column and that in one column there will be only one word.\n",
    "\n",
    "1. \n",
    "Input: s = \"HOW ARE YOU\"\n",
    "Output: [\"HAY\",\"ORO\",\"WEU\"]\n",
    "Explanation: Each word is printed vertically. \n",
    " \"HAY\"\n",
    " \"ORO\"\n",
    " \"WEU\"\n",
    "\n",
    "2. \n",
    "Input: s = \"TO BE OR NOT TO BE\"\n",
    "Output: [\"TBONTB\",\"OEROOE\",\"   T\"]\n",
    "Explanation: Trailing spaces is not allowed. \n",
    "\"TBONTB\"\n",
    "\"OEROOE\"\n",
    "\"   T\"]\n",
    "'''\n",
    "def printVertically(s: str):\n",
    "    s = s.split(\" \")\n",
    "    max_word =max(s,key=len)\n",
    "    max_len = len(max_word)\n",
    "    s1=[]\n",
    "    for word in s:\n",
    "        word+=\" \"* (max_len-len(word))\n",
    "        s1.append(word)\n",
    "        \n",
    "    res = [''.join([word[i] for word in s1]).rstrip() for i in range(max_len)]\n",
    "    return res\n",
    "\n",
    "s = \"TO BE OR NOT TO BE\"\n",
    "printVertically(s)"
   ]
  },
  {
   "cell_type": "code",
   "execution_count": 10,
   "metadata": {},
   "outputs": [
    {
     "data": {
      "text/plain": [
       "True"
      ]
     },
     "execution_count": 10,
     "metadata": {},
     "output_type": "execute_result"
    }
   ],
   "source": [
    "#31. Verifying an Alien Dictionary\n",
    "'''\n",
    "In an alien language, surprisingly they also use english lowercase letters, but possibly in a different order. \n",
    "The order of the alphabet is some permutation of lowercase letters.\n",
    "\n",
    "Given a sequence of words written in the alien language, and the order of the alphabet, return true if and only \n",
    "if the given words are sorted lexicographicaly in this alien language.\n",
    "\n",
    "Input: words = [\"hello\",\"leetcode\"], order = \"hlabcdefgijkmnopqrstuvwxyz\"\n",
    "Output: true\n",
    "Explanation: As 'h' comes before 'l' in this language, then the sequence is sorted.\n",
    "\n",
    "Input: words = [\"word\",\"world\",\"row\"], order = \"worldabcefghijkmnpqstuvxyz\"\n",
    "Output: false\n",
    "Explanation: As 'd' comes after 'l' in this language, then words[0] > words[1], hence the sequence is unsorted.\n",
    "'''\n",
    "def isAlienSorted(words, order):\n",
    "    dic={}\n",
    "    for i,ch in enumerate(order):\n",
    "        dic[ch]=i\n",
    "        \n",
    "    for i in range(len(words)-1):\n",
    "        for j in range(len(words[i])):\n",
    "            if j>= len(words[i+1]):\n",
    "                return False\n",
    "            if dic[words[i][j]]>dic[words[i+1][j]]:\n",
    "                    return False\n",
    "            elif dic[words[i][j]]<dic[words[i+1][j]]:\n",
    "                break\n",
    "            else:\n",
    "                continue\n",
    "    return True\n",
    "\n",
    "words = [\"app\",\"apple\"]; order = \"abcdefghijklmnopqrstuvwxyz\" \n",
    "isAlienSorted(words, order)"
   ]
  },
  {
   "cell_type": "code",
   "execution_count": 12,
   "metadata": {},
   "outputs": [
    {
     "data": {
      "text/plain": [
       "True"
      ]
     },
     "execution_count": 12,
     "metadata": {},
     "output_type": "execute_result"
    }
   ],
   "source": [
    "#32. Determine if Two Strings Are Close\n",
    "'''\n",
    "wo strings are considered close if you can attain one from the other using the following operations:\n",
    "\n",
    "Operation 1: Swap any two existing characters.\n",
    "For example, abcde -> aecdb\n",
    "Operation 2: Transform every occurrence of one existing character into another existing character, \n",
    "and do the same with the other character.\n",
    "For example, aacabb -> bbcbaa (all a's turn into b's, and all b's turn into a's)\n",
    "You can use the operations on either string as many times as necessary.\n",
    "\n",
    "Given two strings, word1 and word2, return true if word1 and word2 are close, and false otherwise.\n",
    "\n",
    "\n",
    "Input: word1 = \"abc\", word2 = \"bca\"\n",
    "Output: true\n",
    "Explanation: You can attain word2 from word1 in 2 operations.\n",
    "Apply Operation 1: \"abc\" -> \"acb\"\n",
    "Apply Operation 1: \"acb\" -> \"bca\"\n",
    "\n",
    "Input: word1 = \"cabbba\", word2 = \"abbccc\"\n",
    "Output: true\n",
    "Explanation: You can attain word2 from word1 in 3 operations.\n",
    "Apply Operation 1: \"cabbba\" -> \"caabbb\"\n",
    "Apply Operation 2: \"caabbb\" -> \"baaccc\"\n",
    "Apply Operation 2: \"baaccc\" -> \"abbccc\n",
    "'''\n",
    "from collections import defaultdict\n",
    "def closeStrings(word1: str, word2: str) -> bool:\n",
    "    if len(word1)!=len(word2): return False\n",
    "    \n",
    "    dic1=defaultdict(int)\n",
    "    dic2=defaultdict(int)\n",
    "    \n",
    "    for ch in word1:\n",
    "        dic1[ch]+=1\n",
    "        \n",
    "    for ch in word2:\n",
    "        dic2[ch]+=1\n",
    "        \n",
    "    return sorted(dic1.values())==sorted(dic2.values()) and dic1.keys() == dic2.keys()\n",
    "\n",
    "word1 = \"cabbba\";word2 = \"abbccc\"\n",
    "closeStrings(word1,word2)"
   ]
  },
  {
   "cell_type": "code",
   "execution_count": 21,
   "metadata": {},
   "outputs": [
    {
     "data": {
      "text/plain": [
       "[True, False, True, False, False]"
      ]
     },
     "execution_count": 21,
     "metadata": {},
     "output_type": "execute_result"
    }
   ],
   "source": [
    "#33. Camelcase Matching\n",
    "'''\n",
    "A query word matches a given pattern if we can insert lowercase letters to the pattern word so that it equals the \n",
    "query. (We may insert each character at any position, and may insert 0 characters.)\n",
    "\n",
    "Given a list of queries, and a pattern, return an answer list of booleans, where answer[i] is true if and only if\n",
    "queries[i] matches the pattern.\n",
    "\n",
    "\n",
    "Example 1:\n",
    "\n",
    "Input: queries = [\"FooBar\",\"FooBarTest\",\"FootBall\",\"FrameBuffer\",\"ForceFeedBack\"], pattern = \"FB\"\n",
    "Output: [true,false,true,true,false]\n",
    "Explanation: \n",
    "\"FooBar\" can be generated like this \"F\" + \"oo\" + \"B\" + \"ar\".\n",
    "\"FootBall\" can be generated like this \"F\" + \"oot\" + \"B\" + \"all\".\n",
    "\"FrameBuffer\" can be generated like this \"F\" + \"rame\" + \"B\" + \"uffer\".\n",
    "\n",
    "Example 2:\n",
    "\n",
    "Input: queries = [\"FooBar\",\"FooBarTest\",\"FootBall\",\"FrameBuffer\",\"ForceFeedBack\"], pattern = \"FoBa\"\n",
    "Output: [true,false,true,false,false]\n",
    "Explanation: \n",
    "\"FooBar\" can be generated like this \"Fo\" + \"o\" + \"Ba\" + \"r\".\n",
    "\"FootBall\" can be generated like this \"Fo\" + \"ot\" + \"Ba\" + \"ll\".\n",
    "\n",
    "'''\n",
    "def camelMatch(queries, pattern):\n",
    "    ans=[]\n",
    "    for query in queries:\n",
    "        j = 0\n",
    "        flag=True\n",
    "        for ch in query:\n",
    "            if j < len(pattern) and ch == pattern[j]:\n",
    "                j += 1\n",
    "            elif ch.isupper():\n",
    "                flag=False\n",
    "                ans.append(False)\n",
    "                break\n",
    "        if flag: ans.append(j == len(pattern))\n",
    "    return ans\n",
    "\n",
    "queries=[\"FooBar\",\"FooBarTest\",\"FootBall\",\"FrameBuffer\",\"ForceFeedBack\"]; pattern = \"FoBa\"\n",
    "camelMatch(queries, pattern)"
   ]
  },
  {
   "cell_type": "code",
   "execution_count": 26,
   "metadata": {},
   "outputs": [
    {
     "data": {
      "text/plain": [
       "'leetcode'"
      ]
     },
     "execution_count": 26,
     "metadata": {},
     "output_type": "execute_result"
    }
   ],
   "source": [
    "#34.  Shuffle String\n",
    "'''\n",
    "Given a string s and an integer array indices of the same length.\n",
    "\n",
    "The string s will be shuffled such that the character at the ith position moves to indices[i] in the shuffled string.\n",
    "\n",
    "Return the shuffled string.\n",
    "\n",
    "Input: s = \"codeleet\", indices = [4,5,6,7,0,2,1,3]\n",
    "Output: \"leetcode\"\n",
    "Explanation: As shown, \"codeleet\" becomes \"leetcode\" after shuffling.\n",
    "'''\n",
    "def restoreString(s,indices) -> str:\n",
    "    '''\n",
    "    dic={}\n",
    "    i=0\n",
    "    for ind in indices:\n",
    "        dic[ind]=s[i]\n",
    "        i+=1\n",
    "    res=\"\"\n",
    "    for i in range(len(s)):\n",
    "        res+=dic[i]\n",
    "    return res\n",
    "    '''\n",
    "    res=[\"\"]*len(s)\n",
    "    for i,v in enumerate(s):\n",
    "        res[indices[i]] = s[i]\n",
    "    return \"\".join(res)\n",
    "\n",
    "s = \"codeleet\";indices = [4,5,6,7,0,2,1,3]\n",
    "restoreString(s,indices)"
   ]
  },
  {
   "cell_type": "code",
   "execution_count": 1,
   "metadata": {},
   "outputs": [
    {
     "data": {
      "text/plain": [
       "True"
      ]
     },
     "execution_count": 1,
     "metadata": {},
     "output_type": "execute_result"
    }
   ],
   "source": [
    "#35. Is Subsequence\n",
    "'''\n",
    "Given two strings s and t, return true if s is a subsequence of t, or false otherwise.\n",
    "\n",
    "A subsequence of a string is a new string that is formed from the original string by deleting some (can be none) \n",
    "of the characters without disturbing the relative positions of the remaining characters. (i.e., \"ace\" is a subsequence\n",
    "of \"abcde\" while \"aec\" is not).\n",
    "\n",
    "Example 1:\n",
    "Input: s = \"abc\", t = \"ahbgdc\"\n",
    "Output: true\n",
    "\n",
    "Example 2:\n",
    "Input: s = \"axc\", t = \"ahbgdc\"\n",
    "Output: false\n",
    "'''\n",
    "def isSubsequence(s: str, t: str) -> bool:\n",
    "    i=j=0\n",
    "    while i<len(s) and j<len(t):\n",
    "        if s[i]==t[j]:\n",
    "            i+=1\n",
    "            j+=1\n",
    "        else:\n",
    "            j+=1\n",
    "    if i!=len(s): return False\n",
    "    return True\n",
    "\n",
    "s = \"abc\"; t = \"ahbgdc\"\n",
    "isSubsequence(s,t)"
   ]
  },
  {
   "cell_type": "code",
   "execution_count": 1,
   "metadata": {},
   "outputs": [
    {
     "data": {
      "text/plain": [
       "'ababac'"
      ]
     },
     "execution_count": 1,
     "metadata": {},
     "output_type": "execute_result"
    }
   ],
   "source": [
    "#36 Reorganize String\n",
    "'''\n",
    "Given a string s, rearrange the characters of s so that any two adjacent characters are not the same.\n",
    "\n",
    "Return any possible rearrangement of s or return \"\" if not possible.\n",
    "\n",
    "\n",
    "Input: s = \"aab\"\n",
    "Output: \"aba\"\n",
    "\n",
    "Input: s = \"aaab\"\n",
    "Output: \"\"\n",
    "'''\n",
    "def reorganizeString(s: str) -> str:\n",
    "    import heapq,collections\n",
    "    dic = collections.Counter(s)\n",
    "    \n",
    "    heap=[]\n",
    "    for k,v in dic.items():\n",
    "        heapq.heappush(heap,(-v,k))\n",
    "\n",
    "    res=\"\"\n",
    "    while len(heap)>1:\n",
    "        count1,ch1 = heapq.heappop(heap) \n",
    "        count2,ch2 = heapq.heappop(heap)\n",
    "        res+=ch1+ch2\n",
    "        if abs(count1+1)>0:\n",
    "            heapq.heappush(heap,(count1+1,ch1))   #+1 because count is negative\n",
    "        if abs(count2+1)>0:\n",
    "            heapq.heappush(heap,(count2+1,ch2))\n",
    "\n",
    "    if not heap: return res \n",
    "    count,ch = heapq.heappop(heap)\n",
    "    return \"\" if abs(count)>1 else res + ch*abs(count)\n",
    "\n",
    "\n",
    "s = \"caaabb\"\n",
    "reorganizeString(s)"
   ]
  },
  {
   "cell_type": "code",
   "execution_count": null,
   "metadata": {},
   "outputs": [],
   "source": []
  }
 ],
 "metadata": {
  "kernelspec": {
   "display_name": "Python 3",
   "language": "python",
   "name": "python3"
  },
  "language_info": {
   "codemirror_mode": {
    "name": "ipython",
    "version": 3
   },
   "file_extension": ".py",
   "mimetype": "text/x-python",
   "name": "python",
   "nbconvert_exporter": "python",
   "pygments_lexer": "ipython3",
   "version": "3.8.5"
  }
 },
 "nbformat": 4,
 "nbformat_minor": 4
}
