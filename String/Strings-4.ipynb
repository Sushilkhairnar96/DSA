{
 "cells": [
  {
   "cell_type": "code",
   "execution_count": 1,
   "metadata": {},
   "outputs": [
    {
     "data": {
      "text/plain": [
       "True"
      ]
     },
     "execution_count": 1,
     "metadata": {},
     "output_type": "execute_result"
    }
   ],
   "source": [
    "#LC459. Repeated Substring Pattern\n",
    "'''\n",
    "Example 1:\n",
    "\n",
    "Input: \"abab\"\n",
    "Output: True\n",
    "Explanation: It's the substring \"ab\" twice.\n",
    "\n",
    "Input: \"aba\"\n",
    "Output: False\n",
    "'''\n",
    "\n",
    "def repeatedSubstringPattern(s):\n",
    "    '''\n",
    "    s1= \"\"\n",
    "    for i in range(len(s)//2):\n",
    "        s1+=s[i]\n",
    "        mul = len(s)//len(s1)\n",
    "        if s1*mul==s:\n",
    "            return True\n",
    "    return False\n",
    "    '''\n",
    "    for i in range(1,(len(s)//2)+1):\n",
    "        x=s[:i]\n",
    "        if len(s)%len(x)==0:\n",
    "            mul=len(s)//len(x)\n",
    "            if(x*mul==s):\n",
    "                return True\n",
    "    return False\n",
    "\n",
    "s=\"abab\"\n",
    "repeatedSubstringPattern(s)"
   ]
  },
  {
   "cell_type": "code",
   "execution_count": 2,
   "metadata": {},
   "outputs": [
    {
     "name": "stdout",
     "output_type": "stream",
     "text": [
      "pattern_a word_dog\n",
      "pattern_b word_cat\n",
      "pattern_b word_cat\n",
      "pattern_a word_dog\n",
      "{'pattern_a': 0, 'word_dog': 0, 'pattern_b': 1, 'word_cat': 1}\n"
     ]
    },
    {
     "data": {
      "text/plain": [
       "True"
      ]
     },
     "execution_count": 2,
     "metadata": {},
     "output_type": "execute_result"
    }
   ],
   "source": [
    "#LC290. Word Pattern\n",
    "'''\n",
    "Given a pattern and a string str, find if str follows the same pattern.\n",
    "\n",
    "Here follow means a full match, such that there is a bijection between a letter in pattern and a non-empty word in str.\n",
    "\n",
    "Example 1:\n",
    "\n",
    "Input: pattern = \"abba\", str = \"dog cat cat dog\"\n",
    "Output: true\n",
    "Example 2:\n",
    "\n",
    "Input:pattern = \"abba\", str = \"dog cat cat fish\"\n",
    "Output: false\n",
    "\n",
    "Solution => idea is to have a single dictionary for both pattern and words as keys ; and index as values. \n",
    "If there's mismatch in the index return False\n",
    "'''\n",
    "def wordPattern(pattern: str, words: str):\n",
    "    dic={}\n",
    "    words=words.split(\" \")\n",
    "    if len(pattern) != len(words):\n",
    "        return False\n",
    "    \n",
    "    for i in range(len(words)):\n",
    "        pattern_key = f'pattern_{pattern[i]}'  \n",
    "        words_key=f'word_{words[i]}'           \n",
    "        \n",
    "        if pattern_key not in dic:\n",
    "            dic[pattern_key]=i\n",
    "        if words_key not in dic:\n",
    "            dic[words_key]=i\n",
    "    \n",
    "        if dic[pattern_key]!=dic[words_key]:\n",
    "            return False\n",
    "        print(pattern_key,words_key)\n",
    "    print(dic)\n",
    "    return True\n",
    "pattern = \"abba\"; words = \"dog cat cat dog\"\n",
    "wordPattern(pattern,words)"
   ]
  },
  {
   "cell_type": "code",
   "execution_count": 3,
   "metadata": {},
   "outputs": [
    {
     "data": {
      "text/plain": [
       "'bacdfeg'"
      ]
     },
     "execution_count": 3,
     "metadata": {},
     "output_type": "execute_result"
    }
   ],
   "source": [
    "#LC541. Reverse String II\n",
    "'''\n",
    "Given a string and an integer k, you need to reverse the first k characters for every 2k characters counting \n",
    "from the start of the string. If there are less than k characters left, reverse all of them. If there are less \n",
    "than 2k but greater than or equal to k characters, then reverse the first k characters and left the other as original.\n",
    "Example:\n",
    "Input: s = \"abcdefg\", k = 2\n",
    "Output: \"bacdfeg\"\n",
    "'''\n",
    "def reverseStr(s: str, k: int):\n",
    "    ans=\"\"\n",
    "    for i in range(0,len(s),2*k):\n",
    "        sub = s[i:i+2*k]\n",
    "        ans+=s[i:i+k][::-1]+s[i+k:i+2*k]\n",
    "    return ans\n",
    "\n",
    "s = \"abcdefg\"; k = 2\n",
    "reverseStr(s,k)"
   ]
  },
  {
   "cell_type": "code",
   "execution_count": 4,
   "metadata": {},
   "outputs": [
    {
     "data": {
      "text/plain": [
       "'leotcede'"
      ]
     },
     "execution_count": 4,
     "metadata": {},
     "output_type": "execute_result"
    }
   ],
   "source": [
    "#LC345. Reverse Vowels of a String\n",
    "'''\n",
    "Example 1:\n",
    "\n",
    "Input: \"hello\"\n",
    "Output: \"holle\"\n",
    "Example 2:\n",
    "\n",
    "Input: \"leetcode\"\n",
    "Output: \"leotcede\"\n",
    "'''\n",
    "def reverseVowels(s: str) -> str:\n",
    "    s=list(s)\n",
    "    l=0;r=len(s)-1\n",
    "    vowels='a e i o u A E I O U'.split(\" \")\n",
    "    while l<r:\n",
    "        if s[l] in vowels and s[r] in vowels:\n",
    "            s[l],s[r]=s[r],s[l]\n",
    "            l+=1\n",
    "            r-=1\n",
    "        elif s[l] not in vowels:\n",
    "            l+=1\n",
    "        else:\n",
    "            r-=1\n",
    "    return ''.join(s)\n",
    "s=\"leetcode\"\n",
    "reverseVowels(s)"
   ]
  },
  {
   "cell_type": "code",
   "execution_count": 5,
   "metadata": {},
   "outputs": [
    {
     "data": {
      "text/plain": [
       "3"
      ]
     },
     "execution_count": 5,
     "metadata": {},
     "output_type": "execute_result"
    }
   ],
   "source": [
    "#LC3. Longest Substring Without Repeating Characters\n",
    "'''\n",
    "Given a string s, find the length of the longest substring without repeating characters.\n",
    "\n",
    "Input: s = \"abcabcbb\"\n",
    "Output: 3\n",
    "Explanation: The answer is \"abc\", with the length of 3.\n",
    "\n",
    "Input: s = \"bbbbb\"\n",
    "Output: 1\n",
    "Explanation: The answer is \"b\", with the length of 1.\n",
    "'''\n",
    "\n",
    "s = \"sushsu\"\n",
    "l=r=0\n",
    "chars=set()\n",
    "longest=0\n",
    "\n",
    "while l<len(s) and r<len(s):\n",
    "    if s[r] not in chars:\n",
    "        chars.add(s[r])\n",
    "        r+=1\n",
    "        longest=max(longest,r-l)\n",
    "    else:\n",
    "        chars.remove(s[l])\n",
    "        l+=1\n",
    "longest\n"
   ]
  },
  {
   "cell_type": "code",
   "execution_count": 6,
   "metadata": {},
   "outputs": [
    {
     "data": {
      "text/plain": [
       "['a', 'a', 'b', 'b', 'd', 'aba', 'bab']"
      ]
     },
     "execution_count": 6,
     "metadata": {},
     "output_type": "execute_result"
    }
   ],
   "source": [
    "x= ['a', 'a', 'aba', 'b', 'b', 'bab', 'd']\n",
    "sorted(x,key=lambda i: len(i))"
   ]
  },
  {
   "cell_type": "code",
   "execution_count": 7,
   "metadata": {},
   "outputs": [
    {
     "data": {
      "text/plain": [
       "'bcb'"
      ]
     },
     "execution_count": 7,
     "metadata": {},
     "output_type": "execute_result"
    }
   ],
   "source": [
    "#LCS :\n",
    "'''\n",
    "def LCS(x,y,m,n):\n",
    "    if m==0 or n==0 :\n",
    "        return 0\n",
    "    if x[m-1]==y[n-1]:\n",
    "        return 1 + LCS(x,y,m-1,n-1)\n",
    "    else:\n",
    "        return max(LCS(x,y,m-1,n),LCS(x,y,m,n-1))\n",
    "'''\n",
    "def LCS(x,y,m,n):\n",
    "    dp = [[0 for j in range(n+1)] for i in range(m+1)]\n",
    "    if m==0 or n==0 : return 0\n",
    "    for i in range(1,m+1):\n",
    "        for j in range(1,n+1):\n",
    "            if x[i-1]==y[j-1]:\n",
    "                dp[i][j]=1 + dp[i-1][j-1]\n",
    "            else:\n",
    "                dp[i][j] = max(dp[i-1][j],dp[i][j-1])\n",
    "    return dp\n",
    "\n",
    "def printLCS(dp,x,y):\n",
    "    i,j = len(x),len(y)\n",
    "    ans=\"\"\n",
    "    while i>0 and j>0:\n",
    "        if x[i-1]==y[j-1]:\n",
    "            ans+=x[i-1]\n",
    "            i-=1\n",
    "            j-=1\n",
    "        else:\n",
    "            if dp[i-1][j]>dp[i][j-1]:\n",
    "                i-=1\n",
    "            else:\n",
    "                j-=1\n",
    "    return ans[::-1]\n",
    "\n",
    "def LPS(x):\n",
    "    return LCS(x,x[::-1],len(x),len(x))\n",
    "\n",
    "x= \"abcde\" ; y=\"acdwfe\"  \n",
    "m=len(x)\n",
    "n=len(y)\n",
    "dp = LCS(x,y,m,n)\n",
    "printLCS(dp,x,y)\n",
    "x=\"abcbe\"\n",
    "dp1=LPS(x)\n",
    "printLCS(dp1,x,x[::-1])"
   ]
  },
  {
   "cell_type": "code",
   "execution_count": 8,
   "metadata": {},
   "outputs": [
    {
     "name": "stdout",
     "output_type": "stream",
     "text": [
      "aacdefcaa aacfedcaa\n"
     ]
    },
    {
     "data": {
      "text/plain": [
       "'aac'"
      ]
     },
     "execution_count": 8,
     "metadata": {},
     "output_type": "execute_result"
    }
   ],
   "source": [
    "def printLCSubstring(x,y,m,n): \n",
    "    dp =[[0 for j in range(n+1)] for i in range(m+1)]\n",
    "    if m==0 or n==0 : return 0\n",
    "    length=0\n",
    "    for i in range(1,m+1):\n",
    "        for j in range(1,n+1):\n",
    "            if(x[i-1]==y[j-1]):\n",
    "                dp[i][j]= 1 + dp[i-1][j-1]\n",
    "                if length<dp[i][j]:\n",
    "                    row=i            #for finding the position from where to travese back to find string\n",
    "                    col=j\n",
    "                    length=dp[i][j]\n",
    "            else:\n",
    "                dp[i][j] = 0\n",
    "    if length == 0: return\n",
    "    res=\"\"\n",
    "    while dp[row][col]!=0:\n",
    "        res+=x[row-1]\n",
    "        row-=1\n",
    "        col-=1\n",
    "    return res[::-1]\n",
    "    \n",
    "x=\"aacdefcaa\"\n",
    "y=x[::-1]\n",
    "print(x,y)\n",
    "printLCSubstring(x,y,len(x),len(y))"
   ]
  },
  {
   "cell_type": "code",
   "execution_count": 9,
   "metadata": {},
   "outputs": [
    {
     "name": "stdout",
     "output_type": "stream",
     "text": [
      "11\n",
      "21\n",
      "1211\n",
      "111221\n"
     ]
    },
    {
     "data": {
      "text/plain": [
       "'111221'"
      ]
     },
     "execution_count": 9,
     "metadata": {},
     "output_type": "execute_result"
    }
   ],
   "source": [
    "#LC38. Count and Say\n",
    "'''\n",
    "The count-and-say sequence is the sequence of integers with the first five terms as following:\n",
    "\n",
    "1.     1\n",
    "2.     11\n",
    "3.     21\n",
    "4.     1211\n",
    "5.     111221\n",
    "\n",
    "Input: 4\n",
    "Output: \"1211\"\n",
    "'''\n",
    "def countAndSay(n):\n",
    "    def helper(s):\n",
    "        res=\"\"\n",
    "        count=1\n",
    "        \n",
    "        for i in range(len(s)-1):\n",
    "            if s[i]==s[i+1]:\n",
    "                count+=1\n",
    "            else:\n",
    "                res+=str(count)+s[i]\n",
    "        res+=str(count)+s[len(s)-1]\n",
    "        return res\n",
    "    \n",
    "    ans=\"1\"\n",
    "    for i in range(n-1):\n",
    "        ans=helper(ans)\n",
    "        print(ans)\n",
    "    return ans\n",
    "\n",
    "countAndSay(5)"
   ]
  },
  {
   "cell_type": "code",
   "execution_count": 10,
   "metadata": {},
   "outputs": [
    {
     "data": {
      "text/plain": [
       "True"
      ]
     },
     "execution_count": 10,
     "metadata": {},
     "output_type": "execute_result"
    }
   ],
   "source": [
    "#844. Backspace String Compare\n",
    "'''\n",
    "Given two strings S and T, return if they are equal when both are typed into empty text editors. # means a backspace character.\n",
    "\n",
    "Note that after backspacing an empty text, the text will continue empty.\n",
    "\n",
    "Input: S = \"ab#c\", T = \"ad#c\"\n",
    "Output: true\n",
    "Explanation: Both S and T become \"ac\".\n",
    "\n",
    "Input: S = \"ab##\", T = \"c#d#\"\n",
    "Output: true\n",
    "Explanation: Both S and T become \"\".\n",
    "'''\n",
    "def backspaceCompare(S: str, T: str) -> bool:\n",
    "    def helper(s):\n",
    "        stack =[]\n",
    "        for i in s:\n",
    "            if i!='#':\n",
    "                stack.append(i)\n",
    "            else:\n",
    "                if stack:\n",
    "                    stack.pop()\n",
    "                else:\n",
    "                    pass\n",
    "        return ''.join(stack)\n",
    "    return helper(S)==helper(T)\n",
    "S = \"ab#c\"; T = \"ad#c\"\n",
    "backspaceCompare(S,T)"
   ]
  },
  {
   "cell_type": "code",
   "execution_count": 11,
   "metadata": {},
   "outputs": [
    {
     "data": {
      "text/plain": [
       "['l', 'l', 'e']"
      ]
     },
     "execution_count": 11,
     "metadata": {},
     "output_type": "execute_result"
    }
   ],
   "source": [
    "#LC1002. Find Common Characters\n",
    "'''\n",
    "given an array A of strings made only from lowercase letters, return a list of all characters that \n",
    "show up in all strings within the list (including duplicates).  For example, if a character occurs \n",
    "3 times in all strings but not 4 times, you need to include that character three times in the final answer.\n",
    "\n",
    "Input: [\"bella\",\"label\",\"roller\"]\n",
    "Output: [\"e\",\"l\",\"l\"]\n",
    "\n",
    "Input: [\"cool\",\"lock\",\"cook\"]\n",
    "Output: [\"c\",\"o\"]\n",
    "'''\n",
    "\n",
    "def commonChars(A):\n",
    "    '''\n",
    "    arr= list(A[0])\n",
    "    for word in A:\n",
    "        new_arr=[]\n",
    "        for ch in word:\n",
    "            if ch in arr:\n",
    "                new_arr.append(ch)\n",
    "                arr.remove(ch)\n",
    "        arr=new_arr\n",
    "    return arr\n",
    "    '''\n",
    "    ans=[]\n",
    "    keys= set(A[0])\n",
    "    for ch in keys:\n",
    "        count = min([word.count(ch) for word in A])\n",
    "        if count:\n",
    "            ans.extend(ch*count)\n",
    "    return ans\n",
    "A=[\"bella\",\"label\",\"roller\"]\n",
    "commonChars(A)"
   ]
  },
  {
   "cell_type": "code",
   "execution_count": 12,
   "metadata": {},
   "outputs": [
    {
     "data": {
      "text/plain": [
       "True"
      ]
     },
     "execution_count": 12,
     "metadata": {},
     "output_type": "execute_result"
    }
   ],
   "source": [
    "#205. Isomorphic Strings\n",
    "'''\n",
    "Given two strings s and t, determine if they are isomorphic.\n",
    "\n",
    "Two strings are isomorphic if the characters in s can be replaced to get t.\n",
    "\n",
    "All occurrences of a character must be replaced with another character while preserving the order of characters. No two characters may map to the same character but a character may map to itself.\n",
    "\n",
    "Input: s = \"egg\", t = \"add\"\n",
    "Output: true\n",
    "\n",
    "Input: s = \"paper\", t = \"title\"\n",
    "Output: true\n",
    "\n",
    "Input: s = \"foo\", t = \"bar\"\n",
    "Output: false\n",
    "'''\n",
    "\n",
    "def isIsomorphic(s: str, t: str) -> bool:\n",
    "    if len(s)!=len(t):\n",
    "        return False\n",
    "    dic={}\n",
    "    for i in range(len(s)):\n",
    "        pattern1 = f's_{s[i]}'\n",
    "        pattern2 = f't_{t[i]}'\n",
    "        \n",
    "        if pattern1 not in dic:\n",
    "            dic[pattern1] = i\n",
    "\n",
    "        if pattern2 not in dic:\n",
    "            dic[pattern2] = i\n",
    "        \n",
    "        if dic[pattern1]!=dic[pattern2]:\n",
    "            return False\n",
    "    return True\n",
    "\n",
    "s = \"paper\" ; t = \"title\"\n",
    "isIsomorphic(s,t)"
   ]
  },
  {
   "cell_type": "code",
   "execution_count": null,
   "metadata": {},
   "outputs": [],
   "source": []
  },
  {
   "cell_type": "code",
   "execution_count": null,
   "metadata": {},
   "outputs": [],
   "source": []
  },
  {
   "cell_type": "code",
   "execution_count": null,
   "metadata": {},
   "outputs": [],
   "source": []
  },
  {
   "cell_type": "code",
   "execution_count": null,
   "metadata": {},
   "outputs": [],
   "source": []
  },
  {
   "cell_type": "code",
   "execution_count": null,
   "metadata": {},
   "outputs": [],
   "source": []
  }
 ],
 "metadata": {
  "kernelspec": {
   "display_name": "Python 3",
   "language": "python",
   "name": "python3"
  },
  "language_info": {
   "codemirror_mode": {
    "name": "ipython",
    "version": 3
   },
   "file_extension": ".py",
   "mimetype": "text/x-python",
   "name": "python",
   "nbconvert_exporter": "python",
   "pygments_lexer": "ipython3",
   "version": "3.8.5"
  }
 },
 "nbformat": 4,
 "nbformat_minor": 2
}
