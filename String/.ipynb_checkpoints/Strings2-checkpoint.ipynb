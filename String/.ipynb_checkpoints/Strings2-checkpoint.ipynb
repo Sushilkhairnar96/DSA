{
 "cells": [
  {
   "cell_type": "code",
   "execution_count": 1,
   "metadata": {},
   "outputs": [],
   "source": [
    "#LC125. Valid Palindrome\n",
    "'''\n",
    "Given a string, determine if it is a palindrome, considering only alphanumeric characters and ignoring cases.\n",
    "\n",
    "Input: \"A man, a plan, a canal: Panama\"\n",
    "Output: true\n",
    "'''\n",
    "s= \"A man, a plan, a canal: Panama\"\n",
    "\n",
    "s=s.lower()\n",
    "l,r=0,len(s)-1\n",
    "'''\n",
    "s=s.lower()\n",
    "s1=\"\"\n",
    "for i in s:\n",
    "    if i.isalnum():\n",
    "        s1+=i\n",
    "return s1==s1[::-1]\n",
    "'''\n",
    "while l<r:\n",
    "    if s[l].isalnum() and s[r].isalnum():\n",
    "        if s[l]==s[r]:\n",
    "            l+=1\n",
    "            r-=1\n",
    "        else:\n",
    "            print(False)\n",
    "            break\n",
    "    if not s[l].isalnum():\n",
    "        l+=1\n",
    "    if not s[r].isalnum():\n",
    "        r-=1"
   ]
  },
  {
   "cell_type": "code",
   "execution_count": 3,
   "metadata": {},
   "outputs": [
    {
     "data": {
      "text/plain": [
       "True"
      ]
     },
     "execution_count": 3,
     "metadata": {},
     "output_type": "execute_result"
    }
   ],
   "source": [
    "#LC680. Valid Palindrome II\n",
    "'''\n",
    "Given a non-empty string s, you may delete at most one character. Judge whether you can make it a palindrome.\n",
    "Input: \"abca\"\n",
    "Output: True\n",
    "Explanation: You could delete the character 'c'.\n",
    "'''\n",
    "def validPalindrome(s: str) -> bool:\n",
    "    l, r = 0, len(s)-1\n",
    "    while l < r:\n",
    "        if s[l] == s[r]:\n",
    "            l += 1\n",
    "            r -= 1\n",
    "        else:\n",
    "            tmp1 = s[:l]+s[l+1:]\n",
    "            tmp2 = s[:r]+s[r+1:]\n",
    "            return tmp1 == tmp1[::-1] or tmp2 == tmp2[::-1]\n",
    "    return True\n",
    "s=\"cbbcc\"\n",
    "validPalindrome(s)"
   ]
  },
  {
   "cell_type": "code",
   "execution_count": 44,
   "metadata": {},
   "outputs": [
    {
     "name": "stdout",
     "output_type": "stream",
     "text": [
      "['(', '(', '(', ')', ')', ')']\n"
     ]
    },
    {
     "data": {
      "text/plain": [
       "[]"
      ]
     },
     "execution_count": 44,
     "metadata": {},
     "output_type": "execute_result"
    }
   ],
   "source": [
    "#LC678. Valid Parenthesis String\n",
    "'''\n",
    "Given a string containing only three types of characters: '(', ')' and '*', write a function to check whether this string\n",
    "is valid. We define the validity of a string by these rules:\n",
    "\n",
    "Any left parenthesis '(' must have a corresponding right parenthesis ')'.\n",
    "Any right parenthesis ')' must have a corresponding left parenthesis '('.\n",
    "Left parenthesis '(' must go before the corresponding right parenthesis ')'.\n",
    "'*' could be treated as a single right parenthesis ')' or a single left parenthesis '(' or an empty string.\n",
    "An empty string is also valid.\n",
    "\n",
    "Input: \"(*)\"\n",
    "Output: True\n",
    "\n",
    "Input: \"(*))\"\n",
    "Output: True\n",
    "'''\n",
    "\n",
    "s=\"(((******)))\"\n",
    "if s.count('(')==s.count(')'):\n",
    "    s=s.replace('*','')\n",
    "elif s.count('(') > s.count(')'):\n",
    "    f=')'\n",
    "else:\n",
    "    f='('\n",
    "s=list(s)\n",
    "stack=[s[0]]\n",
    "dic={')':'('}\n",
    "print(s)\n",
    "for i in range(1,len(s)):\n",
    "    if s[i]=='*':\n",
    "        s[i]=f\n",
    "    try:\n",
    "        if stack and stack[-1]==dic[s[i]]:\n",
    "            stack.pop()\n",
    "        else:\n",
    "            stack.append(s[i])\n",
    "    except:\n",
    "        stack.append(s[i])\n",
    "stack"
   ]
  },
  {
   "cell_type": "code",
   "execution_count": 9,
   "metadata": {},
   "outputs": [
    {
     "name": "stdout",
     "output_type": "stream",
     "text": [
      "10 10\n",
      "1 9\n",
      "50 59\n"
     ]
    },
    {
     "data": {
      "text/plain": [
       "59"
      ]
     },
     "execution_count": 9,
     "metadata": {},
     "output_type": "execute_result"
    }
   ],
   "source": [
    "#LC13. Roman to Integer\n",
    "def romanToInt(s) -> int:\n",
    "    res, prev = 0, 0\n",
    "    dic = {'I':1, 'V':5, 'X':10, 'L':50, 'C':100, 'D':500, 'M':1000}\n",
    "    for i in s[::-1]:          # rev the s\n",
    "        if dic[i] >= prev:\n",
    "            res += dic[i]     # sum the value iff previous value same or more\n",
    "        else:\n",
    "            res -= dic[i]     # substract when value is like \"IV\" --> 5-1, \"IX\" --> 10 -1 etc \n",
    "        prev = dic[i]\n",
    "        print(prev,res)\n",
    "    return res\n",
    "\n",
    "romanToInt(\"LIX\") "
   ]
  },
  {
   "cell_type": "code",
   "execution_count": null,
   "metadata": {},
   "outputs": [],
   "source": []
  }
 ],
 "metadata": {
  "kernelspec": {
   "display_name": "Python 3",
   "language": "python",
   "name": "python3"
  },
  "language_info": {
   "codemirror_mode": {
    "name": "ipython",
    "version": 3
   },
   "file_extension": ".py",
   "mimetype": "text/x-python",
   "name": "python",
   "nbconvert_exporter": "python",
   "pygments_lexer": "ipython3",
   "version": "3.8.5"
  }
 },
 "nbformat": 4,
 "nbformat_minor": 2
}
