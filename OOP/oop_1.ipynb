{
 "cells": [
  {
   "cell_type": "code",
   "execution_count": 5,
   "metadata": {},
   "outputs": [
    {
     "name": "stdout",
     "output_type": "stream",
     "text": [
      "Sushil Khairnar\n",
      "Sushil Khairnar\n",
      "50000\n",
      "52500\n",
      "{'first': 'Sushil', 'last': 'Khairnar', 'email': 'Sushil.Khairnar@email.com', 'pay': 52500}\n",
      "{'first': 'Sushil', 'last': 'Khairnar', 'email': 'Sushil.Khairnar@email.com', 'pay': 57750, 'raise_amount': 1.1}\n",
      "2\n"
     ]
    }
   ],
   "source": [
    "class Employee:\n",
    "    num_of_emps=0\n",
    "    raise_amount=1.05      # Class variable\n",
    "    \n",
    "    def __init__(self, first, last, pay):\n",
    "        #instance variables:\n",
    "        self.first = first                                      \n",
    "        self.last = last\n",
    "        self.email = first + '.' + last + '@email.com'\n",
    "        self.pay = pay                     #instance variable\n",
    "        \n",
    "        Employee.num_of_emps+=1            #class variable\n",
    "    \n",
    "    def fullname(self):\n",
    "        return '{} {}'.format(self.first, self.last)\n",
    "    \n",
    "    def apply_raise(self):\n",
    "        self.pay=int(self.pay* self.raise_amount) \n",
    "\n",
    "emp_1 = Employee('Sushil', 'Khairnar', 50000)\n",
    "emp_2 = Employee('Test', 'Employee', 60000)\n",
    "#self: is used to pass the instance of a class:\n",
    "print( emp_1.fullname())  #1\n",
    "print(Employee.fullname(emp_1)) # same as 1: but here we are passing instance emp_1 as self \n",
    "\n",
    "print(emp_1.pay)\n",
    "emp_1.apply_raise()\n",
    "print(emp_1.pay)\n",
    "\n",
    "print(emp_1.__dict__)\n",
    "emp_1.raise_amount=1.10\n",
    "emp_1.apply_raise()\n",
    "print(emp_1.__dict__)\n",
    "\n",
    "print(Employee.num_of_emps)"
   ]
  },
  {
   "cell_type": "markdown",
   "metadata": {},
   "source": [
    "# Class Methods :"
   ]
  },
  {
   "cell_type": "code",
   "execution_count": 24,
   "metadata": {},
   "outputs": [
    {
     "name": "stdout",
     "output_type": "stream",
     "text": [
      "###################\n",
      "1.05\n",
      "1.05\n",
      "1.05\n",
      "1.15\n",
      "1.15\n",
      "1.15\n",
      "###################\n",
      "sam.damon@email.com\n",
      "tom hardy\n"
     ]
    }
   ],
   "source": [
    "class Employee:\n",
    "    num_of_emps=0\n",
    "    raise_amount=1.05      # Class variable\n",
    "    \n",
    "    def __init__(self, first, last, pay):\n",
    "        #instance variables:\n",
    "        self.first = first                                      \n",
    "        self.last = last\n",
    "        self.email = first + '.' + last + '@email.com'\n",
    "        self.pay = pay                     #instance variable\n",
    "        \n",
    "        Employee.num_of_emps+=1            #class variable\n",
    "    \n",
    "    def fullname(self):\n",
    "        return '{} {}'.format(self.first, self.last)\n",
    "    \n",
    "    def apply_raise(self):                               #regular method\n",
    "        self.pay=int(self.pay* self.raise_amount) \n",
    "    \n",
    "    #to turn regular method into class method: add class method decorator\n",
    "    \n",
    "    @classmethod    #alter the functionality of functn where we receive class as the first argument instead of instance\n",
    "    def set_raise_amount(cls,amount):    #cls is class variable name\n",
    "        cls.raise_amount=amount\n",
    "    \n",
    "    @classmethod       #class method as alternative constructor\n",
    "    def from_string(cls,emp_string):\n",
    "        first,last,pay= emp_string.split('-')\n",
    "        return cls(first,last,pay)\n",
    "        \n",
    "print(\"###################\")\n",
    "emp_1 = Employee('Sushil', 'Khairnar', 50000)\n",
    "emp_2 = Employee('Test', 'Employee', 60000)\n",
    "\n",
    "print(Employee.raise_amount)\n",
    "print(emp_1.raise_amount)\n",
    "print(emp_2.raise_amount)\n",
    "\n",
    "Employee.set_raise_amount(1.15)\n",
    "\n",
    "print(Employee.raise_amount)\n",
    "print(emp_1.raise_amount)\n",
    "print(emp_2.raise_amount)\n",
    "print(\"###################\")\n",
    "\n",
    "emp_str1=\"sam-damon-20\"\n",
    "emp_str2=\"tom-hardy-30\"\n",
    "new_emp1= Employee.from_string(emp_str1)\n",
    "new_emp2= Employee.from_string(emp_str2)\n",
    "print(new_emp1.email)\n",
    "print(new_emp2.fullname())"
   ]
  },
  {
   "cell_type": "markdown",
   "metadata": {},
   "source": [
    "# Static Methods"
   ]
  },
  {
   "cell_type": "code",
   "execution_count": 31,
   "metadata": {},
   "outputs": [
    {
     "name": "stdout",
     "output_type": "stream",
     "text": [
      "True\n"
     ]
    }
   ],
   "source": [
    "class Employee:\n",
    "    num_of_emps=0\n",
    "    raise_amount=1.05      # Class variable\n",
    "    \n",
    "    def __init__(self, first, last, pay):\n",
    "        #instance variables:\n",
    "        self.first = first                                      \n",
    "        self.last = last\n",
    "        self.email = first + '.' + last + '@email.com'\n",
    "        self.pay = pay                     #instance variable\n",
    "        \n",
    "        Employee.num_of_emps+=1            #class variable\n",
    "    \n",
    "    def fullname(self):\n",
    "        return '{} {}'.format(self.first, self.last)\n",
    "    \n",
    "    def apply_raise(self):                               #regular method\n",
    "        self.pay=int(self.pay* self.raise_amount) \n",
    "    \n",
    "    #to turn regular method into class method: add class method decorator\n",
    "    \n",
    "    @classmethod    #alter the functionality of functn where we receive class as the first argument instead of instance\n",
    "    def set_raise_amount(cls,amount):    #cls is class variable name\n",
    "        cls.raise_amount=amount\n",
    "    \n",
    "    @classmethod       #class method as alternative constructor\n",
    "    def from_string(cls,emp_string):\n",
    "        first,last,pay= emp_string.split('-')\n",
    "        return cls(first,last,pay)\n",
    "    \n",
    "    @staticmethod      #do not operate either on instance or on a class\n",
    "    def is_workday(day):\n",
    "        if day.weekday==6 or day.weekday==7:\n",
    "            return False\n",
    "        return True\n",
    "\n",
    "import datetime\n",
    "my_date=datetime.date(2020,5,8)\n",
    "print(Employee.is_workday(my_date))"
   ]
  },
  {
   "cell_type": "code",
   "execution_count": null,
   "metadata": {},
   "outputs": [],
   "source": []
  }
 ],
 "metadata": {
  "kernelspec": {
   "display_name": "Python 3",
   "language": "python",
   "name": "python3"
  },
  "language_info": {
   "codemirror_mode": {
    "name": "ipython",
    "version": 3
   },
   "file_extension": ".py",
   "mimetype": "text/x-python",
   "name": "python",
   "nbconvert_exporter": "python",
   "pygments_lexer": "ipython3",
   "version": "3.7.3"
  }
 },
 "nbformat": 4,
 "nbformat_minor": 2
}
