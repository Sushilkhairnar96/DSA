{
 "cells": [
  {
   "cell_type": "code",
   "execution_count": null,
   "metadata": {},
   "outputs": [],
   "source": [
    "#1. Input Array is sorted:\n",
    "nums=[0,2,5,7,8,10]; target= 8\n",
    "l,r=0,len(nums)-1\n",
    "\n",
    "while l<=r:\n",
    "    mid=l+(r-l)//2\n",
    "    if nums[mid]==target:\n",
    "        print(mid)\n",
    "        break\n",
    "    elif nums[mid]<target:\n",
    "        l=mid+1\n",
    "    else:\n",
    "        r=mid-1"
   ]
  },
  {
   "cell_type": "code",
   "execution_count": null,
   "metadata": {},
   "outputs": [],
   "source": [
    "#2. Input Array is reversed sorted:\n",
    "nums=[12,10,8,5,3,2,-3]; target= 5\n",
    "l,r=0,len(nums)-1\n",
    "\n",
    "while l<=r:\n",
    "    mid=l+(r-l)//2\n",
    "    if nums[mid]==target:\n",
    "        print(mid)\n",
    "        break\n",
    "    elif nums[mid]<target:\n",
    "        r=mid-1\n",
    "    else:\n",
    "        l=mid+1"
   ]
  },
  {
   "cell_type": "code",
   "execution_count": 1,
   "metadata": {},
   "outputs": [
    {
     "data": {
      "text/plain": [
       "4"
      ]
     },
     "execution_count": 1,
     "metadata": {},
     "output_type": "execute_result"
    }
   ],
   "source": [
    "#69. Sqrt(x)\n",
    "x=18\n",
    "l,r=0,x//2\n",
    "while l<=r:\n",
    "    mid=(l+r)//2\n",
    "    sq=mid*mid\n",
    "    if sq==x:\n",
    "        print(mid)\n",
    "        break\n",
    "    if sq>x:\n",
    "        r=mid-1\n",
    "    else:\n",
    "        l=mid+1\n",
    "r"
   ]
  },
  {
   "cell_type": "code",
   "execution_count": null,
   "metadata": {},
   "outputs": [],
   "source": [
    "#LC33. Search in Rotated Sorted Array\n",
    "'''\n",
    "Suppose an array sorted in ascending order is rotated at some pivot unknown to you beforehand.\n",
    "(i.e., [0,1,2,4,5,6,7] might become [4,5,6,7,0,1,2]).\n",
    "\n",
    "You are given a target value to search. If found in the array return its index, otherwise return -1.\n",
    "You may assume no duplicate exists in the array.\n",
    "Your algorithm's runtime complexity must be in the order of O(log n)\n",
    "\n",
    "Input: nums = [4,5,6,7,0,1,2], target = 0\n",
    "Output: 4\n",
    "'''\n",
    "nums = [4,5,6,7,0,1,2]; target = 0\n",
    "l,r=0,len(nums)-1\n",
    "while l<=r:\n",
    "    mid=l+(r-l)//2\n",
    "    if nums[mid]==target:\n",
    "        print(mid)\n",
    "        break\n",
    "    if nums[mid]>nums[r]:   #search in 1st half\n",
    "        if nums[l]<=nums[mid]<target:\n",
    "            r=mid\n",
    "        else:\n",
    "            l=mid+1\n",
    "    else:                   #search in 2nd half\n",
    "        if nums[mid]<target<=nums[r]:\n",
    "            l=mid+1\n",
    "        else:\n",
    "            r=mid"
   ]
  },
  {
   "cell_type": "code",
   "execution_count": null,
   "metadata": {},
   "outputs": [],
   "source": [
    "#LC81. Search in Rotated Sorted Array II\n",
    "'''\n",
    "Suppose an array sorted in ascending order is rotated at some pivot unknown to you beforehand.\n",
    "\n",
    "(i.e., [0,0,1,2,2,5,6] might become [2,5,6,0,0,1,2]).\n",
    "\n",
    "You are given a target value to search. If found in the array return true, otherwise return false.\n",
    "\n",
    "Input: nums = [2,5,6,0,0,1,2], target = 0\n",
    "Output: true\n",
    "\n",
    "Input: nums = [2,5,6,0,0,1,2], target = 3\n",
    "Output: false\n",
    "'''\n",
    "nums = [2,5,6,0,0,1,2]; target = 0    \n",
    "l,h=0,len(nums)-1\n",
    "while(l<=h):\n",
    "    mid=l+(h-l)//2\n",
    "    if nums[mid]==target:\n",
    "        print(True)\n",
    "        break\n",
    "    while( h > mid and nums[h]==nums[mid] ):        #edge case\n",
    "        h-=1\n",
    "    if(nums[mid]<=nums[h]):\n",
    "        if(nums[mid]<target<=nums[h]):\n",
    "            l=mid+1\n",
    "        else:\n",
    "            h=mid-1\n",
    "    else:\n",
    "        if(nums[l]<=target<nums[mid]):\n",
    "            h=mid-1\n",
    "        else:\n",
    "            l=mid+1\n"
   ]
  },
  {
   "cell_type": "code",
   "execution_count": 13,
   "metadata": {},
   "outputs": [
    {
     "data": {
      "text/plain": [
       "0"
      ]
     },
     "execution_count": 13,
     "metadata": {},
     "output_type": "execute_result"
    }
   ],
   "source": [
    "#LC153. Find Minimum in Rotated Sorted Array\n",
    "'''\n",
    "Suppose an array sorted in ascending order is rotated at some pivot unknown to you beforehand.\n",
    "\n",
    "(i.e.,  [0,1,2,4,5,6,7] might become  [4,5,6,7,0,1,2]).\n",
    "\n",
    "Find the minimum element.\n",
    "\n",
    "You may assume no duplicate exists in the array.\n",
    "\n",
    "Input: [4,5,6,7,0,1,2]\n",
    "Output: 0\n",
    "'''\n",
    "def findMin(nums):\n",
    "    if len(nums) == 1:            # If the list has just one element then return that element.\n",
    "        return nums[0]\n",
    "\n",
    "    left,right=0,len(nums) - 1\n",
    "\n",
    "    # if the last element is greater than the first element then there is no rotation.\n",
    "    # e.g. 1 < 2 < 3 < 4 < 5 < 7. Already sorted array.\n",
    "    # Hence the smallest element is first element. A[0]\n",
    "    if nums[right] > nums[0]:\n",
    "        return nums[0]\n",
    "\n",
    "    # Binary search way:\n",
    "    '''\n",
    "    In this modified version of binary search algorithm, we are looking for Inflection Point. \n",
    "    All the elements to the left of inflection point > first element of the array.\n",
    "    All the elements to the right of inflection point < first element of the array.\n",
    "    '''\n",
    "    while right >= left:\n",
    "\n",
    "        mid = left + (right - left) // 2\n",
    "        # if the mid element is greater than its next element then mid+1 element is the smallest\n",
    "        # This point would be the point of change. From higher to lower value.\n",
    "        if nums[mid] > nums[mid + 1]:\n",
    "            return nums[mid + 1]\n",
    "        # if the mid element is lesser than its previous element then mid element is the smallest\n",
    "        if nums[mid - 1] > nums[mid]:\n",
    "            return nums[mid]\n",
    "\n",
    "        # if the mid elements value is greater than the 0th element this means\n",
    "        # the least value is still somewhere to the right as we are still dealing with elements greater than nums[0]\n",
    "        if nums[mid] > nums[0]:\n",
    "            left = mid + 1\n",
    "        # if nums[0] is greater than the mid value then this means the smallest value is somewhere to the left\n",
    "        else:\n",
    "            right = mid - 1\n",
    "\n",
    "nums=[4,5,6,7,0,1,2]\n",
    "findMin(nums)"
   ]
  },
  {
   "cell_type": "code",
   "execution_count": null,
   "metadata": {},
   "outputs": [],
   "source": [
    "#LC34. Find First and Last Position of Element in Sorted Array\n",
    "'''\n",
    "Input: nums = [5,7,7,8,8,10], target = 8\n",
    "Output: [3,4]\n",
    "'''\n",
    "#nums=[2,4,10,10,10,18,20]; target =10\n",
    "nums = [5,7,7,8,8,10]; target = 8\n",
    "l,r=0,len(nums)-1\n",
    "res=[-1,-1]\n",
    "while l<=r:\n",
    "    mid=l+(r-l)//2\n",
    "    if nums[mid]==target:\n",
    "        res[0]=mid                                     \n",
    "        r=mid-1                             #search for starting position of element  towards the left of mid\n",
    "    elif nums[mid]<target:\n",
    "        l=mid+1                                            \n",
    "    else:\n",
    "        r=mid-1\n",
    "l,r=0,len(nums)-1\n",
    "while l<=r:\n",
    "    mid=l+(r-l)//2\n",
    "    if nums[mid]==target:\n",
    "        res[1]=mid\n",
    "        l=mid+1                             #search for ending position of element  towards the right of mid\n",
    "    elif nums[mid]<target:\n",
    "        l=mid+1\n",
    "    else:\n",
    "        r=mid-1\n",
    "\n",
    "res"
   ]
  },
  {
   "cell_type": "code",
   "execution_count": 1,
   "metadata": {},
   "outputs": [
    {
     "data": {
      "text/plain": [
       "3"
      ]
     },
     "execution_count": 1,
     "metadata": {},
     "output_type": "execute_result"
    }
   ],
   "source": [
    "# Number of times a sorted array is rotated (can be found out by finding the minimum element)\n",
    "#index of minimum element= no. of times array is rotated\n",
    "\n",
    "def count_rotation(nums):\n",
    "    l,r=0,len(nums)-1\n",
    "    while l<=r:\n",
    "        mid =l +(r-l)//2\n",
    "        \n",
    "        if nums[mid+1]<nums[mid]:\n",
    "            return mid+1\n",
    "        if nums[mid]<nums[mid-1]:\n",
    "            return mid \n",
    "        if nums[mid]>nums[0]:\n",
    "            l=mid+1\n",
    "        else:\n",
    "            r=mid-1\n",
    "    \n",
    "nums=[7,8,9,0,1,2,3,4,5]   \n",
    "count_rotation(nums)"
   ]
  },
  {
   "cell_type": "code",
   "execution_count": 11,
   "metadata": {},
   "outputs": [
    {
     "data": {
      "text/plain": [
       "[1, 4, 9, 16, 25, 36]"
      ]
     },
     "execution_count": 11,
     "metadata": {},
     "output_type": "execute_result"
    }
   ],
   "source": [
    "#Sorted squared Array:  O(n)\n",
    "'''\n",
    "given a sorted array return a sorted squared array\n",
    "x=[-6,-4,1,2,3,5] => [1,4,9,16,25,36]\n",
    "'''\n",
    "x=[-6,-4,1,2,3,5]\n",
    "l,r=0,len(x)-1\n",
    "res=[0]*len(x)\n",
    "for i in range(len(x)-1,-1,-1):\n",
    "    if abs(x[l])>abs(x[r]):\n",
    "        res[i]=x[l]*x[l]\n",
    "        l+=1\n",
    "    else:\n",
    "        res[i]=x[r]*x[r]\n",
    "        r-=1\n",
    "res"
   ]
  },
  {
   "cell_type": "code",
   "execution_count": null,
   "metadata": {},
   "outputs": [],
   "source": []
  },
  {
   "cell_type": "code",
   "execution_count": null,
   "metadata": {},
   "outputs": [],
   "source": []
  }
 ],
 "metadata": {
  "kernelspec": {
   "display_name": "Python 3",
   "language": "python",
   "name": "python3"
  },
  "language_info": {
   "codemirror_mode": {
    "name": "ipython",
    "version": 3
   },
   "file_extension": ".py",
   "mimetype": "text/x-python",
   "name": "python",
   "nbconvert_exporter": "python",
   "pygments_lexer": "ipython3",
   "version": "3.7.3"
  }
 },
 "nbformat": 4,
 "nbformat_minor": 2
}
