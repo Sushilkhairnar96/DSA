{
 "cells": [
  {
   "cell_type": "code",
   "execution_count": 1,
   "metadata": {},
   "outputs": [],
   "source": [
    "class TreeNode:\n",
    "    def __init__(self,val=0,left=None,right=None):\n",
    "        self.val=val\n",
    "        self.left=left\n",
    "        self.right=right"
   ]
  },
  {
   "cell_type": "code",
   "execution_count": 3,
   "metadata": {},
   "outputs": [],
   "source": [
    "class BST:\n",
    "    def __init__(self,root=None):\n",
    "        self.root = TreeNode(root)\n",
    "    '''\n",
    "    Lowest Common Ancestor of a Binary Search Tree\n",
    "    Given a binary search tree (BST), find the lowest common ancestor (LCA) of two given nodes in the BST.\n",
    "    According to the definition of LCA on Wikipedia: “The lowest common ancestor is defined between two nodes\n",
    "    p and q as the lowest node in T that has both p and q as descendants (where we allow a node to be a \n",
    "    descendant of itself).”\n",
    "    '''\n",
    "    def lowestCommonAncestor(self, root: 'TreeNode', p: 'TreeNode', q: 'TreeNode') -> 'TreeNode':\n",
    "        \n",
    "        def helper(root):\n",
    "            if not root: return \n",
    "            \n",
    "            if p.val > root.val and q.val > root.val:\n",
    "                return helper(root.right)\n",
    "            elif p.val < root.val and q.val < root.val:\n",
    "                return helper(root.left)\n",
    "            else:\n",
    "                return root\n",
    "            \n",
    "        return helper(root)"
   ]
  },
  {
   "cell_type": "code",
   "execution_count": null,
   "metadata": {},
   "outputs": [],
   "source": []
  }
 ],
 "metadata": {
  "kernelspec": {
   "display_name": "Python 3",
   "language": "python",
   "name": "python3"
  },
  "language_info": {
   "codemirror_mode": {
    "name": "ipython",
    "version": 3
   },
   "file_extension": ".py",
   "mimetype": "text/x-python",
   "name": "python",
   "nbconvert_exporter": "python",
   "pygments_lexer": "ipython3",
   "version": "3.8.5"
  }
 },
 "nbformat": 4,
 "nbformat_minor": 4
}
