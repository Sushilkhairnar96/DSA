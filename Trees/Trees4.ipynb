{
 "cells": [
  {
   "cell_type": "code",
   "execution_count": 1,
   "metadata": {},
   "outputs": [],
   "source": [
    "class TreeNode:\n",
    "    def __init__(self,val=0,left=None,right=None):\n",
    "        self.val=val\n",
    "        self.left=left\n",
    "        self.right=right"
   ]
  },
  {
   "cell_type": "code",
   "execution_count": 4,
   "metadata": {},
   "outputs": [],
   "source": [
    "class BT:    \n",
    "    '''\n",
    "    Given an integer array with no duplicates. A maximum tree building on this array is defined as follow:\n",
    "\n",
    "    The root is the maximum number in the array.\n",
    "    The left subtree is the maximum tree constructed from left part subarray divided by the maximum number.\n",
    "    The right subtree is the maximum tree constructed from right part subarray divided by the maximum number.\n",
    "    Construct the maximum tree by the given array and output the root node of this tree.\n",
    "    '''\n",
    "    def constructMaximumBinaryTree(self, nums) -> TreeNode:\n",
    "        if nums is None : return None\n",
    "        \n",
    "        max_val=max(nums)\n",
    "        indx= nums.index(max_val)\n",
    "        node= TreeNode(max_val)\n",
    "        \n",
    "        if len(nums[:indx])>0:\n",
    "            node.left=self.constructMaximumBinaryTree(nums[:indx])\n",
    "        \n",
    "        if len(nums[indx+1:])>0:\n",
    "            node.right=self.constructMaximumBinaryTree(nums[indx+1:])\n",
    "        \n",
    "        return node\n",
    "    \n",
    "    #Given a binary tree, return the sum of values of its deepest leaves.\n",
    "    def deepestLeavesSum(self, root: TreeNode) -> int:\n",
    "        def helper(root,count,dic):\n",
    "            if not root: return \n",
    "            if root.left:\n",
    "                helper(root.left,count+1,dic)\n",
    "            if root.right:\n",
    "                helper(root.right,count+1,dic)\n",
    "                \n",
    "            if count not in dic:\n",
    "                dic[count]=root.val\n",
    "            else:\n",
    "                dic[count]+=root.val\n",
    "    \n",
    "        dic={}\n",
    "        count=0\n",
    "        helper(root,count,dic)\n",
    "        return dic[max(dic)]"
   ]
  },
  {
   "cell_type": "code",
   "execution_count": null,
   "metadata": {},
   "outputs": [],
   "source": []
  }
 ],
 "metadata": {
  "kernelspec": {
   "display_name": "Python 3",
   "language": "python",
   "name": "python3"
  },
  "language_info": {
   "codemirror_mode": {
    "name": "ipython",
    "version": 3
   },
   "file_extension": ".py",
   "mimetype": "text/x-python",
   "name": "python",
   "nbconvert_exporter": "python",
   "pygments_lexer": "ipython3",
   "version": "3.7.3"
  }
 },
 "nbformat": 4,
 "nbformat_minor": 2
}
