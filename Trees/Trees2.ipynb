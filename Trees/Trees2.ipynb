{
 "cells": [
  {
   "cell_type": "code",
   "execution_count": 1,
   "metadata": {},
   "outputs": [],
   "source": [
    "class TreeNode:\n",
    "    def __init__(self,val=0,left=None,right=None):\n",
    "        self.val=val\n",
    "        self.left=left\n",
    "        self.right=right"
   ]
  },
  {
   "cell_type": "code",
   "execution_count": 2,
   "metadata": {},
   "outputs": [],
   "source": [
    "class BST:\n",
    "    def __init__(self,root=None):\n",
    "        self.root=TreeNode(root)\n",
    "\n",
    "    def insert(self,root,key): \n",
    "        if root is None: \n",
    "            root = TreeNode(key)\n",
    "        else: \n",
    "            node=TreeNode(key)\n",
    "            if root.val < node.val: \n",
    "                if root.right is None: \n",
    "                    root.right = node \n",
    "                else: \n",
    "                    self.insert(root.right, key) \n",
    "            else: \n",
    "                if root.left is None: \n",
    "                    root.left = node \n",
    "                else: \n",
    "                    self.insert(root.left, key) \n",
    "    \n",
    "    def inorder(self,root): \n",
    "            return self.inorder(root.left) + [root.val] + self.inorder(root.right) if root else []\n",
    "    \n",
    "    def search(self,root,key): \n",
    "        \n",
    "        if root is None or root.val == key: # Base Cases: root is null or key is present at root \n",
    "            return root.val \n",
    "      \n",
    "        if root.val < key:   \n",
    "            return self.search(root.right,key) \n",
    "        else:\n",
    "            return self.search(root.left,key) \n",
    "\n",
    "    def minValueNode(self,node): \n",
    "        current = node \n",
    "      \n",
    "        # loop down to find the leftmost leaf \n",
    "        while(current.left is not None): \n",
    "            current = current.left  \n",
    "      \n",
    "        return current  \n",
    "      \n",
    "    def deleteNode(self,root, key): \n",
    "      \n",
    "        if root is None: \n",
    "            return root  \n",
    "      \n",
    "        if key < root.val: \n",
    "            root.left = self.deleteNode(root.left, key) \n",
    "\n",
    "        elif(key > root.val): \n",
    "            root.right = self.deleteNode(root.right, key) \n",
    "      \n",
    "        else:   # If key is same as root's key, then this is the node to be deleted \n",
    "            \n",
    "            # Node with only one child or no child \n",
    "            if root.left is None : \n",
    "                temp = root.right  \n",
    "                root = None \n",
    "                return temp  \n",
    "                  \n",
    "            elif root.right is None : \n",
    "                temp = root.left  \n",
    "                root = None\n",
    "                return temp \n",
    "      \n",
    "            # Node with two children: Get the inorder successor (smallest in the right subtree) \n",
    "            temp = self.minValueNode(root.right) \n",
    "            \n",
    "            # Copy the inorder successor's content to this node \n",
    "            root.val = temp.val\n",
    "      \n",
    "            # Delete the inorder successor \n",
    "            root.right = self.deleteNode(root.right , temp.val) \n",
    "      \n",
    "      \n",
    "        return root  \n",
    "    \n",
    "    \n",
    "      summ=0\n",
    "    def rangeSumBST(self, root: TreeNode, L: int, R: int) -> int:\n",
    "        '''\n",
    "        Given the root node of a binary search tree, return the sum of values of all nodes with value between \n",
    "        L and R (inclusive).The binary search tree is guaranteed to have unique values.\n",
    "\n",
    "        Input: root = [10,5,15,3,7,null,18], L = 7, R = 15\n",
    "        Output: 32\n",
    "        '''\n",
    "        \n",
    "        if not root:\n",
    "            return 0\n",
    "        \n",
    "        if L<=root.val<=R:\n",
    "            self.summ+=root.val\n",
    "        \n",
    "        if root.val> L:            \n",
    "            self.rangeSumBST(root.left,L,R)\n",
    "        if root.val <R:\n",
    "            self.rangeSumBST(root.right,L,R)\n",
    "            \n",
    "        return self.summ    \n"
   ]
  },
  {
   "cell_type": "code",
   "execution_count": 6,
   "metadata": {},
   "outputs": [
    {
     "name": "stdout",
     "output_type": "stream",
     "text": [
      "[20, 30, 40, 50, 60, 100]\n",
      "100\n",
      "<__main__.TreeNode object at 0x0000011BDAC7A0F0>\n",
      "[20, 30, 40, 50, 100]\n"
     ]
    }
   ],
   "source": [
    "tree=BST(50)\n",
    "tree.insert(tree.root,20)\n",
    "tree.insert(tree.root,60)\n",
    "tree.insert(tree.root,100)\n",
    "tree.insert(tree.root,30)\n",
    "tree.insert(tree.root,40)\n",
    "print(tree.inorder(tree.root))\n",
    "print(tree.search(tree.root,100))\n",
    "print(tree.deleteNode(tree.root,60))\n",
    "print(tree.inorder(tree.root))"
   ]
  },
  {
   "cell_type": "code",
   "execution_count": null,
   "metadata": {},
   "outputs": [],
   "source": [
    "\n"
   ]
  },
  {
   "cell_type": "code",
   "execution_count": null,
   "metadata": {},
   "outputs": [],
   "source": []
  },
  {
   "cell_type": "code",
   "execution_count": null,
   "metadata": {},
   "outputs": [],
   "source": []
  },
  {
   "cell_type": "code",
   "execution_count": null,
   "metadata": {},
   "outputs": [],
   "source": []
  },
  {
   "cell_type": "code",
   "execution_count": null,
   "metadata": {},
   "outputs": [],
   "source": []
  },
  {
   "cell_type": "code",
   "execution_count": 4,
   "metadata": {},
   "outputs": [
    {
     "name": "stdout",
     "output_type": "stream",
     "text": [
      "\n",
      "sortedArrayToBST:\n"
     ]
    },
    {
     "ename": "NameError",
     "evalue": "name 'BinaryTree' is not defined",
     "output_type": "error",
     "traceback": [
      "\u001b[1;31m---------------------------------------------------------------------------\u001b[0m",
      "\u001b[1;31mNameError\u001b[0m                                 Traceback (most recent call last)",
      "\u001b[1;32m<ipython-input-4-bdc56131ab62>\u001b[0m in \u001b[0;36m<module>\u001b[1;34m\u001b[0m\n\u001b[0;32m     27\u001b[0m '''\n\u001b[0;32m     28\u001b[0m \u001b[0mprint\u001b[0m\u001b[1;33m(\u001b[0m\u001b[1;34m\"\\nsortedArrayToBST:\"\u001b[0m\u001b[1;33m)\u001b[0m\u001b[1;33m\u001b[0m\u001b[1;33m\u001b[0m\u001b[0m\n\u001b[1;32m---> 29\u001b[1;33m \u001b[0mtree1\u001b[0m\u001b[1;33m=\u001b[0m\u001b[0mBinaryTree\u001b[0m\u001b[1;33m(\u001b[0m\u001b[1;33m)\u001b[0m\u001b[1;33m\u001b[0m\u001b[1;33m\u001b[0m\u001b[0m\n\u001b[0m\u001b[0;32m     30\u001b[0m \u001b[0mtree1\u001b[0m\u001b[1;33m.\u001b[0m\u001b[0msortedArrayToBST\u001b[0m\u001b[1;33m(\u001b[0m\u001b[1;33m[\u001b[0m\u001b[1;33m-\u001b[0m\u001b[1;36m10\u001b[0m\u001b[1;33m,\u001b[0m\u001b[1;33m-\u001b[0m\u001b[1;36m3\u001b[0m\u001b[1;33m,\u001b[0m\u001b[1;36m0\u001b[0m\u001b[1;33m,\u001b[0m\u001b[1;36m5\u001b[0m\u001b[1;33m,\u001b[0m\u001b[1;36m9\u001b[0m\u001b[1;33m]\u001b[0m\u001b[1;33m)\u001b[0m\u001b[1;33m\u001b[0m\u001b[1;33m\u001b[0m\u001b[0m\n\u001b[0;32m     31\u001b[0m \u001b[0mprint\u001b[0m\u001b[1;33m(\u001b[0m\u001b[1;34m\"*********\"\u001b[0m\u001b[1;33m)\u001b[0m\u001b[1;33m\u001b[0m\u001b[1;33m\u001b[0m\u001b[0m\n",
      "\u001b[1;31mNameError\u001b[0m: name 'BinaryTree' is not defined"
     ]
    }
   ],
   "source": [
    "    def sortedArrayToBST(self, nums):\n",
    "        if not nums:\n",
    "            return None\n",
    "        \n",
    "        mid = len(nums) // 2\n",
    "        \n",
    "        root = TreeNode(nums[mid])\n",
    "        print(root.val)\n",
    "        root.left = self.sortedArrayToBST(nums[:mid])\n",
    "        root.right = self.sortedArrayToBST(nums[mid+1:])\n",
    "        \n",
    "        return root\n",
    "    '''\n",
    "    def sortedArrayToBST(self, nums):\n",
    "        return self.helper(nums, 0, len(nums) - 1)\n",
    "    \n",
    "    def helper(self, nums, low, high):\n",
    "        if low > high:\n",
    "            return None\n",
    "        mid = (low + high) // 2\n",
    "        root = TreeNode(nums[mid])\n",
    "        print(root.val)\n",
    "        root.left = self.helper(nums, low, mid - 1)\n",
    "        root.right = self.helper(nums, mid + 1, high)\n",
    "        \n",
    "        return root\n",
    "    '''\n",
    "print(\"\\nsortedArrayToBST:\")\n",
    "tree1=BinaryTree()\n",
    "tree1.sortedArrayToBST([-10,-3,0,5,9])\n",
    "print(\"*********\")"
   ]
  }
 ],
 "metadata": {
  "kernelspec": {
   "display_name": "Python 3",
   "language": "python",
   "name": "python3"
  },
  "language_info": {
   "codemirror_mode": {
    "name": "ipython",
    "version": 3
   },
   "file_extension": ".py",
   "mimetype": "text/x-python",
   "name": "python",
   "nbconvert_exporter": "python",
   "pygments_lexer": "ipython3",
   "version": "3.7.3"
  }
 },
 "nbformat": 4,
 "nbformat_minor": 2
}
