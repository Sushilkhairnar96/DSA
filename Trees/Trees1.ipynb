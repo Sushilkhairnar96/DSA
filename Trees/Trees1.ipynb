{
 "cells": [
  {
   "cell_type": "code",
   "execution_count": 3,
   "metadata": {},
   "outputs": [],
   "source": [
    "class TreeNode:\n",
    "    def __init__(self,val=0,left=None,right=None):\n",
    "        self.val=val\n",
    "        self.left=left\n",
    "        self.right=right"
   ]
  },
  {
   "cell_type": "code",
   "execution_count": 31,
   "metadata": {},
   "outputs": [],
   "source": [
    "class BinaryTree:\n",
    "    def __init__(self,root):\n",
    "        self.root=TreeNode(root)\n",
    "    \n",
    "    def insert_left(self,value):\n",
    "        if self.root.left==None:\n",
    "            self.root.left=TreeNode(value)\n",
    "        else:\n",
    "            new_node=TreeNode(value)\n",
    "            new_node.left=self.root.left\n",
    "            self.root.left=new_node\n",
    "    '''\n",
    "    If the current node doesn’t have a left child, we just create a new node and set it to the current node’s left_child. \n",
    "    Or else we create a new node and put it in the current left child’s place. Allocate this left child node to the new \n",
    "    node’s left child.\n",
    "    '''\n",
    "    \n",
    "    def insert_right(self,value):\n",
    "        if self.root.right==None:\n",
    "            self.root.right=TreeNode(value)\n",
    "        else:\n",
    "            new_node=TreeNode(value)\n",
    "            new_node.right=self.root.right\n",
    "            self.root.right=new_node\n",
    "            \n",
    "    def preorder1(self, root: TreeNode):                  #recursive\n",
    "        return [root.val] + self.preorder1(root.left) + self.preorder1(root.right) if root else []\n",
    "    \n",
    "    def preorder2(self, root: TreeNode):                  #iterative\n",
    "        stack=[(False,root)]\n",
    "        res=[]\n",
    "        while(stack):\n",
    "            flag,data=stack.pop()\n",
    "            if data:\n",
    "                if not flag:\n",
    "                    stack.append((False,data.right))\n",
    "                    stack.append((False,data.left))\n",
    "                    stack.append((True,data))\n",
    "                else:\n",
    "                    res.append(data.val)\n",
    "        return res\n",
    "        \n",
    "        \n",
    "    def inorder1(self,root):\n",
    "        return self.inorder1(root.left) + [root.val] + self.inorder1(root.right) if root else []\n",
    "    \n",
    "    def inorder2(self,root):\n",
    "        stack=[(False,root)]\n",
    "        res=[]\n",
    "        while(stack):\n",
    "            flag,data=stack.pop()\n",
    "            if data:\n",
    "                if not flag:\n",
    "                    stack.append((False,data.right))\n",
    "                    stack.append((True,data))\n",
    "                    stack.append((False,data.left))\n",
    "                else:\n",
    "                    res.append(data.val)\n",
    "        return res\n",
    "    \n",
    "    def postorder1(self,root):\n",
    "        return self.postorder1(root.left) + self.postorder1(root.right) + [root.val] if root else []\n",
    "    \n",
    "    def postorder2(self,root):\n",
    "        stack=[(False,root)]\n",
    "        res=[]\n",
    "        while(stack):\n",
    "            flag,data=stack.pop()\n",
    "            if data:\n",
    "                if not flag:\n",
    "                    stack.append((True,data))\n",
    "                    stack.append((False,data.right))\n",
    "                    stack.append((False,data.left))\n",
    "                else:\n",
    "                    res.append(data.val)\n",
    "        return res\n",
    "    \n",
    "    def levelorder(self,root):\n",
    "        from collections import deque\n",
    "        if not root: return []\n",
    "        queue,res=deque([root]),[]\n",
    "        \n",
    "        while queue:\n",
    "            cur_level=[]\n",
    "            for _ in range(len(queue)):\n",
    "                node=queue.popleft()\n",
    "                if node.left:\n",
    "                    queue.append(node.left)\n",
    "                if node.right:\n",
    "                    queue.append(node.right)\n",
    "                cur_level.append(node.val)\n",
    "            res.append(cur_level)\n",
    "        return res"
   ]
  },
  {
   "cell_type": "code",
   "execution_count": 32,
   "metadata": {},
   "outputs": [
    {
     "name": "stdout",
     "output_type": "stream",
     "text": [
      "11\n",
      "[11, 8, 5, 10, 16, 18] [5, 8, 10, 11, 16, 18] [5, 10, 8, 18, 16, 11]\n",
      "[11, 8, 5, 10, 16, 18] [5, 8, 10, 11, 16, 18] [5, 10, 8, 18, 16, 11]\n"
     ]
    },
    {
     "data": {
      "text/plain": [
       "[[11], [8, 16], [5, 10, 18]]"
      ]
     },
     "execution_count": 32,
     "metadata": {},
     "output_type": "execute_result"
    }
   ],
   "source": [
    "tree=BinaryTree(11)\n",
    "print(tree.root.val)\n",
    "tree.insert_left(8)   #tree.root.left=TreeNode(8) \n",
    "tree.insert_right(16) #tree.root.right=TreeNode(16) \n",
    "tree.root.left.left=TreeNode(5)\n",
    "tree.root.left.right=TreeNode(10)\n",
    "tree.root.right.right=TreeNode(18)\n",
    "x=tree.preorder1(tree.root)\n",
    "y=tree.inorder1(tree.root)\n",
    "z=tree.postorder1(tree.root)\n",
    "print(x,y,z)\n",
    "a=tree.preorder1(tree.root)\n",
    "b=tree.inorder2(tree.root)\n",
    "c=tree.postorder2(tree.root)\n",
    "print(a,b,c)\n",
    "tree.levelorder(tree.root)"
   ]
  },
  {
   "cell_type": "code",
   "execution_count": null,
   "metadata": {},
   "outputs": [],
   "source": [
    "#        11\n",
    "#     /   \\\n",
    "#    8     16\n",
    "#   / \\     \\\n",
    "#  5  10    18"
   ]
  },
  {
   "cell_type": "code",
   "execution_count": null,
   "metadata": {},
   "outputs": [],
   "source": []
  },
  {
   "cell_type": "code",
   "execution_count": null,
   "metadata": {},
   "outputs": [],
   "source": []
  }
 ],
 "metadata": {
  "kernelspec": {
   "display_name": "Python 3",
   "language": "python",
   "name": "python3"
  },
  "language_info": {
   "codemirror_mode": {
    "name": "ipython",
    "version": 3
   },
   "file_extension": ".py",
   "mimetype": "text/x-python",
   "name": "python",
   "nbconvert_exporter": "python",
   "pygments_lexer": "ipython3",
   "version": "3.7.3"
  }
 },
 "nbformat": 4,
 "nbformat_minor": 2
}
