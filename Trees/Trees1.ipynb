{
 "cells": [
  {
   "cell_type": "code",
   "execution_count": 4,
   "metadata": {},
   "outputs": [],
   "source": [
    "class TreeNode:\n",
    "    def __init__(self,val=0,left=None,right=None):\n",
    "        self.val=val\n",
    "        self.left=left\n",
    "        self.right=right"
   ]
  },
  {
   "cell_type": "code",
   "execution_count": 5,
   "metadata": {},
   "outputs": [],
   "source": [
    "class BinaryTree:\n",
    "    def __init__(self,root):\n",
    "        self.root=TreeNode(root)\n",
    "    \n",
    "    def insert_left(self,value):\n",
    "        if self.root.left==None:\n",
    "            self.root.left=TreeNode(value)\n",
    "        else:\n",
    "            new_node=TreeNode(value)\n",
    "            new_node.left=self.root.left\n",
    "            self.root.left=new_node\n",
    "    '''\n",
    "    If the current node doesn’t have a left child, we just create a new node and set it to the current node’s left_child. \n",
    "    Or else we create a new node and put it in the current left child’s place. Allocate this left child node to the new \n",
    "    node’s left child.\n",
    "    '''\n",
    "    \n",
    "    def insert_right(self,value):\n",
    "        if self.root.right==None:\n",
    "            self.root.right=TreeNode(value)\n",
    "        else:\n",
    "            new_node=TreeNode(value)\n",
    "            new_node.right=self.root.right\n",
    "            self.root.right=new_node\n",
    "            \n",
    "    def preorder1(self, root: TreeNode):                  #recursive\n",
    "        return [root.val] + self.preorder1(root.left) + self.preorder1(root.right) if root else []\n",
    "    \n",
    "    def preorder2(self, root: TreeNode):                  #iterative\n",
    "        stack=[(False,root)]\n",
    "        res=[]\n",
    "        while(stack):\n",
    "            flag,data=stack.pop()\n",
    "            if data:\n",
    "                if not flag:\n",
    "                    stack.append((False,data.right))\n",
    "                    stack.append((False,data.left))\n",
    "                    stack.append((True,data))\n",
    "                else:\n",
    "                    res.append(data.val)\n",
    "        return res\n",
    "        \n",
    "        \n",
    "    def inorder1(self,root):\n",
    "        return self.inorder1(root.left) + [root.val] + self.inorder1(root.right) if root else []\n",
    "    \n",
    "    def inorder2(self,root):\n",
    "        stack=[(False,root)]\n",
    "        res=[]\n",
    "        while(stack):\n",
    "            flag,data=stack.pop()\n",
    "            if data:\n",
    "                if not flag:\n",
    "                    stack.append((False,data.right))\n",
    "                    stack.append((True,data))\n",
    "                    stack.append((False,data.left))\n",
    "                else:\n",
    "                    res.append(data.val)\n",
    "        return res\n",
    "    \n",
    "    def postorder1(self,root):\n",
    "        return self.postorder1(root.left) + self.postorder1(root.right) + [root.val] if root else []\n",
    "    \n",
    "    def postorder2(self,root):\n",
    "        stack=[(False,root)]\n",
    "        res=[]\n",
    "        while(stack):\n",
    "            flag,data=stack.pop()\n",
    "            if data:\n",
    "                if not flag:\n",
    "                    stack.append((True,data))\n",
    "                    stack.append((False,data.right))\n",
    "                    stack.append((False,data.left))\n",
    "                else:\n",
    "                    res.append(data.val)\n",
    "        return res\n",
    "    \n",
    "    def levelorder(self,root):\n",
    "        from collections import deque\n",
    "        if not root: return []\n",
    "        queue,res=deque([root]),[]\n",
    "        \n",
    "        while queue:\n",
    "            cur_level=[]\n",
    "            for _ in range(len(queue)):\n",
    "                node=queue.popleft()\n",
    "                if node.left:\n",
    "                    queue.append(node.left)\n",
    "                if node.right:\n",
    "                    queue.append(node.right)\n",
    "                cur_level.append(node.val)\n",
    "            res.append(cur_level)\n",
    "        return res\n",
    "\n",
    "    def maxDepth1(self, root: TreeNode) -> int:   #Height of the tree/ Maximum depth of the tree\n",
    "        if not root: return 0\n",
    "        return max(self.maxDepth(root.left),self.maxDepth(root.right))+1"
   ]
  },
  {
   "cell_type": "code",
   "execution_count": 7,
   "metadata": {},
   "outputs": [
    {
     "name": "stdout",
     "output_type": "stream",
     "text": [
      "11\n",
      "[11, 8, 5, 10, 16, 18] [5, 8, 10, 11, 16, 18] [5, 10, 8, 18, 16, 11]\n",
      "[11, 8, 5, 10, 16, 18] [5, 8, 10, 11, 16, 18] [5, 10, 8, 18, 16, 11]\n",
      "[[11], [8, 16], [5, 10, 18]]\n"
     ]
    },
    {
     "ename": "AttributeError",
     "evalue": "'BinaryTree' object has no attribute 'maxDepth'",
     "output_type": "error",
     "traceback": [
      "\u001b[1;31m---------------------------------------------------------------------------\u001b[0m",
      "\u001b[1;31mAttributeError\u001b[0m                            Traceback (most recent call last)",
      "\u001b[1;32m<ipython-input-7-fa2320318a0a>\u001b[0m in \u001b[0;36m<module>\u001b[1;34m\u001b[0m\n\u001b[0;32m     15\u001b[0m \u001b[0mprint\u001b[0m\u001b[1;33m(\u001b[0m\u001b[0ma\u001b[0m\u001b[1;33m,\u001b[0m\u001b[0mb\u001b[0m\u001b[1;33m,\u001b[0m\u001b[0mc\u001b[0m\u001b[1;33m)\u001b[0m\u001b[1;33m\u001b[0m\u001b[1;33m\u001b[0m\u001b[0m\n\u001b[0;32m     16\u001b[0m \u001b[0mprint\u001b[0m\u001b[1;33m(\u001b[0m\u001b[0mtree\u001b[0m\u001b[1;33m.\u001b[0m\u001b[0mlevelorder\u001b[0m\u001b[1;33m(\u001b[0m\u001b[0mtree\u001b[0m\u001b[1;33m.\u001b[0m\u001b[0mroot\u001b[0m\u001b[1;33m)\u001b[0m\u001b[1;33m)\u001b[0m\u001b[1;33m\u001b[0m\u001b[1;33m\u001b[0m\u001b[0m\n\u001b[1;32m---> 17\u001b[1;33m \u001b[0mprint\u001b[0m\u001b[1;33m(\u001b[0m\u001b[0mtree\u001b[0m\u001b[1;33m.\u001b[0m\u001b[0mmaxDepth1\u001b[0m\u001b[1;33m(\u001b[0m\u001b[0mtree\u001b[0m\u001b[1;33m.\u001b[0m\u001b[0mroot\u001b[0m\u001b[1;33m)\u001b[0m\u001b[1;33m)\u001b[0m\u001b[1;33m\u001b[0m\u001b[1;33m\u001b[0m\u001b[0m\n\u001b[0m",
      "\u001b[1;32m<ipython-input-5-8012254afa6c>\u001b[0m in \u001b[0;36mmaxDepth1\u001b[1;34m(self, root)\u001b[0m\n\u001b[0;32m     95\u001b[0m     \u001b[1;32mdef\u001b[0m \u001b[0mmaxDepth1\u001b[0m\u001b[1;33m(\u001b[0m\u001b[0mself\u001b[0m\u001b[1;33m,\u001b[0m \u001b[0mroot\u001b[0m\u001b[1;33m:\u001b[0m \u001b[0mTreeNode\u001b[0m\u001b[1;33m)\u001b[0m \u001b[1;33m->\u001b[0m \u001b[0mint\u001b[0m\u001b[1;33m:\u001b[0m   \u001b[1;31m#Height of the tree/ Maximum depth of the tree\u001b[0m\u001b[1;33m\u001b[0m\u001b[1;33m\u001b[0m\u001b[0m\n\u001b[0;32m     96\u001b[0m         \u001b[1;32mif\u001b[0m \u001b[1;32mnot\u001b[0m \u001b[0mroot\u001b[0m\u001b[1;33m:\u001b[0m \u001b[1;32mreturn\u001b[0m \u001b[1;36m0\u001b[0m\u001b[1;33m\u001b[0m\u001b[1;33m\u001b[0m\u001b[0m\n\u001b[1;32m---> 97\u001b[1;33m         \u001b[1;32mreturn\u001b[0m \u001b[0mmax\u001b[0m\u001b[1;33m(\u001b[0m\u001b[0mself\u001b[0m\u001b[1;33m.\u001b[0m\u001b[0mmaxDepth\u001b[0m\u001b[1;33m(\u001b[0m\u001b[0mroot\u001b[0m\u001b[1;33m.\u001b[0m\u001b[0mleft\u001b[0m\u001b[1;33m)\u001b[0m\u001b[1;33m,\u001b[0m\u001b[0mself\u001b[0m\u001b[1;33m.\u001b[0m\u001b[0mmaxDepth\u001b[0m\u001b[1;33m(\u001b[0m\u001b[0mroot\u001b[0m\u001b[1;33m.\u001b[0m\u001b[0mright\u001b[0m\u001b[1;33m)\u001b[0m\u001b[1;33m)\u001b[0m\u001b[1;33m+\u001b[0m\u001b[1;36m1\u001b[0m\u001b[1;33m\u001b[0m\u001b[1;33m\u001b[0m\u001b[0m\n\u001b[0m",
      "\u001b[1;31mAttributeError\u001b[0m: 'BinaryTree' object has no attribute 'maxDepth'"
     ]
    }
   ],
   "source": [
    "tree=BinaryTree(11)\n",
    "print(tree.root.val)\n",
    "tree.insert_left(8)   #tree.root.left=TreeNode(8) \n",
    "tree.insert_right(16) #tree.root.right=TreeNode(16) \n",
    "tree.root.left.left=TreeNode(5)\n",
    "tree.root.left.right=TreeNode(10)\n",
    "tree.root.right.right=TreeNode(18)\n",
    "x=tree.preorder1(tree.root)\n",
    "y=tree.inorder1(tree.root)\n",
    "z=tree.postorder1(tree.root)\n",
    "print(x,y,z)\n",
    "a=tree.preorder1(tree.root)\n",
    "b=tree.inorder2(tree.root)\n",
    "c=tree.postorder2(tree.root)\n",
    "print(a,b,c)\n",
    "print(tree.levelorder(tree.root))\n",
    "print(tree.maxDepth1(tree.root))"
   ]
  },
  {
   "cell_type": "code",
   "execution_count": 8,
   "metadata": {},
   "outputs": [],
   "source": [
    "#        11\n",
    "#     /   \\\n",
    "#    8     16\n",
    "#   / \\     \\\n",
    "#  5  10    18"
   ]
  },
  {
   "cell_type": "code",
   "execution_count": null,
   "metadata": {},
   "outputs": [],
   "source": []
  },
  {
   "cell_type": "code",
   "execution_count": null,
   "metadata": {},
   "outputs": [],
   "source": []
  },
  {
   "cell_type": "code",
   "execution_count": null,
   "metadata": {},
   "outputs": [],
   "source": []
  },
  {
   "cell_type": "code",
   "execution_count": null,
   "metadata": {},
   "outputs": [],
   "source": []
  }
 ],
 "metadata": {
  "kernelspec": {
   "display_name": "Python 3",
   "language": "python",
   "name": "python3"
  },
  "language_info": {
   "codemirror_mode": {
    "name": "ipython",
    "version": 3
   },
   "file_extension": ".py",
   "mimetype": "text/x-python",
   "name": "python",
   "nbconvert_exporter": "python",
   "pygments_lexer": "ipython3",
   "version": "3.7.3"
  }
 },
 "nbformat": 4,
 "nbformat_minor": 2
}
