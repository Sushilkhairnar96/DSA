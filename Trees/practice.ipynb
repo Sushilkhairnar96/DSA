{
 "cells": [
  {
   "cell_type": "code",
   "execution_count": 4,
   "metadata": {},
   "outputs": [],
   "source": [
    "class TreeNode:\n",
    "    def __init__(self,val=0,left=None,right=None):\n",
    "        self.val=val\n",
    "        self.left=left\n",
    "        self.right=right"
   ]
  },
  {
   "cell_type": "code",
   "execution_count": 33,
   "metadata": {},
   "outputs": [],
   "source": [
    "class BinaryTree:\n",
    "    def __init__(self,root=None):\n",
    "        self.root = TreeNode(root)\n",
    "    \n",
    "    def insert_left(self,val):\n",
    "        if not self.root: \n",
    "            self.root=TreeNode(val)\n",
    "            return \n",
    "        else:\n",
    "            cur = self.root\n",
    "            while cur.left:\n",
    "                cur = cur.left\n",
    "            cur.left=TreeNode(val)\n",
    "    \n",
    "    def preorder(self,root):\n",
    "        return [root.val] + self.preorder(root.left) + self.preorder(root.right) if root else []\n",
    "    \n",
    "    def inorder(self,root):\n",
    "        return self.inorder(root.left) + [root.val] + self.inorder(root.right) if root else []\n",
    "    \n",
    "    def postorder(self,root):\n",
    "        return self.postorder(root.left) + self.postorder(root.right) + [root.val] if root else []"
   ]
  },
  {
   "cell_type": "code",
   "execution_count": 34,
   "metadata": {},
   "outputs": [
    {
     "name": "stdout",
     "output_type": "stream",
     "text": [
      "[11, 8, 5, 15, 17, 19]\n",
      "[5, 8, 15, 11, 17, 19]\n",
      "[5, 15, 8, 19, 17, 11]\n"
     ]
    }
   ],
   "source": [
    "'''\n",
    "        11\n",
    "       /  \\\n",
    "      8    17  \n",
    "     / \\    \\\n",
    "    5  15   19\n",
    "'''\n",
    "tree=BinaryTree(11)\n",
    "tree.root.left=TreeNode(8) \n",
    "tree.root.left.left=TreeNode(5)\n",
    "tree.root.left.right=TreeNode(15) \n",
    "tree.root.right=TreeNode(17) \n",
    "tree.root.right.right=TreeNode(19) \n",
    "print(tree.preorder(tree.root))\n",
    "print(tree.inorder(tree.root))\n",
    "print(tree.postorder(tree.root))"
   ]
  },
  {
   "cell_type": "code",
   "execution_count": null,
   "metadata": {},
   "outputs": [],
   "source": []
  },
  {
   "cell_type": "code",
   "execution_count": null,
   "metadata": {},
   "outputs": [],
   "source": []
  }
 ],
 "metadata": {
  "kernelspec": {
   "display_name": "Python 3",
   "language": "python",
   "name": "python3"
  },
  "language_info": {
   "codemirror_mode": {
    "name": "ipython",
    "version": 3
   },
   "file_extension": ".py",
   "mimetype": "text/x-python",
   "name": "python",
   "nbconvert_exporter": "python",
   "pygments_lexer": "ipython3",
   "version": "3.8.5"
  }
 },
 "nbformat": 4,
 "nbformat_minor": 4
}
