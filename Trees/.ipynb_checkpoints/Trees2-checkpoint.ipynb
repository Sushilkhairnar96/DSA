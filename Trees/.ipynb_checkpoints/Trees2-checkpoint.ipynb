{
 "cells": [
  {
   "cell_type": "code",
   "execution_count": 4,
   "metadata": {},
   "outputs": [],
   "source": [
    "class TreeNode:\n",
    "    def __init__(self,val=0,left=None,right=None):\n",
    "        self.val=val\n",
    "        self.left=left\n",
    "        self.right=right"
   ]
  },
  {
   "cell_type": "code",
   "execution_count": 5,
   "metadata": {},
   "outputs": [],
   "source": [
    "class BinaryTree:\n",
    "    def __init__(self,root=None):\n",
    "        self.root=TreeNode(root)\n",
    "    \n",
    "    def sortedArrayToBST(self, nums):\n",
    "        if not nums:\n",
    "            return None\n",
    "        \n",
    "        mid = len(nums) // 2\n",
    "        \n",
    "        root = TreeNode(nums[mid])\n",
    "        print(root.val)\n",
    "        root.left = self.sortedArrayToBST(nums[:mid])\n",
    "        root.right = self.sortedArrayToBST(nums[mid+1:])\n",
    "        \n",
    "        return root\n",
    "    '''\n",
    "    def sortedArrayToBST(self, nums):\n",
    "        return self.helper(nums, 0, len(nums) - 1)\n",
    "    \n",
    "    def helper(self, nums, low, high):\n",
    "        if low > high:\n",
    "            return None\n",
    "        mid = (low + high) // 2\n",
    "        root = TreeNode(nums[mid])\n",
    "        print(root.val)\n",
    "        root.left = self.helper(nums, low, mid - 1)\n",
    "        root.right = self.helper(nums, mid + 1, high)\n",
    "        \n",
    "        return root\n",
    "    '''"
   ]
  },
  {
   "cell_type": "code",
   "execution_count": 6,
   "metadata": {},
   "outputs": [
    {
     "name": "stdout",
     "output_type": "stream",
     "text": [
      "\n",
      "sortedArrayToBST:\n",
      "0\n",
      "-3\n",
      "-10\n",
      "9\n",
      "5\n",
      "*********\n"
     ]
    }
   ],
   "source": [
    "print(\"\\nsortedArrayToBST:\")\n",
    "tree1=BinaryTree()\n",
    "tree1.sortedArrayToBST([-10,-3,0,5,9])\n",
    "print(\"*********\")"
   ]
  },
  {
   "cell_type": "code",
   "execution_count": null,
   "metadata": {},
   "outputs": [],
   "source": []
  }
 ],
 "metadata": {
  "kernelspec": {
   "display_name": "Python 3",
   "language": "python",
   "name": "python3"
  },
  "language_info": {
   "codemirror_mode": {
    "name": "ipython",
    "version": 3
   },
   "file_extension": ".py",
   "mimetype": "text/x-python",
   "name": "python",
   "nbconvert_exporter": "python",
   "pygments_lexer": "ipython3",
   "version": "3.7.3"
  }
 },
 "nbformat": 4,
 "nbformat_minor": 2
}
