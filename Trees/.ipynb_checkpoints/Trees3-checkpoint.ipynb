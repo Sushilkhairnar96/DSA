{
 "cells": [
  {
   "cell_type": "code",
   "execution_count": 4,
   "metadata": {},
   "outputs": [],
   "source": [
    "class TreeNode:\n",
    "    def __init__(self,val=0,left=None,right=None):\n",
    "        self.val=val\n",
    "        self.left=left\n",
    "        self.right=right"
   ]
  },
  {
   "cell_type": "code",
   "execution_count": 5,
   "metadata": {},
   "outputs": [],
   "source": [
    "class BT:\n",
    "    def __init__(self,root=None):\n",
    "        self.root=TreeNode(root)\n",
    "        \n",
    "    def sumRootToLeaf(self, root: TreeNode) -> int:\n",
    "        def bin2dec(s1):\n",
    "            res=0\n",
    "            for i in s1:\n",
    "                res=2*res+int(i)\n",
    "            return res\n",
    "        \n",
    "        def find_leaf(s,root,x):\n",
    "            if root.left:\n",
    "                find_leaf(s+str(root.left.val),root.left,x)\n",
    "            if root.right:\n",
    "                find_leaf(s+str(root.right.val),root.right,x)\n",
    "            if not root.left and not root.right:\n",
    "                x.append(bin2dec(s))\n",
    "                return sum(x)\n",
    "            else:\n",
    "                return sum(x)\n",
    "        \n",
    "        s=str(root.val)\n",
    "        x=[]\n",
    "        return find_leaf(s,root,x)"
   ]
  },
  {
   "cell_type": "code",
   "execution_count": 11,
   "metadata": {},
   "outputs": [
    {
     "name": "stdout",
     "output_type": "stream",
     "text": [
      "22\n"
     ]
    }
   ],
   "source": [
    "tree=BT(1)\n",
    "tree.root.left=TreeNode(0) \n",
    "tree.root.right=TreeNode(1) \n",
    "tree.root.left.left=TreeNode(0)\n",
    "tree.root.left.right=TreeNode(1)\n",
    "tree.root.right.left=TreeNode(0)\n",
    "tree.root.right.right=TreeNode(1)\n",
    "'''\n",
    "Input: [1,0,1,0,1,0,1]\n",
    "Output: 22\n",
    "Explanation: (100) + (101) + (110) + (111) = 4 + 5 + 6 + 7 = 22\n",
    "\n",
    "#           1\n",
    "#        /    \\\n",
    "#       0      1\n",
    "#      / \\    / \\\n",
    "#     0  1   0   1\n",
    "'''\n",
    "print(tree.sumRootToLeaf(tree.root))"
   ]
  },
  {
   "cell_type": "code",
   "execution_count": 10,
   "metadata": {},
   "outputs": [],
   "source": []
  },
  {
   "cell_type": "code",
   "execution_count": null,
   "metadata": {},
   "outputs": [],
   "source": []
  }
 ],
 "metadata": {
  "kernelspec": {
   "display_name": "Python 3",
   "language": "python",
   "name": "python3"
  },
  "language_info": {
   "codemirror_mode": {
    "name": "ipython",
    "version": 3
   },
   "file_extension": ".py",
   "mimetype": "text/x-python",
   "name": "python",
   "nbconvert_exporter": "python",
   "pygments_lexer": "ipython3",
   "version": "3.7.3"
  }
 },
 "nbformat": 4,
 "nbformat_minor": 2
}
