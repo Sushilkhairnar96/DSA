{
 "cells": [
  {
   "cell_type": "code",
   "execution_count": 2,
   "metadata": {},
   "outputs": [],
   "source": [
    "#CLosures:\n",
    "\n",
    "def outer_function(msg):\n",
    "    \n",
    "    def inner_function():\n",
    "        print(msg)\n",
    "        \n",
    "    return inner_function   \n",
    "\n",
    "hi_msg=outer_function('HI')       #inner function waiting to be excuted\n",
    "bye_msg=outer_function('BYE')"
   ]
  },
  {
   "cell_type": "code",
   "execution_count": 3,
   "metadata": {},
   "outputs": [
    {
     "name": "stdout",
     "output_type": "stream",
     "text": [
      "HI\n"
     ]
    }
   ],
   "source": [
    "hi_msg()"
   ]
  },
  {
   "cell_type": "code",
   "execution_count": 4,
   "metadata": {},
   "outputs": [
    {
     "name": "stdout",
     "output_type": "stream",
     "text": [
      "BYE\n"
     ]
    }
   ],
   "source": [
    "bye_msg()"
   ]
  },
  {
   "cell_type": "markdown",
   "metadata": {},
   "source": [
    "A decorator in Python is any callable Python object that is used to modify a function or a class (Add additional functionality to the function or a class). A reference to a function \"func\" or a class \"C\" is passed to a decorator and the decorator returns a modified function or class. The modified functions or classes usually contain calls to the original function \"func\" or class \"C\".\n",
    "\n"
   ]
  },
  {
   "cell_type": "code",
   "execution_count": 11,
   "metadata": {},
   "outputs": [
    {
     "name": "stdout",
     "output_type": "stream",
     "text": [
      "wrapper function executed before display \n",
      "Display function ran\n"
     ]
    }
   ],
   "source": [
    "def decorator_function(original_function):\n",
    "    \n",
    "    def wrapper_function():\n",
    "        print(f'wrapper function executed before {original_function.__name__} ')\n",
    "        return original_function()\n",
    "        \n",
    "    return wrapper_function   \n",
    "\n",
    "@decorator_function      #same as display = decorator_function(display)\n",
    "def display():\n",
    "    print(\"Display function ran\")\n",
    "    \n",
    "display()"
   ]
  },
  {
   "cell_type": "markdown",
   "metadata": {},
   "source": [
    "# Decorator Function with arguments:"
   ]
  },
  {
   "cell_type": "markdown",
   "metadata": {},
   "source": [
    "*args and **kwargs allow you to pass multiple arguments or keyword arguments to a function. \n",
    "\n",
    "Note that args is just a name. You’re not required to use the name args. You can choose any name that you prefer, All that matters here is that you use the unpacking operator (*).\n",
    "\n",
    " **kwargs works just like *args, but instead of accepting positional arguments it accepts keyword (or named) arguments."
   ]
  },
  {
   "cell_type": "code",
   "execution_count": 25,
   "metadata": {},
   "outputs": [
    {
     "name": "stdout",
     "output_type": "stream",
     "text": [
      "wrapper function executed before display \n",
      "Display function ran\n",
      "\n",
      "\n",
      "wrapper function executed before display_info \n",
      "Display function ran with arguments: Sushil and 24\n"
     ]
    }
   ],
   "source": [
    "def decorator_function(original_function):\n",
    "    \n",
    "    def wrapper_function(*args, **kwargs):\n",
    "        print(f'wrapper function executed before {original_function.__name__} ')\n",
    "        return original_function(*args, **kwargs)\n",
    "        \n",
    "    return wrapper_function   \n",
    "\n",
    "@decorator_function      #same as display = decorator_function(display)\n",
    "def display():\n",
    "    print(\"Display function ran\")\n",
    "    \n",
    "@decorator_function   \n",
    "def display_info(name,age): #same as display = decorator_function(display_info)\n",
    "    print(f\"Display function ran with arguments: {name} and {age}\")\n",
    "\n",
    "display()\n",
    "print(\"\\n\")\n",
    "display_info(\"Sushil\",24)"
   ]
  },
  {
   "cell_type": "markdown",
   "metadata": {},
   "source": [
    "## *args"
   ]
  },
  {
   "cell_type": "markdown",
   "metadata": {},
   "source": [
    "The special syntax *args in function definitions in python is used to pass a variable number of arguments to a function. It is used to pass a non-keyworded, variable-length argument list.\n",
    "\n",
    "The syntax is to use the symbol * to take in a variable number of arguments; by convention, it is often used with the word args.\n",
    "\n",
    "What *args allows you to do is take in more arguments than the number of formal arguments that you previously defined. With *args, any number of extra arguments can be tacked on to your current formal parameters (including zero extra arguments).\n",
    "For example : we want to make a multiply function that takes any number of arguments and able to multiply them all together. It can be done using *args.\n",
    "Using the *, the variable that we associate with the * becomes an iterable meaning you can do things like iterate over it, run some higher order functions such as map and filter, etc."
   ]
  },
  {
   "cell_type": "code",
   "execution_count": 27,
   "metadata": {},
   "outputs": [
    {
     "name": "stdout",
     "output_type": "stream",
     "text": [
      "Hello\n",
      "Welcome\n",
      "to\n",
      "GeeksforGeeks\n"
     ]
    }
   ],
   "source": [
    "def myFun(*argv):  \n",
    "    for arg in argv:  \n",
    "        print (arg) \n",
    "    \n",
    "myFun('Hello', 'Welcome', 'to', 'GeeksforGeeks') "
   ]
  },
  {
   "cell_type": "markdown",
   "metadata": {},
   "source": [
    "## **kwargs"
   ]
  },
  {
   "cell_type": "markdown",
   "metadata": {},
   "source": [
    "The special syntax **kwargs in function definitions in python is used to pass a keyworded, variable-length argument list. We use the name kwargs with the double star. The reason is because the double star allows us to pass through keyword arguments (and any number of them).\n",
    "\n",
    "A keyword argument is where you provide a name to the variable as you pass it into the function.\n",
    "One can think of the kwargs as being a dictionary that maps each keyword to the value that we pass alongside it. That is why when we iterate over the kwargs there doesn’t seem to be any order in which they were printed out."
   ]
  },
  {
   "cell_type": "code",
   "execution_count": 32,
   "metadata": {},
   "outputs": [
    {
     "name": "stdout",
     "output_type": "stream",
     "text": [
      "first == Geeks\n",
      "mid == for\n",
      "last == Geeks\n"
     ]
    }
   ],
   "source": [
    "def myFun(**kwargs):   #kwargs acting as a dictionary\n",
    "    for key, value in kwargs.items(): \n",
    "        print (\"%s == %s\" %(key, value)) \n",
    "\n",
    "# Driver code \n",
    "myFun(first ='Geeks', mid ='for', last='Geeks') "
   ]
  },
  {
   "cell_type": "markdown",
   "metadata": {},
   "source": [
    "# Decorator Class:"
   ]
  },
  {
   "cell_type": "code",
   "execution_count": 41,
   "metadata": {},
   "outputs": [
    {
     "name": "stdout",
     "output_type": "stream",
     "text": [
      "The call method executed before display\n",
      "Display function ran\n",
      "The call method executed before display_info\n",
      "Display function ran with arguments: sam and 22\n"
     ]
    }
   ],
   "source": [
    "class decorator_class(object):\n",
    "    \n",
    "    def __init__(self,original_function):\n",
    "        self.original_function=original_function\n",
    "        \n",
    "    def __call__(self,*args,**kwargs):\n",
    "        print(f'The call method executed before {self.original_function.__name__}')\n",
    "        return self.original_function(*args, **kwargs)\n",
    "\n",
    "\n",
    "@decorator_class\n",
    "def display():\n",
    "    print(\"Display function ran\")\n",
    "    \n",
    "@decorator_class   \n",
    "def display_info(name,age): \n",
    "    print(f\"Display function ran with arguments: {name} and {age}\")\n",
    "\n",
    "display()\n",
    "display_info(\"sam\",22)"
   ]
  },
  {
   "cell_type": "code",
   "execution_count": 42,
   "metadata": {},
   "outputs": [],
   "source": [
    "# Practical Examples\n",
    "\n",
    "def my_logger(orig_func):\n",
    "    import logging\n",
    "    logging.basicConfig(filename='{}.log'.format(orig_func.__name__), level=logging.INFO)\n",
    "\n",
    "    def wrapper(*args, **kwargs):\n",
    "        logging.info(\n",
    "            'Ran with args: {}, and kwargs: {}'.format(args, kwargs))\n",
    "        return orig_func(*args, **kwargs)\n",
    "\n",
    "    return wrapper\n",
    "\n",
    "\n",
    "def my_timer(orig_func):\n",
    "    import time\n",
    "\n",
    "    def wrapper(*args, **kwargs):\n",
    "        t1 = time.time()\n",
    "        result = orig_func(*args, **kwargs)\n",
    "        t2 = time.time() - t1\n",
    "        print('{} ran in: {} sec'.format(orig_func.__name__, t2))\n",
    "        return result\n",
    "\n",
    "    return wrapper"
   ]
  },
  {
   "cell_type": "code",
   "execution_count": 44,
   "metadata": {},
   "outputs": [
    {
     "name": "stdout",
     "output_type": "stream",
     "text": [
      "Display function ran with arguments: SK and 22\n"
     ]
    }
   ],
   "source": [
    "@my_logger\n",
    "def display_info(name,age): \n",
    "    print(f\"Display function ran with arguments: {name} and {age}\")\n",
    "display_info(\"SK\",22)    "
   ]
  },
  {
   "cell_type": "code",
   "execution_count": 45,
   "metadata": {},
   "outputs": [
    {
     "name": "stdout",
     "output_type": "stream",
     "text": [
      "Display function ran with arguments: SK and 22\n",
      "display_info ran in: 1.0078959465026855 sec\n"
     ]
    }
   ],
   "source": [
    "import time\n",
    "@my_timer\n",
    "def display_info(name,age): \n",
    "    time.sleep(1)\n",
    "    print(f\"Display function ran with arguments: {name} and {age}\")\n",
    "display_info(\"SK\",22) "
   ]
  },
  {
   "cell_type": "markdown",
   "metadata": {},
   "source": [
    "## Applying 2 decorators to one function: "
   ]
  },
  {
   "cell_type": "code",
   "execution_count": 49,
   "metadata": {},
   "outputs": [
    {
     "name": "stdout",
     "output_type": "stream",
     "text": [
      "Display function ran with arguments: SK and 22\n",
      "display_info ran in: 1.007899284362793 sec\n"
     ]
    }
   ],
   "source": [
    "from functools import wraps\n",
    "def my_logger(orig_func):\n",
    "    import logging\n",
    "    logging.basicConfig(filename='{}.log'.format(orig_func.__name__), level=logging.INFO)\n",
    "    \n",
    "    @wraps(orig_func)\n",
    "    def wrapper(*args, **kwargs):\n",
    "        logging.info(\n",
    "            'Ran with args: {}, and kwargs: {}'.format(args, kwargs))\n",
    "        return orig_func(*args, **kwargs)\n",
    "\n",
    "    return wrapper\n",
    "\n",
    "\n",
    "def my_timer(orig_func):\n",
    "    import time\n",
    "    @wraps(orig_func)\n",
    "    def wrapper(*args, **kwargs):\n",
    "        t1 = time.time()\n",
    "        result = orig_func(*args, **kwargs)\n",
    "        t2 = time.time() - t1\n",
    "        print('{} ran in: {} sec'.format(orig_func.__name__, t2))\n",
    "        return result\n",
    "\n",
    "    return wrapper\n",
    "\n",
    "\n",
    "@my_logger\n",
    "@my_timer     #  display_info = my_logger(my_timer(display_info))\n",
    "def display_info(name,age): \n",
    "    time.sleep(1)\n",
    "    print(f\"Display function ran with arguments: {name} and {age}\")\n",
    "display_info(\"SK\",22) "
   ]
  },
  {
   "cell_type": "code",
   "execution_count": null,
   "metadata": {},
   "outputs": [],
   "source": []
  }
 ],
 "metadata": {
  "kernelspec": {
   "display_name": "Python 3",
   "language": "python",
   "name": "python3"
  },
  "language_info": {
   "codemirror_mode": {
    "name": "ipython",
    "version": 3
   },
   "file_extension": ".py",
   "mimetype": "text/x-python",
   "name": "python",
   "nbconvert_exporter": "python",
   "pygments_lexer": "ipython3",
   "version": "3.7.3"
  }
 },
 "nbformat": 4,
 "nbformat_minor": 2
}
