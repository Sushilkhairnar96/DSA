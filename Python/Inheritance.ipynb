{
 "cells": [
  {
   "cell_type": "code",
   "execution_count": 3,
   "metadata": {},
   "outputs": [
    {
     "name": "stdout",
     "output_type": "stream",
     "text": [
      "Sushil (24)\n"
     ]
    }
   ],
   "source": [
    "CURRENT_YEAR=2020\n",
    "class Person:\n",
    "    def __init__(self,name,year_born):\n",
    "        self.name = name\n",
    "        self.year_born=year_born\n",
    "        \n",
    "    def getAge(self):\n",
    "        return CURRENT_YEAR - self.year_born\n",
    "    \n",
    "    def __str__(self):\n",
    "        return \"{} ({})\".format(self.name,self.getAge())\n",
    "\n",
    "person = Person(\"Sushil\",1996)\n",
    "print(person)"
   ]
  },
  {
   "cell_type": "code",
   "execution_count": 6,
   "metadata": {},
   "outputs": [
    {
     "name": "stdout",
     "output_type": "stream",
     "text": [
      "Sam (22)\n",
      "0\n",
      "1\n"
     ]
    }
   ],
   "source": [
    "class Student(Person):\n",
    "    def __init__(self,name,year_born):\n",
    "        Person.__init__(self,name,year_born)\n",
    "        self.knowledge=0\n",
    "    \n",
    "    def study(self):\n",
    "        self.knowledge+=1\n",
    "        \n",
    "student = Student(\"Sam\",1998)        \n",
    "print(student)\n",
    "print(student.knowledge)\n",
    "student.study()\n",
    "print(student.knowledge)"
   ]
  },
  {
   "cell_type": "code",
   "execution_count": null,
   "metadata": {},
   "outputs": [],
   "source": []
  }
 ],
 "metadata": {
  "kernelspec": {
   "display_name": "Python 3",
   "language": "python",
   "name": "python3"
  },
  "language_info": {
   "codemirror_mode": {
    "name": "ipython",
    "version": 3
   },
   "file_extension": ".py",
   "mimetype": "text/x-python",
   "name": "python",
   "nbconvert_exporter": "python",
   "pygments_lexer": "ipython3",
   "version": "3.8.5"
  }
 },
 "nbformat": 4,
 "nbformat_minor": 2
}
