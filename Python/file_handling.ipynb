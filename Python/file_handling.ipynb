{
 "cells": [
  {
   "cell_type": "markdown",
   "metadata": {},
   "source": [
    "# TEXT Files"
   ]
  },
  {
   "cell_type": "markdown",
   "metadata": {},
   "source": [
    "## Read"
   ]
  },
  {
   "cell_type": "code",
   "execution_count": 38,
   "metadata": {},
   "outputs": [],
   "source": [
    "f = open('test.txt','r')  #f is a file object used to access or modify file contents"
   ]
  },
  {
   "cell_type": "code",
   "execution_count": 39,
   "metadata": {},
   "outputs": [
    {
     "data": {
      "text/plain": [
       "'Hello, This is a new file\\nThis is first line.\\nThis is Second Line.\\n6+29=35'"
      ]
     },
     "execution_count": 39,
     "metadata": {},
     "output_type": "execute_result"
    }
   ],
   "source": [
    "f.read()"
   ]
  },
  {
   "cell_type": "code",
   "execution_count": 40,
   "metadata": {},
   "outputs": [
    {
     "data": {
      "text/plain": [
       "0"
      ]
     },
     "execution_count": 40,
     "metadata": {},
     "output_type": "execute_result"
    }
   ],
   "source": [
    "f.seek(0) #to bring the pointer to 0"
   ]
  },
  {
   "cell_type": "code",
   "execution_count": 41,
   "metadata": {},
   "outputs": [
    {
     "data": {
      "text/plain": [
       "'Hello'"
      ]
     },
     "execution_count": 41,
     "metadata": {},
     "output_type": "execute_result"
    }
   ],
   "source": [
    "f.read(5)"
   ]
  },
  {
   "cell_type": "code",
   "execution_count": 42,
   "metadata": {},
   "outputs": [
    {
     "data": {
      "text/plain": [
       "5"
      ]
     },
     "execution_count": 42,
     "metadata": {},
     "output_type": "execute_result"
    }
   ],
   "source": [
    "f.tell() #tell the current location of file pointer"
   ]
  },
  {
   "cell_type": "code",
   "execution_count": 43,
   "metadata": {},
   "outputs": [
    {
     "data": {
      "text/plain": [
       "', This is a new file\\n'"
      ]
     },
     "execution_count": 43,
     "metadata": {},
     "output_type": "execute_result"
    }
   ],
   "source": [
    "f.readline()         #to print the entire line (single line)"
   ]
  },
  {
   "cell_type": "code",
   "execution_count": 44,
   "metadata": {},
   "outputs": [
    {
     "data": {
      "text/plain": [
       "26"
      ]
     },
     "execution_count": 44,
     "metadata": {},
     "output_type": "execute_result"
    }
   ],
   "source": [
    "f.tell()"
   ]
  },
  {
   "cell_type": "code",
   "execution_count": 45,
   "metadata": {},
   "outputs": [
    {
     "name": "stdout",
     "output_type": "stream",
     "text": [
      "This is first line.\n"
     ]
    }
   ],
   "source": [
    "print(f.readline(),end=\"\")"
   ]
  },
  {
   "cell_type": "code",
   "execution_count": 46,
   "metadata": {},
   "outputs": [
    {
     "data": {
      "text/plain": [
       "['Hello, This is a new file\\n',\n",
       " 'This is first line.\\n',\n",
       " 'This is Second Line.\\n',\n",
       " '6+29=35']"
      ]
     },
     "execution_count": 46,
     "metadata": {},
     "output_type": "execute_result"
    }
   ],
   "source": [
    "f.seek(0)\n",
    "lines= f.readlines()\n",
    "lines"
   ]
  },
  {
   "cell_type": "code",
   "execution_count": 47,
   "metadata": {},
   "outputs": [
    {
     "name": "stdout",
     "output_type": "stream",
     "text": [
      "Hello, This is a new file\n",
      "This is first line.\n",
      "This is Second Line.\n",
      "6+29=35"
     ]
    }
   ],
   "source": [
    "for line in lines:\n",
    "    print(line,end=\"\")\n",
    "f.close()"
   ]
  },
  {
   "cell_type": "markdown",
   "metadata": {},
   "source": [
    "## Write"
   ]
  },
  {
   "cell_type": "code",
   "execution_count": 50,
   "metadata": {},
   "outputs": [],
   "source": [
    "#If a file exists, it is overwritten\n",
    "with open(\"demo.txt\",\"w\") as f:    #when we open a file using with keyword => Context Manger will handle closing of file\n",
    "    f.write(\"Hi first line\\n\")\n",
    "    f.write(\"Hi second line\\n\")\n",
    "    f.write(\"Hi third line\\n\")"
   ]
  },
  {
   "cell_type": "markdown",
   "metadata": {},
   "source": [
    "# Binary Files"
   ]
  },
  {
   "cell_type": "code",
   "execution_count": 52,
   "metadata": {},
   "outputs": [],
   "source": [
    "try:\n",
    "    with open('file',\"rb\") as f:         #r=read,#b=binary\n",
    "        print(f.read())\n",
    "except:\n",
    "    pass"
   ]
  },
  {
   "cell_type": "markdown",
   "metadata": {},
   "source": [
    "# CSV Files"
   ]
  },
  {
   "cell_type": "code",
   "execution_count": 58,
   "metadata": {},
   "outputs": [
    {
     "name": "stdout",
     "output_type": "stream",
     "text": [
      "['Name', 'id', 'class']\n",
      "['sam', '3', '5']\n",
      "['matt', '5', '6']\n",
      "['bob', '4', '5']\n",
      "['matthew', '1', '4']\n",
      "['andrew', '2', '3']\n"
     ]
    }
   ],
   "source": [
    "import csv\n",
    "with open(\"test1.csv\",\"r\") as f:\n",
    "    reader=csv.reader(f)\n",
    "    for row in reader:\n",
    "        print(row)"
   ]
  },
  {
   "cell_type": "code",
   "execution_count": 72,
   "metadata": {},
   "outputs": [
    {
     "name": "stdout",
     "output_type": "stream",
     "text": [
      "Name\n",
      "sam\n",
      "matt\n",
      "bob\n",
      "matthew\n",
      "andrew\n"
     ]
    }
   ],
   "source": [
    "with open(\"test1.csv\",\"r\") as f:\n",
    "    reader=csv.reader(f,skipinitialspace=True)\n",
    "    for row in reader:\n",
    "        print(row[0])"
   ]
  },
  {
   "cell_type": "code",
   "execution_count": 73,
   "metadata": {},
   "outputs": [
    {
     "name": "stdout",
     "output_type": "stream",
     "text": [
      "id\n",
      "3\n",
      "5\n",
      "4\n",
      "1\n",
      "2\n"
     ]
    }
   ],
   "source": [
    "with open(\"test1.csv\",\"r\") as f:\n",
    "    reader=csv.reader(f)\n",
    "    for row in reader:\n",
    "        print(row[1])"
   ]
  },
  {
   "cell_type": "code",
   "execution_count": 90,
   "metadata": {},
   "outputs": [
    {
     "name": "stdout",
     "output_type": "stream",
     "text": [
      "OrderedDict([('Name', 'sam'), ('id', '3'), ('class', '5')])\n",
      "OrderedDict([('Name', 'matt'), ('id', '5'), ('class', '6')])\n",
      "OrderedDict([('Name', 'bob'), ('id', '4'), ('class', '5')])\n",
      "OrderedDict([('Name', 'matthew'), ('id', '1'), ('class', '4')])\n",
      "OrderedDict([('Name', 'andrew'), ('id', '2'), ('class', '3')])\n",
      "3\n",
      "5\n",
      "4\n",
      "1\n",
      "2\n"
     ]
    }
   ],
   "source": [
    "with open(\"test1.csv\",\"r\") as f:\n",
    "    reader=csv.DictReader(f,skipinitialspace=True)\n",
    "    for row in reader:\n",
    "        print(row)\n",
    "        \n",
    "with open(\"test1.csv\",\"r\") as f:\n",
    "    reader=csv.DictReader(f,skipinitialspace=True)\n",
    "    for row in reader:\n",
    "        print(row['id'])"
   ]
  },
  {
   "cell_type": "code",
   "execution_count": 69,
   "metadata": {},
   "outputs": [],
   "source": [
    "#Write\n",
    "with open(\"test2.csv\",\"w\") as f:\n",
    "    writer=csv.writer(f)\n",
    "    writer.writerow(['Name', 'id', 'class'])\n",
    "    writer.writerow(['andrew', '2', '3'])"
   ]
  },
  {
   "cell_type": "markdown",
   "metadata": {},
   "source": [
    "## Sort a column in a file "
   ]
  },
  {
   "cell_type": "code",
   "execution_count": 95,
   "metadata": {},
   "outputs": [
    {
     "name": "stdout",
     "output_type": "stream",
     "text": [
      "root:!:0:0::/:/usr/bin/ksh\n",
      "daemon:!:1:1::/etc:\n",
      "bin:!:2:2::/bin:\n",
      "sys:!:3:3::/usr/sys: \n",
      "adm:!:4:4::/var/adm:\n",
      "uucp:!:5:5::/usr/lib/uucp: \n",
      "guest:!:100:100::/home/guest:\n",
      "nobody:!:4294967294:4294967294::/:\n",
      "lpd:!:9:4294967294::/:\n",
      "lp:*:11:11::/var/spool/lp:/bin/false \n",
      "invscout:*:200:1::/var/adm/invscout:/usr/bin/ksh\n",
      "nuucp:*:6:5:uucp login user:/var/spool/uucppublic:/usr/sbin/uucp/uucico\n",
      "paul:!:201:1::/home/paul:/usr/bin/ksh\n",
      "jdoe:*:202:1:John Doe:/home/jdoe:/usr/bin/ksh "
     ]
    }
   ],
   "source": [
    "with open(\"test2.txt\",\"r\") as f:\n",
    "    lines=f.readlines()\n",
    "    for line in lines:\n",
    "        print(line,end=\"\")"
   ]
  },
  {
   "cell_type": "code",
   "execution_count": 122,
   "metadata": {},
   "outputs": [],
   "source": [
    "'''\n",
    "import csv\n",
    "csv.register_dialect('colon', delimiter=':', quoting=csv.QUOTE_NONE)\n",
    "\n",
    "with open(\"fruits.csv\", \"a\") as f:\n",
    "    w = csv.writer(f)\n",
    "    w.writerow([\"user\",\"col1\",\"col2\",\"col3\",\"col4\",\"col5\",\"col6\"], dialect='colon')\n",
    "    for data in yourdata:\n",
    "        w.writerow(data)\n",
    "'''\n",
    "#with open('test2.txt') as infile, open('test2.csv', 'w') as outfile:\n",
    "#    outfile.write(infile.read().replace(\":\", \",\"))"
   ]
  },
  {
   "cell_type": "code",
   "execution_count": 131,
   "metadata": {},
   "outputs": [
    {
     "data": {
      "text/html": [
       "<div>\n",
       "<style scoped>\n",
       "    .dataframe tbody tr th:only-of-type {\n",
       "        vertical-align: middle;\n",
       "    }\n",
       "\n",
       "    .dataframe tbody tr th {\n",
       "        vertical-align: top;\n",
       "    }\n",
       "\n",
       "    .dataframe thead th {\n",
       "        text-align: right;\n",
       "    }\n",
       "</style>\n",
       "<table border=\"1\" class=\"dataframe\">\n",
       "  <thead>\n",
       "    <tr style=\"text-align: right;\">\n",
       "      <th></th>\n",
       "      <th>user</th>\n",
       "      <th>col1</th>\n",
       "      <th>col2</th>\n",
       "      <th>col3</th>\n",
       "      <th>col4</th>\n",
       "      <th>col5</th>\n",
       "      <th>col6</th>\n",
       "    </tr>\n",
       "  </thead>\n",
       "  <tbody>\n",
       "    <tr>\n",
       "      <th>0</th>\n",
       "      <td>daemon</td>\n",
       "      <td>!</td>\n",
       "      <td>1</td>\n",
       "      <td>1</td>\n",
       "      <td>NaN</td>\n",
       "      <td>/etc</td>\n",
       "      <td>NaN</td>\n",
       "    </tr>\n",
       "    <tr>\n",
       "      <th>1</th>\n",
       "      <td>bin</td>\n",
       "      <td>!</td>\n",
       "      <td>2</td>\n",
       "      <td>2</td>\n",
       "      <td>NaN</td>\n",
       "      <td>/bin</td>\n",
       "      <td>NaN</td>\n",
       "    </tr>\n",
       "    <tr>\n",
       "      <th>2</th>\n",
       "      <td>sys</td>\n",
       "      <td>!</td>\n",
       "      <td>3</td>\n",
       "      <td>3</td>\n",
       "      <td>NaN</td>\n",
       "      <td>/usr/sys</td>\n",
       "      <td></td>\n",
       "    </tr>\n",
       "    <tr>\n",
       "      <th>3</th>\n",
       "      <td>adm</td>\n",
       "      <td>!</td>\n",
       "      <td>4</td>\n",
       "      <td>4</td>\n",
       "      <td>NaN</td>\n",
       "      <td>/var/adm</td>\n",
       "      <td>NaN</td>\n",
       "    </tr>\n",
       "    <tr>\n",
       "      <th>4</th>\n",
       "      <td>uucp</td>\n",
       "      <td>!</td>\n",
       "      <td>5</td>\n",
       "      <td>5</td>\n",
       "      <td>NaN</td>\n",
       "      <td>/usr/lib/uucp</td>\n",
       "      <td></td>\n",
       "    </tr>\n",
       "    <tr>\n",
       "      <th>5</th>\n",
       "      <td>guest</td>\n",
       "      <td>!</td>\n",
       "      <td>100</td>\n",
       "      <td>100</td>\n",
       "      <td>NaN</td>\n",
       "      <td>/home/guest</td>\n",
       "      <td>NaN</td>\n",
       "    </tr>\n",
       "    <tr>\n",
       "      <th>6</th>\n",
       "      <td>nobody</td>\n",
       "      <td>!</td>\n",
       "      <td>4294967294</td>\n",
       "      <td>4294967294</td>\n",
       "      <td>NaN</td>\n",
       "      <td>/</td>\n",
       "      <td>NaN</td>\n",
       "    </tr>\n",
       "    <tr>\n",
       "      <th>7</th>\n",
       "      <td>lpd</td>\n",
       "      <td>!</td>\n",
       "      <td>9</td>\n",
       "      <td>4294967294</td>\n",
       "      <td>NaN</td>\n",
       "      <td>/</td>\n",
       "      <td>NaN</td>\n",
       "    </tr>\n",
       "    <tr>\n",
       "      <th>8</th>\n",
       "      <td>lp</td>\n",
       "      <td>*</td>\n",
       "      <td>11</td>\n",
       "      <td>11</td>\n",
       "      <td>NaN</td>\n",
       "      <td>/var/spool/lp</td>\n",
       "      <td>/bin/false</td>\n",
       "    </tr>\n",
       "    <tr>\n",
       "      <th>9</th>\n",
       "      <td>invscout</td>\n",
       "      <td>*</td>\n",
       "      <td>200</td>\n",
       "      <td>1</td>\n",
       "      <td>NaN</td>\n",
       "      <td>/var/adm/invscout</td>\n",
       "      <td>/usr/bin/ksh</td>\n",
       "    </tr>\n",
       "    <tr>\n",
       "      <th>10</th>\n",
       "      <td>nuucp</td>\n",
       "      <td>*</td>\n",
       "      <td>6</td>\n",
       "      <td>5</td>\n",
       "      <td>uucp login user</td>\n",
       "      <td>/var/spool/uucppublic</td>\n",
       "      <td>/usr/sbin/uucp/uucico</td>\n",
       "    </tr>\n",
       "    <tr>\n",
       "      <th>11</th>\n",
       "      <td>paul</td>\n",
       "      <td>!</td>\n",
       "      <td>201</td>\n",
       "      <td>1</td>\n",
       "      <td>NaN</td>\n",
       "      <td>/home/paul</td>\n",
       "      <td>/usr/bin/ksh</td>\n",
       "    </tr>\n",
       "    <tr>\n",
       "      <th>12</th>\n",
       "      <td>jdoe</td>\n",
       "      <td>*</td>\n",
       "      <td>202</td>\n",
       "      <td>1</td>\n",
       "      <td>John Doe</td>\n",
       "      <td>/home/jdoe</td>\n",
       "      <td>/usr/bin/ksh</td>\n",
       "    </tr>\n",
       "  </tbody>\n",
       "</table>\n",
       "</div>"
      ],
      "text/plain": [
       "        user col1        col2        col3             col4  \\\n",
       "0     daemon    !           1           1              NaN   \n",
       "1        bin    !           2           2              NaN   \n",
       "2        sys    !           3           3              NaN   \n",
       "3        adm    !           4           4              NaN   \n",
       "4       uucp    !           5           5              NaN   \n",
       "5      guest    !         100         100              NaN   \n",
       "6     nobody    !  4294967294  4294967294              NaN   \n",
       "7        lpd    !           9  4294967294              NaN   \n",
       "8         lp    *          11          11              NaN   \n",
       "9   invscout    *         200           1              NaN   \n",
       "10     nuucp    *           6           5  uucp login user   \n",
       "11      paul    !         201           1              NaN   \n",
       "12      jdoe    *         202           1         John Doe   \n",
       "\n",
       "                     col5                   col6  \n",
       "0                    /etc                    NaN  \n",
       "1                    /bin                    NaN  \n",
       "2                /usr/sys                         \n",
       "3                /var/adm                    NaN  \n",
       "4           /usr/lib/uucp                         \n",
       "5             /home/guest                    NaN  \n",
       "6                       /                    NaN  \n",
       "7                       /                    NaN  \n",
       "8           /var/spool/lp            /bin/false   \n",
       "9       /var/adm/invscout           /usr/bin/ksh  \n",
       "10  /var/spool/uucppublic  /usr/sbin/uucp/uucico  \n",
       "11             /home/paul           /usr/bin/ksh  \n",
       "12             /home/jdoe          /usr/bin/ksh   "
      ]
     },
     "execution_count": 131,
     "metadata": {},
     "output_type": "execute_result"
    }
   ],
   "source": [
    "import pandas as pd\n",
    "df = pd.read_csv('test2.txt',sep=\":\")\n",
    "df.columns= [\"user\",\"col1\",\"col2\",\"col3\",\"col4\",\"col5\",\"col6\"]\n",
    "df"
   ]
  },
  {
   "cell_type": "code",
   "execution_count": 126,
   "metadata": {},
   "outputs": [
    {
     "data": {
      "text/html": [
       "<div>\n",
       "<style scoped>\n",
       "    .dataframe tbody tr th:only-of-type {\n",
       "        vertical-align: middle;\n",
       "    }\n",
       "\n",
       "    .dataframe tbody tr th {\n",
       "        vertical-align: top;\n",
       "    }\n",
       "\n",
       "    .dataframe thead th {\n",
       "        text-align: right;\n",
       "    }\n",
       "</style>\n",
       "<table border=\"1\" class=\"dataframe\">\n",
       "  <thead>\n",
       "    <tr style=\"text-align: right;\">\n",
       "      <th></th>\n",
       "      <th>user</th>\n",
       "      <th>col1</th>\n",
       "      <th>col2</th>\n",
       "      <th>col3</th>\n",
       "      <th>col4</th>\n",
       "      <th>col5</th>\n",
       "      <th>col6</th>\n",
       "    </tr>\n",
       "  </thead>\n",
       "  <tbody>\n",
       "    <tr>\n",
       "      <th>0</th>\n",
       "      <td>daemon</td>\n",
       "      <td>!</td>\n",
       "      <td>1</td>\n",
       "      <td>1</td>\n",
       "      <td>NaN</td>\n",
       "      <td>/etc</td>\n",
       "      <td>NaN</td>\n",
       "    </tr>\n",
       "    <tr>\n",
       "      <th>1</th>\n",
       "      <td>bin</td>\n",
       "      <td>!</td>\n",
       "      <td>2</td>\n",
       "      <td>2</td>\n",
       "      <td>NaN</td>\n",
       "      <td>/bin</td>\n",
       "      <td>NaN</td>\n",
       "    </tr>\n",
       "    <tr>\n",
       "      <th>2</th>\n",
       "      <td>sys</td>\n",
       "      <td>!</td>\n",
       "      <td>3</td>\n",
       "      <td>3</td>\n",
       "      <td>NaN</td>\n",
       "      <td>/usr/sys</td>\n",
       "      <td></td>\n",
       "    </tr>\n",
       "    <tr>\n",
       "      <th>3</th>\n",
       "      <td>adm</td>\n",
       "      <td>!</td>\n",
       "      <td>4</td>\n",
       "      <td>4</td>\n",
       "      <td>NaN</td>\n",
       "      <td>/var/adm</td>\n",
       "      <td>NaN</td>\n",
       "    </tr>\n",
       "    <tr>\n",
       "      <th>4</th>\n",
       "      <td>uucp</td>\n",
       "      <td>!</td>\n",
       "      <td>5</td>\n",
       "      <td>5</td>\n",
       "      <td>NaN</td>\n",
       "      <td>/usr/lib/uucp</td>\n",
       "      <td></td>\n",
       "    </tr>\n",
       "    <tr>\n",
       "      <th>10</th>\n",
       "      <td>nuucp</td>\n",
       "      <td>*</td>\n",
       "      <td>6</td>\n",
       "      <td>5</td>\n",
       "      <td>uucp login user</td>\n",
       "      <td>/var/spool/uucppublic</td>\n",
       "      <td>/usr/sbin/uucp/uucico</td>\n",
       "    </tr>\n",
       "    <tr>\n",
       "      <th>7</th>\n",
       "      <td>lpd</td>\n",
       "      <td>!</td>\n",
       "      <td>9</td>\n",
       "      <td>4294967294</td>\n",
       "      <td>NaN</td>\n",
       "      <td>/</td>\n",
       "      <td>NaN</td>\n",
       "    </tr>\n",
       "    <tr>\n",
       "      <th>8</th>\n",
       "      <td>lp</td>\n",
       "      <td>*</td>\n",
       "      <td>11</td>\n",
       "      <td>11</td>\n",
       "      <td>NaN</td>\n",
       "      <td>/var/spool/lp</td>\n",
       "      <td>/bin/false</td>\n",
       "    </tr>\n",
       "    <tr>\n",
       "      <th>5</th>\n",
       "      <td>guest</td>\n",
       "      <td>!</td>\n",
       "      <td>100</td>\n",
       "      <td>100</td>\n",
       "      <td>NaN</td>\n",
       "      <td>/home/guest</td>\n",
       "      <td>NaN</td>\n",
       "    </tr>\n",
       "    <tr>\n",
       "      <th>9</th>\n",
       "      <td>invscout</td>\n",
       "      <td>*</td>\n",
       "      <td>200</td>\n",
       "      <td>1</td>\n",
       "      <td>NaN</td>\n",
       "      <td>/var/adm/invscout</td>\n",
       "      <td>/usr/bin/ksh</td>\n",
       "    </tr>\n",
       "    <tr>\n",
       "      <th>11</th>\n",
       "      <td>paul</td>\n",
       "      <td>!</td>\n",
       "      <td>201</td>\n",
       "      <td>1</td>\n",
       "      <td>NaN</td>\n",
       "      <td>/home/paul</td>\n",
       "      <td>/usr/bin/ksh</td>\n",
       "    </tr>\n",
       "    <tr>\n",
       "      <th>12</th>\n",
       "      <td>jdoe</td>\n",
       "      <td>*</td>\n",
       "      <td>202</td>\n",
       "      <td>1</td>\n",
       "      <td>John Doe</td>\n",
       "      <td>/home/jdoe</td>\n",
       "      <td>/usr/bin/ksh</td>\n",
       "    </tr>\n",
       "    <tr>\n",
       "      <th>6</th>\n",
       "      <td>nobody</td>\n",
       "      <td>!</td>\n",
       "      <td>4294967294</td>\n",
       "      <td>4294967294</td>\n",
       "      <td>NaN</td>\n",
       "      <td>/</td>\n",
       "      <td>NaN</td>\n",
       "    </tr>\n",
       "  </tbody>\n",
       "</table>\n",
       "</div>"
      ],
      "text/plain": [
       "        user col1        col2        col3             col4  \\\n",
       "0     daemon    !           1           1              NaN   \n",
       "1        bin    !           2           2              NaN   \n",
       "2        sys    !           3           3              NaN   \n",
       "3        adm    !           4           4              NaN   \n",
       "4       uucp    !           5           5              NaN   \n",
       "10     nuucp    *           6           5  uucp login user   \n",
       "7        lpd    !           9  4294967294              NaN   \n",
       "8         lp    *          11          11              NaN   \n",
       "5      guest    !         100         100              NaN   \n",
       "9   invscout    *         200           1              NaN   \n",
       "11      paul    !         201           1              NaN   \n",
       "12      jdoe    *         202           1         John Doe   \n",
       "6     nobody    !  4294967294  4294967294              NaN   \n",
       "\n",
       "                     col5                   col6  \n",
       "0                    /etc                    NaN  \n",
       "1                    /bin                    NaN  \n",
       "2                /usr/sys                         \n",
       "3                /var/adm                    NaN  \n",
       "4           /usr/lib/uucp                         \n",
       "10  /var/spool/uucppublic  /usr/sbin/uucp/uucico  \n",
       "7                       /                    NaN  \n",
       "8           /var/spool/lp            /bin/false   \n",
       "5             /home/guest                    NaN  \n",
       "9       /var/adm/invscout           /usr/bin/ksh  \n",
       "11             /home/paul           /usr/bin/ksh  \n",
       "12             /home/jdoe          /usr/bin/ksh   \n",
       "6                       /                    NaN  "
      ]
     },
     "execution_count": 126,
     "metadata": {},
     "output_type": "execute_result"
    }
   ],
   "source": [
    "df.sort_values('col2')"
   ]
  },
  {
   "cell_type": "code",
   "execution_count": 127,
   "metadata": {},
   "outputs": [],
   "source": [
    "df.to_csv('test2.csv')"
   ]
  },
  {
   "cell_type": "markdown",
   "metadata": {},
   "source": [
    "# JSON Files"
   ]
  },
  {
   "cell_type": "code",
   "execution_count": 139,
   "metadata": {},
   "outputs": [
    {
     "data": {
      "text/plain": [
       "1"
      ]
     },
     "execution_count": 139,
     "metadata": {},
     "output_type": "execute_result"
    }
   ],
   "source": [
    "#Mapping between python objects and JSON entities:\n",
    "\"\"\"\n",
    "List,Tuple in Python  => array in JSON\n",
    "Dict in Python => object in JSON\n",
    "str => string\n",
    "int,float => number\n",
    "True => true\n",
    "False => false\n",
    "None => null \n",
    "\n",
    "Serialization : Converting Python object to a JSON string (write operation)\n",
    "Deserialization: Converting JSON string to python object (read operation) - used while parsing\n",
    "\"\"\"\n",
    "1"
   ]
  },
  {
   "cell_type": "code",
   "execution_count": 155,
   "metadata": {},
   "outputs": [
    {
     "name": "stdout",
     "output_type": "stream",
     "text": [
      "[{'userId': 1, 'id': 1, 'title': 'delectus aut autem', 'completed': False}, {'userId': 1, 'id': 2, 'title': 'quis ut nam facilis et officia qui', 'completed': False}, {'userId': 1, 'id': 3, 'title': 'fugiat veniam minus', 'completed': False}, {'userId': 1, 'id': 4, 'title': 'et porro tempora', 'completed': True}]\n",
      "*****\n",
      "{'userId': 1, 'id': 1, 'title': 'delectus aut autem', 'completed': False}\n"
     ]
    }
   ],
   "source": [
    "import json\n",
    "with open('test.json') as f:\n",
    "    #Deserialization\n",
    "    data = json.load(f)\n",
    "    print(data)\n",
    "    print(\"*****\")\n",
    "    print(data[0])"
   ]
  },
  {
   "cell_type": "code",
   "execution_count": 152,
   "metadata": {},
   "outputs": [
    {
     "name": "stdout",
     "output_type": "stream",
     "text": [
      "{\"userId\": 1, \"id\": 5, \"title\": \"New Line\", \"completed\": true}\n"
     ]
    }
   ],
   "source": [
    "dic={\"userId\": 1, \"id\": 5, \"title\": \"New Line\", \"completed\": True}\n",
    "#Serialization\n",
    "with open('test1.json','a') as f: \n",
    "    json.dump(dic,f)\n",
    "    \n",
    "    #Write to json formatted STRING:\n",
    "    print(json.dumps(dic))"
   ]
  },
  {
   "cell_type": "markdown",
   "metadata": {},
   "source": [
    "* json.load() method can be used for reading from JSON file.\n",
    "* json.loads() takes in a string and returns a json object.\n",
    "\n",
    "* json.dump() method can be used for writing to JSON file.\n",
    "* json.dumps() takes in a json object and returns a string."
   ]
  },
  {
   "cell_type": "markdown",
   "metadata": {},
   "source": [
    "# Working with API/URLS"
   ]
  },
  {
   "cell_type": "code",
   "execution_count": 132,
   "metadata": {},
   "outputs": [],
   "source": [
    "import json\n",
    "import requests\n",
    "\n",
    "URL = \"https:/print(todos[0])/jsonplaceholder.typicode.com/todos\"\n",
    "response = requests.get(URL)\n",
    "todos = json.loads(response.text)\n"
   ]
  },
  {
   "cell_type": "code",
   "execution_count": 156,
   "metadata": {},
   "outputs": [
    {
     "data": {
      "text/plain": [
       "[{'userId': 1, 'id': 1, 'title': 'delectus aut autem', 'completed': False},\n",
       " {'userId': 1,\n",
       "  'id': 2,\n",
       "  'title': 'quis ut nam facilis et officia qui',\n",
       "  'completed': False},\n",
       " {'userId': 1, 'id': 3, 'title': 'fugiat veniam minus', 'completed': False},\n",
       " {'userId': 1, 'id': 4, 'title': 'et porro tempora', 'completed': True},\n",
       " {'userId': 1,\n",
       "  'id': 5,\n",
       "  'title': 'laboriosam mollitia et enim quasi adipisci quia provident illum',\n",
       "  'completed': False}]"
      ]
     },
     "execution_count": 156,
     "metadata": {},
     "output_type": "execute_result"
    }
   ],
   "source": [
    "todos[:5]"
   ]
  },
  {
   "cell_type": "markdown",
   "metadata": {},
   "source": [
    "# Other libraries and documentation\n",
    "1. For manipulating path: pathlib and os.path\n",
    "2. For copying, moving files and other file operations: shutil\n",
    "3. Serializing python objects to disk: pickle\n",
    "4. Data compression and archiving\n",
    "5. File formats\n",
    "6. Logging"
   ]
  },
  {
   "cell_type": "code",
   "execution_count": null,
   "metadata": {},
   "outputs": [],
   "source": []
  }
 ],
 "metadata": {
  "kernelspec": {
   "display_name": "Python 3",
   "language": "python",
   "name": "python3"
  },
  "language_info": {
   "codemirror_mode": {
    "name": "ipython",
    "version": 3
   },
   "file_extension": ".py",
   "mimetype": "text/x-python",
   "name": "python",
   "nbconvert_exporter": "python",
   "pygments_lexer": "ipython3",
   "version": "3.7.3"
  }
 },
 "nbformat": 4,
 "nbformat_minor": 2
}
