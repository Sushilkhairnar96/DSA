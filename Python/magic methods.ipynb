{
 "cells": [
  {
   "cell_type": "markdown",
   "metadata": {},
   "source": [
    "## str() vs repr()"
   ]
  },
  {
   "cell_type": "raw",
   "metadata": {},
   "source": [
    "__repr__ goal is to be unambiguous\n",
    "__str__ goal is to be readable\n",
    "Container’s __str__ uses contained objects’ __repr__\n",
    "\n",
    "__repr__ is for developers, __str__ is for customers."
   ]
  },
  {
   "cell_type": "code",
   "execution_count": 4,
   "metadata": {},
   "outputs": [
    {
     "name": "stdout",
     "output_type": "stream",
     "text": [
      "str(a): 2020-06-07 10:55:48.760085+00:00\n",
      "str(b): 2020-06-07 10:55:48.760085+00:00\n",
      "repr(a): datetime.datetime(2020, 6, 7, 10, 55, 48, 760085, tzinfo=<UTC>)\n",
      "repr(b): '2020-06-07 10:55:48.760085+00:00'\n"
     ]
    }
   ],
   "source": [
    "import datetime\n",
    "import pytz\n",
    "\n",
    "a = datetime.datetime.utcnow().replace(tzinfo=pytz.UTC)\n",
    "\n",
    "b = str(a)\n",
    "\n",
    "print('str(a): {}'.format(str(a)))\n",
    "print('str(b): {}'.format(str(b)))\n",
    "\n",
    "\n",
    "print('repr(a): {}'.format(repr(a)))\n",
    "print('repr(b): {}'.format(repr(b)))\n",
    "\n"
   ]
  },
  {
   "cell_type": "code",
   "execution_count": 6,
   "metadata": {},
   "outputs": [
    {
     "name": "stdout",
     "output_type": "stream",
     "text": [
      "10 + i20\n",
      "Rational(10, 20)\n"
     ]
    }
   ],
   "source": [
    " \n",
    "class Complex: \n",
    "    def __init__(self, real, imag): \n",
    "        self.real = real \n",
    "        self.imag = imag \n",
    "  \n",
    "    # For call to repr(). Prints object's information \n",
    "    def __repr__(self): \n",
    "        return 'Rational(%s, %s)' % (self.real, self.imag)     \n",
    "  \n",
    "    # For call to str(). Prints readable form \n",
    "    def __str__(self): \n",
    "        return '%s + i%s' % (self.real, self.imag)     \n",
    "  \n",
    "  \n",
    "# Driver program to test above \n",
    "t = Complex(10, 20) \n",
    "  \n",
    "print(str(t))  # Same as \"print t\" \n",
    "print(repr(t))"
   ]
  },
  {
   "cell_type": "markdown",
   "metadata": {},
   "source": [
    "# Dunder or magic methods in Python"
   ]
  },
  {
   "cell_type": "raw",
   "metadata": {},
   "source": [
    "These are commonly used for operator overloading. Few examples for magic methods are: __init__, __add__, __len__, __repr__ etc."
   ]
  },
  {
   "cell_type": "code",
   "execution_count": 7,
   "metadata": {},
   "outputs": [
    {
     "name": "stdout",
     "output_type": "stream",
     "text": [
      "<__main__.String object at 0x00000290EA25F898>\n"
     ]
    }
   ],
   "source": [
    "# declare our own string class \n",
    "class String: \n",
    "      \n",
    "    # magic method to initiate object \n",
    "    def __init__(self, string): \n",
    "        self.string = string \n",
    "          \n",
    "# Driver Code \n",
    "if __name__ == '__main__': \n",
    "      \n",
    "    # object creation \n",
    "    string1 = String('Hello') \n",
    "  \n",
    "    # print object location \n",
    "    print(string1) "
   ]
  },
  {
   "cell_type": "markdown",
   "metadata": {},
   "source": [
    "The above snippet of code prints only the memory address of the string object. Let’s add a __repr__ method to represent our object."
   ]
  },
  {
   "cell_type": "code",
   "execution_count": 8,
   "metadata": {},
   "outputs": [
    {
     "name": "stdout",
     "output_type": "stream",
     "text": [
      "Object: Hello\n"
     ]
    }
   ],
   "source": [
    "class String: \n",
    "      \n",
    "    # magic method to initiate object \n",
    "    def __init__(self, string): \n",
    "        self.string = string \n",
    "          \n",
    "    # print our string object \n",
    "    def __repr__(self): \n",
    "        return 'Object: {}'.format(self.string) \n",
    "  \n",
    "if __name__ == '__main__': \n",
    "      \n",
    "    # object creation \n",
    "    string1 = String('Hello') \n",
    "  \n",
    "    # print object location \n",
    "    print(string1) "
   ]
  },
  {
   "cell_type": "code",
   "execution_count": 9,
   "metadata": {},
   "outputs": [
    {
     "name": "stdout",
     "output_type": "stream",
     "text": [
      "Hello Geeks\n"
     ]
    }
   ],
   "source": [
    "class String: \n",
    "      \n",
    "    # magic method to initiate object \n",
    "    def __init__(self, string): \n",
    "        self.string = string  \n",
    "          \n",
    "    # print our string object \n",
    "    def __repr__(self): \n",
    "        return 'Object: {}'.format(self.string) \n",
    "          \n",
    "    def __add__(self, other): \n",
    "        return self.string + other \n",
    "  \n",
    "# Driver Code \n",
    "if __name__ == '__main__': \n",
    "      \n",
    "    # object creation \n",
    "    string1 = String('Hello') \n",
    "      \n",
    "    # concatenate String object and a string \n",
    "    print(string1 +' Geeks') "
   ]
  },
  {
   "cell_type": "code",
   "execution_count": 23,
   "metadata": {},
   "outputs": [
    {
     "name": "stdout",
     "output_type": "stream",
     "text": [
      "110000\n",
      "5\n",
      "ab\n",
      "13\n",
      "13\n",
      "Corey Schafer - Corey.Schafer@email.com\n",
      "Test Employee - Test.Employee@email.com\n",
      "Employee('Corey', 'Schafer', 50000)\n",
      "Employee('Test', 'Employee', 60000)\n"
     ]
    }
   ],
   "source": [
    "class Employee:\n",
    "\n",
    "    raise_amt = 1.04\n",
    "\n",
    "    def __init__(self, first, last, pay):\n",
    "        self.first = first\n",
    "        self.last = last\n",
    "        self.email = first + '.' + last + '@email.com'\n",
    "        self.pay = pay\n",
    "\n",
    "    def fullname(self):\n",
    "        return '{} {}'.format(self.first, self.last)\n",
    "\n",
    "    def apply_raise(self):\n",
    "        self.pay = int(self.pay * self.raise_amt)\n",
    "\n",
    "    def __repr__(self):\n",
    "        return \"Employee('{}', '{}', {})\".format(self.first, self.last, self.pay)\n",
    "\n",
    "    def __str__(self):\n",
    "        return '{} - {}'.format(self.fullname(), self.email)\n",
    "\n",
    "    def __add__(self, other):\n",
    "        return self.pay + other.pay\n",
    "\n",
    "    def __len__(self):\n",
    "        return len(self.fullname())\n",
    "\n",
    "\n",
    "emp_1 = Employee('Corey', 'Schafer', 50000)\n",
    "emp_2 = Employee('Test', 'Employee', 60000)\n",
    "\n",
    "print(int.__add__(2,3)) \n",
    "print(str.__add__('a','b')) \n",
    "print(emp_1 + emp_2)   #add\n",
    "########################\n",
    "print(len(emp_1))      #len\n",
    "print(emp_1.__len__())\n",
    "#######################\n",
    "print(emp_1.__str__())  #str\n",
    "print(str(emp_2))\n",
    "#######################\n",
    "print(emp_1.__repr__()) #repr\n",
    "print(repr(emp_2))"
   ]
  },
  {
   "cell_type": "markdown",
   "metadata": {},
   "source": [
    "# Property Decorators\n",
    "https://www.journaldev.com/14893/python-property-decorator"
   ]
  },
  {
   "cell_type": "code",
   "execution_count": 28,
   "metadata": {},
   "outputs": [
    {
     "name": "stdout",
     "output_type": "stream",
     "text": [
      "Sushil\n",
      "Sushil.Khairnar@email.com\n",
      "Sushil Khairnar\n",
      "Sam\n",
      "Sam.Smith@email.com\n",
      "Sam Smith\n",
      "Delete Name!\n"
     ]
    }
   ],
   "source": [
    "class Employee:\n",
    "\n",
    "    def __init__(self, first, last):\n",
    "        self.first = first\n",
    "        self.last = last\n",
    "\n",
    "    @property                 #Getter - get the email-id\n",
    "    def email(self):\n",
    "        return '{}.{}@email.com'.format(self.first, self.last)\n",
    "\n",
    "    @property                #Getter - get the full name   \n",
    "    def fullname(self):\n",
    "        return '{} {}'.format(self.first, self.last)\n",
    "    \n",
    "    @fullname.setter         #setter - set the full name\n",
    "    def fullname(self, name):\n",
    "        first, last = name.split(' ')\n",
    "        self.first = first\n",
    "        self.last = last\n",
    "    \n",
    "    @fullname.deleter     #setter - delete the full name\n",
    "    def fullname(self):\n",
    "        print('Delete Name!')\n",
    "        self.first = None\n",
    "        self.last = None\n",
    "\n",
    "\n",
    "emp_1 = Employee('Sushil', 'Khairnar')\n",
    "print(emp_1.first)\n",
    "print(emp_1.email)\n",
    "print(emp_1.fullname)\n",
    "\n",
    "emp_1.fullname = \"Sam Smith\"\n",
    "\n",
    "print(emp_1.first)\n",
    "print(emp_1.email)\n",
    "print(emp_1.fullname)\n",
    "\n",
    "del emp_1.fullname"
   ]
  },
  {
   "cell_type": "raw",
   "metadata": {},
   "source": [
    "#########################################################################################################################"
   ]
  },
  {
   "cell_type": "code",
   "execution_count": 36,
   "metadata": {},
   "outputs": [
    {
     "name": "stdout",
     "output_type": "stream",
     "text": [
      "Card(rank='7', suit='diamonds')\n",
      "['2', '3', '4', '5', '6', '7', '8', '9', '10', 'J', 'Q', 'K', 'A']\n",
      "['spades', 'diamonds', 'clubs', 'hearts']\n",
      "52\n",
      "Card(rank='2', suit='spades')\n",
      "Card(rank='A', suit='hearts')\n",
      "######\n",
      "Card(rank='9', suit='diamonds')\n",
      "[Card(rank='4', suit='spades'), Card(rank='5', suit='spades'), Card(rank='6', suit='spades')]\n"
     ]
    }
   ],
   "source": [
    "import collections\n",
    "Card = collections.namedtuple('Card', ['rank', 'suit'])\n",
    "card1=Card('7', 'diamonds')\n",
    "print(card1)\n",
    "class FrenchDeck:\n",
    "    ranks = [str(n) for n in range(2, 11)] + list('JQKA')\n",
    "    suits = 'spades diamonds clubs hearts'.split()\n",
    "    def __init__(self):\n",
    "        self._cards = [Card(rank, suit) for suit in self.suits \n",
    "                                        for rank in self.ranks]\n",
    "    def __len__(self):\n",
    "        return len(self._cards)\n",
    "    def __getitem__(self, position):\n",
    "        return self._cards[position]\n",
    "    \n",
    "card= FrenchDeck()\n",
    "print(card.ranks)\n",
    "print(card.suits)\n",
    "deck=FrenchDeck()\n",
    "print(len(deck))  #__len__\n",
    "print(deck[0])    #__getitem__\n",
    "print(deck[51])\n",
    "print(\"######\")\n",
    "from random import choice\n",
    "print(choice(deck))\n",
    "print(deck[2:5])"
   ]
  },
  {
   "cell_type": "code",
   "execution_count": null,
   "metadata": {},
   "outputs": [],
   "source": []
  }
 ],
 "metadata": {
  "kernelspec": {
   "display_name": "Python 3",
   "language": "python",
   "name": "python3"
  },
  "language_info": {
   "codemirror_mode": {
    "name": "ipython",
    "version": 3
   },
   "file_extension": ".py",
   "mimetype": "text/x-python",
   "name": "python",
   "nbconvert_exporter": "python",
   "pygments_lexer": "ipython3",
   "version": "3.7.3"
  }
 },
 "nbformat": 4,
 "nbformat_minor": 2
}
