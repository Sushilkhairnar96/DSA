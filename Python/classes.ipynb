{
 "cells": [
  {
   "cell_type": "markdown",
   "metadata": {},
   "source": [
    "Class definitions can appear anywhere in a program, but they are usually near the beginning (after the import statements). The syntax rules for a class definition are the same as for other compound statements. There is a header which begins with the keyword, class, followed by the name of the class, and ending with a colon.\n",
    "\n",
    "\n",
    "Every class should have a method with the special name __init__. This initializer method, often referred to as the constructor, is automatically called whenever a new instance of Point is created. It gives the programmer the opportunity to set up the attributes required within the new instance by giving them their initial state values. The self parameter (you could choose any other name, but nobody ever does!) is automatically set to reference the newly created object that needs to be initialized.\n",
    "\n",
    "\n",
    "The __str__ method is responsible for returning a string representation as defined by the class creator. In other words, you as the programmer, get to choose what a Point should look like when it gets printed. In this case, we have decided that the string representation will include the values of x and y as well as some identifying text. It is required that the __str__ method create and return a string."
   ]
  },
  {
   "cell_type": "code",
   "execution_count": 1,
   "metadata": {},
   "outputs": [
    {
     "name": "stdout",
     "output_type": "stream",
     "text": [
      "<__main__.Point object at 0x000002589D29EF60>\n",
      "<__main__.Point object at 0x000002589D29EF98>\n",
      "False\n"
     ]
    }
   ],
   "source": [
    "class Point:\n",
    "    \"\"\" Point class for representing and manipulating x,y coordinates. \"\"\"\n",
    "\n",
    "    def __init__(self):\n",
    "\n",
    "        self.x = 0\n",
    "        self.y = 0\n",
    "\n",
    "p = Point()         # Instantiate an object of type Point\n",
    "q = Point()         # and make a second point\n",
    "\n",
    "print(p)\n",
    "print(q)\n",
    "\n",
    "print(p is q)"
   ]
  },
  {
   "cell_type": "markdown",
   "metadata": {},
   "source": [
    "During the initialization of the objects, we created two attributes called x and y for each object, and gave them both the value 0. You will note that when you run the program, nothing happens. It turns out that this is not quite the case. In fact, two Points have been created, each having an x and y coordinate with value 0. "
   ]
  },
  {
   "cell_type": "code",
   "execution_count": 89,
   "metadata": {
    "scrolled": true
   },
   "outputs": [
    {
     "name": "stdout",
     "output_type": "stream",
     "text": [
      "The coordinates of A  point are : (5,6)\n",
      "The coordinates of B  point are : (2,3)\n",
      "The coordinates of Dummy  point are : (0,0)\n",
      "{'x': 5, 'y': 6, 'point': 'A'}\n",
      "{'x': 2, 'y': 3, 'point': 'B'}\n",
      "Add: The coordinates of Dummy  point are : (7,9)\n",
      "Subtract: The coordinates of Dummy  point are : (3,3)\n",
      "\n",
      "Distance from origin:7.810249675906654\n",
      "Euclidian distance :4.242640687119285\n",
      "Mid :The coordinates of Dummy  point are : (3.5,4.5)\n"
     ]
    }
   ],
   "source": [
    "class Point:\n",
    "    \"\"\" Point class for representing and manipulating x,y coordinates. \"\"\"\n",
    "\n",
    "    def __init__(self,x=0,y=0,point='Dummy'):\n",
    "        self.x = x\n",
    "        self.y = y\n",
    "        self.point = point\n",
    "    \n",
    "    def __str__(self):\n",
    "        '''\n",
    "        The __str__ method is responsible for returning a string representation as defined by the class creator.\n",
    "        It is a Pythonic way to convert Python objects into strings by using __str__.\n",
    "        '''\n",
    "        return f\"The coordinates of {self.point}  point are : ({self.x},{self.y})\"\n",
    "        #return f\"The coordinates are : ({self.x},{self.y})\"\n",
    "    \n",
    "    def __add__(self,other_point):\n",
    "        return Point(self.x + other_point.x, self.y + other_point.y)\n",
    "\n",
    "    def __sub__(self,other_point):\n",
    "        return Point(self.x - other_point.x, self.y - other_point.y)\n",
    "    \n",
    "    def distanceFromOrigin(self):\n",
    "        return ((self.x ** 2) + (self.y ** 2)) ** 0.5 \n",
    "    \n",
    "    def getX(self):\n",
    "        return self.x\n",
    "\n",
    "    def getY(self):\n",
    "        return self.y\n",
    "\n",
    "    def EuclidianDistance(self,p1,p2):\n",
    "        return ((p2.getY()-p1.getY())**2 + (p2.getX()-p1.getX())**2)**0.5\n",
    "    \n",
    "    #Function returning other instances: accepting 2 points and returning a new point\n",
    "    def half_way(self,q):\n",
    "        mx = (self.x + q.x)/2\n",
    "        my = (self.y + q.y)/2\n",
    "        return Point(mx,my)\n",
    "        \n",
    "\n",
    "p = Point(5,6,'A')         # Instantiate an object of type Point\n",
    "q = Point(2,3,'B')         # and make a second point\n",
    "r = Point()\n",
    "print(p) #if __str__ is not used output : <__main__.Point object> ; after adding __str__=> ouput : The coordinates of point A are : (5,6)\n",
    "print(q)\n",
    "print(r)\n",
    "print(p.__dict__)\n",
    "print(q.__dict__)\n",
    "print(f\"Add: {p+q}\")\n",
    "print(f\"Subtract: {p-q}\")\n",
    "print(f\"\\nDistance from origin:{p.distanceFromOrigin()}\")\n",
    "print(f\"Euclidian distance :{p.EuclidianDistance(p,q)}\")\n",
    "print(f\"Mid :{p.half_way(q)}\") "
   ]
  },
  {
   "cell_type": "code",
   "execution_count": 71,
   "metadata": {},
   "outputs": [
    {
     "name": "stdout",
     "output_type": "stream",
     "text": [
      "[('Pune', 20000, 'MH'), ('Mumbai', 50000, 'MH'), ('Delhi', 40000, 'DL'), ('Bangalore', 30000, 'KA')]\n"
     ]
    }
   ],
   "source": [
    "city=['Pune','Mumbai','Delhi','Bangalore']\n",
    "population=[20000,50000,40000,30000]\n",
    "states=['MH','MH','DL','KA']\n",
    "\n",
    "city_tuples = list(zip(city,population,states))\n",
    "print(city_tuples)"
   ]
  },
  {
   "cell_type": "code",
   "execution_count": 90,
   "metadata": {},
   "outputs": [
    {
     "name": "stdout",
     "output_type": "stream",
     "text": [
      "Name: Pune | State: MH |  Population :20000\n",
      "Name: Mumbai | State: MH |  Population :50000\n",
      "Name: Delhi | State: DL |  Population :40000\n",
      "Name: Bangalore | State: KA |  Population :30000\n"
     ]
    }
   ],
   "source": [
    "class City:\n",
    "    def __init__(self,city,pop,state):\n",
    "        self.city=city\n",
    "        self.pop=pop\n",
    "        self.state=state\n",
    "    \n",
    "    def __str__(self):\n",
    "        return f\"Name: {self.city} | State: {self.state} |  Population :{self.pop}\"\n",
    "    \n",
    "    def sort_priority(self):\n",
    "        return self.population\n",
    "\n",
    "#cities = [City(name,pop,state) for (name,pop,state) in city_tuples]\n",
    "for name,pop,state in city_tuples:\n",
    "    city= City(name,pop,state) #instance of city class\n",
    "    print(city)"
   ]
  },
  {
   "cell_type": "code",
   "execution_count": 95,
   "metadata": {},
   "outputs": [
    {
     "name": "stdout",
     "output_type": "stream",
     "text": [
      "Apple\n",
      "Cherry\n",
      "Blueberry\n"
     ]
    }
   ],
   "source": [
    "#Sorting Lists of Instances\n",
    "\n",
    "class Fruit():\n",
    "    def __init__(self, name, price):\n",
    "        self.name = name\n",
    "        self.price = price\n",
    "    \n",
    "    def sort_priority(self):\n",
    "        return self.price\n",
    "    \n",
    "L = [Fruit(\"Cherry\", 10), \n",
    "     Fruit(\"Apple\", 5), \n",
    "     Fruit(\"Blueberry\", 20)\n",
    "    ]\n",
    "\n",
    "for f in sorted(L, key=lambda x: x.sort_priority()):\n",
    "    print(f.name)\n"
   ]
  },
  {
   "cell_type": "code",
   "execution_count": 97,
   "metadata": {},
   "outputs": [
    {
     "name": "stdout",
     "output_type": "stream",
     "text": [
      "['Apple', 'Cherry', 'Pineapple', 'Blueberry']\n"
     ]
    }
   ],
   "source": [
    "arr= [\"Cherry\", \"Apple\",\"Pineapple\", \"Blueberry\"]\n",
    "print(sorted(arr, key= lambda x: len(x)))"
   ]
  },
  {
   "cell_type": "markdown",
   "metadata": {},
   "source": [
    "When the interpreter sees an expression of the form <obj>.<varname>, it:\n",
    "Checks if the object has an instance variable set. If so, it uses that value.\n",
    "\n",
    "If it doesn’t find an instance variable, it checks whether the class has a class variable. If so it uses that value.\n",
    "\n",
    "If it doesn’t find an instance or a class variable, it creates a runtime error (actually, it does one other check first, which you will learn about in the next chapter).\n",
    "\n",
    "When the interpreter sees an assignment statement of the form <obj>.<varname> = <expr>, it:\n",
    "Evaluates the expression on the right-hand side to yield some python object;\n",
    "\n",
    "Sets the instance variable <varname> of <obj> to be bound to that python object. Note that an assignment statement of this form never sets the class variable; it only sets the instance variable.\n",
    "\n",
    "In order to set the class variable, you use an assignment statement of the form <varname> = <expr> at the top-level in a class definition, like on line 4 in the code above to set the class variable printed_rep."
   ]
  },
  {
   "cell_type": "code",
   "execution_count": null,
   "metadata": {},
   "outputs": [],
   "source": []
  }
 ],
 "metadata": {
  "kernelspec": {
   "display_name": "Python 3",
   "language": "python",
   "name": "python3"
  },
  "language_info": {
   "codemirror_mode": {
    "name": "ipython",
    "version": 3
   },
   "file_extension": ".py",
   "mimetype": "text/x-python",
   "name": "python",
   "nbconvert_exporter": "python",
   "pygments_lexer": "ipython3",
   "version": "3.8.5"
  }
 },
 "nbformat": 4,
 "nbformat_minor": 2
}
