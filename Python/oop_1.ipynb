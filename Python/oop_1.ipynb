{
 "cells": [
  {
   "cell_type": "code",
   "execution_count": 5,
   "metadata": {},
   "outputs": [
    {
     "name": "stdout",
     "output_type": "stream",
     "text": [
      "Sushil Khairnar\n",
      "Sushil Khairnar\n",
      "50000\n",
      "52500\n",
      "{'first': 'Sushil', 'last': 'Khairnar', 'email': 'Sushil.Khairnar@email.com', 'pay': 52500}\n",
      "{'first': 'Sushil', 'last': 'Khairnar', 'email': 'Sushil.Khairnar@email.com', 'pay': 57750, 'raise_amount': 1.1}\n",
      "2\n"
     ]
    }
   ],
   "source": [
    "class Employee:\n",
    "    num_of_emps=0\n",
    "    raise_amount=1.05      # Class variable\n",
    "    \n",
    "    def __init__(self, first, last, pay):\n",
    "        #instance variables:\n",
    "        self.first = first                                      \n",
    "        self.last = last\n",
    "        self.email = first + '.' + last + '@email.com'\n",
    "        self.pay = pay                     #instance variable\n",
    "        \n",
    "        Employee.num_of_emps+=1            #class variable\n",
    "    \n",
    "    def fullname(self):\n",
    "        return '{} {}'.format(self.first, self.last)\n",
    "    \n",
    "    def apply_raise(self):\n",
    "        self.pay=int(self.pay* self.raise_amount) \n",
    "\n",
    "emp_1 = Employee('Sushil', 'Khairnar', 50000)\n",
    "emp_2 = Employee('Test', 'Employee', 60000)\n",
    "#self: is used to pass the instance of a class:\n",
    "print( emp_1.fullname())  #1\n",
    "print(Employee.fullname(emp_1)) # same as 1: but here we are passing instance emp_1 as self \n",
    "\n",
    "print(emp_1.pay)\n",
    "emp_1.apply_raise()\n",
    "print(emp_1.pay)\n",
    "\n",
    "print(emp_1.__dict__)\n",
    "emp_1.raise_amount=1.10\n",
    "emp_1.apply_raise()\n",
    "print(emp_1.__dict__)\n",
    "\n",
    "print(Employee.num_of_emps)"
   ]
  },
  {
   "cell_type": "markdown",
   "metadata": {},
   "source": [
    "# Class Methods :"
   ]
  },
  {
   "cell_type": "code",
   "execution_count": 24,
   "metadata": {},
   "outputs": [
    {
     "name": "stdout",
     "output_type": "stream",
     "text": [
      "###################\n",
      "1.05\n",
      "1.05\n",
      "1.05\n",
      "1.15\n",
      "1.15\n",
      "1.15\n",
      "###################\n",
      "sam.damon@email.com\n",
      "tom hardy\n"
     ]
    }
   ],
   "source": [
    "class Employee:\n",
    "    num_of_emps=0\n",
    "    raise_amount=1.05      # Class variable\n",
    "    \n",
    "    def __init__(self, first, last, pay):\n",
    "        #instance variables:\n",
    "        self.first = first                                      \n",
    "        self.last = last\n",
    "        self.email = first + '.' + last + '@email.com'\n",
    "        self.pay = pay                     #instance variable\n",
    "        \n",
    "        Employee.num_of_emps+=1            #class variable\n",
    "    \n",
    "    def fullname(self):\n",
    "        return '{} {}'.format(self.first, self.last)\n",
    "    \n",
    "    def apply_raise(self):                               #regular method\n",
    "        self.pay=int(self.pay* self.raise_amount) \n",
    "    \n",
    "    #to turn regular method into class method: add class method decorator\n",
    "    \n",
    "    @classmethod    #alter the functionality of functn where we receive class as the first argument instead of instance\n",
    "    def set_raise_amount(cls,amount):    #cls is class variable name\n",
    "        cls.raise_amount=amount\n",
    "    \n",
    "    @classmethod       #class method as alternative constructor\n",
    "    def from_string(cls,emp_string):\n",
    "        first,last,pay= emp_string.split('-')\n",
    "        return cls(first,last,pay)\n",
    "        \n",
    "print(\"###################\")\n",
    "emp_1 = Employee('Sushil', 'Khairnar', 50000)\n",
    "emp_2 = Employee('Test', 'Employee', 60000)\n",
    "\n",
    "print(Employee.raise_amount)\n",
    "print(emp_1.raise_amount)\n",
    "print(emp_2.raise_amount)\n",
    "\n",
    "Employee.set_raise_amount(1.15)\n",
    "\n",
    "print(Employee.raise_amount)\n",
    "print(emp_1.raise_amount)\n",
    "print(emp_2.raise_amount)\n",
    "print(\"###################\")\n",
    "\n",
    "emp_str1=\"sam-damon-20\"\n",
    "emp_str2=\"tom-hardy-30\"\n",
    "new_emp1= Employee.from_string(emp_str1)\n",
    "new_emp2= Employee.from_string(emp_str2)\n",
    "print(new_emp1.email)\n",
    "print(new_emp2.fullname())"
   ]
  },
  {
   "cell_type": "markdown",
   "metadata": {},
   "source": [
    "# Static Methods"
   ]
  },
  {
   "cell_type": "code",
   "execution_count": 1,
   "metadata": {},
   "outputs": [
    {
     "name": "stdout",
     "output_type": "stream",
     "text": [
      "True\n"
     ]
    }
   ],
   "source": [
    "class Employee:\n",
    "    num_of_emps=0\n",
    "    raise_amount=1.05      # Class variable\n",
    "    \n",
    "    def __init__(self, first, last, pay):\n",
    "        #instance variables:\n",
    "        self.first = first                                      \n",
    "        self.last = last\n",
    "        self.email = first + '.' + last + '@email.com'\n",
    "        self.pay = pay                     #instance variable\n",
    "        \n",
    "        Employee.num_of_emps+=1            #class variable\n",
    "    \n",
    "    def fullname(self):\n",
    "        return '{} {}'.format(self.first, self.last)\n",
    "    \n",
    "    def apply_raise(self):                               #regular method\n",
    "        self.pay=int(self.pay* self.raise_amount) \n",
    "    \n",
    "    #to turn regular method into class method: add class method decorator\n",
    "    \n",
    "    @classmethod    #alter the functionality of functn where we receive class as the first argument instead of instance\n",
    "    def set_raise_amount(cls,amount):    #cls is class variable name\n",
    "        cls.raise_amount=amount\n",
    "    \n",
    "    @classmethod       #class method as alternative constructor\n",
    "    def from_string(cls,emp_string):\n",
    "        first,last,pay= emp_string.split('-')\n",
    "        return cls(first,last,pay)\n",
    "    \n",
    "    @staticmethod      #do not operate either on instance or on a class\n",
    "    def is_workday(day):\n",
    "        if day.weekday==6 or day.weekday==7:\n",
    "            return False\n",
    "        return True\n",
    "\n",
    "import datetime\n",
    "my_date=datetime.date(2020,5,8)\n",
    "print(Employee.is_workday(my_date))"
   ]
  },
  {
   "cell_type": "markdown",
   "metadata": {},
   "source": [
    "# Inheritance"
   ]
  },
  {
   "cell_type": "code",
   "execution_count": 5,
   "metadata": {},
   "outputs": [
    {
     "name": "stdout",
     "output_type": "stream",
     "text": [
      "Help on class Developer in module __main__:\n",
      "\n",
      "class Developer(Employee)\n",
      " |  Developer(first, last, pay)\n",
      " |  \n",
      " |  Method resolution order:\n",
      " |      Developer\n",
      " |      Employee\n",
      " |      builtins.object\n",
      " |  \n",
      " |  Methods inherited from Employee:\n",
      " |  \n",
      " |  __init__(self, first, last, pay)\n",
      " |      Initialize self.  See help(type(self)) for accurate signature.\n",
      " |  \n",
      " |  apply_raise(self)\n",
      " |  \n",
      " |  fullname(self)\n",
      " |  \n",
      " |  ----------------------------------------------------------------------\n",
      " |  Data descriptors inherited from Employee:\n",
      " |  \n",
      " |  __dict__\n",
      " |      dictionary for instance variables (if defined)\n",
      " |  \n",
      " |  __weakref__\n",
      " |      list of weak references to the object (if defined)\n",
      " |  \n",
      " |  ----------------------------------------------------------------------\n",
      " |  Data and other attributes inherited from Employee:\n",
      " |  \n",
      " |  num_of_emps = 2\n",
      " |  \n",
      " |  raise_amount = 1.05\n",
      "\n",
      "Sushil.Khairnar@email.com\n",
      "Test Employee\n"
     ]
    }
   ],
   "source": [
    "class Employee:\n",
    "    num_of_emps=0\n",
    "    raise_amount=1.05      # Class variable\n",
    "    \n",
    "    def __init__(self, first, last, pay):\n",
    "        #instance variables:\n",
    "        self.first = first                                      \n",
    "        self.last = last\n",
    "        self.email = first + '.' + last + '@email.com'\n",
    "        self.pay = pay                     #instance variable\n",
    "        \n",
    "        Employee.num_of_emps+=1            #class variable\n",
    "    \n",
    "    def fullname(self):\n",
    "        return '{} {}'.format(self.first, self.last)\n",
    "    \n",
    "    def apply_raise(self):\n",
    "        self.pay=int(self.pay* self.raise_amount)\n",
    "        \n",
    "class Developer(Employee):\n",
    "    pass\n",
    "\n",
    "dev_1 = Developer('Sushil', 'Khairnar', 50000)\n",
    "dev_2 = Developer('Test', 'Employee', 60000)\n",
    "help(Developer)\n",
    "print(dev_1.email)\n",
    "print(dev_2.fullname())"
   ]
  },
  {
   "cell_type": "raw",
   "metadata": {},
   "source": [
    "In Python, every class inherits from a built-in basic class called ‘object’. The constructor i.e. the ‘__init__’ function of a class is invoked when we create an object variable or an instance of the class."
   ]
  },
  {
   "cell_type": "code",
   "execution_count": 60,
   "metadata": {},
   "outputs": [
    {
     "name": "stdout",
     "output_type": "stream",
     "text": [
      "Sushil Khairnar - Python\n",
      "\n",
      "#####################################################\n",
      "Sam Smith - Sam.Smith@email.com\n",
      "--> Sushil Khairnar\n",
      "\n",
      " adding dev2:\n",
      "--> Sushil Khairnar\n",
      "--> George Bush\n",
      "\n",
      " removing dev1:\n",
      "--> George Bush\n",
      "\n",
      "#####################################################\n",
      "True\n",
      "True\n",
      "False\n",
      "True\n",
      "True\n",
      "False\n"
     ]
    }
   ],
   "source": [
    "class Employee:\n",
    "    num_of_emps=0\n",
    "    raise_amount=1.05      # Class variable\n",
    "    \n",
    "    def __init__(self, first, last, pay):\n",
    "        #instance variables:\n",
    "        self.first = first                                      \n",
    "        self.last = last\n",
    "        self.email = first + '.' + last + '@email.com'\n",
    "        self.pay = pay                     #instance variable\n",
    "        \n",
    "        Employee.num_of_emps+=1            #class variable\n",
    "    \n",
    "    def fullname(self):\n",
    "        return '{} {}'.format(self.first, self.last)\n",
    "    \n",
    "    def apply_raise(self):\n",
    "        self.pay=int(self.pay* self.raise_amount)\n",
    "        \n",
    "class Developer(Employee):\n",
    "    '''\n",
    "    Super() allows you to call methods of the super/parent class in your subclass. The primary use case of this is to \n",
    "    extend the functionality of the inherited method.\n",
    "    '''\n",
    "    def __init__(self, first, last, pay,prog_lang):\n",
    "        super().__init__(first,last,pay) #or Employee.__init__(self,first,last,pay)\n",
    "        self.prog_lang=prog_lang\n",
    "        '''\n",
    "        Here, you’ve used super() to call the __init__() of the Employee class, \n",
    "        allowing you to use it in the Developer class without repeating code. \n",
    "        '''\n",
    "        \n",
    "class Manager(Employee):\n",
    "    def __init__(self, first, last, pay, employees=None):\n",
    "        super().__init__(first, last, pay)\n",
    "        if employees is None:\n",
    "            self.employees = []\n",
    "        else:\n",
    "            self.employees = employees\n",
    "\n",
    "    def add_emp(self, emp):\n",
    "        if emp not in self.employees:\n",
    "            self.employees.append(emp)\n",
    "\n",
    "    def remove_emp(self, emp):\n",
    "        if emp in self.employees:\n",
    "            self.employees.remove(emp)\n",
    "\n",
    "    def print_emp(self):\n",
    "        for emp in self.employees:\n",
    "            print('-->', emp.fullname())\n",
    "            \n",
    "\n",
    "dev_1 = Developer('Sushil', 'Khairnar', 50000,\"Python\")\n",
    "dev_2 = Developer('George', 'Bush', 60000,\"C++\")\n",
    "print(dev_1.fullname(),\"-\",dev_1.prog_lang)\n",
    "print(\"\\n#####################################################\")\n",
    "man_1 = Manager('Sam', 'Smith', 90000,[dev_1])\n",
    "print(man_1.fullname(),\"-\",man_1.email)\n",
    "man_1.print_emp()\n",
    "print(\"\\n adding dev2:\")\n",
    "man_1.add_emp(dev_2)\n",
    "man_1.print_emp()\n",
    "print(\"\\n removing dev1:\")\n",
    "man_1.remove_emp(dev_1)\n",
    "man_1.print_emp()\n",
    "print(\"\\n#####################################################\")\n",
    "print(isinstance(man_1,Manager))\n",
    "print(isinstance(man_1,Employee))\n",
    "print(isinstance(man_1,Developer))\n",
    "print(issubclass(Developer,Employee))\n",
    "print(issubclass(Manager,Employee))\n",
    "print(issubclass(Developer,Manager))"
   ]
  },
  {
   "cell_type": "markdown",
   "metadata": {},
   "source": [
    "# Multiple inheritance in Python"
   ]
  },
  {
   "cell_type": "markdown",
   "metadata": {},
   "source": [
    "When a class is derived from more than one base class it is called multiple Inheritance. The derived class inherits all the features of the base case.\n",
    "\n",
    "class SubclassName(BaseClass1, BaseClass2, BaseClass3, ...):\n",
    "\n",
    "    pass\n"
   ]
  },
  {
   "cell_type": "code",
   "execution_count": 72,
   "metadata": {},
   "outputs": [
    {
     "name": "stdout",
     "output_type": "stream",
     "text": [
      "John\n",
      "102\n"
     ]
    }
   ],
   "source": [
    "class Person:  \n",
    "    #defining constructor  \n",
    "    def __init__(self, personName, personAge):  \n",
    "        self.name = personName  \n",
    "        self.age = personAge  \n",
    "  \n",
    "    #defining class methods  \n",
    "    def showName(self):  \n",
    "        print(self.name)  \n",
    "  \n",
    "    def showAge(self):  \n",
    "        print(self.age)  \n",
    "\n",
    "class Student: # Person is the  \n",
    "    def __init__(self, studentId):  \n",
    "        self.studentId = studentId  \n",
    "  \n",
    "    def getId(self):  \n",
    "        return self.studentId  \n",
    "    \n",
    "class Resident(Person, Student): # extends both Person and Student class  \n",
    "    def __init__(self, name, age, id):  \n",
    "        Person.__init__(self, name, age)  \n",
    "        Student.__init__(self, id)  \n",
    "'''\n",
    "The classes Person and Student are superclass here and Resident is the subclass. The class Resident extends both \n",
    "Person and Student to inherit the properties of both classes. \n",
    "'''   \n",
    "  \n",
    "# Create an object of the subclass  \n",
    "resident1 = Resident('John', 30, '102')  \n",
    "resident1.showName()  \n",
    "print(resident1.getId())  "
   ]
  },
  {
   "cell_type": "markdown",
   "metadata": {},
   "source": [
    "## Resolving the Conflicts with python multiple inheritance"
   ]
  },
  {
   "cell_type": "code",
   "execution_count": 62,
   "metadata": {},
   "outputs": [
    {
     "name": "stdout",
     "output_type": "stream",
     "text": [
      "Richard\n"
     ]
    }
   ],
   "source": [
    "class A:  \n",
    "    def __init__(self):  \n",
    "        self.name = 'John'  \n",
    "        self.age = 23  \n",
    "  \n",
    "    def getName(self):  \n",
    "        return self.name  \n",
    "  \n",
    "  \n",
    "class B:  \n",
    "    def __init__(self):  \n",
    "        self.name = 'Richard'  \n",
    "        self.id = '32'  \n",
    "  \n",
    "    def getName(self):  \n",
    "        return self.name  \n",
    "  \n",
    "  \n",
    "class C(A, B):  \n",
    "    def __init__(self):  \n",
    "        A.__init__(self)  \n",
    "        B.__init__(self)  \n",
    "  \n",
    "    def getName(self):  \n",
    "        return self.name  \n",
    "\n",
    "C1 = C()  \n",
    "print(C1.getName())  "
   ]
  },
  {
   "cell_type": "raw",
   "metadata": {},
   "source": [
    "Class C inherits both A and B. And both of them has an attribute ‘name’. From which class the value of name will be inherited in C? Is it from A or B? "
   ]
  },
  {
   "cell_type": "raw",
   "metadata": {},
   "source": [
    "The name when printed is ‘Richard’ instead of ‘John’. Let’s try to understand what’s happening here. In the constructor of C, the first constructor called is the one of A. So, the value of name in C becomes same as the value of name in A. But after that, when the constructor of B is called, the value of name in C is overwritten by the value of name in B. So, the name attribute of C retains the value ‘Richard’ when printed. The result would be same even if we declared class C as:\n",
    "Class C(B, A)"
   ]
  },
  {
   "cell_type": "raw",
   "metadata": {},
   "source": [
    "The hierarchy becomes completely depended on the order of __init__() calls inside the subclass. To deal with it perfectly, there is a protocol named MRO (Method Resolution Order)."
   ]
  },
  {
   "cell_type": "markdown",
   "metadata": {},
   "source": [
    "## Method Resolution Order (MRO)\n",
    "http://www.srikanthtechnologies.com/blog/python/mro.aspx"
   ]
  },
  {
   "cell_type": "code",
   "execution_count": 63,
   "metadata": {},
   "outputs": [
    {
     "name": "stdout",
     "output_type": "stream",
     "text": [
      "John\n"
     ]
    }
   ],
   "source": [
    "class A:  \n",
    "    def __init__(self):  \n",
    "        super().__init__()  \n",
    "        self.name = 'John'  \n",
    "        self.age = 23  \n",
    "  \n",
    "    def getName(self):  \n",
    "        return self.name  \n",
    "  \n",
    "  \n",
    "class B:  \n",
    "    def __init__(self):  \n",
    "        super().__init__()  \n",
    "        self.name = 'Richard'  \n",
    "        self.id = '32'  \n",
    "  \n",
    "    def getName(self):  \n",
    "        return self.name  \n",
    "  \n",
    "  \n",
    "class C(A, B):  \n",
    "    def __init__(self):  \n",
    "        super().__init__()  \n",
    "  \n",
    "    def getName(self):  \n",
    "        return self.name  \n",
    "\n",
    "C1 = C()  \n",
    "print(C1.getName())  "
   ]
  },
  {
   "cell_type": "raw",
   "metadata": {},
   "source": [
    "MRO works in a depth first left to right way. super() in the __init__ method indicates the class that is in the next hierarchy. At first the the super() of C indicates A. Then super in the constructor of A searches for its superclass. If it doesn’t find any, it executes the rest of the code and returns. So the order in which constructors are called here is:\n",
    "C -> A -> B\n",
    "If we call print(C.__mro__), then we can see the MRO traceroute."
   ]
  },
  {
   "cell_type": "code",
   "execution_count": 64,
   "metadata": {},
   "outputs": [
    {
     "name": "stdout",
     "output_type": "stream",
     "text": [
      "(<class '__main__.C'>, <class '__main__.A'>, <class '__main__.B'>, <class 'object'>)\n"
     ]
    }
   ],
   "source": [
    "print(C.__mro__)"
   ]
  },
  {
   "cell_type": "raw",
   "metadata": {},
   "source": [
    "Once the constructor of A is called and attribute ‘name’ is accessed, it doesn’t access the attribute ‘name’ in B. A better understanding of MRO is a must in order to work with python multiple inheritance."
   ]
  },
  {
   "cell_type": "markdown",
   "metadata": {},
   "source": [
    "If you combine the MRO and the **kwargs feature for specifying name-value pairs during construction, you can write code that passes parameters to parent classes even if they have different names:"
   ]
  },
  {
   "cell_type": "code",
   "execution_count": 65,
   "metadata": {},
   "outputs": [],
   "source": [
    "class Rectangle:\n",
    "    def __init__(self, length, width, **kwargs):\n",
    "        self.length = length\n",
    "        self.width = width\n",
    "        super().__init__(**kwargs)\n",
    "\n",
    "    def area(self):\n",
    "        return self.length * self.width\n",
    "\n",
    "    def perimeter(self):\n",
    "        return 2 * self.length + 2 * self.width\n",
    "\n",
    "\n",
    "class Square(Rectangle):\n",
    "    def __init__(self, length, **kwargs):\n",
    "        super().__init__(length=length, width=length, **kwargs)\n",
    "\n",
    "class Triangle:\n",
    "    def __init__(self, base, height, **kwargs):\n",
    "        self.base = base\n",
    "        self.height = height\n",
    "        super().__init__(**kwargs)\n",
    "\n",
    "    def tri_area(self):\n",
    "        return 0.5 * self.base * self.height\n",
    "\n",
    "class RightPyramid(Square, Triangle):\n",
    "    def __init__(self, base, slant_height, **kwargs):\n",
    "        self.base = base\n",
    "        self.slant_height = slant_height\n",
    "        kwargs[\"height\"] = slant_height\n",
    "        kwargs[\"length\"] = base\n",
    "        super().__init__(base=base, **kwargs)\n",
    "\n",
    "    def area(self):\n",
    "        base_area = super().area()\n",
    "        perimeter = super().perimeter()\n",
    "        return 0.5 * perimeter * self.slant_height + base_area\n",
    "\n",
    "    def area_2(self):\n",
    "        base_area = super().area()\n",
    "        triangle_area = super().tri_area()\n",
    "        return triangle_area * 4 + base_area"
   ]
  },
  {
   "cell_type": "markdown",
   "metadata": {},
   "source": [
    "# The Diamond Problem "
   ]
  },
  {
   "cell_type": "markdown",
   "metadata": {},
   "source": [
    "The \"diamond problem\" (sometimes referred to as the \"deadly diamond of death\") is the generally used term for an ambiguity that arises when two classes B and C inherit from a superclass A, and another class D inherits from both B and C. If there is a method \"m\" in A that B or C (or even both of them) )has overridden, and furthermore, if does not override this method, then the question is which version of the method does D inherit? It could be the one from A, B or C\n",
    "\n",
    "Let's look at Python. The first Diamond Problem configuration is like this: Both B and C override the method m of A:"
   ]
  },
  {
   "cell_type": "code",
   "execution_count": 68,
   "metadata": {},
   "outputs": [
    {
     "name": "stdout",
     "output_type": "stream",
     "text": [
      "m of B called\n"
     ]
    }
   ],
   "source": [
    "class A:\n",
    "    def m(self):\n",
    "        print(\"m of A called\")\n",
    "\n",
    "class B(A):\n",
    "    def m(self):\n",
    "        print(\"m of B called\")\n",
    "    \n",
    "class C(A):\n",
    "    def m(self):\n",
    "        print(\"m of C called\")\n",
    "\n",
    "class D(B,C):\n",
    "    pass\n",
    "\n",
    "x = D()\n",
    "x.m()"
   ]
  },
  {
   "cell_type": "raw",
   "metadata": {},
   "source": [
    "If you call the method m on an instance x of D, i.e. x.m(), we will get the output \"m of B called\". If we transpose the order of the classes in the class header of D in \"class D(C,B):\", we will get the output \"m of C called\".\n",
    "\n",
    "The case in which m will be overridden only in one of the classes B or C, e.g. in C:"
   ]
  },
  {
   "cell_type": "code",
   "execution_count": 67,
   "metadata": {},
   "outputs": [
    {
     "name": "stdout",
     "output_type": "stream",
     "text": [
      "m of C called\n"
     ]
    }
   ],
   "source": [
    "class A:\n",
    "    def m(self):\n",
    "        print(\"m of A called\")\n",
    "\n",
    "class B(A):\n",
    "    pass\n",
    "    \n",
    "class C(A):\n",
    "    def m(self):\n",
    "        print(\"m of C called\")\n",
    "\n",
    "class D(B,C):\n",
    "    pass\n",
    "\n",
    "x = D()\n",
    "x.m()\n"
   ]
  },
  {
   "cell_type": "raw",
   "metadata": {},
   "source": [
    "We have seen in our previous implementation of the diamond problem, how Python \"solves\" the problem, i.e. in which order the base classes are browsed through. The order is defined by the so-called \"Method Resolution Order\" or in short MRO.\n",
    "\n",
    "We will extend our previous example, so that every class defines its own method m:"
   ]
  },
  {
   "cell_type": "code",
   "execution_count": 71,
   "metadata": {},
   "outputs": [
    {
     "name": "stdout",
     "output_type": "stream",
     "text": [
      "m of D called\n",
      "m of B called\n",
      "m of C called\n",
      "m of A called\n"
     ]
    }
   ],
   "source": [
    "class A:\n",
    "    def m(self):\n",
    "        print(\"m of A called\")\n",
    "\n",
    "class B(A):\n",
    "    def m(self):\n",
    "        print(\"m of B called\")\n",
    "        super().m()\n",
    "    \n",
    "class C(A):\n",
    "    def m(self):\n",
    "        print(\"m of C called\")\n",
    "        super().m()\n",
    "\n",
    "class D(B,C):\n",
    "    def m(self):\n",
    "        print(\"m of D called\")\n",
    "        super().m()\n",
    "\n",
    "x = D()\n",
    "x.m()"
   ]
  },
  {
   "cell_type": "code",
   "execution_count": null,
   "metadata": {},
   "outputs": [],
   "source": []
  }
 ],
 "metadata": {
  "kernelspec": {
   "display_name": "Python 3",
   "language": "python",
   "name": "python3"
  },
  "language_info": {
   "codemirror_mode": {
    "name": "ipython",
    "version": 3
   },
   "file_extension": ".py",
   "mimetype": "text/x-python",
   "name": "python",
   "nbconvert_exporter": "python",
   "pygments_lexer": "ipython3",
   "version": "3.7.3"
  }
 },
 "nbformat": 4,
 "nbformat_minor": 2
}
