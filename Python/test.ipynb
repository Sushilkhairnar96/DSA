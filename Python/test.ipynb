{
 "cells": [
  {
   "cell_type": "code",
   "execution_count": 18,
   "metadata": {},
   "outputs": [
    {
     "name": "stdout",
     "output_type": "stream",
     "text": [
      "Sushil Khairnar\n",
      "{'first': 'Sushil', 'last': 'Khairnar', 'emailid': 'Sushil.Khairnar@email.com', 'pay': 3000}\n",
      "{'first': 'Sushil', 'last': 'Khairnar', 'emailid': 'Sushil.Khairnar@email.com', 'pay': 3300}\n",
      "1.1\n",
      "1.2\n",
      "True\n"
     ]
    }
   ],
   "source": [
    "class Employee:\n",
    "    \n",
    "    num_of_emps=0\n",
    "    \n",
    "    def __init__(self,first,last,pay):\n",
    "        self.first= first                            #instance variables\n",
    "        self.last= last\n",
    "        self.emailid= first+'.'+last+'@email.com'\n",
    "        self.pay=pay\n",
    "        Employee.num_of_emps+=1                    #class variable\n",
    "        \n",
    "    def fullname(self):\n",
    "        return '{} {}'.format(self.first, self.last)\n",
    "    \n",
    "    raise_amount=1.10                               #class variable\n",
    "    \n",
    "    def apply_raise(self):                          #regular method\n",
    "        self.pay=int(self.pay* self.raise_amount) \n",
    "\n",
    "    @classmethod    #alter the functionality of functn where we receive class as the first argument instead of instance\n",
    "    def set_raise_amount(cls,amount):    #cls is class variable name\n",
    "        cls.raise_amount=amount\n",
    "    \n",
    "    @staticmethod\n",
    "    def is_weekday(day):     #do not operate either on instance or on a class\n",
    "        if day.weekday==6 or day.weekday ==7:\n",
    "            return False\n",
    "        else:\n",
    "            return True\n",
    "        \n",
    "        \n",
    "emp1 = Employee('Sushil','Khairnar',3000)\n",
    "print(emp1.fullname())\n",
    "print(emp1.__dict__)\n",
    "emp1.apply_raise()\n",
    "print(emp1.__dict__)\n",
    "print(emp1.raise_amount)\n",
    "emp1.set_raise_amount(1.2)\n",
    "print(emp1.raise_amount)\n",
    "import datetime\n",
    "my_date=datetime.date(2020,5,8)\n",
    "print(emp1.is_weekday(my_date))"
   ]
  },
  {
   "cell_type": "code",
   "execution_count": 23,
   "metadata": {},
   "outputs": [
    {
     "data": {
      "text/plain": [
       "{'first': 'George',\n",
       " 'last': 'Bush',\n",
       " 'email': 'George.Bush@email.com',\n",
       " 'pay': 60000,\n",
       " 'prog_lang': 'C++'}"
      ]
     },
     "execution_count": 23,
     "metadata": {},
     "output_type": "execute_result"
    }
   ],
   "source": [
    "class Employee:\n",
    "    num_of_emps=0\n",
    "    raise_amount=1.05      # Class variable\n",
    "    \n",
    "    def __init__(self, first, last, pay):\n",
    "        #instance variables:\n",
    "        self.first = first                                      \n",
    "        self.last = last\n",
    "        self.email = first + '.' + last + '@email.com'\n",
    "        self.pay = pay                     #instance variable\n",
    "        \n",
    "        Employee.num_of_emps+=1            #class variable\n",
    "    \n",
    "    def fullname(self):\n",
    "        return '{} {}'.format(self.first, self.last)\n",
    "    \n",
    "    def apply_raise(self):\n",
    "        self.pay=int(self.pay* self.raise_amount)\n",
    "class Developer(Employee):\n",
    "    '''\n",
    "    Super() allows you to call methods of the super/parent class in your subclass. The primary use case of this is to \n",
    "    extend the functionality of the inherited method.\n",
    "    '''\n",
    "    def __init__(self, first, last, pay,prog_lang):\n",
    "        super().__init__(first, last, pay)\n",
    "        self.prog_lang = prog_lang\n",
    "        \n",
    "emp = Employee('Sushil','Khairnar',30000)  \n",
    "dev = Developer('George', 'Bush', 60000,\"C++\")\n",
    "dev.__dict__\n",
    "#help(Developer)"
   ]
  },
  {
   "cell_type": "code",
   "execution_count": null,
   "metadata": {},
   "outputs": [],
   "source": []
  }
 ],
 "metadata": {
  "kernelspec": {
   "display_name": "Python 3",
   "language": "python",
   "name": "python3"
  },
  "language_info": {
   "codemirror_mode": {
    "name": "ipython",
    "version": 3
   },
   "file_extension": ".py",
   "mimetype": "text/x-python",
   "name": "python",
   "nbconvert_exporter": "python",
   "pygments_lexer": "ipython3",
   "version": "3.7.3"
  }
 },
 "nbformat": 4,
 "nbformat_minor": 2
}
