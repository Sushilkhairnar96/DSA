{
 "cells": [
  {
   "cell_type": "code",
   "execution_count": 24,
   "metadata": {},
   "outputs": [
    {
     "data": {
      "text/plain": [
       "True"
      ]
     },
     "execution_count": 24,
     "metadata": {},
     "output_type": "execute_result"
    }
   ],
   "source": [
    "#LC20 : Valid Parentheses\n",
    "'''\n",
    "Input: \"()\"\n",
    "Output: true\n",
    "\n",
    "Input: \"()[]{}\"\n",
    "Output: true\n",
    "    \n",
    "Input: \"{[]}\"\n",
    "Output: true\n",
    "'''\n",
    "s= \"{[]}\"\n",
    "dic={')':'(','}':'{',']':'['}\n",
    "stack=[]\n",
    "for i in s:\n",
    "    try:\n",
    "        if i in dic and dic[i]==stack[-1]:\n",
    "            stack.pop()\n",
    "        else:\n",
    "            stack.append(i)\n",
    "    except:\n",
    "        stack.append(i)\n",
    "not stack"
   ]
  },
  {
   "cell_type": "code",
   "execution_count": 66,
   "metadata": {},
   "outputs": [
    {
     "name": "stdout",
     "output_type": "stream",
     "text": [
      "['', '']\n",
      "['', 'u']\n",
      "['', 'u', '']\n",
      "['', 'u', 'l']\n",
      "['', 'u', 'lo']\n",
      "['', 'u', 'lov']\n",
      "['', 'u', 'love']\n",
      "['', 'uevol']\n",
      "['', 'uevoli']\n",
      "['iloveu']\n"
     ]
    },
    {
     "data": {
      "text/plain": [
       "'iloveu'"
      ]
     },
     "execution_count": 66,
     "metadata": {},
     "output_type": "execute_result"
    }
   ],
   "source": [
    "#LC1190. Reverse Substrings Between Each Pair of Parentheses\n",
    "\n",
    "'''\n",
    "Input: = \"(u(love)i)\"\n",
    "Output: \"iloveu\"\n",
    "'''\n",
    "s = \"(u(love)i)\"\n",
    "stack=['']\n",
    "\n",
    "for i in s:\n",
    "    if i=='(':\n",
    "        stack.append('')\n",
    "    elif i==')':\n",
    "        add=stack.pop()[::-1]\n",
    "        stack[-1]+=add\n",
    "    else:\n",
    "        stack[-1]+=i\n",
    "    print(stack)\n",
    "stack.pop()"
   ]
  },
  {
   "cell_type": "code",
   "execution_count": 11,
   "metadata": {},
   "outputs": [
    {
     "data": {
      "text/plain": [
       "'ca'"
      ]
     },
     "execution_count": 11,
     "metadata": {},
     "output_type": "execute_result"
    }
   ],
   "source": [
    "#1047. Remove All Adjacent Duplicates In String\n",
    "'''\n",
    "Input: \"abbaca\"\n",
    "Output: \"ca\"\n",
    "Explanation: \n",
    "For example, in \"abbaca\" we could remove \"bb\" since the letters are adjacent and equal, and this is the only possible move.\n",
    "The result of this move is that the string is \"aaca\", of which only \"aa\" is possible, so the final string is \"ca\".\n",
    "'''\n",
    "S=\"abbaca\"\n",
    "stack=[S[0]]\n",
    "for i in range(1,len(S)):\n",
    "    try:\n",
    "        if S[i]!=stack[-1]:\n",
    "            stack.append(S[i])\n",
    "        else:\n",
    "            stack.pop()\n",
    "    except:\n",
    "        stack.append(S[i])\n",
    "''.join(stack)"
   ]
  },
  {
   "cell_type": "code",
   "execution_count": 29,
   "metadata": {},
   "outputs": [
    {
     "data": {
      "text/plain": [
       "27"
      ]
     },
     "execution_count": 29,
     "metadata": {},
     "output_type": "execute_result"
    }
   ],
   "source": [
    "#LC682. Baseball Game\n",
    "'''\n",
    "You're now a baseball game point recorder.\n",
    "\n",
    "Given a list of strings, each string can be one of the 4 following types:\n",
    "\n",
    "Integer (one round's score): Directly represents the number of points you get in this round.\n",
    "\"+\" (one round's score): Represents that the points you get in this round are the sum of the last two valid round's points.\n",
    "\"D\" (one round's score): Represents that the points you get in this round are the doubled data of the last valid round's points.\n",
    "\"C\" (an operation, which isn't a round's score): Represents the last valid round's points you get were invalid and should be removed.\n",
    "Each round's operation is permanent and could have an impact on the round before and the round after.\n",
    "\n",
    "You need to return the sum of the points you could get in all the rounds.\n",
    "\n",
    "Input: [\"5\",\"2\",\"C\",\"D\",\"+\"]\n",
    "Output: 30\n",
    "Explanation: \n",
    "Round 1: You could get 5 points. The sum is: 5.\n",
    "Round 2: You could get 2 points. The sum is: 7.\n",
    "Operation 1: The round 2's data was invalid. The sum is: 5.  \n",
    "Round 3: You could get 10 points (the round 2's data has been removed). The sum is: 15.\n",
    "Round 4: You could get 5 + 10 = 15 points. The sum is: 30.\n",
    "'''\n",
    "ops=[\"5\",\"-2\",\"4\",\"C\",\"D\",\"9\",\"+\",\"+\"]\n",
    "stack=[]\n",
    "for i in ops:\n",
    "    if i==\"+\":\n",
    "        stack.append(stack[-1]+stack[-2])\n",
    "    elif i==\"C\":\n",
    "        stack.pop()\n",
    "    elif i==\"D\":\n",
    "        stack.append(stack[-1]*2)\n",
    "    else:\n",
    "        stack.append(int(i))\n",
    "sum(stack)"
   ]
  },
  {
   "cell_type": "code",
   "execution_count": 24,
   "metadata": {},
   "outputs": [
    {
     "data": {
      "text/plain": [
       "False"
      ]
     },
     "execution_count": 24,
     "metadata": {},
     "output_type": "execute_result"
    }
   ],
   "source": [
    "#LC155. Min Stack\n",
    "'''\n",
    "Design a stack that supports push, pop, top, and retrieving the minimum element in constant time.\n",
    "'''\n",
    "\n",
    "class MinStack:\n",
    "\n",
    "    def __init__(self):\n",
    "        \"\"\"\n",
    "        initialize your data structure here.\n",
    "        \"\"\"\n",
    "        self.stack=[]\n",
    "        self.min_stack=[]\n",
    "\n",
    "    def push(self, x: int) -> None:\n",
    "        self.stack.append(x)\n",
    "        if len(self.min_stack)==0 or x <=self.min_stack[-1]:\n",
    "            self.min_stack.append(x)\n",
    "\n",
    "    def pop(self) -> None:\n",
    "        y=self.stack.pop()\n",
    "        if y==self.min_stack[-1]:\n",
    "            self.min_stack.pop()\n",
    "\n",
    "    def top(self) -> int:\n",
    "        return self.stack[-1]\n",
    "\n",
    "    def getMin(self) -> int:\n",
    "        return self.min_stack[-1]\n",
    "\n",
    "# Your MinStack object will be instantiated and called as such:\n",
    "# obj = MinStack()\n",
    "# obj.push(x)\n",
    "# obj.pop()\n",
    "# param_3 = obj.top()\n",
    "# param_4 = obj.getMin()"
   ]
  },
  {
   "cell_type": "code",
   "execution_count": 68,
   "metadata": {},
   "outputs": [
    {
     "name": "stdout",
     "output_type": "stream",
     "text": [
      "[1]\n",
      "[3]\n",
      "[4]\n",
      "[4, 2]\n",
      "{1: 3, 3: 4}\n"
     ]
    },
    {
     "data": {
      "text/plain": [
       "[-1, 3, -1]"
      ]
     },
     "execution_count": 68,
     "metadata": {},
     "output_type": "execute_result"
    }
   ],
   "source": [
    "#496. Next Greater Element I:\n",
    "'''\n",
    "You are given two arrays (without duplicates) nums1 and nums2 where nums1’s elements are subset of nums2. \n",
    "Find all the next greater numbers for nums1's elements in the corresponding places of nums2.\n",
    "\n",
    "The Next Greater Number of a number x in nums1 is the first greater number to its right in nums2. \n",
    "If it does not exist, output -1 for this number.\n",
    "\n",
    "Example 1:\n",
    "Input: nums1 = [4,1,2], nums2 = [1,3,4,2].\n",
    "Output: [-1,3,-1]\n",
    "\n",
    "'''\n",
    "nums1 = [4,1,2]; nums2 = [1,3,4,2]\n",
    "\n",
    "stack=[]\n",
    "dic={}\n",
    "for num in nums2:\n",
    "    while stack!=[] and num>stack[-1]:\n",
    "        dic[stack.pop()]=num\n",
    "    stack.append(num)\n",
    "    print(stack)\n",
    "print(dic)\n",
    "res=[]\n",
    "for i in nums1:\n",
    "    if i in dic:\n",
    "        res.append(dic[i])\n",
    "    else:\n",
    "        res.append(-1)\n",
    "res"
   ]
  },
  {
   "cell_type": "code",
   "execution_count": 11,
   "metadata": {},
   "outputs": [
    {
     "name": "stdout",
     "output_type": "stream",
     "text": [
      "{} [1]\n",
      "{1: 3} [3]\n",
      "{1: 3, 3: 4} [4]\n",
      "{1: 3, 3: 4} [4, 2]\n",
      "*\n",
      "{1: 3, 3: 4} [4, 2, 1]\n",
      "{1: 3, 3: 4, 2: 3} [4, 3]\n",
      "{1: 3, 3: 4, 2: 3} [4, 4]\n",
      "{1: 3, 3: 4, 2: 3} [4, 4, 2]\n",
      "*\n"
     ]
    },
    {
     "data": {
      "text/plain": [
       "[3, 4, -1, 3]"
      ]
     },
     "execution_count": 11,
     "metadata": {},
     "output_type": "execute_result"
    }
   ],
   "source": [
    "#503. Next Greater Element II:\n",
    "'''\n",
    "Given a circular array (the next element of the last element is the first element of the array), print the Next \n",
    "Greater Number for every element. The Next Greater Number of a number x is the first greater number to its \n",
    "traversing-order next in the array, which means you could search circularly to find its next greater number.\n",
    "If it doesn't exist, output -1 for this number.\n",
    "\n",
    "Input: [1,2,1]\n",
    "Output: [2,-1,2]\n",
    "'''\n",
    "nums= [1,3,4,2]\n",
    "stack=[]\n",
    "dic={}\n",
    "\n",
    "for _ in range(2):\n",
    "    for num in nums:\n",
    "        while stack!=[] and num>stack[-1]:\n",
    "            dic[stack.pop()]=num\n",
    "        stack.append(num)\n",
    "        print(dic,stack)   \n",
    "    print(\"*\")\n",
    "res=[]\n",
    "for i in nums:\n",
    "    if i in dic:\n",
    "        res.append(dic[i])\n",
    "    else:\n",
    "        res.append(-1)\n",
    "res\n"
   ]
  },
  {
   "cell_type": "code",
   "execution_count": 130,
   "metadata": {},
   "outputs": [
    {
     "name": "stdout",
     "output_type": "stream",
     "text": [
      "*\n"
     ]
    },
    {
     "data": {
      "text/plain": [
       "'lee(t(c)o)de'"
      ]
     },
     "execution_count": 130,
     "metadata": {},
     "output_type": "execute_result"
    }
   ],
   "source": [
    "#LC 1249. Minimum Remove to Make Valid Parentheses\n",
    "'''\n",
    "Given a string s of '(' , ')' and lowercase English characters. \n",
    "\n",
    "Your task is to remove the minimum number of parentheses ( '(' or ')', in any positions ) so that the resulting parentheses string is valid and return any valid string.\n",
    "\n",
    "Formally, a parentheses string is valid if and only if:\n",
    "\n",
    "It is the empty string, contains only lowercase characters, or\n",
    "It can be written as AB (A concatenated with B), where A and B are valid strings, or\n",
    "It can be written as (A), where A is a valid string.\n",
    "'''\n",
    "s = \"lee(t(c)o)de)\"\n",
    "stack, cur = [], ''\n",
    "for c in s:\n",
    "    if c == '(':\n",
    "        stack += [cur]\n",
    "        cur = ''\n",
    "    elif c == ')':\n",
    "        if stack:\n",
    "            cur = stack.pop() + '(' + cur + ')' \n",
    "    else:\n",
    "        cur += c\n",
    "    #print(cur,stack)\n",
    "print(\"*\")        \n",
    "while stack:\n",
    "    cur = stack.pop() + cur\n",
    "cur"
   ]
  },
  {
   "cell_type": "code",
   "execution_count": 132,
   "metadata": {},
   "outputs": [
    {
     "data": {
      "text/plain": [
       "'abccdcdcdxyz'"
      ]
     },
     "execution_count": 132,
     "metadata": {},
     "output_type": "execute_result"
    }
   ],
   "source": [
    "#394. Decode String\n",
    "'''\n",
    "Given an encoded string, return its decoded string.\n",
    "\n",
    "The encoding rule is: k[encoded_string], where the encoded_string inside the square brackets is being \n",
    "repeated exactly k times. Note that k is guaranteed to be a positive integer.\n",
    "\n",
    "You may assume that the input string is always valid; No extra white spaces, square brackets are well-formed, etc.\n",
    "\n",
    "Furthermore, you may assume that the original data does not contain any digits and that digits are only for those \n",
    "repeat numbers, k. For example, there won't be input like 3a or 2[4].\n",
    "\n",
    "Example 1:\n",
    "\n",
    "Input: s = \"3[a]2[bc]\"\n",
    "Output: \"aaabcbc\"\n",
    "Example 2:\n",
    "\n",
    "Input: s = \"3[a2[c]]\"\n",
    "Output: \"accaccacc\"\n",
    "\n",
    "'''\n",
    "s =\"abc3[cd]xyz\"\n",
    "stack=[]\n",
    "stack.append([\"\",1])\n",
    "num=\"\"\n",
    "for i in s:\n",
    "    if i.isdigit():\n",
    "        num+=i\n",
    "    elif i=='[':\n",
    "        stack.append([\"\",int(num)])\n",
    "        num=\"\"\n",
    "    elif i==']':\n",
    "        chars,number= stack.pop()\n",
    "        stack[-1][0]+=number*chars\n",
    "    else:\n",
    "        stack[-1][0]+=i\n",
    "stack[0][0]"
   ]
  },
  {
   "cell_type": "code",
   "execution_count": 139,
   "metadata": {},
   "outputs": [
    {
     "data": {
      "text/plain": [
       "[5, 5, 7, 7, 8, 0]"
      ]
     },
     "execution_count": 139,
     "metadata": {},
     "output_type": "execute_result"
    }
   ],
   "source": [
    "#LC 1019. Next Greater Node In Linked List\n",
    "'''\n",
    "Input: [2,1,5]\n",
    "Output: [5,5,0]\n",
    "\n",
    "Input: [2,7,4,3,5]\n",
    "Output: [7,0,5,5,0]\n",
    "'''\n",
    "\n",
    "def nextLargerNodes(head: ListNode) -> List[int]:\n",
    "    dic={}\n",
    "    stack=[]\n",
    "    cur = head\n",
    "    \n",
    "    while cur:\n",
    "        while stack and cur.val> stack[-1].val:\n",
    "            dic[stack.pop()]=cur\n",
    "        stack.append(cur)\n",
    "        cur=cur.next\n",
    "  \n",
    "    cur = head\n",
    "    res=[]\n",
    "    while cur:\n",
    "        if cur in dic:\n",
    "            res.append(dic[cur].val)\n",
    "        else:\n",
    "            res.append(0)\n",
    "        cur =cur.next\n",
    "    return res"
   ]
  },
  {
   "cell_type": "code",
   "execution_count": 140,
   "metadata": {},
   "outputs": [
    {
     "data": {
      "text/plain": [
       "[5, 5, 7, 7, 8, 0]"
      ]
     },
     "execution_count": 140,
     "metadata": {},
     "output_type": "execute_result"
    }
   ],
   "source": [
    "\n",
    "x=[3,0,5,1,7,8]\n",
    "\n",
    "#[5,5,7,7,8,0]\n",
    "stack=[]\n",
    "dic={}\n",
    "for num in x:\n",
    "    while stack and num> stack[-1]:\n",
    "        dic[stack.pop()]=num\n",
    "    stack.append(num)\n",
    "res=[]\n",
    "for i in x:\n",
    "    if i in dic:\n",
    "        res.append(dic[i])\n",
    "    else:\n",
    "        res.append(0)\n",
    "res  "
   ]
  },
  {
   "cell_type": "code",
   "execution_count": 1,
   "metadata": {},
   "outputs": [
    {
     "ename": "NameError",
     "evalue": "name 'r' is not defined",
     "output_type": "error",
     "traceback": [
      "\u001b[1;31m---------------------------------------------------------------------------\u001b[0m",
      "\u001b[1;31mNameError\u001b[0m                                 Traceback (most recent call last)",
      "\u001b[1;32m<ipython-input-1-d17ca1acc36c>\u001b[0m in \u001b[0;36m<module>\u001b[1;34m\u001b[0m\n\u001b[1;32m----> 1\u001b[1;33m \u001b[0mr\u001b[0m\u001b[1;33m\u001b[0m\u001b[1;33m\u001b[0m\u001b[0m\n\u001b[0m",
      "\u001b[1;31mNameError\u001b[0m: name 'r' is not defined"
     ]
    }
   ],
   "source": [
    "r"
   ]
  },
  {
   "cell_type": "code",
   "execution_count": null,
   "metadata": {},
   "outputs": [],
   "source": []
  }
 ],
 "metadata": {
  "kernelspec": {
   "display_name": "Python 3",
   "language": "python",
   "name": "python3"
  },
  "language_info": {
   "codemirror_mode": {
    "name": "ipython",
    "version": 3
   },
   "file_extension": ".py",
   "mimetype": "text/x-python",
   "name": "python",
   "nbconvert_exporter": "python",
   "pygments_lexer": "ipython3",
   "version": "3.7.3"
  }
 },
 "nbformat": 4,
 "nbformat_minor": 2
}
