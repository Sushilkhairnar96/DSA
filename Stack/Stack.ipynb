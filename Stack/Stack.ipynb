{
 "cells": [
  {
   "cell_type": "code",
   "execution_count": 30,
   "metadata": {},
   "outputs": [
    {
     "data": {
      "text/plain": [
       "3"
      ]
     },
     "execution_count": 30,
     "metadata": {},
     "output_type": "execute_result"
    }
   ],
   "source": [
    "#1. Maximum Nesting Depth of the Parentheses\n",
    "'''\n",
    "Input: s = \"(1+(2*3)+((8)/4))+1\"\n",
    "Output: 3\n",
    "Explanation: Digit 8 is inside of 3 nested parentheses in the string.\n",
    "\n",
    "Input: s = \"(1)+((2))+(((3)))\"\n",
    "Output: 3\n",
    "\n",
    "Input: s = \"1+(2*3)/(2-1)\"\n",
    "Output: 1\n",
    "'''\n",
    "s = \"(1)+((2))+(((3)))\"\n",
    "stack=[]\n",
    "ans=0\n",
    "for ch in s:\n",
    "    if ch==\"(\":\n",
    "        stack.append(ch)\n",
    "    elif ch==\")\":\n",
    "        ans=max(ans,len(stack))\n",
    "        stack.pop()\n",
    "ans"
   ]
  },
  {
   "cell_type": "code",
   "execution_count": 31,
   "metadata": {},
   "outputs": [
    {
     "data": {
      "text/plain": [
       "True"
      ]
     },
     "execution_count": 31,
     "metadata": {},
     "output_type": "execute_result"
    }
   ],
   "source": [
    "#2. : Valid Parentheses\n",
    "'''\n",
    "Input: \"()\"\n",
    "Output: true\n",
    "\n",
    "Input: \"()[]{}\"\n",
    "Output: true\n",
    "    \n",
    "Input: \"{[]}\"\n",
    "Output: true\n",
    "'''\n",
    "def isValid( s: str) -> bool:\n",
    "    dic={\")\":\"(\", \"}\":\"{\",\"]\":\"[\"}\n",
    "    stack=[]\n",
    "    if len(s)==1: return False\n",
    "    for ch in s:\n",
    "        if ch in dic:\n",
    "            if stack and stack[-1]==dic[ch]:\n",
    "                stack.pop()\n",
    "            else:\n",
    "                return False\n",
    "        else:\n",
    "            stack.append(ch)\n",
    "    return not stack\n",
    "\n",
    "s=\"(([]{}[({})]))\"\n",
    "isValid(s)"
   ]
  },
  {
   "cell_type": "code",
   "execution_count": 38,
   "metadata": {},
   "outputs": [
    {
     "data": {
      "text/plain": [
       "'iloveu'"
      ]
     },
     "execution_count": 38,
     "metadata": {},
     "output_type": "execute_result"
    }
   ],
   "source": [
    "#3. Reverse Substrings Between Each Pair of Parentheses\n",
    "\n",
    "'''\n",
    "Input: = \"(u(love)i)\"\n",
    "Output: \"iloveu\"\n",
    "'''\n",
    "\n",
    "def reverseParentheses(s: str) -> str:\n",
    "    '''\n",
    "    stack=['']\n",
    "\n",
    "    for i in s:\n",
    "        if i=='(':\n",
    "            stack.append('')\n",
    "        elif i==')':\n",
    "            add=stack.pop()[::-1]\n",
    "            stack[-1]+=add\n",
    "        else:\n",
    "            stack[-1]+=i\n",
    "        print(stack)\n",
    "    stack.pop()\n",
    "    '''\n",
    "    stack=[]\n",
    "    for ch in s:\n",
    "        if ch==\")\":\n",
    "            new=\"\"\n",
    "            while stack and stack[-1]!=\"(\":\n",
    "                new+=stack.pop()\n",
    "            stack.pop()\n",
    "            stack.append(new[::-1])\n",
    "        else:\n",
    "            stack.append(ch)\n",
    "    res=\"\"\n",
    "    for st in stack:\n",
    "        res+=st[::-1]\n",
    "    return res\n",
    "\n",
    "s = \"(u(love)i)\"\n",
    "reverseParentheses(s)"
   ]
  },
  {
   "cell_type": "code",
   "execution_count": 39,
   "metadata": {},
   "outputs": [
    {
     "data": {
      "text/plain": [
       "2"
      ]
     },
     "execution_count": 39,
     "metadata": {},
     "output_type": "execute_result"
    }
   ],
   "source": [
    "#4. Minimum Add to Make Parentheses Valid\n",
    "'''\n",
    "Given a string s of '(' and ')' parentheses, we add the minimum number of parentheses ( '(' or ')', and in any \n",
    "positions ) so that the resulting parentheses string is valid.\n",
    "\n",
    "Formally, a parentheses string is valid if and only if:\n",
    "\n",
    "It is the empty string, or\n",
    "It can be written as AB (A concatenated with B), where A and B are valid strings, or\n",
    "It can be written as (A), where A is a valid string.\n",
    "Given a parentheses string, return the minimum number of parentheses we must add to make the resulting string valid.\n",
    "\n",
    "\n",
    "Input: s = \"())\"\n",
    "Output: 1\n",
    "\n",
    "Input: s = \"(((\"\n",
    "Output: 3\n",
    "'''\n",
    "def minAddToMakeValid(s: str) -> int:\n",
    "    stack=[] # to hold left parenthesis\n",
    "    right=0\n",
    "    for ch in s:\n",
    "        if ch==\"(\":\n",
    "            stack.append(ch) \n",
    "        else:\n",
    "            if stack:\n",
    "                stack.pop()\n",
    "            else:\n",
    "                right+=1\n",
    "    return right+len(stack)\n",
    "\n",
    "s = \"((()))))\"\n",
    "minAddToMakeValid(s)"
   ]
  },
  {
   "cell_type": "code",
   "execution_count": 40,
   "metadata": {},
   "outputs": [
    {
     "data": {
      "text/plain": [
       "'su(s)hil(k)'"
      ]
     },
     "execution_count": 40,
     "metadata": {},
     "output_type": "execute_result"
    }
   ],
   "source": [
    "#5. Minimum Remove to Make Valid Parentheses\n",
    "'''\n",
    "Given a string s of '(' , ')' and lowercase English characters. \n",
    "\n",
    "Your task is to remove the minimum number of parentheses ( '(' or ')', in any positions ) so that the resulting parentheses string is valid and return any valid string.\n",
    "\n",
    "Formally, a parentheses string is valid if and only if:\n",
    "\n",
    "It is the empty string, contains only lowercase characters, or\n",
    "It can be written as AB (A concatenated with B), where A and B are valid strings, or\n",
    "It can be written as (A), where A is a valid string.\n",
    "'''\n",
    "s = \"lee(t(c)o)de)\"\n",
    "\n",
    "'''\n",
    "Convert string to list, because String is an immutable data structure in Python and it's much easier and \n",
    "memory-efficient to deal with a list for this task.\n",
    "\n",
    "1. Iterate through list\n",
    "2. Keep track of indices with open parentheses in the stack. In other words, when we come across open parenthesis \n",
    "    we add an index to the stack.\n",
    "3. When we come across close parenthesis we pop an element from the stack.\n",
    "4. If the stack is empty we replace current list element with an empty string\n",
    "5. After iteration, we replace all indices we have in the stack with empty strings, because we\n",
    "    don't have close parentheses for them.\n",
    "6. Convert list to string and return\n",
    "'''\n",
    "def minRemoveToMakeValid( s: str) -> str:\n",
    "    s = list(s)\n",
    "    stack = []\n",
    "    for i, ch in enumerate(s):\n",
    "        if ch == '(':\n",
    "            stack.append(i)\n",
    "        elif ch == ')':\n",
    "            if stack:\n",
    "                stack.pop()\n",
    "            else:\n",
    "                s[i] = ''\n",
    "    while stack:\n",
    "        s[stack.pop()] = ''\n",
    "    return ''.join(s)\n",
    "\n",
    "s=\"))su(s)h((il(k)\"\n",
    "minRemoveToMakeValid(s)"
   ]
  },
  {
   "cell_type": "code",
   "execution_count": 41,
   "metadata": {},
   "outputs": [
    {
     "name": "stdout",
     "output_type": "stream",
     "text": [
      "[0, 0]\n",
      "[0, 0, 0]\n",
      "[0, 1]\n",
      "[0, 1, 0]\n",
      "[0, 1, 0, 0]\n",
      "[0, 1, 1]\n",
      "[0, 3]\n",
      "[6]\n"
     ]
    },
    {
     "data": {
      "text/plain": [
       "6"
      ]
     },
     "execution_count": 41,
     "metadata": {},
     "output_type": "execute_result"
    }
   ],
   "source": [
    "#6.  Score of Parentheses\n",
    "'''\n",
    "Given a balanced parentheses string s, compute the score of the string based on the following rule:\n",
    "\n",
    "() has score 1\n",
    "AB has score A + B, where A and B are balanced parentheses strings.\n",
    "(A) has score 2 * A, where A is a balanced parentheses string.\n",
    "\n",
    "Input: s = \"()\"\n",
    "Output: 1\n",
    "\n",
    "Input: s = \"(())\"\n",
    "Output: 2\n",
    "\n",
    "Input: s = \"(()(()))\"\n",
    "Output: 6\n",
    "'''\n",
    "def scoreOfParentheses( s: str) -> int:\n",
    "    stack=[0]\n",
    "    for i,ch in enumerate(s):\n",
    "        if ch==\"(\":\n",
    "            stack.append(0)\n",
    "        else:\n",
    "            last= stack.pop()\n",
    "            if last==0:\n",
    "                stack[-1]+=1\n",
    "            else:\n",
    "                stack[-1]+=2*last\n",
    "        print(stack)\n",
    "    return stack.pop()\n",
    "\n",
    "s = \"(()(()))\"\n",
    "scoreOfParentheses(s)"
   ]
  },
  {
   "cell_type": "code",
   "execution_count": 42,
   "metadata": {},
   "outputs": [
    {
     "data": {
      "text/plain": [
       "'ca'"
      ]
     },
     "execution_count": 42,
     "metadata": {},
     "output_type": "execute_result"
    }
   ],
   "source": [
    "#7. Remove All Adjacent Duplicates In String\n",
    "'''\n",
    "Input: \"abbaca\"\n",
    "Output: \"ca\"\n",
    "Explanation: \n",
    "For example, in \"abbaca\" we could remove \"bb\" since the letters are adjacent and equal, and this is the only possible move.\n",
    "The result of this move is that the string is \"aaca\", of which only \"aa\" is possible, so the final string is \"ca\".\n",
    "'''\n",
    "def removeDuplicates(s: str) -> str:\n",
    "    stack=[]\n",
    "    for ch in s:\n",
    "        if stack and stack[-1]==ch:\n",
    "            stack.pop()\n",
    "        else:\n",
    "            stack.append(ch)\n",
    "    return \"\".join(stack)\n",
    "s=\"abbaca\"\n",
    "removeDuplicates(s)"
   ]
  },
  {
   "cell_type": "code",
   "execution_count": 14,
   "metadata": {},
   "outputs": [
    {
     "data": {
      "text/plain": [
       "27"
      ]
     },
     "execution_count": 14,
     "metadata": {},
     "output_type": "execute_result"
    }
   ],
   "source": [
    "#8. Baseball Game\n",
    "'''\n",
    "You're now a baseball game point recorder.\n",
    "\n",
    "Given a list of strings, each string can be one of the 4 following types:\n",
    "\n",
    "Integer (one round's score): Directly represents the number of points you get in this round.\n",
    "\"+\" (one round's score): Represents that the points you get in this round are the sum of the last two valid round's points.\n",
    "\"D\" (one round's score): Represents that the points you get in this round are the doubled data of the last valid round's points.\n",
    "\"C\" (an operation, which isn't a round's score): Represents the last valid round's points you get were invalid and should be removed.\n",
    "Each round's operation is permanent and could have an impact on the round before and the round after.\n",
    "\n",
    "You need to return the sum of the points you could get in all the rounds.\n",
    "\n",
    "Input: [\"5\",\"2\",\"C\",\"D\",\"+\"]\n",
    "Output: 30\n",
    "Explanation: \n",
    "Round 1: You could get 5 points. The sum is: 5.\n",
    "Round 2: You could get 2 points. The sum is: 7.\n",
    "Operation 1: The round 2's data was invalid. The sum is: 5.  \n",
    "Round 3: You could get 10 points (the round 2's data has been removed). The sum is: 15.\n",
    "Round 4: You could get 5 + 10 = 15 points. The sum is: 30.\n",
    "'''\n",
    "ops=[\"5\",\"-2\",\"4\",\"C\",\"D\",\"9\",\"+\",\"+\"]\n",
    "stack=[]\n",
    "for i in ops:\n",
    "    if i==\"+\":\n",
    "        stack.append(stack[-1]+stack[-2])\n",
    "    elif i==\"C\":\n",
    "        stack.pop()\n",
    "    elif i==\"D\":\n",
    "        stack.append(stack[-1]*2)\n",
    "    else:\n",
    "        stack.append(int(i))\n",
    "sum(stack)"
   ]
  },
  {
   "cell_type": "code",
   "execution_count": 15,
   "metadata": {},
   "outputs": [],
   "source": [
    "#9. Min Stack\n",
    "'''\n",
    "Design a stack that supports push, pop, top, and retrieving the minimum element in constant time.\n",
    "'''\n",
    "\n",
    "class MinStack:\n",
    "\n",
    "    def __init__(self):\n",
    "        \"\"\"\n",
    "        initialize your data structure here.\n",
    "        \"\"\"\n",
    "        self.stack=[]\n",
    "        self.min_stack=[]\n",
    "\n",
    "    def push(self, x: int) -> None:\n",
    "        self.stack.append(x)\n",
    "        if len(self.min_stack)==0 or x <=self.min_stack[-1]:\n",
    "            self.min_stack.append(x)\n",
    "\n",
    "    def pop(self) -> None:\n",
    "        y=self.stack.pop()\n",
    "        if y==self.min_stack[-1]:\n",
    "            self.min_stack.pop()\n",
    "\n",
    "    def top(self) -> int:\n",
    "        return self.stack[-1]\n",
    "\n",
    "    def getMin(self) -> int:\n",
    "        return self.min_stack[-1]\n",
    "\n",
    "# Your MinStack object will be instantiated and called as such:\n",
    "# obj = MinStack()\n",
    "# obj.push(x)\n",
    "# obj.pop()\n",
    "# param_3 = obj.top()\n",
    "# param_4 = obj.getMin()"
   ]
  },
  {
   "cell_type": "code",
   "execution_count": 16,
   "metadata": {},
   "outputs": [
    {
     "name": "stdout",
     "output_type": "stream",
     "text": [
      "[1]\n",
      "[3]\n",
      "[4]\n",
      "[4, 2]\n",
      "{1: 3, 3: 4}\n"
     ]
    },
    {
     "data": {
      "text/plain": [
       "[-1, 3, -1]"
      ]
     },
     "execution_count": 16,
     "metadata": {},
     "output_type": "execute_result"
    }
   ],
   "source": [
    "#10. Next Greater Element I:\n",
    "'''\n",
    "You are given two arrays (without duplicates) nums1 and nums2 where nums1’s elements are subset of nums2. \n",
    "Find all the next greater numbers for nums1's elements in the corresponding places of nums2.\n",
    "\n",
    "The Next Greater Number of a number x in nums1 is the first greater number to its right in nums2. \n",
    "If it does not exist, output -1 for this number.\n",
    "\n",
    "Example 1:\n",
    "Input: nums1 = [4,1,2], nums2 = [1,3,4,2].\n",
    "Output: [-1,3,-1]\n",
    "\n",
    "'''\n",
    "nums1 = [4,1,2]; nums2 = [1,3,4,2]\n",
    "\n",
    "stack=[]\n",
    "dic={}\n",
    "for num in nums2:\n",
    "    while stack!=[] and num>stack[-1]:\n",
    "        dic[stack.pop()]=num\n",
    "    stack.append(num)\n",
    "    print(stack)\n",
    "print(dic)\n",
    "res=[]\n",
    "for i in nums1:\n",
    "    if i in dic:\n",
    "        res.append(dic[i])\n",
    "    else:\n",
    "        res.append(-1)\n",
    "res"
   ]
  },
  {
   "cell_type": "code",
   "execution_count": 45,
   "metadata": {},
   "outputs": [
    {
     "name": "stdout",
     "output_type": "stream",
     "text": [
      "[[3, 4], [4, 3]] [2, 3, 4, -1, -1]\n",
      "[[3, 4], [3, 4], [4, 3]] [2, 3, 4, -1, 4]\n"
     ]
    },
    {
     "data": {
      "text/plain": [
       "[2, 3, 4, -1, 4]"
      ]
     },
     "execution_count": 45,
     "metadata": {},
     "output_type": "execute_result"
    }
   ],
   "source": [
    "#11 Next Greater Element II:\n",
    "'''\n",
    "Given a circular array (the next element of the last element is the first element of the array), print the Next \n",
    "Greater Number for every element. The Next Greater Number of a number x is the first greater number to its \n",
    "traversing-order next in the array, which means you could search circularly to find its next greater number.\n",
    "If it doesn't exist, output -1 for this number.\n",
    "\n",
    "Input: [1,2,1]\n",
    "Output: [2,-1,2]\n",
    "'''\n",
    "def nextGreaterElements(nums):\n",
    "    stack=[]\n",
    "    ans=[-1]*len(nums)\n",
    "    for _ in range(2):\n",
    "        for i,num in enumerate(nums):\n",
    "            while stack and num>stack[-1][1]:\n",
    "                ind,val = stack.pop()\n",
    "                ans[ind]=num\n",
    "            stack.append([i,num])\n",
    "        print(stack,ans)\n",
    "    return ans\n",
    "\n",
    "nums= [1,2,3,4,3]\n",
    "nextGreaterElements(nums)"
   ]
  },
  {
   "cell_type": "code",
   "execution_count": 18,
   "metadata": {},
   "outputs": [
    {
     "data": {
      "text/plain": [
       "'abccdcdcdxyz'"
      ]
     },
     "execution_count": 18,
     "metadata": {},
     "output_type": "execute_result"
    }
   ],
   "source": [
    "#12. Decode String\n",
    "'''\n",
    "Given an encoded string, return its decoded string.\n",
    "\n",
    "The encoding rule is: k[encoded_string], where the encoded_string inside the square brackets is being \n",
    "repeated exactly k times. Note that k is guaranteed to be a positive integer.\n",
    "\n",
    "You may assume that the input string is always valid; No extra white spaces, square brackets are well-formed, etc.\n",
    "\n",
    "Furthermore, you may assume that the original data does not contain any digits and that digits are only for those \n",
    "repeat numbers, k. For example, there won't be input like 3a or 2[4].\n",
    "\n",
    "Example 1:\n",
    "\n",
    "Input: s = \"3[a]2[bc]\"\n",
    "Output: \"aaabcbc\"\n",
    "Example 2:\n",
    "\n",
    "Input: s = \"3[a2[c]]\"\n",
    "Output: \"accaccacc\"\n",
    "\n",
    "'''\n",
    "s =\"abc3[cd]xyz\"\n",
    "stack=[]\n",
    "stack.append([\"\",1])\n",
    "num=\"\"\n",
    "for i in s:\n",
    "    if i.isdigit():\n",
    "        num+=i\n",
    "    elif i=='[':\n",
    "        stack.append([\"\",int(num)])\n",
    "        num=\"\"\n",
    "    elif i==']':\n",
    "        chars,number= stack.pop()\n",
    "        stack[-1][0]+=number*chars\n",
    "    else:\n",
    "        stack[-1][0]+=i\n",
    "stack[0][0]"
   ]
  },
  {
   "cell_type": "code",
   "execution_count": 19,
   "metadata": {},
   "outputs": [],
   "source": [
    "#13. Next Greater Node In Linked List\n",
    "'''\n",
    "Input: [2,1,5]\n",
    "Output: [5,5,0]\n",
    "\n",
    "Input: [2,7,4,3,5]\n",
    "Output: [7,0,5,5,0]\n",
    "'''\n",
    "\n",
    "def nextLargerNodes(head):\n",
    "    dic={}\n",
    "    stack=[]\n",
    "    cur = head\n",
    "    \n",
    "    while cur:\n",
    "        while stack and cur.val> stack[-1].val:\n",
    "            dic[stack.pop()]=cur\n",
    "        stack.append(cur)\n",
    "        cur=cur.next\n",
    "  \n",
    "    cur = head\n",
    "    res=[]\n",
    "    while cur:\n",
    "        if cur in dic:\n",
    "            res.append(dic[cur].val)\n",
    "        else:\n",
    "            res.append(0)\n",
    "        cur =cur.next\n",
    "    return res"
   ]
  },
  {
   "cell_type": "code",
   "execution_count": 20,
   "metadata": {},
   "outputs": [
    {
     "data": {
      "text/plain": [
       "True"
      ]
     },
     "execution_count": 20,
     "metadata": {},
     "output_type": "execute_result"
    }
   ],
   "source": [
    "#14. 132 Pattern\n",
    "'''\n",
    "Given a sequence of n integers a1, a2, ..., an, a 132 pattern is a subsequence ai, aj, ak such that i < j < k and \n",
    "ai < ak < aj. Design an algorithm that takes a list of n numbers as input and checks whether there is a 132 pattern \n",
    "in the list.\n",
    "Input: [3, 1, 4, 2]\n",
    "\n",
    "Output: True\n",
    "'''\n",
    "def find132pattern(nums) -> bool:\n",
    "    '''\n",
    "    for i in range(len(nums)):\n",
    "        for j in range(i,len(nums)):\n",
    "            for k in range(j,len(nums)):\n",
    "                if nums[i]<nums[k]<nums[j]:\n",
    "                    return True\n",
    "    '''\n",
    "    stack=[] #tracks largest element\n",
    "    sec_largest=-float('inf')\n",
    "    for num in nums[::-1]:\n",
    "        if num< sec_largest: return True      #smallest element\n",
    "        while stack and num>stack[-1]:\n",
    "            sec_largest = stack.pop()\n",
    "        stack.append(num)\n",
    "    return False\n",
    "\n",
    "nums=[-1, 3, 2, 0]\n",
    "find132pattern(nums) "
   ]
  },
  {
   "cell_type": "code",
   "execution_count": 21,
   "metadata": {},
   "outputs": [
    {
     "name": "stdout",
     "output_type": "stream",
     "text": [
      "22\n",
      "212\n",
      "1400\n",
      "100\n"
     ]
    }
   ],
   "source": [
    "#15 Evaluate a given expression where tokens are separated by space.\n",
    " \n",
    "def precedence(op):\n",
    "     \n",
    "    if op == '+' or op == '-': return 1\n",
    "    if op == '*' or op == '/': return 2\n",
    "    return 0\n",
    " \n",
    "def applyOp(a, b, op):\n",
    "     \n",
    "    if op == '+': return a + b\n",
    "    if op == '-': return a - b\n",
    "    if op == '*': return a * b\n",
    "    if op == '/': return a // b\n",
    "\n",
    "def evaluate(tokens):\n",
    "    values = []\n",
    "    ops = []\n",
    "    i = 0\n",
    "     \n",
    "    while i < len(tokens):\n",
    "         \n",
    "        # Current token is a whitespace,skip it.\n",
    "        if tokens[i] == ' ':\n",
    "            i += 1\n",
    "            continue\n",
    "        # Current token is an opening, push it to 'ops'\n",
    "        elif tokens[i] == '(':\n",
    "            ops.append(tokens[i])\n",
    "         \n",
    "        # Current token is a number, push it to stack for numbers.\n",
    "        elif tokens[i].isdigit():\n",
    "            val = 0\n",
    "            # If there are more than one digits in the number.\n",
    "            while (i < len(tokens) and tokens[i].isdigit()):\n",
    "                val = (val * 10) + int(tokens[i])\n",
    "                i += 1\n",
    "            values.append(val) \n",
    "            # right now the i points to the character next to the digit, since the outer while loop also increases \n",
    "            # the i, we would skip one token position; we need to decrease the value of i by 1 to correct the offset.\n",
    "            i-=1 \n",
    "        # Closing brace encountered,solve entire brace.\n",
    "        elif tokens[i] == ')':\n",
    "         \n",
    "            while len(ops) != 0 and ops[-1] != '(':\n",
    "             \n",
    "                val2 = values.pop()\n",
    "                val1 = values.pop()\n",
    "                op = ops.pop()\n",
    "                 \n",
    "                values.append(applyOp(val1, val2, op))\n",
    "             \n",
    "            # pop opening brace.\n",
    "            ops.pop()\n",
    "         \n",
    "        \n",
    "        else:  # Current token is an operator.\n",
    "         \n",
    "            # While top of 'ops' has same or greater precedence to current token, which is an operator. \n",
    "            # Apply operator on top of 'ops' to top two elements in values stack.\n",
    "            while (len(ops) != 0 and precedence(ops[-1]) >= precedence(tokens[i])):\n",
    "                val2 = values.pop()\n",
    "                val1 = values.pop()\n",
    "                op = ops.pop()\n",
    "                 \n",
    "                values.append(applyOp(val1, val2, op))\n",
    "             \n",
    "            # Push current token to 'ops'.\n",
    "            ops.append(tokens[i])\n",
    "         \n",
    "        i += 1\n",
    "     \n",
    "    # Entire expression has been parsed at this point, apply remaining ops to remaining values.\n",
    "    while len(ops) != 0:\n",
    "         \n",
    "        val2 = values.pop()\n",
    "        val1 = values.pop()\n",
    "        op = ops.pop()\n",
    "                 \n",
    "        values.append(applyOp(val1, val2, op))\n",
    "     \n",
    "    # Top of 'values' contains result, return it.\n",
    "    return values[-1]\n",
    " \n",
    "\n",
    "print(evaluate(\"10 + 2 * 6\"))\n",
    "print(evaluate(\"100 * 2 + 12\"))\n",
    "print(evaluate(\"100 * ( 2 + 12 )\"))\n",
    "print(evaluate(\"100 * ( 2 + 12 ) / 14\"))\n",
    " \n"
   ]
  },
  {
   "cell_type": "code",
   "execution_count": 22,
   "metadata": {},
   "outputs": [
    {
     "name": "stdout",
     "output_type": "stream",
     "text": [
      "[[0, 73]] [0, 0, 0, 0, 0, 0, 0, 0] 73\n",
      "[[1, 74]] [1, 0, 0, 0, 0, 0, 0, 0] 74\n",
      "[[2, 75]] [1, 1, 0, 0, 0, 0, 0, 0] 75\n",
      "[[2, 75], [3, 71]] [1, 1, 0, 0, 0, 0, 0, 0] 71\n",
      "[[2, 75], [3, 71], [4, 69]] [1, 1, 0, 0, 0, 0, 0, 0] 69\n",
      "[[2, 75], [5, 72]] [1, 1, 0, 2, 1, 0, 0, 0] 72\n",
      "[[6, 76]] [1, 1, 4, 2, 1, 1, 0, 0] 76\n",
      "[[6, 76], [7, 73]] [1, 1, 4, 2, 1, 1, 0, 0] 73\n"
     ]
    },
    {
     "data": {
      "text/plain": [
       "[1, 1, 4, 2, 1, 1, 0, 0]"
      ]
     },
     "execution_count": 22,
     "metadata": {},
     "output_type": "execute_result"
    }
   ],
   "source": [
    "#16. Daily Temperatures\n",
    "'''\n",
    "Given a list of daily temperatures T, return a list such that, for each day in the input, tells you how many days you \n",
    "would have to wait until a warmer temperature. If there is no future day for which this is possible, put 0 instead.\n",
    "\n",
    "For example, given the list of temperatures T = [73, 74, 75, 71, 69, 72, 76, 73], your output should be \n",
    "[1, 1, 4, 2, 1, 1, 0, 0].\n",
    "\n",
    "Note: The length of temperatures will be in the range [1, 30000]. Each temperature will be an integer \n",
    "in the range [30, 100].\n",
    "'''\n",
    "def dailyTemperatures(nums):\n",
    "    '''\n",
    "    res = [0] * len(nums)\n",
    "    for i in range(len(nums)):\n",
    "        for j in range(i, len(nums)):\n",
    "            if nums[j] > nums[i]:\n",
    "                res[i] = j - i \n",
    "                break #guarentee the soonest \n",
    "    return res  \n",
    "    '''\n",
    "\n",
    "    '''\n",
    "    stack=[]\n",
    "    ans = [0]*len(nums)\n",
    "    for i in range(len(nums)):\n",
    "        while stack and nums[i]> nums[stack[-1]]:\n",
    "            index= stack.pop()\n",
    "            ans[index] = i - index\n",
    "        stack.append(i) \n",
    "    return ans\n",
    "    '''\n",
    "\n",
    "    stack=[]\n",
    "    ans = [0]*len(nums)\n",
    "    for i,v in enumerate(nums):\n",
    "        while stack and v> stack[-1][1]:\n",
    "            index,val = stack.pop()\n",
    "            ans[index] = i - index\n",
    "        stack.append([i,v]) \n",
    "        print(stack,ans,v)\n",
    "    return ans\n",
    "\n",
    "dailyTemperatures([73, 74, 75, 71, 69, 72, 76, 73])"
   ]
  },
  {
   "cell_type": "code",
   "execution_count": 23,
   "metadata": {},
   "outputs": [
    {
     "name": "stdout",
     "output_type": "stream",
     "text": [
      "1\n",
      "1\n",
      "1\n",
      "2\n",
      "1\n",
      "4\n",
      "6\n"
     ]
    }
   ],
   "source": [
    "#17.  Online Stock Span\n",
    "'''\n",
    "Write a class StockSpanner which collects daily price quotes for some stock, and returns the span of that stock's\n",
    "price for the current day.\n",
    "The span of the stock's price today is defined as the maximum number of consecutive days \n",
    "(starting from today and going backwards) for which the price of the stock was less than or equal to today's price.\n",
    "\n",
    "For example, if the price of a stock over the next 7 days were [100, 80, 60, 70, 60, 75, 85], \n",
    "then the stock spans would be [1, 1, 1, 2, 1, 4, 6].\n",
    "\n",
    "Example 1:\n",
    "\n",
    "Input: [\"StockSpanner\",\"next\",\"next\",\"next\",\"next\",\"next\",\"next\",\"next\"], [[],[100],[80],[60],[70],[60],[75],[85]]\n",
    "Output: [null,1,1,1,2,1,4,6]\n",
    "Explanation: \n",
    "First, S = StockSpanner() is initialized.  Then:\n",
    "S.next(100) is called and returns 1,\n",
    "S.next(80) is called and returns 1,\n",
    "S.next(60) is called and returns 1,\n",
    "S.next(70) is called and returns 2,\n",
    "S.next(60) is called and returns 1,\n",
    "S.next(75) is called and returns 4,\n",
    "S.next(85) is called and returns 6.\n",
    "\n",
    "Note that (for example) S.next(75) returned 4, because the last 4 prices\n",
    "(including today's price of 75) were less than or equal to today's price.\n",
    "'''\n",
    "class StockSpanner:\n",
    "\n",
    "    def __init__(self):\n",
    "        self.stack=[]\n",
    "    \n",
    "    def next(self, price: int) -> int:\n",
    "        count=1\n",
    "        while self.stack and price >= self.stack[-1][0]:\n",
    "            count+= self.stack.pop()[1]\n",
    "        self.stack.append([price,count])\n",
    "        #print([price,count],\"***\",self.stack)\n",
    "        return count\n",
    "obj = StockSpanner()\n",
    "print(obj.next(100))\n",
    "print(obj.next(80)) \n",
    "print(obj.next(60)) \n",
    "print(obj.next(70)) \n",
    "print(obj.next(60)) \n",
    "print(obj.next(75)) \n",
    "print(obj.next(85)) "
   ]
  },
  {
   "cell_type": "code",
   "execution_count": 24,
   "metadata": {},
   "outputs": [
    {
     "data": {
      "text/plain": [
       "True"
      ]
     },
     "execution_count": 24,
     "metadata": {},
     "output_type": "execute_result"
    }
   ],
   "source": [
    "#18. Validate Stack Sequences\n",
    "'''\n",
    "Given two sequences pushed and popped with distinct values, return true if and only if this could have been \n",
    "the result of a sequence of push and pop operations on an initially empty stack.\n",
    "\n",
    "Example 1:\n",
    "Input: pushed = [1,2,3,4,5], popped = [4,5,3,2,1]\n",
    "Output: true\n",
    "Explanation: We might do the following sequence:\n",
    "push(1), push(2), push(3), push(4), pop() -> 4,\n",
    "push(5), pop() -> 5, pop() -> 3, pop() -> 2, pop() -> 1\n",
    "\n",
    "Example 2:\n",
    "Input: pushed = [1,2,3,4,5], popped = [4,3,5,1,2]\n",
    "Output: false\n",
    "Explanation: 1 cannot be popped before 2.\n",
    "'''\n",
    "def validateStackSequences(pushed,popped):\n",
    "    stack=[]\n",
    "    j=0\n",
    "    for num in pushed:\n",
    "        stack.append(num)\n",
    "        while stack and stack[-1]==popped[j]:\n",
    "            stack.pop()\n",
    "            j+=1\n",
    "    return not stack\n",
    "       \n",
    "pushed = [1,2,3,4,5];popped = [4,5,3,2,1]\n",
    "validateStackSequences(pushed,popped)"
   ]
  },
  {
   "cell_type": "code",
   "execution_count": 25,
   "metadata": {},
   "outputs": [
    {
     "name": "stdout",
     "output_type": "stream",
     "text": [
      "[0, 0, 2, 3] [0, 3, 3, 3] [3, 1, 2, 4]\n"
     ]
    },
    {
     "data": {
      "text/plain": [
       "17"
      ]
     },
     "execution_count": 25,
     "metadata": {},
     "output_type": "execute_result"
    }
   ],
   "source": [
    "#19. Sum of Subarray Minimums\n",
    "'''\n",
    "Given an array of integers arr, find the sum of min(b), where b ranges over every (contiguous) subarray of arr. \n",
    "Since the answer may be large, return the answer modulo 10^9 + 7.\n",
    "\n",
    "\n",
    "Input: arr = [3,1,2,4]\n",
    "Output: 17\n",
    "Explanation: \n",
    "Subarrays are [3], [1], [2], [4], [3,1], [1,2], [2,4], [3,1,2], [1,2,4], [3,1,2,4]. \n",
    "Minimums are 3, 1, 2, 4, 1, 1, 2, 1, 1, 1.\n",
    "Sum is 17.\n",
    "\n",
    "Input: arr = [11,81,94,43,3]\n",
    "Output: 444\n",
    "\n",
    "https://www.youtube.com/watch?v=vcv3REtIvEo\n",
    "https://leetcode.com/problems/sum-of-subarray-minimums/discuss/178876/stack-solution-with-very-detailed-explanation-step-by-step\n",
    "https://www.youtube.com/watch?v=9-TXIVEXX2w\n",
    "https://leetcode.com/problems/sum-of-subarray-minimums/discuss/170776/Python-Simple-Stack-O(n)-Solution-10-lines\n",
    "'''\n",
    "def sumSubarrayMins(A) -> int:\n",
    "    '''\n",
    "    ans=0\n",
    "    for i in range(len(arr)):\n",
    "        for j in range(i+1,len(arr)+1):\n",
    "            ans+=min(arr[i:j])\n",
    "    return ans\n",
    "    '''\n",
    "    stack=[]\n",
    "    prev=[0]*len(A)   #list of index of next smaller elemements to the left of current index\n",
    "    for i in range(len(A)):\n",
    "        while stack and A[i]< A[stack[-1]]:\n",
    "            stack.pop()\n",
    "        prev[i] = stack[-1]+1 if stack else 0  #insert 0 if no smaller element found to the left else insert index of prev. smaller element+1\n",
    "        stack.append(i)\n",
    "    \n",
    "    stack=[]\n",
    "    next= [0]*len(A) #list of index of next smaller elemements to the right of current index\n",
    "    for i in range(len(A)-1,-1,-1):\n",
    "        while stack and A[i]<= A[stack[-1]]:\n",
    "            stack.pop()\n",
    "        next[i] = stack[-1]-1 if stack else len(A)-1   #insert index of last element if no smaller element found to right of index\n",
    "        stack.append(i)\n",
    " \n",
    "    print(prev,next,A)\n",
    "    return sum((i-prev[i]+1) * (next[i]-i+1) * A[i] for i in range(len(A))) % (10**9 + 7)\n",
    "\n",
    "\n",
    "#A= [2, 9, 7, 8, 3, 4, 6, 1]\n",
    "A=[3,1,2,4]\n",
    "sumSubarrayMins(A)"
   ]
  },
  {
   "cell_type": "code",
   "execution_count": 26,
   "metadata": {},
   "outputs": [
    {
     "name": "stdout",
     "output_type": "stream",
     "text": [
      "[0, 1, 1, 3, 4, 3, 1, 7, 7, 7, 1, 0, 12] [12, 1, 10, 4, 4, 5, 10, 8, 8, 9, 10, 12, 12]\n"
     ]
    },
    {
     "data": {
      "text/plain": [
       "20"
      ]
     },
     "execution_count": 26,
     "metadata": {},
     "output_type": "execute_result"
    }
   ],
   "source": [
    "#20. Largest Rectangle in Histogram\n",
    "'''\n",
    "Given an array of integers heights representing the histogram's bar height where the width of each bar is 1, \n",
    "return the area of the largest rectangle in the histogram.\n",
    "\n",
    "Input: heights = [2,1,5,6,2,3]\n",
    "Output: 10\n",
    "Explanation: The above is a histogram where width of each bar is 1.\n",
    "The largest rectangle is shown in the red area, which has an area = 10 units.\n",
    "\n",
    "https://www.youtube.com/watch?v=vcv3REtIvEo\n",
    "'''\n",
    "def largestRectangleArea(heights) -> int:\n",
    "    \n",
    "    stack=[]\n",
    "    prev=[0]*len(heights)\n",
    "    for i in range(len(heights)):\n",
    "        while stack and heights[i]<= heights[stack[-1]]:\n",
    "            stack.pop()\n",
    "        prev[i] = stack[-1]+1 if stack else 0\n",
    "        stack.append(i)\n",
    "    \n",
    "    stack=[]\n",
    "    next= [0]*len(heights)\n",
    "    for i in range(len(heights)-1,-1,-1):\n",
    "        while stack and heights[i]<= heights[stack[-1]]:\n",
    "            stack.pop()\n",
    "        next[i] = stack[-1]-1 if stack else len(heights)-1\n",
    "        stack.append(i)\n",
    "        \n",
    "    print(prev,next)\n",
    "    return max(heights[i]* (next[i]-prev[i]+1) for i in range(len(heights)))\n",
    "    '''\n",
    "    stack=[]\n",
    "    area=0\n",
    "    heights.append(0)\n",
    "    for i in range(len(heights)):\n",
    "        while stack and heights[i]<= heights[stack[-1]]:\n",
    "            h = heights[stack.pop()]\n",
    "            w = i - stack[-1] -1 if stack else i\n",
    "            area = max(area,h*w)\n",
    "        stack.append(i)\n",
    "    return area\n",
    "    '''\n",
    "\n",
    "#heights = [2,1,5,6,2,3]\n",
    "heights=[1,4,2,5,6,3,2,6,6,5,2,1,3]\n",
    "largestRectangleArea(heights) "
   ]
  },
  {
   "cell_type": "code",
   "execution_count": null,
   "metadata": {},
   "outputs": [],
   "source": [
    "#21. "
   ]
  },
  {
   "cell_type": "code",
   "execution_count": 22,
   "metadata": {},
   "outputs": [
    {
     "ename": "SyntaxError",
     "evalue": "invalid syntax (<ipython-input-22-b1d1bdb12ec5>, line 1)",
     "output_type": "error",
     "traceback": [
      "\u001b[0;36m  File \u001b[0;32m\"<ipython-input-22-b1d1bdb12ec5>\"\u001b[0;36m, line \u001b[0;32m1\u001b[0m\n\u001b[0;31m    856. Score of Parentheses\u001b[0m\n\u001b[0m         ^\u001b[0m\n\u001b[0;31mSyntaxError\u001b[0m\u001b[0;31m:\u001b[0m invalid syntax\n"
     ]
    }
   ],
   "source": [
    "Remove Duplicate Letters\n",
    "Shortest Subarray with Sum at Least K\n",
    "Sliding Window Maximum"
   ]
  },
  {
   "cell_type": "code",
   "execution_count": null,
   "metadata": {},
   "outputs": [],
   "source": [
    "#"
   ]
  }
 ],
 "metadata": {
  "kernelspec": {
   "display_name": "Python 3",
   "language": "python",
   "name": "python3"
  },
  "language_info": {
   "codemirror_mode": {
    "name": "ipython",
    "version": 3
   },
   "file_extension": ".py",
   "mimetype": "text/x-python",
   "name": "python",
   "nbconvert_exporter": "python",
   "pygments_lexer": "ipython3",
   "version": "3.8.5"
  }
 },
 "nbformat": 4,
 "nbformat_minor": 2
}
