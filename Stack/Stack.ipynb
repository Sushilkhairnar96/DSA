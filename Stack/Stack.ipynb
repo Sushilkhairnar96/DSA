{
 "cells": [
  {
   "cell_type": "code",
   "execution_count": 24,
   "metadata": {},
   "outputs": [
    {
     "data": {
      "text/plain": [
       "True"
      ]
     },
     "execution_count": 24,
     "metadata": {},
     "output_type": "execute_result"
    }
   ],
   "source": [
    "#LC20 : Valid Parentheses\n",
    "'''\n",
    "Input: \"()\"\n",
    "Output: true\n",
    "\n",
    "Input: \"()[]{}\"\n",
    "Output: true\n",
    "    \n",
    "Input: \"{[]}\"\n",
    "Output: true\n",
    "'''\n",
    "s= \"{[]}\"\n",
    "dic={')':'(','}':'{',']':'['}\n",
    "stack=[]\n",
    "for i in s:\n",
    "    try:\n",
    "        if i in dic and dic[i]==stack[-1]:\n",
    "            stack.pop()\n",
    "        else:\n",
    "            stack.append(i)\n",
    "    except:\n",
    "        stack.append(i)\n",
    "not stack"
   ]
  },
  {
   "cell_type": "code",
   "execution_count": 59,
   "metadata": {},
   "outputs": [
    {
     "name": "stdout",
     "output_type": "stream",
     "text": [
      "['', '']\n",
      "['', 'd']\n",
      "['', 'do']\n",
      "['', 'doo']\n",
      "['', 'doog']\n",
      "['', 'doog', '']\n",
      "['', 'doog', 'i']\n",
      "['', 'doog', 'is']\n",
      "['', 'doogsi']\n",
      "['', 'doogsis']\n",
      "['', 'doogsisi']\n",
      "['', 'doogsisih']\n",
      "['', 'doogsisiht']\n",
      "['thisisgood']\n"
     ]
    },
    {
     "data": {
      "text/plain": [
       "'thisisgood'"
      ]
     },
     "execution_count": 59,
     "metadata": {},
     "output_type": "execute_result"
    }
   ],
   "source": [
    "#LC1190. Reverse Substrings Between Each Pair of Parentheses\n",
    "\n",
    "'''\n",
    "Input: = \"(u(love)i)\"\n",
    "Output: \"iloveu\"\n",
    "'''\n",
    "s = \"(doog(is)siht)\"\n",
    "stack=['']\n",
    "s1=\"\"\n",
    "s2=\"\"\n",
    "for i in s:\n",
    "    if i=='(':\n",
    "        stack.append('')\n",
    "    elif i==')':\n",
    "        add=stack.pop()[::-1]\n",
    "        stack[-1]+=add\n",
    "    else:\n",
    "        stack[-1]+=i\n",
    "    print(stack)\n",
    "stack.pop()"
   ]
  },
  {
   "cell_type": "code",
   "execution_count": null,
   "metadata": {},
   "outputs": [],
   "source": []
  }
 ],
 "metadata": {
  "kernelspec": {
   "display_name": "Python 3",
   "language": "python",
   "name": "python3"
  },
  "language_info": {
   "codemirror_mode": {
    "name": "ipython",
    "version": 3
   },
   "file_extension": ".py",
   "mimetype": "text/x-python",
   "name": "python",
   "nbconvert_exporter": "python",
   "pygments_lexer": "ipython3",
   "version": "3.7.3"
  }
 },
 "nbformat": 4,
 "nbformat_minor": 2
}
