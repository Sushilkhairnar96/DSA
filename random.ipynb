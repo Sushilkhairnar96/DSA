{
 "cells": [
  {
   "cell_type": "code",
   "execution_count": 3,
   "metadata": {},
   "outputs": [
    {
     "data": {
      "text/plain": [
       "True"
      ]
     },
     "execution_count": 3,
     "metadata": {},
     "output_type": "execute_result"
    }
   ],
   "source": [
    "#LC459. Repeated Substring Pattern\n",
    "'''\n",
    "Example 1:\n",
    "\n",
    "Input: \"abab\"\n",
    "Output: True\n",
    "Explanation: It's the substring \"ab\" twice.\n",
    "\n",
    "Input: \"aba\"\n",
    "Output: False\n",
    "'''\n",
    "\n",
    "def repeatedSubstringPattern(s):\n",
    "    '''\n",
    "    s1= \"\"\n",
    "    for i in range(len(s)//2):\n",
    "        s1+=s[i]\n",
    "        mul = len(s)//len(s1)\n",
    "        if s1*mul==s:\n",
    "            return True\n",
    "    return False\n",
    "    '''\n",
    "    for i in range(1,(len(s)//2)+1):\n",
    "        x=s[:i]\n",
    "        if len(s)%len(x)==0:\n",
    "            mul=len(s)//len(x)\n",
    "            if(x*mul==s):\n",
    "                return True\n",
    "    return False\n",
    "\n",
    "s=\"abab\"\n",
    "repeatedSubstringPattern(s)"
   ]
  },
  {
   "cell_type": "code",
   "execution_count": 8,
   "metadata": {},
   "outputs": [
    {
     "data": {
      "text/plain": [
       "False"
      ]
     },
     "execution_count": 8,
     "metadata": {},
     "output_type": "execute_result"
    }
   ],
   "source": [
    "#LC290. Word Pattern\n",
    "'''\n",
    "Given a pattern and a string str, find if str follows the same pattern.\n",
    "\n",
    "Here follow means a full match, such that there is a bijection between a letter in pattern and a non-empty word in str.\n",
    "\n",
    "Example 1:\n",
    "\n",
    "Input: pattern = \"abba\", str = \"dog cat cat dog\"\n",
    "Output: true\n",
    "Example 2:\n",
    "\n",
    "Input:pattern = \"abba\", str = \"dog cat cat fish\"\n",
    "Output: false\n",
    "'''\n",
    "def wordPattern(pattern: str, words: str):\n",
    "    dic={}\n",
    "    words=words.split(\" \")\n",
    "    if len(pattern) != len(words):\n",
    "        return False\n",
    "    \n",
    "    for i in range(len(words)):\n",
    "        pattern_key = f'pattern_{pattern[i]}'  #pattern: 'abba' str: 'b a a b'=> pattern_a ; words_b\n",
    "        words_key=f'word_{words[i]}'           \n",
    "        \n",
    "        if pattern_key not in dic:\n",
    "            dic[pattern_key]=i\n",
    "        if words_key not in dic:\n",
    "            dic[words_key]=i\n",
    "    \n",
    "        if dic[pattern_key]!=dic[words_key]:\n",
    "            return False\n",
    "    return True\n",
    "pattern = \"abba\"; words = \"dog cat cat fish\"\n",
    "wordPattern(pattern,words)"
   ]
  },
  {
   "cell_type": "code",
   "execution_count": 11,
   "metadata": {},
   "outputs": [
    {
     "data": {
      "text/plain": [
       "'bacdfeg'"
      ]
     },
     "execution_count": 11,
     "metadata": {},
     "output_type": "execute_result"
    }
   ],
   "source": [
    "#LC541. Reverse String II\n",
    "'''\n",
    "Given a string and an integer k, you need to reverse the first k characters for every 2k characters counting \n",
    "from the start of the string. If there are less than k characters left, reverse all of them. If there are less \n",
    "than 2k but greater than or equal to k characters, then reverse the first k characters and left the other as original.\n",
    "Example:\n",
    "Input: s = \"abcdefg\", k = 2\n",
    "Output: \"bacdfeg\"\n",
    "'''\n",
    "def reverseStr(s: str, k: int):\n",
    "    ans=\"\"\n",
    "    for i in range(0,len(s),2*k):\n",
    "        sub = s[i:i+2*k]\n",
    "        ans+=s[i:i+k][::-1]+s[i+k:i+2*k]\n",
    "    return ans\n",
    "\n",
    "s = \"abcdefg\"; k = 2\n",
    "reverseStr(s,k)"
   ]
  },
  {
   "cell_type": "code",
   "execution_count": 4,
   "metadata": {},
   "outputs": [
    {
     "data": {
      "text/plain": [
       "3"
      ]
     },
     "execution_count": 4,
     "metadata": {},
     "output_type": "execute_result"
    }
   ],
   "source": [
    "#LC3. Longest Substring Without Repeating Characters\n",
    "'''\n",
    "Given a string s, find the length of the longest substring without repeating characters.\n",
    "\n",
    "Input: s = \"abcabcbb\"\n",
    "Output: 3\n",
    "Explanation: The answer is \"abc\", with the length of 3.\n",
    "\n",
    "Input: s = \"bbbbb\"\n",
    "Output: 1\n",
    "Explanation: The answer is \"b\", with the length of 1.\n",
    "'''\n",
    "\n",
    "s = \"sushsu\"\n",
    "l=r=0\n",
    "chars=set()\n",
    "longest=0\n",
    "\n",
    "while l<len(s) and r<len(s):\n",
    "    if s[r] not in chars:\n",
    "        chars.add(s[r])\n",
    "        r+=1\n",
    "        longest=max(longest,r-l)\n",
    "    else:\n",
    "        chars.remove(s[l])\n",
    "        l+=1\n",
    "longest\n"
   ]
  },
  {
   "cell_type": "code",
   "execution_count": 6,
   "metadata": {},
   "outputs": [
    {
     "data": {
      "text/plain": [
       "['a', 'a', 'b', 'b', 'd', 'aba', 'bab']"
      ]
     },
     "execution_count": 6,
     "metadata": {},
     "output_type": "execute_result"
    }
   ],
   "source": [
    "x= ['a', 'a', 'aba', 'b', 'b', 'bab', 'd']\n",
    "sorted(x,key=lambda i: len(i))"
   ]
  },
  {
   "cell_type": "code",
   "execution_count": 48,
   "metadata": {},
   "outputs": [
    {
     "data": {
      "text/plain": [
       "'bcb'"
      ]
     },
     "execution_count": 48,
     "metadata": {},
     "output_type": "execute_result"
    }
   ],
   "source": [
    "#LCS :\n",
    "'''\n",
    "def LCS(x,y,m,n):\n",
    "    if m==0 or n==0 :\n",
    "        return 0\n",
    "    if x[m-1]==y[n-1]:\n",
    "        return 1 + LCS(x,y,m-1,n-1)\n",
    "    else:\n",
    "        return max(LCS(x,y,m-1,n),LCS(x,y,m,n-1))\n",
    "'''\n",
    "def LCS(x,y,m,n):\n",
    "    dp = [[0 for j in range(n+1)] for i in range(m+1)]\n",
    "    if m==0 or n==0 : return 0\n",
    "    for i in range(1,m+1):\n",
    "        for j in range(1,n+1):\n",
    "            if x[i-1]==y[j-1]:\n",
    "                dp[i][j]=1 + dp[i-1][j-1]\n",
    "            else:\n",
    "                dp[i][j] = max(dp[i-1][j],dp[i][j-1])\n",
    "    return dp\n",
    "\n",
    "def printLCS(dp,x,y):\n",
    "    i,j = len(x),len(y)\n",
    "    ans=\"\"\n",
    "    while i>0 and j>0:\n",
    "        if x[i-1]==y[j-1]:\n",
    "            ans+=x[i-1]\n",
    "            i-=1\n",
    "            j-=1\n",
    "        else:\n",
    "            if dp[i-1][j]>dp[i][j-1]:\n",
    "                i-=1\n",
    "            else:\n",
    "                j-=1\n",
    "    return ans[::-1]\n",
    "\n",
    "def LPS(x):\n",
    "    return LCS(x,x[::-1],len(x),len(x))\n",
    "\n",
    "x= \"abcde\" ; y=\"acdwfe\"  \n",
    "m=len(x)\n",
    "n=len(y)\n",
    "dp = LCS(x,y,m,n)\n",
    "printLCS(dp,x,y)\n",
    "x=\"abcbe\"\n",
    "dp1=LPS(x)\n",
    "printLCS(dp1,x,x[::-1])"
   ]
  },
  {
   "cell_type": "code",
   "execution_count": 52,
   "metadata": {},
   "outputs": [
    {
     "name": "stdout",
     "output_type": "stream",
     "text": [
      "aacdefcaa aacfedcaa\n"
     ]
    },
    {
     "data": {
      "text/plain": [
       "'aac'"
      ]
     },
     "execution_count": 52,
     "metadata": {},
     "output_type": "execute_result"
    }
   ],
   "source": [
    "def printLCSubstring(x,y,m,n): \n",
    "    dp =[[0 for j in range(n+1)] for i in range(m+1)]\n",
    "    if m==0 or n==0 : return 0\n",
    "    length=0\n",
    "    for i in range(1,m+1):\n",
    "        for j in range(1,n+1):\n",
    "            if(x[i-1]==y[j-1]):\n",
    "                dp[i][j]= 1 + dp[i-1][j-1]\n",
    "                if length<dp[i][j]:\n",
    "                    row=i            #for finding the position from where to travese back to find string\n",
    "                    col=j\n",
    "                    length=dp[i][j]\n",
    "            else:\n",
    "                dp[i][j] = 0\n",
    "    if length == 0: return\n",
    "    res=\"\"\n",
    "    while dp[row][col]!=0:\n",
    "        res+=x[row-1]\n",
    "        row-=1\n",
    "        col-=1\n",
    "    return res[::-1]\n",
    "    \n",
    "x=\"aacdefcaa\"\n",
    "y=x[::-1]\n",
    "print(x,y)\n",
    "printLCSubstring(x,y,len(x),len(y))"
   ]
  },
  {
   "cell_type": "code",
   "execution_count": null,
   "metadata": {},
   "outputs": [],
   "source": []
  }
 ],
 "metadata": {
  "kernelspec": {
   "display_name": "Python 3",
   "language": "python",
   "name": "python3"
  },
  "language_info": {
   "codemirror_mode": {
    "name": "ipython",
    "version": 3
   },
   "file_extension": ".py",
   "mimetype": "text/x-python",
   "name": "python",
   "nbconvert_exporter": "python",
   "pygments_lexer": "ipython3",
   "version": "3.7.3"
  }
 },
 "nbformat": 4,
 "nbformat_minor": 2
}
