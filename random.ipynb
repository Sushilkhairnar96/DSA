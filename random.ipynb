{
 "cells": [
  {
   "cell_type": "code",
   "execution_count": 3,
   "metadata": {},
   "outputs": [
    {
     "data": {
      "text/plain": [
       "True"
      ]
     },
     "execution_count": 3,
     "metadata": {},
     "output_type": "execute_result"
    }
   ],
   "source": [
    "#LC459. Repeated Substring Pattern\n",
    "'''\n",
    "Example 1:\n",
    "\n",
    "Input: \"abab\"\n",
    "Output: True\n",
    "Explanation: It's the substring \"ab\" twice.\n",
    "\n",
    "Input: \"aba\"\n",
    "Output: False\n",
    "'''\n",
    "\n",
    "def repeatedSubstringPattern(s):\n",
    "    '''\n",
    "    s1= \"\"\n",
    "    for i in range(len(s)//2):\n",
    "        s1+=s[i]\n",
    "        mul = len(s)//len(s1)\n",
    "        if s1*mul==s:\n",
    "            return True\n",
    "    return False\n",
    "    '''\n",
    "    for i in range(1,(len(s)//2)+1):\n",
    "        x=s[:i]\n",
    "        if len(s)%len(x)==0:\n",
    "            mul=len(s)//len(x)\n",
    "            if(x*mul==s):\n",
    "                return True\n",
    "    return False\n",
    "\n",
    "s=\"abab\"\n",
    "repeatedSubstringPattern(s)"
   ]
  },
  {
   "cell_type": "code",
   "execution_count": null,
   "metadata": {},
   "outputs": [],
   "source": []
  }
 ],
 "metadata": {
  "kernelspec": {
   "display_name": "Python 3",
   "language": "python",
   "name": "python3"
  },
  "language_info": {
   "codemirror_mode": {
    "name": "ipython",
    "version": 3
   },
   "file_extension": ".py",
   "mimetype": "text/x-python",
   "name": "python",
   "nbconvert_exporter": "python",
   "pygments_lexer": "ipython3",
   "version": "3.7.3"
  }
 },
 "nbformat": 4,
 "nbformat_minor": 2
}
