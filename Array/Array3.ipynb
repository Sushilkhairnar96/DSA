{
 "cells": [
  {
   "cell_type": "code",
   "execution_count": null,
   "metadata": {},
   "outputs": [],
   "source": [
    "nums=[100,1,11,1,120,111,123,1,-1,-100]\n",
    "stack=[]\n",
    "stack1=[]\n",
    "dic={}\n",
    "for num in nums:\n",
    "    if stack and num>stack[-1][0]:\n",
    "        stack[-1][1]=num\n",
    "    stack.append([num,1])     "
   ]
  },
  {
   "cell_type": "code",
   "execution_count": null,
   "metadata": {},
   "outputs": [],
   "source": [
    "s = \"(u(love)i)\"\n",
    "stack=[]\n",
    "s1,s2=\"\",\"\"\n",
    "for i in s:\n",
    "    if i!=')':\n",
    "        stack.append(i) \n",
    "    else:\n",
    "        s1=\"\"\n",
    "        while stack[-1]!='(':\n",
    "            s1+=stack[-1]\n",
    "            stack.pop()\n",
    "        stack.pop()    \n",
    "        s2+=s1\n",
    "    #print(stack,\"*\",s1,\"*\",s2)"
   ]
  },
  {
   "cell_type": "code",
   "execution_count": null,
   "metadata": {},
   "outputs": [],
   "source": [
    "s = \"(abcd)\"\n",
    "stack=[]\n",
    "stack.append([\"\",0])\n",
    "s1=\"\"\n",
    "for i in s:\n",
    "    if i=='(':\n",
    "        stack.append([\"\",0])\n",
    "    if i.isalpha():\n",
    "        stack[-1][0]+=i\n",
    "    elif i==')':\n",
    "        if len(stack)>1:\n",
    "            stack[-2][0]+=stack[-1][0][::-1]\n",
    "        stack.pop()\n",
    "    print(stack,s1[::-1])"
   ]
  },
  {
   "cell_type": "code",
   "execution_count": null,
   "metadata": {},
   "outputs": [],
   "source": [
    "nums =[-3,2,-3,4,2]\n",
    "prefix_sum = 0\n",
    "min_start_value = 1\n",
    "\n",
    "for num in nums:\n",
    "    prefix_sum += num\n",
    "    min_start_value = max(min_start_value, 1 - prefix_sum)\n",
    "    print(min_start_value,prefix_sum)"
   ]
  },
  {
   "cell_type": "code",
   "execution_count": null,
   "metadata": {},
   "outputs": [],
   "source": [
    "A = [2]; B = [1,3]\n",
    "if len(B)>len(A):\n",
    "    for _ in  range(len(B)-len(A)):\n",
    "        A.append(0)\n",
    "else:\n",
    "    for _ in range(len(A)-len(B)):\n",
    "        B.append(0)\n",
    "print(A,B)\n",
    "\n",
    "for i in range(len(A)):\n",
    "    sa=sum(A)\n",
    "    sb=sum(B)\n",
    "    print(sa,sb)\n",
    "    if sa!=sb:\n",
    "        A[i],B[i]=B[i],A[i]\n",
    "    else:\n",
    "        print(A,B)"
   ]
  },
  {
   "cell_type": "code",
   "execution_count": null,
   "metadata": {},
   "outputs": [],
   "source": [
    "for i in range(len(A)):\n",
    "    sa=sum(A)\n",
    "    sb=sum(B)\n",
    "    if sa!=sb:\n",
    "        A[i],B[i]=B[i],A[i]\n",
    "    else:\n",
    "        print(A,B)\n",
    "    "
   ]
  },
  {
   "cell_type": "code",
   "execution_count": null,
   "metadata": {},
   "outputs": [],
   "source": [
    "import collections\n",
    "deck=[1,1,1,1,1,0,0,0]\n",
    "def gcd(a, b):\n",
    "    while b: a, b = b, a % b\n",
    "    return a\n",
    "count = collections.Counter(deck).values()\n",
    "print(count)\n"
   ]
  },
  {
   "cell_type": "code",
   "execution_count": 21,
   "metadata": {},
   "outputs": [
    {
     "name": "stdout",
     "output_type": "stream",
     "text": [
      "g r 6\n",
      "p r 5\n",
      "a r 4\n",
      "r r 3\n",
      "m k 2\n",
      "b k 1\n",
      "u k 0\n",
      "u p 0\n",
      "u u 0\n",
      "u e 0\n"
     ]
    },
    {
     "data": {
      "text/plain": [
       "''"
      ]
     },
     "execution_count": 21,
     "metadata": {},
     "output_type": "execute_result"
    }
   ],
   "source": [
    "text1 = \"ezupkr\"\n",
    "text2=\"ubmrapg\"\n",
    "t1=list(text1)\n",
    "t2=list(text2)\n",
    "if len(t2)>len(t1):\n",
    "    t1,t2=t2,t1\n",
    "s=\"\"\n",
    "j=len(t1)-1\n",
    "while(t2):\n",
    "    s=\"\"\n",
    "    #j=len(t1)-1\n",
    "    for i in range(j,-1,-1):\n",
    "        try:\n",
    "            print(t1[i],t2[-1],i)\n",
    "            if(t1[i]==t2[-1]):\n",
    "                s+=t2.pop()\n",
    "            else:\n",
    "                pass\n",
    "        except:\n",
    "            pass    \n",
    "    try:\n",
    "        t2.pop()\n",
    "        j=i\n",
    "    except:\n",
    "        pass\n",
    "s\n",
    "        "
   ]
  },
  {
   "cell_type": "code",
   "execution_count": 102,
   "metadata": {},
   "outputs": [
    {
     "name": "stdout",
     "output_type": "stream",
     "text": [
      "1 1 1\n"
     ]
    },
    {
     "data": {
      "text/plain": [
       "0"
      ]
     },
     "execution_count": 102,
     "metadata": {},
     "output_type": "execute_result"
    }
   ],
   "source": [
    "seats=[1,0,1]\n",
    "dic={}\n",
    "mi,ma=0,0\n",
    "max_x,x=0,0\n",
    "c=0\n",
    "for i in range(len(seats)):\n",
    "    ma=0\n",
    "    if seats[i]==0:\n",
    "        for j in range(c,i):\n",
    "            if seats[j]==1:\n",
    "                mi=i-j\n",
    "                break\n",
    "        for k in range(i,len(seats)):\n",
    "            if seats[k]==1:\n",
    "                break\n",
    "            else:\n",
    "                ma+=1  \n",
    "        x=abs(ma-mi)\n",
    "        max_x=max(x,max_x)\n",
    "        print(mi,ma,i)\n",
    "    else:\n",
    "        c=i\n",
    "max_x            "
   ]
  },
  {
   "cell_type": "code",
   "execution_count": 109,
   "metadata": {},
   "outputs": [
    {
     "data": {
      "text/plain": [
       "2"
      ]
     },
     "execution_count": 109,
     "metadata": {},
     "output_type": "execute_result"
    }
   ],
   "source": [
    "nums= [5,1,5,2,5,3,5,4]\n",
    "\n",
    "sum(nums)- sum(range(len(nums)))"
   ]
  },
  {
   "cell_type": "code",
   "execution_count": 112,
   "metadata": {},
   "outputs": [
    {
     "name": "stdout",
     "output_type": "stream",
     "text": [
      "0\n",
      "2\n",
      "4\n",
      "6\n",
      "8\n",
      "10\n",
      "12\n",
      "14\n"
     ]
    }
   ],
   "source": [
    "for i in range(0,16,i*2):\n",
    "    print(i)"
   ]
  },
  {
   "cell_type": "code",
   "execution_count": 203,
   "metadata": {},
   "outputs": [
    {
     "name": "stdout",
     "output_type": "stream",
     "text": [
      "[8, -3, 5, 6] 0 0 3\n",
      "[-3, 5, 6, 8] 1 1 3\n",
      "[5, 6, 8, -3] 2 2 3\n",
      "[6, 8, -3, 5] 3 3 3\n",
      "[-3, 5, 6] 1 1\n",
      "[5, 6] 0 2 3\n",
      "[6, 8] 1 3 3\n",
      "[8, -3] 2 4 3\n",
      "[5, 6] 2 1\n",
      "[6] 3 1\n",
      "[] 0 4 3\n",
      "[8] 1 2\n",
      "[6] 3 1\n",
      "[8, -3] -2 4 3\n",
      "[] 0 6 3\n"
     ]
    }
   ],
   "source": [
    "nums=[8,-3,5,6]\n",
    "for k in range(len(nums)):\n",
    "    for i in range(len(nums)):\n",
    "        if i-k<0 and i+k<len(nums):\n",
    "            print(nums[i+k:],i+k,1)\n",
    "        elif i+k >len(nums) and i-k>0:\n",
    "            print(nums[:i-k],i-k,2)\n",
    "        elif i-k<0 and i+k>len(nums):\n",
    "            pass\n",
    "        else:\n",
    "            print(nums[i+k:]+nums[:i-k],i-k,i+k,3)"
   ]
  },
  {
   "cell_type": "code",
   "execution_count": 234,
   "metadata": {},
   "outputs": [
    {
     "data": {
      "text/plain": [
       "14"
      ]
     },
     "execution_count": 234,
     "metadata": {},
     "output_type": "execute_result"
    }
   ],
   "source": [
    "nums=[8,-9,-5,6]\n",
    "summ,maxsumm=0,0\n",
    "for j in range(len(nums)):\n",
    "    nums=nums[j:]+nums[:j]\n",
    "    for k in range(2,len(nums)+1):\n",
    "        for i in range(k,len(nums)+1):\n",
    "            summ=sum(nums[i-k:i])\n",
    "        maxsumm=max(maxsumm,summ)\n",
    "maxsumm"
   ]
  },
  {
   "cell_type": "code",
   "execution_count": null,
   "metadata": {},
   "outputs": [],
   "source": []
  },
  {
   "cell_type": "code",
   "execution_count": 349,
   "metadata": {
    "scrolled": false
   },
   "outputs": [
    {
     "data": {
      "text/plain": [
       "48"
      ]
     },
     "execution_count": 349,
     "metadata": {},
     "output_type": "execute_result"
    }
   ],
   "source": [
    "nums=[17,18,0,-5,-3,0,6,0,7]\n",
    "indx=[]\n",
    "for i in range(len(nums)):\n",
    "    indx.append(i)\n",
    "summ,maxsumm=0,0\n",
    "for i in range(len(nums)):\n",
    "    ind=indx[-i:]+indx[:-i]\n",
    "    for j in range(len(nums)):\n",
    "        if j < ind[j]:\n",
    "            summ=sum(nums[j:ind[j]])\n",
    "        else:\n",
    "            summ=sum(nums[j:]+nums[:ind[j]])\n",
    "        maxsumm=max(summ,maxsumm)\n",
    "maxsumm"
   ]
  },
  {
   "cell_type": "code",
   "execution_count": null,
   "metadata": {},
   "outputs": [],
   "source": [
    "\n",
    "\n"
   ]
  },
  {
   "cell_type": "code",
   "execution_count": 340,
   "metadata": {},
   "outputs": [
    {
     "name": "stdout",
     "output_type": "stream",
     "text": [
      "[-1, -1, -1, -1, -1, -1, -1, -1, -1, -1, -1, -1] [0]\n",
      "[8, -1, -1, -1, -1, -1, -1, -1, -1, -1, -1, -1] [1]\n",
      "[8, 9, -1, -1, -1, -1, -1, -1, -1, -1, -1, -1] [2]\n",
      "[8, 9, -1, -1, -1, -1, -1, -1, -1, -1, -1, -1] [2, 3]\n",
      "[8, 9, -1, 5, -1, -1, -1, -1, -1, -1, -1, -1] [2, 4]\n",
      "[8, 9, -1, 5, -1, -1, -1, -1, -1, -1, -1, -1] [2, 4, 5]\n",
      "[8, 9, -1, 5, -1, 5, -1, -1, -1, -1, -1, -1] [2, 4, 6]\n",
      "[8, 9, -1, 5, -1, 5, -1, -1, -1, -1, -1, -1] [2, 4, 6, 7]\n",
      "[8, 9, -1, 5, -1, 5, -1, -1, -1, -1, -1, -1] [2, 4, 6, 7, 8]\n",
      "[8, 9, -1, 5, -1, 5, -1, -1, 3, -1, -1, -1] [2, 4, 6, 7, 9]\n",
      "[8, 9, -1, 5, 6, 5, 6, 6, 3, 6, -1, -1] [2, 10]\n",
      "[8, 9, -1, 5, 6, 5, 6, 6, 3, 6, -1, -1] [2, 10, 11]\n"
     ]
    }
   ],
   "source": [
    "nums=[7,8,9,3,5,1,5,4,2,3,6,2]\n",
    "res=[-1]*len(nums)\n",
    "stack=[]\n",
    "for i in range(len(nums)):\n",
    "    while stack and nums[i]>nums[stack[-1]]:\n",
    "        res[stack.pop()]=nums[i]\n",
    "    stack.append(i)\n",
    "    print(res,stack)"
   ]
  },
  {
   "cell_type": "code",
   "execution_count": null,
   "metadata": {},
   "outputs": [],
   "source": []
  },
  {
   "cell_type": "code",
   "execution_count": null,
   "metadata": {},
   "outputs": [],
   "source": []
  },
  {
   "cell_type": "code",
   "execution_count": null,
   "metadata": {},
   "outputs": [],
   "source": []
  },
  {
   "cell_type": "code",
   "execution_count": null,
   "metadata": {},
   "outputs": [],
   "source": []
  }
 ],
 "metadata": {
  "kernelspec": {
   "display_name": "Python 3",
   "language": "python",
   "name": "python3"
  },
  "language_info": {
   "codemirror_mode": {
    "name": "ipython",
    "version": 3
   },
   "file_extension": ".py",
   "mimetype": "text/x-python",
   "name": "python",
   "nbconvert_exporter": "python",
   "pygments_lexer": "ipython3",
   "version": "3.7.3"
  }
 },
 "nbformat": 4,
 "nbformat_minor": 2
}
