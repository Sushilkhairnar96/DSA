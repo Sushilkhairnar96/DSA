{
 "cells": [
  {
   "cell_type": "code",
   "execution_count": null,
   "metadata": {},
   "outputs": [],
   "source": [
    "#LC70. Climbing Stairs\n",
    "'''\n",
    "You are climbing a stair case. It takes n steps to reach to the top.\n",
    "\n",
    "Each time you can either climb 1 or 2 steps. In how many distinct ways can you climb to the top?\n",
    "\n",
    "Input: 2\n",
    "Output: 2\n",
    "Explanation: There are two ways to climb to the top.\n",
    "1. 1 step + 1 step\n",
    "2. 2 steps\n",
    "\n",
    "Input: 3\n",
    "Output: 3\n",
    "Explanation: There are three ways to climb to the top.\n",
    "1. 1 step + 1 step + 1 step\n",
    "2. 1 step + 2 steps\n",
    "3. 2 steps + 1 step\n",
    "'''\n",
    "n=6\n",
    "if n==1: print(1) #return 1\n",
    "a,b=1,2\n",
    "for _ in range(3,n+1):\n",
    "    a,b=b,a+b\n",
    "b"
   ]
  },
  {
   "cell_type": "code",
   "execution_count": null,
   "metadata": {},
   "outputs": [],
   "source": [
    "#Maximum product of array\n",
    "x=[1,2,3,4,-5]\n",
    "p=1\n",
    "neg=[]\n",
    "dic={}\n",
    "x=sorted(x)\n",
    "for i in range(len(x)):\n",
    "    if x[i]<0:\n",
    "        neg.append(x[i])\n",
    "        ind=i\n",
    "\n",
    "if len(neg)>0:        \n",
    "    pos=list(map(lambda i: i*-1,neg))     \n",
    "    pos=sorted(pos) \n",
    "    neg=list(map(lambda i: i*-1,pos))\n",
    "    x[:]=neg+x[ind+1:]    \n",
    "rev_x=x[::-1]\n",
    "print(rev_x)\n",
    "for i in range(1,len(x)):\n",
    "    rev_x[i]*=rev_x[i-1]\n",
    "max(rev_x)"
   ]
  },
  {
   "cell_type": "code",
   "execution_count": null,
   "metadata": {},
   "outputs": [],
   "source": [
    "s=\"\"\n",
    "for i in range(2,1000):\n",
    "    f=0\n",
    "    for j in range(2,i):\n",
    "        if i%j==0:\n",
    "            f=1\n",
    "    if not f:\n",
    "        s+=str(i)\n",
    "s        "
   ]
  },
  {
   "cell_type": "code",
   "execution_count": 22,
   "metadata": {},
   "outputs": [],
   "source": [
    "def solution(i):\n",
    "    s=\"\"\n",
    "    for num in range(2,22000):\n",
    "        f=0\n",
    "        for j in range(2,num//2+1):\n",
    "            if num%j==0:\n",
    "                f=1\n",
    "        if not f:\n",
    "            s+=str(num)\n",
    "            if len(s)>i+5:\n",
    "                break\n",
    "    print(s,len(s))\n",
    "    return s[i:i+5]"
   ]
  },
  {
   "cell_type": "code",
   "execution_count": 25,
   "metadata": {},
   "outputs": [
    {
     "name": "stdout",
     "output_type": "stream",
     "text": [
      "2357111317192329 16\n"
     ]
    },
    {
     "data": {
      "text/plain": [
       "'19232'"
      ]
     },
     "execution_count": 25,
     "metadata": {},
     "output_type": "execute_result"
    }
   ],
   "source": [
    "solution(10)"
   ]
  },
  {
   "cell_type": "code",
   "execution_count": 46,
   "metadata": {},
   "outputs": [
    {
     "data": {
      "text/plain": [
       "'2357111317192329313741434753596167717379838997'"
      ]
     },
     "execution_count": 46,
     "metadata": {},
     "output_type": "execute_result"
    }
   ],
   "source": [
    "import math \n",
    "def is_prime(n):    \n",
    "    max_div = math.floor(math.sqrt(n)) \n",
    "    for i in range(2, 1 + max_div): \n",
    "        if n % i == 0: \n",
    "            return False\n",
    "    return True\n",
    "\n",
    "s=\"\" \n",
    "for n in range(2,100): \n",
    "    if is_prime(n):\n",
    "        s+=str(n)\n",
    "s"
   ]
  },
  {
   "cell_type": "code",
   "execution_count": null,
   "metadata": {},
   "outputs": [],
   "source": []
  },
  {
   "cell_type": "markdown",
   "metadata": {},
   "source": []
  },
  {
   "cell_type": "code",
   "execution_count": null,
   "metadata": {},
   "outputs": [],
   "source": []
  }
 ],
 "metadata": {
  "kernelspec": {
   "display_name": "Python 3",
   "language": "python",
   "name": "python3"
  },
  "language_info": {
   "codemirror_mode": {
    "name": "ipython",
    "version": 3
   },
   "file_extension": ".py",
   "mimetype": "text/x-python",
   "name": "python",
   "nbconvert_exporter": "python",
   "pygments_lexer": "ipython3",
   "version": "3.7.3"
  }
 },
 "nbformat": 4,
 "nbformat_minor": 2
}
