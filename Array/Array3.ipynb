{
 "cells": [
  {
   "cell_type": "code",
   "execution_count": 3,
   "metadata": {},
   "outputs": [
    {
     "data": {
      "text/plain": [
       "5"
      ]
     },
     "execution_count": 3,
     "metadata": {},
     "output_type": "execute_result"
    }
   ],
   "source": [
    "#LC121. Best Time to Buy and Sell Stock\n",
    "'''\n",
    "Say you have an array for which the ith element is the price of a given stock on day i.\n",
    "\n",
    "If you were only permitted to complete at most one transaction (i.e., buy one and sell one share of the stock), \n",
    "design an algorithm to find the maximum profit.\n",
    "\n",
    "Note that you cannot sell a stock before you buy one.\n",
    "\n",
    "Example 1:\n",
    "\n",
    "Input: [7,1,5,3,6,4]\n",
    "Output: 5\n",
    "Explanation: Buy on day 2 (price = 1) and sell on day 5 (price = 6), profit = 6-1 = 5.\n",
    "             Not 7-1 = 6, as selling price needs to be larger than buying price.\n",
    "'''\n",
    "def maxProfit(prices) :\n",
    "    min_price=float('inf')\n",
    "    max_profit=0\n",
    "    for price in prices:\n",
    "        min_price=min(min_price,price)\n",
    "        profit=price-min_price\n",
    "        max_profit=max(profit,max_profit)\n",
    "    return max_profit\n",
    "\n",
    "prices=[7,1,5,3,6,4]\n",
    "maxProfit(prices) "
   ]
  },
  {
   "cell_type": "code",
   "execution_count": 2,
   "metadata": {},
   "outputs": [
    {
     "data": {
      "text/plain": [
       "7"
      ]
     },
     "execution_count": 2,
     "metadata": {},
     "output_type": "execute_result"
    }
   ],
   "source": [
    "#Best Time to Buy and Sell Stock II\n",
    "def maxProfit(prices):\n",
    "    min_price=float('inf')\n",
    "    profit=0\n",
    "    i=0\n",
    "    while i<len(prices)-1:\n",
    "        if prices[i]<prices[i+1]:\n",
    "            profit+=prices[i+1]-prices[i]\n",
    "            i+=1\n",
    "        else:\n",
    "            i+=1\n",
    "    return profit\n",
    "\n",
    "prices=[7,1,5,3,6,4]\n",
    "maxProfit(prices) "
   ]
  },
  {
   "cell_type": "code",
   "execution_count": 12,
   "metadata": {},
   "outputs": [
    {
     "name": "stdout",
     "output_type": "stream",
     "text": [
      "True\n"
     ]
    }
   ],
   "source": [
    "#Sum of Two \n",
    "'''\n",
    "a=[1,2,3]\n",
    "b=[10,20,30,40]\n",
    "v=42\n",
    "o/p= True (a[2]+b[3]=v)\n",
    "'''\n",
    "\n",
    "a=[0,0,-5,23030]\n",
    "b=[-10,40,-3,9]\n",
    "v=-8\n",
    "\n",
    "x=set()\n",
    "for i in a:\n",
    "    x.add(i)\n",
    "for i in b:\n",
    "    if v-i in x:\n",
    "        print(True)\n",
    "        break\n",
    "        "
   ]
  },
  {
   "cell_type": "code",
   "execution_count": 2,
   "metadata": {},
   "outputs": [],
   "source": [
    "#LC414. Third Maximum Number\n",
    "'''\n",
    "Given a non-empty array of integers, return the third maximum number in this array. If it does not exist, return the maximum number. The time complexity must be in O(n).\n",
    "\n",
    "Example 1:\n",
    "Input: [3, 2, 1]\n",
    "\n",
    "Output: 1\n",
    "'''\n",
    "def thirdMax(nums) -> int:\n",
    "    '''\n",
    "    res=[float('-inf'), float('-inf'), float('-inf')]\n",
    "    for num in nums:\n",
    "        if num not in res:\n",
    "            if num > res[0]: res=[num,res[0],res[1]]\n",
    "            elif num > res[1] : res=[res[0],num,res[1]]\n",
    "            elif num>res[2]: res=[res[0],res[1],num]\n",
    "    return max(nums) if float('-inf') in res else res[2]\n",
    "    '''\n",
    "    one=two=three=-float('inf')\n",
    "    nums=set(nums)\n",
    "    for num in nums:\n",
    "        if num>one:\n",
    "            one,two,three= num,one,two\n",
    "        elif num>two:\n",
    "            one,two,three=one,num,two\n",
    "        elif num>three:\n",
    "            one,two,three=one,two,num\n",
    "    return three if three!=float('-inf') else one\n"
   ]
  },
  {
   "cell_type": "code",
   "execution_count": null,
   "metadata": {},
   "outputs": [],
   "source": []
  }
 ],
 "metadata": {
  "kernelspec": {
   "display_name": "Python 3",
   "language": "python",
   "name": "python3"
  },
  "language_info": {
   "codemirror_mode": {
    "name": "ipython",
    "version": 3
   },
   "file_extension": ".py",
   "mimetype": "text/x-python",
   "name": "python",
   "nbconvert_exporter": "python",
   "pygments_lexer": "ipython3",
   "version": "3.7.3"
  }
 },
 "nbformat": 4,
 "nbformat_minor": 2
}
