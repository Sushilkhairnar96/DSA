{
 "cells": [
  {
   "cell_type": "code",
   "execution_count": 1,
   "metadata": {},
   "outputs": [
    {
     "data": {
      "text/plain": [
       "2"
      ]
     },
     "execution_count": 1,
     "metadata": {},
     "output_type": "execute_result"
    }
   ],
   "source": [
    "#LC 162. Find Peak Element\n",
    "\n",
    "'''\n",
    "A peak element is an element that is greater than its neighbors.\n",
    "\n",
    "Given an input array nums, where nums[i] ≠ nums[i+1], find a peak element and return its index.\n",
    "\n",
    "The array may contain multiple peaks, in that case return the index to any one of the peaks is fine.\n",
    "\n",
    "Example 1:\n",
    "\n",
    "Input: nums = [1,2,3,1]\n",
    "Output: 2\n",
    "Explanation: 3 is a peak element and your function should return the index number 2.\n",
    "\n",
    "'''\n",
    "def findPeakElement(nums):\n",
    "    '''\n",
    "    nums=[-float('inf')]+nums+[-float('inf')]\n",
    "    for i in range(len(nums)):\n",
    "        if nums[i-1]<nums[i]>nums[i+1]:\n",
    "            return i-1\n",
    "    '''\n",
    "    '''\n",
    "    for i in range(len(nums)-1):\n",
    "        if nums[i]>nums[i+1]:\n",
    "            return i\n",
    "    return len(nums)-1\n",
    "    '''\n",
    "    l,r=0,len(nums)-1\n",
    "    while l<r:\n",
    "        mid=(l+r)//2\n",
    "        if nums[mid]>nums[mid+1]:\n",
    "            r=mid\n",
    "        else:\n",
    "            l=mid+1\n",
    "    return l\n",
    "nums = [1,2,3,1]\n",
    "findPeakElement(nums)"
   ]
  },
  {
   "cell_type": "code",
   "execution_count": null,
   "metadata": {},
   "outputs": [],
   "source": []
  }
 ],
 "metadata": {
  "kernelspec": {
   "display_name": "Python 3",
   "language": "python",
   "name": "python3"
  },
  "language_info": {
   "codemirror_mode": {
    "name": "ipython",
    "version": 3
   },
   "file_extension": ".py",
   "mimetype": "text/x-python",
   "name": "python",
   "nbconvert_exporter": "python",
   "pygments_lexer": "ipython3",
   "version": "3.7.3"
  }
 },
 "nbformat": 4,
 "nbformat_minor": 2
}
