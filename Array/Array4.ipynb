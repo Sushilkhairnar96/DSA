{
 "cells": [
  {
   "cell_type": "code",
   "execution_count": 1,
   "metadata": {},
   "outputs": [
    {
     "data": {
      "text/plain": [
       "2"
      ]
     },
     "execution_count": 1,
     "metadata": {},
     "output_type": "execute_result"
    }
   ],
   "source": [
    "#LC 162. Find Peak Element\n",
    "\n",
    "'''\n",
    "A peak element is an element that is greater than its neighbors.\n",
    "\n",
    "Given an input array nums, where nums[i] ≠ nums[i+1], find a peak element and return its index.\n",
    "\n",
    "The array may contain multiple peaks, in that case return the index to any one of the peaks is fine.\n",
    "\n",
    "Example 1:\n",
    "\n",
    "Input: nums = [1,2,3,1]\n",
    "Output: 2\n",
    "Explanation: 3 is a peak element and your function should return the index number 2.\n",
    "\n",
    "'''\n",
    "def findPeakElement(nums):\n",
    "    '''\n",
    "    nums=[-float('inf')]+nums+[-float('inf')]\n",
    "    for i in range(len(nums)):\n",
    "        if nums[i-1]<nums[i]>nums[i+1]:\n",
    "            return i-1\n",
    "    '''\n",
    "    '''\n",
    "    for i in range(len(nums)-1):\n",
    "        if nums[i]>nums[i+1]:\n",
    "            return i\n",
    "    return len(nums)-1\n",
    "    '''\n",
    "    l,r=0,len(nums)-1\n",
    "    while l<r:\n",
    "        mid=(l+r)//2\n",
    "        if nums[mid]>nums[mid+1]:\n",
    "            r=mid\n",
    "        else:\n",
    "            l=mid+1\n",
    "    return l\n",
    "nums = [1,2,3,1]\n",
    "findPeakElement(nums)"
   ]
  },
  {
   "cell_type": "code",
   "execution_count": 5,
   "metadata": {},
   "outputs": [
    {
     "data": {
      "text/plain": [
       "[3, 4, 2, 3, 1, 2, 1, 1]"
      ]
     },
     "execution_count": 5,
     "metadata": {},
     "output_type": "execute_result"
    }
   ],
   "source": [
    "#LC969. Pancake Sorting\n",
    "'''\n",
    "Given an array A, we can perform a pancake flip: We choose some positive integer k <= A.length, \n",
    "then reverse the order of the first k elements of A.We want to perform zero or more pancake flips\n",
    "(doing them one after another in succession) to sort the array A.\n",
    "\n",
    "Return the k-values corresponding to a sequence of pancake flips that sort A.  Any valid answer that sorts\n",
    "the array within 10 * A.length flips will be judged as correct.\n",
    "\n",
    "Input: [3,2,4,1]\n",
    "Output: [4,2,4,3]\n",
    "Explanation: \n",
    "We perform 4 pancake flips, with k values 4, 2, 4, and 3.\n",
    "Starting state: A = [3, 2, 4, 1]\n",
    "After 1st flip (k=4): A = [1, 4, 2, 3]\n",
    "After 2nd flip (k=2): A = [4, 1, 2, 3]\n",
    "After 3rd flip (k=4): A = [3, 2, 1, 4]\n",
    "After 4th flip (k=3): A = [1, 2, 3, 4], which is sorted. \n",
    "'''\n",
    "nums=[3,2,4,1]\n",
    "n=len(nums)\n",
    "res=[]\n",
    "for i in range(n):\n",
    "    max_num=max(nums[:n-i])\n",
    "    j=0\n",
    "    while nums[j]!=max_num:\n",
    "        j+=1\n",
    "    nums[:j+1]=reversed(nums[:j+1])\n",
    "    res.append(j+1)\n",
    "    nums[:n-i]=reversed(nums[:n-i])\n",
    "    res.append(n-i)\n",
    "res"
   ]
  },
  {
   "cell_type": "code",
   "execution_count": 3,
   "metadata": {},
   "outputs": [
    {
     "data": {
      "text/plain": [
       "True"
      ]
     },
     "execution_count": 3,
     "metadata": {},
     "output_type": "execute_result"
    }
   ],
   "source": [
    "#LC1437. Check If All 1's Are at Least Length K Places Away\n",
    "'''\n",
    "Given an array nums of 0s and 1s and an integer k, return True if all 1's are at least k places away\n",
    "from each other, otherwise return False.\n",
    "\n",
    "Input: nums = [1,0,0,0,1,0,0,1], k = 2\n",
    "Output: true\n",
    "Explanation: Each of the 1s are at least 2 places away from each other.\n",
    "'''\n",
    "def kLengthApart(nums, k: int) -> bool:\n",
    "    '''\n",
    "    x=[]\n",
    "    for i in range(len(nums)):\n",
    "        if nums[i]==1:\n",
    "            x.append(i)\n",
    "    \n",
    "    for i in range(1,len(x)):\n",
    "        print(x[i]-x[i-1])\n",
    "        if x[i]-x[i-1]-1<k:\n",
    "            return False\n",
    "    return True\n",
    "    '''\n",
    "    prev=-1\n",
    "    for cur in range(len(nums)):\n",
    "        if nums[cur]==1:\n",
    "            if prev!=-1 and cur-prev<=k:\n",
    "                return False\n",
    "            prev=cur\n",
    "    return True\n",
    "nums = [1,0,0,0,1,0,0,1]; k = 2\n",
    "kLengthApart(nums, k)"
   ]
  },
  {
   "cell_type": "code",
   "execution_count": 1,
   "metadata": {},
   "outputs": [
    {
     "data": {
      "text/plain": [
       "True"
      ]
     },
     "execution_count": 1,
     "metadata": {},
     "output_type": "execute_result"
    }
   ],
   "source": [
    "#LC 202. Happy Number\n",
    "'''\n",
    "A happy number is a number defined by the following process: Starting with any positive integer, replace the number\n",
    "by the sum of the squares of its digits, and repeat the process until the number equals 1 (where it will stay),\n",
    "or it loops endlessly in a cycle which does not include 1. Those numbers for which this process ends in 1 are \n",
    "happy numbers.\n",
    "\n",
    "Return True if n is a happy number, and False if not.\n",
    "\n",
    "Example: \n",
    "\n",
    "Input: 19\n",
    "Output: true\n",
    "Explanation: \n",
    "12 + 92 = 82\n",
    "82 + 22 = 68\n",
    "62 + 82 = 100\n",
    "12 + 02 + 02 = 1\n",
    "'''\n",
    "def isHappy(n: int) -> bool:\n",
    "    mem=set()\n",
    "    while n!=1:\n",
    "        n =sum([int(i)**2 for i in str(n)])\n",
    "        if n in mem:\n",
    "            return False\n",
    "        else:\n",
    "            mem.add(n)\n",
    "    return True\n",
    "isHappy(19)"
   ]
  },
  {
   "cell_type": "code",
   "execution_count": null,
   "metadata": {},
   "outputs": [],
   "source": []
  }
 ],
 "metadata": {
  "kernelspec": {
   "display_name": "Python 3",
   "language": "python",
   "name": "python3"
  },
  "language_info": {
   "codemirror_mode": {
    "name": "ipython",
    "version": 3
   },
   "file_extension": ".py",
   "mimetype": "text/x-python",
   "name": "python",
   "nbconvert_exporter": "python",
   "pygments_lexer": "ipython3",
   "version": "3.7.3"
  }
 },
 "nbformat": 4,
 "nbformat_minor": 2
}
