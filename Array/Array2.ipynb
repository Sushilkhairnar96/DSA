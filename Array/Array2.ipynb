{
 "cells": [
  {
   "cell_type": "code",
   "execution_count": null,
   "metadata": {},
   "outputs": [],
   "source": [
    "#LC78. Subsets\n",
    "'''\n",
    "Input: nums = [1,2,3]\n",
    "Output:\n",
    "[\n",
    "  [3],[1],[2],[1,2,3],[1,3],[2,3],[1,2],[]\n",
    "]\n",
    "'''\n",
    "#1. Recursion:\n",
    "nums = [1,2,3]\n",
    "'''\n",
    "res=[[]]\n",
    "for num in nums:\n",
    "    res+= [i+ [num] for i in res]\n",
    "res\n",
    "'''\n",
    "#2 Bit Manipulation\n",
    "res=[]\n",
    "for i in range(2**len(nums)):\n",
    "    subset=[]\n",
    "    for j in range(len(nums)):\n",
    "        if (i&(1<<j)>0):\n",
    "            subset.append(nums[j])\n",
    "    res.append(subset)\n",
    "res"
   ]
  },
  {
   "cell_type": "code",
   "execution_count": null,
   "metadata": {},
   "outputs": [],
   "source": [
    "#90. Subsets II:\n",
    "'''\n",
    "Given a collection of integers that might contain duplicates, nums, return all possible subsets (the power set).\n",
    "Input: [1,2,2]\n",
    "Output:\n",
    "[\n",
    "  [2],[1],[1,2,2],[2,2],[1,2],[]\n",
    "]\n",
    "'''\n",
    "nums=[1,2,2]\n",
    "nums=sorted(nums)\n",
    "res=[[]]\n",
    "for num in nums:\n",
    "    res+=[i+[num]for i in res if i+[num] not in res]\n",
    "res"
   ]
  },
  {
   "cell_type": "code",
   "execution_count": 26,
   "metadata": {},
   "outputs": [
    {
     "data": {
      "text/plain": [
       "[(-2, 1, 1), (-4, 1, 3), (-4, 0, 4), (-2, -2, 4), (0, 0, 0), (-5, 1, 4)]"
      ]
     },
     "execution_count": 26,
     "metadata": {},
     "output_type": "execute_result"
    }
   ],
   "source": [
    "#LC15. 3Sum\n",
    "'''\n",
    "Given array nums = [-1, 0, 1, 2, -1, -4],\n",
    "\n",
    "A solution set is:\n",
    "[\n",
    "  [-1, 0, 1],\n",
    "  [-1, -1, 2]\n",
    "]\n",
    "'''\n",
    "\n",
    "nums=[-4,-2,1,-5,-4,-4,4,-2,0,4,0,-2,3,1,-5,0]\n",
    "nums=sorted(nums)\n",
    "res=set()\n",
    "for i in range(len(nums)):\n",
    "    l=i+1\n",
    "    r=len(nums)-1\n",
    "    target=0-nums[i]\n",
    "    while l<r:\n",
    "        if nums[l]+nums[r]==target:\n",
    "            res.add((nums[i],nums[l],nums[r]))\n",
    "            l+=1\n",
    "            r-=1\n",
    "        elif nums[l]+nums[r]<target:\n",
    "            l+=1\n",
    "        else:\n",
    "            r-=1\n",
    "list(res)"
   ]
  },
  {
   "cell_type": "code",
   "execution_count": 45,
   "metadata": {},
   "outputs": [
    {
     "name": "stdout",
     "output_type": "stream",
     "text": [
      "5 [1, 1, 2, 2, 3]\n"
     ]
    }
   ],
   "source": [
    "#LC80. Remove Duplicates from Sorted Array II\n",
    "'''\n",
    "Given a sorted array nums, remove the duplicates in-place such that duplicates appeared at most twice \n",
    "and return the new length.\n",
    "\n",
    "Given nums = [1,1,1,2,2,3]\n",
    "\n",
    "Your function should return length = 5, with the first five elements of nums being 1, 1, 2, 2 and 3 respectively.\n",
    "\n",
    "It doesn't matter what you leave beyond the returned length.\n",
    "'''\n",
    "nums = [1,1,1,2,2,3]\n",
    "\n",
    "if len(nums) < 3: \n",
    "    print(len(nums))  #return len(nums)\n",
    "\n",
    "j=1\n",
    "for i in range(1,len(nums)-1):\n",
    "    if nums[i-1]!=nums[i+1]:\n",
    "        nums[j]=nums[i]\n",
    "        j+=1\n",
    "nums[j]=nums[-1]        \n",
    "print(j+1,nums[:j+1])"
   ]
  },
  {
   "cell_type": "code",
   "execution_count": 90,
   "metadata": {},
   "outputs": [
    {
     "data": {
      "text/plain": [
       "6"
      ]
     },
     "execution_count": 90,
     "metadata": {},
     "output_type": "execute_result"
    }
   ],
   "source": [
    "#LC53. Maximum Subarray:\n",
    "'''\n",
    "Input: [-2,1,-3,4,-1,2,1,-5,4],\n",
    "Output: 6\n",
    "Explanation: [4,-1,2,1] has the largest sum = 6.\n",
    "'''\n",
    "nums=[-2,1,-3,4,-1,2,1,-5,4]\n",
    "\n",
    "for i in range(1,len(nums)):\n",
    "    if nums[i-1]>0:\n",
    "        nums[i]+=nums[i-1]\n",
    "max(nums)"
   ]
  },
  {
   "cell_type": "code",
   "execution_count": 97,
   "metadata": {},
   "outputs": [
    {
     "data": {
      "text/plain": [
       "10"
      ]
     },
     "execution_count": 97,
     "metadata": {},
     "output_type": "execute_result"
    }
   ],
   "source": [
    "#LC918. Maximum Sum Circular Subarray:\n",
    "'''\n",
    "Input: [3,-1,2,-1]\n",
    "Output: 4\n",
    "Explanation: Subarray [2,-1,3] has maximum sum 2 + (-1) + 3 = 4\n",
    "\n",
    "Input: [5,-3,5]\n",
    "Output: 10\n",
    "Explanation: Subarray [5,5] has maximum sum 5 + 5 = 10\n",
    "'''\n",
    "'''\n",
    "#Algo:\n",
    "1.find out the max one without circular(using greedy which can be found in similar question without circular version)\n",
    "2.find out the min one without circular and sum(A)-min one\n",
    "3.compare the two answer and choose the larger one\n",
    "And I use a flag(c) to make sure not all elements<0\n",
    "'''\n",
    "A=[5,-3,5]\n",
    "t1,t2=A[:],A[:]\n",
    "c=0\n",
    "for i in range(1, len(A)):\n",
    "    if t1[i-1]>0:\n",
    "        t1[i]+=t1[i-1]          #Case 1: Non-circular array: same as max-subarray\n",
    "        c=1\n",
    "    if t2[i-1]<0:\n",
    "        t2[i]+=t2[i-1]          #Case 2: finding minimum sub array and  => total-min(A)\n",
    "if c==0:\n",
    "    print(max(A))               #Edge case: if all numbers are -ve in array, return maximum number of array\n",
    "max(max(t1),(sum(A)-min(t2)))\n",
    "\n",
    "'''\n",
    "total,maxsum,curmax,minsum,curmin=0,float('-inf'),0,float('inf'),0\n",
    "for i in A:\n",
    "    curmax=max(i,curmax+i)\n",
    "    maxsum=max(curmax,maxsum)\n",
    "    curmin=min(i,curmin+i)\n",
    "    minsum=min(curmin,minsum)\n",
    "    total+=i\n",
    "max(maxsum,total-minsum) if maxsum>0 else maxsum\n",
    "'''"
   ]
  },
  {
   "cell_type": "code",
   "execution_count": 84,
   "metadata": {},
   "outputs": [
    {
     "data": {
      "text/plain": [
       "6"
      ]
     },
     "execution_count": 84,
     "metadata": {},
     "output_type": "execute_result"
    }
   ],
   "source": [
    "#LC152. Maximum Product Subarray\n",
    "'''\n",
    "Input: [2,3,-2,4]\n",
    "Output: 6\n",
    "Explanation: [2,3] has the largest product 6.\n",
    "'''\n",
    "#Kadane's algorithm (Dynamic programming) track both max and mins\n",
    "'''\n",
    "Algo explanation:\n",
    "\n",
    "input = [ 2, 3, -2, 4 ]\n",
    "\n",
    "product_left_to_right = input = [ 2, 3, -2, 4 ]\n",
    "\n",
    "product_right_to_left = input[::-1] = [ 4, -2, 3, 2 ]\n",
    "\n",
    "1st iteration:\n",
    "\n",
    "6 = 3 * 2\n",
    "product_left_to_right = [ 2, 6, -2, 4 ]\n",
    "\n",
    "-8 = -2 * 4\n",
    "product_right_to_left = [ 4, -8, 3, 2 ]\n",
    "\n",
    "2nd iteration:\n",
    "\n",
    "-12 = -2 * 6\n",
    "product_left_to_right = [ 2, 6, -12, 4 ]\n",
    "\n",
    "-24 = 3 * -8\n",
    "product_right_to_left = [ 4, -8, -24, 2 ]\n",
    "\n",
    "3rd iteration:\n",
    "\n",
    "-48 = 4 * -12\n",
    "product_left_to_right = [ 2, 6, -12, -48 ]\n",
    "\n",
    "-48 = 2 * -24\n",
    "product_right_to_left = [ 4, -8, -24, -48 ]\n",
    "\n",
    "comparison of max:\n",
    "\n",
    "max of product_left_to_right = [ 2, 6, -12, -48 ] = 6\n",
    "\n",
    "max of product_right_to_left = [ 4, -8, -24, -48 ] = 4\n",
    "\n",
    "max of ( 6, 4 ) = 6\n",
    "\n",
    "return 6\n",
    "\n",
    "'''\n",
    "nums=[ 2, 3, -2, 4 ]\n",
    "rev_nums=nums[::-1]\n",
    "for i in range(1,len(nums)):\n",
    "    if nums[i-1]:\n",
    "        nums[i]*=nums[i-1]\n",
    "    if rev_nums[i-1]:\n",
    "        rev_nums[i]*=rev_nums[i-1]\n",
    "        \n",
    "max(max(nums), max(rev_nums))\n"
   ]
  },
  {
   "cell_type": "code",
   "execution_count": 105,
   "metadata": {},
   "outputs": [
    {
     "data": {
      "text/plain": [
       "[0, 0, 1, 1, 2, 2]"
      ]
     },
     "execution_count": 105,
     "metadata": {},
     "output_type": "execute_result"
    }
   ],
   "source": [
    "#LC75. Sort Colors       #Dutch Flag Partitioning Algorithm\n",
    "'''\n",
    "Given an array with n objects colored red, white or blue, sort them in-place so that objects of the same color are \n",
    "adjacent, with the colors in the order red, white and blue.\n",
    "\n",
    "Here, we will use the integers 0, 1, and 2 to represent the color red, white, and blue respectively.\n",
    "\n",
    "Input: [2,0,2,1,1,0]\n",
    "Output: [0,0,1,1,2,2]\n",
    "'''\n",
    "nums=[2,0,2,1,1,0]\n",
    "#1.  count sort   \n",
    "'''\n",
    "def sortColors(nums):\n",
    "    c0 = c1 = c2 = 0\n",
    "    for num in nums:\n",
    "        if num == 0:\n",
    "            c0 += 1\n",
    "        elif num == 1:\n",
    "            c1 += 1\n",
    "        else:\n",
    "            c2 += 1\n",
    "    nums[:c0] = [0] * c0\n",
    "    nums[c0:c0+c1] = [1] * c1\n",
    "    nums[c0+c1:] = [2] * c2\n",
    "    \n",
    "    return nums\n",
    "\n",
    "sortColors(nums)\n",
    "'''\n",
    "#2.Dutch Flag Partitioning Algorithm:\n",
    "\n",
    "nums=[0,1,2,0,1,2]\n",
    "l,mid,r= 0, 0, len(nums)-1 \n",
    "\n",
    "while mid<=r:\n",
    "    if nums[mid]==0:\n",
    "        nums[l],nums[mid]=nums[mid],nums[l]\n",
    "        l+=1\n",
    "        mid+=1\n",
    "    elif nums[mid]==1:\n",
    "        mid+=1\n",
    "    else:\n",
    "        nums[mid],nums[r]=nums[r],nums[mid]\n",
    "        r-=1\n",
    "nums"
   ]
  },
  {
   "cell_type": "code",
   "execution_count": null,
   "metadata": {},
   "outputs": [],
   "source": []
  },
  {
   "cell_type": "code",
   "execution_count": null,
   "metadata": {},
   "outputs": [],
   "source": []
  },
  {
   "cell_type": "code",
   "execution_count": null,
   "metadata": {},
   "outputs": [],
   "source": []
  },
  {
   "cell_type": "code",
   "execution_count": null,
   "metadata": {},
   "outputs": [],
   "source": []
  },
  {
   "cell_type": "code",
   "execution_count": null,
   "metadata": {},
   "outputs": [],
   "source": []
  },
  {
   "cell_type": "code",
   "execution_count": null,
   "metadata": {},
   "outputs": [],
   "source": []
  },
  {
   "cell_type": "code",
   "execution_count": null,
   "metadata": {},
   "outputs": [],
   "source": []
  },
  {
   "cell_type": "code",
   "execution_count": null,
   "metadata": {},
   "outputs": [],
   "source": []
  },
  {
   "cell_type": "code",
   "execution_count": null,
   "metadata": {},
   "outputs": [],
   "source": []
  },
  {
   "cell_type": "code",
   "execution_count": null,
   "metadata": {},
   "outputs": [],
   "source": []
  },
  {
   "cell_type": "code",
   "execution_count": null,
   "metadata": {},
   "outputs": [],
   "source": []
  },
  {
   "cell_type": "code",
   "execution_count": null,
   "metadata": {},
   "outputs": [],
   "source": []
  },
  {
   "cell_type": "code",
   "execution_count": null,
   "metadata": {},
   "outputs": [],
   "source": []
  },
  {
   "cell_type": "code",
   "execution_count": null,
   "metadata": {},
   "outputs": [],
   "source": []
  },
  {
   "cell_type": "code",
   "execution_count": null,
   "metadata": {},
   "outputs": [],
   "source": []
  },
  {
   "cell_type": "code",
   "execution_count": null,
   "metadata": {},
   "outputs": [],
   "source": []
  },
  {
   "cell_type": "code",
   "execution_count": null,
   "metadata": {},
   "outputs": [],
   "source": []
  },
  {
   "cell_type": "code",
   "execution_count": null,
   "metadata": {},
   "outputs": [],
   "source": []
  },
  {
   "cell_type": "code",
   "execution_count": null,
   "metadata": {},
   "outputs": [],
   "source": []
  },
  {
   "cell_type": "code",
   "execution_count": null,
   "metadata": {},
   "outputs": [],
   "source": []
  },
  {
   "cell_type": "code",
   "execution_count": null,
   "metadata": {},
   "outputs": [],
   "source": []
  },
  {
   "cell_type": "code",
   "execution_count": null,
   "metadata": {},
   "outputs": [],
   "source": []
  },
  {
   "cell_type": "code",
   "execution_count": null,
   "metadata": {},
   "outputs": [],
   "source": []
  },
  {
   "cell_type": "code",
   "execution_count": null,
   "metadata": {},
   "outputs": [],
   "source": []
  },
  {
   "cell_type": "code",
   "execution_count": null,
   "metadata": {},
   "outputs": [],
   "source": []
  },
  {
   "cell_type": "code",
   "execution_count": null,
   "metadata": {},
   "outputs": [],
   "source": []
  },
  {
   "cell_type": "code",
   "execution_count": null,
   "metadata": {},
   "outputs": [],
   "source": []
  },
  {
   "cell_type": "code",
   "execution_count": null,
   "metadata": {},
   "outputs": [],
   "source": [
    "class Solution:\n",
    "    def calculate(self, s: str) -> int:\n",
    "        num = 0\n",
    "        numbers = []\n",
    "        operator = '+'\n",
    "        s+='+' # to append the last number in the string\n",
    "        for x in s:\n",
    "            if x.isdigit():\n",
    "                num = num *10 + int(x) # num*10 is present to handle 2 or more digits\n",
    "            elif x == ' ':\n",
    "                continue\n",
    "            else:\n",
    "                if operator == '+':\n",
    "                    numbers.append(num)\n",
    "                elif operator == '-':\n",
    "                    numbers.append(-num)\n",
    "                elif operator == '*':\n",
    "                    operand = numbers.pop()\n",
    "                    numbers.append(operand*num)\n",
    "                elif operator == '/':\n",
    "                    operand = numbers.pop()\n",
    "                    numbers.append(math.trunc(operand/num))\n",
    "                num = 0\n",
    "                operator = x\n",
    "        return sum(numbers)"
   ]
  }
 ],
 "metadata": {
  "kernelspec": {
   "display_name": "Python 3",
   "language": "python",
   "name": "python3"
  },
  "language_info": {
   "codemirror_mode": {
    "name": "ipython",
    "version": 3
   },
   "file_extension": ".py",
   "mimetype": "text/x-python",
   "name": "python",
   "nbconvert_exporter": "python",
   "pygments_lexer": "ipython3",
   "version": "3.7.3"
  }
 },
 "nbformat": 4,
 "nbformat_minor": 2
}
