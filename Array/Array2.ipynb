{
 "cells": [
  {
   "cell_type": "code",
   "execution_count": 3,
   "metadata": {},
   "outputs": [
    {
     "data": {
      "text/plain": [
       "[[], [1], [2], [1, 2], [3], [1, 3], [2, 3], [1, 2, 3]]"
      ]
     },
     "execution_count": 3,
     "metadata": {},
     "output_type": "execute_result"
    }
   ],
   "source": [
    "#LC78. Subsets\n",
    "'''\n",
    "Input: nums = [1,2,3]\n",
    "Output:\n",
    "[\n",
    "  [3],[1],[2],[1,2,3],[1,3],[2,3],[1,2],[]\n",
    "]\n",
    "'''\n",
    "#1. Recursion:\n",
    "nums = [1,2,3]\n",
    "'''\n",
    "res=[[]]\n",
    "for num in nums:\n",
    "    res+= [i+ [num] for i in res]\n",
    "res\n",
    "'''\n",
    "#2 Bit Manipulation\n",
    "res=[]\n",
    "for i in range(2**len(nums)):\n",
    "    subset=[]\n",
    "    for j in range(len(nums)):\n",
    "        if (i&(1<<j)>0):\n",
    "            subset.append(nums[j])\n",
    "    res.append(subset)\n",
    "res"
   ]
  },
  {
   "cell_type": "code",
   "execution_count": 4,
   "metadata": {},
   "outputs": [
    {
     "data": {
      "text/plain": [
       "[[], [1], [2], [1, 2], [2, 2], [1, 2, 2]]"
      ]
     },
     "execution_count": 4,
     "metadata": {},
     "output_type": "execute_result"
    }
   ],
   "source": [
    "#90. Subsets II:\n",
    "'''\n",
    "Given a collection of integers that might contain duplicates, nums, return all possible subsets (the power set).\n",
    "Input: [1,2,2]\n",
    "Output:\n",
    "[\n",
    "  [2],[1],[1,2,2],[2,2],[1,2],[]\n",
    "]\n",
    "'''\n",
    "nums=[1,2,2]\n",
    "nums=sorted(nums)\n",
    "res=[[]]\n",
    "for num in nums:\n",
    "    res+=[i+[num]for i in res if i+[num] not in res]\n",
    "res"
   ]
  },
  {
   "cell_type": "code",
   "execution_count": null,
   "metadata": {},
   "outputs": [],
   "source": []
  }
 ],
 "metadata": {
  "kernelspec": {
   "display_name": "Python 3",
   "language": "python",
   "name": "python3"
  },
  "language_info": {
   "codemirror_mode": {
    "name": "ipython",
    "version": 3
   },
   "file_extension": ".py",
   "mimetype": "text/x-python",
   "name": "python",
   "nbconvert_exporter": "python",
   "pygments_lexer": "ipython3",
   "version": "3.7.3"
  }
 },
 "nbformat": 4,
 "nbformat_minor": 2
}
