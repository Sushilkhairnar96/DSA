{
 "cells": [
  {
   "cell_type": "code",
   "execution_count": null,
   "metadata": {},
   "outputs": [],
   "source": [
    "#LC78. Subsets\n",
    "'''\n",
    "Input: nums = [1,2,3]\n",
    "Output:\n",
    "[\n",
    "  [3],[1],[2],[1,2,3],[1,3],[2,3],[1,2],[]\n",
    "]\n",
    "'''\n",
    "#1. Recursion:\n",
    "nums = [1,2,3]\n",
    "'''\n",
    "res=[[]]\n",
    "for num in nums:\n",
    "    res+= [i+ [num] for i in res]\n",
    "res\n",
    "'''\n",
    "#2 Bit Manipulation\n",
    "res=[]\n",
    "for i in range(2**len(nums)):\n",
    "    subset=[]\n",
    "    for j in range(len(nums)):\n",
    "        if (i&(1<<j)>0):\n",
    "            subset.append(nums[j])\n",
    "    res.append(subset)\n",
    "res"
   ]
  },
  {
   "cell_type": "code",
   "execution_count": null,
   "metadata": {},
   "outputs": [],
   "source": [
    "#90. Subsets II:\n",
    "'''\n",
    "Given a collection of integers that might contain duplicates, nums, return all possible subsets (the power set).\n",
    "Input: [1,2,2]\n",
    "Output:\n",
    "[\n",
    "  [2],[1],[1,2,2],[2,2],[1,2],[]\n",
    "]\n",
    "'''\n",
    "nums=[1,2,2]\n",
    "nums=sorted(nums)\n",
    "res=[[]]\n",
    "for num in nums:\n",
    "    res+=[i+[num]for i in res if i+[num] not in res]\n",
    "res"
   ]
  },
  {
   "cell_type": "code",
   "execution_count": 2,
   "metadata": {},
   "outputs": [
    {
     "data": {
      "text/plain": [
       "[1, 0]"
      ]
     },
     "execution_count": 2,
     "metadata": {},
     "output_type": "execute_result"
    }
   ],
   "source": [
    "#LC1. Two Sum\n",
    "'''\n",
    "Given nums = [2, 7, 11, 15], target = 9,\n",
    "\n",
    "Because nums[0] + nums[1] = 2 + 7 = 9,\n",
    "return [0, 1]\n",
    "'''\n",
    "nums=[2, 7, 11, 15];target = 9\n",
    "'''\n",
    "dic={}\n",
    "for i,v in enumerate(nums):\n",
    "    dic[v]=i\n",
    "\n",
    "for i in range(len(nums)):\n",
    "    if target-nums[i] in dic and i!=dic[target-nums[i]]:\n",
    "        print(i,dic[target-nums[i]])\n",
    "        break\n",
    "'''\n",
    "def twoSum(nums, target):\n",
    "    dic={}\n",
    "    for i,v in enumerate(nums):\n",
    "        if target-v in dic:\n",
    "            return [i,dic[target-v]]\n",
    "        dic[v]=i\n",
    "    return res\n",
    "\n",
    "twoSum(nums, target)"
   ]
  },
  {
   "cell_type": "code",
   "execution_count": 9,
   "metadata": {},
   "outputs": [
    {
     "data": {
      "text/plain": [
       "[(-2, 1, 1), (-4, 1, 3), (-4, 0, 4), (-2, -2, 4), (0, 0, 0), (-5, 1, 4)]"
      ]
     },
     "execution_count": 9,
     "metadata": {},
     "output_type": "execute_result"
    }
   ],
   "source": [
    "#LC15. 3Sum\n",
    "'''\n",
    "Given array nums = [-1, 0, 1, 2, -1, -4],\n",
    "\n",
    "A solution set is:\n",
    "[\n",
    "  [-1, 0, 1],\n",
    "  [-1, -1, 2]\n",
    "]\n",
    "'''\n",
    "\n",
    "nums=[-4,-2,1,-5,-4,-4,4,-2,0,4,0,-2,3,1,-5,0]\n",
    "nums=sorted(nums)\n",
    "res=set()\n",
    "for i in range(len(nums)):\n",
    "    l=i+1\n",
    "    r=len(nums)-1\n",
    "    target=0-nums[i]\n",
    "    while l<r:\n",
    "        if nums[l]+nums[r]==target:\n",
    "            res.add((nums[i],nums[l],nums[r]))\n",
    "            l+=1\n",
    "            r-=1\n",
    "        elif nums[l]+nums[r]<target:\n",
    "            l+=1\n",
    "        else:\n",
    "            r-=1\n",
    "list(res)"
   ]
  },
  {
   "cell_type": "code",
   "execution_count": 8,
   "metadata": {},
   "outputs": [
    {
     "name": "stdout",
     "output_type": "stream",
     "text": [
      "5 [1, 1, 2, 2, 3]\n"
     ]
    }
   ],
   "source": [
    "#LC80. Remove Duplicates from Sorted Array II\n",
    "'''\n",
    "Given a sorted array nums, remove the duplicates in-place such that duplicates appeared at most twice \n",
    "and return the new length.\n",
    "\n",
    "Given nums = [1,1,1,2,2,3]\n",
    "\n",
    "Your function should return length = 5, with the first five elements of nums being 1, 1, 2, 2 and 3 respectively.\n",
    "\n",
    "It doesn't matter what you leave beyond the returned length.\n",
    "'''\n",
    "nums = [1,1,1,2,2,3]\n",
    "\n",
    "if len(nums) < 3: \n",
    "    print(len(nums))  #return len(nums)\n",
    "\n",
    "j=1\n",
    "for i in range(1,len(nums)-1):\n",
    "    if nums[i-1]!=nums[i+1]:\n",
    "        nums[j]=nums[i]\n",
    "        j+=1\n",
    "nums[j]=nums[-1]        \n",
    "print(j+1,nums[:j+1])"
   ]
  },
  {
   "cell_type": "code",
   "execution_count": null,
   "metadata": {},
   "outputs": [],
   "source": [
    "#LC53. Maximum Subarray:\n",
    "'''\n",
    "Input: [-2,1,-3,4,-1,2,1,-5,4],\n",
    "Output: 6\n",
    "Explanation: [4,-1,2,1] has the largest sum = 6.\n",
    "'''\n",
    "nums=[-2,1,-3,4,-1,2,1,-5,4]\n",
    "\n",
    "for i in range(1,len(nums)):\n",
    "    if nums[i-1]>0:\n",
    "        nums[i]+=nums[i-1]\n",
    "max(nums)"
   ]
  },
  {
   "cell_type": "code",
   "execution_count": null,
   "metadata": {},
   "outputs": [],
   "source": [
    "#LC918. Maximum Sum Circular Subarray:\n",
    "'''\n",
    "Input: [3,-1,2,-1]\n",
    "Output: 4\n",
    "Explanation: Subarray [2,-1,3] has maximum sum 2 + (-1) + 3 = 4\n",
    "\n",
    "Input: [5,-3,5]\n",
    "Output: 10\n",
    "Explanation: Subarray [5,5] has maximum sum 5 + 5 = 10\n",
    "'''\n",
    "'''\n",
    "#Algo:\n",
    "1.find out the max one without circular(using greedy which can be found in similar question without circular version)\n",
    "2.find out the min one without circular and sum(A)-min one\n",
    "3.compare the two answer and choose the larger one\n",
    "And I use a flag(c) to make sure not all elements<0\n",
    "'''\n",
    "A=[5,-3,5]\n",
    "t1,t2=A[:],A[:]\n",
    "c=0\n",
    "for i in range(1, len(A)):\n",
    "    if t1[i-1]>0:\n",
    "        t1[i]+=t1[i-1]          #Case 1: Non-circular array: same as max-subarray\n",
    "        c=1\n",
    "    if t2[i-1]<0:\n",
    "        t2[i]+=t2[i-1]          #Case 2: finding minimum sub array and  => total-min(A)\n",
    "if c==0:\n",
    "    print(max(A))               #Edge case: if all numbers are -ve in array, return maximum number of array\n",
    "max(max(t1),(sum(A)-min(t2)))\n",
    "\n",
    "'''\n",
    "total,maxsum,curmax,minsum,curmin=0,float('-inf'),0,float('inf'),0\n",
    "for i in A:\n",
    "    curmax=max(i,curmax+i)\n",
    "    maxsum=max(curmax,maxsum)\n",
    "    curmin=min(i,curmin+i)\n",
    "    minsum=min(curmin,minsum)\n",
    "    total+=i\n",
    "max(maxsum,total-minsum) if maxsum>0 else maxsum\n",
    "'''"
   ]
  },
  {
   "cell_type": "code",
   "execution_count": 10,
   "metadata": {},
   "outputs": [
    {
     "data": {
      "text/plain": [
       "84"
      ]
     },
     "execution_count": 10,
     "metadata": {},
     "output_type": "execute_result"
    }
   ],
   "source": [
    "#LC152. Maximum Product Subarray\n",
    "'''\n",
    "Input: [2,3,-2,4]\n",
    "Output: 6\n",
    "Explanation: [2,3] has the largest product 6.\n",
    "'''\n",
    "#Kadane's algorithm (Dynamic programming) track both max and mins\n",
    "'''\n",
    "Algo explanation:\n",
    "\n",
    "input = [ 2, 3, -2, 4 ]\n",
    "\n",
    "product_left_to_right = input = [ 2, 3, -2, 4 ]\n",
    "\n",
    "product_right_to_left = input[::-1] = [ 4, -2, 3, 2 ]\n",
    "\n",
    "1st iteration:\n",
    "\n",
    "6 = 3 * 2\n",
    "product_left_to_right = [ 2, 6, -2, 4 ]\n",
    "\n",
    "-8 = -2 * 4\n",
    "product_right_to_left = [ 4, -8, 3, 2 ]\n",
    "\n",
    "2nd iteration:\n",
    "\n",
    "-12 = -2 * 6\n",
    "product_left_to_right = [ 2, 6, -12, 4 ]\n",
    "\n",
    "-24 = 3 * -8\n",
    "product_right_to_left = [ 4, -8, -24, 2 ]\n",
    "\n",
    "3rd iteration:\n",
    "\n",
    "-48 = 4 * -12\n",
    "product_left_to_right = [ 2, 6, -12, -48 ]\n",
    "\n",
    "-48 = 2 * -24\n",
    "product_right_to_left = [ 4, -8, -24, -48 ]\n",
    "\n",
    "comparison of max:\n",
    "\n",
    "max of product_left_to_right = [ 2, 6, -12, -48 ] = 6\n",
    "\n",
    "max of product_right_to_left = [ 4, -8, -24, -48 ] = 4\n",
    "\n",
    "max of ( 6, 4 ) = 6\n",
    "\n",
    "return 6\n",
    "\n",
    "'''\n",
    "nums=[-5,-7,2,-3,2]\n",
    "rev_nums=nums[::-1]\n",
    "for i in range(1,len(nums)):\n",
    "        nums[i]*=nums[i-1]\n",
    "        rev_nums[i]*=rev_nums[i-1]\n",
    "    #print(nums,rev_nums)   \n",
    "max(max(nums), max(rev_nums))\n"
   ]
  },
  {
   "cell_type": "code",
   "execution_count": null,
   "metadata": {},
   "outputs": [],
   "source": [
    "#LC75. Sort Colors       #Dutch Flag Partitioning Algorithm\n",
    "'''\n",
    "Given an array with n objects colored red, white or blue, sort them in-place so that objects of the same color are \n",
    "adjacent, with the colors in the order red, white and blue.\n",
    "\n",
    "Here, we will use the integers 0, 1, and 2 to represent the color red, white, and blue respectively.\n",
    "\n",
    "Input: [2,0,2,1,1,0]\n",
    "Output: [0,0,1,1,2,2]\n",
    "'''\n",
    "nums=[2,0,2,1,1,0]\n",
    "#1.  count sort   \n",
    "'''\n",
    "def sortColors(nums):\n",
    "    c0 = c1 = c2 = 0\n",
    "    for num in nums:\n",
    "        if num == 0:\n",
    "            c0 += 1\n",
    "        elif num == 1:\n",
    "            c1 += 1\n",
    "        else:\n",
    "            c2 += 1\n",
    "    nums[:c0] = [0] * c0\n",
    "    nums[c0:c0+c1] = [1] * c1\n",
    "    nums[c0+c1:] = [2] * c2\n",
    "    \n",
    "    return nums\n",
    "\n",
    "sortColors(nums)\n",
    "'''\n",
    "#2.Dutch Flag Partitioning Algorithm:\n",
    "\n",
    "nums=[0,1,2,0,1,2]\n",
    "l,mid,r= 0, 0, len(nums)-1 \n",
    "\n",
    "while mid<=r:\n",
    "    if nums[mid]==0:\n",
    "        nums[l],nums[mid]=nums[mid],nums[l]\n",
    "        l+=1\n",
    "        mid+=1\n",
    "    elif nums[mid]==1:\n",
    "        mid+=1\n",
    "    else:\n",
    "        nums[mid],nums[r]=nums[r],nums[mid]\n",
    "        r-=1\n",
    "nums"
   ]
  },
  {
   "cell_type": "code",
   "execution_count": 11,
   "metadata": {},
   "outputs": [
    {
     "data": {
      "text/plain": [
       "5"
      ]
     },
     "execution_count": 11,
     "metadata": {},
     "output_type": "execute_result"
    }
   ],
   "source": [
    "#1347. Minimum Number of Steps to Make Two Strings Anagram\n",
    "'''\n",
    "Given two equal-size strings s and t. In one step you can choose any character of t and replace it with another character.\n",
    "\n",
    "Return the minimum number of steps to make t an anagram of s.\n",
    "\n",
    "Example 1:\n",
    "\n",
    "Input: s = \"bab\", t = \"aba\"\n",
    "Output: 1\n",
    "Explanation: Replace the first 'a' in t with b, t = \"bba\" which is anagram of s.\n",
    "Example 2:\n",
    "\n",
    "Input: s = \"leetcode\", t = \"practice\"\n",
    "Output: 5\n",
    "Explanation: Replace 'p', 'r', 'a', 'i' and 'c' from t with proper characters to make t anagram of s.\n",
    "'''\n",
    "s = \"leetcode\"; t = \"practice\"\n",
    "from collections import Counter\n",
    "'''\n",
    "S=Counter(s)\n",
    "T=Counter(t)\n",
    "sum((S-T).values())\n",
    "'''\n",
    "dic=Counter(s)\n",
    "for i in t:\n",
    "    if i in dic and dic[i]>0:\n",
    "        dic[i]-=1\n",
    "sum(dic.values())"
   ]
  },
  {
   "cell_type": "code",
   "execution_count": 4,
   "metadata": {},
   "outputs": [
    {
     "data": {
      "text/plain": [
       "4"
      ]
     },
     "execution_count": 4,
     "metadata": {},
     "output_type": "execute_result"
    }
   ],
   "source": [
    "#565. Array Nesting\n",
    "'''\n",
    "A zero-indexed array A of length N contains all integers from 0 to N-1. Find and return the longest length of set S, \n",
    "where S[i] = {A[i], A[A[i]], A[A[A[i]]], ... } subjected to the rule below.\n",
    "\n",
    "Suppose the first element in S starts with the selection of element A[i] of index = i, \n",
    "the next element in S should be A[A[i]], and then A[A[A[i]]]… By that analogy, we stop adding right before a \n",
    "duplicate element occurs in S.\n",
    "\n",
    "Input: A = [5,4,0,3,1,6,2]\n",
    "Output: 4\n",
    "Explanation: \n",
    "A[0] = 5, A[1] = 4, A[2] = 0, A[3] = 3, A[4] = 1, A[5] = 6, A[6] = 2.\n",
    "\n",
    "One of the longest S[K]:\n",
    "S[0] = {A[0], A[5], A[6], A[2]} = {5, 6, 2, 0}\n",
    "'''\n",
    "def arrayNesting(nums): \n",
    "    res=0\n",
    "    for i in range(len(nums)): \n",
    "        cur=i\n",
    "        count=0\n",
    "        while nums[cur]!=-1:\n",
    "            count+=1\n",
    "            temp=nums[cur]\n",
    "            nums[cur]=-1\n",
    "            cur=temp\n",
    "        res=max(res,count)\n",
    "    return res\n",
    "    \n",
    "nums= [5,4,0,3,1,6,2]\n",
    "arrayNesting(nums)"
   ]
  },
  {
   "cell_type": "code",
   "execution_count": 11,
   "metadata": {},
   "outputs": [
    {
     "name": "stdout",
     "output_type": "stream",
     "text": [
      "[1, 1, 2, 6]\n",
      "[24, 12, 4, 1]\n"
     ]
    },
    {
     "data": {
      "text/plain": [
       "[24, 12, 8, 6]"
      ]
     },
     "execution_count": 11,
     "metadata": {},
     "output_type": "execute_result"
    }
   ],
   "source": [
    "#238. Product of Array Except Self\n",
    "'''\n",
    "Given an array nums of n integers where n > 1,  return an array output such that output[i] is equal to \n",
    "the product of all the elements of nums except nums[i].\n",
    "\n",
    "Example:\n",
    "\n",
    "Input:  [1,2,3,4]\n",
    "Output: [24,12,8,6]\n",
    "'''\n",
    "'''\n",
    "ans=[1]*len(nums)\n",
    "for i in range(1,len(nums)):\n",
    "    ans[i]=ans[i-1]*nums[i-1]\n",
    "prod=1\n",
    "for i in range(len(nums)-2,-1,-1):\n",
    "    prod*=nums[i+1]\n",
    "    ans[i]=ans[i]*prod\n",
    "ans\n",
    "'''\n",
    "nums= [1,2,3,4]\n",
    "L,R=[1]*len(nums),[1]*len(nums)\n",
    "\n",
    "for i in range(1,len(nums)):\n",
    "    L[i]=L[i-1]*nums[i-1]\n",
    "print(L)\n",
    "\n",
    "for i in range(len(nums)-2,-1,-1):\n",
    "    R[i]=R[i+1]*nums[i+1]\n",
    "print(R)\n",
    "\n",
    "for i in range(len(nums)):\n",
    "    nums[i]=L[i]*R[i]\n",
    "nums"
   ]
  },
  {
   "cell_type": "code",
   "execution_count": 17,
   "metadata": {},
   "outputs": [
    {
     "name": "stdout",
     "output_type": "stream",
     "text": [
      "[4, 3, 2, -7, 8, 2, 3, 1, 1]\n",
      "[4, 3, -2, -7, 8, 2, 3, 1, 1]\n",
      "[4, -3, -2, -7, 8, 2, 3, 1, 1]\n",
      "[4, -3, -2, -7, 8, 2, -3, 1, 1]\n",
      "[4, -3, -2, -7, 8, 2, -3, -1, 1]\n",
      "[4, 3, -2, -7, 8, 2, -3, -1, 1]\n",
      "[4, 3, 2, -7, 8, 2, -3, -1, 1]\n",
      "[-4, 3, 2, -7, 8, 2, -3, -1, 1]\n",
      "[4, 3, 2, -7, 8, 2, -3, -1, 1]\n"
     ]
    },
    {
     "data": {
      "text/plain": [
       "[2, 3, 1]"
      ]
     },
     "execution_count": 17,
     "metadata": {},
     "output_type": "execute_result"
    }
   ],
   "source": [
    "#442. Find All Duplicates in an Array\n",
    "'''\n",
    "Given an array of integers, some elements appear twice and others appear once.\n",
    "Find all the elements that appear twice in this array.\n",
    "\n",
    "Input:\n",
    "[4,3,2,7,8,2,3,1]\n",
    "\n",
    "Output:\n",
    "[2,3]\n",
    "'''\n",
    "#Solution:\n",
    "'''\n",
    "The elements are between 1 and N and N is the size of the array. Therefore we can implicitly map an \n",
    "element to an index i.e. 1 maps to index 0, 2 maps to index 1, ...N maps to index N-1.\n",
    "\n",
    "Say for example that the number 4 appears twice. 4 implies index 3. We know that there are no negative numbers in the array.\n",
    "How about I mark the number at index 3 as negative when I first encounter 4. Now at the next occurence of 4, \n",
    "I will find the position implied by it (i.e. number at index 3) as negative. This means that 4 is a duplicate!\n",
    "\n",
    "Make sure you use the abs(x)-1 to select the index implied by x. That is because, in a previous iteration, \n",
    "the position of x might have been marked negative.\n",
    "'''\n",
    "nums=[4,3,2,7,8,2,3,1,1]\n",
    "ans=[]\n",
    "for num in nums:\n",
    "    ind = abs(num) - 1\n",
    "    if nums[ind] < 0:\n",
    "        ans.append(abs(num))\n",
    "    nums[ind] = - nums[ind]\n",
    "    print(nums)\n",
    "    \n",
    "ans  "
   ]
  },
  {
   "cell_type": "code",
   "execution_count": 1,
   "metadata": {},
   "outputs": [
    {
     "data": {
      "text/plain": [
       "[[1], [1, 1], [1, 2, 1], [1, 3, 3, 1], [1, 4, 6, 4, 1]]"
      ]
     },
     "execution_count": 1,
     "metadata": {},
     "output_type": "execute_result"
    }
   ],
   "source": [
    "#LC118. Pascal's Triangle\n",
    "\n",
    "def generate(numRows):\n",
    "    if numRows==0: return []\n",
    "    triangle=[[1]]\n",
    "    for i in range(1,numRows):\n",
    "        prev_row=triangle[i-1]\n",
    "        new_row=[]\n",
    "        new_row.append(1)\n",
    "        for j in range(1,i):\n",
    "            new_row.append(prev_row[j-1]+prev_row[j])\n",
    "        new_row.append(1)\n",
    "        triangle.append(new_row)\n",
    "    return triangle\n",
    "\n",
    "generate(5)"
   ]
  },
  {
   "cell_type": "code",
   "execution_count": 6,
   "metadata": {},
   "outputs": [
    {
     "name": "stdout",
     "output_type": "stream",
     "text": [
      "[1, 2, 1, 1]\n",
      "* 1\n",
      "[1, 2, 3, 1]\n",
      "[1, 3, 3, 1]\n",
      "* 2\n",
      "[1, 3, 3, 4]\n",
      "[1, 3, 6, 4]\n",
      "[1, 4, 6, 4]\n",
      "* 3\n"
     ]
    },
    {
     "data": {
      "text/plain": [
       "[1, 4, 6, 4, 1]"
      ]
     },
     "execution_count": 6,
     "metadata": {},
     "output_type": "execute_result"
    }
   ],
   "source": [
    "#119. Pascal's Triangle II\n",
    "#Given a non-negative index k, return the kth index row of the Pascal's triangle.\n",
    "rowIndex=3\n",
    "row=[1] * (rowIndex+1)\n",
    "for i in range(1,rowIndex+1):\n",
    "    for j in range(i,0,-1): #j from i to 1\n",
    "        row[j]+=row[j-1]\n",
    "        print(row)\n",
    "    print(\"*\",i)\n",
    "row.append(1)\n",
    "row"
   ]
  },
  {
   "cell_type": "code",
   "execution_count": 15,
   "metadata": {},
   "outputs": [
    {
     "name": "stdout",
     "output_type": "stream",
     "text": [
      "2 3\n",
      "3 2\n"
     ]
    },
    {
     "data": {
      "text/plain": [
       "2"
      ]
     },
     "execution_count": 15,
     "metadata": {},
     "output_type": "execute_result"
    }
   ],
   "source": [
    "def findDuplicate(nums):\n",
    "    # Find the intersection point of the two runners.\n",
    "    tortoise = hare = nums[0]\n",
    "    while True:\n",
    "        tortoise = nums[tortoise]\n",
    "        hare = nums[nums[hare]]\n",
    "        if tortoise == hare:              #checking the cycle(both slow and fast pointers will keep running in the loop)\n",
    "            break\n",
    "        print(tortoise,hare)\n",
    "    # Find the \"entrance\" to the cycle.\n",
    "    tortoise = nums[0]               \n",
    "    while tortoise != hare:\n",
    "        tortoise = nums[tortoise]\n",
    "        hare = nums[hare]\n",
    "    \n",
    "    return hare                        \n",
    "\n",
    "nums=[1,2,3,4,2]\n",
    "findDuplicate(nums)"
   ]
  },
  {
   "cell_type": "code",
   "execution_count": 3,
   "metadata": {},
   "outputs": [
    {
     "data": {
      "text/plain": [
       "3"
      ]
     },
     "execution_count": 3,
     "metadata": {},
     "output_type": "execute_result"
    }
   ],
   "source": [
    "#LC 209. Minimum Size Subarray Sum:\n",
    "'''\n",
    "Given an array of n positive integers and a positive integer s, find the minimal length of a contiguous\n",
    "subarray of which the sum ≥ s. If there isn't one, return 0 instead.\n",
    "\n",
    "Example: \n",
    "\n",
    "Input: s = 7, nums = [2,3,1,2,4,3]\n",
    "Output: 2\n",
    "Explanation: the subarray [4,3] has the minimal length under the problem constraint.\n",
    "'''\n",
    "s = 9; nums = [2,3,1,2,4,3]\n",
    "left=right=total=0\n",
    "res=len(nums)+1\n",
    "while right<len(nums):\n",
    "    total+=nums[right]\n",
    "    while total>=s:\n",
    "        res=min(right-left+1,res)\n",
    "        total-=nums[left]\n",
    "        left+=1\n",
    "    right+=1\n",
    "res if res<=len(nums) else 0        "
   ]
  },
  {
   "cell_type": "code",
   "execution_count": 5,
   "metadata": {},
   "outputs": [
    {
     "data": {
      "text/plain": [
       "2"
      ]
     },
     "execution_count": 5,
     "metadata": {},
     "output_type": "execute_result"
    }
   ],
   "source": [
    "#LC560. Subarray Sum Equals K\n",
    "\n",
    "'''\n",
    "Given an array of integers and an integer k, you need to find the total number of continuous subarrays \n",
    "whose sum equals to k.\n",
    "\n",
    "Example 1:\n",
    "\n",
    "Input:nums = [1,1,1], k = 2\n",
    "Output: 2\n",
    "'''\n",
    "nums = [1,1,1]; k = 2\n",
    "prefix_sum=count=0\n",
    "dic={0:1}\n",
    "for i in nums:\n",
    "    prefix_sum+=i\n",
    "    \n",
    "    if prefix_sum-k in dic:\n",
    "        count+=dic[prefix_sum-k]\n",
    "        \n",
    "    if prefix_sum in dic:\n",
    "        dic[prefix_sum]+=1\n",
    "    else:\n",
    "        dic[prefix_sum]=1\n",
    "\n",
    "count"
   ]
  },
  {
   "cell_type": "code",
   "execution_count": 3,
   "metadata": {},
   "outputs": [
    {
     "data": {
      "text/plain": [
       "4"
      ]
     },
     "execution_count": 3,
     "metadata": {},
     "output_type": "execute_result"
    }
   ],
   "source": [
    "#LC930. Binary Subarrays With Sum\n",
    "\n",
    "'''\n",
    "In an array A of 0s and 1s, how many non-empty subarrays have sum S?\n",
    "\n",
    "Input: A = [1,0,1,0,1], S = 2\n",
    "Output: 4\n",
    "Explanation: \n",
    "The 4 subarrays are bolded below:\n",
    "[1,0,1,0,1]\n",
    "[1,0,1,0,1]\n",
    "[1,0,1,0,1]\n",
    "[1,0,1,0,1]\n",
    "'''\n",
    "\n",
    "'''\n",
    "prefix_sum=count=0\n",
    "dic={0:1}\n",
    "for i in A:\n",
    "    prefix_sum+=i\n",
    "    \n",
    "    if prefix_sum-S in dic:\n",
    "        count+=dic[prefix_sum-S]\n",
    "        \n",
    "    if prefix_sum in dic:\n",
    "        dic[prefix_sum]+=1\n",
    "    else:\n",
    "        dic[prefix_sum]=1\n",
    "\n",
    "count\n",
    "'''\n",
    "A = [1,0,1,0,1]; S = 2\n",
    "import collections\n",
    "dic = collections.Counter({0: 1})\n",
    "prefix_sum=count=0\n",
    "for i in A:\n",
    "    prefix_sum += i\n",
    "    count += dic[prefix_sum - S]\n",
    "    dic[prefix_sum] += 1\n",
    "count\n",
    "\n"
   ]
  },
  {
   "cell_type": "code",
   "execution_count": null,
   "metadata": {},
   "outputs": [],
   "source": []
  },
  {
   "cell_type": "code",
   "execution_count": null,
   "metadata": {},
   "outputs": [],
   "source": []
  },
  {
   "cell_type": "code",
   "execution_count": null,
   "metadata": {},
   "outputs": [],
   "source": []
  },
  {
   "cell_type": "code",
   "execution_count": null,
   "metadata": {},
   "outputs": [],
   "source": []
  },
  {
   "cell_type": "code",
   "execution_count": null,
   "metadata": {},
   "outputs": [],
   "source": []
  },
  {
   "cell_type": "code",
   "execution_count": null,
   "metadata": {},
   "outputs": [],
   "source": []
  },
  {
   "cell_type": "code",
   "execution_count": null,
   "metadata": {},
   "outputs": [],
   "source": []
  },
  {
   "cell_type": "code",
   "execution_count": null,
   "metadata": {},
   "outputs": [],
   "source": []
  },
  {
   "cell_type": "code",
   "execution_count": null,
   "metadata": {},
   "outputs": [],
   "source": []
  },
  {
   "cell_type": "code",
   "execution_count": null,
   "metadata": {},
   "outputs": [],
   "source": []
  },
  {
   "cell_type": "code",
   "execution_count": null,
   "metadata": {},
   "outputs": [],
   "source": []
  },
  {
   "cell_type": "code",
   "execution_count": null,
   "metadata": {},
   "outputs": [],
   "source": []
  },
  {
   "cell_type": "code",
   "execution_count": null,
   "metadata": {},
   "outputs": [],
   "source": []
  },
  {
   "cell_type": "code",
   "execution_count": null,
   "metadata": {},
   "outputs": [],
   "source": [
    "class Solution:\n",
    "    def calculate(self, s: str) -> int:\n",
    "        num = 0\n",
    "        numbers = []\n",
    "        operator = '+'\n",
    "        s+='+' # to append the last number in the string\n",
    "        for x in s:\n",
    "            if x.isdigit():\n",
    "                num = num *10 + int(x) # num*10 is present to handle 2 or more digits\n",
    "            elif x == ' ':\n",
    "                continue\n",
    "            else:\n",
    "                if operator == '+':\n",
    "                    numbers.append(num)\n",
    "                elif operator == '-':\n",
    "                    numbers.append(-num)\n",
    "                elif operator == '*':\n",
    "                    operand = numbers.pop()\n",
    "                    numbers.append(operand*num)\n",
    "                elif operator == '/':\n",
    "                    operand = numbers.pop()\n",
    "                    numbers.append(math.trunc(operand/num))\n",
    "                num = 0\n",
    "                operator = x\n",
    "        return sum(numbers)"
   ]
  }
 ],
 "metadata": {
  "kernelspec": {
   "display_name": "Python 3",
   "language": "python",
   "name": "python3"
  },
  "language_info": {
   "codemirror_mode": {
    "name": "ipython",
    "version": 3
   },
   "file_extension": ".py",
   "mimetype": "text/x-python",
   "name": "python",
   "nbconvert_exporter": "python",
   "pygments_lexer": "ipython3",
   "version": "3.7.3"
  }
 },
 "nbformat": 4,
 "nbformat_minor": 2
}
