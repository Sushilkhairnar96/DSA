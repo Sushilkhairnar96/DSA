{
 "cells": [
  {
   "cell_type": "code",
   "execution_count": 7,
   "metadata": {},
   "outputs": [
    {
     "data": {
      "text/plain": [
       "4"
      ]
     },
     "execution_count": 7,
     "metadata": {},
     "output_type": "execute_result"
    }
   ],
   "source": [
    "#1. Single Number\n",
    "'''\n",
    "Given a non-empty array of integers nums, every element appears twice except for one. Find that single one.\n",
    "\n",
    "Input: nums = [2,2,1]\n",
    "Output: 1\n",
    "\n",
    "Input: nums = [4,1,2,1,2]\n",
    "Output: 4\n",
    "'''\n",
    "nums = [4,1,2,1,2]\n",
    "res=0\n",
    "for num in nums:\n",
    "    res^=num\n",
    "res\n",
    "\n",
    "#(sum(list(set(nums)))*2- sum(nums))"
   ]
  },
  {
   "cell_type": "code",
   "execution_count": 17,
   "metadata": {},
   "outputs": [
    {
     "data": {
      "text/plain": [
       "4"
      ]
     },
     "execution_count": 17,
     "metadata": {},
     "output_type": "execute_result"
    }
   ],
   "source": [
    "#Follow up: Given a non-empty array of integers nums, every element appears thrice except for one. Find that single one.\n",
    "\n",
    "nums=[4,1,2,1,2,1,2]\n",
    "#(sum(list(set(nums)))*3 - sum(nums))//2\n",
    "\n",
    "ones = 0\n",
    "twos = 0\n",
    "      \n",
    "for i in range(len(nums)): \n",
    "    # one & nums[i]\" gives the bits that are there in both 'ones' and new element from nums[]. \n",
    "    #We add these bits to 'twos' using bitwise OR \n",
    "    twos = twos | (ones & nums[i]) \n",
    "      \n",
    "    ones = ones ^ nums[i] \n",
    "      \n",
    "    # The common bits are those bits  which appear third time. So these bits should not be there in both  \n",
    "    # 'ones' and 'twos'. common_bit_mask contains all these bits as 0, so that the bits can be removed from \n",
    "    # 'ones' and 'twos' \n",
    "    common_bit_mask = ~(ones & twos) \n",
    "      \n",
    "    # Remove common bits (the bits that  appear third time) from 'ones' \n",
    "    ones &= common_bit_mask \n",
    "      \n",
    "    # Remove common bits (the bits that appear third time) from 'twos' \n",
    "    twos &= common_bit_mask \n",
    "ones "
   ]
  },
  {
   "cell_type": "code",
   "execution_count": 31,
   "metadata": {},
   "outputs": [
    {
     "data": {
      "text/plain": [
       "3"
      ]
     },
     "execution_count": 31,
     "metadata": {},
     "output_type": "execute_result"
    }
   ],
   "source": [
    "#2. Best Time to Buy and Sell Stock:\n",
    "'''\n",
    "Say you have an array for which the ith element is the price of a given stock on day i.\n",
    "\n",
    "If you were only permitted to complete at most one transaction (i.e., buy one and sell one share of the stock),\n",
    "design an algorithm to find the maximum profit.\n",
    "\n",
    "Note that you cannot sell a stock before you buy one.\n",
    "\n",
    "Example 1:\n",
    "\n",
    "Input: [7,1,5,3,6,4]\n",
    "Output: 5\n",
    "Explanation: Buy on day 2 (price = 1) and sell on day 5 (price = 6), profit = 6-1 = 5.\n",
    "             Not 7-1 = 6, as selling price needs to be larger than buying price.\n",
    "Example 2:\n",
    "\n",
    "Input: [7,6,4,3,1]\n",
    "Output: 0\n",
    "Explanation: In this case, no transaction is done, i.e. max profit = 0.\n",
    "'''\n",
    "def maxProfit(prices):\n",
    "    '''\n",
    "    max_profit =0\n",
    "    for i in range(len(prices)):\n",
    "        for j in range(i+1,len(prices)):\n",
    "            profit = prices[j]-prices[i]\n",
    "            max_profit = max(profit,max_profit)\n",
    "    return max_profit\n",
    "    '''\n",
    "    min_price = float('inf')\n",
    "    max_profit=0\n",
    "    for i in range(len(prices)):\n",
    "        if prices[i]<min_price:\n",
    "            min_price=prices[i]\n",
    "        else:\n",
    "            max_profit = max(prices[i]-min_price,max_profit)\n",
    "    return max_profit\n",
    "                \n",
    "\n",
    "#prices=[7,1,5,3,6,4]\n",
    "prices=[2,5,1]\n",
    "maxProfit(prices)"
   ]
  },
  {
   "cell_type": "code",
   "execution_count": 33,
   "metadata": {},
   "outputs": [
    {
     "data": {
      "text/plain": [
       "7"
      ]
     },
     "execution_count": 33,
     "metadata": {},
     "output_type": "execute_result"
    }
   ],
   "source": [
    "#3.Best Time to Buy and Sell Stock II\n",
    "'''\n",
    "Say you have an array prices for which the ith element is the price of a given stock on day i.\n",
    "\n",
    "Design an algorithm to find the maximum profit. You may complete as many transactions as you like \n",
    "(i.e., buy one and sell one share of the stock multiple times).\n",
    "\n",
    "Note: You may not engage in multiple transactions at the same time (i.e., you must sell the stock before you buy again).\n",
    "\n",
    "\n",
    "Input: [7,1,5,3,6,4]\n",
    "Output: 7\n",
    "Explanation: Buy on day 2 (price = 1) and sell on day 3 (price = 5), profit = 5-1 = 4.\n",
    "             Then buy on day 4 (price = 3) and sell on day 5 (price = 6), profit = 6-3 = 3.\n",
    "\n",
    "Input: [1,2,3,4,5]\n",
    "Output: 4\n",
    "Explanation: Buy on day 1 (price = 1) and sell on day 5 (price = 5), profit = 5-1 = 4.\n",
    "             Note that you cannot buy on day 1, buy on day 2 and sell them later, as you are\n",
    "             engaging multiple transactions at the same time. You must sell before buying again.\n",
    "'''\n",
    "\n",
    "def maxProfit(prices):\n",
    "    min_price = float('inf')\n",
    "    profit=0\n",
    "    for i in range(len(prices)):\n",
    "        if prices[i]<min_price:\n",
    "            min_price=prices[i]\n",
    "        else:\n",
    "            profit+= prices[i] - min_price\n",
    "            min_price=prices[i]\n",
    "    return profit\n",
    "\n",
    "prices=[7,1,5,3,6,4]\n",
    "maxProfit(prices)"
   ]
  },
  {
   "cell_type": "code",
   "execution_count": 18,
   "metadata": {},
   "outputs": [
    {
     "data": {
      "text/plain": [
       "2"
      ]
     },
     "execution_count": 18,
     "metadata": {},
     "output_type": "execute_result"
    }
   ],
   "source": [
    "#4. Missing Number:\n",
    "'''\n",
    "Given an array nums containing n distinct numbers in the range [0, n], return the only number in the range \n",
    "that is missing from the array.\n",
    "\n",
    "Follow up: Could you implement a solution using only O(1) extra space complexity and O(n) runtime complexity?\n",
    "\n",
    "Input: nums = [3,0,1]\n",
    "Output: 2\n",
    "Explanation: n = 3 since there are 3 numbers, so all numbers are in the range [0,3]. \n",
    "2 is the missing number in the range since it does not appear in nums.\n",
    "\n",
    "Input: nums = [0,1]\n",
    "Output: 2\n",
    "'''\n",
    "\n",
    "def missingNumber(nums) -> int:\n",
    "    #for i in range(len(nums)+1):\n",
    "    #    if i not in nums:\n",
    "    #        return i\n",
    "    \n",
    "    #ans = set(range(len(nums)+1))-set(nums)\n",
    "    #return ans.pop()\n",
    "    \n",
    "    n=len(nums)\n",
    "    expected_sum = n*(n+1)//2\n",
    "    actual_sum = sum(nums)\n",
    "    return expected_sum - actual_sum\n",
    "\n",
    "    '''\n",
    "    missing_number = -1\n",
    "    \n",
    "    # change all indexes nums[i] to negative to flag as \"found\"\n",
    "    for i in range(len(nums)):\n",
    "        index = nums[i] if nums[i] >= 0 else (abs(nums[i])-1)\n",
    "        if index < len(nums):\n",
    "            nums[index] = -(nums[index] + 1)\n",
    "            \n",
    "    for i in range(len(nums)):\n",
    "        if nums[i] >= 0:\n",
    "            missing_number = i\n",
    "            break\n",
    "            \n",
    "    if missing_number == -1:\n",
    "        missing_number = len(nums)\n",
    "    \n",
    "    # restore all numbers to positive to keep array \"original\" before returning\n",
    "    for i in range(len(nums)):\n",
    "        if nums[i] < 0:\n",
    "            nums[i] = abs(nums[i]) - 1\n",
    "    \n",
    "    return missing_number    \n",
    "    '''\n",
    "\n",
    "nums = [3,0,1]\n",
    "missingNumber(nums) "
   ]
  },
  {
   "cell_type": "code",
   "execution_count": 21,
   "metadata": {},
   "outputs": [
    {
     "data": {
      "text/plain": [
       "[1, 2, 2, 3, 5, 6]"
      ]
     },
     "execution_count": 21,
     "metadata": {},
     "output_type": "execute_result"
    }
   ],
   "source": [
    "#5. Merge Sorted Array\n",
    "'''\n",
    "Given two sorted integer arrays nums1 and nums2, merge nums2 into nums1 as one sorted array.\n",
    "\n",
    "The number of elements initialized in nums1 and nums2 are m and n respectively. \n",
    "You may assume that nums1 has enough space (size that is equal to m + n) to hold additional elements from nums2.\n",
    "\n",
    "Input: nums1 = [1,2,3,0,0,0], m = 3, nums2 = [2,5,6], n = 3\n",
    "Output: [1,2,2,3,5,6]\n",
    "\n",
    "Input: nums1 = [1], m = 1, nums2 = [], n = 0\n",
    "Output: [1]\n",
    "'''\n",
    "def merge(nums1,m,nums2,n):\n",
    "    m,n=m-1,n-1\n",
    "    while m>=0 and n>=0:\n",
    "        if nums1[m]<nums2[n]:\n",
    "            nums1[m+n+1]=nums2[n]\n",
    "            n-=1\n",
    "        else:\n",
    "            nums1[m+n+1]=nums1[m]\n",
    "            m-=1\n",
    "    if n>=0: nums1[:n+1]=nums2[:n+1]\n",
    "    return nums1\n",
    "\n",
    "nums1 = [1,2,3,0,0,0];m = 3; nums2 = [2,5,6]; n = 3\n",
    "merge(nums1,m,nums2,n)\n"
   ]
  },
  {
   "cell_type": "code",
   "execution_count": 23,
   "metadata": {},
   "outputs": [
    {
     "data": {
      "text/plain": [
       "[0, 3, 6, 7, 8, 9, 10]"
      ]
     },
     "execution_count": 23,
     "metadata": {},
     "output_type": "execute_result"
    }
   ],
   "source": [
    "#Follow up : given two sorted arrays, return a new array without modifying inline\n",
    "def merge_array(nums1,nums2):\n",
    "    m,n= len(nums1)-1,len(nums2)-1\n",
    "    ans=[0]*(m+n+2)\n",
    "    while m>=0 and n>=0:\n",
    "        if nums1[m]<nums2[n]:\n",
    "            ans[m+n+1]=nums2[n]\n",
    "            n-=1\n",
    "        else:\n",
    "            ans[m+n+1]=nums1[m]\n",
    "            m-=1\n",
    "    if m>=0: ans[:m+1]=nums1[:m+1]\n",
    "    if n>=0: ans[:n+1]=nums2[:n+1]\n",
    "    return ans\n",
    "\n",
    "nums1=[3,7,9,10];nums2=[0,6,8]\n",
    "merge_array(nums1,nums2)"
   ]
  },
  {
   "cell_type": "code",
   "execution_count": 34,
   "metadata": {},
   "outputs": [
    {
     "data": {
      "text/plain": [
       "[24, 12, 8, 6]"
      ]
     },
     "execution_count": 34,
     "metadata": {},
     "output_type": "execute_result"
    }
   ],
   "source": [
    "#6.Product of Array Except Self\n",
    "'''\n",
    "Given an array nums of n integers where n > 1,  return an array output such that output[i] is equal to the \n",
    "product of all the elements of nums except nums[i].\n",
    "\n",
    "Example:\n",
    "\n",
    "Input:  [1,2,3,4]\n",
    "Output: [24,12,8,6]\n",
    "Constraint: It's guaranteed that the product of the elements of any prefix or suffix of the array \n",
    "(including the whole array) fits in a 32 bit integer.\n",
    "\n",
    "Note: Please solve it without division and in O(n).\n",
    "\n",
    "Follow up:\n",
    "Could you solve it with constant space complexity? (The output array does not count as extra space for the \n",
    "purpose of space complexity analysis.)\n",
    "'''\n",
    "def productExceptSelf(nums):\n",
    "    '''\n",
    "    prod =1\n",
    "    for num in nums:\n",
    "        prod*=num\n",
    "    return [prod//num for num in nums]  #Error when num is 0\n",
    "    '''\n",
    "    \n",
    "    '''\n",
    "    left,right=[1]*len(nums),[1]*len(nums)\n",
    "    for i in range(1,len(nums)):\n",
    "        left[i]=nums[i-1]*left[i-1]\n",
    "    \n",
    "    for i in range(len(nums)-2,-1,-1):\n",
    "        right[i]=nums[i+1]*right[i+1]\n",
    "    \n",
    "    return [left[i]*right[i] for i in range(len(nums))]\n",
    "    '''\n",
    "    \n",
    "    ans=[1]*len(nums)\n",
    "    for i in range(1,len(nums)):\n",
    "        ans[i]=nums[i-1]*ans[i-1]\n",
    "    prod=1\n",
    "    for i in range(len(nums)-2,-1,-1):\n",
    "        prod*=nums[i+1]\n",
    "        ans[i]*=prod\n",
    "        \n",
    "    return ans\n",
    "\n",
    "nums=[1,2,3,4]\n",
    "productExceptSelf(nums)"
   ]
  },
  {
   "cell_type": "code",
   "execution_count": 2,
   "metadata": {},
   "outputs": [
    {
     "data": {
      "text/plain": [
       "[1, 2]"
      ]
     },
     "execution_count": 2,
     "metadata": {},
     "output_type": "execute_result"
    }
   ],
   "source": [
    "#7. Top K Frequent Elements\n",
    "'''\n",
    "Given a non-empty array of integers, return the k most frequent elements.\n",
    "\n",
    "Input: nums = [1,1,1,2,2,3], k = 2\n",
    "Output: [1,2]\n",
    "\n",
    "Input: nums = [1], k = 1\n",
    "Output: [1]\n",
    "Note:\n",
    "\n",
    "You may assume k is always valid, 1 ≤ k ≤ number of unique elements.\n",
    "Your algorithm's time complexity must be better than O(n log n), where n is the array's size.\n",
    "It's guaranteed that the answer is unique, in other words the set of the top k frequent elements is unique.\n",
    "You can return the answer in any order.\n",
    "'''\n",
    "def topKFrequent(nums,k) :\n",
    "    import collections\n",
    "    dic=collections.Counter(nums)\n",
    "    sorted_list = sorted(dic.items(), key=lambda x: x[1],reverse=True)\n",
    "    ans=[]\n",
    "    i=0\n",
    "    for key,val in sorted_list:\n",
    "        if i==k:\n",
    "            return ans\n",
    "        else:\n",
    "            ans.append(key)\n",
    "        i+=1\n",
    "    return ans\n",
    "\n",
    "    '''\n",
    "    if k == len(nums):\n",
    "        return nums\n",
    "    count = Counter(nums)   \n",
    "    return heapq.nlargest(k, count.keys(), key=count.get)\n",
    "    '''\n",
    "\n",
    "    '''\n",
    "    dic = collections.Counter(nums)\n",
    "    h = []\n",
    "    from heapq import heappush, heappop\n",
    "    for key,count in dic.items(): # O(N)\n",
    "        heappush(h,(-count,key))# freq, item - O(log(k))\n",
    "        \n",
    "    res = []\n",
    "    for _ in range(k):\n",
    "        res.append(heapq.heappop(h)[1])\n",
    "    return res\n",
    "    '''\n",
    "    \n",
    "    '''\n",
    "    if k == len(nums):return nums\n",
    "    d=Counter(nums)          \n",
    "    # insert k items into heap O(nlog(k))\n",
    "    h = []\n",
    "    from heapq import heappush, heappop\n",
    "    for key in d: # O(N)\n",
    "        heappush(h, (d[key],key)) # freq, item - O(log(k))\n",
    "        if len(h) > k:\n",
    "            heappop(h)\n",
    "    \n",
    "    res = []\n",
    "    while h: # O(k)\n",
    "        frq, item = heappop(h) # O(logk)\n",
    "        res.append(item)\n",
    "    return res\n",
    "    '''\n",
    "nums=[1,1,1,2,2,3];k=2\n",
    "topKFrequent(nums,k)\n"
   ]
  },
  {
   "cell_type": "code",
   "execution_count": 38,
   "metadata": {},
   "outputs": [
    {
     "data": {
      "text/plain": [
       "3"
      ]
     },
     "execution_count": 38,
     "metadata": {},
     "output_type": "execute_result"
    }
   ],
   "source": [
    "#8. Find the Duplicate Number\n",
    "'''\n",
    "Given an array of integers nums containing n + 1 integers where each integer is in the range [1, n] inclusive.\n",
    "\n",
    "There is only one repeated number in nums, return this repeated number.\n",
    "\n",
    "Input: nums = [1,3,4,2,2]\n",
    "Output: 2\n",
    "\n",
    "Input: nums = [3,1,3,4,2]\n",
    "Output: 3\n",
    "'''\n",
    "def findDuplicate(nums) -> int:\n",
    "    '''\n",
    "    nums.sort()\n",
    "    for i in range(1, len(nums)):\n",
    "        if nums[i] == nums[i-1]:\n",
    "            return nums[i]\n",
    "    '''\n",
    "\n",
    "    for i in range(len(nums)):\n",
    "        ind = abs(nums[i])-1 \n",
    "        if nums[ind]>0:\n",
    "            nums[ind]=-nums[ind]\n",
    "        else:\n",
    "            return abs(nums[i])\n",
    "    '''\n",
    "    slow = fast = nums[0]\n",
    "    while True:\n",
    "        slow = nums[slow]\n",
    "        fast = nums[nums[fast]]\n",
    "        if slow == fast:\n",
    "            break\n",
    "    \n",
    "    # Find the \"entrance\" to the cycle.\n",
    "    slow = nums[0]\n",
    "    while slow != fast:\n",
    "        slow = nums[slow]\n",
    "        fast = nums[fast]\n",
    "    \n",
    "    return fast\n",
    "    '''\n",
    "nums = [3,1,3,4,2]\n",
    "findDuplicate(nums) "
   ]
  },
  {
   "cell_type": "code",
   "execution_count": 39,
   "metadata": {},
   "outputs": [
    {
     "data": {
      "text/plain": [
       "6"
      ]
     },
     "execution_count": 39,
     "metadata": {},
     "output_type": "execute_result"
    }
   ],
   "source": [
    "#9. Maximum Subarray:\n",
    "'''\n",
    "Given an integer array nums, find the contiguous subarray (containing at least one number) which has the largest \n",
    "sum and return its sum.\n",
    "\n",
    "Follow up: If you have figured out the O(n) solution, try coding another solution using \n",
    "the divide and conquer approach, which is more subtle.\n",
    "\n",
    "\n",
    "Input: nums = [-2,1,-3,4,-1,2,1,-5,4]\n",
    "Output: 6\n",
    "Explanation: [4,-1,2,1] has the largest sum = 6.\n",
    "'''\n",
    "\n",
    "'''\n",
    "#Divide and Conquer:\n",
    "\n",
    "def maxcrossingSubArray(self,nums,mid):\n",
    "    max_l_sum = max_r_sum = float('-inf')\n",
    "    sum = 0\n",
    "    for i in range(mid-1,-1,-1):\n",
    "        sum += nums[i]\n",
    "        max_l_sum = max( max_l_sum ,sum)\n",
    "    sum = 0\n",
    "   \n",
    "    for i in range(mid,len(nums),1):\n",
    "        sum += nums[i]\n",
    "        max_r_sum = max( max_r_sum ,sum)\n",
    "    return max_l_sum + max_r_sum\n",
    "\n",
    "def maxSubArray(self, nums):\n",
    "    \"\"\"\n",
    "    :type nums: List[int]\n",
    "    :rtype: int\n",
    "    \"\"\"\n",
    "    if len(nums) ==  1 :\n",
    "        return nums[0]\n",
    "    elif not nums:\n",
    "        return 0\n",
    "    else :\n",
    "        mid = len(nums)//2\n",
    "        print(mid)\n",
    "        l_sum = self.maxSubArray(nums[:mid])\n",
    "        r_sum = self.maxSubArray(nums[mid:])\n",
    "        c_sum = self.maxcrossingSubArray(nums,mid)\n",
    "        print(l_sum,r_sum,c_sum)\n",
    "        return max(l_sum,r_sum,c_sum)\n",
    "'''            \n",
    "\n",
    "def maxSubArray(nums) -> int:\n",
    "    for i in range(1,len(nums)):\n",
    "        if nums[i-1]>0:\n",
    "            nums[i]+=nums[i-1]\n",
    "    return max(nums)\n",
    "\n",
    "nums = [-2,1,-3,4,-1,2,1,-5,4]\n",
    "maxSubArray(nums)"
   ]
  },
  {
   "cell_type": "code",
   "execution_count": 4,
   "metadata": {},
   "outputs": [
    {
     "name": "stdout",
     "output_type": "stream",
     "text": [
      "{0: 1, 1: 1} 0\n",
      "{0: 1, 1: 1, 3: 1} 1\n",
      "{0: 1, 1: 1, 3: 1, 4: 1} 2\n",
      "{0: 1, 1: 1, 3: 1, 4: 1, 6: 1} 3\n",
      "{0: 1, 1: 1, 3: 1, 4: 1, 6: 1, 7: 1} 4\n"
     ]
    },
    {
     "data": {
      "text/plain": [
       "4"
      ]
     },
     "execution_count": 4,
     "metadata": {},
     "output_type": "execute_result"
    }
   ],
   "source": [
    "#10. Subarray Sum Equals K\n",
    "'''\n",
    "Given an array of integers nums and an integer k, return the total number of continuous subarrays whose\n",
    "sum equals to k.\n",
    "\n",
    "Input: nums = [1,1,1], k = 2\n",
    "Output: 2\n",
    "Example 2:\n",
    "\n",
    "Input: nums = [1,2,3], k = 3\n",
    "Output: 2\n",
    "'''\n",
    "def subarraySum(nums, k) -> int:\n",
    "    '''\n",
    "    count=0\n",
    "    for i in range(1,len(nums)+1):\n",
    "        for j in range(i,len(nums)+1):\n",
    "            if sum(nums[j-i:j])==k:\n",
    "                count+=1\n",
    "    return count\n",
    "    '''\n",
    "    '''\n",
    "    count=0\n",
    "    for i in range(1,len(nums)+1):\n",
    "        summ=sum(nums[:i])\n",
    "        for j in range(i,len(nums)):\n",
    "            if summ==k:\n",
    "                count+=1\n",
    "            summ+=nums[j]-nums[j-i]\n",
    "        count = count if summ!=k else count+1\n",
    "    return count\n",
    "    '''\n",
    "    \n",
    "    '''\n",
    "    First of all, the basic idea behind this code is that, whenever the sums has increased by a value of k, \n",
    "    we've found a subarray of sums=k.\n",
    "    I'll also explain why we need to initialise a 0 in the hashmap.\n",
    "    Example: Let's say our elements are [1,2,1,3] and k = 3 \n",
    "    and our corresponding running sums = [1,3,4,7]\n",
    "    Now, if you notice the running sums array, from 1->4, there is increase of k and from 4->7, \n",
    "    there is an increase of k. So, we've found 2 subarrays of sums=k.\n",
    "    But, if you look at the original array, there are 3 subarrays of sums==k. \n",
    "    Now, you'll understand why 0 comes in the picture.\n",
    "    In the above example, 4-1=k and 7-4=k. Hence, we concluded that there are 2 subarrays.However, if sums==k, \n",
    "    it should've been 3-0=k. But 0 is not present in the array. To account for this case, we include the 0.\n",
    "    Now the modified sums array will look like [0,1,3,4,7]. Now, try to see for the increase of k.\n",
    "    '''\n",
    "    dic={0:1}\n",
    "    count=summ=0\n",
    "    for num in nums:\n",
    "        summ+=num\n",
    "        '''\n",
    "        Single scan. Given the current sum and the k, we check if (sum-k) existed as previous sum at an \n",
    "        earlier stage (aka smaller window size).\n",
    "        Keep expanding the sum while checking whether we have seen (sum - k) before\n",
    "        '''\n",
    "        if summ-k in dic:\n",
    "            count+=dic[summ-k]\n",
    "        '''\n",
    "        It's possible that the freq of a sum could be greater than 1 only when the nums list conatins a zero\n",
    "        ex: nums = [1,2,3,0,4]\n",
    "        because sum will be the same for two consecutive iterations.It's important to capture this edge case\n",
    "        in order to return the correct number of subarrays that add up to target.\n",
    "        if we are guaranteed that the list nums has no zeros, then we can replace the prefix dict with a prefix set.\n",
    "        '''\n",
    "        if summ in dic:\n",
    "            dic[summ]+=1\n",
    "        else:\n",
    "            dic[summ]=1\n",
    "        print(dic,count)\n",
    "    return count\n",
    "\n",
    "nums=[1,2,1,2,1];k=3\n",
    "subarraySum(nums, k)"
   ]
  },
  {
   "cell_type": "code",
   "execution_count": 44,
   "metadata": {},
   "outputs": [
    {
     "data": {
      "text/plain": [
       "[5, 6]"
      ]
     },
     "execution_count": 44,
     "metadata": {},
     "output_type": "execute_result"
    }
   ],
   "source": [
    "#11. Find All Numbers Disappeared in an Array\n",
    "'''\n",
    "Given an array of integers where 1 ≤ a[i] ≤ n (n = size of array), some elements appear twice and others appear once.\n",
    "\n",
    "Find all the elements of [1, n] inclusive that do not appear in this array.\n",
    "\n",
    "Could you do it without extra space and in O(n) runtime? You may assume the returned list does not\n",
    "count as extra space.\n",
    "\n",
    "Input:\n",
    "[4,3,2,7,8,2,3,1]\n",
    "\n",
    "Output:\n",
    "[5,6]\n",
    "'''\n",
    "def findDisappearedNumbers(nums):\n",
    "    '''\n",
    "    #1. \n",
    "    \n",
    "    ans=[]\n",
    "    for i in range(1,len(nums)+1):\n",
    "        if i not in nums:\n",
    "            ans.append(i)\n",
    "    return ans\n",
    "    '''\n",
    "    \n",
    "    #2. return list(set(range(1,len(nums)+1)) - set(nums))\n",
    "    \n",
    "    #3.\n",
    "    for num in nums:\n",
    "        ind= abs(num)-1\n",
    "        if nums[ind]>0:\n",
    "            nums[ind]*=-1\n",
    "            \n",
    "    return [i + 1 for i in range(len(nums)) if nums[i] > 0]\n",
    "\n",
    "nums=[4,3,2,7,8,2,3,1]\n",
    "findDisappearedNumbers(nums)"
   ]
  },
  {
   "cell_type": "code",
   "execution_count": 45,
   "metadata": {},
   "outputs": [
    {
     "data": {
      "text/plain": [
       "[0, 0, 1, 1, 2, 2]"
      ]
     },
     "execution_count": 45,
     "metadata": {},
     "output_type": "execute_result"
    }
   ],
   "source": [
    "#12. Sort Colors\n",
    "'''\n",
    "Given an array nums with n objects colored red, white, or blue, sort them in-place so that objects of the same \n",
    "color are adjacent, with the colors in the order red, white, and blue.\n",
    "Here, we will use the integers 0, 1, and 2 to represent the color red, white, and blue respectively.\n",
    "\n",
    "Input: nums = [2,0,2,1,1,0]\n",
    "Output: [0,0,1,1,2,2]\n",
    "Example 2:\n",
    "\n",
    "Input: nums = [2,0,1]\n",
    "Output: [0,1,2]\n",
    "'''\n",
    "def sortColors(nums):\n",
    "    '''\n",
    "    zeros=ones=twos=0\n",
    "    for num in nums:\n",
    "        if num==0:\n",
    "            zeros+=1\n",
    "        elif num==1:\n",
    "            ones+=1\n",
    "        else:\n",
    "            twos+=1\n",
    "    nums[:zeros] = [0]*zeros\n",
    "    nums[zeros:zeros+ones] = [1]*ones\n",
    "    nums[zeros+ones:] = [2]*twos\n",
    "    return nums\n",
    "    '''\n",
    "    #2.Dutch Flag Partitioning Algorithm:\n",
    "    l,mid,r= 0, 0, len(nums)-1 \n",
    "    \n",
    "    while mid<=r:\n",
    "        if nums[mid]==0:\n",
    "            nums[l],nums[mid]=nums[mid],nums[l]\n",
    "            l+=1\n",
    "            mid+=1\n",
    "        elif nums[mid]==1:\n",
    "            mid+=1\n",
    "        else:\n",
    "            nums[mid],nums[r]=nums[r],nums[mid]\n",
    "            r-=1\n",
    "    return nums \n",
    "\n",
    "nums = [2,0,2,1,1,0]\n",
    "sortColors(nums)"
   ]
  },
  {
   "cell_type": "code",
   "execution_count": 1,
   "metadata": {},
   "outputs": [
    {
     "data": {
      "text/plain": [
       "12"
      ]
     },
     "execution_count": 1,
     "metadata": {},
     "output_type": "execute_result"
    }
   ],
   "source": [
    "#13.  Maximum Product of Two Elements in an Array:\n",
    "'''\n",
    "Given the array of integers nums, you will choose two different indices i and j of that array. \n",
    "Return the maximum value of (nums[i]-1)*(nums[j]-1).\n",
    "\n",
    "Input: nums = [3,4,5,2]\n",
    "Output: 12 \n",
    "Explanation: If you choose the indices i=1 and j=2 (indexed from 0), you will get the maximum value,\n",
    "that is, (nums[1]-1)*(nums[2]-1) = (4-1)*(5-1) = 3*4 = 12. \n",
    "\n",
    "Input: nums = [1,5,4,5]\n",
    "Output: 16\n",
    "Explanation: Choosing the indices i=1 and j=3 (indexed from 0), you will get the maximum value of (5-1)*(5-1) = 16.\n",
    "'''\n",
    "def maxProduct(nums):\n",
    "    '''\n",
    "    max_prod = 0\n",
    "    max_num = nums[0]-1\n",
    "    for i in range(1,len(nums)):\n",
    "        max_prod = max(max_num*(nums[i]-1),max_prod)\n",
    "        if (nums[i]-1) > max_num:\n",
    "            max_num = (nums[i]-1)\n",
    "    return max_prod\n",
    "    '''\n",
    "    first,second=0,0\n",
    "    for num in nums:\n",
    "        #continuosly check for 1st and 2nd largest number:\n",
    "        if num > first:\n",
    "            # update first largest and second largest\n",
    "            first,second = num,first\n",
    "        else:\n",
    "            # update second largest\n",
    "            second = max(num,second)\n",
    "    return (first-1) * (second-1)\n",
    "\n",
    "nums = [3,4,5,2]\n",
    "maxProduct(nums)"
   ]
  },
  {
   "cell_type": "code",
   "execution_count": 3,
   "metadata": {},
   "outputs": [
    {
     "name": "stdout",
     "output_type": "stream",
     "text": [
      "[7, 9, 9] 2\n",
      "[7, 9, 0] 1\n",
      "[7, 0, 0] 0\n"
     ]
    },
    {
     "data": {
      "text/plain": [
       "[8, 0, 0]"
      ]
     },
     "execution_count": 3,
     "metadata": {},
     "output_type": "execute_result"
    }
   ],
   "source": [
    "#14. Plus One\n",
    "'''\n",
    "Given a non-empty array of decimal digits representing a non-negative integer, increment one to the integer.\n",
    "\n",
    "The digits are stored such that the most significant digit is at the head of the list, and each element in \n",
    "the array contains a single digit.\n",
    "\n",
    "You may assume the integer does not contain any leading zero, except the number 0 itself.\n",
    "\n",
    "digits = [1,2,3]\n",
    "Output: [1,2,4]\n",
    "\n",
    "digits = [0,0]\n",
    "Output: [0,1]\n",
    "'''\n",
    "def plusOne(digits):\n",
    "    for i in range(len(digits)-1, -1, -1):\n",
    "        print(digits,i)\n",
    "        if digits[i] < 9:\n",
    "            digits[i] += 1\n",
    "            return digits\n",
    "        digits[i] = 0\n",
    "    return [1] + digits\n",
    "\n",
    "plusOne([7,9,9])"
   ]
  },
  {
   "cell_type": "code",
   "execution_count": 5,
   "metadata": {},
   "outputs": [
    {
     "data": {
      "text/plain": [
       "2"
      ]
     },
     "execution_count": 5,
     "metadata": {},
     "output_type": "execute_result"
    }
   ],
   "source": [
    "#15. Assign Cookies\n",
    "'''\n",
    "Assume you are an awesome parent and want to give your children some cookies. But, you should give each child \n",
    "at most one cookie.\n",
    "\n",
    "Each child i has a greed factor g[i], which is the minimum size of a cookie that the child will be content with; \n",
    "and each cookie j has a size s[j]. If s[j] >= g[i], we can assign the cookie j to the child i, and the child i \n",
    "will be content. Your goal is to maximize the number of your content children and output the maximum number.\n",
    "\n",
    "Input: g = [1,2,3], s = [1,1]\n",
    "Output: 1\n",
    "Explanation: You have 3 children and 2 cookies. The greed factors of 3 children are 1, 2, 3. \n",
    "And even though you have 2 cookies, since their size is both 1, you could only make the child whose greed factor is 1 content.\n",
    "You need to output 1.\n",
    "Example 2:\n",
    "\n",
    "Input: g = [1,2], s = [1,2,3]\n",
    "Output: 2\n",
    "Explanation: You have 2 children and 3 cookies. The greed factors of 2 children are 1, 2. \n",
    "You have 3 cookies and their sizes are big enough to gratify all of the children, You need to output 2.\n",
    "'''\n",
    "def findContentChildren(g,s):\n",
    "    g.sort()\n",
    "    s.sort()\n",
    "    child,cookie=0,0\n",
    "    while child<len(g) and cookie<len(s):\n",
    "        if s[cookie]>=g[child]:\n",
    "            child+=1\n",
    "        cookie+=1\n",
    "    return child\n",
    "\n",
    "g = [1,2]; s = [1,2,3]\n",
    "findContentChildren(g,s)"
   ]
  },
  {
   "cell_type": "code",
   "execution_count": 2,
   "metadata": {},
   "outputs": [
    {
     "data": {
      "text/plain": [
       "[2, 42, 38, 0, 43, 21, 5, 7, 12, 12, 13, 23, 24, 24, 27, 29, 30, 31, 33, 48]"
      ]
     },
     "execution_count": 2,
     "metadata": {},
     "output_type": "execute_result"
    }
   ],
   "source": [
    "#16. Relative Sort Array\n",
    "'''\n",
    "Given two arrays arr1 and arr2, the elements of arr2 are distinct, and all elements in arr2 are also in arr1.\n",
    "\n",
    "Sort the elements of arr1 such that the relative ordering of items in arr1 are the same as in arr2. \n",
    "Elements that don't appear in arr2 should be placed at the end of arr1 in ascending order.\n",
    "\n",
    "Input: arr1 = [2,3,1,3,2,4,6,7,9,2,19], arr2 = [2,1,4,3,9,6]\n",
    "Output: [2,2,2,1,4,3,3,9,6,7,19]\n",
    "'''\n",
    "def relativeSortArray(arr1,arr2):\n",
    "    '''\n",
    "    dic = collections.Counter(arr1)\n",
    "    ans=[]\n",
    "    for num in arr2:\n",
    "        ans.extend([num]*dic[num])\n",
    "    rest=[]\n",
    "    for num in arr1:\n",
    "        if num not in ans:\n",
    "            rest.append(num)\n",
    "    return ans + sorted(rest)\n",
    "    '''\n",
    "    import collections\n",
    "    dic=collections.Counter(arr1)\n",
    "    ans=[]\n",
    "    for num in arr2:\n",
    "        ans.extend([num]*dic.pop(num))\n",
    "    #ans.extend(sorted(dic.elements()))   \n",
    "    '''\n",
    "    dic.elements() => dic={1:2,3:1,4:2} ; output = [1,1,3,4,4]\n",
    "    dic.keys() => dic={1:2,3:1,4:2} ; output = [1,3,4]\n",
    "    '''\n",
    "    rest=[]\n",
    "    for key in dic.keys():\n",
    "        rest.extend([key]*dic[key])\n",
    "    ans.extend(sorted(rest))\n",
    "    return ans\n",
    "\n",
    "arr1 = [2,21,43,38,0,42,33,7,24,13,12,27,12,24,5,23,29,48,30,31]; arr2 = [2,42,38,0,43,21]\n",
    "relativeSortArray(arr1,arr2)"
   ]
  },
  {
   "cell_type": "code",
   "execution_count": 8,
   "metadata": {},
   "outputs": [
    {
     "data": {
      "text/plain": [
       "[[1], [1, 1], [1, 2, 1], [1, 3, 3, 1], [1, 4, 6, 4, 1], [1, 5, 10, 10, 5, 1]]"
      ]
     },
     "execution_count": 8,
     "metadata": {},
     "output_type": "execute_result"
    }
   ],
   "source": [
    "#16. Pascal's Triangle\n",
    "'''\n",
    "Given a non-negative integer numRows, generate the first numRows of Pascal's triangle\n",
    "Input: 5\n",
    "Output:\n",
    "[\n",
    "     [1],\n",
    "    [1,1],\n",
    "   [1,2,1],\n",
    "  [1,3,3,1],\n",
    " [1,4,6,4,1]\n",
    "]\n",
    "'''\n",
    "def generate(numRows):\n",
    "    if numRows==0: return []\n",
    "    res=[[1]]\n",
    "    for i in range(1,numRows):\n",
    "        new_row=[1]\n",
    "        for j in range(len(res[-1])-1):\n",
    "            new_row.append(res[-1][j]+res[-1][j+1])\n",
    "        new_row.append(1)\n",
    "        res.append(new_row)\n",
    "    return res\n",
    "generate(6)"
   ]
  },
  {
   "cell_type": "code",
   "execution_count": 12,
   "metadata": {},
   "outputs": [
    {
     "name": "stdout",
     "output_type": "stream",
     "text": [
      "[1, 2, 1, 1, 1] 2 1\n",
      "[1, 2, 3, 1, 1] 3 2\n",
      "[1, 3, 3, 1, 1] 3 1\n",
      "[1, 3, 3, 4, 1] 4 3\n",
      "[1, 3, 6, 4, 1] 4 2\n",
      "[1, 4, 6, 4, 1] 4 1\n"
     ]
    },
    {
     "data": {
      "text/plain": [
       "[1, 4, 6, 4, 1]"
      ]
     },
     "execution_count": 12,
     "metadata": {},
     "output_type": "execute_result"
    }
   ],
   "source": [
    "#17. Pascal's Triangle II\n",
    "'''\n",
    "Given an integer rowIndex, return the rowIndexth row of the Pascal's triangle.\n",
    "\n",
    "Notice that the row index starts from 0.\n",
    "\n",
    "Follow up:\n",
    "\n",
    "Could you optimize your algorithm to use only O(k) extra space?\n",
    "\n",
    "Input: rowIndex = 3    Output: [1,3,3,1]\n",
    "Input: rowIndex = 0    Output: [1]\n",
    "Input: rowIndex = 1    Output: [1,1]\n",
    "'''\n",
    "def getRow(rowIndex):\n",
    "    '''\n",
    "    res=[[1]]\n",
    "    for i in range(1,rowIndex+1):\n",
    "        new_row=[1]\n",
    "        for j in range(len(res[-1])-1):\n",
    "            new_row.append(res[-1][j]+res[-1][j+1])\n",
    "        new_row.append(1)\n",
    "        res.pop()\n",
    "        res.append(new_row)\n",
    "    return res[0]\n",
    "    '''\n",
    "    result = [1]*(rowIndex+1)\n",
    "    for i in range(2,rowIndex+1):\n",
    "        for j in range(i-1,0,-1):\n",
    "            result[j] += result[j-1]\n",
    "            print(result,i,j)\n",
    "    return result\n",
    "getRow(4)"
   ]
  },
  {
   "cell_type": "code",
   "execution_count": 12,
   "metadata": {
    "scrolled": true
   },
   "outputs": [
    {
     "name": "stdout",
     "output_type": "stream",
     "text": [
      "165.0\n",
      "157.5\n"
     ]
    }
   ],
   "source": [
    "#18. Find the angle made by the hour hand and the minute hand at any given time. Assume it is an analog clock\n",
    "'''\n",
    "Input:  h = 12:00 m = 30.00\n",
    "Output: 165 degree\n",
    "\n",
    "Input:  h = 3.00 m = 30.00\n",
    "Output: 75 degree\n",
    "\n",
    "Ans:\n",
    "1. Calculate the angle made by hour hand with respect to 12:00 in h hours and m minutes. \n",
    "2. Calculate the angle made by minute hand with respect to 12:00 in h hours and m minutes. \n",
    "\n",
    "Calculate the Angle per min:\n",
    "\n",
    "The minute hand moves 360 degrees in 60 minutes => 360°/60mins => 6°/min\n",
    "The hour hand moves 360 degrees in 12 hours => 360°/12h => 30°/h => 30°/60mins => 0.5°/min\n",
    "In h hours and m minutes,  hour hand would move (h*60 + m)*0.5 \n",
    "and the minute hand would move (m)*6\n",
    "'''\n",
    "def angleClock(hour,minutes):\n",
    "    h = (60*hour + minutes)*0.5\n",
    "    m = 6*minutes\n",
    "    angle = abs(h-m)\n",
    "    return min(angle, 360-angle)\n",
    "print(angleClock(12,30))\n",
    "print(angleClock(3,45))"
   ]
  },
  {
   "cell_type": "markdown",
   "metadata": {},
   "source": [
    "### STACK"
   ]
  },
  {
   "cell_type": "code",
   "execution_count": 10,
   "metadata": {},
   "outputs": [
    {
     "name": "stdout",
     "output_type": "stream",
     "text": [
      "[[0, 73]] [0, 0, 0, 0, 0, 0, 0, 0] 73\n",
      "[[1, 74]] [1, 0, 0, 0, 0, 0, 0, 0] 74\n",
      "[[2, 75]] [1, 1, 0, 0, 0, 0, 0, 0] 75\n",
      "[[2, 75], [3, 71]] [1, 1, 0, 0, 0, 0, 0, 0] 71\n",
      "[[2, 75], [3, 71], [4, 69]] [1, 1, 0, 0, 0, 0, 0, 0] 69\n",
      "[[2, 75], [5, 72]] [1, 1, 0, 2, 1, 0, 0, 0] 72\n",
      "[[6, 76]] [1, 1, 4, 2, 1, 1, 0, 0] 76\n",
      "[[6, 76], [7, 73]] [1, 1, 4, 2, 1, 1, 0, 0] 73\n"
     ]
    },
    {
     "data": {
      "text/plain": [
       "[1, 1, 4, 2, 1, 1, 0, 0]"
      ]
     },
     "execution_count": 10,
     "metadata": {},
     "output_type": "execute_result"
    }
   ],
   "source": [
    "#19. Daily Temperatures\n",
    "'''\n",
    "Given a list of daily temperatures T, return a list such that, for each day in the input, tells you how many days you \n",
    "would have to wait until a warmer temperature. If there is no future day for which this is possible, put 0 instead.\n",
    "\n",
    "For example, given the list of temperatures T = [73, 74, 75, 71, 69, 72, 76, 73], your output should be \n",
    "[1, 1, 4, 2, 1, 1, 0, 0].\n",
    "\n",
    "Note: The length of temperatures will be in the range [1, 30000]. Each temperature will be an integer \n",
    "in the range [30, 100].\n",
    "'''\n",
    "def dailyTemperatures(nums):\n",
    "    '''\n",
    "    res = [0] * len(nums)\n",
    "    for i in range(len(nums)):\n",
    "        for j in range(i, len(nums)):\n",
    "            if nums[j] > nums[i]:\n",
    "                res[i] = j - i \n",
    "                break #guarentee the soonest \n",
    "    return res  \n",
    "    '''\n",
    "\n",
    "    '''\n",
    "    stack=[]\n",
    "    ans = [0]*len(nums)\n",
    "    for i in range(len(nums)):\n",
    "        while stack and nums[i]> nums[stack[-1]]:\n",
    "            index= stack.pop()\n",
    "            ans[index] = i - index\n",
    "        stack.append(i) \n",
    "    return ans\n",
    "    '''\n",
    "\n",
    "    stack=[]\n",
    "    ans = [0]*len(nums)\n",
    "    for i,v in enumerate(nums):\n",
    "        while stack and v> stack[-1][1]:\n",
    "            index,val = stack.pop()\n",
    "            ans[index] = i - index\n",
    "        stack.append([i,v]) \n",
    "        print(stack,ans,v)\n",
    "    return ans\n",
    "\n",
    "dailyTemperatures([73, 74, 75, 71, 69, 72, 76, 73])"
   ]
  },
  {
   "cell_type": "code",
   "execution_count": 12,
   "metadata": {},
   "outputs": [
    {
     "name": "stdout",
     "output_type": "stream",
     "text": [
      "{1: 3, 3: 4}\n"
     ]
    },
    {
     "data": {
      "text/plain": [
       "[-1, 3, -1]"
      ]
     },
     "execution_count": 12,
     "metadata": {},
     "output_type": "execute_result"
    }
   ],
   "source": [
    "#20 Next Greater Element I:\n",
    "'''\n",
    "You are given two arrays (without duplicates) nums1 and nums2 where nums1’s elements are subset of nums2. \n",
    "Find all the next greater numbers for nums1's elements in the corresponding places of nums2.\n",
    "\n",
    "The Next Greater Number of a number x in nums1 is the first greater number to its right in nums2. \n",
    "If it does not exist, output -1 for this number.\n",
    "\n",
    "Example 1:\n",
    "Input: nums1 = [4,1,2], nums2 = [1,3,4,2].\n",
    "Output: [-1,3,-1]\n",
    "'''\n",
    "def nextGreaterElement(nums1, nums2):\n",
    "    dic={}\n",
    "    stack=[]\n",
    "    for num in nums2:\n",
    "        while stack and num>stack[-1]:\n",
    "            dic[stack.pop()]=num\n",
    "        stack.append(num)\n",
    "    print(dic)\n",
    "    ans=[]   \n",
    "    for num in nums1:\n",
    "        if num in dic:\n",
    "            ans.append(dic[num])\n",
    "        else:\n",
    "            ans.append(-1)\n",
    "    return ans\n",
    "\n",
    "nums1 = [4,1,2]; nums2 = [1,3,4,2]\n",
    "nextGreaterElement(nums1, nums2)"
   ]
  },
  {
   "cell_type": "code",
   "execution_count": 2,
   "metadata": {},
   "outputs": [
    {
     "name": "stdout",
     "output_type": "stream",
     "text": [
      "[[6, 123], [7, 1], [8, -1], [9, -100]] [120, 11, 120, 120, 123, 123, -1, -1, -1, -1]\n",
      "***End of first iteration => Next Greater Element I ***\n",
      "\n",
      "[[6, 123]] [120, 11, 120, 120, 123, 123, -1, 100, 100, 100] 100\n",
      "[[6, 123]] [120, 11, 120, 120, 123, 123, -1, 100, 100, 100] 1\n",
      "[[6, 123]] [120, 11, 120, 120, 123, 123, -1, 100, 100, 100] 11\n",
      "[[6, 123]] [120, 11, 120, 120, 123, 123, -1, 100, 100, 100] 1\n",
      "[[6, 123]] [120, 11, 120, 120, 123, 123, -1, 100, 100, 100] 120\n",
      "[[6, 123]] [120, 11, 120, 120, 123, 123, -1, 100, 100, 100] 111\n",
      "[[6, 123]] [120, 11, 120, 120, 123, 123, -1, 100, 100, 100] 123\n",
      "[[6, 123]] [120, 11, 120, 120, 123, 123, -1, 100, 100, 100] 1\n",
      "[[6, 123]] [120, 11, 120, 120, 123, 123, -1, 100, 100, 100] -1\n",
      "[[6, 123]] [120, 11, 120, 120, 123, 123, -1, 100, 100, 100] -100\n"
     ]
    },
    {
     "data": {
      "text/plain": [
       "[120, 11, 120, 120, 123, 123, -1, 100, 100, 100]"
      ]
     },
     "execution_count": 2,
     "metadata": {},
     "output_type": "execute_result"
    }
   ],
   "source": [
    "#21. Next Greater Element II:\n",
    "'''\n",
    "Given a circular array (the next element of the last element is the first element of the array), print the Next \n",
    "Greater Number for every element. The Next Greater Number of a number x is the first greater number to its \n",
    "traversing-order next in the array, which means you could search circularly to find its next greater number.\n",
    "If it doesn't exist, output -1 for this number.\n",
    "\n",
    "Input: [1,2,1]\n",
    "Output: [2,-1,2]\n",
    "\n",
    "Intuition =>\n",
    "The idea here is to store the indexes of the elements that we haven't seen a greater than value for them yet\n",
    "we do this because if you stored the values you wouldn't be able to easily know where a value is at so you\n",
    "can set it accordingly. This comes in handy in the second loop.\n",
    "\n",
    "The values in the stack when we enter the second loop will always be decending, this is an important part of \n",
    "knowing that we are setting the indexes to their correct value. Since we always will set the index's left in \n",
    "the stack to the smallest number when reiterating over the stack, ensuring a correct answer. \n",
    "\n",
    "\n",
    "'''\n",
    "def nextGreaterElements(nums):\n",
    "    stack = []\n",
    "    result = [-1] * len(nums)\n",
    "    \n",
    "    for i,v in enumerate(nums):\n",
    "        while stack and v > stack[-1][1] :\n",
    "            index = stack.pop()[0]\n",
    "            result[index] = v\n",
    "        stack.append([i,v])\n",
    "    print(stack,result)    \n",
    "    print(\"***End of first iteration => Next Greater Element I ***\\n\")\n",
    "    \n",
    "    for i,v in enumerate(nums):\n",
    "        while stack and v > stack[-1][1] :\n",
    "            index = stack.pop()[0]\n",
    "            result[index] = v\n",
    "        print(stack,result,v)    \n",
    "    return result\n",
    "\n",
    "nums= [100,1,11,1,120,111,123,1,-1,-100]\n",
    "nextGreaterElements(nums)"
   ]
  },
  {
   "cell_type": "code",
   "execution_count": 29,
   "metadata": {},
   "outputs": [
    {
     "name": "stdout",
     "output_type": "stream",
     "text": [
      "20\n",
      "10\n",
      "{'stack': [20, 10, 25], 'min_stack': [20, 10]}\n"
     ]
    }
   ],
   "source": [
    "#22. Min Stack\n",
    "'''\n",
    "Design a stack that supports push, pop, top, and retrieving the minimum element in constant time.\n",
    "\n",
    "push(x) -- Push element x onto stack.\n",
    "pop() -- Removes the element on top of the stack.\n",
    "top() -- Get the top element.\n",
    "getMin() -- Retrieve the minimum element in the stack.\n",
    "'''\n",
    "class MinStack:\n",
    "\n",
    "    def __init__(self):\n",
    "        self.stack=[]\n",
    "        self.min_stack=[]\n",
    "        \n",
    "    def push(self, x: int) -> None:\n",
    "        self.stack.append(x)\n",
    "        if not self.min_stack or x<=self.min_stack[-1]:\n",
    "            self.min_stack.append(x)\n",
    "\n",
    "    def pop(self) -> None:\n",
    "        last = self.stack.pop()\n",
    "        if last == self.min_stack[-1]:\n",
    "            self.min_stack.pop()\n",
    "\n",
    "    def top(self) -> int:\n",
    "        return self.stack[-1]\n",
    "\n",
    "    def getMin(self) -> int:\n",
    "        return self.min_stack[-1]\n",
    "\n",
    "obj = MinStack()\n",
    "obj.push(10)\n",
    "obj.pop()\n",
    "obj.push(20)\n",
    "print(obj.top())\n",
    "obj.push(10)\n",
    "obj.push(25)\n",
    "print(obj.getMin())\n",
    "print(obj.__dict__)"
   ]
  },
  {
   "cell_type": "code",
   "execution_count": 37,
   "metadata": {},
   "outputs": [
    {
     "name": "stdout",
     "output_type": "stream",
     "text": [
      "1\n",
      "1\n",
      "1\n",
      "2\n",
      "1\n",
      "4\n",
      "6\n"
     ]
    }
   ],
   "source": [
    "#23.  Online Stock Span\n",
    "'''\n",
    "Write a class StockSpanner which collects daily price quotes for some stock, and returns the span of that stock's\n",
    "price for the current day.\n",
    "The span of the stock's price today is defined as the maximum number of consecutive days \n",
    "(starting from today and going backwards) for which the price of the stock was less than or equal to today's price.\n",
    "\n",
    "For example, if the price of a stock over the next 7 days were [100, 80, 60, 70, 60, 75, 85], \n",
    "then the stock spans would be [1, 1, 1, 2, 1, 4, 6].\n",
    "\n",
    "Example 1:\n",
    "\n",
    "Input: [\"StockSpanner\",\"next\",\"next\",\"next\",\"next\",\"next\",\"next\",\"next\"], [[],[100],[80],[60],[70],[60],[75],[85]]\n",
    "Output: [null,1,1,1,2,1,4,6]\n",
    "Explanation: \n",
    "First, S = StockSpanner() is initialized.  Then:\n",
    "S.next(100) is called and returns 1,\n",
    "S.next(80) is called and returns 1,\n",
    "S.next(60) is called and returns 1,\n",
    "S.next(70) is called and returns 2,\n",
    "S.next(60) is called and returns 1,\n",
    "S.next(75) is called and returns 4,\n",
    "S.next(85) is called and returns 6.\n",
    "\n",
    "Note that (for example) S.next(75) returned 4, because the last 4 prices\n",
    "(including today's price of 75) were less than or equal to today's price.\n",
    "'''\n",
    "class StockSpanner:\n",
    "\n",
    "    def __init__(self):\n",
    "        self.stack=[]\n",
    "    \n",
    "    def next(self, price: int) -> int:\n",
    "        count=1\n",
    "        while self.stack and price >= self.stack[-1][1]:\n",
    "            count+= self.stack.pop()[0]\n",
    "        self.stack.append([count,price])\n",
    "        #print([price,count],\"***\",self.stack)\n",
    "        return count\n",
    "obj = StockSpanner()\n",
    "print(obj.next(100))\n",
    "print(obj.next(80)) \n",
    "print(obj.next(60)) \n",
    "print(obj.next(70)) \n",
    "print(obj.next(60)) \n",
    "print(obj.next(75)) \n",
    "print(obj.next(85)) "
   ]
  },
  {
   "cell_type": "code",
   "execution_count": 1,
   "metadata": {},
   "outputs": [
    {
     "data": {
      "text/plain": [
       "True"
      ]
     },
     "execution_count": 1,
     "metadata": {},
     "output_type": "execute_result"
    }
   ],
   "source": [
    "#24. Validate Stack Sequences\n",
    "'''\n",
    "Given two sequences pushed and popped with distinct values, return true if and only if this could have been \n",
    "the result of a sequence of push and pop operations on an initially empty stack.\n",
    "\n",
    "Example 1:\n",
    "Input: pushed = [1,2,3,4,5], popped = [4,5,3,2,1]\n",
    "Output: true\n",
    "Explanation: We might do the following sequence:\n",
    "push(1), push(2), push(3), push(4), pop() -> 4,\n",
    "push(5), pop() -> 5, pop() -> 3, pop() -> 2, pop() -> 1\n",
    "\n",
    "Example 2:\n",
    "Input: pushed = [1,2,3,4,5], popped = [4,3,5,1,2]\n",
    "Output: false\n",
    "Explanation: 1 cannot be popped before 2.\n",
    "'''\n",
    "def validateStackSequences(pushed,popped):\n",
    "    stack=[]\n",
    "    j=0\n",
    "    for num in pushed:\n",
    "        stack.append(num)\n",
    "        while stack and stack[-1]==popped[j]:\n",
    "            stack.pop()\n",
    "            j+=1\n",
    "    return not stack\n",
    "       \n",
    "pushed = [1,2,3,4,5];popped = [4,5,3,2,1]\n",
    "validateStackSequences(pushed,popped)"
   ]
  },
  {
   "cell_type": "markdown",
   "metadata": {},
   "source": [
    "### BINARY SEARCH"
   ]
  },
  {
   "cell_type": "code",
   "execution_count": 3,
   "metadata": {},
   "outputs": [
    {
     "data": {
      "text/plain": [
       "4"
      ]
     },
     "execution_count": 3,
     "metadata": {},
     "output_type": "execute_result"
    }
   ],
   "source": [
    "#25. Sqrt(x)\n",
    "\n",
    "def mySqrt(x: int) -> int:\n",
    "    l=0;r=(x//2 +1)\n",
    "    while l<=r:\n",
    "        mid=(l+r)//2\n",
    "        sqr=mid**2\n",
    "        if sqr==x:\n",
    "            return mid\n",
    "        elif sqr<x:\n",
    "            l=mid+1\n",
    "        else:\n",
    "            r=mid-1\n",
    "    return r\n",
    "x=18\n",
    "mySqrt(x)"
   ]
  },
  {
   "cell_type": "code",
   "execution_count": 11,
   "metadata": {},
   "outputs": [
    {
     "name": "stdout",
     "output_type": "stream",
     "text": [
      "4 5 5\n",
      "2.0 5 25\n",
      "1.0 5 625\n",
      "0.0 3125 625\n"
     ]
    },
    {
     "data": {
      "text/plain": [
       "3125"
      ]
     },
     "execution_count": 11,
     "metadata": {},
     "output_type": "execute_result"
    }
   ],
   "source": [
    "#26. Pow(x, n)\n",
    "'''\n",
    "Implement pow(x, n), which calculates x raised to the power n (i.e. x**n).\n",
    "\n",
    "Input: x = 2.00000, n = 10\n",
    "Output: 1024.00000\n",
    "\n",
    "Input: x = 2.10000, n = 3\n",
    "Output: 9.26100\n",
    "\n",
    "Input: x = 2.00000, n = -2\n",
    "Output: 0.25000\n",
    "Explanation: 2^-2 = 1/2*2 = 1/4 = 0.25\n",
    "'''\n",
    "def myPow(x: float, n: int) -> float:\n",
    "    '''\n",
    "    #1. Time Limit Exceeded:\n",
    "    \n",
    "    res=1\n",
    "    if n>0:\n",
    "        for _ in range(n):\n",
    "            res*=x\n",
    "        return res\n",
    "    else:\n",
    "        for _ in range(abs(n)):\n",
    "            res*=(1/x)\n",
    "        return res\n",
    "    '''\n",
    "    #2. \n",
    "    res = 1\n",
    "    N=n\n",
    "    n= abs(n)\n",
    "    while(n):\n",
    "        if n % 2 == 1:   #if abs(n) is odd : then update res\n",
    "            res *= x\n",
    "            n -= 1\n",
    "        else:\n",
    "            x *= x      #if abs(n) is even : then update x\n",
    "            n /= 2\n",
    "        print(n,res,x)\n",
    "    return res if N>0 else 1/res\n",
    "\n",
    "myPow(5,5)"
   ]
  },
  {
   "cell_type": "code",
   "execution_count": 17,
   "metadata": {},
   "outputs": [
    {
     "name": "stdout",
     "output_type": "stream",
     "text": [
      "16\n"
     ]
    }
   ],
   "source": [
    "#Recursive code for pow(x,n) for n>0:\n",
    "def power(base,exp):\n",
    "    if exp == 0:\n",
    "        return 1\n",
    "    if(exp==1):\n",
    "        return(base)\n",
    "    if(exp!=1):\n",
    "        return (base*power(base,exp-1))\n",
    "\n",
    "print(power(4,2))"
   ]
  },
  {
   "cell_type": "code",
   "execution_count": 21,
   "metadata": {},
   "outputs": [
    {
     "data": {
      "text/plain": [
       "False"
      ]
     },
     "execution_count": 21,
     "metadata": {},
     "output_type": "execute_result"
    }
   ],
   "source": [
    "#27. Power of Two\n",
    "'''\n",
    "Given an integer n, return true if it is a power of two. Otherwise, return false.\n",
    "\n",
    "An integer n is a power of two, if there exists an integer x such that n == 2**x.\n",
    "\n",
    "Input: n = 1\n",
    "Output: true\n",
    "Explanation: 2**0 = 1\n",
    "Example 2:\n",
    "\n",
    "Input: n = 16\n",
    "Output: true\n",
    "Explanation: 2**4 = 16\n",
    "'''\n",
    "def isPowerOfTwo(n: int) -> bool:\n",
    "    if n<1: return False\n",
    "    while n%2==0:\n",
    "        n=n//2\n",
    "    return n==1\n",
    "\n",
    "isPowerOfTwo(15)"
   ]
  },
  {
   "cell_type": "code",
   "execution_count": 26,
   "metadata": {},
   "outputs": [
    {
     "data": {
      "text/plain": [
       "1"
      ]
     },
     "execution_count": 26,
     "metadata": {},
     "output_type": "execute_result"
    }
   ],
   "source": [
    "#28. Search in Rotated Sorted Array\n",
    "'''\n",
    "Suppose an array sorted in ascending order is rotated at some pivot unknown to you beforehand.\n",
    "(i.e., [0,1,2,4,5,6,7] might become [4,5,6,7,0,1,2]).\n",
    "\n",
    "You are given a target value to search. If found in the array return its index, otherwise return -1.\n",
    "You may assume no duplicate exists in the array.\n",
    "Your algorithm's runtime complexity must be in the order of O(log n)\n",
    "\n",
    "Input: nums = [4,5,6,7,0,1,2], target = 0\n",
    "Output: 4\n",
    "'''\n",
    "def search(nums,target):\n",
    "    if not nums : return -1\n",
    "    low,high=0,len(nums)-1\n",
    "    while low<=high:\n",
    "        mid = (low+high)//2\n",
    "        if nums[mid]==target: return mid\n",
    "        \n",
    "        if nums[low]<=nums[mid]: #1st half is sorted in ascending order (search in 1st half)\n",
    "            if nums[low]<=target<=nums[mid]:\n",
    "                high=mid-1     #continue search in 1st half, get high pointer to mid-1\n",
    "            else:\n",
    "                low=mid+1      #search in 2nd half, get low pointer to mid+1\n",
    "        \n",
    "        else:                   #2nd half is sorted in ascending order (search in 2nd half)\n",
    "            if nums[mid]<=target<=nums[high]:\n",
    "                low=mid+1      #continue search in 2nd half, get low pointer to mid+1\n",
    "            else:\n",
    "                high=mid-1     #search in 1st half, get high pointer to mid-1\n",
    "    return -1\n",
    "nums = [4,5,6,7,0,1,2] ;target = 5\n",
    "search(nums,target)"
   ]
  },
  {
   "cell_type": "code",
   "execution_count": 28,
   "metadata": {},
   "outputs": [
    {
     "data": {
      "text/plain": [
       "True"
      ]
     },
     "execution_count": 28,
     "metadata": {},
     "output_type": "execute_result"
    }
   ],
   "source": [
    "#29. Search in Rotated Sorted Array II\n",
    "'''\n",
    "Suppose an array sorted in ascending order is rotated at some pivot unknown to you beforehand.\n",
    "\n",
    "(i.e., [0,0,1,2,2,5,6] might become [2,5,6,0,0,1,2]).\n",
    "\n",
    "You are given a target value to search. If found in the array return true, otherwise return false.\n",
    "\n",
    "Input: nums = [2,5,6,0,0,1,2], target = 0\n",
    "Output: true\n",
    "\n",
    "Input: nums = [2,5,6,0,0,1,2], target = 3\n",
    "Output: false\n",
    "'''\n",
    "def search1(nums, target):\n",
    "    if not nums : return -1\n",
    "    low,high=0,len(nums)-1\n",
    "    while low<=high:\n",
    "        mid = (low+high)//2\n",
    "        if nums[mid]==target: return True\n",
    "        \n",
    "        # First make the array distinct by getting rid of duplicate elements:\n",
    "        while low < mid and nums[low]==nums[mid]: \n",
    "            low+=1\n",
    "        \n",
    "        while mid < high and nums[mid]==nums[high]:\n",
    "            high-=1\n",
    "        \n",
    "        #Continue Search in Rotated Sorted Array I (w/o duplicates)\n",
    "        \n",
    "        if nums[low]<=nums[mid]: #1st half is sorted in ascending order (search in 1st half)\n",
    "            if nums[low]<=target<=nums[mid]:\n",
    "                high=mid-1     #continue search in 1st half, get high pointer to mid-1\n",
    "            else:\n",
    "                low=mid+1      #search in 2nd half, get low pointer to mid+1\n",
    "        \n",
    "        else:                   #2nd half is sorted in ascending order (search in 2nd half)\n",
    "            if nums[mid]<=target<=nums[high]:\n",
    "                low=mid+1      #continue search in 2nd half, get low pointer to mid+1\n",
    "            else:\n",
    "                high=mid-1     #search in 1st half, get high pointer to mid-1\n",
    "    return False\n",
    "\n",
    "nums=[1,3,1,1,1]    #in this case low=0,high=4 and mid=2 => nums[low]<=nums[mid], however 1st half isn't sorted, so we need to adjust our pointers in cases like this\n",
    "target=3\n",
    "search1(nums, target)"
   ]
  },
  {
   "cell_type": "code",
   "execution_count": 32,
   "metadata": {},
   "outputs": [
    {
     "data": {
      "text/plain": [
       "1"
      ]
     },
     "execution_count": 32,
     "metadata": {},
     "output_type": "execute_result"
    }
   ],
   "source": [
    "#30. Find Minimum in Rotated Sorted Array\n",
    "'''\n",
    "Suppose an array sorted in ascending order is rotated at some pivot unknown to you beforehand.\n",
    "\n",
    "(i.e.,  [0,1,2,4,5,6,7] might become  [4,5,6,7,0,1,2]).\n",
    "\n",
    "Find the minimum element.\n",
    "\n",
    "You may assume no duplicate exists in the array.\n",
    "\n",
    "Input: [4,5,6,7,0,1,2]\n",
    "Output: 0\n",
    "'''\n",
    "def findMin(nums) -> int:\n",
    "    '''\n",
    "    low,high=0,len(nums)-1\n",
    "    if nums[0]<=nums[high] : return nums[0]  #already sorted array\n",
    "    while low <= high:\n",
    "        mid = (low+high)//2\n",
    "        \n",
    "        if nums[mid]>nums[mid+1]:\n",
    "            return nums[mid+1]\n",
    "        \n",
    "        if nums[mid - 1] > nums[mid]:     #[4,5,1,2,3]\n",
    "            return nums[mid]     \n",
    "        \n",
    "        if nums[0]<nums[mid]: #1st half is sorted in ascending order (search in 2nd half)\n",
    "            low=mid+1\n",
    "        else:                 #2nd half is sorted in ascending order (search in 1st half)\n",
    "            high=mid-1\n",
    "    '''\n",
    "    low,high=0,len(nums)-1\n",
    "    while low < high:\n",
    "        mid = (low+high)//2\n",
    "        \n",
    "        if nums[mid]>nums[high]:   #search in 2nd half \n",
    "            low = mid+1\n",
    "        else:\n",
    "            high = mid\n",
    "    return nums[low] \n",
    "\n",
    "nums= [2,3,4,5,1]           \n",
    "findMin(nums)"
   ]
  },
  {
   "cell_type": "code",
   "execution_count": 33,
   "metadata": {},
   "outputs": [
    {
     "data": {
      "text/plain": [
       "0"
      ]
     },
     "execution_count": 33,
     "metadata": {},
     "output_type": "execute_result"
    }
   ],
   "source": [
    "#31. Find Minimum in Rotated Sorted Array II\n",
    "'''\n",
    "Suppose an array sorted in ascending order is rotated at some pivot unknown to you beforehand.\n",
    "(i.e.,  [0,1,2,4,5,6,7] might become  [4,5,6,7,0,1,2]).\n",
    "\n",
    "Find the minimum element. The array may contain duplicates.\n",
    "\n",
    "Input: [1,3,5]\n",
    "Output: 1\n",
    "\n",
    "Input: [2,2,2,0,1]\n",
    "Output: 0\n",
    "'''\n",
    "def findMin(nums):\n",
    "    low,high=0,len(nums)-1\n",
    "    if nums[low] < nums[high] : return nums[low]  #already sorted array\n",
    "    while low < high:\n",
    "        mid = (low+high)//2        \n",
    "        \n",
    "        if nums[mid] > nums[high]:\n",
    "            low = mid+1\n",
    "        else:\n",
    "            high = mid if nums[high]!=nums[mid] else high-1\n",
    "            \n",
    "    return nums[low]\n",
    "\n",
    "nums=[2,2,2,0,1]\n",
    "findMin(nums)"
   ]
  },
  {
   "cell_type": "code",
   "execution_count": 31,
   "metadata": {},
   "outputs": [
    {
     "data": {
      "text/plain": [
       "5"
      ]
     },
     "execution_count": 31,
     "metadata": {},
     "output_type": "execute_result"
    }
   ],
   "source": [
    "#32. Find Peak Element\n",
    "'''\n",
    "A peak element is an element that is strictly greater than its neighbors.\n",
    "Given an integer array nums, find a peak element, and return its index. If the array contains multiple peaks,\n",
    "return the index to any of the peaks.\n",
    "\n",
    "Input: nums = [1,2,3,1]\n",
    "Output: 2\n",
    "Explanation: 3 is a peak element and your function should return the index number 2.\n",
    "\n",
    "Input: nums = [1,2,1,3,5,6,4]\n",
    "Output: 5\n",
    "Explanation: Your function can return either index number 1 where the peak element is 2,\n",
    "or index number 5 where the peak element is 6.\n",
    "'''\n",
    "\n",
    "def findPeakElement(nums) -> int:\n",
    "    #1.Linear Scan:\n",
    "    '''\n",
    "    for i in range(1,len(nums)-1):\n",
    "        if nums[i-1]< nums[i] > nums[i+1]:\n",
    "            return i\n",
    "    return nums.index(max(nums))\n",
    "    '''\n",
    "    #2. Binary Search\n",
    "    '''\n",
    "    If an element(not the right-most one) is smaller than its right neighbor, then there must be a peak element \n",
    "    on its right, because the elements on its right is either :\n",
    "    \n",
    "    1. always increasing  -> the right-most element is the peak\n",
    "    2. always decreasing  -> the left-most element is the peak\n",
    "    3. first increasing then decreasing -> the pivot point is the peak\n",
    "    4. first decreasing then increasing -> the left-most element is the peak  \n",
    "\n",
    "    Therefore, we can find the peak only on its right elements( cut the array to half)\n",
    "\n",
    "    The same idea applies to that an element(not the left-most one) is smaller than its left neighbor.\n",
    "    \n",
    "    Conditions:\n",
    "     1. array length is 1  -> return the only index \n",
    "     2. array length is 2  -> return the bigger number's index \n",
    "     3. array length is bigger than 2 -> \n",
    "           (1) find mid, compare it with its left and right neighbors  \n",
    "           (2) return mid if nums[mid] greater than both neighbors\n",
    "           (3) take the right half array if nums[mid] smaller than right neighbor\n",
    "           (4) otherwise, take the left half\n",
    "    '''\n",
    "    low,high=0,len(nums)-1\n",
    "    \n",
    "    while low < high:\n",
    "        mid = (low+high)//2\n",
    "        '''\n",
    "        if nums[mid-1] < nums[mid] > nums[mid+1]: return mid \n",
    "        \n",
    "        First you may think mid - 1 will cause index out of range, but actually the only case we need to consider \n",
    "        under this case is when there are only two nums left like [3,1] where m = 0, at this time m-1=-1 and\n",
    "        nums[-1] actually equals to nums[1] which also makes this condition valid and meaningful        \n",
    "        '''\n",
    "        if nums[mid-1]< nums[mid] > nums[mid+1]:\n",
    "            return mid\n",
    "        \n",
    "        if nums[mid]<nums[mid+1]:\n",
    "            low=mid+1\n",
    "        else:\n",
    "            high=mid-1\n",
    "    return low \n",
    "\n",
    "nums = [1,2,1,3,5,6,4]\n",
    "findPeakElement(nums)"
   ]
  },
  {
   "cell_type": "code",
   "execution_count": 1,
   "metadata": {},
   "outputs": [
    {
     "data": {
      "text/plain": [
       "49"
      ]
     },
     "execution_count": 1,
     "metadata": {},
     "output_type": "execute_result"
    }
   ],
   "source": [
    "#32. Container With Most Water\n",
    "'''\n",
    "\n",
    "Given n non-negative integers a1, a2, ..., an , where each represents a point at coordinate (i, ai). \n",
    "n vertical lines are drawn such that the two endpoints of the line i is at (i, ai) and (i, 0). \n",
    "Find two lines, which, together with the x-axis forms a container, such that the container contains the most water.\n",
    "Input: height = [1,8,6,2,5,4,8,3,7]\n",
    "Output: 49\n",
    "Explanation: The above vertical lines are represented by array [1,8,6,2,5,4,8,3,7]. \n",
    "In this case, the max area of water the container can contain is 49.\n",
    "'''\n",
    "def maxArea(height):\n",
    "    '''\n",
    "    res=0\n",
    "    for i in range(len(height)):\n",
    "        for j in range(i+1,len(height)):\n",
    "            res = max(res, (min(height[i],height[j])*(j-i)))\n",
    "    return res\n",
    "    '''\n",
    "    area=max_area=0\n",
    "    l,r=0,len(height)-1\n",
    "    while l<r:\n",
    "        area = min(height[l],height[r])*(r-l)\n",
    "        if height[l]<height[r]:\n",
    "            l+=1\n",
    "        else:\n",
    "            r-=1\n",
    "        max_area=max(area,max_area)\n",
    "    return max_area\n",
    "\n",
    "height= [1,8,6,2,5,4,8,3,7]\n",
    "maxArea(height)"
   ]
  },
  {
   "cell_type": "code",
   "execution_count": 3,
   "metadata": {},
   "outputs": [
    {
     "data": {
      "text/plain": [
       "[3, 4]"
      ]
     },
     "execution_count": 3,
     "metadata": {},
     "output_type": "execute_result"
    }
   ],
   "source": [
    "#33.  Find First and Last Position of Element in Sorted Array\n",
    "'''\n",
    "Given an array of integers nums sorted in ascending order, find the starting and ending position of a given target value.\n",
    "\n",
    "If target is not found in the array, return [-1, -1].\n",
    "\n",
    "Follow up: Could you write an algorithm with O(log n) runtime complexity?\n",
    "\n",
    "Example 1:\n",
    "\n",
    "Input: nums = [5,7,7,8,8,10], target = 8\n",
    "Output: [3,4]\n",
    "Example 2:\n",
    "\n",
    "Input: nums = [5,7,7,8,8,10], target = 6\n",
    "Output: [-1,-1]\n",
    "'''\n",
    "def searchRange(nums, target):\n",
    "    '''\n",
    "    l,r =0,len(nums)-1\n",
    "    while l<=r:\n",
    "        mid = (l+r)//2\n",
    "        if nums[mid]==target:\n",
    "            st=end=mid\n",
    "            while st >= 0 and nums[st]==target:\n",
    "                st-=1\n",
    "            while end <= len(nums)-1 and nums[end]==target:\n",
    "                end+=1\n",
    "            return [st+1,end-1]\n",
    "        elif nums[mid]<target:\n",
    "            l = mid+1\n",
    "        else:\n",
    "            r = mid-1\n",
    "    return [-1,-1]\n",
    "    '''\n",
    "    l,r=0,len(nums)-1\n",
    "    ans=[-1,-1]\n",
    "    f=0\n",
    "    while(l<=r):\n",
    "        mid=(l+r)//2\n",
    "        if nums[mid]==target:\n",
    "            ans[0]=mid\n",
    "            r=mid-1\n",
    "        elif nums[mid]<target:\n",
    "            l=mid+1\n",
    "        else:\n",
    "            r=mid-1\n",
    "            \n",
    "    l,r=0,len(nums)-1\n",
    "    while(l<=r):\n",
    "        mid=l+(r-l)//2\n",
    "        if nums[mid]==target:\n",
    "            ans[1]=mid\n",
    "            l=mid+1\n",
    "        elif nums[mid]<target:\n",
    "            l=mid+1\n",
    "        else:\n",
    "            r=mid-1\n",
    "    return ans\n",
    "\n",
    "nums = [5,7,7,8,8,10]; target = 8\n",
    "searchRange(nums, target)"
   ]
  },
  {
   "cell_type": "code",
   "execution_count": 5,
   "metadata": {},
   "outputs": [
    {
     "data": {
      "text/plain": [
       "7"
      ]
     },
     "execution_count": 5,
     "metadata": {},
     "output_type": "execute_result"
    }
   ],
   "source": [
    "#34. Remove Duplicates from Sorted Array II\n",
    "'''\n",
    "Given a sorted array nums, remove the duplicates in-place such that duplicates appeared at most twice and \n",
    "return the new length.\n",
    "\n",
    "Do not allocate extra space for another array; you must do this by modifying the input array in-place \n",
    "with O(1) extra memory.\n",
    "\n",
    "Input: nums = [1,1,1,2,2,3]\n",
    "Output: 5, nums = [1,1,2,2,3]\n",
    "\n",
    "Input: nums = [0,0,1,1,1,1,2,3,3]\n",
    "Output: 7, nums = [0,0,1,1,2,3,3]\n",
    "'''\n",
    "def removeDuplicates(nums):\n",
    "    '''\n",
    "    for i in range(len(nums)-2,0,-1):\n",
    "        if nums[i-1]==nums[i]==nums[i+1]:\n",
    "            nums.pop(i)\n",
    "    '''\n",
    "    if len(nums)<3: return len(nums)\n",
    "    j=1\n",
    "    for i in range(1,len(nums)-1):\n",
    "        if nums[i-1]!=nums[i+1]:\n",
    "            nums[j]=nums[i]\n",
    "            j+=1\n",
    "    nums[j]=nums[-1]\n",
    "    return j+1\n",
    "nums = [0,0,1,1,1,1,2,3,3]\n",
    "removeDuplicates(nums)"
   ]
  },
  {
   "cell_type": "code",
   "execution_count": 6,
   "metadata": {},
   "outputs": [
    {
     "data": {
      "text/plain": [
       "True"
      ]
     },
     "execution_count": 6,
     "metadata": {},
     "output_type": "execute_result"
    }
   ],
   "source": [
    "#35. Happy Number\n",
    "'''\n",
    "Write an algorithm to determine if a number n is happy.\n",
    "\n",
    "A happy number is a number defined by the following process:\n",
    "\n",
    "Starting with any positive integer, replace the number by the sum of the squares of its digits.\n",
    "Repeat the process until the number equals 1 (where it will stay), or it loops endlessly in a cycle \n",
    "which does not include 1.\n",
    "Those numbers for which this process ends in 1 are happy.\n",
    "Return true if n is a happy number, and false if not.\n",
    "\n",
    "Example 1:\n",
    "\n",
    "Input: n = 19\n",
    "Output: true\n",
    "Explanation:\n",
    "1 + 9 = 82\n",
    "64 + 4 = 68\n",
    "36 + 64 = 100\n",
    "1+ 0 + 0 = 1\n",
    "Example 2:\n",
    "\n",
    "Input: n = 2\n",
    "Output: false\n",
    "'''\n",
    "def isHappy(n) -> bool:\n",
    "    x = set()\n",
    "    while n!=1:\n",
    "        n = sum([int(i)**2 for i in str(n)])\n",
    "        if n in x:\n",
    "            return False\n",
    "        else:\n",
    "            x.add(n)\n",
    "    return True\n",
    "isHappy(32)        "
   ]
  },
  {
   "cell_type": "code",
   "execution_count": 2,
   "metadata": {},
   "outputs": [
    {
     "data": {
      "text/plain": [
       "True"
      ]
     },
     "execution_count": 2,
     "metadata": {},
     "output_type": "execute_result"
    }
   ],
   "source": [
    "#36. 132 Pattern\n",
    "'''\n",
    "Given an array of n integers nums, a 132 pattern is a subsequence of three integers nums[i], nums[j] and nums[k] such that i < j < k and nums[i] < nums[k] < nums[j].\n",
    "\n",
    "Return true if there is a 132 pattern in nums, otherwise, return false.\n",
    "\n",
    "Follow up: The O(n^2) is trivial, could you come up with the O(n logn) or the O(n) solution?\n",
    "\n",
    "Input: nums = [3,1,4,2]\n",
    "Output: true\n",
    "Explanation: There is a 132 pattern in the sequence: [1, 4, 2].\n",
    "\n",
    "Input: nums = [-1,3,2,0]\n",
    "Output: true\n",
    "Explanation: There are three 132 patterns in the sequence: [-1, 3, 2], [-1, 3, 0] and [-1, 2, 0].\n",
    "'''\n",
    "def find132pattern(nums) -> bool:\n",
    "    '''\n",
    "    for i in range(len(nums)):\n",
    "        first = nums[i]\n",
    "        for j in range(i+1,len(nums)):\n",
    "            if nums[j]>first:\n",
    "                second = nums[j]\n",
    "                for k in range(j+1,len(nums)):\n",
    "                    if first<nums[k]<second:\n",
    "                        return True\n",
    "    return False\n",
    "    '''\n",
    "    #2.    \n",
    "    '''\n",
    "    #first = minimum\n",
    "    #second = maximum\n",
    "    #third = second largest number\n",
    "    \n",
    "    Maintain a stack, which stores the minimum (first) and maximum (second) in 132 pattern\n",
    "    At any point the maximum size of subarr of stack can be 2\n",
    "    iterate through the loop,\n",
    "            if we find a number > first and number < second : return True \n",
    "            else pop the stacks last entry and add a new one with current number (which would be new max- second)\n",
    "    '''\n",
    "    if len(nums)<3: return False\n",
    "    stack=[[nums[0],nums[0]]]  #first,second - stack of min and max elements\n",
    "    first = nums[0]\n",
    "    \n",
    "    for third in nums[1:]:   #loop for 2nd largest number\n",
    "        if third<first:\n",
    "            first=third\n",
    "        else:\n",
    "            while stack and third>stack[-1][0]:\n",
    "                if third<stack[-1][1]:\n",
    "                    return True\n",
    "                else:\n",
    "                    stack.pop()   # We have found a new maximum (second), so pop the stack \n",
    "            stack.append([first,third])\n",
    "    return False\n",
    "nums=[3,5,0,3,4]\n",
    "find132pattern(nums)"
   ]
  },
  {
   "cell_type": "code",
   "execution_count": 11,
   "metadata": {},
   "outputs": [
    {
     "data": {
      "text/plain": [
       "[[-1, -1, 2], [-1, 0, 1]]"
      ]
     },
     "execution_count": 11,
     "metadata": {},
     "output_type": "execute_result"
    }
   ],
   "source": [
    "#37. 3Sum\n",
    "'''\n",
    "Given an array nums of n integers, are there elements a, b, c in nums such that a + b + c = 0?\n",
    "Find all unique triplets in the array which gives the sum of zero.\n",
    "\n",
    "Notice that the solution set must not contain duplicate triplets.\n",
    "\n",
    "\n",
    "Example 1:\n",
    "\n",
    "Input: nums = [-1,0,1,2,-1,-4]\n",
    "Output: [[-1,-1,2],[-1,0,1]]\n",
    "'''\n",
    "def threeSum(nums):\n",
    "    '''\n",
    "    nums=sorted(nums)\n",
    "    ans=set()\n",
    "    for i in range(len(nums)):\n",
    "        for j in range(i+1,len(nums)):\n",
    "            for k in range(j+1,len(nums)):\n",
    "                if nums[i]+nums[j]==-(nums[k]):\n",
    "                    ans.add((nums[i],nums[j],nums[k]))\n",
    "    return list(ans)\n",
    "    '''\n",
    "    \n",
    "    '''\n",
    "    nums=sorted(nums)\n",
    "    ans=set()\n",
    "    \n",
    "    for i in range(len(nums)):\n",
    "        l = i+1 \n",
    "        r = len(nums)-1\n",
    "        target = - nums[i]\n",
    "        \n",
    "        while l< r:\n",
    "            if nums[l]+nums[r]==target:\n",
    "                ans.add((nums[i],nums[l],nums[r]))\n",
    "                l+=1\n",
    "                r-=1\n",
    "            elif nums[l]+nums[r]<target:\n",
    "                l+=1\n",
    "            else:\n",
    "                r-=1\n",
    "    return list(ans)\n",
    "    '''\n",
    "    nums=sorted(nums)\n",
    "    ans=[]\n",
    "    \n",
    "    for i in range(len(nums)):\n",
    "        l = i+1 \n",
    "        r = len(nums)-1\n",
    "        target = - nums[i]\n",
    "        if i > 0 and nums[i] == nums[i-1]: continue\n",
    "        while l< r:\n",
    "            if nums[l]+nums[r]==target:\n",
    "                ans.append([nums[i],nums[l],nums[r]])\n",
    "                l+=1\n",
    "                r-=1\n",
    "                while l<r and nums[l]==nums[l-1]:\n",
    "                    l+=1\n",
    "                while l<r and nums[r]==nums[r+1]:\n",
    "                    r-=1\n",
    "            \n",
    "            elif nums[l]+nums[r]<target:\n",
    "                l+=1\n",
    "            else:\n",
    "                r-=1\n",
    "    return ans\n",
    "'''\n",
    "Time Complexity:O(n^2*log(n))\n",
    "\n",
    "Binary search takes O(logn), and we do it n times in the inner loop. \n",
    "Since we are going through n elements in the outer loop, the overall complexity is O(n^2*log(n))\n",
    "\n",
    "Space Complexity: O(log(n)) to O(n), depending on the implementation of the sorting algorithm.\n",
    "'''       \n",
    "\n",
    "nums = [-1,0,1,2,-1,-4]\n",
    "threeSum(nums)"
   ]
  },
  {
   "cell_type": "code",
   "execution_count": 10,
   "metadata": {},
   "outputs": [
    {
     "data": {
      "text/plain": [
       "2"
      ]
     },
     "execution_count": 10,
     "metadata": {},
     "output_type": "execute_result"
    }
   ],
   "source": [
    "#38.  3Sum Closest\n",
    "'''\n",
    "Given an array nums of n integers and an integer target, find three integers in nums such that the sum is \n",
    "closest to target. Return the sum of the three integers. You may assume that each input would have exactly\n",
    "one solution.\n",
    "\n",
    "Input: nums = [-1,2,1,-4], target = 1\n",
    "Output: 2\n",
    "Explanation: The sum that is closest to the target is 2. (-1 + 2 + 1 = 2).\n",
    "'''\n",
    "def threeSumClosest(nums,target):\n",
    "    nums =sorted(nums)\n",
    "    diff = float('inf')\n",
    "    for i in range(len(nums)):\n",
    "        l,r = i+1 ,len(nums)-1\n",
    "        while l<r:\n",
    "            summ = nums[i]+nums[l]+nums[r]\n",
    "            if abs(target-summ) < abs(diff):\n",
    "                diff = target-summ\n",
    "                if diff==0: break\n",
    "            if summ<target:\n",
    "                l+=1\n",
    "            else:.\n",
    "                r-=1\n",
    "            \n",
    "    return target-diff #diff + sum = target and we want to return sum, thus, sum= target-diff\n",
    "'''\n",
    "Time Complexity:O(n^2*log(n))\n",
    "\n",
    "Binary search takes O(logn), and we do it n times in the inner loop. \n",
    "Since we are going through n elements in the outer loop, the overall complexity is O(n^2*log(n))\n",
    "\n",
    "Space Complexity: O(log(n)) to O(n), depending on the implementation of the sorting algorithm.\n",
    "'''        \n",
    "\n",
    "nums = [-1,2,1,-4]; target = 1\n",
    "threeSumClosest(nums,target)"
   ]
  },
  {
   "cell_type": "code",
   "execution_count": 4,
   "metadata": {},
   "outputs": [
    {
     "data": {
      "text/plain": [
       "[(-2, -1, 1, 2), (-1, 0, 0, 1), (-2, 0, 0, 2)]"
      ]
     },
     "execution_count": 4,
     "metadata": {},
     "output_type": "execute_result"
    }
   ],
   "source": [
    "#39. 4Sum\n",
    "'''\n",
    "Given an array nums of n integers, return an array of all the unique quadruplets [nums[a], nums[b], nums[c], nums[d]] \n",
    "such that:     0 <= a, b, c, d < n\n",
    "\n",
    "a, b, c, and d are distinct.\n",
    "nums[a] + nums[b] + nums[c] + nums[d] == target\n",
    "You may return the answer in any order.\n",
    "\n",
    "\n",
    "Input: nums = [1,0,-1,0,-2,2], target = 0\n",
    "Output: [[-2,-1,1,2],[-2,0,0,2],[-1,0,0,1]]\n",
    "\n",
    "Input: nums = [2,2,2,2,2], target = 8\n",
    "Output: [[2,2,2,2]]\n",
    "'''\n",
    "def fourSum(nums, target):\n",
    "    nums.sort()\n",
    "    res=set()\n",
    "    for i in range(len(nums)):\n",
    "        for j in range(i+1,len(nums)):\n",
    "            left=j+1 \n",
    "            right=len(nums)-1\n",
    "            target_sum = target-(nums[i]+nums[j])\n",
    "            while left<right:\n",
    "                if nums[left]+nums[right]==target_sum:\n",
    "                    res.add((nums[i],nums[j],nums[left],nums[right]))\n",
    "                    left+=1\n",
    "                    right-=1\n",
    "                    \n",
    "                elif nums[left]+nums[right]<target_sum:\n",
    "                    left+=1\n",
    "                else:\n",
    "                    right-=1\n",
    "    return list(res)\n",
    "\n",
    "nums = [1,0,-1,0,-2,2]; target = 0\n",
    "fourSum(nums, target)"
   ]
  },
  {
   "cell_type": "code",
   "execution_count": 41,
   "metadata": {},
   "outputs": [
    {
     "name": "stdout",
     "output_type": "stream",
     "text": [
      "{(-2, -1, 1, 2), (-1, 0, 0, 1), (-2, 0, 0, 2)}\n"
     ]
    },
    {
     "data": {
      "text/plain": [
       "[[-2, -1, 1, 2], [-1, 0, 0, 1], [-2, 0, 0, 2]]"
      ]
     },
     "execution_count": 41,
     "metadata": {},
     "output_type": "execute_result"
    }
   ],
   "source": [
    "#Nth Sum:\n",
    "def findNsum(nums, target, N, res, results):\n",
    "    \n",
    "    #case1,2: if len(nums)<N or N<2: return\n",
    "    #case3: if target < smallest number*N: return \n",
    "    #case4: if target > largest number*N: return\n",
    "    if len(nums) < N or N < 2 or target < nums[0]*N or target > nums[-1]*N: return            \n",
    "    \n",
    "    #2 sum:\n",
    "    if N==2:\n",
    "        l,r=0,len(nums)-1\n",
    "        while l<r:\n",
    "            if nums[l]+nums[r]==target:\n",
    "                arr=tuple(res+[nums[l],nums[r]])\n",
    "                results.add(arr)\n",
    "                l+=1\n",
    "                r-=1\n",
    "                \n",
    "            elif nums[l]+nums[r]<target:\n",
    "                l+=1\n",
    "            else:\n",
    "                r-=1\n",
    "                \n",
    "    else: #recursively reduce N\n",
    "        for i in range(len(nums)-N+1):\n",
    "            findNsum(nums[i+1:], target-nums[i], N-1, res+[nums[i]], results)\n",
    "\n",
    "nums = [1,0,-1,0,-2,2]; target = 0\n",
    "results = set()\n",
    "findNsum(sorted(nums), target,4,[], results)\n",
    "print(results)\n",
    "ans = list(results)\n",
    "list(map(lambda x: list(x),ans))"
   ]
  },
  {
   "cell_type": "code",
   "execution_count": 42,
   "metadata": {},
   "outputs": [
    {
     "data": {
      "text/plain": [
       "[[-2, -1, 1, 2], [-2, 0, 0, 2], [-1, 0, 0, 1]]"
      ]
     },
     "execution_count": 42,
     "metadata": {},
     "output_type": "execute_result"
    }
   ],
   "source": [
    "#Nth Sum - Without using set(tuples):\n",
    "\n",
    "def findNsum(nums, target, N, res, results):\n",
    "    \n",
    "    #case1,2: if len(nums)<N or N<2: return\n",
    "    #case3: if target < smallest number*N: return \n",
    "    #case4: if target > largest number*N: return\n",
    "    if len(nums) < N or N < 2 or target < nums[0]*N or target > nums[-1]*N: return            \n",
    "    \n",
    "    #2 sum:\n",
    "    if N==2:\n",
    "        l,r=0,len(nums)-1\n",
    "        while l<r:\n",
    "            if nums[l]+nums[r]==target:\n",
    "                results.append(res+[nums[l],nums[r]])\n",
    "                l+=1\n",
    "                r-=1\n",
    "                \n",
    "                while l<r and nums[l]==nums[l-1]: l+=1\n",
    "                \n",
    "            elif nums[l]+nums[r]<target:\n",
    "                l+=1\n",
    "            else:\n",
    "                r-=1\n",
    "                \n",
    "    else: #recursively reduce N\n",
    "        for i in range(len(nums)-N+1):\n",
    "            if i == 0 or (i > 0 and nums[i] != nums[i-1]):\n",
    "                findNsum(nums[i+1:], target-nums[i], N-1, res+[nums[i]], results)\n",
    "        \n",
    "results = []\n",
    "findNsum(sorted(nums), target,4,[], results)\n",
    "results"
   ]
  },
  {
   "cell_type": "code",
   "execution_count": 46,
   "metadata": {},
   "outputs": [],
   "source": [
    "#40. 4Sum II\n",
    "'''\n",
    "Given four integer arrays nums1, nums2, nums3, and nums4 all of length n, return the number of tuples (i, j, k, l) such that:\n",
    "\n",
    "0 <= i, j, k, l < n\n",
    "nums1[i] + nums2[j] + nums3[k] + nums4[l] == 0\n",
    " \n",
    "\n",
    "Example 1:\n",
    "\n",
    "Input: nums1 = [1,2], nums2 = [-2,-1], nums3 = [-1,2], nums4 = [0,2]\n",
    "Output: 2\n",
    "Explanation:\n",
    "The two tuples are:\n",
    "1. (0, 0, 0, 1) -> nums1[0] + nums2[0] + nums3[0] + nums4[1] = 1 + (-2) + (-1) + 2 = 0\n",
    "2. (1, 1, 0, 0) -> nums1[1] + nums2[1] + nums3[0] + nums4[0] = 2 + (-1) + (-1) + 0 = 0\n",
    "'''\n",
    "def fourSumCount(nums1,nums2,nums3,nums4) -> int:\n",
    "    dic={}\n",
    "    for a in nums1:\n",
    "        for b in nums2:\n",
    "            if a+b in dic:\n",
    "                dic[a+b]+=1\n",
    "            else:\n",
    "                dic[a+b]=1\n",
    "    ans=0 \n",
    "    for c in nums3:\n",
    "        for d in nums4:\n",
    "            if -(c+d) in dic:\n",
    "                ans+=dic[-(c+d)]\n",
    "    return ans"
   ]
  },
  {
   "cell_type": "code",
   "execution_count": 12,
   "metadata": {},
   "outputs": [
    {
     "data": {
      "text/plain": [
       "1355"
      ]
     },
     "execution_count": 12,
     "metadata": {},
     "output_type": "execute_result"
    }
   ],
   "source": [
    "#41. Factorial Trailing Zeroes\n",
    "'''\n",
    "Output: 0\n",
    "Explanation: 3! = 6, no trailing zero.\n",
    "\n",
    "Input: n = 5\n",
    "Output: 1\n",
    "Explanation: 5! = 120, one trailing zero.\n",
    "'''\n",
    "def trailingZeroes(n: int) -> int:\n",
    "    '''\n",
    "    def fact(n):\n",
    "        if n<2: return 1\n",
    "        return n*fact(n-1)\n",
    "    x = fact(n)\n",
    "    count=0\n",
    "    while x:\n",
    "        if x%10==0:\n",
    "            count+=1\n",
    "        else:\n",
    "            break\n",
    "        x=x//10\n",
    "    return count\n",
    "    '''\n",
    "    count=0\n",
    "    while(n):\n",
    "        n=n//5\n",
    "        count+=n\n",
    "    return count\n",
    "\n",
    "trailingZeroes(5430)"
   ]
  },
  {
   "cell_type": "code",
   "execution_count": 13,
   "metadata": {},
   "outputs": [
    {
     "data": {
      "text/plain": [
       "[2, 4, 6, 8, 10, 14]"
      ]
     },
     "execution_count": 13,
     "metadata": {},
     "output_type": "execute_result"
    }
   ],
   "source": [
    "#42. Powerful Integers\n",
    "'''\n",
    "Given three integers x, y, and bound, return a list of all the powerful integers that have a value less \n",
    "than or equal to bound.\n",
    "\n",
    "An integer is powerful if it can be represented as xi + yj for some integers i >= 0 and j >= 0.\n",
    "\n",
    "You may return the answer in any order. In your answer, each value should occur at most once.\n",
    "\n",
    "Input: x = 2, y = 3, bound = 10\n",
    "Output: [2,3,4,5,7,9,10]\n",
    "Explanation:\n",
    "2 = 20 + 30\n",
    "3 = 21 + 30\n",
    "4 = 20 + 31\n",
    "5 = 21 + 31\n",
    "7 = 22 + 31\n",
    "9 = 23 + 30\n",
    "10 = 20 + 32\n",
    "\n",
    "Input: x = 3, y = 5, bound = 15\n",
    "Output: [2,4,6,8,10,14]\n",
    "'''\n",
    "def powerfulIntegers(x,y,bound):\n",
    "    '''\n",
    "    ans=set()\n",
    "    for i in range(int(bound**0.5)+1):\n",
    "        for j in range(int(bound**0.5)+1):\n",
    "            if x**i + y**j <=bound:\n",
    "                ans.add(x**i + y**j)\n",
    "            else:\n",
    "                break\n",
    "    return list(ans)\n",
    "    '''\n",
    "    \n",
    "    res=set()\n",
    "    i=j=0\n",
    "    \n",
    "    while x**i < bound:\n",
    "        while x**i + y**j <=bound:\n",
    "            res.add(x**i+ y**j)\n",
    "            j+=1\n",
    "            if y==1: break     #the code might go into infinite loop if either x or y is 0\n",
    "        i+=1\n",
    "        j=0\n",
    "        if x==1: break\n",
    "    return list(res)\n",
    "\n",
    "x = 3; y = 5; bound = 15\n",
    "powerfulIntegers(x,y,bound)"
   ]
  },
  {
   "cell_type": "code",
   "execution_count": 50,
   "metadata": {},
   "outputs": [
    {
     "data": {
      "text/plain": [
       "(1, 2, 3)"
      ]
     },
     "execution_count": 50,
     "metadata": {},
     "output_type": "execute_result"
    }
   ],
   "source": [
    "#Print 3 smallest numbers in array:\n",
    "\n",
    "nums=[2,5,3,4,1]\n",
    "one=two=three=float('inf')\n",
    "\n",
    "for num in nums:\n",
    "    if num<one:\n",
    "        one,two,three=num,one,two\n",
    "    elif num<two and num>one:\n",
    "        two,three=num,two\n",
    "    elif num<three and num>two:\n",
    "        three=num\n",
    "one,two,three"
   ]
  },
  {
   "cell_type": "code",
   "execution_count": 51,
   "metadata": {},
   "outputs": [
    {
     "data": {
      "text/plain": [
       "(5, 4, 3)"
      ]
     },
     "execution_count": 51,
     "metadata": {},
     "output_type": "execute_result"
    }
   ],
   "source": [
    "#Print 3 largest numbers in array:\n",
    "nums=[2,5,3,4,1]\n",
    "one=two=three=float('-inf')\n",
    "for num in nums:\n",
    "    if num>one:\n",
    "        one,two,three=num,one,two\n",
    "    elif num>two and num<one:\n",
    "        two,three=num,two\n",
    "    elif num>three and num<two:\n",
    "        three=num\n",
    "one,two,three  "
   ]
  },
  {
   "cell_type": "code",
   "execution_count": 14,
   "metadata": {},
   "outputs": [
    {
     "data": {
      "text/plain": [
       "58"
      ]
     },
     "execution_count": 14,
     "metadata": {},
     "output_type": "execute_result"
    }
   ],
   "source": [
    "#43. Sum of All Odd Length Subarrays\n",
    "'''\n",
    "Given an array of positive integers arr, calculate the sum of all possible odd-length subarrays.\n",
    "\n",
    "A subarray is a contiguous subsequence of the array.\n",
    "\n",
    "Return the sum of all odd-length subarrays of arr.\n",
    "\n",
    "Input: arr = [1,4,2,5,3]\n",
    "Output: 58\n",
    "Explanation: The odd-length subarrays of arr and their sums are:\n",
    "[1] = 1\n",
    "[4] = 4\n",
    "[2] = 2\n",
    "[5] = 5\n",
    "[3] = 3\n",
    "[1,4,2] = 7\n",
    "[4,2,5] = 11\n",
    "[2,5,3] = 10\n",
    "[1,4,2,5,3] = 15\n",
    "If we add all these together we get 1 + 4 + 2 + 5 + 3 + 7 + 11 + 10 + 15 = 58\n",
    "'''\n",
    "def sumOddLengthSubarrays(arr) -> int:\n",
    "    res=0\n",
    "    for i in range(len(arr)):\n",
    "        for j in range(i,len(arr),2):\n",
    "            res+=sum(arr[i:j+1])\n",
    "    return res\n",
    "\n",
    "arr = [1,4,2,5,3]\n",
    "sumOddLengthSubarrays(arr)"
   ]
  },
  {
   "cell_type": "code",
   "execution_count": 15,
   "metadata": {},
   "outputs": [
    {
     "name": "stdout",
     "output_type": "stream",
     "text": [
      "[2, 3, 5, 7, 11, 13, 17, 19]\n"
     ]
    },
    {
     "data": {
      "text/plain": [
       "8"
      ]
     },
     "execution_count": 15,
     "metadata": {},
     "output_type": "execute_result"
    }
   ],
   "source": [
    "#44. Count Primes\n",
    "\n",
    "'''\n",
    "Input: n = 10\n",
    "Output: 4\n",
    "Explanation: There are 4 prime numbers less than 10, they are 2, 3, 5, 7.\n",
    "'''\n",
    "\n",
    "def countPrimes(n: int) -> int:\n",
    "    #1. TLE\n",
    "    '''\n",
    "    ans=0\n",
    "    for num in range(2,n):\n",
    "        count = 0\n",
    "        for i in range(1,num+1):\n",
    "            if num % i == 0 :\n",
    "                count += 1\n",
    "            if count>2:\n",
    "                break\n",
    "        if count==2:\n",
    "            ans+=1\n",
    "\n",
    "    return ans\n",
    "    '''\n",
    "    #2. TLE\n",
    "    '''\n",
    "    if n<=2: return 0\n",
    "    x = [True]*n\n",
    "    x[0]=x[1]=False\n",
    "    for i in range(2,n//2+1):\n",
    "        for num in range(2*i,n):  \n",
    "            if num%i==0:\n",
    "                x[num]=False\n",
    "    return x.count(True)\n",
    "    '''    \n",
    "    #3. - Slow\n",
    "    '''\n",
    "    if n<=2: return 0\n",
    "    x = [True]*n\n",
    "    x[0]=x[1]=False\n",
    "    for i in range(2,int(n**0.5)+1):  #optimizations:  n => n//2 => sqrt(n)\n",
    "        for num in range(i*i,n,i):  #optimizations: start => i+1 => 2*i => i*i with jumps of i\n",
    "            x[num]=False\n",
    "    return sum(x)\n",
    "    '''\n",
    "    #4. Fast\n",
    "    if n<=2: return 0\n",
    "    x = [True]*n\n",
    "    x[0]=x[1]=False\n",
    "    for i in range(2,int(n**0.5)+1): \n",
    "        if x[i]==True:\n",
    "            x[i*i:n:i] = [False]*len(x[i*i:n:i])\n",
    "    print([ i for i in range(n) if x[i]==True])\n",
    "    return sum(x)\n",
    "\n",
    "countPrimes(20)"
   ]
  },
  {
   "cell_type": "markdown",
   "metadata": {},
   "source": [
    "Sieve of Eratosthenes\n",
    "\n",
    "\n",
    "In mathematics, the sieve of Eratosthenes is an ancient algorithm for finding all prime numbers up to any given limit.\n",
    "\n",
    "It does so by iteratively marking as composite (i.e., not prime) the multiples of each prime, starting with the first prime number, 2. The multiples of a given prime are generated as a sequence of numbers starting from that prime, with constant difference between them that is equal to that prime.[1] This is the sieve's key distinction from using trial division to sequentially test each candidate number for divisibility by each prime.[2] Once all the multiples of each discovered prime have been marked as composites, the remaining unmarked numbers are primes.\n",
    "\n",
    "<img src =\"https://upload.wikimedia.org/wikipedia/commons/b/b9/Sieve_of_Eratosthenes_animation.gif\">"
   ]
  },
  {
   "cell_type": "code",
   "execution_count": 16,
   "metadata": {},
   "outputs": [],
   "source": [
    "#45.Shuffle an Array\n",
    "'''\n",
    "Given an integer array nums, design an algorithm to randomly shuffle the array.\n",
    "\n",
    "Implement the Solution class:\n",
    "\n",
    "Solution(int[] nums) Initializes the object with the integer array nums.\n",
    "int[] reset() Resets the array to its original configuration and returns it.\n",
    "int[] shuffle() Returns a random shuffling of the array.\n",
    "\n",
    "Input\n",
    "[\"Solution\", \"shuffle\", \"reset\", \"shuffle\"]\n",
    "[[[1, 2, 3]], [], [], []]\n",
    "Output\n",
    "[null, [3, 1, 2], [1, 2, 3], [1, 3, 2]]\n",
    "'''\n",
    "\n",
    "'''\n",
    "Fisher-Yates Algorithm\n",
    "https://www.youtube.com/watch?v=Uch00ZGPdG8\n",
    "\n",
    "On each iteration of the algorithm, we generate a random integer between the current index and the last index of the \n",
    "array. Then, we swap the elements at the current index and the chosen index - this simulates drawing (and removing)\n",
    "the element from the hat, as the next range from which we select a random index will not include the most recently\n",
    "processed one.\n",
    "One small, yet important detail is that it is possible to swap an element with itself - otherwise, some array\n",
    "permutations would be more likely than others.\n",
    "'''\n",
    "class Solution:\n",
    "    import random\n",
    "    def __init__(self, nums):\n",
    "        self.nums = nums\n",
    "\n",
    "    def reset(self):\n",
    "        \"\"\"\n",
    "        Resets the array to its original configuration and return it.\n",
    "        \"\"\"\n",
    "        return self.nums\n",
    "        \n",
    "\n",
    "    def shuffle(self):\n",
    "        \"\"\"\n",
    "        Returns a random shuffling of the array.\n",
    "        \"\"\"\n",
    "        res = self.nums[:]\n",
    "        for i in range(len(res)):\n",
    "            j = random.randrange(i,len(res))\n",
    "            res[i],res[j]=res[j],res[i]\n",
    "        return res\n",
    "        "
   ]
  },
  {
   "cell_type": "code",
   "execution_count": 17,
   "metadata": {},
   "outputs": [
    {
     "data": {
      "text/plain": [
       "1"
      ]
     },
     "execution_count": 17,
     "metadata": {},
     "output_type": "execute_result"
    }
   ],
   "source": [
    "#46. The Number of Full Rounds You Have Played\n",
    "'''\n",
    "A new online video game has been released, and in this video game, there are 15-minute rounds scheduled every \n",
    "quarter-hour period. This means that at HH:00, HH:15, HH:30 and HH:45, a new round starts, where HH represents an\n",
    "integer number from 00 to 23. A 24-hour clock is used, so the earliest time in the day is 00:00 and the latest \n",
    "is 23:59.\n",
    "\n",
    "Given two strings startTime and finishTime in the format \"HH:MM\" representing the exact time you started and finished\n",
    "playing the game, respectively, calculate the number of full rounds that you played during your game session.\n",
    "\n",
    "For example, if startTime = \"05:20\" and finishTime = \"05:59\" this means you played only one full round from 05:30\n",
    "to 05:45. You did not play the full round from 05:15 to 05:30 because you started after the round began, and you \n",
    "did not play the full round from 05:45 to 06:00 because you stopped before the round ended.\n",
    "\n",
    "If finishTime is earlier than startTime, this means you have played overnight (from startTime to the midnight and\n",
    "from midnight to finishTime).\n",
    "\n",
    "Return the number of full rounds that you have played if you had started playing at startTime and finished at\n",
    "finishTime.\n",
    "\n",
    "Example 1:\n",
    "\n",
    "Input: startTime = \"12:01\", finishTime = \"12:44\"\n",
    "Output: 1\n",
    "Explanation: You played one full round from 12:15 to 12:30.\n",
    "You did not play the full round from 12:00 to 12:15 because you started playing at 12:01 after it began.\n",
    "You did not play the full round from 12:30 to 12:45 because you stopped playing at 12:44 before it ended.\n",
    "\n",
    "Example 2:\n",
    "\n",
    "Input: startTime = \"20:00\", finishTime = \"06:00\"\n",
    "Output: 40\n",
    "Explanation: You played 16 full rounds from 20:00 to 00:00 and 24 full rounds from 00:00 to 06:00.\n",
    "16 + 24 = 40.\n",
    "'''\n",
    "def numberOfRounds(startTime: str, finishTime: str) -> int:\n",
    "    def timeInMinutes(time):\n",
    "        hh,mm = time.split(\":\")\n",
    "        return int(hh)*60 + int(mm)\n",
    "    \n",
    "    start = timeInMinutes(startTime)\n",
    "    end = timeInMinutes(finishTime)\n",
    "    if end<start:\n",
    "        end+=1440\n",
    "    \n",
    "    #start = ceil(start/15)\n",
    "    #end = floor(end/15)\n",
    "    \n",
    "    start = (start+14) //15 #ceil\n",
    "    end = end//15 #floor\n",
    "\n",
    "    return max(0,end-start)\n",
    "\n",
    "startTime = \"12:01\"; finishTime = \"12:44\"\n",
    "numberOfRounds(startTime, finishTime)"
   ]
  },
  {
   "cell_type": "code",
   "execution_count": null,
   "metadata": {},
   "outputs": [],
   "source": [
    "#47. Merge Intervals\n",
    "'''\n",
    "Given an array of intervals where intervals[i] = [starti, endi], merge all overlapping intervals, \n",
    "and return an array of the non-overlapping intervals that cover all the intervals in the input.\n",
    "\n",
    "\n",
    "Input: intervals = [[1,3],[2,6],[8,10],[15,18]]\n",
    "Output: [[1,6],[8,10],[15,18]]\n",
    "Explanation: Since intervals [1,3] and [2,6] overlaps, merge them into [1,6].\n",
    "\n",
    "Input: intervals = [[1,4],[4,5]]\n",
    "Output: [[1,5]]\n",
    "Explanation: Intervals [1,4] and [4,5] are considered overlapping.\n",
    "'''\n",
    "def merge(intervals):\n",
    "    if len(intervals) == 0: return []\n",
    "    res=[]\n",
    "    intervals = sorted(intervals, key = lambda x: x[0]) #to avoid cases like this: [[1,4],[0,4]]\n",
    "    \n",
    "    for interval in intervals:\n",
    "        '''\n",
    "        if the list of merged intervals is empty  or if the current interval does \n",
    "        not overlap with the previous, simply append it.\n",
    "        '''\n",
    "        if not res or interval[0]>res[-1][1]:\n",
    "            res.append(interval)\n",
    "        \n",
    "        #If there is an overlap, we merge the current and previous intervals.\n",
    "        else:\n",
    "            res[-1][1]=max(interval[1],res[-1][1])\n",
    "    return res\n",
    "'''\n",
    "What we're trying to do is to merge intervals with overlap right? One a piece of paper try to merge \n",
    "a = [1,3] and b = [2,5]. How will you do that? If the right side of a (basically a[1]) is larger than the left\n",
    "side of b (meaning b[0]), then you can merge them. Otherwise, you can't. Makes sense? So basically,\n",
    "you go overe all the intervals in intervals list, check them one by one and see whether they have overlap or not. \n",
    "Merge them if they had overlap, otherwise, add them to the res variable without any change.\n",
    "\n",
    "Note that if there is no interval in intervals, we don't need to do anything right? (line #1), we return []. \n",
    "In order to formalize this, we first sort the array (line #2). Check sorted. Unlike to sort(), sorted accepts a \n",
    "key by which you can do useful stuff. We sort here by first element of each interval. \n",
    "Once we sort it, we add the first interval to the output res. Note that, the first element of first interval should \n",
    "have the least amount of all. Let's say res = [[c,d]]. Now, we check the rest of intervals . Let's say the next\n",
    "interval is[e,f]. There are two possibilities! Either e <= d or e > d, right? If e > d, the intervals don't \n",
    "have any overlap. But, if e <=d, there is an overlap for sure (or at least we have e = d which still\n",
    "means that if f > e , we should merge the two intervals. That's what we're doing here.\n",
    "\n",
    "current interval is compared with the last interval in the res, why? Because the last interval is an interval \n",
    "without any overlap to the interval before it in res, except if there's only one interval in res, and\n",
    "since we've sorted the list initially, current should not have any overlap with intervals before res[-1].\n",
    "Makes sense? So if e <= d, we change d with f . Otherwise, we append the current interval to res. \n",
    "We keep doing it until the last interval in intervals is visited.\n",
    "'''\n",
    "\n",
    "\n",
    "intervals = [[1,3],[2,6],[8,10],[15,18]]\n",
    "merge(intervals)"
   ]
  },
  {
   "cell_type": "code",
   "execution_count": 21,
   "metadata": {},
   "outputs": [
    {
     "data": {
      "text/plain": [
       "1"
      ]
     },
     "execution_count": 21,
     "metadata": {},
     "output_type": "execute_result"
    }
   ],
   "source": [
    "#48. Non-overlapping Intervals\n",
    "'''\n",
    "Given an array of intervals intervals where intervals[i] = [starti, endi], return the minimum number of intervals \n",
    "you need to remove to make the rest of the intervals non-overlapping.\n",
    "\n",
    "\n",
    "Input: intervals = [[1,2],[2,3],[3,4],[1,3]]\n",
    "Output: 1\n",
    "Explanation: [1,3] can be removed and the rest of the intervals are non-overlapping.\n",
    "\n",
    "Input: intervals = [[1,2],[1,2],[1,2]]\n",
    "Output: 2\n",
    "Explanation: You need to remove two [1,2] to make the rest of the intervals non-overlapping.\n",
    "\n",
    "Input: intervals = [[1,2],[2,3]]\n",
    "Output: 0\n",
    "Explanation: You don't need to remove any of the intervals since they're already non-overlapping.\n",
    "'''\n",
    "\n",
    "'''\n",
    "Sort the intervals by their start time. \n",
    "If two intervals overlap, the interval with larger end time will be removed so as to have as little \n",
    "impact on subsequent intervals as possible.\n",
    "\n",
    "\n",
    "For example consider the sorted array:\n",
    "[[1,2],[1,3],[2,3],[3,4]]\n",
    "Start from the beginning,\n",
    "\n",
    "[[1,2], [1,3]]-> it's obvious these two overlap; would there be any reason to keep [1,3] instead of [1,2]? \n",
    "        No. Because it will only decrease the number of intervals we can fit without causing overlaps.\n",
    "        So we keep [1,2], aka the interval with the smaller ending.\n",
    "[[1,2], [2,3]]-> No overlap here, we can keep both. now the \"most recent interval\" is [2,3]\n",
    "[[2,3],[3,4]] -> No overlap here, we can keep both. now the \"most recent interval\" is [3,4]\n",
    "We can fit 3 intervals without overlap, so we return len(s)-3=4-3=1\n",
    "Generalized algorithm:\n",
    "sort the array and keep track of the last interval's ending point as prev_end\n",
    "if prev_end > start: current window is overlapping, so we increment ans and keep the one with minimum end time.\n",
    "\n",
    "'''\n",
    "def eraseOverlapIntervals(intervals):\n",
    "    intervals.sort(key=lambda x:x[0])\n",
    "    prev_end = intervals[0][1]\n",
    "    ans=0\n",
    "    for start,end in intervals[1:]:\n",
    "        if prev_end>start:   #overlapping\n",
    "            ans+=1     \n",
    "            prev_end = min(end,prev_end)    # erase the one with larger end time\n",
    "        else:                #non-overlapping : start>=prev_end\n",
    "            prev_end = end   \n",
    "    return ans\n",
    "    \n",
    "intervals = [[1,2],[2,3],[3,4],[1,3]]\n",
    "eraseOverlapIntervals(intervals)"
   ]
  },
  {
   "cell_type": "code",
   "execution_count": 23,
   "metadata": {},
   "outputs": [
    {
     "data": {
      "text/plain": [
       "2"
      ]
     },
     "execution_count": 23,
     "metadata": {},
     "output_type": "execute_result"
    }
   ],
   "source": [
    "#49. Minimum Number of Arrows to Burst Balloons\n",
    "'''\n",
    "There are some spherical balloons spread in two-dimensional space. For each balloon, provided input is the start and\n",
    "end coordinates of the horizontal diameter. Since it's horizontal, y-coordinates don't matter, and hence the \n",
    "x-coordinates of start and end of the diameter suffice. The start is always smaller than the end.\n",
    "\n",
    "An arrow can be shot up exactly vertically from different points along the x-axis. A balloon with xstart and xend\n",
    "bursts by an arrow shot at x if xstart ≤ x ≤ xend. There is no limit to the number of arrows that can be shot.\n",
    "An arrow once shot keeps traveling up infinitely.\n",
    "\n",
    "Given an array points where points[i] = [xstart, xend], return the minimum number of arrows that must be shot to\n",
    "burst all balloons.\n",
    "\n",
    "Input: points = [[10,16],[2,8],[1,6],[7,12]]\n",
    "Output: 2\n",
    "Explanation: One way is to shoot one arrow for example at x = 6 (bursting the balloons [2,8] and [1,6]) and \n",
    "another arrow at x = 11 (bursting the other two balloons).\n",
    "\n",
    "Input: points = [[1,2],[3,4],[5,6],[7,8]]\n",
    "Output: 4\n",
    "\n",
    "Input: points = [[1,2],[2,3],[3,4],[4,5]]\n",
    "Output: 2\n",
    "'''\n",
    "def findMinArrowShots(points):\n",
    "    '''\n",
    "    This problem is almost identical to Non-overlapping Intervals problem, but here we need to find not how many \n",
    "    intervals we need to remove, but how many non-overlapping intervals we have. Also one small difference is that\n",
    "    here intervals [1,2] and [2,3] overlapping, because they have common end.\n",
    "    '''\n",
    "    #1. Sorting by Start time\n",
    "    '''\n",
    "    points.sort(key= lambda x: x[0])\n",
    "    ans=1\n",
    "    prev_end=points[0][1]\n",
    "    for start,end in points[1:]:\n",
    "        if prev_end>=start:  #overlap\n",
    "            prev_end = min(prev_end,end)\n",
    "        else:      \n",
    "            ans+=1\n",
    "            prev_end=end\n",
    "    return ans\n",
    "    '''\n",
    "    #2. Sorting by End time\n",
    "    '''\n",
    "    we can sort the array of balloons by their ending position. Then we make sure that while we take care of each \n",
    "    balloon in order, we can shoot as many following balloons as possible.\n",
    "    So what position should we pick each time? We should shoot as to the right as possible, because since balloons\n",
    "    are sorted, this gives you the best chance to take down more balloons. Therefore the position should always be \n",
    "    balloon[i][1] for the ith balloon.\n",
    "    '''\n",
    "    points.sort(key= lambda x: x[1])\n",
    "    ans=1\n",
    "    prev_end=points[0][1]\n",
    "    for start,end in points[1:]:\n",
    "        if start>prev_end:      #non-overlapping interval  \n",
    "            ans+=1\n",
    "            prev_end=end\n",
    "    return ans\n",
    "\n",
    "points = [[1,2],[2,3],[3,4],[4,5]]\n",
    "findMinArrowShots(points)"
   ]
  },
  {
   "cell_type": "code",
   "execution_count": 11,
   "metadata": {},
   "outputs": [
    {
     "data": {
      "text/plain": [
       "False"
      ]
     },
     "execution_count": 11,
     "metadata": {},
     "output_type": "execute_result"
    }
   ],
   "source": [
    "#50. Meeting Rooms\n",
    "'''\n",
    "Given an array of meeting time intervals where intervals[i] = [starti, endi], determine if a person could \n",
    "attend all meetings.\n",
    "\n",
    "\n",
    "Input: intervals = [[0,30],[5,10],[15,20]]\n",
    "Output: false\n",
    "\n",
    "Input: intervals = [[7,10],[2,4]]\n",
    "Output: true\n",
    "'''\n",
    "def canAttendMeetings(intervals) -> bool:\n",
    "    if len(intervals)<=1: return True\n",
    "    intervals.sort()\n",
    "    prev_end = intervals[0][1]\n",
    "    for start,end in intervals[1:]:\n",
    "        if prev_end >start:    #overlapping\n",
    "            return False\n",
    "        else:\n",
    "            prev=end\n",
    "    return True\n",
    "\n",
    "intervals = [[0,30],[5,10],[15,20]]\n",
    "canAttendMeetings(intervals)"
   ]
  },
  {
   "cell_type": "code",
   "execution_count": 22,
   "metadata": {},
   "outputs": [
    {
     "data": {
      "text/plain": [
       "2"
      ]
     },
     "execution_count": 22,
     "metadata": {},
     "output_type": "execute_result"
    }
   ],
   "source": [
    "#51. Meeting Rooms II\n",
    "\n",
    "'''\n",
    "Given an array of meeting time intervals intervals where intervals[i] = [starti, endi], return the minimum\n",
    "number of conference rooms required.\n",
    "\n",
    "Input: intervals = [[0,30],[5,10],[15,20]]\n",
    "Output: 2\n",
    "\n",
    "Input: intervals = [[7,10],[2,4]]\n",
    "Output: 1\n",
    "'''\n",
    "\n",
    "'''\n",
    "1. We need to know when we need a new room and when we can share the room.\n",
    "2. We sort the interval time slot by the start time.\n",
    "3. The definition of overlap: the end time of the current time slot is larger than the start time of the next\n",
    "    time slot, [1,11],[10,19], 11 > 10, there is an overlap\n",
    "4. If there is an overlap between the current time slot and the smallest end time in the minimum heap. We need\n",
    "    a new room for the meeting.\n",
    "5. If there is no overlap between the current time and the smallest end time in the minimum heap, we don't need a\n",
    "    new room for the meeting since we can use the the same room of the smallest end time. But we still need the end\n",
    "    time in the future to help us decide whether we have an overlap or not.\n",
    "6. We use a minimum heap to store the k-largest end time we meet until now. If the current time slot's start time is\n",
    "    larger than the smallest end time in the minimum heap ==> we don't have overlap ==> we don't need a new room ==> we\n",
    "    can share the room with the smallest end time in the minimum heap. However, we need to update the minimum heap by\n",
    "    using replace method. If the current time slot's begin time is less than the smallest end time in the minimum\n",
    "    heap, we have an overlap now, i.e., we need a new room, we need to push the current time slot's end time into the\n",
    "    minimum heap.\n",
    "7. heapq.heapreplace(heap, item) =>Pop and return the smallest item from the heap, and also push the new item. \n",
    "    The heap size doesn't change.\n",
    "'''\n",
    "import heapq\n",
    "def minMeetingRooms(intervals):\n",
    "    if not intervals: return 0\n",
    "    intervals.sort(key= lambda x: x[0])\n",
    "    \n",
    "    heap=[]       #to store the number of meeting rooms occupied\n",
    "    for start,end in intervals:\n",
    "        if heap and start>=heap[0]: #non-overlapping intervals- # don't need a new meeting room, just update the end time\n",
    "            heapq.heapreplace(heap,end) #heapreplace: pop the element from top of the heap and push new element \n",
    "        else:\n",
    "            heapq.heappush(heap,end) # a new room is allocated (overlap)\n",
    "    return len(heap)\n",
    "\n",
    "intervals = [[9,10],[4,9],[4,17]]\n",
    "minMeetingRooms(intervals)"
   ]
  },
  {
   "cell_type": "code",
   "execution_count": 28,
   "metadata": {},
   "outputs": [
    {
     "data": {
      "text/plain": [
       "[[1, 2], [5, 5], [8, 10], [15, 23], [24, 24], [25, 25]]"
      ]
     },
     "execution_count": 28,
     "metadata": {},
     "output_type": "execute_result"
    }
   ],
   "source": [
    "#52. Interval List Intersections\n",
    "'''\n",
    "You are given two lists of closed intervals, firstList and secondList, where firstList[i] = [starti, endi] and\n",
    "secondList[j] = [startj, endj]. Each list of intervals is pairwise disjoint and in sorted order.\n",
    "\n",
    "Return the intersection of these two interval lists.\n",
    "\n",
    "A closed interval [a, b] (with a < b) denotes the set of real numbers x with a <= x <= b.\n",
    "\n",
    "The intersection of two closed intervals is a set of real numbers that are either empty or represented as a closed\n",
    "interval. For example, the intersection of [1, 3] and [2, 4] is [2, 3].\n",
    "\n",
    "\n",
    "Input: firstList = [[0,2],[5,10],[13,23],[24,25]], secondList = [[1,5],[8,12],[15,24],[25,26]]\n",
    "Output: [[1,2],[5,5],[8,10],[15,23],[24,24],[25,25]]\n",
    "'''\n",
    "def intervalIntersection(firstList, secondList):\n",
    "    ans=[]\n",
    "    if not firstList or not secondList: return []\n",
    "    i,j=0,0\n",
    "    while i<len(firstList) and j<len(secondList):\n",
    "        x  = max(firstList[i][0],secondList[j][0])\n",
    "        y  = min(firstList[i][1],secondList[j][1])\n",
    "        if x<=y:\n",
    "            ans.append([x,y]) \n",
    "        \n",
    "        if firstList[i][1]<secondList[j][1]:\n",
    "            i+=1\n",
    "        else:\n",
    "            j+=1\n",
    "    return ans\n",
    "    \n",
    "firstList = [[0,2],[5,10],[13,23],[24,25]]; secondList = [[1,5],[8,12],[15,24],[25,26]]\n",
    "intervalIntersection(firstList, secondList)"
   ]
  },
  {
   "cell_type": "code",
   "execution_count": 29,
   "metadata": {},
   "outputs": [
    {
     "data": {
      "text/plain": [
       "[60, 68]"
      ]
     },
     "execution_count": 29,
     "metadata": {},
     "output_type": "execute_result"
    }
   ],
   "source": [
    "#53. Meeting Scheduler\n",
    "'''\n",
    "Given the availability time slots arrays slots1 and slots2 of two people and a meeting duration duration, return the \n",
    "earliest time slot that works for both of them and is of duration duration.\n",
    "\n",
    "If there is no common time slot that satisfies the requirements, return an empty array.\n",
    "\n",
    "The format of a time slot is an array of two elements [start, end] representing an inclusive time range from start to\n",
    "end.\n",
    "\n",
    "It is guaranteed that no two availability slots of the same person intersect with each other. That is, for any two \n",
    "time slots [start1, end1] and [start2, end2] of the same person, either start1 > end2 or start2 > end1.\n",
    "\n",
    "\n",
    "Input: slots1 = [[10,50],[60,120],[140,210]], slots2 = [[0,15],[60,70]], duration = 8\n",
    "Output: [60,68]\n",
    "\n",
    "Input: slots1 = [[10,50],[60,120],[140,210]], slots2 = [[0,15],[60,70]], duration = 12\n",
    "Output: []\n",
    "'''\n",
    "def minAvailableDuration(slots1, slots2, duration):\n",
    "    i=j=0\n",
    "    slots1.sort(key = lambda x: x[0])\n",
    "    slots2.sort(key = lambda x: x[0])\n",
    "    while i< len(slots1) and j<len(slots2):\n",
    "        x = max(slots1[i][0],slots2[j][0])\n",
    "        y = min(slots1[i][1],slots2[j][1])\n",
    "        \n",
    "        if y-x>= duration:\n",
    "            return [x,x+duration]\n",
    "            \n",
    "        if slots1[i][1] <= slots2[j][1]:\n",
    "            i+=1\n",
    "        else:\n",
    "            j+=1\n",
    "    return []\n",
    "  \n",
    "    \n",
    "slots1 = [[10,50],[60,120],[140,210]]; slots2 = [[0,15],[60,70]]; duration = 8\n",
    "minAvailableDuration(slots1, slots2, duration)"
   ]
  },
  {
   "cell_type": "code",
   "execution_count": null,
   "metadata": {},
   "outputs": [],
   "source": []
  }
 ],
 "metadata": {
  "kernelspec": {
   "display_name": "Python 3",
   "language": "python",
   "name": "python3"
  },
  "language_info": {
   "codemirror_mode": {
    "name": "ipython",
    "version": 3
   },
   "file_extension": ".py",
   "mimetype": "text/x-python",
   "name": "python",
   "nbconvert_exporter": "python",
   "pygments_lexer": "ipython3",
   "version": "3.8.5"
  }
 },
 "nbformat": 4,
 "nbformat_minor": 2
}
