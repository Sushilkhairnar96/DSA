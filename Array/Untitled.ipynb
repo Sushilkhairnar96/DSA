{
 "cells": [
  {
   "cell_type": "code",
   "execution_count": 1,
   "metadata": {},
   "outputs": [
    {
     "name": "stdout",
     "output_type": "stream",
     "text": [
      "1\n",
      "12\n",
      "123\n"
     ]
    }
   ],
   "source": [
    "x=[1,2,3]\n",
    "ans=0\n",
    "for i in x:\n",
    "    ans*=10\n",
    "    ans+=i\n",
    "    print(ans)"
   ]
  },
  {
   "cell_type": "code",
   "execution_count": 18,
   "metadata": {},
   "outputs": [
    {
     "name": "stdout",
     "output_type": "stream",
     "text": [
      "2\n",
      "1\n",
      "t\n"
     ]
    }
   ],
   "source": [
    "'''\n",
    "Input: [0,3,2,1]\n",
    "Output: true\n",
    "'''\n",
    "nums= [0,3,1,0]\n",
    "#nums=[0,2,3,4,5,2,1,0]\n",
    "for i in range(1,len(nums)):\n",
    "    if nums[i]>nums[i-1]:\n",
    "        pass\n",
    "    else:\n",
    "        break\n",
    "print(i)\n",
    "for j in range(i,len(nums)-1):\n",
    "    if nums[j]>nums[j+1]:\n",
    "        print(nums[j])\n",
    "        pass\n",
    "    else:\n",
    "        print(\"F\")\n",
    "print(\"t\")"
   ]
  },
  {
   "cell_type": "code",
   "execution_count": 19,
   "metadata": {},
   "outputs": [
    {
     "data": {
      "text/plain": [
       "[1, 3, 12, 0, 0]"
      ]
     },
     "execution_count": 19,
     "metadata": {},
     "output_type": "execute_result"
    }
   ],
   "source": [
    "ans=[]\n",
    "nums=[0,1,0,3,12]\n",
    "cnt=0\n",
    "for i in range(len(nums)):\n",
    "    if nums[i]!=0:\n",
    "        ans.append(nums[i])\n",
    "    else:\n",
    "        cnt+=1\n",
    "ans + [0]*cnt"
   ]
  },
  {
   "cell_type": "code",
   "execution_count": 3,
   "metadata": {},
   "outputs": [
    {
     "ename": "NameError",
     "evalue": "name 'nums' is not defined",
     "output_type": "error",
     "traceback": [
      "\u001b[1;31m---------------------------------------------------------------------------\u001b[0m",
      "\u001b[1;31mNameError\u001b[0m                                 Traceback (most recent call last)",
      "\u001b[1;32m<ipython-input-3-039003c29393>\u001b[0m in \u001b[0;36m<module>\u001b[1;34m\u001b[0m\n\u001b[1;32m----> 1\u001b[1;33m \u001b[1;32mfor\u001b[0m \u001b[0mi\u001b[0m\u001b[1;33m,\u001b[0m\u001b[0mv\u001b[0m \u001b[1;32min\u001b[0m \u001b[0menumerate\u001b[0m\u001b[1;33m(\u001b[0m\u001b[0mnums\u001b[0m\u001b[1;33m)\u001b[0m\u001b[1;33m:\u001b[0m\u001b[1;33m\u001b[0m\u001b[1;33m\u001b[0m\u001b[0m\n\u001b[0m\u001b[0;32m      2\u001b[0m     \u001b[0mprint\u001b[0m\u001b[1;33m(\u001b[0m\u001b[0mi\u001b[0m\u001b[1;33m,\u001b[0m\u001b[0mv\u001b[0m\u001b[1;33m)\u001b[0m\u001b[1;33m\u001b[0m\u001b[1;33m\u001b[0m\u001b[0m\n",
      "\u001b[1;31mNameError\u001b[0m: name 'nums' is not defined"
     ]
    }
   ],
   "source": [
    "for i,v in enumerate(nums):\n",
    "    print(i,v)"
   ]
  },
  {
   "cell_type": "code",
   "execution_count": 16,
   "metadata": {},
   "outputs": [
    {
     "data": {
      "text/plain": [
       "1"
      ]
     },
     "execution_count": 16,
     "metadata": {},
     "output_type": "execute_result"
    }
   ],
   "source": [
    "nums= [1,2,2,2,2,2,2,2,2,2,2,2,2,2,2,2,2,2,2,3]\n",
    "round(len(nums)*0.05)"
   ]
  },
  {
   "cell_type": "code",
   "execution_count": 11,
   "metadata": {},
   "outputs": [
    {
     "data": {
      "text/plain": [
       "2"
      ]
     },
     "execution_count": 11,
     "metadata": {},
     "output_type": "execute_result"
    }
   ],
   "source": [
    "s = \"1+(2*3)/(2-1)\"\n",
    "digits = []\n",
    "operators = []\n",
    "op = \"* / + - %\".split(\" \")\n",
    "ans=0\n",
    "for st in s:\n",
    "    if st.isdigit():\n",
    "        digits.append(st)\n",
    "    elif st in op:\n",
    "        operators.append(st)\n",
    "    elif st==\"(\":\n",
    "        digits.append(st)\n",
    "    else:\n",
    "        a=digits.pop(-1)\n",
    "        b=digits.pop(-2)\n",
    "        if b!=\"(\":\n",
    "            c=digits.pop(-3)\n",
    "            ans = int(a) "
   ]
  },
  {
   "cell_type": "code",
   "execution_count": 79,
   "metadata": {},
   "outputs": [
    {
     "name": "stdout",
     "output_type": "stream",
     "text": [
      "['('] 1\n",
      "['(', '1'] 1\n",
      "['(', '1', '('] 2\n"
     ]
    },
    {
     "data": {
      "text/plain": [
       "2"
      ]
     },
     "execution_count": 79,
     "metadata": {},
     "output_type": "execute_result"
    }
   ],
   "source": [
    "s = \"(1())\"\n",
    "stack=[]\n",
    "op = \"* / + - %\".split(\" \")\n",
    "max_ans=ans=0\n",
    "for i in range(len(s)):\n",
    "    if s[i] != \")\":\n",
    "        stack.append(s[i])\n",
    "        ans=0\n",
    "        for j in stack:\n",
    "            if j==\"(\":\n",
    "                ans+=1\n",
    "        max_ans= max(ans,max_ans)\n",
    "        print(stack,max_ans)\n",
    "    else:\n",
    "        if stack[-1]==\"(\":\n",
    "            ans+=1\n",
    "        while stack[-1]!=\"(\":\n",
    "            stack.pop()\n",
    "        stack.pop()\n",
    "    \n",
    "max_ans"
   ]
  },
  {
   "cell_type": "code",
   "execution_count": 9,
   "metadata": {},
   "outputs": [
    {
     "name": "stdout",
     "output_type": "stream",
     "text": [
      "[100] []\n",
      "[100] ['*']\n",
      "[100] ['*', '(']\n",
      "[100, 2] ['*', '(']\n",
      "[100, 2] ['*', '(', '+']\n",
      "[100, 2, 12] ['*', '(', '+']\n",
      "[100, 14] ['*']\n"
     ]
    },
    {
     "data": {
      "text/plain": [
       "1400"
      ]
     },
     "execution_count": 9,
     "metadata": {},
     "output_type": "execute_result"
    }
   ],
   "source": [
    "def precedence(op):\n",
    "    if op==\"+\" or op==\"-\": return 1\n",
    "    if op==\"*\" or op==\"/\" : return 2\n",
    "    return 0\n",
    "\n",
    "def applyOp(a, b, op):\n",
    "    if op == '+': return a + b\n",
    "    if op == '-': return a - b\n",
    "    if op == '*': return a * b\n",
    "    if op == '/': return a // b\n",
    "\n",
    "def evaluate(tokens):\n",
    "    values=[]\n",
    "    ops=[]\n",
    "    i=0\n",
    "    while i < len(tokens):\n",
    "        if tokens[i]==' ':\n",
    "            i+=1\n",
    "            continue\n",
    "        elif tokens[i]=='(':\n",
    "            ops.append(tokens[i])\n",
    "        elif tokens[i].isdigit():\n",
    "            val=0\n",
    "            while i<len(tokens) and tokens[i].isdigit():\n",
    "                val = (10*val) + int(tokens[i])\n",
    "                i+=1\n",
    "            values.append(val)\n",
    "            i-=1\n",
    "        elif tokens[i]==')':\n",
    "            while len(ops)!=0 and ops[-1]!='(':\n",
    "                val2=values.pop()\n",
    "                val1=values.pop()\n",
    "                op=ops.pop()\n",
    "                values.append(applyOp(val1, val2, op))\n",
    "            ops.pop()\n",
    "        else:\n",
    "            while len(ops)!=0 and precedence(ops[-1]) >= precedence(tokens[i]):\n",
    "                val2=values.pop()\n",
    "                val1=values.pop()\n",
    "                op=ops.pop()\n",
    "                values.append(applyOp(val1, val2, op))\n",
    "            ops.append(tokens[i])\n",
    "        i+=1\n",
    "        print(values,ops)\n",
    "    while len(ops) != 0:\n",
    "        val2=values.pop()\n",
    "        val1=values.pop()\n",
    "        op=ops.pop()\n",
    "        values.append(applyOp(val1, val2, op))\n",
    "    \n",
    "    return values[-1]\n",
    "\n",
    "evaluate(\"100 * ( 2 + 12 )\")"
   ]
  },
  {
   "cell_type": "code",
   "execution_count": 24,
   "metadata": {},
   "outputs": [
    {
     "data": {
      "text/plain": [
       "90"
      ]
     },
     "execution_count": 24,
     "metadata": {},
     "output_type": "execute_result"
    }
   ],
   "source": [
    "ord('Z')"
   ]
  },
  {
   "cell_type": "code",
   "execution_count": 47,
   "metadata": {},
   "outputs": [
    {
     "name": "stdout",
     "output_type": "stream",
     "text": [
      "['l', 'a', 'e', 'l'] b T\n",
      "['l', 'a', 'l'] e T\n",
      "['r', 'o', 'l', 'l', 'r'] e T\n",
      "['a', 'l'] l T\n",
      "['r', 'o', 'l', 'r'] l T\n",
      "['a'] l T\n",
      "['r', 'o', 'r'] l T\n",
      "[] a T\n"
     ]
    },
    {
     "data": {
      "text/plain": [
       "['e', 'l', 'l']"
      ]
     },
     "execution_count": 47,
     "metadata": {},
     "output_type": "execute_result"
    }
   ],
   "source": [
    "#Input: [\"bella\",\"label\",\"roller\"]\n",
    "#Output: [\"e\",\"l\",\"l\"]\n",
    "A=   [\"bella\",\"label\",\"roller\"]\n",
    "B = [list(i) for i in A[1:]]\n",
    "ans=[]\n",
    "st= list(A[0])\n",
    "for j in range(len(st)):\n",
    "    cnt=0\n",
    "    for i in B:\n",
    "        if st[j] in i:\n",
    "            i.remove(st[j])\n",
    "            print(i,st[j],'T')\n",
    "            cnt+=1\n",
    "            if cnt==len(B):\n",
    "                ans.append(st[j])\n",
    "ans"
   ]
  },
  {
   "cell_type": "code",
   "execution_count": 52,
   "metadata": {},
   "outputs": [
    {
     "name": "stdout",
     "output_type": "stream",
     "text": [
      "[1, 1, 0] 0\n",
      "[1, 1, 1] 1\n",
      "[1, 1, 0] 0\n",
      "[2, 2, 2] 2\n"
     ]
    },
    {
     "data": {
      "text/plain": [
       "['e', 'l', 'l']"
      ]
     },
     "execution_count": 52,
     "metadata": {},
     "output_type": "execute_result"
    }
   ],
   "source": [
    "A=   [\"bella\",\"label\",\"roller\"]\n",
    "res = []\n",
    "key_set = set(A[0])\n",
    "for ch in key_set:\n",
    "    n = min([w.count(ch) for w in A])\n",
    "    print([w.count(ch) for w in A],n)\n",
    "    if n:\n",
    "        res.extend(ch*n)\n",
    "res"
   ]
  },
  {
   "cell_type": "code",
   "execution_count": 26,
   "metadata": {},
   "outputs": [
    {
     "data": {
      "text/plain": [
       "[3, 1, 1, 2, 2, 2]"
      ]
     },
     "execution_count": 26,
     "metadata": {},
     "output_type": "execute_result"
    }
   ],
   "source": [
    "import collections\n",
    "nums = [1,1,2,2,2,3]\n",
    "dic=collections.Counter(nums)\n",
    "sorted_dic= dict(sorted(dic.items(),key=lambda x: x[1]))\n",
    "ans=[]\n",
    "for k,v in sorted_dic.items():\n",
    "    for i in range(v):\n",
    "        ans.append(k)\n",
    "ans"
   ]
  },
  {
   "cell_type": "code",
   "execution_count": 2,
   "metadata": {},
   "outputs": [
    {
     "data": {
      "text/plain": [
       "[-5, 1, 2, 3, 6]"
      ]
     },
     "execution_count": 2,
     "metadata": {},
     "output_type": "execute_result"
    }
   ],
   "source": [
    "x=[3,-5,2,6,1]\n",
    "n=len(x)\n",
    "for i in range(n):\n",
    "    for j in range(i+1,n):\n",
    "        if x[i]>x[j]:\n",
    "            x[i],x[j]=x[j],x[i]\n",
    "x"
   ]
  },
  {
   "cell_type": "code",
   "execution_count": 3,
   "metadata": {},
   "outputs": [
    {
     "data": {
      "text/plain": [
       "[-5, 1, 2, 3, 6]"
      ]
     },
     "execution_count": 3,
     "metadata": {},
     "output_type": "execute_result"
    }
   ],
   "source": [
    "n=len(x)\n",
    "for i in range(n):\n",
    "    for j in range(i+1,n):\n",
    "        if x[i]>x[j]:\n",
    "            x[i],x[j]=x[j],x[i]\n",
    "x"
   ]
  },
  {
   "cell_type": "code",
   "execution_count": 47,
   "metadata": {},
   "outputs": [
    {
     "data": {
      "text/plain": [
       "12"
      ]
     },
     "execution_count": 47,
     "metadata": {},
     "output_type": "execute_result"
    }
   ],
   "source": [
    "def gcd(a,b):\n",
    "    if b==0:\n",
    "        return a\n",
    "    else:\n",
    "        return gcd(b,a%b)\n",
    "gcd(48,36)"
   ]
  },
  {
   "cell_type": "code",
   "execution_count": null,
   "metadata": {},
   "outputs": [],
   "source": []
  }
 ],
 "metadata": {
  "kernelspec": {
   "display_name": "Python 3",
   "language": "python",
   "name": "python3"
  },
  "language_info": {
   "codemirror_mode": {
    "name": "ipython",
    "version": 3
   },
   "file_extension": ".py",
   "mimetype": "text/x-python",
   "name": "python",
   "nbconvert_exporter": "python",
   "pygments_lexer": "ipython3",
   "version": "3.7.3"
  }
 },
 "nbformat": 4,
 "nbformat_minor": 2
}
