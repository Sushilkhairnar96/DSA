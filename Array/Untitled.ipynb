{
 "cells": [
  {
   "cell_type": "code",
   "execution_count": 1,
   "metadata": {},
   "outputs": [
    {
     "name": "stdout",
     "output_type": "stream",
     "text": [
      "1\n",
      "12\n",
      "123\n"
     ]
    }
   ],
   "source": [
    "x=[1,2,3]\n",
    "ans=0\n",
    "for i in x:\n",
    "    ans*=10\n",
    "    ans+=i\n",
    "    print(ans)"
   ]
  },
  {
   "cell_type": "code",
   "execution_count": 18,
   "metadata": {},
   "outputs": [
    {
     "name": "stdout",
     "output_type": "stream",
     "text": [
      "2\n",
      "1\n",
      "t\n"
     ]
    }
   ],
   "source": [
    "'''\n",
    "Input: [0,3,2,1]\n",
    "Output: true\n",
    "'''\n",
    "nums= [0,3,1,0]\n",
    "#nums=[0,2,3,4,5,2,1,0]\n",
    "for i in range(1,len(nums)):\n",
    "    if nums[i]>nums[i-1]:\n",
    "        pass\n",
    "    else:\n",
    "        break\n",
    "print(i)\n",
    "for j in range(i,len(nums)-1):\n",
    "    if nums[j]>nums[j+1]:\n",
    "        print(nums[j])\n",
    "        pass\n",
    "    else:\n",
    "        print(\"F\")\n",
    "print(\"t\")"
   ]
  },
  {
   "cell_type": "code",
   "execution_count": 19,
   "metadata": {},
   "outputs": [
    {
     "data": {
      "text/plain": [
       "[1, 3, 12, 0, 0]"
      ]
     },
     "execution_count": 19,
     "metadata": {},
     "output_type": "execute_result"
    }
   ],
   "source": [
    "ans=[]\n",
    "nums=[0,1,0,3,12]\n",
    "cnt=0\n",
    "for i in range(len(nums)):\n",
    "    if nums[i]!=0:\n",
    "        ans.append(nums[i])\n",
    "    else:\n",
    "        cnt+=1\n",
    "ans + [0]*cnt"
   ]
  },
  {
   "cell_type": "code",
   "execution_count": 3,
   "metadata": {},
   "outputs": [
    {
     "ename": "NameError",
     "evalue": "name 'nums' is not defined",
     "output_type": "error",
     "traceback": [
      "\u001b[1;31m---------------------------------------------------------------------------\u001b[0m",
      "\u001b[1;31mNameError\u001b[0m                                 Traceback (most recent call last)",
      "\u001b[1;32m<ipython-input-3-039003c29393>\u001b[0m in \u001b[0;36m<module>\u001b[1;34m\u001b[0m\n\u001b[1;32m----> 1\u001b[1;33m \u001b[1;32mfor\u001b[0m \u001b[0mi\u001b[0m\u001b[1;33m,\u001b[0m\u001b[0mv\u001b[0m \u001b[1;32min\u001b[0m \u001b[0menumerate\u001b[0m\u001b[1;33m(\u001b[0m\u001b[0mnums\u001b[0m\u001b[1;33m)\u001b[0m\u001b[1;33m:\u001b[0m\u001b[1;33m\u001b[0m\u001b[1;33m\u001b[0m\u001b[0m\n\u001b[0m\u001b[0;32m      2\u001b[0m     \u001b[0mprint\u001b[0m\u001b[1;33m(\u001b[0m\u001b[0mi\u001b[0m\u001b[1;33m,\u001b[0m\u001b[0mv\u001b[0m\u001b[1;33m)\u001b[0m\u001b[1;33m\u001b[0m\u001b[1;33m\u001b[0m\u001b[0m\n",
      "\u001b[1;31mNameError\u001b[0m: name 'nums' is not defined"
     ]
    }
   ],
   "source": [
    "for i,v in enumerate(nums):\n",
    "    print(i,v)"
   ]
  },
  {
   "cell_type": "code",
   "execution_count": 16,
   "metadata": {},
   "outputs": [
    {
     "data": {
      "text/plain": [
       "1"
      ]
     },
     "execution_count": 16,
     "metadata": {},
     "output_type": "execute_result"
    }
   ],
   "source": [
    "nums= [1,2,2,2,2,2,2,2,2,2,2,2,2,2,2,2,2,2,2,3]\n",
    "round(len(nums)*0.05)"
   ]
  },
  {
   "cell_type": "code",
   "execution_count": 11,
   "metadata": {},
   "outputs": [
    {
     "data": {
      "text/plain": [
       "2"
      ]
     },
     "execution_count": 11,
     "metadata": {},
     "output_type": "execute_result"
    }
   ],
   "source": [
    "s = \"1+(2*3)/(2-1)\"\n",
    "digits = []\n",
    "operators = []\n",
    "op = \"* / + - %\".split(\" \")\n",
    "ans=0\n",
    "for st in s:\n",
    "    if st.isdigit():\n",
    "        digits.append(st)\n",
    "    elif st in op:\n",
    "        operators.append(st)\n",
    "    elif st==\"(\":\n",
    "        digits.append(st)\n",
    "    else:\n",
    "        a=digits.pop(-1)\n",
    "        b=digits.pop(-2)\n",
    "        if b!=\"(\":\n",
    "            c=digits.pop(-3)\n",
    "            ans = int(a) "
   ]
  },
  {
   "cell_type": "code",
   "execution_count": 79,
   "metadata": {},
   "outputs": [
    {
     "name": "stdout",
     "output_type": "stream",
     "text": [
      "['('] 1\n",
      "['(', '1'] 1\n",
      "['(', '1', '('] 2\n"
     ]
    },
    {
     "data": {
      "text/plain": [
       "2"
      ]
     },
     "execution_count": 79,
     "metadata": {},
     "output_type": "execute_result"
    }
   ],
   "source": [
    "s = \"(1())\"\n",
    "stack=[]\n",
    "op = \"* / + - %\".split(\" \")\n",
    "max_ans=ans=0\n",
    "for i in range(len(s)):\n",
    "    if s[i] != \")\":\n",
    "        stack.append(s[i])\n",
    "        ans=0\n",
    "        for j in stack:\n",
    "            if j==\"(\":\n",
    "                ans+=1\n",
    "        max_ans= max(ans,max_ans)\n",
    "        print(stack,max_ans)\n",
    "    else:\n",
    "        if stack[-1]==\"(\":\n",
    "            ans+=1\n",
    "        while stack[-1]!=\"(\":\n",
    "            stack.pop()\n",
    "        stack.pop()\n",
    "    \n",
    "max_ans"
   ]
  },
  {
   "cell_type": "code",
   "execution_count": 83,
   "metadata": {},
   "outputs": [
    {
     "data": {
      "text/plain": [
       "3"
      ]
     },
     "execution_count": 83,
     "metadata": {},
     "output_type": "execute_result"
    }
   ],
   "source": [
    "stack=['(', '1','(', '('] \n",
    "x= len([i for i in stack if i==\"(\" ])\n",
    "x"
   ]
  },
  {
   "cell_type": "code",
   "execution_count": null,
   "metadata": {},
   "outputs": [],
   "source": []
  }
 ],
 "metadata": {
  "kernelspec": {
   "display_name": "Python 3",
   "language": "python",
   "name": "python3"
  },
  "language_info": {
   "codemirror_mode": {
    "name": "ipython",
    "version": 3
   },
   "file_extension": ".py",
   "mimetype": "text/x-python",
   "name": "python",
   "nbconvert_exporter": "python",
   "pygments_lexer": "ipython3",
   "version": "3.7.3"
  }
 },
 "nbformat": 4,
 "nbformat_minor": 2
}
