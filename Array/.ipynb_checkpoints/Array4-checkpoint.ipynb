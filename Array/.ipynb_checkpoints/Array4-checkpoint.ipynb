{
 "cells": [
  {
   "cell_type": "code",
   "execution_count": 1,
   "metadata": {},
   "outputs": [
    {
     "name": "stdout",
     "output_type": "stream",
     "text": [
      "5\n"
     ]
    }
   ],
   "source": [
    "nums=[0,1,2,2,3,0,4,2]\n",
    "val=2\n",
    "i = 0\n",
    "j = len(nums)\n",
    "while i < j:\n",
    "    if nums[i] == val:\n",
    "        nums[i],nums[j-1] = nums[j-1],nums[i]\n",
    "        j-=1\n",
    "    else:\n",
    "        i+=1\n",
    "print(j)"
   ]
  },
  {
   "cell_type": "code",
   "execution_count": null,
   "metadata": {},
   "outputs": [],
   "source": [
    "nums=[1,3,5,6]\n",
    "target=5\n",
    "for i in range(len(nums)):\n",
    "    if(target>nums[len(nums)-1]):\n",
    "        print(len(nums))\n",
    "    if(target<=nums[i]):\n",
    "        print(i)\n",
    "        break\n"
   ]
  },
  {
   "cell_type": "code",
   "execution_count": null,
   "metadata": {},
   "outputs": [],
   "source": [
    "haystack = \"hellost\"\n",
    "needle = \"los\"\n",
    "for i in range(len(haystack)):\n",
    "    for j in range(len(needle)):\n",
    "        if (haystack[i]==needle[j]):\n",
    "            print(str(i)+haystack[i])\n",
    "            break;"
   ]
  },
  {
   "cell_type": "code",
   "execution_count": null,
   "metadata": {},
   "outputs": [],
   "source": [
    "haystack = \"hellost\"\n",
    "needle = \"los\"\n",
    "if needle in haystack:\n",
    "    print(\"e\")\n",
    "else:\n",
    "    print(\"n\")"
   ]
  },
  {
   "cell_type": "code",
   "execution_count": null,
   "metadata": {},
   "outputs": [],
   "source": [
    "out=[]\n",
    "9for i in range(5):\n",
    "    name = input('enter:')\n",
    "    out.append(name)\n",
    "out"
   ]
  },
  {
   "cell_type": "code",
   "execution_count": null,
   "metadata": {},
   "outputs": [],
   "source": [
    "x=\"sushil khairnar \"        #string length\n",
    "c=0\n",
    "for i in x:\n",
    "    c=c+1\n",
    "c"
   ]
  },
  {
   "cell_type": "code",
   "execution_count": null,
   "metadata": {},
   "outputs": [],
   "source": [
    "for i in range(len(x)):\n",
    "    print(i,x[i])"
   ]
  },
  {
   "cell_type": "code",
   "execution_count": null,
   "metadata": {},
   "outputs": [],
   "source": [
    "x=\"dssessmfngitr\"\n",
    "c=0\n",
    "for i in x:\n",
    "    if(i=='s'):\n",
    "        c=c+1\n",
    "print(c)"
   ]
  },
  {
   "cell_type": "code",
   "execution_count": null,
   "metadata": {},
   "outputs": [],
   "source": [
    "x[:56]"
   ]
  },
  {
   "cell_type": "code",
   "execution_count": null,
   "metadata": {},
   "outputs": [],
   "source": [
    "x=\"banana\"\n",
    "y=\"baba\"\n",
    "j=len(y)-1\n",
    "print(j)"
   ]
  },
  {
   "cell_type": "code",
   "execution_count": null,
   "metadata": {},
   "outputs": [],
   "source": [
    "y=input()\n",
    "j=len(y)-1\n",
    "cnt=0\n",
    "for i in range(len(y)):\n",
    "    while(j>=0):\n",
    "        if(y[i]==y[j]):\n",
    "            j=j-1\n",
    "            cnt=cnt+1\n",
    "            break\n",
    "        else:\n",
    "            j=j-1\n",
    "            continue\n",
    "\n",
    "if(cnt==len(y)):\n",
    "    print('Y')\n",
    "else:\n",
    "    print('N')"
   ]
  },
  {
   "cell_type": "code",
   "execution_count": null,
   "metadata": {},
   "outputs": [],
   "source": [
    "\n",
    "x=\"banana\"\n",
    "y=\"baba\"\n",
    "print(len(x))"
   ]
  },
  {
   "cell_type": "code",
   "execution_count": null,
   "metadata": {},
   "outputs": [],
   "source": [
    "s=[\"h\",\"e\",\"l\",\"l\",\"o\"]\n",
    "l=len(s)\n",
    "for i in range(len(s)-1,-1,-1):\n",
    "    print([s[i]])"
   ]
  },
  {
   "cell_type": "code",
   "execution_count": null,
   "metadata": {},
   "outputs": [],
   "source": [
    "s[::-1]"
   ]
  },
  {
   "cell_type": "code",
   "execution_count": null,
   "metadata": {},
   "outputs": [],
   "source": [
    "s[::3]"
   ]
  },
  {
   "cell_type": "code",
   "execution_count": null,
   "metadata": {},
   "outputs": [],
   "source": [
    "a=[1,2,3,4]\n",
    "a[1::3]"
   ]
  },
  {
   "cell_type": "code",
   "execution_count": null,
   "metadata": {},
   "outputs": [],
   "source": [
    "a[-3]"
   ]
  },
  {
   "cell_type": "code",
   "execution_count": null,
   "metadata": {},
   "outputs": [],
   "source": [
    "num1=\"21\"\n",
    "num2=\"333\"\n",
    "dic={'1':1,'2':2,'3':3,'4':4,'5':5,'6':6,'7':7,'8':8,'9':9,'0':0}\n",
    "if(num1 in dic.keys() and num2 in dic.keys()):\n",
    "    print(dic[num1]+dic[num2])"
   ]
  },
  {
   "cell_type": "code",
   "execution_count": null,
   "metadata": {},
   "outputs": [],
   "source": [
    "l1=[]\n",
    "for i in num1:\n",
    "    l1.append(dic[i])\n",
    "l1"
   ]
  },
  {
   "cell_type": "code",
   "execution_count": null,
   "metadata": {},
   "outputs": [],
   "source": [
    "nt = {\n",
    "    '0': 0, '1': 1, '2': 2, '3': 3, '4': 4, '5': 5,\n",
    "    '6': 6, '7': 7, '8': 8, '9': 9\n",
    "}\n",
    "\n",
    "i = len(num1) - 1\n",
    "j = len(num2) - 1\n",
    "carry = 0\n",
    "res = ''\n",
    "\n",
    "while i >= 0 or j >= 0:\n",
    "    n1 = nt[num1[i]] if i >= 0 else 0\n",
    "    n2 = nt[num2[j]] if j >= 0 else 0\n",
    "    n = n1 + n2 + carry\n",
    "    \n",
    "    if n >= 10:\n",
    "        carry = 1\n",
    "        n -= 10\n",
    "    else:\n",
    "        carry = 0\n",
    "\n",
    "    res = str(n) + res\n",
    "\n",
    "    i -= 1\n",
    "    j -= 1\n",
    "            \n",
    "if carry == 1:\n",
    "    res = \"1\" + res\n",
    "\n",
    "print(res)"
   ]
  },
  {
   "cell_type": "code",
   "execution_count": null,
   "metadata": {},
   "outputs": [],
   "source": [
    "a=10\n",
    "b=12"
   ]
  },
  {
   "cell_type": "code",
   "execution_count": null,
   "metadata": {},
   "outputs": [],
   "source": [
    "{{ a ~ b }}"
   ]
  },
  {
   "cell_type": "code",
   "execution_count": null,
   "metadata": {},
   "outputs": [],
   "source": [
    "def comb(a,b):\n",
    "    return {{ a ~ b }}"
   ]
  },
  {
   "cell_type": "code",
   "execution_count": null,
   "metadata": {},
   "outputs": [],
   "source": [
    "x=comb(140,244)\n",
    "print(x)"
   ]
  },
  {
   "cell_type": "code",
   "execution_count": null,
   "metadata": {},
   "outputs": [],
   "source": [
    "ord('1')"
   ]
  },
  {
   "cell_type": "code",
   "execution_count": null,
   "metadata": {},
   "outputs": [],
   "source": [
    "nums=[2,7,3,1]\n",
    "nums.sort()\n",
    "x=[]\n",
    "for i in range(0,len(nums),2):\n",
    "    x.append(min(nums[i],nums[i+1]))\n",
    "s=0\n",
    "for i in x:\n",
    "    s+=i\n",
    "print(s)"
   ]
  },
  {
   "cell_type": "code",
   "execution_count": null,
   "metadata": {},
   "outputs": [],
   "source": [
    "print(sorted(nums)[::2])"
   ]
  },
  {
   "cell_type": "code",
   "execution_count": null,
   "metadata": {},
   "outputs": [],
   "source": [
    "max(nums)"
   ]
  },
  {
   "cell_type": "code",
   "execution_count": null,
   "metadata": {},
   "outputs": [],
   "source": [
    "x=[1,3,5,2,3,2]\n",
    "y=[]\n",
    "for i in x:\n",
    "    if(i not in y):\n",
    "        y.append(i)\n",
    "y"
   ]
  },
  {
   "cell_type": "code",
   "execution_count": null,
   "metadata": {},
   "outputs": [],
   "source": [
    "nums=[2,2,3,1]\n",
    "x=[]\n",
    "for i in nums:\n",
    "    if i not in x:\n",
    "        x.append(i)\n",
    "print(x)\n",
    "if(len(x)>2):\n",
    "    x.sort(reverse=True)\n",
    "    print(x)\n",
    "else:\n",
    "    print(max(nums))"
   ]
  },
  {
   "cell_type": "code",
   "execution_count": null,
   "metadata": {},
   "outputs": [],
   "source": [
    "nums[3]=4"
   ]
  },
  {
   "cell_type": "code",
   "execution_count": null,
   "metadata": {},
   "outputs": [],
   "source": [
    "nums"
   ]
  },
  {
   "cell_type": "code",
   "execution_count": null,
   "metadata": {},
   "outputs": [],
   "source": [
    "nums.append(0)"
   ]
  },
  {
   "cell_type": "code",
   "execution_count": null,
   "metadata": {},
   "outputs": [],
   "source": [
    "nums\n"
   ]
  },
  {
   "cell_type": "code",
   "execution_count": null,
   "metadata": {},
   "outputs": [],
   "source": [
    "nums=[1,2,3,4,3,2,1]\n",
    "if(nums==nums.reverse()):\n",
    "    print('d')"
   ]
  },
  {
   "cell_type": "code",
   "execution_count": null,
   "metadata": {},
   "outputs": [],
   "source": [
    "n=nums.reverse()\n",
    "n "
   ]
  },
  {
   "cell_type": "code",
   "execution_count": null,
   "metadata": {},
   "outputs": [],
   "source": [
    "nums.reverse()\n",
    "nums"
   ]
  },
  {
   "cell_type": "code",
   "execution_count": 3,
   "metadata": {},
   "outputs": [
    {
     "name": "stdout",
     "output_type": "stream",
     "text": [
      "12.75\n"
     ]
    }
   ],
   "source": [
    "nums=[1,12,-5,-6,50,3]\n",
    "k=4\n",
    "c=[]\n",
    "for i in range(len(nums)):\n",
    "    x=[]\n",
    "    if(k+i<=len(nums)):\n",
    "        for j in range(i,k+i):\n",
    "            x.append(nums[j])\n",
    "            c.append(sum(x)/k)\n",
    "print(max(c))"
   ]
  },
  {
   "cell_type": "code",
   "execution_count": 7,
   "metadata": {},
   "outputs": [
    {
     "name": "stdout",
     "output_type": "stream",
     "text": [
      "2\n",
      "51\n",
      "42\n",
      "12.75\n"
     ]
    }
   ],
   "source": [
    "s = sum(nums[:k])\n",
    "res = s\n",
    "print(s)\n",
    "for i in range(k, len(nums)):\n",
    "    s += nums[i] - nums[i - k]\n",
    "    print(s)\n",
    "    res = max(res,s)\n",
    "print(res / k)"
   ]
  },
  {
   "cell_type": "code",
   "execution_count": null,
   "metadata": {},
   "outputs": [],
   "source": []
  }
 ],
 "metadata": {
  "kernelspec": {
   "display_name": "Python 3",
   "language": "python",
   "name": "python3"
  },
  "language_info": {
   "codemirror_mode": {
    "name": "ipython",
    "version": 3
   },
   "file_extension": ".py",
   "mimetype": "text/x-python",
   "name": "python",
   "nbconvert_exporter": "python",
   "pygments_lexer": "ipython3",
   "version": "3.7.3"
  }
 },
 "nbformat": 4,
 "nbformat_minor": 2
}
