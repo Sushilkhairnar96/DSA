{
 "cells": [
  {
   "cell_type": "code",
   "execution_count": 16,
   "metadata": {},
   "outputs": [
    {
     "data": {
      "text/plain": [
       "4"
      ]
     },
     "execution_count": 16,
     "metadata": {},
     "output_type": "execute_result"
    }
   ],
   "source": [
    "#1. Single Number\n",
    "'''\n",
    "Given a non-empty array of integers nums, every element appears twice except for one. Find that single one.\n",
    "\n",
    "Input: nums = [2,2,1]\n",
    "Output: 1\n",
    "\n",
    "Input: nums = [4,1,2,1,2]\n",
    "Output: 4\n",
    "'''\n",
    "nums = [4,1,2,1,2]\n",
    "res=0\n",
    "for num in nums:\n",
    "    res^=num\n",
    "res\n",
    "\n",
    "#(sum(list(set(nums)))*2- sum(nums))"
   ]
  },
  {
   "cell_type": "code",
   "execution_count": 17,
   "metadata": {},
   "outputs": [
    {
     "data": {
      "text/plain": [
       "4"
      ]
     },
     "execution_count": 17,
     "metadata": {},
     "output_type": "execute_result"
    }
   ],
   "source": [
    "#Follow up: Given a non-empty array of integers nums, every element appears thrice except for one. Find that single one.\n",
    "\n",
    "nums=[4,1,2,1,2,1,2]\n",
    "#(sum(list(set(nums)))*3 - sum(nums))//2\n",
    "\n",
    "ones = 0\n",
    "twos = 0\n",
    "      \n",
    "for i in range(len(nums)): \n",
    "    # one & nums[i]\" gives the bits that are there in both 'ones' and new element from nums[]. \n",
    "    #We add these bits to 'twos' using bitwise OR \n",
    "    twos = twos | (ones & nums[i]) \n",
    "      \n",
    "    ones = ones ^ nums[i] \n",
    "      \n",
    "    # The common bits are those bits  which appear third time. So these bits should not be there in both  \n",
    "    # 'ones' and 'twos'. common_bit_mask contains all these bits as 0, so that the bits can be removed from \n",
    "    # 'ones' and 'twos' \n",
    "    common_bit_mask = ~(ones & twos) \n",
    "      \n",
    "    # Remove common bits (the bits that  appear third time) from 'ones' \n",
    "    ones &= common_bit_mask \n",
    "      \n",
    "    # Remove common bits (the bits that appear third time) from 'twos' \n",
    "    twos &= common_bit_mask \n",
    "ones "
   ]
  },
  {
   "cell_type": "code",
   "execution_count": 31,
   "metadata": {},
   "outputs": [
    {
     "data": {
      "text/plain": [
       "3"
      ]
     },
     "execution_count": 31,
     "metadata": {},
     "output_type": "execute_result"
    }
   ],
   "source": [
    "#2. Best Time to Buy and Sell Stock:\n",
    "'''\n",
    "Say you have an array for which the ith element is the price of a given stock on day i.\n",
    "\n",
    "If you were only permitted to complete at most one transaction (i.e., buy one and sell one share of the stock),\n",
    "design an algorithm to find the maximum profit.\n",
    "\n",
    "Note that you cannot sell a stock before you buy one.\n",
    "\n",
    "Example 1:\n",
    "\n",
    "Input: [7,1,5,3,6,4]\n",
    "Output: 5\n",
    "Explanation: Buy on day 2 (price = 1) and sell on day 5 (price = 6), profit = 6-1 = 5.\n",
    "             Not 7-1 = 6, as selling price needs to be larger than buying price.\n",
    "Example 2:\n",
    "\n",
    "Input: [7,6,4,3,1]\n",
    "Output: 0\n",
    "Explanation: In this case, no transaction is done, i.e. max profit = 0.\n",
    "'''\n",
    "def maxProfit(prices):\n",
    "    '''\n",
    "    max_profit =0\n",
    "    for i in range(len(prices)):\n",
    "        for j in range(i+1,len(prices)):\n",
    "            profit = prices[j]-prices[i]\n",
    "            max_profit = max(profit,max_profit)\n",
    "    return max_profit\n",
    "    '''\n",
    "    min_price = float('inf')\n",
    "    max_profit=0\n",
    "    for i in range(len(prices)):\n",
    "        if prices[i]<min_price:\n",
    "            min_price=prices[i]\n",
    "        else:\n",
    "            max_profit = max(prices[i]-min_price,max_profit)\n",
    "    return max_profit\n",
    "                \n",
    "\n",
    "#prices=[7,1,5,3,6,4]\n",
    "prices=[2,5,1]\n",
    "maxProfit(prices)"
   ]
  },
  {
   "cell_type": "code",
   "execution_count": 33,
   "metadata": {},
   "outputs": [
    {
     "data": {
      "text/plain": [
       "7"
      ]
     },
     "execution_count": 33,
     "metadata": {},
     "output_type": "execute_result"
    }
   ],
   "source": [
    "#3.Best Time to Buy and Sell Stock II\n",
    "'''\n",
    "Say you have an array prices for which the ith element is the price of a given stock on day i.\n",
    "\n",
    "Design an algorithm to find the maximum profit. You may complete as many transactions as you like \n",
    "(i.e., buy one and sell one share of the stock multiple times).\n",
    "\n",
    "Note: You may not engage in multiple transactions at the same time (i.e., you must sell the stock before you buy again).\n",
    "\n",
    "\n",
    "Input: [7,1,5,3,6,4]\n",
    "Output: 7\n",
    "Explanation: Buy on day 2 (price = 1) and sell on day 3 (price = 5), profit = 5-1 = 4.\n",
    "             Then buy on day 4 (price = 3) and sell on day 5 (price = 6), profit = 6-3 = 3.\n",
    "\n",
    "Input: [1,2,3,4,5]\n",
    "Output: 4\n",
    "Explanation: Buy on day 1 (price = 1) and sell on day 5 (price = 5), profit = 5-1 = 4.\n",
    "             Note that you cannot buy on day 1, buy on day 2 and sell them later, as you are\n",
    "             engaging multiple transactions at the same time. You must sell before buying again.\n",
    "'''\n",
    "\n",
    "def maxProfit(prices):\n",
    "    min_price = float('inf')\n",
    "    profit=0\n",
    "    for i in range(len(prices)):\n",
    "        if prices[i]<min_price:\n",
    "            min_price=prices[i]\n",
    "        else:\n",
    "            profit+= prices[i] - min_price\n",
    "            min_price=prices[i]\n",
    "    return profit\n",
    "\n",
    "prices=[7,1,5,3,6,4]\n",
    "maxProfit(prices)"
   ]
  },
  {
   "cell_type": "code",
   "execution_count": 18,
   "metadata": {},
   "outputs": [
    {
     "data": {
      "text/plain": [
       "2"
      ]
     },
     "execution_count": 18,
     "metadata": {},
     "output_type": "execute_result"
    }
   ],
   "source": [
    "#4. Missing Number:\n",
    "'''\n",
    "Given an array nums containing n distinct numbers in the range [0, n], return the only number in the range \n",
    "that is missing from the array.\n",
    "\n",
    "Follow up: Could you implement a solution using only O(1) extra space complexity and O(n) runtime complexity?\n",
    "\n",
    "Input: nums = [3,0,1]\n",
    "Output: 2\n",
    "Explanation: n = 3 since there are 3 numbers, so all numbers are in the range [0,3]. \n",
    "2 is the missing number in the range since it does not appear in nums.\n",
    "\n",
    "Input: nums = [0,1]\n",
    "Output: 2\n",
    "'''\n",
    "\n",
    "def missingNumber(nums) -> int:\n",
    "    #for i in range(len(nums)+1):\n",
    "    #    if i not in nums:\n",
    "    #        return i\n",
    "    \n",
    "    #ans = set(range(len(nums)+1))-set(nums)\n",
    "    #return ans.pop()\n",
    "    \n",
    "    n=len(nums)\n",
    "    expected_sum = n*(n+1)//2\n",
    "    actual_sum = sum(nums)\n",
    "    return expected_sum - actual_sum\n",
    "\n",
    "    '''\n",
    "    missing_number = -1\n",
    "    \n",
    "    # change all indexes nums[i] to negative to flag as \"found\"\n",
    "    for i in range(len(nums)):\n",
    "        index = nums[i] if nums[i] >= 0 else (abs(nums[i])-1)\n",
    "        if index < len(nums):\n",
    "            nums[index] = -(nums[index] + 1)\n",
    "            \n",
    "    for i in range(len(nums)):\n",
    "        if nums[i] >= 0:\n",
    "            missing_number = i\n",
    "            break\n",
    "            \n",
    "    if missing_number == -1:\n",
    "        missing_number = len(nums)\n",
    "    \n",
    "    # restore all numbers to positive to keep array \"original\" before returning\n",
    "    for i in range(len(nums)):\n",
    "        if nums[i] < 0:\n",
    "            nums[i] = abs(nums[i]) - 1\n",
    "    \n",
    "    return missing_number    \n",
    "    '''\n",
    "\n",
    "nums = [3,0,1]\n",
    "missingNumber(nums) "
   ]
  },
  {
   "cell_type": "code",
   "execution_count": 21,
   "metadata": {},
   "outputs": [
    {
     "data": {
      "text/plain": [
       "[1, 2, 2, 3, 5, 6]"
      ]
     },
     "execution_count": 21,
     "metadata": {},
     "output_type": "execute_result"
    }
   ],
   "source": [
    "#5. Merge Sorted Array\n",
    "'''\n",
    "Given two sorted integer arrays nums1 and nums2, merge nums2 into nums1 as one sorted array.\n",
    "\n",
    "The number of elements initialized in nums1 and nums2 are m and n respectively. \n",
    "You may assume that nums1 has enough space (size that is equal to m + n) to hold additional elements from nums2.\n",
    "\n",
    "Input: nums1 = [1,2,3,0,0,0], m = 3, nums2 = [2,5,6], n = 3\n",
    "Output: [1,2,2,3,5,6]\n",
    "\n",
    "Input: nums1 = [1], m = 1, nums2 = [], n = 0\n",
    "Output: [1]\n",
    "'''\n",
    "def merge(nums1,m,nums2,n):\n",
    "    m,n=m-1,n-1\n",
    "    while m>=0 and n>=0:\n",
    "        if nums1[m]<nums2[n]:\n",
    "            nums1[m+n+1]=nums2[n]\n",
    "            n-=1\n",
    "        else:\n",
    "            nums1[m+n+1]=nums1[m]\n",
    "            m-=1\n",
    "    if n>=0: nums1[:n+1]=nums2[:n+1]\n",
    "    return nums1\n",
    "\n",
    "nums1 = [1,2,3,0,0,0];m = 3; nums2 = [2,5,6]; n = 3\n",
    "merge(nums1,m,nums2,n)\n"
   ]
  },
  {
   "cell_type": "code",
   "execution_count": 23,
   "metadata": {},
   "outputs": [
    {
     "data": {
      "text/plain": [
       "[0, 3, 6, 7, 8, 9, 10]"
      ]
     },
     "execution_count": 23,
     "metadata": {},
     "output_type": "execute_result"
    }
   ],
   "source": [
    "#Follow up : given two sorted arrays, return a new array without modifying inline\n",
    "def merge_array(nums1,nums2):\n",
    "    m,n= len(nums1)-1,len(nums2)-1\n",
    "    ans=[0]*(m+n+2)\n",
    "    while m>=0 and n>=0:\n",
    "        if nums1[m]<nums2[n]:\n",
    "            ans[m+n+1]=nums2[n]\n",
    "            n-=1\n",
    "        else:\n",
    "            ans[m+n+1]=nums1[m]\n",
    "            m-=1\n",
    "    if m>=0: ans[:m+1]=nums1[:m+1]\n",
    "    if n>=0: ans[:n+1]=nums2[:n+1]\n",
    "    return ans\n",
    "\n",
    "nums1=[3,7,9,10];nums2=[0,6,8]\n",
    "merge_array(nums1,nums2)"
   ]
  },
  {
   "cell_type": "code",
   "execution_count": 34,
   "metadata": {},
   "outputs": [
    {
     "data": {
      "text/plain": [
       "[24, 12, 8, 6]"
      ]
     },
     "execution_count": 34,
     "metadata": {},
     "output_type": "execute_result"
    }
   ],
   "source": [
    "#6.Product of Array Except Self\n",
    "'''\n",
    "Given an array nums of n integers where n > 1,  return an array output such that output[i] is equal to the \n",
    "product of all the elements of nums except nums[i].\n",
    "\n",
    "Example:\n",
    "\n",
    "Input:  [1,2,3,4]\n",
    "Output: [24,12,8,6]\n",
    "Constraint: It's guaranteed that the product of the elements of any prefix or suffix of the array \n",
    "(including the whole array) fits in a 32 bit integer.\n",
    "\n",
    "Note: Please solve it without division and in O(n).\n",
    "\n",
    "Follow up:\n",
    "Could you solve it with constant space complexity? (The output array does not count as extra space for the \n",
    "purpose of space complexity analysis.)\n",
    "'''\n",
    "def productExceptSelf(nums):\n",
    "    '''\n",
    "    prod =1\n",
    "    for num in nums:\n",
    "        prod*=num\n",
    "    return [prod//num for num in nums]  #Error when num is 0\n",
    "    '''\n",
    "    \n",
    "    '''\n",
    "    left,right=[1]*len(nums),[1]*len(nums)\n",
    "    for i in range(1,len(nums)):\n",
    "        left[i]=nums[i-1]*left[i-1]\n",
    "    \n",
    "    for i in range(len(nums)-2,-1,-1):\n",
    "        right[i]=nums[i+1]*right[i+1]\n",
    "    \n",
    "    return [left[i]*right[i] for i in range(len(nums))]\n",
    "    '''\n",
    "    \n",
    "    ans=[1]*len(nums)\n",
    "    for i in range(1,len(nums)):\n",
    "        ans[i]=nums[i-1]*ans[i-1]\n",
    "    prod=1\n",
    "    for i in range(len(nums)-2,-1,-1):\n",
    "        prod*=nums[i+1]\n",
    "        ans[i]*=prod\n",
    "        \n",
    "    return ans\n",
    "\n",
    "nums=[1,2,3,4]\n",
    "productExceptSelf(nums)"
   ]
  },
  {
   "cell_type": "code",
   "execution_count": 2,
   "metadata": {},
   "outputs": [
    {
     "data": {
      "text/plain": [
       "[1, 2]"
      ]
     },
     "execution_count": 2,
     "metadata": {},
     "output_type": "execute_result"
    }
   ],
   "source": [
    "#7. Top K Frequent Elements\n",
    "'''\n",
    "Given a non-empty array of integers, return the k most frequent elements.\n",
    "\n",
    "Input: nums = [1,1,1,2,2,3], k = 2\n",
    "Output: [1,2]\n",
    "\n",
    "Input: nums = [1], k = 1\n",
    "Output: [1]\n",
    "Note:\n",
    "\n",
    "You may assume k is always valid, 1 ≤ k ≤ number of unique elements.\n",
    "Your algorithm's time complexity must be better than O(n log n), where n is the array's size.\n",
    "It's guaranteed that the answer is unique, in other words the set of the top k frequent elements is unique.\n",
    "You can return the answer in any order.\n",
    "'''\n",
    "def topKFrequent(nums,k) :\n",
    "    import collections\n",
    "    dic=collections.Counter(nums)\n",
    "    sorted_list = sorted(dic.items(), key=lambda x: x[1],reverse=True)\n",
    "    ans=[]\n",
    "    i=0\n",
    "    for key,val in sorted_list:\n",
    "        if i==k:\n",
    "            return ans\n",
    "        else:\n",
    "            ans.append(key)\n",
    "        i+=1\n",
    "    return ans\n",
    "\n",
    "    '''\n",
    "    if k == len(nums):\n",
    "        return nums\n",
    "    count = Counter(nums)   \n",
    "    return heapq.nlargest(k, count.keys(), key=count.get)\n",
    "    '''\n",
    "\n",
    "    '''\n",
    "    dic = collections.Counter(nums)\n",
    "    h = []\n",
    "    from heapq import heappush, heappop\n",
    "    for key,count in dic.items(): # O(N)\n",
    "        heappush(h,(-count,key))# freq, item - O(log(k))\n",
    "        \n",
    "    res = []\n",
    "    for _ in range(k):\n",
    "        res.append(heapq.heappop(h)[1])\n",
    "    return res\n",
    "    '''\n",
    "    \n",
    "    '''\n",
    "    if k == len(nums):return nums\n",
    "    d=Counter(nums)          \n",
    "    # insert k items into heap O(nlog(k))\n",
    "    h = []\n",
    "    from heapq import heappush, heappop\n",
    "    for key in d: # O(N)\n",
    "        heappush(h, (d[key],key)) # freq, item - O(log(k))\n",
    "        if len(h) > k:\n",
    "            heappop(h)\n",
    "    \n",
    "    res = []\n",
    "    while h: # O(k)\n",
    "        frq, item = heappop(h) # O(logk)\n",
    "        res.append(item)\n",
    "    return res\n",
    "    '''\n",
    "nums=[1,1,1,2,2,3];k=2\n",
    "topKFrequent(nums,k)\n"
   ]
  },
  {
   "cell_type": "code",
   "execution_count": 38,
   "metadata": {},
   "outputs": [
    {
     "data": {
      "text/plain": [
       "3"
      ]
     },
     "execution_count": 38,
     "metadata": {},
     "output_type": "execute_result"
    }
   ],
   "source": [
    "#8. Find the Duplicate Number\n",
    "'''\n",
    "Given an array of integers nums containing n + 1 integers where each integer is in the range [1, n] inclusive.\n",
    "\n",
    "There is only one repeated number in nums, return this repeated number.\n",
    "\n",
    "Input: nums = [1,3,4,2,2]\n",
    "Output: 2\n",
    "\n",
    "Input: nums = [3,1,3,4,2]\n",
    "Output: 3\n",
    "'''\n",
    "def findDuplicate(nums) -> int:\n",
    "    '''\n",
    "    nums.sort()\n",
    "    for i in range(1, len(nums)):\n",
    "        if nums[i] == nums[i-1]:\n",
    "            return nums[i]\n",
    "    '''\n",
    "\n",
    "    for i in range(len(nums)):\n",
    "        ind = abs(nums[i])-1 \n",
    "        if nums[ind]>0:\n",
    "            nums[ind]=-nums[ind]\n",
    "        else:\n",
    "            return abs(nums[i])\n",
    "    '''\n",
    "    slow = fast = nums[0]\n",
    "    while True:\n",
    "        slow = nums[slow]\n",
    "        fast = nums[nums[fast]]\n",
    "        if slow == fast:\n",
    "            break\n",
    "    \n",
    "    # Find the \"entrance\" to the cycle.\n",
    "    slow = nums[0]\n",
    "    while slow != fast:\n",
    "        slow = nums[slow]\n",
    "        fast = nums[fast]\n",
    "    \n",
    "    return fast\n",
    "    '''\n",
    "nums = [3,1,3,4,2]\n",
    "findDuplicate(nums) "
   ]
  },
  {
   "cell_type": "code",
   "execution_count": 39,
   "metadata": {},
   "outputs": [
    {
     "data": {
      "text/plain": [
       "6"
      ]
     },
     "execution_count": 39,
     "metadata": {},
     "output_type": "execute_result"
    }
   ],
   "source": [
    "#9. Maximum Subarray:\n",
    "'''\n",
    "Given an integer array nums, find the contiguous subarray (containing at least one number) which has the largest \n",
    "sum and return its sum.\n",
    "\n",
    "Follow up: If you have figured out the O(n) solution, try coding another solution using \n",
    "the divide and conquer approach, which is more subtle.\n",
    "\n",
    "\n",
    "Input: nums = [-2,1,-3,4,-1,2,1,-5,4]\n",
    "Output: 6\n",
    "Explanation: [4,-1,2,1] has the largest sum = 6.\n",
    "'''\n",
    "\n",
    "'''\n",
    "#Divide and Conquer:\n",
    "\n",
    "def maxcrossingSubArray(self,nums,mid):\n",
    "    max_l_sum = max_r_sum = float('-inf')\n",
    "    sum = 0\n",
    "    for i in range(mid-1,-1,-1):\n",
    "        sum += nums[i]\n",
    "        max_l_sum = max( max_l_sum ,sum)\n",
    "    sum = 0\n",
    "   \n",
    "    for i in range(mid,len(nums),1):\n",
    "        sum += nums[i]\n",
    "        max_r_sum = max( max_r_sum ,sum)\n",
    "    return max_l_sum + max_r_sum\n",
    "\n",
    "def maxSubArray(self, nums):\n",
    "    \"\"\"\n",
    "    :type nums: List[int]\n",
    "    :rtype: int\n",
    "    \"\"\"\n",
    "    if len(nums) ==  1 :\n",
    "        return nums[0]\n",
    "    elif not nums:\n",
    "        return 0\n",
    "    else :\n",
    "        mid = len(nums)//2\n",
    "        print(mid)\n",
    "        l_sum = self.maxSubArray(nums[:mid])\n",
    "        r_sum = self.maxSubArray(nums[mid:])\n",
    "        c_sum = self.maxcrossingSubArray(nums,mid)\n",
    "        print(l_sum,r_sum,c_sum)\n",
    "        return max(l_sum,r_sum,c_sum)\n",
    "'''            \n",
    "\n",
    "def maxSubArray(nums) -> int:\n",
    "    for i in range(1,len(nums)):\n",
    "        if nums[i-1]>0:\n",
    "            nums[i]+=nums[i-1]\n",
    "    return max(nums)\n",
    "\n",
    "nums = [-2,1,-3,4,-1,2,1,-5,4]\n",
    "maxSubArray(nums)"
   ]
  },
  {
   "cell_type": "code",
   "execution_count": 4,
   "metadata": {},
   "outputs": [
    {
     "name": "stdout",
     "output_type": "stream",
     "text": [
      "{0: 1, 1: 1} 0\n",
      "{0: 1, 1: 1, 3: 1} 1\n",
      "{0: 1, 1: 1, 3: 1, 4: 1} 2\n",
      "{0: 1, 1: 1, 3: 1, 4: 1, 6: 1} 3\n",
      "{0: 1, 1: 1, 3: 1, 4: 1, 6: 1, 7: 1} 4\n"
     ]
    },
    {
     "data": {
      "text/plain": [
       "4"
      ]
     },
     "execution_count": 4,
     "metadata": {},
     "output_type": "execute_result"
    }
   ],
   "source": [
    "#10. Subarray Sum Equals K\n",
    "'''\n",
    "Given an array of integers nums and an integer k, return the total number of continuous subarrays whose\n",
    "sum equals to k.\n",
    "\n",
    "Input: nums = [1,1,1], k = 2\n",
    "Output: 2\n",
    "Example 2:\n",
    "\n",
    "Input: nums = [1,2,3], k = 3\n",
    "Output: 2\n",
    "'''\n",
    "def subarraySum(nums, k) -> int:\n",
    "    '''\n",
    "    count=0\n",
    "    for i in range(1,len(nums)+1):\n",
    "        for j in range(i,len(nums)+1):\n",
    "            if sum(nums[j-i:j])==k:\n",
    "                count+=1\n",
    "    return count\n",
    "    '''\n",
    "    '''\n",
    "    count=0\n",
    "    for i in range(1,len(nums)+1):\n",
    "        summ=sum(nums[:i])\n",
    "        for j in range(i,len(nums)):\n",
    "            if summ==k:\n",
    "                count+=1\n",
    "            summ+=nums[j]-nums[j-i]\n",
    "        count = count if summ!=k else count+1\n",
    "    return count\n",
    "    '''\n",
    "    \n",
    "    '''\n",
    "    First of all, the basic idea behind this code is that, whenever the sums has increased by a value of k, \n",
    "    we've found a subarray of sums=k.\n",
    "    I'll also explain why we need to initialise a 0 in the hashmap.\n",
    "    Example: Let's say our elements are [1,2,1,3] and k = 3 \n",
    "    and our corresponding running sums = [1,3,4,7]\n",
    "    Now, if you notice the running sums array, from 1->4, there is increase of k and from 4->7, \n",
    "    there is an increase of k. So, we've found 2 subarrays of sums=k.\n",
    "    But, if you look at the original array, there are 3 subarrays of sums==k. \n",
    "    Now, you'll understand why 0 comes in the picture.\n",
    "    In the above example, 4-1=k and 7-4=k. Hence, we concluded that there are 2 subarrays.However, if sums==k, \n",
    "    it should've been 3-0=k. But 0 is not present in the array. To account for this case, we include the 0.\n",
    "    Now the modified sums array will look like [0,1,3,4,7]. Now, try to see for the increase of k.\n",
    "    '''\n",
    "    dic={0:1}\n",
    "    count=summ=0\n",
    "    for num in nums:\n",
    "        summ+=num\n",
    "        '''\n",
    "        Single scan. Given the current sum and the k, we check if (sum-k) existed as previous sum at an \n",
    "        earlier stage (aka smaller window size).\n",
    "        Keep expanding the sum while checking whether we have seen (sum - k) before\n",
    "        '''\n",
    "        if summ-k in dic:\n",
    "            count+=dic[summ-k]\n",
    "        '''\n",
    "        It's possible that the freq of a sum could be greater than 1 only when the nums list conatins a zero\n",
    "        ex: nums = [1,2,3,0,4]\n",
    "        because sum will be the same for two consecutive iterations.It's important to capture this edge case\n",
    "        in order to return the correct number of subarrays that add up to target.\n",
    "        if we are guaranteed that the list nums has no zeros, then we can replace the prefix dict with a prefix set.\n",
    "        '''\n",
    "        if summ in dic:\n",
    "            dic[summ]+=1\n",
    "        else:\n",
    "            dic[summ]=1\n",
    "        print(dic,count)\n",
    "    return count\n",
    "\n",
    "nums=[1,2,1,2,1];k=3\n",
    "subarraySum(nums, k)"
   ]
  },
  {
   "cell_type": "code",
   "execution_count": 44,
   "metadata": {},
   "outputs": [
    {
     "data": {
      "text/plain": [
       "[5, 6]"
      ]
     },
     "execution_count": 44,
     "metadata": {},
     "output_type": "execute_result"
    }
   ],
   "source": [
    "#11. Find All Numbers Disappeared in an Array\n",
    "'''\n",
    "Given an array of integers where 1 ≤ a[i] ≤ n (n = size of array), some elements appear twice and others appear once.\n",
    "\n",
    "Find all the elements of [1, n] inclusive that do not appear in this array.\n",
    "\n",
    "Could you do it without extra space and in O(n) runtime? You may assume the returned list does not\n",
    "count as extra space.\n",
    "\n",
    "Input:\n",
    "[4,3,2,7,8,2,3,1]\n",
    "\n",
    "Output:\n",
    "[5,6]\n",
    "'''\n",
    "def findDisappearedNumbers(nums):\n",
    "    '''\n",
    "    #1. \n",
    "    \n",
    "    ans=[]\n",
    "    for i in range(1,len(nums)+1):\n",
    "        if i not in nums:\n",
    "            ans.append(i)\n",
    "    return ans\n",
    "    '''\n",
    "    \n",
    "    #2. return list(set(range(1,len(nums)+1)) - set(nums))\n",
    "    \n",
    "    #3.\n",
    "    for num in nums:\n",
    "        ind= abs(num)-1\n",
    "        if nums[ind]>0:\n",
    "            nums[ind]*=-1\n",
    "            \n",
    "    return [i + 1 for i in range(len(nums)) if nums[i] > 0]\n",
    "\n",
    "nums=[4,3,2,7,8,2,3,1]\n",
    "findDisappearedNumbers(nums)"
   ]
  },
  {
   "cell_type": "code",
   "execution_count": 45,
   "metadata": {},
   "outputs": [
    {
     "data": {
      "text/plain": [
       "[0, 0, 1, 1, 2, 2]"
      ]
     },
     "execution_count": 45,
     "metadata": {},
     "output_type": "execute_result"
    }
   ],
   "source": [
    "#12. Sort Colors\n",
    "'''\n",
    "Given an array nums with n objects colored red, white, or blue, sort them in-place so that objects of the same \n",
    "color are adjacent, with the colors in the order red, white, and blue.\n",
    "Here, we will use the integers 0, 1, and 2 to represent the color red, white, and blue respectively.\n",
    "\n",
    "Input: nums = [2,0,2,1,1,0]\n",
    "Output: [0,0,1,1,2,2]\n",
    "Example 2:\n",
    "\n",
    "Input: nums = [2,0,1]\n",
    "Output: [0,1,2]\n",
    "'''\n",
    "def sortColors(nums):\n",
    "    '''\n",
    "    zeros=ones=twos=0\n",
    "    for num in nums:\n",
    "        if num==0:\n",
    "            zeros+=1\n",
    "        elif num==1:\n",
    "            ones+=1\n",
    "        else:\n",
    "            twos+=1\n",
    "    nums[:zeros] = [0]*zeros\n",
    "    nums[zeros:zeros+ones] = [1]*ones\n",
    "    nums[zeros+ones:] = [2]*twos\n",
    "    return nums\n",
    "    '''\n",
    "    #2.Dutch Flag Partitioning Algorithm:\n",
    "    l,mid,r= 0, 0, len(nums)-1 \n",
    "    \n",
    "    while mid<=r:\n",
    "        if nums[mid]==0:\n",
    "            nums[l],nums[mid]=nums[mid],nums[l]\n",
    "            l+=1\n",
    "            mid+=1\n",
    "        elif nums[mid]==1:\n",
    "            mid+=1\n",
    "        else:\n",
    "            nums[mid],nums[r]=nums[r],nums[mid]\n",
    "            r-=1\n",
    "    return nums \n",
    "\n",
    "nums = [2,0,2,1,1,0]\n",
    "sortColors(nums)"
   ]
  },
  {
   "cell_type": "code",
   "execution_count": 1,
   "metadata": {},
   "outputs": [
    {
     "data": {
      "text/plain": [
       "12"
      ]
     },
     "execution_count": 1,
     "metadata": {},
     "output_type": "execute_result"
    }
   ],
   "source": [
    "#13.  Maximum Product of Two Elements in an Array:\n",
    "'''\n",
    "Given the array of integers nums, you will choose two different indices i and j of that array. \n",
    "Return the maximum value of (nums[i]-1)*(nums[j]-1).\n",
    "\n",
    "Input: nums = [3,4,5,2]\n",
    "Output: 12 \n",
    "Explanation: If you choose the indices i=1 and j=2 (indexed from 0), you will get the maximum value,\n",
    "that is, (nums[1]-1)*(nums[2]-1) = (4-1)*(5-1) = 3*4 = 12. \n",
    "\n",
    "Input: nums = [1,5,4,5]\n",
    "Output: 16\n",
    "Explanation: Choosing the indices i=1 and j=3 (indexed from 0), you will get the maximum value of (5-1)*(5-1) = 16.\n",
    "'''\n",
    "def maxProduct(nums):\n",
    "    '''\n",
    "    max_prod = 0\n",
    "    max_num = nums[0]-1\n",
    "    for i in range(1,len(nums)):\n",
    "        max_prod = max(max_num*(nums[i]-1),max_prod)\n",
    "        if (nums[i]-1) > max_num:\n",
    "            max_num = (nums[i]-1)\n",
    "    return max_prod\n",
    "    '''\n",
    "    first,second=0,0\n",
    "    for num in nums:\n",
    "        #continuosly check for 1st and 2nd largest number:\n",
    "        if num > first:\n",
    "            # update first largest and second largest\n",
    "            first,second = num,first\n",
    "        else:\n",
    "            # update second largest\n",
    "            second = max(num,second)\n",
    "    return (first-1) * (second-1)\n",
    "\n",
    "nums = [3,4,5,2]\n",
    "maxProduct(nums)"
   ]
  },
  {
   "cell_type": "code",
   "execution_count": 9,
   "metadata": {},
   "outputs": [
    {
     "name": "stdout",
     "output_type": "stream",
     "text": [
      "[1, 2, 0]\n"
     ]
    },
    {
     "data": {
      "text/plain": [
       "[1, 3, 0]"
      ]
     },
     "execution_count": 9,
     "metadata": {},
     "output_type": "execute_result"
    }
   ],
   "source": [
    "#14. Plus One\n",
    "'''\n",
    "Given a non-empty array of decimal digits representing a non-negative integer, increment one to the integer.\n",
    "\n",
    "The digits are stored such that the most significant digit is at the head of the list, and each element in \n",
    "the array contains a single digit.\n",
    "\n",
    "You may assume the integer does not contain any leading zero, except the number 0 itself.\n",
    "\n",
    "digits = [1,2,3]\n",
    "Output: [1,2,4]\n",
    "\n",
    "digits = [0,0]\n",
    "Output: [0,1]\n",
    "'''\n",
    "def plusOne(digits):\n",
    "    for i in range(len(digits)-1, -1, -1):\n",
    "        if digits[i] < 9:\n",
    "            digits[i] += 1\n",
    "            return digits\n",
    "        digits[i] = 0\n",
    "        print(digits)\n",
    "    return [1] + digits\n",
    "\n",
    "plusOne([1,2,9])"
   ]
  },
  {
   "cell_type": "code",
   "execution_count": 5,
   "metadata": {},
   "outputs": [
    {
     "data": {
      "text/plain": [
       "2"
      ]
     },
     "execution_count": 5,
     "metadata": {},
     "output_type": "execute_result"
    }
   ],
   "source": [
    "#15. Assign Cookies\n",
    "'''\n",
    "Assume you are an awesome parent and want to give your children some cookies. But, you should give each child \n",
    "at most one cookie.\n",
    "\n",
    "Each child i has a greed factor g[i], which is the minimum size of a cookie that the child will be content with; \n",
    "and each cookie j has a size s[j]. If s[j] >= g[i], we can assign the cookie j to the child i, and the child i \n",
    "will be content. Your goal is to maximize the number of your content children and output the maximum number.\n",
    "\n",
    "Input: g = [1,2,3], s = [1,1]\n",
    "Output: 1\n",
    "Explanation: You have 3 children and 2 cookies. The greed factors of 3 children are 1, 2, 3. \n",
    "And even though you have 2 cookies, since their size is both 1, you could only make the child whose greed factor is 1 content.\n",
    "You need to output 1.\n",
    "Example 2:\n",
    "\n",
    "Input: g = [1,2], s = [1,2,3]\n",
    "Output: 2\n",
    "Explanation: You have 2 children and 3 cookies. The greed factors of 2 children are 1, 2. \n",
    "You have 3 cookies and their sizes are big enough to gratify all of the children, You need to output 2.\n",
    "'''\n",
    "def findContentChildren(g,s):\n",
    "    g.sort()\n",
    "    s.sort()\n",
    "    child,cookie=0,0\n",
    "    while child<len(g) and cookie<len(s):\n",
    "        if s[cookie]>=g[child]:\n",
    "            child+=1\n",
    "        cookie+=1\n",
    "    return child\n",
    "\n",
    "g = [1,2]; s = [1,2,3]\n",
    "findContentChildren(g,s)"
   ]
  },
  {
   "cell_type": "code",
   "execution_count": 7,
   "metadata": {},
   "outputs": [
    {
     "data": {
      "text/plain": [
       "[2, 2, 2, 1, 4, 3, 3, 9, 6, 7, 19]"
      ]
     },
     "execution_count": 7,
     "metadata": {},
     "output_type": "execute_result"
    }
   ],
   "source": [
    "#16. Relative Sort Array\n",
    "'''\n",
    "Given two arrays arr1 and arr2, the elements of arr2 are distinct, and all elements in arr2 are also in arr1.\n",
    "\n",
    "Sort the elements of arr1 such that the relative ordering of items in arr1 are the same as in arr2. \n",
    "Elements that don't appear in arr2 should be placed at the end of arr1 in ascending order.\n",
    "\n",
    "Input: arr1 = [2,3,1,3,2,4,6,7,9,2,19], arr2 = [2,1,4,3,9,6]\n",
    "Output: [2,2,2,1,4,3,3,9,6,7,19]\n",
    "'''\n",
    "def relativeSortArray(arr1,arr2):\n",
    "    '''\n",
    "    dic = collections.Counter(arr1)\n",
    "    ans=[]\n",
    "    for num in arr2:\n",
    "        ans.extend([num]*dic[num])\n",
    "    rest=[]\n",
    "    for num in arr1:\n",
    "        if num not in ans:\n",
    "            rest.append(num)\n",
    "    return ans + sorted(rest)\n",
    "    '''\n",
    "    import collections\n",
    "    dic = collections.Counter(arr1)\n",
    "    ans=[]\n",
    "    for num in arr2:\n",
    "        ans.extend([num]*dic.pop(num))\n",
    "    ans.extend(sorted(dic.elements()))\n",
    "    return ans\n",
    "\n",
    "arr1 = [2,3,1,3,2,4,6,7,9,2,19]; arr2 = [2,1,4,3,9,6]\n",
    "relativeSortArray(arr1,arr2)"
   ]
  },
  {
   "cell_type": "code",
   "execution_count": 8,
   "metadata": {},
   "outputs": [
    {
     "data": {
      "text/plain": [
       "[[1], [1, 1], [1, 2, 1], [1, 3, 3, 1], [1, 4, 6, 4, 1], [1, 5, 10, 10, 5, 1]]"
      ]
     },
     "execution_count": 8,
     "metadata": {},
     "output_type": "execute_result"
    }
   ],
   "source": [
    "#16. Pascal's Triangle\n",
    "'''\n",
    "Given a non-negative integer numRows, generate the first numRows of Pascal's triangle\n",
    "Input: 5\n",
    "Output:\n",
    "[\n",
    "     [1],\n",
    "    [1,1],\n",
    "   [1,2,1],\n",
    "  [1,3,3,1],\n",
    " [1,4,6,4,1]\n",
    "]\n",
    "'''\n",
    "def generate(numRows):\n",
    "    if numRows==0: return []\n",
    "    res=[[1]]\n",
    "    for i in range(1,numRows):\n",
    "        new_row=[1]\n",
    "        for j in range(len(res[-1])-1):\n",
    "            new_row.append(res[-1][j]+res[-1][j+1])\n",
    "        new_row.append(1)\n",
    "        res.append(new_row)\n",
    "    return res\n",
    "generate(6)"
   ]
  },
  {
   "cell_type": "code",
   "execution_count": 12,
   "metadata": {},
   "outputs": [
    {
     "name": "stdout",
     "output_type": "stream",
     "text": [
      "[1, 2, 1, 1, 1] 2 1\n",
      "[1, 2, 3, 1, 1] 3 2\n",
      "[1, 3, 3, 1, 1] 3 1\n",
      "[1, 3, 3, 4, 1] 4 3\n",
      "[1, 3, 6, 4, 1] 4 2\n",
      "[1, 4, 6, 4, 1] 4 1\n"
     ]
    },
    {
     "data": {
      "text/plain": [
       "[1, 4, 6, 4, 1]"
      ]
     },
     "execution_count": 12,
     "metadata": {},
     "output_type": "execute_result"
    }
   ],
   "source": [
    "#17. Pascal's Triangle II\n",
    "'''\n",
    "Given an integer rowIndex, return the rowIndexth row of the Pascal's triangle.\n",
    "\n",
    "Notice that the row index starts from 0.\n",
    "\n",
    "Follow up:\n",
    "\n",
    "Could you optimize your algorithm to use only O(k) extra space?\n",
    "\n",
    "Input: rowIndex = 3    Output: [1,3,3,1]\n",
    "Input: rowIndex = 0    Output: [1]\n",
    "Input: rowIndex = 1    Output: [1,1]\n",
    "'''\n",
    "def getRow(rowIndex):\n",
    "    '''\n",
    "    res=[[1]]\n",
    "    for i in range(1,rowIndex+1):\n",
    "        new_row=[1]\n",
    "        for j in range(len(res[-1])-1):\n",
    "            new_row.append(res[-1][j]+res[-1][j+1])\n",
    "        new_row.append(1)\n",
    "        res.pop()\n",
    "        res.append(new_row)\n",
    "    return res[0]\n",
    "    '''\n",
    "    result = [1]*(rowIndex+1)\n",
    "    for i in range(2,rowIndex+1):\n",
    "        for j in range(i-1,0,-1):\n",
    "            result[j] += result[j-1]\n",
    "            print(result,i,j)\n",
    "    return result\n",
    "getRow(4)"
   ]
  },
  {
   "cell_type": "code",
   "execution_count": 1,
   "metadata": {},
   "outputs": [
    {
     "name": "stdout",
     "output_type": "stream",
     "text": [
      "165.0\n",
      "75.0\n"
     ]
    }
   ],
   "source": [
    "#18. Find the angle made by the hour hand and the minute hand at any given time. Assume it is an analog clock\n",
    "'''\n",
    "Input:  h = 12:00 m = 30.00\n",
    "Output: 165 degree\n",
    "\n",
    "Input:  h = 3.00 m = 30.00\n",
    "Output: 75 degree\n",
    "\n",
    "Ans:\n",
    "1. Calculate the angle made by hour hand with respect to 12:00 in h hours and m minutes. \n",
    "2. Calculate the angle made by minute hand with respect to 12:00 in h hours and m minutes. \n",
    "\n",
    "Calculate the Angle per min:\n",
    "\n",
    "The minute hand moves 360 degrees in 60 minutes => 360°/60mins => 6°/min\n",
    "The hour hand moves 360 degrees in 12 hours => 360°/12h => 30°/h => 30°/60mins => 0.5°/min\n",
    "In h hours and m minutes,  hour hand would move (h*60 + m)*0.5 \n",
    "and the minute hand would move (m)*6\n",
    "'''\n",
    "def angleClock(hour,minutes):\n",
    "    h = (60*hour + minutes)*0.5\n",
    "    m = 6*minutes\n",
    "    angle = abs(h-m)\n",
    "    return min(angle, 360-angle)\n",
    "print(angleClock(12,30))\n",
    "print(angleClock(3,30))"
   ]
  },
  {
   "cell_type": "code",
   "execution_count": null,
   "metadata": {},
   "outputs": [],
   "source": []
  }
 ],
 "metadata": {
  "kernelspec": {
   "display_name": "Python 3",
   "language": "python",
   "name": "python3"
  },
  "language_info": {
   "codemirror_mode": {
    "name": "ipython",
    "version": 3
   },
   "file_extension": ".py",
   "mimetype": "text/x-python",
   "name": "python",
   "nbconvert_exporter": "python",
   "pygments_lexer": "ipython3",
   "version": "3.8.5"
  }
 },
 "nbformat": 4,
 "nbformat_minor": 2
}
