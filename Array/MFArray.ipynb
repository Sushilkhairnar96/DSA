{
 "cells": [
  {
   "cell_type": "code",
   "execution_count": 16,
   "metadata": {},
   "outputs": [
    {
     "data": {
      "text/plain": [
       "4"
      ]
     },
     "execution_count": 16,
     "metadata": {},
     "output_type": "execute_result"
    }
   ],
   "source": [
    "#1. Single Number\n",
    "'''\n",
    "Given a non-empty array of integers nums, every element appears twice except for one. Find that single one.\n",
    "\n",
    "Input: nums = [2,2,1]\n",
    "Output: 1\n",
    "\n",
    "Input: nums = [4,1,2,1,2]\n",
    "Output: 4\n",
    "'''\n",
    "nums = [4,1,2,1,2]\n",
    "res=0\n",
    "for num in nums:\n",
    "    res^=num\n",
    "res\n",
    "\n",
    "#(sum(list(set(nums)))*2- sum(nums))"
   ]
  },
  {
   "cell_type": "code",
   "execution_count": 17,
   "metadata": {},
   "outputs": [
    {
     "data": {
      "text/plain": [
       "4"
      ]
     },
     "execution_count": 17,
     "metadata": {},
     "output_type": "execute_result"
    }
   ],
   "source": [
    "#Follow up: Given a non-empty array of integers nums, every element appears thrice except for one. Find that single one.\n",
    "\n",
    "nums=[4,1,2,1,2,1,2]\n",
    "#(sum(list(set(nums)))*3 - sum(nums))//2\n",
    "\n",
    "ones = 0\n",
    "twos = 0\n",
    "      \n",
    "for i in range(len(nums)): \n",
    "    # one & nums[i]\" gives the bits that are there in both 'ones' and new element from nums[]. \n",
    "    #We add these bits to 'twos' using bitwise OR \n",
    "    twos = twos | (ones & nums[i]) \n",
    "      \n",
    "    ones = ones ^ nums[i] \n",
    "      \n",
    "    # The common bits are those bits  which appear third time. So these bits should not be there in both  \n",
    "    # 'ones' and 'twos'. common_bit_mask contains all these bits as 0, so that the bits can be removed from \n",
    "    # 'ones' and 'twos' \n",
    "    common_bit_mask = ~(ones & twos) \n",
    "      \n",
    "    # Remove common bits (the bits that  appear third time) from 'ones' \n",
    "    ones &= common_bit_mask \n",
    "      \n",
    "    # Remove common bits (the bits that appear third time) from 'twos' \n",
    "    twos &= common_bit_mask \n",
    "ones "
   ]
  },
  {
   "cell_type": "code",
   "execution_count": 31,
   "metadata": {},
   "outputs": [
    {
     "data": {
      "text/plain": [
       "3"
      ]
     },
     "execution_count": 31,
     "metadata": {},
     "output_type": "execute_result"
    }
   ],
   "source": [
    "#2. Best Time to Buy and Sell Stock:\n",
    "'''\n",
    "Say you have an array for which the ith element is the price of a given stock on day i.\n",
    "\n",
    "If you were only permitted to complete at most one transaction (i.e., buy one and sell one share of the stock),\n",
    "design an algorithm to find the maximum profit.\n",
    "\n",
    "Note that you cannot sell a stock before you buy one.\n",
    "\n",
    "Example 1:\n",
    "\n",
    "Input: [7,1,5,3,6,4]\n",
    "Output: 5\n",
    "Explanation: Buy on day 2 (price = 1) and sell on day 5 (price = 6), profit = 6-1 = 5.\n",
    "             Not 7-1 = 6, as selling price needs to be larger than buying price.\n",
    "Example 2:\n",
    "\n",
    "Input: [7,6,4,3,1]\n",
    "Output: 0\n",
    "Explanation: In this case, no transaction is done, i.e. max profit = 0.\n",
    "'''\n",
    "def maxProfit(prices):\n",
    "    '''\n",
    "    max_profit =0\n",
    "    for i in range(len(prices)):\n",
    "        for j in range(i+1,len(prices)):\n",
    "            profit = prices[j]-prices[i]\n",
    "            max_profit = max(profit,max_profit)\n",
    "    return max_profit\n",
    "    '''\n",
    "    min_price = float('inf')\n",
    "    max_profit=0\n",
    "    for i in range(len(prices)):\n",
    "        if prices[i]<min_price:\n",
    "            min_price=prices[i]\n",
    "        else:\n",
    "            max_profit = max(prices[i]-min_price,max_profit)\n",
    "    return max_profit\n",
    "                \n",
    "\n",
    "#prices=[7,1,5,3,6,4]\n",
    "prices=[2,5,1]\n",
    "maxProfit(prices)"
   ]
  },
  {
   "cell_type": "code",
   "execution_count": 33,
   "metadata": {},
   "outputs": [
    {
     "data": {
      "text/plain": [
       "7"
      ]
     },
     "execution_count": 33,
     "metadata": {},
     "output_type": "execute_result"
    }
   ],
   "source": [
    "#3.Best Time to Buy and Sell Stock II\n",
    "'''\n",
    "Say you have an array prices for which the ith element is the price of a given stock on day i.\n",
    "\n",
    "Design an algorithm to find the maximum profit. You may complete as many transactions as you like \n",
    "(i.e., buy one and sell one share of the stock multiple times).\n",
    "\n",
    "Note: You may not engage in multiple transactions at the same time (i.e., you must sell the stock before you buy again).\n",
    "\n",
    "\n",
    "Input: [7,1,5,3,6,4]\n",
    "Output: 7\n",
    "Explanation: Buy on day 2 (price = 1) and sell on day 3 (price = 5), profit = 5-1 = 4.\n",
    "             Then buy on day 4 (price = 3) and sell on day 5 (price = 6), profit = 6-3 = 3.\n",
    "\n",
    "Input: [1,2,3,4,5]\n",
    "Output: 4\n",
    "Explanation: Buy on day 1 (price = 1) and sell on day 5 (price = 5), profit = 5-1 = 4.\n",
    "             Note that you cannot buy on day 1, buy on day 2 and sell them later, as you are\n",
    "             engaging multiple transactions at the same time. You must sell before buying again.\n",
    "'''\n",
    "\n",
    "def maxProfit(prices):\n",
    "    min_price = float('inf')\n",
    "    profit=0\n",
    "    for i in range(len(prices)):\n",
    "        if prices[i]<min_price:\n",
    "            min_price=prices[i]\n",
    "        else:\n",
    "            profit+= prices[i] - min_price\n",
    "            min_price=prices[i]\n",
    "    return profit\n",
    "\n",
    "prices=[7,1,5,3,6,4]\n",
    "maxProfit(prices)"
   ]
  },
  {
   "cell_type": "code",
   "execution_count": 18,
   "metadata": {},
   "outputs": [
    {
     "data": {
      "text/plain": [
       "2"
      ]
     },
     "execution_count": 18,
     "metadata": {},
     "output_type": "execute_result"
    }
   ],
   "source": [
    "#4. Missing Number:\n",
    "'''\n",
    "Given an array nums containing n distinct numbers in the range [0, n], return the only number in the range \n",
    "that is missing from the array.\n",
    "\n",
    "Follow up: Could you implement a solution using only O(1) extra space complexity and O(n) runtime complexity?\n",
    "\n",
    "Input: nums = [3,0,1]\n",
    "Output: 2\n",
    "Explanation: n = 3 since there are 3 numbers, so all numbers are in the range [0,3]. \n",
    "2 is the missing number in the range since it does not appear in nums.\n",
    "\n",
    "Input: nums = [0,1]\n",
    "Output: 2\n",
    "'''\n",
    "\n",
    "def missingNumber(nums) -> int:\n",
    "    #for i in range(len(nums)+1):\n",
    "    #    if i not in nums:\n",
    "    #        return i\n",
    "    \n",
    "    #ans = set(range(len(nums)+1))-set(nums)\n",
    "    #return ans.pop()\n",
    "    \n",
    "    n=len(nums)\n",
    "    expected_sum = n*(n+1)//2\n",
    "    actual_sum = sum(nums)\n",
    "    return expected_sum - actual_sum\n",
    "\n",
    "nums = [3,0,1]\n",
    "missingNumber(nums) "
   ]
  },
  {
   "cell_type": "code",
   "execution_count": 21,
   "metadata": {},
   "outputs": [
    {
     "data": {
      "text/plain": [
       "[1, 2, 2, 3, 5, 6]"
      ]
     },
     "execution_count": 21,
     "metadata": {},
     "output_type": "execute_result"
    }
   ],
   "source": [
    "#5. Merge Sorted Array\n",
    "'''\n",
    "Given two sorted integer arrays nums1 and nums2, merge nums2 into nums1 as one sorted array.\n",
    "\n",
    "The number of elements initialized in nums1 and nums2 are m and n respectively. \n",
    "You may assume that nums1 has enough space (size that is equal to m + n) to hold additional elements from nums2.\n",
    "\n",
    "Input: nums1 = [1,2,3,0,0,0], m = 3, nums2 = [2,5,6], n = 3\n",
    "Output: [1,2,2,3,5,6]\n",
    "\n",
    "Input: nums1 = [1], m = 1, nums2 = [], n = 0\n",
    "Output: [1]\n",
    "'''\n",
    "def merge(nums1,m,nums2,n):\n",
    "    m,n=m-1,n-1\n",
    "    while m>=0 and n>=0:\n",
    "        if nums1[m]<nums2[n]:\n",
    "            nums1[m+n+1]=nums2[n]\n",
    "            n-=1\n",
    "        else:\n",
    "            nums1[m+n+1]=nums1[m]\n",
    "            m-=1\n",
    "    if n>=0: nums1[:n+1]=nums2[:n+1]\n",
    "    return nums1\n",
    "\n",
    "nums1 = [1,2,3,0,0,0];m = 3; nums2 = [2,5,6]; n = 3\n",
    "merge(nums1,m,nums2,n)\n"
   ]
  },
  {
   "cell_type": "code",
   "execution_count": 23,
   "metadata": {},
   "outputs": [
    {
     "data": {
      "text/plain": [
       "[0, 3, 6, 7, 8, 9, 10]"
      ]
     },
     "execution_count": 23,
     "metadata": {},
     "output_type": "execute_result"
    }
   ],
   "source": [
    "#Follow up : given two sorted arrays, return a new array without modifying inline\n",
    "def merge_array(nums1,nums2):\n",
    "    m,n= len(nums1)-1,len(nums2)-1\n",
    "    ans=[0]*(m+n+2)\n",
    "    while m>=0 and n>=0:\n",
    "        if nums1[m]<nums2[n]:\n",
    "            ans[m+n+1]=nums2[n]\n",
    "            n-=1\n",
    "        else:\n",
    "            ans[m+n+1]=nums1[m]\n",
    "            m-=1\n",
    "    if m>=0: ans[:m+1]=nums1[:m+1]\n",
    "    if n>=0: ans[:n+1]=nums2[:n+1]\n",
    "    return ans\n",
    "\n",
    "nums1=[3,7,9,10];nums2=[0,6,8]\n",
    "merge_array(nums1,nums2)"
   ]
  },
  {
   "cell_type": "code",
   "execution_count": null,
   "metadata": {},
   "outputs": [],
   "source": []
  }
 ],
 "metadata": {
  "kernelspec": {
   "display_name": "Python 3",
   "language": "python",
   "name": "python3"
  },
  "language_info": {
   "codemirror_mode": {
    "name": "ipython",
    "version": 3
   },
   "file_extension": ".py",
   "mimetype": "text/x-python",
   "name": "python",
   "nbconvert_exporter": "python",
   "pygments_lexer": "ipython3",
   "version": "3.8.5"
  }
 },
 "nbformat": 4,
 "nbformat_minor": 2
}
