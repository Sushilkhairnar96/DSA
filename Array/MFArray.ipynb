{
 "cells": [
  {
   "cell_type": "code",
   "execution_count": 16,
   "metadata": {},
   "outputs": [
    {
     "data": {
      "text/plain": [
       "4"
      ]
     },
     "execution_count": 16,
     "metadata": {},
     "output_type": "execute_result"
    }
   ],
   "source": [
    "#1. Single Number\n",
    "'''\n",
    "Given a non-empty array of integers nums, every element appears twice except for one. Find that single one.\n",
    "\n",
    "Input: nums = [2,2,1]\n",
    "Output: 1\n",
    "\n",
    "Input: nums = [4,1,2,1,2]\n",
    "Output: 4\n",
    "'''\n",
    "nums = [4,1,2,1,2]\n",
    "res=0\n",
    "for num in nums:\n",
    "    res^=num\n",
    "res\n",
    "\n",
    "#(sum(list(set(nums)))*2- sum(nums))"
   ]
  },
  {
   "cell_type": "code",
   "execution_count": 17,
   "metadata": {},
   "outputs": [
    {
     "data": {
      "text/plain": [
       "4"
      ]
     },
     "execution_count": 17,
     "metadata": {},
     "output_type": "execute_result"
    }
   ],
   "source": [
    "#Follow up: Given a non-empty array of integers nums, every element appears thrice except for one. Find that single one.\n",
    "\n",
    "nums=[4,1,2,1,2,1,2]\n",
    "#(sum(list(set(nums)))*3 - sum(nums))//2\n",
    "\n",
    "ones = 0\n",
    "twos = 0\n",
    "      \n",
    "for i in range(len(nums)): \n",
    "    # one & nums[i]\" gives the bits that are there in both 'ones' and new element from nums[]. \n",
    "    #We add these bits to 'twos' using bitwise OR \n",
    "    twos = twos | (ones & nums[i]) \n",
    "      \n",
    "    ones = ones ^ nums[i] \n",
    "      \n",
    "    # The common bits are those bits  which appear third time. So these bits should not be there in both  \n",
    "    # 'ones' and 'twos'. common_bit_mask contains all these bits as 0, so that the bits can be removed from \n",
    "    # 'ones' and 'twos' \n",
    "    common_bit_mask = ~(ones & twos) \n",
    "      \n",
    "    # Remove common bits (the bits that  appear third time) from 'ones' \n",
    "    ones &= common_bit_mask \n",
    "      \n",
    "    # Remove common bits (the bits that appear third time) from 'twos' \n",
    "    twos &= common_bit_mask \n",
    "ones "
   ]
  },
  {
   "cell_type": "code",
   "execution_count": null,
   "metadata": {},
   "outputs": [],
   "source": [
    "#2. Best Time to Buy and Sell Stock:\n",
    "'''\n",
    "Say you have an array for which the ith element is the price of a given stock on day i.\n",
    "\n",
    "If you were only permitted to complete at most one transaction (i.e., buy one and sell one share of the stock),\n",
    "design an algorithm to find the maximum profit.\n",
    "\n",
    "Note that you cannot sell a stock before you buy one.\n",
    "\n",
    "Example 1:\n",
    "\n",
    "Input: [7,1,5,3,6,4]\n",
    "Output: 5\n",
    "Explanation: Buy on day 2 (price = 1) and sell on day 5 (price = 6), profit = 6-1 = 5.\n",
    "             Not 7-1 = 6, as selling price needs to be larger than buying price.\n",
    "Example 2:\n",
    "\n",
    "Input: [7,6,4,3,1]\n",
    "Output: 0\n",
    "Explanation: In this case, no transaction is done, i.e. max profit = 0.\n",
    "'''\n"
   ]
  }
 ],
 "metadata": {
  "kernelspec": {
   "display_name": "Python 3",
   "language": "python",
   "name": "python3"
  },
  "language_info": {
   "codemirror_mode": {
    "name": "ipython",
    "version": 3
   },
   "file_extension": ".py",
   "mimetype": "text/x-python",
   "name": "python",
   "nbconvert_exporter": "python",
   "pygments_lexer": "ipython3",
   "version": "3.8.5"
  }
 },
 "nbformat": 4,
 "nbformat_minor": 2
}
