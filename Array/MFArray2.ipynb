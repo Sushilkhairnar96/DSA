{
 "cells": [
  {
   "cell_type": "code",
   "execution_count": 1,
   "metadata": {},
   "outputs": [
    {
     "data": {
      "text/plain": [
       "True"
      ]
     },
     "execution_count": 1,
     "metadata": {},
     "output_type": "execute_result"
    }
   ],
   "source": [
    "#1. Non-decreasing Array\n",
    "'''\n",
    "Given an array nums with n integers, your task is to check if it could become non-decreasing by modifying \n",
    "at most one element.\n",
    "\n",
    "We define an array is non-decreasing if nums[i] <= nums[i + 1] holds for every i (0-based) such that (0 <= i <= n - 2).\n",
    "\n",
    "Input: nums = [4,2,3]\n",
    "Output: true\n",
    "Explanation: You could modify the first 4 to 1 to get a non-decreasing array.\n",
    "\n",
    "Input: nums = [4,2,1]\n",
    "Output: false\n",
    "Explanation: You can't get a non-decreasing array by modify at most one element.\n",
    "'''\n",
    "def checkPossibility(nums) -> bool:\n",
    "    '''\n",
    "    left=nums[:]\n",
    "    right=nums[:]\n",
    "    \n",
    "    for i in range(len(nums)-1):\n",
    "        if nums[i]>nums[i+1]:\n",
    "            left[i]=nums[i+1]\n",
    "            right[i+1]=nums[i]\n",
    "            break\n",
    "        \n",
    "    return sorted(left)==left or sorted(right)==right\n",
    "    '''\n",
    "    count=0\n",
    "    for i in range(len(nums)-1):\n",
    "        if nums[i]>nums[i+1]:\n",
    "            count+=1\n",
    "            if i==0:\n",
    "                nums[i]=nums[i+1]\n",
    "            elif nums[i-1]<=nums[i+1]:\n",
    "                nums[i]=nums[i-1]\n",
    "            else:\n",
    "                nums[i+1]=nums[i]\n",
    "            if count>1:\n",
    "                return False\n",
    "    return True\n",
    "\n",
    "nums = [4,2,3]\n",
    "checkPossibility(nums)"
   ]
  },
  {
   "cell_type": "code",
   "execution_count": null,
   "metadata": {},
   "outputs": [],
   "source": []
  }
 ],
 "metadata": {
  "kernelspec": {
   "display_name": "Python 3",
   "language": "python",
   "name": "python3"
  },
  "language_info": {
   "codemirror_mode": {
    "name": "ipython",
    "version": 3
   },
   "file_extension": ".py",
   "mimetype": "text/x-python",
   "name": "python",
   "nbconvert_exporter": "python",
   "pygments_lexer": "ipython3",
   "version": "3.8.5"
  }
 },
 "nbformat": 4,
 "nbformat_minor": 4
}
