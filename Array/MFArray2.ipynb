{
 "cells": [
  {
   "cell_type": "code",
   "execution_count": 1,
   "metadata": {},
   "outputs": [
    {
     "data": {
      "text/plain": [
       "True"
      ]
     },
     "execution_count": 1,
     "metadata": {},
     "output_type": "execute_result"
    }
   ],
   "source": [
    "#1. Non-decreasing Array\n",
    "'''\n",
    "Given an array nums with n integers, your task is to check if it could become non-decreasing by modifying \n",
    "at most one element.\n",
    "\n",
    "We define an array is non-decreasing if nums[i] <= nums[i + 1] holds for every i (0-based) such that (0 <= i <= n - 2).\n",
    "\n",
    "Input: nums = [4,2,3]\n",
    "Output: true\n",
    "Explanation: You could modify the first 4 to 1 to get a non-decreasing array.\n",
    "\n",
    "Input: nums = [4,2,1]\n",
    "Output: false\n",
    "Explanation: You can't get a non-decreasing array by modify at most one element.\n",
    "'''\n",
    "def checkPossibility(nums) -> bool:\n",
    "    '''\n",
    "    left=nums[:]\n",
    "    right=nums[:]\n",
    "    \n",
    "    for i in range(len(nums)-1):\n",
    "        if nums[i]>nums[i+1]:\n",
    "            left[i]=nums[i+1]\n",
    "            right[i+1]=nums[i]\n",
    "            break\n",
    "        \n",
    "    return sorted(left)==left or sorted(right)==right\n",
    "    '''\n",
    "    count=0\n",
    "    for i in range(len(nums)-1):\n",
    "        if nums[i]>nums[i+1]:\n",
    "            count+=1\n",
    "            if i==0:\n",
    "                nums[i]=nums[i+1]\n",
    "            elif nums[i-1]<=nums[i+1]:\n",
    "                nums[i]=nums[i-1]\n",
    "            else:\n",
    "                nums[i+1]=nums[i]\n",
    "            if count>1:\n",
    "                return False\n",
    "    return True\n",
    "\n",
    "nums = [4,2,3]\n",
    "checkPossibility(nums)"
   ]
  },
  {
   "cell_type": "code",
   "execution_count": 5,
   "metadata": {},
   "outputs": [
    {
     "data": {
      "text/plain": [
       "[5, 6, 7, 1, 2, 3, 4]"
      ]
     },
     "execution_count": 5,
     "metadata": {},
     "output_type": "execute_result"
    }
   ],
   "source": [
    "#2. Rotate Array\n",
    "'''\n",
    "Input: nums = [1,2,3,4,5,6,7], k = 3\n",
    "Output: [5,6,7,1,2,3,4]\n",
    "\n",
    "Input: nums = [-1,-100,3,99], k = 2\n",
    "Output: [3,99,-1,-100]\n",
    "'''\n",
    "\n",
    "def rotate(nums,k):\n",
    "    \"\"\"\n",
    "    Do not return anything, modify nums in-place instead.\n",
    "    \"\"\"\n",
    "    \n",
    "    '''\n",
    "    #1. Brute Force\n",
    "    \n",
    "    for _ in range(k%len(nums)):\n",
    "        prev = nums[-1]\n",
    "        for i in range(len(nums)):\n",
    "            temp = nums[i]\n",
    "            nums[i] = prev\n",
    "            prev = temp\n",
    "    '''\n",
    "    \n",
    "    '''\n",
    "    #2. Short Cut\n",
    "    k = k % len(nums)\n",
    "    nums[:]= nums[-k:]+nums[:-k]\n",
    "    '''\n",
    "    \n",
    "    '''\n",
    "    #3. We use an extra array in which we place every element of the array at its correct position \n",
    "        i.e. the number at index ii in the original array is placed at the index (i+k)%(length of array)(i+k).\n",
    "        Then, we copy the new array to the original one.\n",
    "    \n",
    "    a = [0] * len(nums)\n",
    "    for i in range(len(nums)):\n",
    "        a[(i+k)%len(nums)] = nums[i] #recycle\n",
    "\n",
    "    for i in range(len(nums)):\n",
    "        nums[i] = a[i]\n",
    "    '''\n",
    "    \n",
    "    #4. Using Reverse\n",
    "        \n",
    "    '''\n",
    "    In this approach, we firstly reverse all the elements of the array. \n",
    "    Then, reversing the first k elements followed by reversing the rest n-k which gives us the required result.\n",
    "\n",
    "    Let n=7 and k=3.\n",
    "    \n",
    "    Original List                   : 1 2 3 4 5 6 7\n",
    "    After reversing all numbers     : 7 6 5 4 3 2 1\n",
    "    After reversing first k numbers : 5 6 7 4 3 2 1\n",
    "    After revering last n-k numbers : 5 6 7 1 2 3 4 --> Result\n",
    "    '''\n",
    "    def reverse(nums,l,r):\n",
    "        while l<=r:\n",
    "            nums[l],nums[r]=nums[r],nums[l]\n",
    "            l+=1\n",
    "            r-=1\n",
    "            \n",
    "    k = k % len(nums)\n",
    "    reverse(nums,0,len(nums)-1)\n",
    "    reverse(nums,0,k-1)\n",
    "    reverse(nums,k,len(nums)-1)\n",
    "    \n",
    "    return nums\n",
    "\n",
    "\n",
    "nums = [1,2,3,4,5,6,7]; k = 3\n",
    "rotate(nums,k)"
   ]
  },
  {
   "cell_type": "code",
   "execution_count": 7,
   "metadata": {},
   "outputs": [
    {
     "data": {
      "text/plain": [
       "[4, 5, 6, 7, 1, 2, 3]"
      ]
     },
     "execution_count": 7,
     "metadata": {},
     "output_type": "execute_result"
    }
   ],
   "source": [
    "#Rotate left:\n",
    "'''\n",
    "1,2,3,4,5,6,7\n",
    "2,3,4,5,6,7,1 => k=1\n",
    "3,4,5,6,7,1,2 => k=2\n",
    "4,5,6,7,1,2,3 => k=3\n",
    "'''\n",
    "nums = [1,2,3,4,5,6,7]; k = 3\n",
    "def reverse(nums,l,r):\n",
    "    while l<=r:\n",
    "        nums[l],nums[r]=nums[r],nums[l]\n",
    "        l+=1\n",
    "        r-=1\n",
    "        \n",
    "k = k % len(nums)\n",
    "reverse(nums,0,len(nums)-1)\n",
    "reverse(nums,0,len(nums)-k-1)\n",
    "reverse(nums,len(nums)-k,len(nums)-1)\n",
    "nums"
   ]
  },
  {
   "cell_type": "code",
   "execution_count": 8,
   "metadata": {},
   "outputs": [
    {
     "data": {
      "text/plain": [
       "4"
      ]
     },
     "execution_count": 8,
     "metadata": {},
     "output_type": "execute_result"
    }
   ],
   "source": [
    "#3. Array Nesting\n",
    "'''\n",
    "A zero-indexed array A of length N contains all integers from 0 to N-1. Find and return the longest length of set S,\n",
    "where S[i] = {A[i], A[A[i]], A[A[A[i]]], ... } subjected to the rule below.\n",
    "\n",
    "Suppose the first element in S starts with the selection of element A[i] of index = i, the next element in\n",
    "S should be A[A[i]], and then A[A[A[i]]]… By that analogy, we stop adding right before a duplicate element occurs in S.\n",
    "\n",
    "Input: A = [5,4,0,3,1,6,2]\n",
    "Output: 4\n",
    "Explanation: \n",
    "A[0] = 5, A[1] = 4, A[2] = 0, A[3] = 3, A[4] = 1, A[5] = 6, A[6] = 2.\n",
    "\n",
    "One of the longest S[K]:\n",
    "S[0] = {A[0], A[5], A[6], A[2]} = {5, 6, 2, 0}\n",
    "'''\n",
    "def arrayNesting(nums) -> int:\n",
    "    '''\n",
    "    O(n) space TLE:\n",
    "    max_count=0\n",
    "    for i in range(len(nums)):\n",
    "        cur = i\n",
    "        count=0\n",
    "        arr=[]\n",
    "        while nums[cur] not in arr:\n",
    "            count+=1\n",
    "            arr.append(nums[cur])\n",
    "            cur=nums[cur]\n",
    "        arr=[]\n",
    "        max_count=max(count,max_count)\n",
    "    return max_count\n",
    "    '''\n",
    "    \n",
    "    '''\n",
    "    #O(n) space => works well\n",
    "    \n",
    "    seen=[False]*len(nums)\n",
    "    max_count=0\n",
    "    for i in range(len(nums)):\n",
    "        count=0\n",
    "        while not seen[i]:\n",
    "            count+=1\n",
    "            seen[i]=True\n",
    "            i=nums[i]\n",
    "        max_count=max(count,max_count)\n",
    "    return max_count\n",
    "    '''\n",
    "    \n",
    "    #O(1) space\n",
    "    max_count=0\n",
    "    for i in range(len(nums)):\n",
    "        cur = i\n",
    "        count=0\n",
    "        while nums[cur]!=-1:\n",
    "            count+=1\n",
    "            tmp=nums[cur]\n",
    "            nums[cur]=-1\n",
    "            cur=tmp\n",
    "        max_count=max(count,max_count)\n",
    "    return max_count\n",
    "\n",
    "nums=[5,4,0,3,1,6,2]\n",
    "arrayNesting(nums)"
   ]
  },
  {
   "cell_type": "code",
   "execution_count": null,
   "metadata": {},
   "outputs": [],
   "source": []
  }
 ],
 "metadata": {
  "kernelspec": {
   "display_name": "Python 3",
   "language": "python",
   "name": "python3"
  },
  "language_info": {
   "codemirror_mode": {
    "name": "ipython",
    "version": 3
   },
   "file_extension": ".py",
   "mimetype": "text/x-python",
   "name": "python",
   "nbconvert_exporter": "python",
   "pygments_lexer": "ipython3",
   "version": "3.8.5"
  }
 },
 "nbformat": 4,
 "nbformat_minor": 4
}
