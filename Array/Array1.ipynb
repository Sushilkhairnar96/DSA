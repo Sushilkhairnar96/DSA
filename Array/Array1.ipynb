{
 "cells": [
  {
   "cell_type": "code",
   "execution_count": null,
   "metadata": {},
   "outputs": [],
   "source": [
    "arr=[6,7,7,7,7,8]\n",
    "arr=sorted(arr)\n",
    "print(arr)\n",
    "\n",
    "mi=float('inf')\n",
    "for i in range(1,len(arr)):\n",
    "    d=arr[i]-arr[i-1]\n",
    "    mi=min(mi,d)\n",
    "print(mi)\n",
    "\n",
    "x=[]\n",
    "for i in range(1,len(arr)):\n",
    "    if arr[i]-arr[i-1]==mi :\n",
    "        if [arr[i-1],arr[i]] not in x: \n",
    "            x.append([arr[i-1],arr[i]])\n",
    "        \n",
    "x"
   ]
  },
  {
   "cell_type": "code",
   "execution_count": null,
   "metadata": {},
   "outputs": [],
   "source": [
    "from collections import deque\n",
    "queue=deque([(1,2,3)])\n",
    "cur,val1,val2=queue.popleft()\n",
    "val2"
   ]
  },
  {
   "cell_type": "code",
   "execution_count": null,
   "metadata": {},
   "outputs": [],
   "source": [
    "i=1\n",
    "for i in range(0,16,2):\n",
    "    print(i)"
   ]
  },
  {
   "cell_type": "code",
   "execution_count": null,
   "metadata": {},
   "outputs": [],
   "source": [
    "x=[-40,10,20,30]\n",
    "set(x)"
   ]
  },
  {
   "cell_type": "code",
   "execution_count": 27,
   "metadata": {},
   "outputs": [
    {
     "data": {
      "text/plain": [
       "3"
      ]
     },
     "execution_count": 27,
     "metadata": {},
     "output_type": "execute_result"
    }
   ],
   "source": [
    "nums= [1,1,0,1,1,1]\n",
    "c=0\n",
    "x=[]\n",
    "for i in nums:\n",
    "    if i ==1 :\n",
    "        c+=1\n",
    "    else:\n",
    "        x.append(c)\n",
    "        c=0\n",
    "x.append(c)\n",
    "x\n",
    "max(x)"
   ]
  },
  {
   "cell_type": "code",
   "execution_count": null,
   "metadata": {},
   "outputs": [],
   "source": [
    "arr=[37,12,28,9,100,56,80,5,12]\n",
    "dic={}\n",
    "arr1=sorted(set(arr))\n",
    "for i in range(len(arr1)):\n",
    "    if arr1[i] not in dic:\n",
    "        dic[arr1[i]]=i+1\n",
    "    else:\n",
    "        pass\n",
    "print(dic)\n",
    "x=[]\n",
    "for i in arr:\n",
    "    x.append(dic[i])\n",
    "x\n",
    "#[5,3,4,2,8,6,7,1,3]"
   ]
  },
  {
   "cell_type": "code",
   "execution_count": null,
   "metadata": {},
   "outputs": [],
   "source": [
    "arr=[40,10,20,30]\n",
    "set2=set()\n",
    "for i in arr:\n",
    "    set2.add(i) \n",
    "set2"
   ]
  },
  {
   "cell_type": "code",
   "execution_count": 83,
   "metadata": {},
   "outputs": [
    {
     "name": "stdout",
     "output_type": "stream",
     "text": [
      "{'B': 'C', 'D': 'B', 'C': 'A'}\n",
      "A\n"
     ]
    }
   ],
   "source": [
    "    def destCity(self, paths: List[List[str]]) -> str:\n",
    "        dic={}\n",
    "        for i in paths:\n",
    "            dic[i[0]]=i[1]\n",
    "        for i in dic.values():\n",
    "            if i not in dic.keys():\n",
    "                return i       "
   ]
  },
  {
   "cell_type": "code",
   "execution_count": 77,
   "metadata": {},
   "outputs": [
    {
     "name": "stdout",
     "output_type": "stream",
     "text": [
      "[5, 6] [1, 2, 3]\n"
     ]
    }
   ],
   "source": [
    "s2=[1,2,3]\n",
    "s1=[5,6]\n",
    "x,y=y,x\n",
    "print(x,y)"
   ]
  },
  {
   "cell_type": "code",
   "execution_count": null,
   "metadata": {},
   "outputs": [],
   "source": []
  }
 ],
 "metadata": {
  "kernelspec": {
   "display_name": "Python 3",
   "language": "python",
   "name": "python3"
  },
  "language_info": {
   "codemirror_mode": {
    "name": "ipython",
    "version": 3
   },
   "file_extension": ".py",
   "mimetype": "text/x-python",
   "name": "python",
   "nbconvert_exporter": "python",
   "pygments_lexer": "ipython3",
   "version": "3.7.3"
  }
 },
 "nbformat": 4,
 "nbformat_minor": 2
}
