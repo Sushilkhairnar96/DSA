{
 "cells": [
  {
   "cell_type": "code",
   "execution_count": 2,
   "metadata": {},
   "outputs": [
    {
     "data": {
      "text/plain": [
       "[1, 2, 4]"
      ]
     },
     "execution_count": 2,
     "metadata": {},
     "output_type": "execute_result"
    }
   ],
   "source": [
    "#LC66 : Plus One   i/p: [1,2,3] , o/p: [1,2,4]\n",
    "digits=[1,2,3]\n",
    "ans=0\n",
    "for i in digits:\n",
    "    ans*=10\n",
    "    ans+=i\n",
    "ans+=1\n",
    "res=[]\n",
    "while(ans):\n",
    "    res.append(ans%10)\n",
    "    ans=ans//10\n",
    "res[::-1]\n"
   ]
  },
  {
   "cell_type": "code",
   "execution_count": 3,
   "metadata": {},
   "outputs": [
    {
     "name": "stdout",
     "output_type": "stream",
     "text": [
      "[1, 2, 3, 0, 0, 6]\n",
      "[1, 2, 3, 0, 5, 6]\n",
      "[1, 2, 3, 3, 5, 6]\n",
      "[1, 2, 2, 3, 5, 6]\n"
     ]
    },
    {
     "data": {
      "text/plain": [
       "[1, 2, 2, 3, 5, 6]"
      ]
     },
     "execution_count": 3,
     "metadata": {},
     "output_type": "execute_result"
    }
   ],
   "source": [
    "#LC88. Merge Sorted Array \n",
    "'''\n",
    "Input:\n",
    "nums1 = [1,2,3,0,0,0], m = 3\n",
    "nums2 = [2,5,6],       n = 3\n",
    "\n",
    "modify nums1 in-place.\n",
    "Output: [1,2,2,3,5,6]\n",
    "'''\n",
    "nums1 = [1,2,3,0,0,0]; m = 3\n",
    "nums2 = [2,5,6]; n = 3\n",
    "'''\n",
    "for i in range(m+n):\n",
    "    if i<m:\n",
    "        nums1[i]=nums1[i]\n",
    "    else:\n",
    "        nums1[i]=nums2[m-i-1]\n",
    "print(nums1)\n",
    "nums1[:]=sorted(nums1)   \n",
    "      \n",
    "'''\n",
    "m, n = m-1, n-1\n",
    "while m >= 0 and n >= 0:\n",
    "    if nums1[m] > nums2[n]:\n",
    "        nums1[m+n+1] = nums1[m]\n",
    "        m -= 1\n",
    "    else:\n",
    "        nums1[m+n+1] = nums2[n]\n",
    "        n -= 1\n",
    "    print(nums1)\n",
    "if n != -1: # nums2 is still left\n",
    "    nums1[:n+1] = nums2[:n+1]\n",
    "nums1"
   ]
  },
  {
   "cell_type": "code",
   "execution_count": 4,
   "metadata": {},
   "outputs": [
    {
     "name": "stdout",
     "output_type": "stream",
     "text": [
      "Counter({1: 2, 3: 1, 4: 1, 5: 1})\n"
     ]
    },
    {
     "data": {
      "text/plain": [
       "2"
      ]
     },
     "execution_count": 4,
     "metadata": {},
     "output_type": "execute_result"
    }
   ],
   "source": [
    "#LC532 K-diff Pairs in an Array\n",
    "'''\n",
    "Input: [3, 1, 4, 1, 5], k = 2  \n",
    "Output: 2  #(1,3),(3,5)\n",
    "'''\n",
    "nums=[3, 1, 4, 1, 5]\n",
    "k=2\n",
    "\n",
    "from collections import Counter\n",
    "dic=Counter(nums)\n",
    "print(dic)\n",
    "\n",
    "ans=0\n",
    "for i in dic:\n",
    "    if i+k in dic and k>0 or dic[i]>1 and k==0:\n",
    "        ans+=1\n",
    "ans"
   ]
  },
  {
   "cell_type": "code",
   "execution_count": 5,
   "metadata": {},
   "outputs": [
    {
     "data": {
      "text/plain": [
       "[4, 2, 1, 3]"
      ]
     },
     "execution_count": 5,
     "metadata": {},
     "output_type": "execute_result"
    }
   ],
   "source": [
    "#LC905 Sort Array By Parity                 \n",
    "'''\n",
    "return an array consisting of all the even elements of A, followed by all the odd elements of A\n",
    "Input: [3,1,2,4]\n",
    "Output: [2,4,3,1]\n",
    "'''\n",
    "A=[3,1,2,4]\n",
    "\n",
    "l,r=0,len(A)-1                                        #2 pointers\n",
    "while(l<r):\n",
    "    if A[l]%2!=0 and A[r]%2==0:\n",
    "        A[l],A[r]=A[r],A[l]\n",
    "        l+=1\n",
    "        r-=1    \n",
    "    elif A[l]%2==0:\n",
    "        l+=1\n",
    "    elif A[l]%2!=0:\n",
    "        r-=1\n",
    "A"
   ]
  },
  {
   "cell_type": "code",
   "execution_count": 6,
   "metadata": {},
   "outputs": [
    {
     "data": {
      "text/plain": [
       "[[], [1], [2], [1, 2], [3], [1, 3], [2, 3], [1, 2, 3]]"
      ]
     },
     "execution_count": 6,
     "metadata": {},
     "output_type": "execute_result"
    }
   ],
   "source": [
    "#LC78. Subsets\n",
    "'''\n",
    "Input: nums = [1,2,3]\n",
    "Output:\n",
    "[\n",
    "  [3],[1],[2],[1,2,3],[1,3],[2,3],[1,2],[]\n",
    "]\n",
    "'''\n",
    "#1. Recursion:\n",
    "nums = [1,2,3]\n",
    "'''\n",
    "res=[[]]\n",
    "for num in nums:\n",
    "    res+= [i+ [num] for i in res]\n",
    "res\n",
    "'''\n",
    "#2 Bit Manipulation\n",
    "res=[]\n",
    "for i in range(2**len(nums)):\n",
    "    subset=[]\n",
    "    for j in range(len(nums)):\n",
    "        if (i&(1<<j)>0):\n",
    "            subset.append(nums[j])\n",
    "    res.append(subset)\n",
    "res"
   ]
  },
  {
   "cell_type": "code",
   "execution_count": 7,
   "metadata": {},
   "outputs": [
    {
     "data": {
      "text/plain": [
       "[[], [1], [2], [1, 2], [2, 2], [1, 2, 2]]"
      ]
     },
     "execution_count": 7,
     "metadata": {},
     "output_type": "execute_result"
    }
   ],
   "source": [
    "#90. Subsets II:\n",
    "'''\n",
    "Given a collection of integers that might contain duplicates, nums, return all possible subsets (the power set).\n",
    "Input: [1,2,2]\n",
    "Output:\n",
    "[\n",
    "  [2],[1],[1,2,2],[2,2],[1,2],[]\n",
    "]\n",
    "'''\n",
    "nums=[1,2,2]\n",
    "nums=sorted(nums)\n",
    "res=[[]]\n",
    "for num in nums:\n",
    "    res+=[i+[num]for i in res if i+[num] not in res]\n",
    "res"
   ]
  },
  {
   "cell_type": "code",
   "execution_count": 96,
   "metadata": {},
   "outputs": [
    {
     "data": {
      "text/plain": [
       "True"
      ]
     },
     "execution_count": 96,
     "metadata": {},
     "output_type": "execute_result"
    }
   ],
   "source": [
    "#LC941. Valid Mountain Array\n",
    "'''\n",
    "Input: [0,3,2,1]\n",
    "Output: true\n",
    "'''\n",
    "#nums=[0,2,3,4,5,2,1,0]\n",
    "nums=[0,2,3,4,5,2,1,0]\n",
    "start,end=0,len(nums)-1\n",
    "if len(nums)<3 :print('f')\n",
    "while(start<end):\n",
    "    if (nums[start]<nums[start+1]):\n",
    "        start+=1\n",
    "    elif (nums[end-1]>nums[end]):\n",
    "        end-=1\n",
    "    else:\n",
    "        break\n",
    "start!=0 and end!=len(nums)-1 and start==end"
   ]
  },
  {
   "cell_type": "code",
   "execution_count": 101,
   "metadata": {},
   "outputs": [
    {
     "data": {
      "text/plain": [
       "2"
      ]
     },
     "execution_count": 101,
     "metadata": {},
     "output_type": "execute_result"
    }
   ],
   "source": [
    "#LC27. Remove Element\n",
    "'''\n",
    "nums = [3,2,2,3], val = 3\n",
    "o/p=2\n",
    "'''\n",
    "nums = [3,2,2,3]\n",
    "val = 3\n",
    "'''\n",
    "for i in range(len(nums)-1,-1,-1):\n",
    "    if nums[i]==val:\n",
    "        nums.pop(i)\n",
    "len(nums) \n",
    "'''\n",
    "j=0\n",
    "for i in range(len(nums)):\n",
    "    if nums[i]!=val:\n",
    "        nums[j]=nums[i]\n",
    "        j+=1\n",
    "j"
   ]
  },
  {
   "cell_type": "code",
   "execution_count": 111,
   "metadata": {},
   "outputs": [
    {
     "data": {
      "text/plain": [
       "[[1, 2], [2, 3], [3, 4]]"
      ]
     },
     "execution_count": 111,
     "metadata": {},
     "output_type": "execute_result"
    }
   ],
   "source": [
    "#LC1200. Minimum Absolute Difference\n",
    "'''\n",
    "Input: arr = [4,2,1,3]\n",
    "Output: [[1,2],[2,3],[3,4]]\n",
    "'''\n",
    "arr = [4,2,1,3]\n",
    "mi=float('inf')\n",
    "arr=sorted(arr)\n",
    "for i in range(1,len(arr)):\n",
    "    mi=min(mi,arr[i]-arr[i-1])\n",
    "ans=[]\n",
    "for i in range(1,len(arr)):\n",
    "    if arr[i]-arr[i-1] ==mi:\n",
    "        ans.append([arr[i-1],arr[i]])\n",
    "ans"
   ]
  },
  {
   "cell_type": "code",
   "execution_count": 118,
   "metadata": {},
   "outputs": [
    {
     "data": {
      "text/plain": [
       "[4, 1, 2, 3]"
      ]
     },
     "execution_count": 118,
     "metadata": {},
     "output_type": "execute_result"
    }
   ],
   "source": [
    "#LC1331. Rank Transform of an Array\n",
    "'''\n",
    "Input: arr = [40,10,20,30]\n",
    "Output: [4,1,2,3]\n",
    "'''\n",
    "arr = [40,10,20,30]\n",
    "arr1=sorted(arr)\n",
    "dic={}\n",
    "for i in range(len(arr1)):\n",
    "    dic[arr1[i]]=i+1\n",
    "\n",
    "ans=[]\n",
    "for i in arr:\n",
    "    if i in dic:\n",
    "        ans.append(dic[i])\n",
    "ans"
   ]
  },
  {
   "cell_type": "code",
   "execution_count": 120,
   "metadata": {},
   "outputs": [
    {
     "data": {
      "text/plain": [
       "True"
      ]
     },
     "execution_count": 120,
     "metadata": {},
     "output_type": "execute_result"
    }
   ],
   "source": [
    "#LC896. Monotonic Array\n",
    "'''\n",
    "An array is monotonic if it is either monotone increasing or monotone decreasing.\n",
    "Input: [1,2,2,3]\n",
    "Output: true\n",
    "'''\n",
    "def isMonotonic(A):      \n",
    "    '''\n",
    "        return (all(A[i] <= A[i+1] for i in range(len(A) - 1)) or\n",
    "                all(A[i] >= A[i+1] for i in range(len(A) - 1)))\n",
    "    '''\n",
    "    if len(A)==1 : return True\n",
    "    f=0\n",
    "    for i in range(1,len(A)):\n",
    "        if A[i-1]<=A[i]:\n",
    "            f=1\n",
    "        else:\n",
    "            f=0\n",
    "            break\n",
    "    if f==1:\n",
    "        return True\n",
    "    \n",
    "    for i in range(1,len(A)):\n",
    "        if A[i-1]>=A[i]:\n",
    "            f=1\n",
    "        else:\n",
    "            f=0\n",
    "            break\n",
    "    if f:               \n",
    "        return True\n",
    "    else: return False\n",
    "#############################\n",
    "A=[6,5,4,4]  \n",
    "isMonotonic(A)"
   ]
  },
  {
   "cell_type": "code",
   "execution_count": 127,
   "metadata": {},
   "outputs": [
    {
     "data": {
      "text/plain": [
       "3"
      ]
     },
     "execution_count": 127,
     "metadata": {},
     "output_type": "execute_result"
    }
   ],
   "source": [
    "#LC485. Max Consecutive Ones\n",
    "'''\n",
    "Input: [1,1,0,1,1,1]\n",
    "Output: 3\n",
    "'''\n",
    "def findMaxConsecutiveOnes(nums):\n",
    "        if len(nums)==0: return 0\n",
    "        if nums==[1]: return 1\n",
    "        if nums==[0]: return 0\n",
    "        c=0\n",
    "        x=[]\n",
    "        for i in nums:\n",
    "            if i ==1 :\n",
    "                c+=1\n",
    "            else:\n",
    "                x.append(c)\n",
    "                c=0\n",
    "        x.append(c)\n",
    "        return max(x)\n",
    "###########################\n",
    "nums=[1,1,0,1,1,1]\n",
    "findMaxConsecutiveOnes(nums)"
   ]
  },
  {
   "cell_type": "code",
   "execution_count": null,
   "metadata": {},
   "outputs": [],
   "source": []
  }
 ],
 "metadata": {
  "kernelspec": {
   "display_name": "Python 3",
   "language": "python",
   "name": "python3"
  },
  "language_info": {
   "codemirror_mode": {
    "name": "ipython",
    "version": 3
   },
   "file_extension": ".py",
   "mimetype": "text/x-python",
   "name": "python",
   "nbconvert_exporter": "python",
   "pygments_lexer": "ipython3",
   "version": "3.7.3"
  }
 },
 "nbformat": 4,
 "nbformat_minor": 2
}
