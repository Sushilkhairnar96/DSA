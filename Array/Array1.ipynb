{
 "cells": [
  {
   "cell_type": "code",
   "execution_count": 1,
   "metadata": {},
   "outputs": [
    {
     "data": {
      "text/plain": [
       "[1, 2, 4]"
      ]
     },
     "execution_count": 1,
     "metadata": {},
     "output_type": "execute_result"
    }
   ],
   "source": [
    "#LC66 : Plus One   i/p: [1,2,3] , o/p: [1,2,4]\n",
    "digits=[1,2,3]\n",
    "ans=0\n",
    "for i in digits:\n",
    "    ans*=10\n",
    "    ans+=i\n",
    "ans+=1\n",
    "res=[]\n",
    "while(ans):\n",
    "    res.append(ans%10)\n",
    "    ans=ans//10\n",
    "res[::-1]\n"
   ]
  },
  {
   "cell_type": "code",
   "execution_count": 2,
   "metadata": {},
   "outputs": [
    {
     "name": "stdout",
     "output_type": "stream",
     "text": [
      "[1, 2, 3, 0, 0, 6]\n",
      "[1, 2, 3, 0, 5, 6]\n",
      "[1, 2, 3, 3, 5, 6]\n",
      "[1, 2, 2, 3, 5, 6]\n"
     ]
    },
    {
     "data": {
      "text/plain": [
       "[1, 2, 2, 3, 5, 6]"
      ]
     },
     "execution_count": 2,
     "metadata": {},
     "output_type": "execute_result"
    }
   ],
   "source": [
    "#LC88. Merge Sorted Array \n",
    "'''\n",
    "Input:\n",
    "nums1 = [1,2,3,0,0,0], m = 3\n",
    "nums2 = [2,5,6],       n = 3\n",
    "\n",
    "modify nums1 in-place.\n",
    "Output: [1,2,2,3,5,6]\n",
    "'''\n",
    "nums1 = [1,2,3,0,0,0]; m = 3\n",
    "nums2 = [2,5,6]; n = 3\n",
    "'''\n",
    "for i in range(m+n):\n",
    "    if i<m:\n",
    "        nums1[i]=nums1[i]\n",
    "    else:\n",
    "        nums1[i]=nums2[m-i-1]\n",
    "print(nums1)\n",
    "nums1[:]=sorted(nums1)   \n",
    "      \n",
    "'''\n",
    "m, n = m-1, n-1\n",
    "while m >= 0 and n >= 0:\n",
    "    if nums1[m] > nums2[n]:\n",
    "        nums1[m+n+1] = nums1[m]\n",
    "        m -= 1\n",
    "    else:\n",
    "        nums1[m+n+1] = nums2[n]\n",
    "        n -= 1\n",
    "    print(nums1)\n",
    "if n != -1: # nums2 is still left\n",
    "    nums1[:n+1] = nums2[:n+1]\n",
    "nums1"
   ]
  },
  {
   "cell_type": "code",
   "execution_count": 3,
   "metadata": {},
   "outputs": [
    {
     "name": "stdout",
     "output_type": "stream",
     "text": [
      "Counter({1: 2, 3: 1, 5: 1, 4: 1})\n"
     ]
    },
    {
     "data": {
      "text/plain": [
       "2"
      ]
     },
     "execution_count": 3,
     "metadata": {},
     "output_type": "execute_result"
    }
   ],
   "source": [
    "#LC532 K-diff Pairs in an Array\n",
    "'''\n",
    "Input: [3, 1, 4, 1, 5], k = 2  \n",
    "Output: 2  #(1,3),(3,5)\n",
    "'''\n",
    "nums=[1,3,1,5,4]\n",
    "k=2\n",
    "\n",
    "from collections import Counter\n",
    "dic=Counter(nums)\n",
    "print(dic)\n",
    "\n",
    "ans=0\n",
    "for i in dic:\n",
    "    if i+k in dic and k>0 or dic[i]>1 and k==0:\n",
    "        ans+=1\n",
    "ans"
   ]
  },
  {
   "cell_type": "code",
   "execution_count": 4,
   "metadata": {},
   "outputs": [
    {
     "data": {
      "text/plain": [
       "[4, 2, 1, 3]"
      ]
     },
     "execution_count": 4,
     "metadata": {},
     "output_type": "execute_result"
    }
   ],
   "source": [
    "#LC905 Sort Array By Parity                 \n",
    "'''\n",
    "return an array consisting of all the even elements of A, followed by all the odd elements of A\n",
    "Input: [3,1,2,4]\n",
    "Output: [2,4,3,1]\n",
    "'''\n",
    "A=[3,1,2,4]\n",
    "\n",
    "l,r=0,len(A)-1                                        #2 pointers\n",
    "while(l<r):\n",
    "    if A[l]%2!=0 and A[r]%2==0:\n",
    "        A[l],A[r]=A[r],A[l]\n",
    "        l+=1\n",
    "        r-=1    \n",
    "    elif A[l]%2==0:\n",
    "        l+=1\n",
    "    elif A[l]%2!=0:\n",
    "        r-=1\n",
    "A"
   ]
  },
  {
   "cell_type": "code",
   "execution_count": 1,
   "metadata": {},
   "outputs": [
    {
     "name": "stdout",
     "output_type": "stream",
     "text": [
      "4 4\n"
     ]
    },
    {
     "data": {
      "text/plain": [
       "True"
      ]
     },
     "execution_count": 1,
     "metadata": {},
     "output_type": "execute_result"
    }
   ],
   "source": [
    "#LC941. Valid Mountain Array\n",
    "'''\n",
    "Input: [0,3,2,1]\n",
    "Output: true\n",
    "'''\n",
    "#nums=[0,2,3,4,5,2,1,0]\n",
    "nums=[0,2,3,4,5,2,1,0]\n",
    "start,end=0,len(nums)-1\n",
    "if len(nums)<3 :print('f')\n",
    "while(start<end):\n",
    "    if (nums[start]<nums[start+1]):\n",
    "        start+=1\n",
    "    elif (nums[end-1]>nums[end]):\n",
    "        end-=1\n",
    "    else:\n",
    "        break\n",
    "print(start,end)\n",
    "start!=0 and end!=len(nums)-1 and start==end"
   ]
  },
  {
   "cell_type": "code",
   "execution_count": 6,
   "metadata": {},
   "outputs": [
    {
     "data": {
      "text/plain": [
       "2"
      ]
     },
     "execution_count": 6,
     "metadata": {},
     "output_type": "execute_result"
    }
   ],
   "source": [
    "#LC27. Remove Element\n",
    "'''\n",
    "nums = [3,2,2,3], val = 3\n",
    "o/p=2\n",
    "'''\n",
    "nums = [3,2,2,3]\n",
    "val = 3\n",
    "'''\n",
    "for i in range(len(nums)-1,-1,-1):\n",
    "    if nums[i]==val:\n",
    "        nums.pop(i)\n",
    "len(nums) \n",
    "'''\n",
    "j=0\n",
    "for i in range(len(nums)):\n",
    "    if nums[i]!=val:\n",
    "        nums[j]=nums[i]\n",
    "        j+=1\n",
    "j"
   ]
  },
  {
   "cell_type": "code",
   "execution_count": 7,
   "metadata": {},
   "outputs": [
    {
     "data": {
      "text/plain": [
       "[[1, 2], [2, 3], [3, 4]]"
      ]
     },
     "execution_count": 7,
     "metadata": {},
     "output_type": "execute_result"
    }
   ],
   "source": [
    "#LC1200. Minimum Absolute Difference\n",
    "'''\n",
    "Input: arr = [4,2,1,3]\n",
    "Output: [[1,2],[2,3],[3,4]]\n",
    "'''\n",
    "arr = [4,2,1,3]\n",
    "mi=float('inf')\n",
    "arr=sorted(arr)\n",
    "for i in range(1,len(arr)):\n",
    "    mi=min(mi,arr[i]-arr[i-1])\n",
    "ans=[]\n",
    "for i in range(1,len(arr)):\n",
    "    if arr[i]-arr[i-1] ==mi:\n",
    "        ans.append([arr[i-1],arr[i]])\n",
    "ans"
   ]
  },
  {
   "cell_type": "code",
   "execution_count": 2,
   "metadata": {},
   "outputs": [
    {
     "data": {
      "text/plain": [
       "False"
      ]
     },
     "execution_count": 2,
     "metadata": {},
     "output_type": "execute_result"
    }
   ],
   "source": [
    "#665. Non-decreasing Array\n",
    "'''\n",
    "Given an array nums with n integers, your task is to check if it could become non-decreasing by modifying at most 1 element.\n",
    "\n",
    "We define an array is non-decreasing if nums[i] <= nums[i + 1] holds for every i (0-based) such that (0 <= i <= n - 2).\n",
    "\n",
    "Input: nums = [4,2,3]\n",
    "Output: true\n",
    "Explanation: You could modify the first 4 to 1 to get a non-decreasing array.\n",
    "'''\n",
    "def checkPossibility(nums) -> bool:\n",
    "    '''\n",
    "    if len(nums)<=1 : return True\n",
    "    for i in range(len(nums)-1):\n",
    "        if nums[i] > nums[i+1]:\n",
    "            break\n",
    "    a,b=nums[:],nums[:]\n",
    "    a[i]=nums[i+1]\n",
    "    b[i+1]=nums[i]\n",
    "    return a == sorted(a) or b == sorted(b)\n",
    "    '''      \n",
    "    count=0\n",
    "    for i in range(len(nums)-1):\n",
    "        if nums[i]>nums[i+1]:\n",
    "            count+=1\n",
    "            if i==0:\n",
    "                nums[i]=nums[i+1]\n",
    "            elif nums[i-1]<=nums[i+1]:\n",
    "                nums[i]=nums[i-1]      # 1,3,2\n",
    "            else:\n",
    "                nums[i+1]=nums[i]       #5,7,1,8\n",
    "        if count>1:\n",
    "            return False\n",
    "    return True\n",
    "nums = [4,2,1]\n",
    "checkPossibility(nums)"
   ]
  },
  {
   "cell_type": "code",
   "execution_count": 8,
   "metadata": {},
   "outputs": [
    {
     "data": {
      "text/plain": [
       "[4, 1, 2, 3]"
      ]
     },
     "execution_count": 8,
     "metadata": {},
     "output_type": "execute_result"
    }
   ],
   "source": [
    "#LC1331. Rank Transform of an Array\n",
    "'''\n",
    "Input: arr = [40,10,20,30]\n",
    "Output: [4,1,2,3]\n",
    "'''\n",
    "arr = [40,10,20,30]\n",
    "arr1=sorted(arr)\n",
    "dic={}\n",
    "for i in range(len(arr1)):\n",
    "    dic[arr1[i]]=i+1\n",
    "\n",
    "ans=[]\n",
    "for i in arr:\n",
    "    if i in dic:\n",
    "        ans.append(dic[i])\n",
    "ans"
   ]
  },
  {
   "cell_type": "code",
   "execution_count": 9,
   "metadata": {},
   "outputs": [
    {
     "data": {
      "text/plain": [
       "True"
      ]
     },
     "execution_count": 9,
     "metadata": {},
     "output_type": "execute_result"
    }
   ],
   "source": [
    "#LC896. Monotonic Array\n",
    "'''\n",
    "An array is monotonic if it is either monotone increasing or monotone decreasing.\n",
    "Input: [1,2,2,3]\n",
    "Output: true\n",
    "'''\n",
    "def isMonotonic(A):      \n",
    "    '''\n",
    "        return (all(A[i] <= A[i+1] for i in range(len(A) - 1)) or\n",
    "                all(A[i] >= A[i+1] for i in range(len(A) - 1)))\n",
    "    '''\n",
    "    if len(A)==1 : return True\n",
    "    f=0\n",
    "    for i in range(1,len(A)):\n",
    "        if A[i-1]<=A[i]:\n",
    "            f=1\n",
    "        else:\n",
    "            f=0\n",
    "            break\n",
    "    if f==1:\n",
    "        return True\n",
    "    \n",
    "    for i in range(1,len(A)):\n",
    "        if A[i-1]>=A[i]:\n",
    "            f=1\n",
    "        else:\n",
    "            f=0\n",
    "            break\n",
    "    if f:               \n",
    "        return True\n",
    "    else: return False\n",
    "#############################\n",
    "A=[6,5,4,4]  \n",
    "isMonotonic(A)"
   ]
  },
  {
   "cell_type": "code",
   "execution_count": 10,
   "metadata": {},
   "outputs": [
    {
     "data": {
      "text/plain": [
       "3"
      ]
     },
     "execution_count": 10,
     "metadata": {},
     "output_type": "execute_result"
    }
   ],
   "source": [
    "#LC485. Max Consecutive Ones\n",
    "'''\n",
    "Input: [1,1,0,1,1,1]\n",
    "Output: 3\n",
    "'''\n",
    "def findMaxConsecutiveOnes(nums):\n",
    "        if len(nums)==0: return 0\n",
    "        if nums==[1]: return 1\n",
    "        if nums==[0]: return 0\n",
    "        c=0\n",
    "        x=[]\n",
    "        for i in nums:\n",
    "            if i ==1 :\n",
    "                c+=1\n",
    "            else:\n",
    "                x.append(c)\n",
    "                c=0\n",
    "        x.append(c)\n",
    "        return max(x)\n",
    "############################\n",
    "nums=[1,1,0,1,1,1]\n",
    "findMaxConsecutiveOnes(nums)"
   ]
  },
  {
   "cell_type": "code",
   "execution_count": 11,
   "metadata": {},
   "outputs": [
    {
     "data": {
      "text/plain": [
       "[True, True, True, False, True]"
      ]
     },
     "execution_count": 11,
     "metadata": {},
     "output_type": "execute_result"
    }
   ],
   "source": [
    "#LC1431. Kids With the Greatest Number of Candies\n",
    "'''\n",
    "Input: candies = [2,3,5,1,3], extraCandies = 3\n",
    "Output: [true,true,true,false,true] \n",
    "'''\n",
    "candies = [2,3,5,1,3]; extraCandies = 3\n",
    "m=max(candies)\n",
    "res=[]\n",
    "for i in candies:\n",
    "    if i+extraCandies >= m:\n",
    "        res.append(True)\n",
    "    else:\n",
    "        res.append(False)        \n",
    "res   "
   ]
  },
  {
   "cell_type": "code",
   "execution_count": 12,
   "metadata": {},
   "outputs": [
    {
     "data": {
      "text/plain": [
       "8"
      ]
     },
     "execution_count": 12,
     "metadata": {},
     "output_type": "execute_result"
    }
   ],
   "source": [
    "#LC268. Missing Number\n",
    "'''\n",
    "Input: [9,6,4,2,3,5,7,0,1]\n",
    "Output: 8\n",
    "'''\n",
    "nums=[9,6,4,2,3,5,7,0,1]\n",
    "'''\n",
    "for i in range(len(nums)+1):\n",
    "    if i not in nums:\n",
    "        return i    \n",
    "'''\n",
    "'''\n",
    "x=set(range(len(nums)+1))-set(nums)\n",
    "for i in x:\n",
    "    print(i)  #return i\n",
    "'''\n",
    "res=len(nums)\n",
    "for i in range(len(nums)):\n",
    "    res^=i\n",
    "    res^=nums[i]\n",
    "res"
   ]
  },
  {
   "cell_type": "code",
   "execution_count": 13,
   "metadata": {},
   "outputs": [
    {
     "name": "stdout",
     "output_type": "stream",
     "text": [
      "[0, 1, 2, 3, 4]\n"
     ]
    }
   ],
   "source": [
    "#LC26. Remove Duplicates from Sorted Array\n",
    "'''\n",
    "i/p = [0,0,1,1,1,2,2,3,3,4]\n",
    "o/p =5 #0,1,2,3,4\n",
    "'''\n",
    "nums = [0,0,1,1,1,2,2,3,3,4]\n",
    "'''\n",
    "for i in range(len(nums)-1,0,-1):\n",
    "    if nums[i]==nums[i-1]:\n",
    "        nums.pop(i)\n",
    "nums\n",
    "'''\n",
    "j=1\n",
    "for i in range(1,len(nums)):\n",
    "    if nums[i]!=nums[i-1]:\n",
    "        nums[j]=nums[i]\n",
    "        j+=1\n",
    "print(nums[:j])"
   ]
  },
  {
   "cell_type": "code",
   "execution_count": 14,
   "metadata": {},
   "outputs": [
    {
     "name": "stdout",
     "output_type": "stream",
     "text": [
      "24\n"
     ]
    },
    {
     "data": {
      "text/plain": [
       "[24, 12, 8, 6]"
      ]
     },
     "execution_count": 14,
     "metadata": {},
     "output_type": "execute_result"
    }
   ],
   "source": [
    "x=[1,2,3,4]\n",
    "prod=1\n",
    "for i in x:\n",
    "    prod*=i\n",
    "print(prod)\n",
    "y=[]\n",
    "for i in x:\n",
    "    y.append(prod//i)\n",
    "y "
   ]
  },
  {
   "cell_type": "code",
   "execution_count": 15,
   "metadata": {},
   "outputs": [
    {
     "name": "stdout",
     "output_type": "stream",
     "text": [
      "[3, 3] [3, 4]\n",
      "[[0, 0, 0, 0], [0, 0, 0, 0], [0, 0, 0, 0]]\n"
     ]
    },
    {
     "data": {
      "text/plain": [
       "[[307, 414, 245, 64], [307, 414, 245, 64], [307, 414, 245, 64]]"
      ]
     },
     "execution_count": 15,
     "metadata": {},
     "output_type": "execute_result"
    }
   ],
   "source": [
    "#Matrix Multiplication:\n",
    "# take a 3x3 matrix \n",
    "A = [[12, 7, 3], \n",
    "    [4, 5, 6], \n",
    "    [7, 8, 9]] \n",
    "  \n",
    "# take a 3x4 matrix     \n",
    "B = [[5, 8, 1, 2], \n",
    "    [6, 7, 3, 0], \n",
    "    [4, 5, 9, 1]] \n",
    "\n",
    "A_dim=[len(A),len(A[0])]\n",
    "B_dim=[len(B),len(B[0])]\n",
    "print(A_dim,B_dim)\n",
    "if A_dim[1]==B_dim[0]:\n",
    "    res=[[0]*B_dim[1]]*A_dim[0]\n",
    "else:\n",
    "    print(\"Multiplication not possible\")\n",
    "print(res)\n",
    "# iterating by row of A \n",
    "for i in range(len(A)):\n",
    "    \n",
    "    # iterating by coloum by B  \n",
    "    for j in range(len(B[0])): \n",
    "  \n",
    "        # iterating by rows of B \n",
    "        for k in range(len(B)): \n",
    "            res[i][j] += A[i][k] * B[k][j] \n",
    "res"
   ]
  },
  {
   "cell_type": "code",
   "execution_count": 16,
   "metadata": {},
   "outputs": [
    {
     "data": {
      "text/plain": [
       "4"
      ]
     },
     "execution_count": 16,
     "metadata": {},
     "output_type": "execute_result"
    }
   ],
   "source": [
    "#LC136. Single Number\n",
    "'''\n",
    "Given a non-empty array of integers, every element appears twice except for one. Find that single one.\n",
    "Input: [4,1,2,1,2]\n",
    "Output: 4\n",
    "'''\n",
    "nums=[4,1,2,1,2]\n",
    "res=0\n",
    "for i in nums:\n",
    "    res^=i\n",
    "res"
   ]
  },
  {
   "cell_type": "code",
   "execution_count": 17,
   "metadata": {},
   "outputs": [
    {
     "data": {
      "text/plain": [
       "[1, 3, 12, 0, 0]"
      ]
     },
     "execution_count": 17,
     "metadata": {},
     "output_type": "execute_result"
    }
   ],
   "source": [
    "#LC283. Move Zeroes\n",
    "'''\n",
    "Given an array nums, write a function to move all 0's to the end of it while maintaining \n",
    "the relative order of the non-zero elements.\n",
    "\n",
    "Example:\n",
    "\n",
    "Input: [0,1,0,3,12]\n",
    "Output: [1,3,12,0,0]\n",
    "'''\n",
    "nums=[0,1,0,3,12]\n",
    "j=0\n",
    "for i in range(len(nums)):\n",
    "    if nums[i]!=0:\n",
    "        nums[j]=nums[i]\n",
    "        j+=1\n",
    "for i in range(j,len(nums)):\n",
    "    nums[i]=0\n",
    "nums"
   ]
  },
  {
   "cell_type": "code",
   "execution_count": 18,
   "metadata": {},
   "outputs": [
    {
     "data": {
      "text/plain": [
       "0"
      ]
     },
     "execution_count": 18,
     "metadata": {},
     "output_type": "execute_result"
    }
   ],
   "source": [
    "#LC387. First Unique Character in a String\n",
    "'''\n",
    "Given a string, find the first non-repeating character in it and return it's index. If it doesn't exist, return -1.\n",
    "s = \"leetcode\"\n",
    "return 0\n",
    "'''\n",
    "import collections\n",
    "def firstUniqChar(s: str) -> int:\n",
    "    if len(s)==0: return -1\n",
    "    dic=collections.Counter(s)\n",
    "    for i in range(len(s)):\n",
    "        if dic[s[i]]==1:\n",
    "            return i\n",
    "    return -1\n",
    "\n",
    "s = \"leetcode\"\n",
    "firstUniqChar(s)"
   ]
  },
  {
   "cell_type": "code",
   "execution_count": 19,
   "metadata": {},
   "outputs": [],
   "source": [
    "#LC 985. Sum of Even Numbers After Queries\n",
    "'''\n",
    "Input: A = [1,2,3,4], queries = [[1,0],[-3,1],[-4,0],[2,3]]\n",
    "Output: [8,6,2,4]\n",
    "Explanation: \n",
    "At the beginning, the array is [1,2,3,4].\n",
    "After adding 1 to A[0], the array is [2,2,3,4], and the sum of even values is 2 + 2 + 4 = 8.\n",
    "After adding -3 to A[1], the array is [2,-1,3,4], and the sum of even values is 2 + 4 = 6.\n",
    "After adding -4 to A[0], the array is [-2,-1,3,4], and the sum of even values is -2 + 4 = 2.\n",
    "After adding 2 to A[3], the array is [-2,-1,3,6], and the sum of even values is -2 + 6 = 4.\n",
    "'''\n",
    "A = [1,2,3,4];queries = [[1,0],[-3,1],[-4,0],[2,3]]\n",
    "res=[]\n",
    "for v,i in queries:\n",
    "    A[i]+=v\n",
    "    arr_sum=0\n",
    "    for i in A:\n",
    "        if i%2==0:\n",
    "            arr_sum+=i\n",
    "    res.append(arr_sum)\n"
   ]
  },
  {
   "cell_type": "code",
   "execution_count": 20,
   "metadata": {},
   "outputs": [
    {
     "data": {
      "text/plain": [
       "[8, 6, 2, 4]"
      ]
     },
     "execution_count": 20,
     "metadata": {},
     "output_type": "execute_result"
    }
   ],
   "source": [
    "A = [1,2,3,4];queries = [[1,0],[-3,1],[-4,0],[2,3]]\n",
    "\n",
    "S = sum(x for x in A if x % 2 == 0)\n",
    "ans = []\n",
    "\n",
    "for x, k in queries:\n",
    "    if A[k] % 2 == 0: S -= A[k]\n",
    "    A[k] += x\n",
    "    if A[k] % 2 == 0: S += A[k]\n",
    "    ans.append(S)\n",
    "ans"
   ]
  },
  {
   "cell_type": "code",
   "execution_count": 21,
   "metadata": {},
   "outputs": [
    {
     "data": {
      "text/plain": [
       "True"
      ]
     },
     "execution_count": 21,
     "metadata": {},
     "output_type": "execute_result"
    }
   ],
   "source": [
    "#605. Can Place Flowers\n",
    "'''\n",
    "Given a flowerbed (represented as an array containing 0 and 1, where 0 means empty and 1 means not empty), and a number n,\n",
    "return if n new flowers can be planted in it without violating the no-adjacent-flowers rule.\n",
    "\n",
    "Example 1:\n",
    "Input: flowerbed = [1,0,0,0,1], n = 1\n",
    "Output: True\n",
    "Example 2:\n",
    "Input: flowerbed = [1,0,0,0,1], n = 2\n",
    "Output: False\n",
    "'''\n",
    "flowerbed =[1,0,0,0,0,0]\n",
    "n = 1\n",
    "def canPlaceFlowers(flowerbed,n):\n",
    "    '''    \n",
    "    i=1\n",
    "    c=0\n",
    "    if len(flowerbed)==1:\n",
    "        if flowerbed[0]==0:\n",
    "            return 1>=n\n",
    "        else:\n",
    "            return 0>=n\n",
    "    if flowerbed[0]==0 and flowerbed[1]==0:\n",
    "        flowerbed[0]=1\n",
    "        c+=1\n",
    "    if flowerbed[-1]==0 and flowerbed[-2]==0:\n",
    "        flowerbed[-1]=1\n",
    "        c+=1\n",
    "    while i < (len(flowerbed)-1):\n",
    "        if flowerbed[i-1]!= 1 and flowerbed[i+1]!= 1 and flowerbed[i]==0:\n",
    "            flowerbed[i]=1\n",
    "            c+=1\n",
    "        i+=1\n",
    "    return c>=n   \n",
    "canPlaceFlowers(flowerbed)\n",
    "    '''\n",
    "    flowerbed = [0] + flowerbed + [0]\n",
    "    for i in range(1, len(flowerbed) - 1):\n",
    "        if not flowerbed[i-1] and not flowerbed[i] and not flowerbed[i + 1]:\n",
    "            flowerbed[i] = 1\n",
    "            n -= 1\n",
    "        if n == 0:\n",
    "            return True\n",
    "    return True if n <= 0 else False\n",
    "\n",
    "canPlaceFlowers(flowerbed,n)"
   ]
  },
  {
   "cell_type": "code",
   "execution_count": 2,
   "metadata": {},
   "outputs": [
    {
     "data": {
      "text/plain": [
       "True"
      ]
     },
     "execution_count": 2,
     "metadata": {},
     "output_type": "execute_result"
    }
   ],
   "source": [
    "#Integer Palindrome\n",
    "def isPalindrome(x):\n",
    "    if x<0:\n",
    "        return False\n",
    "    '''\n",
    "    x=str(x)\n",
    "    return x==x[::-1]\n",
    "    '''\n",
    "    y=x\n",
    "    res=0\n",
    "    while y:\n",
    "        res=10*res + (y%10)\n",
    "        y//=10\n",
    "    return res==x\n",
    "\n",
    "isPalindrome(121)"
   ]
  },
  {
   "cell_type": "code",
   "execution_count": 10,
   "metadata": {},
   "outputs": [
    {
     "data": {
      "text/plain": [
       "[9, 4]"
      ]
     },
     "execution_count": 10,
     "metadata": {},
     "output_type": "execute_result"
    }
   ],
   "source": [
    "#349. Intersection of Two Arrays\n",
    "'''\n",
    "Input: nums1 = [1,2,2,1], nums2 = [2,2]\n",
    "Output: [2]\n",
    "\n",
    "Input: nums1 = [4,9,5], nums2 = [9,4,9,8,4]\n",
    "Output: [4,9]\n",
    "'''\n",
    "nums1 = [4,9,5]; nums2 = [9,4,9,8,4]\n",
    "\n",
    " '''\n",
    " dic={}\n",
    " for i in nums1:\n",
    "     if i not in dic:\n",
    "         dic[i]=1\n",
    " x=[]\n",
    " for i in nums2:\n",
    "     if i in dic.keys() and i not in x:\n",
    "         x.append(i)\n",
    " return x    \n",
    " '''\n",
    "    \n",
    "x=set()\n",
    "for i in nums1:\n",
    "    x.add(i)\n",
    "    \n",
    "res=[]\n",
    "for i in nums2:\n",
    "    if i in x:\n",
    "        res.append(i)\n",
    "        x.remove(i)\n",
    "res    \n",
    "\n"
   ]
  },
  {
   "cell_type": "code",
   "execution_count": 15,
   "metadata": {},
   "outputs": [
    {
     "data": {
      "text/plain": [
       "[2, 2]"
      ]
     },
     "execution_count": 15,
     "metadata": {},
     "output_type": "execute_result"
    }
   ],
   "source": [
    "#350. Intersection of Two Arrays II\n",
    "'''\n",
    "Example 1:\n",
    "\n",
    "Input: nums1 = [1,2,2,1], nums2 = [2,2]\n",
    "Output: [2,2]\n",
    "Example 2:\n",
    "\n",
    "Input: nums1 = [4,9,5], nums2 = [9,4,9,8,4]\n",
    "Output: [4,9]\n",
    "'''\n",
    "nums1 = [1,2,2,1];nums2 = [2,2]\n",
    "'''\n",
    "x=[]\n",
    "for i in nums2:\n",
    "    if i in nums1:\n",
    "        x.append(i)\n",
    "        nums1.remove(i)\n",
    "x\n",
    "'''\n",
    "from collections import Counter\n",
    "dic= Counter(nums1)\n",
    "x=[]\n",
    "for i in nums2:\n",
    "    if i in dic and dic[i]>0:\n",
    "        x.append(i)\n",
    "        dic[i]-=1\n",
    "x"
   ]
  },
  {
   "cell_type": "code",
   "execution_count": 5,
   "metadata": {},
   "outputs": [
    {
     "data": {
      "text/plain": [
       "False"
      ]
     },
     "execution_count": 5,
     "metadata": {},
     "output_type": "execute_result"
    }
   ],
   "source": [
    "#LC217. Contains Duplicate:\n",
    "'''\n",
    "Example 1:\n",
    "\n",
    "Input: [1,2,3,1]\n",
    "Output: true\n",
    "Example 2:\n",
    "\n",
    "Input: [1,2,3,4]\n",
    "Output: false\n",
    "'''\n",
    "#1. return True if len(set(nums)) < len(nums) else False\n",
    "\n",
    "#2. \n",
    "def containsDuplicate(nums) -> bool:\n",
    "    from collections import Counter\n",
    "    dic=Counter(nums)\n",
    "    \n",
    "    for i in dic.values():\n",
    "        if i>1:\n",
    "            return True\n",
    "    return False\n",
    "nums=[1,2,3,4]\n",
    "containsDuplicate(nums)"
   ]
  },
  {
   "cell_type": "code",
   "execution_count": 4,
   "metadata": {},
   "outputs": [
    {
     "data": {
      "text/plain": [
       "True"
      ]
     },
     "execution_count": 4,
     "metadata": {},
     "output_type": "execute_result"
    }
   ],
   "source": [
    "#LC219. Contains Duplicate II\n",
    "'''\n",
    "Given an array of integers and an integer k, find out whether there are two distinct indices i and j in the \n",
    "array such that nums[i] = nums[j] and the absolute difference between i and j is at most k.\n",
    "\n",
    "Example 1:\n",
    "\n",
    "Input: nums = [1,2,3,1], k = 3\n",
    "Output: true\n",
    "Example 2:\n",
    "\n",
    "Input: nums = [1,0,1,1], k = 1\n",
    "Output: true\n",
    "'''\n",
    "def containsNearbyDuplicate(nums, k) -> bool:\n",
    "    '''\n",
    "    if len(nums) == len(set(nums)):\n",
    "        return False        \n",
    "    for i in range(len(nums)):\n",
    "        for j in range(i+1,len(nums)):\n",
    "            if nums[i]==nums[j]:\n",
    "                if j-i <=k:\n",
    "                    return True\n",
    "    return False\n",
    "    '''\n",
    "    dic = {}\n",
    "    for i, v in enumerate(nums):\n",
    "        if v in dic and i - dic[v] <= k:\n",
    "            return True\n",
    "        dic[v] = i\n",
    "    return False\n",
    "\n",
    "\n",
    "nums =[0,1,2,3,4,0,0,7,8,9,10,11,12,0]; k =1\n",
    "\n",
    "containsNearbyDuplicate(nums, k)"
   ]
  },
  {
   "cell_type": "code",
   "execution_count": 2,
   "metadata": {},
   "outputs": [
    {
     "data": {
      "text/plain": [
       "3"
      ]
     },
     "execution_count": 2,
     "metadata": {},
     "output_type": "execute_result"
    }
   ],
   "source": [
    "#LC724. Find Pivot Index\n",
    "'''\n",
    "Given an array of integers nums, write a method that returns the \"pivot\" index of this array.\n",
    "\n",
    "We define the pivot index as the index where the sum of all the numbers to the left of the index is equal \n",
    "to the sum of all the numbers to the right of the index.\n",
    "If no such index exists, we should return -1. If there are multiple pivot indexes, you should return the \n",
    "left-most pivot index.\n",
    "\n",
    "Input: nums = [1,7,3,6,5,6]\n",
    "Output: 3\n",
    "'''\n",
    "'''\n",
    "for i in range(len(nums)):\n",
    "    if sum(nums[:i])==sum(nums[i+1:]):\n",
    "        return i\n",
    "return -1\n",
    "'''\n",
    "def pivotIndex(nums) -> int:\n",
    "    sumL=0\n",
    "    sumR=sum(nums)\n",
    "    for i in range(len(nums)):\n",
    "        sumR -= nums[i]\n",
    "        if sumL==sumR:\n",
    "            return i\n",
    "        sumL+=nums[i]\n",
    "    return -1\n",
    "            \n",
    "nums = [1,7,3,6,5,6]\n",
    "pivotIndex(nums)"
   ]
  },
  {
   "cell_type": "code",
   "execution_count": 3,
   "metadata": {},
   "outputs": [
    {
     "data": {
      "text/plain": [
       "12.75"
      ]
     },
     "execution_count": 3,
     "metadata": {},
     "output_type": "execute_result"
    }
   ],
   "source": [
    "#643. Maximum Average Subarray I\n",
    "'''\n",
    "Given an array consisting of n integers, find the contiguous subarray of given length k that has the maximum average value.\n",
    "And you need to output the maximum average value.\n",
    "\n",
    "Example 1:\n",
    "\n",
    "Input: [1,12,-5,-6,50,3], k = 4\n",
    "Output: 12.75\n",
    "Explanation: Maximum average is (12-5-6+50)/4 = 51/4 = 12.75\n",
    "'''\n",
    "def findMaxAverage(nums, k):\n",
    "    summ=max_sum=sum(nums[:k])\n",
    "    for end in range(k,len(nums)):\n",
    "        summ+=nums[end]-nums[end-k]\n",
    "        max_sum=max(max_sum,summ)\n",
    "    return max_sum/k\n",
    "\n",
    "nums=[1,12,-5,-6,50,3];k=4\n",
    "findMaxAverage(nums, k)"
   ]
  },
  {
   "cell_type": "code",
   "execution_count": 2,
   "metadata": {},
   "outputs": [
    {
     "data": {
      "text/plain": [
       "1"
      ]
     },
     "execution_count": 2,
     "metadata": {},
     "output_type": "execute_result"
    }
   ],
   "source": [
    "1"
   ]
  },
  {
   "cell_type": "code",
   "execution_count": 3,
   "metadata": {},
   "outputs": [
    {
     "data": {
      "text/plain": [
       "1"
      ]
     },
     "execution_count": 3,
     "metadata": {},
     "output_type": "execute_result"
    }
   ],
   "source": [
    "1"
   ]
  },
  {
   "cell_type": "code",
   "execution_count": null,
   "metadata": {},
   "outputs": [],
   "source": []
  }
 ],
 "metadata": {
  "kernelspec": {
   "display_name": "Python 3",
   "language": "python",
   "name": "python3"
  },
  "language_info": {
   "codemirror_mode": {
    "name": "ipython",
    "version": 3
   },
   "file_extension": ".py",
   "mimetype": "text/x-python",
   "name": "python",
   "nbconvert_exporter": "python",
   "pygments_lexer": "ipython3",
   "version": "3.7.3"
  }
 },
 "nbformat": 4,
 "nbformat_minor": 2
}
