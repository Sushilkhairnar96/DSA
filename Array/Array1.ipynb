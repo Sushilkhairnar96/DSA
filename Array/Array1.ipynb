{
 "cells": [
  {
   "cell_type": "code",
   "execution_count": 2,
   "metadata": {},
   "outputs": [
    {
     "data": {
      "text/plain": [
       "[1, 2, 4]"
      ]
     },
     "execution_count": 2,
     "metadata": {},
     "output_type": "execute_result"
    }
   ],
   "source": [
    "#LC66 : Plus One   i/p: [1,2,3] , o/p: [1,2,4]\n",
    "digits=[1,2,3]\n",
    "ans=0\n",
    "for i in digits:\n",
    "    ans*=10\n",
    "    ans+=i\n",
    "ans+=1\n",
    "res=[]\n",
    "while(ans):\n",
    "    res.append(ans%10)\n",
    "    ans=ans//10\n",
    "res[::-1]\n"
   ]
  },
  {
   "cell_type": "code",
   "execution_count": 3,
   "metadata": {},
   "outputs": [
    {
     "name": "stdout",
     "output_type": "stream",
     "text": [
      "[1, 2, 3, 0, 0, 6]\n",
      "[1, 2, 3, 0, 5, 6]\n",
      "[1, 2, 3, 3, 5, 6]\n",
      "[1, 2, 2, 3, 5, 6]\n"
     ]
    },
    {
     "data": {
      "text/plain": [
       "[1, 2, 2, 3, 5, 6]"
      ]
     },
     "execution_count": 3,
     "metadata": {},
     "output_type": "execute_result"
    }
   ],
   "source": [
    "#LC88. Merge Sorted Array \n",
    "'''\n",
    "Input:\n",
    "nums1 = [1,2,3,0,0,0], m = 3\n",
    "nums2 = [2,5,6],       n = 3\n",
    "\n",
    "modify nums1 in-place.\n",
    "Output: [1,2,2,3,5,6]\n",
    "'''\n",
    "nums1 = [1,2,3,0,0,0]; m = 3\n",
    "nums2 = [2,5,6]; n = 3\n",
    "'''\n",
    "for i in range(m+n):\n",
    "    if i<m:\n",
    "        nums1[i]=nums1[i]\n",
    "    else:\n",
    "        nums1[i]=nums2[m-i-1]\n",
    "print(nums1)\n",
    "nums1[:]=sorted(nums1)   \n",
    "      \n",
    "'''\n",
    "m, n = m-1, n-1\n",
    "while m >= 0 and n >= 0:\n",
    "    if nums1[m] > nums2[n]:\n",
    "        nums1[m+n+1] = nums1[m]\n",
    "        m -= 1\n",
    "    else:\n",
    "        nums1[m+n+1] = nums2[n]\n",
    "        n -= 1\n",
    "    print(nums1)\n",
    "if n != -1: # nums2 is still left\n",
    "    nums1[:n+1] = nums2[:n+1]\n",
    "nums1"
   ]
  },
  {
   "cell_type": "code",
   "execution_count": 4,
   "metadata": {},
   "outputs": [
    {
     "name": "stdout",
     "output_type": "stream",
     "text": [
      "Counter({1: 2, 3: 1, 4: 1, 5: 1})\n"
     ]
    },
    {
     "data": {
      "text/plain": [
       "2"
      ]
     },
     "execution_count": 4,
     "metadata": {},
     "output_type": "execute_result"
    }
   ],
   "source": [
    "#LC532 K-diff Pairs in an Array\n",
    "'''\n",
    "Input: [3, 1, 4, 1, 5], k = 2  \n",
    "Output: 2  #(1,3),(3,5)\n",
    "'''\n",
    "nums=[3, 1, 4, 1, 5]\n",
    "k=2\n",
    "\n",
    "from collections import Counter\n",
    "dic=Counter(nums)\n",
    "print(dic)\n",
    "\n",
    "ans=0\n",
    "for i in dic:\n",
    "    if i+k in dic and k>0 or dic[i]>1 and k==0:\n",
    "        ans+=1\n",
    "ans"
   ]
  },
  {
   "cell_type": "code",
   "execution_count": 5,
   "metadata": {},
   "outputs": [
    {
     "data": {
      "text/plain": [
       "[4, 2, 1, 3]"
      ]
     },
     "execution_count": 5,
     "metadata": {},
     "output_type": "execute_result"
    }
   ],
   "source": [
    "#LC905 Sort Array By Parity                 \n",
    "'''\n",
    "return an array consisting of all the even elements of A, followed by all the odd elements of A\n",
    "Input: [3,1,2,4]\n",
    "Output: [2,4,3,1]\n",
    "'''\n",
    "A=[3,1,2,4]\n",
    "\n",
    "l,r=0,len(A)-1                                        #2 pointers\n",
    "while(l<r):\n",
    "    if A[l]%2!=0 and A[r]%2==0:\n",
    "        A[l],A[r]=A[r],A[l]\n",
    "        l+=1\n",
    "        r-=1    \n",
    "    elif A[l]%2==0:\n",
    "        l+=1\n",
    "    elif A[l]%2!=0:\n",
    "        r-=1\n",
    "A"
   ]
  },
  {
   "cell_type": "code",
   "execution_count": 6,
   "metadata": {},
   "outputs": [
    {
     "data": {
      "text/plain": [
       "[[], [1], [2], [1, 2], [3], [1, 3], [2, 3], [1, 2, 3]]"
      ]
     },
     "execution_count": 6,
     "metadata": {},
     "output_type": "execute_result"
    }
   ],
   "source": [
    "#LC78. Subsets\n",
    "'''\n",
    "Input: nums = [1,2,3]\n",
    "Output:\n",
    "[\n",
    "  [3],[1],[2],[1,2,3],[1,3],[2,3],[1,2],[]\n",
    "]\n",
    "'''\n",
    "#1. Recursion:\n",
    "nums = [1,2,3]\n",
    "'''\n",
    "res=[[]]\n",
    "for num in nums:\n",
    "    res+= [i+ [num] for i in res]\n",
    "res\n",
    "'''\n",
    "#2 Bit Manipulation\n",
    "res=[]\n",
    "for i in range(2**len(nums)):\n",
    "    subset=[]\n",
    "    for j in range(len(nums)):\n",
    "        if (i&(1<<j)>0):\n",
    "            subset.append(nums[j])\n",
    "    res.append(subset)\n",
    "res"
   ]
  },
  {
   "cell_type": "code",
   "execution_count": 7,
   "metadata": {},
   "outputs": [
    {
     "data": {
      "text/plain": [
       "[[], [1], [2], [1, 2], [2, 2], [1, 2, 2]]"
      ]
     },
     "execution_count": 7,
     "metadata": {},
     "output_type": "execute_result"
    }
   ],
   "source": [
    "#90. Subsets II:\n",
    "'''\n",
    "Given a collection of integers that might contain duplicates, nums, return all possible subsets (the power set).\n",
    "Input: [1,2,2]\n",
    "Output:\n",
    "[\n",
    "  [2],[1],[1,2,2],[2,2],[1,2],[]\n",
    "]\n",
    "'''\n",
    "nums=[1,2,2]\n",
    "nums=sorted(nums)\n",
    "res=[[]]\n",
    "for num in nums:\n",
    "    res+=[i+[num]for i in res if i+[num] not in res]\n",
    "res"
   ]
  },
  {
   "cell_type": "code",
   "execution_count": 96,
   "metadata": {},
   "outputs": [
    {
     "data": {
      "text/plain": [
       "True"
      ]
     },
     "execution_count": 96,
     "metadata": {},
     "output_type": "execute_result"
    }
   ],
   "source": [
    "#LC941. Valid Mountain Array\n",
    "'''\n",
    "Input: [0,3,2,1]\n",
    "Output: true\n",
    "'''\n",
    "#nums=[0,2,3,4,5,2,1,0]\n",
    "nums=[0,2,3,4,5,2,1,0]\n",
    "start,end=0,len(nums)-1\n",
    "if len(nums)<3 :print('f')\n",
    "while(start<end):\n",
    "    if (nums[start]<nums[start+1]):\n",
    "        start+=1\n",
    "    elif (nums[end-1]>nums[end]):\n",
    "        end-=1\n",
    "    else:\n",
    "        break\n",
    "start!=0 and end!=len(nums)-1 and start==end"
   ]
  },
  {
   "cell_type": "code",
   "execution_count": null,
   "metadata": {},
   "outputs": [],
   "source": []
  }
 ],
 "metadata": {
  "kernelspec": {
   "display_name": "Python 3",
   "language": "python",
   "name": "python3"
  },
  "language_info": {
   "codemirror_mode": {
    "name": "ipython",
    "version": 3
   },
   "file_extension": ".py",
   "mimetype": "text/x-python",
   "name": "python",
   "nbconvert_exporter": "python",
   "pygments_lexer": "ipython3",
   "version": "3.7.3"
  }
 },
 "nbformat": 4,
 "nbformat_minor": 2
}
