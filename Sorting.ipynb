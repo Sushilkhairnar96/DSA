{
 "cells": [
  {
   "cell_type": "markdown",
   "metadata": {},
   "source": [
    "# Merge Sort"
   ]
  },
  {
   "cell_type": "code",
   "execution_count": 1,
   "metadata": {},
   "outputs": [
    {
     "data": {
      "text/plain": [
       "[0, 1, 3, 5, 8]"
      ]
     },
     "execution_count": 1,
     "metadata": {},
     "output_type": "execute_result"
    }
   ],
   "source": [
    "def merge(left,right):\n",
    "    result=[]\n",
    "    i,j=0,0\n",
    "    while i<len(left) and j< len(right):\n",
    "        if left[i]<right[j]:\n",
    "            result.append(left[i])\n",
    "            i+=1\n",
    "        else:\n",
    "            result.append(right[j])\n",
    "            j+=1\n",
    "    result+=left[i:]\n",
    "    result+=right[j:]\n",
    "    return result\n",
    "\n",
    "def merge_sort(lst):\n",
    "    if(len(lst)==1):\n",
    "        return lst\n",
    "    mid=len(lst)//2\n",
    "    left=merge_sort(lst[:mid])\n",
    "    right=merge_sort(lst[mid:])\n",
    "    return merge(left,right)\n",
    "\n",
    "\n",
    "merge_sort([5,8,3,1,0])"
   ]
  },
  {
   "cell_type": "markdown",
   "metadata": {},
   "source": [
    "# Heap Sort"
   ]
  },
  {
   "cell_type": "code",
   "execution_count": 27,
   "metadata": {},
   "outputs": [
    {
     "name": "stdout",
     "output_type": "stream",
     "text": [
      "[80, 30, 70, 10, 20, 50, 90]\n",
      "[70, 30, 50, 10, 20, 80, 90]\n",
      "[50, 30, 20, 10, 70, 80, 90]\n",
      "[30, 10, 20, 50, 70, 80, 90]\n",
      "[20, 10, 30, 50, 70, 80, 90]\n",
      "[10, 20, 30, 50, 70, 80, 90]\n"
     ]
    }
   ],
   "source": [
    "# To heapify subtree rooted at index i. \n",
    "# n is size of heap \n",
    "def heapify(arr, n, i): \n",
    "    largest=i\n",
    "    left= 2*i + 1\n",
    "    right= 2*i + 2\n",
    "    \n",
    "    # See if left child of root exists and is greater than root\n",
    "    if left<n and arr[left]>arr[largest]:\n",
    "        largest=left\n",
    "        \n",
    "    # See if right child of root exists and is greater than root\n",
    "    if right<n and arr[right]>arr[largest]:\n",
    "        largest=right\n",
    "        \n",
    "    if largest!=i:                #swap\n",
    "        arr[i],arr[largest] = arr[largest],arr[i]\n",
    "        heapify(arr, n, largest) #heapify the root\n",
    "\n",
    "def heap_sort(arr):         \n",
    "    n=len(arr)\n",
    "    \n",
    "    # Build a maxheap. \n",
    "    for i in range(n//2-1, -1, -1):  #from index n//2 to 0\n",
    "        heapify(arr, n, i) \n",
    "        \n",
    "    for i in range(n-1,0,-1):    #no need to sort 1st element \n",
    "        arr[i], arr[0] = arr[0], arr[i] # swap last index with the first element \n",
    "        heapify(arr, i, 0) # apply heapify on the root  (array size decreased to i)\n",
    "        print(arr)\n",
    "        \n",
    "arr=[90,80,70,10,30,50,20]\n",
    "heap_sort(arr)"
   ]
  },
  {
   "cell_type": "code",
   "execution_count": 4,
   "metadata": {},
   "outputs": [
    {
     "data": {
      "text/plain": [
       "[1, 3, 3, 2, 2]"
      ]
     },
     "execution_count": 4,
     "metadata": {},
     "output_type": "execute_result"
    }
   ],
   "source": [
    "#LC 1636. Sort Array by Increasing Frequency\n",
    "'''\n",
    "Given an array of integers nums, sort the array in increasing order based on the frequency of the values. \n",
    "If multiple values have the same frequency, sort them in DECREASING order.\n",
    "\n",
    "Input: nums = [1,1,2,2,2,3]\n",
    "Output: [3,1,1,2,2,2]\n",
    "Explanation: '3' has a frequency of 1, '1' has a frequency of 2, and '2' has a frequency of 3.\n",
    "\n",
    "Input: nums = [2,3,1,3,2]\n",
    "Output: [1,3,3,2,2]\n",
    "Explanation: '2' and '3' both have a frequency of 2, so they are sorted in decreasing order.\n",
    "'''\n",
    "import collections\n",
    "def frequencySort(nums):\n",
    "    '''\n",
    "    nums.sort(reverse=True)\n",
    "    dic=collections.Counter(nums)\n",
    "    sorted_dic= dict(sorted(dic.items(),key=lambda x: x[1]))\n",
    "    ans=[]\n",
    "    for k,v in sorted_dic.items():\n",
    "        for i in range(v):\n",
    "            ans.append(k)\n",
    "    return ans\n",
    "    #######################################\n",
    "    dic=collections.Counter(nums)   \n",
    "    nums.sort(key=lambda x: (dic[x],-x)) #sorts by frequency, and if two values are equal, it will sort the keys in decreasing order.\n",
    "    return nums\n",
    "    '''\n",
    "    nums.sort(reverse=True)\n",
    "    dic=collections.Counter(nums)\n",
    "    nums.sort(key=lambda x: dic[x])\n",
    "    return nums\n",
    "nums = [2,3,1,3,2]\n",
    "frequencySort(nums)"
   ]
  },
  {
   "cell_type": "code",
   "execution_count": 6,
   "metadata": {},
   "outputs": [
    {
     "name": "stdout",
     "output_type": "stream",
     "text": [
      "{'e': 4, 'l': 2, 'o': 2, 'v': 1, 't': 1, 'c': 1, 'd': 1}\n"
     ]
    },
    {
     "data": {
      "text/plain": [
       "'eeeelloovtcd'"
      ]
     },
     "execution_count": 6,
     "metadata": {},
     "output_type": "execute_result"
    }
   ],
   "source": [
    "#451. Sort Characters By Frequency\n",
    "'''\n",
    "Given a string, sort it in decreasing order based on the frequency of characters.\n",
    "\n",
    "Input: \"tree\"    Output: \"eert\"\n",
    "'e' appears twice while 'r' and 't' both appear once.\n",
    "So 'e' must appear before both 'r' and 't'. Therefore \"eetr\" is also a valid answer.\n",
    "\n",
    "Input: \"cccaaa\"   Output:\"cccaaa\"\n",
    "Both 'c' and 'a' appear three times, so \"aaaccc\" is also a valid answer.\n",
    "Note that \"cacaca\" is incorrect, as the same characters must be together.\n",
    "'''\n",
    "def frequencySort(s: str) -> str:\n",
    "    s=list(s)\n",
    "    dic=collections.Counter(s)\n",
    "    sorted_dic= dict(sorted(dic.items(),key=lambda x: x[1],reverse=True))\n",
    "    print(sorted_dic)\n",
    "    ans=\"\"\n",
    "    for k,v in sorted_dic.items():\n",
    "        ans += k*v\n",
    "    return ans  \n",
    "    '''\n",
    "    dic=Counter(s)\n",
    "    heap=[]\n",
    "    for key,count in dic.items():\n",
    "        heappush(heap,(-count,key))\n",
    "    \n",
    "    res=\"\"\n",
    "    for _ in range(len(heap)):\n",
    "        count,key=heappop(heap)\n",
    "        res+=key*abs(count)\n",
    "    return res\n",
    "    '''\n",
    "s=\"loveleetcode\"    \n",
    "frequencySort(s)"
   ]
  },
  {
   "cell_type": "code",
   "execution_count": 80,
   "metadata": {},
   "outputs": [
    {
     "data": {
      "text/plain": [
       "[1, 2, 4, 6, 7]"
      ]
     },
     "execution_count": 80,
     "metadata": {},
     "output_type": "execute_result"
    }
   ],
   "source": [
    "def bubble_sort(arr):\n",
    "    for i in range(len(arr)-1):\n",
    "        for j in range(len(arr)-1-i):\n",
    "            if arr[j] > arr[j + 1]: \n",
    "                arr[j], arr[j + 1] = arr[j + 1], arr[j]\n",
    "    return arr\n",
    "\n",
    "def my_custom_sort(obj,key=None,reverse=False):  \n",
    "    if type(obj)==dict:\n",
    "        if key==0:\n",
    "            arr = list(map(lambda x:x[0], obj.items()))\n",
    "        else:\n",
    "            dic = {y:x for x,y in obj.items()}\n",
    "            arr = list(map(lambda x:x[0], dic.items()))\n",
    "    else:\n",
    "        arr=obj\n",
    "    \n",
    "    sorted_arr = bubble_sort(arr)\n",
    "    if reverse: sorted_arr =sorted_arr[::-1]\n",
    "           \n",
    "    if type(obj)==dict:\n",
    "        if key==0:\n",
    "            res = [(key,obj[key]) for key in sorted_arr] \n",
    "            return res\n",
    "        else:\n",
    "            return [(dic[key],key) for key in sorted_arr] \n",
    "            return res\n",
    "    else:\n",
    "        return arr\n",
    "    \n",
    "arr=[4,2,6,7,1]\n",
    "bubble_sort(arr)"
   ]
  },
  {
   "cell_type": "code",
   "execution_count": 82,
   "metadata": {},
   "outputs": [
    {
     "name": "stdout",
     "output_type": "stream",
     "text": [
      "[1, 2, 4, 6, 7]\n",
      "[(0, 8), (1, 0), (2, 4), (3, 1)]\n",
      "[(1, 0), (3, 1), (2, 4), (0, 8)]\n",
      "[(3, 1), (2, 4), (1, 0), (0, 8)]\n",
      "[(0, 8), (2, 4), (3, 1), (1, 0)]\n"
     ]
    }
   ],
   "source": [
    "arr=[4,2,6,7,1]\n",
    "dic={3:1,2:4,1:0,0:8}\n",
    "print(my_custom_sort(arr))    #sort array in increasing order\n",
    "print(my_custom_sort(dic,key=0))  #sort dictionary by key in inreasing order\n",
    "print(my_custom_sort(dic,key=1))  #sort dictionary by values in increasing order\n",
    "print(my_custom_sort(dic,key=0,reverse=True))  #sort dictionary by key in  decreasing order\n",
    "print(my_custom_sort(dic,key=1,reverse=True))  #sort dictionary by values in  decreasing order"
   ]
  },
  {
   "cell_type": "code",
   "execution_count": null,
   "metadata": {},
   "outputs": [],
   "source": []
  },
  {
   "cell_type": "code",
   "execution_count": null,
   "metadata": {},
   "outputs": [],
   "source": []
  }
 ],
 "metadata": {
  "kernelspec": {
   "display_name": "Python 3",
   "language": "python",
   "name": "python3"
  },
  "language_info": {
   "codemirror_mode": {
    "name": "ipython",
    "version": 3
   },
   "file_extension": ".py",
   "mimetype": "text/x-python",
   "name": "python",
   "nbconvert_exporter": "python",
   "pygments_lexer": "ipython3",
   "version": "3.8.5"
  }
 },
 "nbformat": 4,
 "nbformat_minor": 2
}
