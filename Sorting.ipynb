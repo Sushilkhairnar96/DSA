{
 "cells": [
  {
   "cell_type": "markdown",
   "metadata": {},
   "source": [
    "# Merge Sort"
   ]
  },
  {
   "cell_type": "code",
   "execution_count": 1,
   "metadata": {},
   "outputs": [
    {
     "data": {
      "text/plain": [
       "[0, 1, 3, 5, 8]"
      ]
     },
     "execution_count": 1,
     "metadata": {},
     "output_type": "execute_result"
    }
   ],
   "source": [
    "def merge(left,right):\n",
    "    result=[]\n",
    "    i,j=0,0\n",
    "    while i<len(left) and j< len(right):\n",
    "        if left[i]<right[j]:\n",
    "            result.append(left[i])\n",
    "            i+=1\n",
    "        else:\n",
    "            result.append(right[j])\n",
    "            j+=1\n",
    "    result+=left[i:]\n",
    "    result+=right[j:]\n",
    "    return result\n",
    "\n",
    "def merge_sort(lst):\n",
    "    if(len(lst)==1):\n",
    "        return lst\n",
    "    mid=len(lst)//2\n",
    "    left=merge_sort(lst[:mid])\n",
    "    right=merge_sort(lst[mid:])\n",
    "    return merge(left,right)\n",
    "\n",
    "\n",
    "merge_sort([5,8,3,1,0])"
   ]
  },
  {
   "cell_type": "markdown",
   "metadata": {},
   "source": [
    "# Heap Sort"
   ]
  },
  {
   "cell_type": "code",
   "execution_count": 27,
   "metadata": {},
   "outputs": [
    {
     "name": "stdout",
     "output_type": "stream",
     "text": [
      "[80, 30, 70, 10, 20, 50, 90]\n",
      "[70, 30, 50, 10, 20, 80, 90]\n",
      "[50, 30, 20, 10, 70, 80, 90]\n",
      "[30, 10, 20, 50, 70, 80, 90]\n",
      "[20, 10, 30, 50, 70, 80, 90]\n",
      "[10, 20, 30, 50, 70, 80, 90]\n"
     ]
    }
   ],
   "source": [
    "# To heapify subtree rooted at index i. \n",
    "# n is size of heap \n",
    "def heapify(arr, n, i): \n",
    "    largest=i\n",
    "    left= 2*i + 1\n",
    "    right= 2*i + 2\n",
    "    \n",
    "    # See if left child of root exists and is greater than root\n",
    "    if left<n and arr[left]>arr[largest]:\n",
    "        largest=left\n",
    "        \n",
    "    # See if right child of root exists and is greater than root\n",
    "    if right<n and arr[right]>arr[largest]:\n",
    "        largest=right\n",
    "        \n",
    "    if largest!=i:                #swap\n",
    "        arr[i],arr[largest] = arr[largest],arr[i]\n",
    "        heapify(arr, n, largest) #heapify the root\n",
    "\n",
    "def heap_sort(arr):         \n",
    "    n=len(arr)\n",
    "    \n",
    "    # Build a maxheap. \n",
    "    for i in range(n//2-1, -1, -1):  #from index n//2 to 0\n",
    "        heapify(arr, n, i) \n",
    "        \n",
    "    for i in range(n-1,0,-1):    #no need to sort 1st element \n",
    "        arr[i], arr[0] = arr[0], arr[i] # swap last index with the first element \n",
    "        heapify(arr, i, 0) # apply heapify on the root  (array size decreased to i)\n",
    "        print(arr)\n",
    "        \n",
    "arr=[90,80,70,10,30,50,20]\n",
    "heap_sort(arr)"
   ]
  },
  {
   "cell_type": "code",
   "execution_count": null,
   "metadata": {},
   "outputs": [],
   "source": []
  }
 ],
 "metadata": {
  "kernelspec": {
   "display_name": "Python 3",
   "language": "python",
   "name": "python3"
  },
  "language_info": {
   "codemirror_mode": {
    "name": "ipython",
    "version": 3
   },
   "file_extension": ".py",
   "mimetype": "text/x-python",
   "name": "python",
   "nbconvert_exporter": "python",
   "pygments_lexer": "ipython3",
   "version": "3.7.3"
  }
 },
 "nbformat": 4,
 "nbformat_minor": 2
}
