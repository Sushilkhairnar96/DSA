{
 "cells": [
  {
   "cell_type": "code",
   "execution_count": 5,
   "metadata": {},
   "outputs": [
    {
     "data": {
      "text/plain": [
       "13"
      ]
     },
     "execution_count": 5,
     "metadata": {},
     "output_type": "execute_result"
    }
   ],
   "source": [
    "x=\"13\"\n",
    "ans=0\n",
    "for num in x:\n",
    "    ans = 10*ans + (ord(num) - ord('0'))\n",
    "ans"
   ]
  },
  {
   "cell_type": "code",
   "execution_count": 1,
   "metadata": {},
   "outputs": [],
   "source": [
    "num=123\n"
   ]
  },
  {
   "cell_type": "code",
   "execution_count": 2,
   "metadata": {},
   "outputs": [
    {
     "data": {
      "text/plain": [
       "(12, 3)"
      ]
     },
     "execution_count": 2,
     "metadata": {},
     "output_type": "execute_result"
    }
   ],
   "source": [
    "divmod(123, 10)"
   ]
  },
  {
   "cell_type": "code",
   "execution_count": 3,
   "metadata": {},
   "outputs": [
    {
     "data": {
      "text/plain": [
       "'defe'"
      ]
     },
     "execution_count": 3,
     "metadata": {},
     "output_type": "execute_result"
    }
   ],
   "source": [
    "x=\"abcdefe\"\n",
    "word=\"abc\"\n",
    "ind = x.find(word)\n",
    "x = x[ind+len(word):]\n",
    "x"
   ]
  },
  {
   "cell_type": "code",
   "execution_count": 4,
   "metadata": {},
   "outputs": [
    {
     "data": {
      "text/plain": [
       "False"
      ]
     },
     "execution_count": 4,
     "metadata": {},
     "output_type": "execute_result"
    }
   ],
   "source": [
    "x = [\"cats\", \"dog\", \"sand\", \"and\", \"cat\"]\n",
    "\"andog\" in x"
   ]
  },
  {
   "cell_type": "code",
   "execution_count": 5,
   "metadata": {},
   "outputs": [
    {
     "data": {
      "text/plain": [
       "(1, 2)"
      ]
     },
     "execution_count": 5,
     "metadata": {},
     "output_type": "execute_result"
    }
   ],
   "source": [
    "divmod(12,10)"
   ]
  },
  {
   "cell_type": "code",
   "execution_count": 6,
   "metadata": {},
   "outputs": [
    {
     "data": {
      "text/plain": [
       "[2, -1, 2]"
      ]
     },
     "execution_count": 6,
     "metadata": {},
     "output_type": "execute_result"
    }
   ],
   "source": [
    "nums=[1,2,1]\n",
    "ans=[-1]*len(nums)\n",
    "stack=[]\n",
    "for i,v in enumerate(nums):\n",
    "    while stack and v>stack[-1][1]:\n",
    "        ind,val=stack.pop()\n",
    "        ans[ind]=v\n",
    "    stack.append([i,v])\n",
    "\n",
    "for i,v in enumerate(nums):\n",
    "    while stack and v>stack[-1][1]:\n",
    "        ind,val=stack.pop()\n",
    "        ans[ind]=v\n",
    "ans"
   ]
  },
  {
   "cell_type": "code",
   "execution_count": 7,
   "metadata": {},
   "outputs": [
    {
     "name": "stdout",
     "output_type": "stream",
     "text": [
      "0\n",
      "a_pattern dog_pattern\n",
      "{'a_pattern': 0, 'dog_pattern': 0}\n",
      "1\n",
      "b_pattern cat_pattern\n",
      "{'a_pattern': 0, 'dog_pattern': 0, 'b_pattern': 1, 'cat_pattern': 1}\n",
      "2\n",
      "b_pattern cat_pattern\n",
      "{'a_pattern': 0, 'dog_pattern': 0, 'b_pattern': 2, 'cat_pattern': 2}\n",
      "3\n",
      "a_pattern dog_pattern\n",
      "{'a_pattern': 3, 'dog_pattern': 3, 'b_pattern': 2, 'cat_pattern': 2}\n"
     ]
    },
    {
     "data": {
      "text/plain": [
       "True"
      ]
     },
     "execution_count": 7,
     "metadata": {},
     "output_type": "execute_result"
    }
   ],
   "source": [
    "def wordPattern(pattern,s) -> bool:\n",
    "    s = s.split(\" \")\n",
    "    if len(s)!=len(pattern): return False\n",
    "    dic={}\n",
    "    for i in range(len(s)):\n",
    "        print(i)\n",
    "        word_pattern =f'{pattern[i]}_pattern'\n",
    "        str_pattern = f'{s[i]}_pattern'\n",
    "        print(word_pattern,str_pattern)\n",
    "        if word_pattern in dic or str_pattern in dic:\n",
    "            if dic[word_pattern]!=dic[str_pattern]:\n",
    "                return False\n",
    "        dic[word_pattern]=i\n",
    "        dic[str_pattern]=i\n",
    "        print(dic)\n",
    "    return True\n",
    "pattern = \"abba\"; s = \"dog cat cat dog\"\n",
    "wordPattern(pattern,s)"
   ]
  },
  {
   "cell_type": "code",
   "execution_count": 1,
   "metadata": {},
   "outputs": [
    {
     "data": {
      "text/plain": [
       "42"
      ]
     },
     "execution_count": 1,
     "metadata": {},
     "output_type": "execute_result"
    }
   ],
   "source": [
    "nums=[6,3,1,4,7,5]\n",
    "first,second=0,0\n",
    "for i in range(len(nums)):\n",
    "    if nums[i]> first:\n",
    "        first,second = nums[i],first\n",
    "    elif nums[i]>second:\n",
    "        second = nums[i]\n",
    "first*second"
   ]
  },
  {
   "cell_type": "code",
   "execution_count": 23,
   "metadata": {},
   "outputs": [
    {
     "data": {
      "text/plain": [
       "[['f', 'f', 'f'], ['l', 'l', 'l'], ['o', 'o', 'i'], ['w', 'w', 'g']]"
      ]
     },
     "execution_count": 23,
     "metadata": {},
     "output_type": "execute_result"
    }
   ],
   "source": [
    "strs = [\"flower\",\"flow\",\"flight\"]\n",
    "leng = len(min(strs,key=len))\n",
    "\n",
    "[[word[i] for word in strs] for i in range(4)]"
   ]
  },
  {
   "cell_type": "code",
   "execution_count": 40,
   "metadata": {},
   "outputs": [],
   "source": [
    "x= set()\n",
    "x.add((-1,0,1))"
   ]
  },
  {
   "cell_type": "code",
   "execution_count": 44,
   "metadata": {},
   "outputs": [
    {
     "data": {
      "text/plain": [
       "{(-1, 0, 1), (0, 1, -1), (0, 1, 1)}"
      ]
     },
     "execution_count": 44,
     "metadata": {},
     "output_type": "execute_result"
    }
   ],
   "source": [
    "x.add((0,1,1))\n",
    "x.add((0,1,-1))\n",
    "x"
   ]
  },
  {
   "cell_type": "code",
   "execution_count": 48,
   "metadata": {},
   "outputs": [
    {
     "data": {
      "text/plain": [
       "[[1, 2], [1, 3]]"
      ]
     },
     "execution_count": 48,
     "metadata": {},
     "output_type": "execute_result"
    }
   ],
   "source": [
    "x=[]\n",
    "x.append([1,2])\n",
    "x.append([1,3])\n",
    "x"
   ]
  },
  {
   "cell_type": "code",
   "execution_count": 86,
   "metadata": {},
   "outputs": [],
   "source": [
    "matrix=[[1,2,3],[4,5,6],[7,8,9]]"
   ]
  },
  {
   "cell_type": "code",
   "execution_count": 87,
   "metadata": {},
   "outputs": [
    {
     "data": {
      "text/plain": [
       "[[0, 0, 0], [0, 0, 0], [0, 0, 0]]"
      ]
     },
     "execution_count": 87,
     "metadata": {},
     "output_type": "execute_result"
    }
   ],
   "source": [
    "[[0 for j in range(len(matrix[0]))] for i in range(len(matrix))]"
   ]
  },
  {
   "cell_type": "code",
   "execution_count": 23,
   "metadata": {},
   "outputs": [
    {
     "data": {
      "text/plain": [
       "True"
      ]
     },
     "execution_count": 23,
     "metadata": {},
     "output_type": "execute_result"
    }
   ],
   "source": [
    "def searchMatrix(matrix, target):\n",
    "    if not matrix or target is None:\n",
    "        return False\n",
    "    m=len(matrix)\n",
    "    n=len(matrix[0])\n",
    "    l=0;r=m*n-1\n",
    "    while l<=r:\n",
    "        mid=(l+r)//2\n",
    "        num = matrix[mid//n][mid%n]\n",
    "        print(num)\n",
    "        if num==target:\n",
    "            return True\n",
    "        elif num < target:\n",
    "            l = mid+1\n",
    "        else:\n",
    "            r=mid -1\n",
    "    return False\n",
    "matrix=[[1,2,3],[4,5,6],[7,8,9]];target=1\n",
    "searchMatrix(matrix, target)"
   ]
  },
  {
   "cell_type": "code",
   "execution_count": 51,
   "metadata": {},
   "outputs": [
    {
     "name": "stdout",
     "output_type": "stream",
     "text": [
      "[[1, 2, 3, 4, 5], [6, 7, 8, 9, 10], [11, 12, 13, 14, 15], [16, 17, 18, 19, 20]]\n",
      "1 0 0 0\n",
      "2 1 0 1\n",
      "3 2 0 2\n",
      "4 3 0 3\n",
      "5 4 0 4\n",
      "6 5 1 0\n",
      "7 6 1 1\n",
      "8 7 1 2\n",
      "9 8 1 3\n",
      "10 9 1 4\n",
      "11 10 2 0\n",
      "12 11 2 1\n",
      "13 12 2 2\n",
      "14 13 2 3\n",
      "15 14 2 4\n",
      "16 15 3 0\n",
      "17 16 3 1\n",
      "18 17 3 2\n",
      "19 18 3 3\n",
      "20 19 3 4\n"
     ]
    }
   ],
   "source": [
    "matrix=[[1,2,3,4,5],[6,7,8,9,10],[11,12,13,14,15],[16,17,18,19,20]]\n",
    "print(matrix)\n",
    "m=len(matrix)\n",
    "n=len(matrix[0])\n",
    "l=0;r=m*n-1\n",
    "for mid in range(m*n):\n",
    "    print(matrix[mid//n][mid%n], mid, mid//n, mid%n)"
   ]
  },
  {
   "cell_type": "code",
   "execution_count": 25,
   "metadata": {},
   "outputs": [
    {
     "data": {
      "text/plain": [
       "[[1, 4], [2, 5], [3, 6]]"
      ]
     },
     "execution_count": 25,
     "metadata": {},
     "output_type": "execute_result"
    }
   ],
   "source": [
    "matrix=[[1,2,3],[4,5,6]]\n",
    "m = len(matrix)\n",
    "n = len(matrix[0])\n",
    "\n",
    "[[matrix[i][j] for i in range(m)] for j in range(n)]"
   ]
  },
  {
   "cell_type": "code",
   "execution_count": 34,
   "metadata": {},
   "outputs": [
    {
     "data": {
      "text/plain": [
       "[1, 2, 3, 4, 5, 6]"
      ]
     },
     "execution_count": 34,
     "metadata": {},
     "output_type": "execute_result"
    }
   ],
   "source": [
    "matrix=[[1,2,3],[4,5,6]]\n",
    "m = len(matrix)\n",
    "n = len(matrix[0])\n",
    "[matrix[i][j] for i in range(m) for j in range(n)]"
   ]
  },
  {
   "cell_type": "code",
   "execution_count": 62,
   "metadata": {
    "scrolled": true
   },
   "outputs": [
    {
     "name": "stdout",
     "output_type": "stream",
     "text": [
      "0 4\n"
     ]
    },
    {
     "data": {
      "text/plain": [
       "2"
      ]
     },
     "execution_count": 62,
     "metadata": {},
     "output_type": "execute_result"
    }
   ],
   "source": [
    "def binary_search(nums,l,r,target):\n",
    "    print(l,r)\n",
    "    if l<=r:\n",
    "        mid=(l+r)//2\n",
    "        if nums[mid]==target:\n",
    "            return mid\n",
    "        elif nums[mid]<target:\n",
    "            return binary_search(nums,mid+1,r,target)\n",
    "        else:\n",
    "            return binary_search(nums,l,mid-1,target)\n",
    "    return -1\n",
    "nums=[3,4,6,8,9]\n",
    "l,r=0,len(nums)-1\n",
    "target=6\n",
    "binary_search(nums,l,r,target)"
   ]
  },
  {
   "cell_type": "code",
   "execution_count": 68,
   "metadata": {},
   "outputs": [
    {
     "data": {
      "text/plain": [
       "22"
      ]
     },
     "execution_count": 68,
     "metadata": {},
     "output_type": "execute_result"
    }
   ],
   "source": [
    "def add(nums,n):\n",
    "    if n<0:return 0\n",
    "    return nums[n] + add(nums,n-1)\n",
    "\n",
    "nums=[4,5,5,4,2,2]\n",
    "add(nums,len(nums)-1)"
   ]
  },
  {
   "cell_type": "code",
   "execution_count": 75,
   "metadata": {},
   "outputs": [
    {
     "data": {
      "text/plain": [
       "False"
      ]
     },
     "execution_count": 75,
     "metadata": {},
     "output_type": "execute_result"
    }
   ],
   "source": [
    "def ispalindrome(s,l,r):\n",
    "    if l>r: return True\n",
    "    if s[l]==s[r]:\n",
    "        return ispalindrome(s,l+1,r-1)\n",
    "    else:\n",
    "        return False\n",
    "s=\"sushil\"\n",
    "ispalindrome(s,0,len(s)-1)   "
   ]
  },
  {
   "cell_type": "code",
   "execution_count": 79,
   "metadata": {},
   "outputs": [
    {
     "data": {
      "text/plain": [
       "8"
      ]
     },
     "execution_count": 79,
     "metadata": {},
     "output_type": "execute_result"
    }
   ],
   "source": [
    "#Fibonacci - 0,1,1,2,3,5,8,13,21,34,55\n",
    "def fibonacci(n):\n",
    "    if n<=1 : return n\n",
    "    return fibonacci(n-1)+fibonacci(n-2)\n",
    "\n",
    "fibonacci(6)"
   ]
  },
  {
   "cell_type": "code",
   "execution_count": 81,
   "metadata": {},
   "outputs": [
    {
     "data": {
      "text/plain": [
       "720"
      ]
     },
     "execution_count": 81,
     "metadata": {},
     "output_type": "execute_result"
    }
   ],
   "source": [
    "#factorial\n",
    "def fact(n):\n",
    "    if n<=1 : return 1\n",
    "    return n*fact(n-1)\n",
    "fact(6)"
   ]
  },
  {
   "cell_type": "code",
   "execution_count": 87,
   "metadata": {},
   "outputs": [
    {
     "data": {
      "text/plain": [
       "'edcba'"
      ]
     },
     "execution_count": 87,
     "metadata": {},
     "output_type": "execute_result"
    }
   ],
   "source": [
    "def reverse(s,l,r):\n",
    "    if l>r: return ''.join(s)\n",
    "    s[l],s[r]=s[r],s[l]\n",
    "    return reverse(s,l+1,r-1)\n",
    "s=\"abcde\"\n",
    "reverse(list(s),0,len(s)-1)"
   ]
  },
  {
   "cell_type": "code",
   "execution_count": 26,
   "metadata": {},
   "outputs": [
    {
     "data": {
      "text/plain": [
       "{1: 4, -1: 6, 2: 6, 4: 6, 5: 8, 6: 8}"
      ]
     },
     "execution_count": 26,
     "metadata": {},
     "output_type": "execute_result"
    }
   ],
   "source": [
    "nums=[1,4,2,-1,6,5,8]\n",
    "stack=[]\n",
    "dic={}\n",
    "for ind,num in enumerate(nums):\n",
    "    while stack and num>stack[-1]:\n",
    "        dic[stack.pop()]=num\n",
    "    stack.append(num)\n",
    "dic"
   ]
  },
  {
   "cell_type": "code",
   "execution_count": 27,
   "metadata": {},
   "outputs": [
    {
     "data": {
      "text/plain": [
       "[4, 6, 6, 6, 8, 8, -1]"
      ]
     },
     "execution_count": 27,
     "metadata": {},
     "output_type": "execute_result"
    }
   ],
   "source": [
    "nums=[1,4,2,-1,6,5,8]\n",
    "stack=[]\n",
    "ans=[-1]*len(nums)\n",
    "for ind,num in enumerate(nums):\n",
    "    while stack and num>stack[-1][1]:\n",
    "        old_ind,old_num=stack.pop()\n",
    "        ans[old_ind]=num\n",
    "    stack.append((ind,num))\n",
    "ans"
   ]
  },
  {
   "cell_type": "code",
   "execution_count": 42,
   "metadata": {},
   "outputs": [
    {
     "name": "stdout",
     "output_type": "stream",
     "text": [
      "[3] [34]\n",
      "[3, 34]\n",
      "[9] [5]\n",
      "[5, 9]\n",
      "[30] [5, 9]\n",
      "[5, 9, 30]\n",
      "[3, 34] [5, 9, 30]\n",
      "[3, 5, 9, 30, 34]\n"
     ]
    },
    {
     "data": {
      "text/plain": [
       "[3, 5, 9, 30, 34]"
      ]
     },
     "execution_count": 42,
     "metadata": {},
     "output_type": "execute_result"
    }
   ],
   "source": []
  },
  {
   "cell_type": "code",
   "execution_count": 62,
   "metadata": {},
   "outputs": [
    {
     "data": {
      "text/plain": [
       "[[1, 4, 7], [2, 5, 8], [3, 6, 9]]"
      ]
     },
     "execution_count": 62,
     "metadata": {},
     "output_type": "execute_result"
    }
   ],
   "source": [
    "mat = [[1,2,3],[4,5,6],[7,8,9]]\n",
    "row = [row for row in mat]\n",
    "col = [[row[i] for row in mat] for i in range(len(mat[0]))]\n",
    "col"
   ]
  },
  {
   "cell_type": "code",
   "execution_count": 85,
   "metadata": {},
   "outputs": [],
   "source": [
    "s=\"    ab\"\n",
    "s= s.strip(\" \")"
   ]
  },
  {
   "cell_type": "code",
   "execution_count": 87,
   "metadata": {},
   "outputs": [
    {
     "data": {
      "text/plain": [
       "False"
      ]
     },
     "execution_count": 87,
     "metadata": {},
     "output_type": "execute_result"
    }
   ],
   "source": [
    "s[0].isdigit()"
   ]
  },
  {
   "cell_type": "code",
   "execution_count": 96,
   "metadata": {},
   "outputs": [],
   "source": [
    "x = list(\"abc\")"
   ]
  },
  {
   "cell_type": "code",
   "execution_count": 98,
   "metadata": {},
   "outputs": [
    {
     "ename": "TypeError",
     "evalue": "'type' object is not iterable",
     "output_type": "error",
     "traceback": [
      "\u001b[0;31m---------------------------------------------------------------------------\u001b[0m",
      "\u001b[0;31mTypeError\u001b[0m                                 Traceback (most recent call last)",
      "\u001b[0;32m<ipython-input-98-13a13e6c0868>\u001b[0m in \u001b[0;36m<module>\u001b[0;34m\u001b[0m\n\u001b[0;32m----> 1\u001b[0;31m \u001b[0;34m''\u001b[0m\u001b[0;34m.\u001b[0m\u001b[0mjoin\u001b[0m\u001b[0;34m(\u001b[0m\u001b[0mmap\u001b[0m\u001b[0;34m(\u001b[0m\u001b[0mx\u001b[0m\u001b[0;34m,\u001b[0m\u001b[0mstr\u001b[0m\u001b[0;34m)\u001b[0m\u001b[0;34m)\u001b[0m\u001b[0;34m\u001b[0m\u001b[0;34m\u001b[0m\u001b[0m\n\u001b[0m",
      "\u001b[0;31mTypeError\u001b[0m: 'type' object is not iterable"
     ]
    }
   ],
   "source": [
    "''.join()"
   ]
  },
  {
   "cell_type": "code",
   "execution_count": 107,
   "metadata": {},
   "outputs": [
    {
     "data": {
      "text/plain": [
       "12"
      ]
     },
     "execution_count": 107,
     "metadata": {},
     "output_type": "execute_result"
    }
   ],
   "source": [
    "x= ['1','2']\n",
    "int(''.join(x))"
   ]
  },
  {
   "cell_type": "code",
   "execution_count": 9,
   "metadata": {},
   "outputs": [],
   "source": [
    "dic={'a':1,'b':2,'c':3}"
   ]
  },
  {
   "cell_type": "code",
   "execution_count": 10,
   "metadata": {},
   "outputs": [
    {
     "data": {
      "text/plain": [
       "1"
      ]
     },
     "execution_count": 10,
     "metadata": {},
     "output_type": "execute_result"
    }
   ],
   "source": [
    "dic.pop('a')"
   ]
  },
  {
   "cell_type": "code",
   "execution_count": 18,
   "metadata": {},
   "outputs": [
    {
     "data": {
      "text/plain": [
       "[[114, 160, 60, 27], [74, 97, 73, 14], [119, 157, 112, 23]]"
      ]
     },
     "execution_count": 18,
     "metadata": {},
     "output_type": "execute_result"
    }
   ],
   "source": [
    "A = [[12, 7, 3],\n",
    "    [4, 5, 6],\n",
    "    [7, 8, 9]]\n",
    "   \n",
    "B = [[5, 8, 1, 2],\n",
    "    [6, 7, 3, 0],\n",
    "    [4, 5, 9, 1]]\n",
    "\n",
    "\n",
    "res = [[0 for j in range(len(B[0]))] for i in range(len(A))]\n",
    "\n",
    "for i in range(len(A)):\n",
    "    for j in range(len(B[0])):\n",
    "        for k in range(len(B)):\n",
    "               res[i][j]+=A[i][k]*B[k][j]\n",
    "res"
   ]
  },
  {
   "cell_type": "code",
   "execution_count": 20,
   "metadata": {},
   "outputs": [
    {
     "name": "stdout",
     "output_type": "stream",
     "text": [
      "sq\n"
     ]
    },
    {
     "data": {
      "text/plain": [
       "True"
      ]
     },
     "execution_count": 20,
     "metadata": {},
     "output_type": "execute_result"
    }
   ],
   "source": [
    "s=\"SQ\"\n",
    "print(s.lower())\n",
    "s[0].isalnum()"
   ]
  },
  {
   "cell_type": "code",
   "execution_count": 30,
   "metadata": {},
   "outputs": [
    {
     "data": {
      "text/plain": [
       "{1}"
      ]
     },
     "execution_count": 30,
     "metadata": {},
     "output_type": "execute_result"
    }
   ],
   "source": [
    "x=set()\n",
    "x.add(1)\n",
    "x"
   ]
  },
  {
   "cell_type": "code",
   "execution_count": 44,
   "metadata": {},
   "outputs": [
    {
     "data": {
      "text/plain": [
       "['10', '546', '548', '60']"
      ]
     },
     "execution_count": 44,
     "metadata": {},
     "output_type": "execute_result"
    }
   ],
   "source": [
    "x= [10,546,548,60]\n",
    "num=map(str,x)\n",
    "list(num)"
   ]
  },
  {
   "cell_type": "code",
   "execution_count": 31,
   "metadata": {
    "scrolled": true
   },
   "outputs": [
    {
     "name": "stdout",
     "output_type": "stream",
     "text": [
      "[0, 0, 0, 0]\n",
      "[1, 0, 0, 0]\n",
      "[1, 0, 0, 0]\n",
      "[1, 0, 2, 0]\n"
     ]
    },
    {
     "data": {
      "text/plain": [
       "[1, 0, 2, 0]"
      ]
     },
     "execution_count": 31,
     "metadata": {},
     "output_type": "execute_result"
    }
   ],
   "source": [
    "nums=[3,1,4,2]\n",
    "s1,s2=[],[]\n",
    "left,right=[0]*len(nums),[1]*len(nums)\n",
    "for i,v in enumerate(nums):\n",
    "    while s1 and v < s1[-1][1]:\n",
    "        ind = s1.pop()[0]\n",
    "        left[ind]=v\n",
    "    \n",
    "    #print(left,ind,i)\n",
    "    s1.append((i,v))\n",
    "left"
   ]
  },
  {
   "cell_type": "code",
   "execution_count": 62,
   "metadata": {},
   "outputs": [
    {
     "data": {
      "text/plain": [
       "(5, 4, 3)"
      ]
     },
     "execution_count": 62,
     "metadata": {},
     "output_type": "execute_result"
    }
   ],
   "source": [
    "nums=[2,5,3,4,1]\n",
    "one=two=three=float('-inf')\n",
    "for num in nums:\n",
    "    if num>one:\n",
    "        one,two,three=num,one,two\n",
    "    elif num>two and num<one:\n",
    "        two,three=num,two\n",
    "    elif num>three and num<two:\n",
    "        three=num\n",
    "one,two,three        "
   ]
  },
  {
   "cell_type": "code",
   "execution_count": 70,
   "metadata": {},
   "outputs": [
    {
     "name": "stdout",
     "output_type": "stream",
     "text": [
      "[] 0\n",
      "[True] 1\n",
      "[True, False] 2\n",
      "[True, False, True] 3\n",
      "[False, False, False, False] 4\n"
     ]
    },
    {
     "data": {
      "text/plain": [
       "3"
      ]
     },
     "execution_count": 70,
     "metadata": {},
     "output_type": "execute_result"
    }
   ],
   "source": [
    "result = 0\n",
    "rating = [2,5,3,4,1]\n",
    "for idx, middle in enumerate(rating):\n",
    "    a = sum(left < middle for left in rating[:idx])\n",
    "    print([left < middle for left in rating[:idx]],idx)\n",
    "    b = sum(left > middle for left in rating[:idx])          \n",
    "    c = sum(right < middle for right in rating[idx+1:])\n",
    "    d = sum(right > middle for right in rating[idx+1:])\n",
    "    \n",
    "    result += a*d + b*c\n",
    "result"
   ]
  },
  {
   "cell_type": "code",
   "execution_count": 53,
   "metadata": {},
   "outputs": [
    {
     "data": {
      "text/plain": [
       "[1234, 2345, 3456]"
      ]
     },
     "execution_count": 53,
     "metadata": {},
     "output_type": "execute_result"
    }
   ],
   "source": [
    "ans=[]\n",
    "low=1000;high=4000\n",
    "for i in range(1,10):\n",
    "    num=next=i\n",
    "    while num<=high and next<10:\n",
    "        if num>=low: ans.append(num)\n",
    "        next+=1\n",
    "        num = 10*num + next\n",
    "ans"
   ]
  },
  {
   "cell_type": "code",
   "execution_count": 58,
   "metadata": {},
   "outputs": [
    {
     "data": {
      "text/plain": [
       "(1, 1)"
      ]
     },
     "execution_count": 58,
     "metadata": {},
     "output_type": "execute_result"
    }
   ],
   "source": [
    "X=98\n",
    "N=5\n",
    "divmod(7,6)"
   ]
  },
  {
   "cell_type": "code",
   "execution_count": 68,
   "metadata": {},
   "outputs": [],
   "source": [
    "x=[1,2,3,4,5]\n",
    "if any(x)==4: \n",
    "    print(\"s\")"
   ]
  },
  {
   "cell_type": "code",
   "execution_count": 71,
   "metadata": {},
   "outputs": [
    {
     "name": "stdout",
     "output_type": "stream",
     "text": [
      "6\n"
     ]
    }
   ],
   "source": [
    "x = round(5.8)\n",
    "print(x)"
   ]
  },
  {
   "cell_type": "code",
   "execution_count": 72,
   "metadata": {},
   "outputs": [
    {
     "name": "stdout",
     "output_type": "stream",
     "text": [
      "5\n"
     ]
    }
   ],
   "source": [
    "import math\n",
    "print(int(math.ceil(4.2)))"
   ]
  },
  {
   "cell_type": "code",
   "execution_count": 11,
   "metadata": {},
   "outputs": [
    {
     "data": {
      "text/plain": [
       "[0, 0, 0, 0, 0, 0, 0, 0, 0, 1, 1, 1, 1, 1, 1, 1, 1, 1]"
      ]
     },
     "execution_count": 11,
     "metadata": {},
     "output_type": "execute_result"
    }
   ],
   "source": []
  },
  {
   "cell_type": "code",
   "execution_count": null,
   "metadata": {},
   "outputs": [],
   "source": []
  },
  {
   "cell_type": "code",
   "execution_count": null,
   "metadata": {},
   "outputs": [],
   "source": []
  }
 ],
 "metadata": {
  "kernelspec": {
   "display_name": "Python 3",
   "language": "python",
   "name": "python3"
  },
  "language_info": {
   "codemirror_mode": {
    "name": "ipython",
    "version": 3
   },
   "file_extension": ".py",
   "mimetype": "text/x-python",
   "name": "python",
   "nbconvert_exporter": "python",
   "pygments_lexer": "ipython3",
   "version": "3.8.5"
  }
 },
 "nbformat": 4,
 "nbformat_minor": 4
}
