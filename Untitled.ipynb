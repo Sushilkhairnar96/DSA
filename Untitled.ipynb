{
 "cells": [
  {
   "cell_type": "code",
   "execution_count": 5,
   "metadata": {},
   "outputs": [
    {
     "data": {
      "text/plain": [
       "13"
      ]
     },
     "execution_count": 5,
     "metadata": {},
     "output_type": "execute_result"
    }
   ],
   "source": [
    "x=\"13\"\n",
    "ans=0\n",
    "for num in x:\n",
    "    ans = 10*ans + (ord(num) - ord('0'))\n",
    "ans"
   ]
  },
  {
   "cell_type": "code",
   "execution_count": 21,
   "metadata": {},
   "outputs": [
    {
     "data": {
      "text/plain": [
       "'123'"
      ]
     },
     "execution_count": 21,
     "metadata": {},
     "output_type": "execute_result"
    }
   ],
   "source": [
    "num=123\n"
   ]
  },
  {
   "cell_type": "code",
   "execution_count": 15,
   "metadata": {},
   "outputs": [
    {
     "data": {
      "text/plain": [
       "(12, 3)"
      ]
     },
     "execution_count": 15,
     "metadata": {},
     "output_type": "execute_result"
    }
   ],
   "source": [
    "divmod(123, 10)"
   ]
  },
  {
   "cell_type": "code",
   "execution_count": 1,
   "metadata": {},
   "outputs": [
    {
     "data": {
      "text/plain": [
       "'defe'"
      ]
     },
     "execution_count": 1,
     "metadata": {},
     "output_type": "execute_result"
    }
   ],
   "source": [
    "x=\"abcdefe\"\n",
    "word=\"abc\"\n",
    "ind = x.find(word)\n",
    "x = x[ind+len(word):]\n",
    "x"
   ]
  },
  {
   "cell_type": "code",
   "execution_count": 2,
   "metadata": {},
   "outputs": [
    {
     "data": {
      "text/plain": [
       "False"
      ]
     },
     "execution_count": 2,
     "metadata": {},
     "output_type": "execute_result"
    }
   ],
   "source": [
    "x = [\"cats\", \"dog\", \"sand\", \"and\", \"cat\"]\n",
    "\"andog\" in x"
   ]
  },
  {
   "cell_type": "code",
   "execution_count": 3,
   "metadata": {},
   "outputs": [
    {
     "data": {
      "text/plain": [
       "(1, 2)"
      ]
     },
     "execution_count": 3,
     "metadata": {},
     "output_type": "execute_result"
    }
   ],
   "source": [
    "divmod(12,10)"
   ]
  },
  {
   "cell_type": "code",
   "execution_count": 4,
   "metadata": {},
   "outputs": [
    {
     "data": {
      "text/plain": [
       "[2, -1, 2]"
      ]
     },
     "execution_count": 4,
     "metadata": {},
     "output_type": "execute_result"
    }
   ],
   "source": [
    "nums=[1,2,1]\n",
    "ans=[-1]*len(nums)\n",
    "stack=[]\n",
    "for i,v in enumerate(nums):\n",
    "    while stack and v>stack[-1][1]:\n",
    "        ind,val=stack.pop()\n",
    "        ans[ind]=v\n",
    "    stack.append([i,v])\n",
    "\n",
    "for i,v in enumerate(nums):\n",
    "    while stack and v>stack[-1][1]:\n",
    "        ind,val=stack.pop()\n",
    "        ans[ind]=v\n",
    "ans"
   ]
  },
  {
   "cell_type": "code",
   "execution_count": 5,
   "metadata": {},
   "outputs": [
    {
     "name": "stdout",
     "output_type": "stream",
     "text": [
      "0\n",
      "a_pattern dog_pattern\n",
      "{'a_pattern': 0, 'dog_pattern': 0}\n",
      "1\n",
      "b_pattern cat_pattern\n",
      "{'a_pattern': 0, 'dog_pattern': 0, 'b_pattern': 1, 'cat_pattern': 1}\n",
      "2\n",
      "b_pattern cat_pattern\n",
      "{'a_pattern': 0, 'dog_pattern': 0, 'b_pattern': 2, 'cat_pattern': 2}\n",
      "3\n",
      "a_pattern dog_pattern\n",
      "{'a_pattern': 3, 'dog_pattern': 3, 'b_pattern': 2, 'cat_pattern': 2}\n"
     ]
    },
    {
     "data": {
      "text/plain": [
       "True"
      ]
     },
     "execution_count": 5,
     "metadata": {},
     "output_type": "execute_result"
    }
   ],
   "source": [
    "def wordPattern(pattern,s) -> bool:\n",
    "    s = s.split(\" \")\n",
    "    if len(s)!=len(pattern): return False\n",
    "    dic={}\n",
    "    for i in range(len(s)):\n",
    "        print(i)\n",
    "        word_pattern =f'{pattern[i]}_pattern'\n",
    "        str_pattern = f'{s[i]}_pattern'\n",
    "        print(word_pattern,str_pattern)\n",
    "        if word_pattern in dic or str_pattern in dic:\n",
    "            if dic[word_pattern]!=dic[str_pattern]:\n",
    "                return False\n",
    "        dic[word_pattern]=i\n",
    "        dic[str_pattern]=i\n",
    "        print(dic)\n",
    "    return True\n",
    "pattern = \"abba\"; s = \"dog cat cat dog\"\n",
    "wordPattern(pattern,s)"
   ]
  },
  {
   "cell_type": "code",
   "execution_count": 1,
   "metadata": {},
   "outputs": [
    {
     "data": {
      "text/plain": [
       "42"
      ]
     },
     "execution_count": 1,
     "metadata": {},
     "output_type": "execute_result"
    }
   ],
   "source": [
    "nums=[6,3,1,4,7,5]\n",
    "first,second=0,0\n",
    "for i in range(len(nums)):\n",
    "    if nums[i]> first:\n",
    "        first,second = nums[i],first\n",
    "    elif nums[i]>second:\n",
    "        second = nums[i]\n",
    "first*second"
   ]
  },
  {
   "cell_type": "code",
   "execution_count": 23,
   "metadata": {},
   "outputs": [
    {
     "data": {
      "text/plain": [
       "[['f', 'f', 'f'], ['l', 'l', 'l'], ['o', 'o', 'i'], ['w', 'w', 'g']]"
      ]
     },
     "execution_count": 23,
     "metadata": {},
     "output_type": "execute_result"
    }
   ],
   "source": [
    "strs = [\"flower\",\"flow\",\"flight\"]\n",
    "leng = len(min(strs,key=len))\n",
    "\n",
    "[[word[i] for word in strs] for i in range(4)]"
   ]
  },
  {
   "cell_type": "code",
   "execution_count": 40,
   "metadata": {},
   "outputs": [],
   "source": [
    "x= set()\n",
    "x.add((-1,0,1))"
   ]
  },
  {
   "cell_type": "code",
   "execution_count": 44,
   "metadata": {},
   "outputs": [
    {
     "data": {
      "text/plain": [
       "{(-1, 0, 1), (0, 1, -1), (0, 1, 1)}"
      ]
     },
     "execution_count": 44,
     "metadata": {},
     "output_type": "execute_result"
    }
   ],
   "source": [
    "x.add((0,1,1))\n",
    "x.add((0,1,-1))\n",
    "x"
   ]
  },
  {
   "cell_type": "code",
   "execution_count": 48,
   "metadata": {},
   "outputs": [
    {
     "data": {
      "text/plain": [
       "[[1, 2], [1, 3]]"
      ]
     },
     "execution_count": 48,
     "metadata": {},
     "output_type": "execute_result"
    }
   ],
   "source": [
    "x=[]\n",
    "x.append([1,2])\n",
    "x.append([1,3])\n",
    "x"
   ]
  },
  {
   "cell_type": "code",
   "execution_count": 86,
   "metadata": {},
   "outputs": [],
   "source": [
    "matrix=[[1,2,3],[4,5,6],[7,8,9]]"
   ]
  },
  {
   "cell_type": "code",
   "execution_count": 87,
   "metadata": {},
   "outputs": [
    {
     "data": {
      "text/plain": [
       "[[0, 0, 0], [0, 0, 0], [0, 0, 0]]"
      ]
     },
     "execution_count": 87,
     "metadata": {},
     "output_type": "execute_result"
    }
   ],
   "source": [
    "[[0 for j in range(len(matrix[0]))] for i in range(len(matrix))]"
   ]
  },
  {
   "cell_type": "code",
   "execution_count": null,
   "metadata": {},
   "outputs": [],
   "source": []
  }
 ],
 "metadata": {
  "kernelspec": {
   "display_name": "Python 3",
   "language": "python",
   "name": "python3"
  },
  "language_info": {
   "codemirror_mode": {
    "name": "ipython",
    "version": 3
   },
   "file_extension": ".py",
   "mimetype": "text/x-python",
   "name": "python",
   "nbconvert_exporter": "python",
   "pygments_lexer": "ipython3",
   "version": "3.8.5"
  }
 },
 "nbformat": 4,
 "nbformat_minor": 4
}
